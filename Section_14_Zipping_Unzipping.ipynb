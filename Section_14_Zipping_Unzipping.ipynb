{
  "nbformat": 4,
  "nbformat_minor": 0,
  "metadata": {
    "colab": {
      "provenance": [],
      "authorship_tag": "ABX9TyM0CJ1Ma3WpIds8z33i9wik",
      "include_colab_link": true
    },
    "kernelspec": {
      "name": "python3",
      "display_name": "Python 3"
    },
    "language_info": {
      "name": "python"
    }
  },
  "cells": [
    {
      "cell_type": "markdown",
      "metadata": {
        "id": "view-in-github",
        "colab_type": "text"
      },
      "source": [
        "<a href=\"https://colab.research.google.com/github/niladribanerjee80/python-udemy-jose/blob/main/Section_14_Zipping_Unzipping.ipynb\" target=\"_parent\"><img src=\"https://colab.research.google.com/assets/colab-badge.svg\" alt=\"Open In Colab\"/></a>"
      ]
    },
    {
      "cell_type": "code",
      "execution_count": 1,
      "metadata": {
        "id": "mHhbZLfUJwQX"
      },
      "outputs": [],
      "source": [
        "# Create the files\n",
        "f = open(\"file1.txt\",\"w+\")\n",
        "f.write(\"ONE FILE\")\n",
        "f.close()\n",
        "\n",
        "f = open(\"file2.txt\",\"w+\")\n",
        "f.write(\"TWO FILE\")\n",
        "f.close()\n",
        "\n",
        "f = open(\"file3.txt\",\"w+\")\n",
        "f.write(\"THREE FILE\")\n",
        "f.close()"
      ]
    },
    {
      "cell_type": "code",
      "source": [
        "# zip the files\n",
        "import zipfile\n",
        "\n",
        "# first create the zip file\n",
        "comp_file = zipfile.ZipFile(\"comp_file.zip\",\"w\")\n",
        "\n",
        "# write to zipped file\n",
        "comp_file.write(\"file1.txt\",compress_type=zipfile.ZIP_DEFLATED)\n",
        "comp_file.write(\"file2.txt\",compress_type=zipfile.ZIP_DEFLATED)\n",
        "comp_file.write(\"file3.txt\",compress_type=zipfile.ZIP_DEFLATED)\n",
        "\n",
        "# close the compressed file\n",
        "comp_file.close()"
      ],
      "metadata": {
        "id": "sSyqHPmUxQx8"
      },
      "execution_count": 3,
      "outputs": []
    },
    {
      "cell_type": "code",
      "source": [
        "# delete file1.txt in colab\n",
        "import os\n",
        "os.unlink(\"file1.txt\")\n",
        "os.unlink(\"file2.txt\")\n",
        "os.unlink(\"file3.txt\")"
      ],
      "metadata": {
        "id": "baQ290J-yRkY"
      },
      "execution_count": 4,
      "outputs": []
    },
    {
      "cell_type": "code",
      "source": [
        "# how to extract the compressed file\n",
        "zip_obj = zipfile.ZipFile(\"comp_file.zip\",\"r\")\n",
        "zip_obj.extractall(\"extracted_content\")\n",
        "\n",
        "# individual file can be extracted using zip_obj.extract(filename)"
      ],
      "metadata": {
        "id": "5R8A6Cklx08O"
      },
      "execution_count": 5,
      "outputs": []
    },
    {
      "cell_type": "code",
      "source": [
        "# Archive the entire folder\n",
        "import shutil\n",
        "\n",
        "# entire directory to zip\n",
        "# note\n",
        "# 1. extracted_content = folder is fine in colab, but it requires an absolute path otherwise\n",
        "# 2. output file name = folder is fine in colab, but it requires an absolute path otherwise\n",
        "shutil.make_archive(\"my_folder\",\"zip\",\"extracted_content\")"
      ],
      "metadata": {
        "colab": {
          "base_uri": "https://localhost:8080/",
          "height": 36
        },
        "id": "iaW_YONgyKWw",
        "outputId": "9ea8ff84-33be-454f-88dd-75787c3caf20"
      },
      "execution_count": 6,
      "outputs": [
        {
          "output_type": "execute_result",
          "data": {
            "text/plain": [
              "'/content/my_folder.zip'"
            ],
            "application/vnd.google.colaboratory.intrinsic+json": {
              "type": "string"
            }
          },
          "metadata": {},
          "execution_count": 6
        }
      ]
    },
    {
      "cell_type": "code",
      "source": [
        "# unzip using shell utility\n",
        "shutil.unpack_archive(\"my_folder.zip\",\"final_unzip\",\"zip\")"
      ],
      "metadata": {
        "id": "scjsrzgDzjAV"
      },
      "execution_count": 7,
      "outputs": []
    },
    {
      "cell_type": "code",
      "source": [],
      "metadata": {
        "id": "SPiCjQMhz7iU"
      },
      "execution_count": null,
      "outputs": []
    }
  ]
}