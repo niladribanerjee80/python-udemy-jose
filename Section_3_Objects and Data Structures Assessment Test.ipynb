{
  "cells": [
    {
      "cell_type": "markdown",
      "metadata": {
        "id": "view-in-github",
        "colab_type": "text"
      },
      "source": [
        "<a href=\"https://colab.research.google.com/github/niladribanerjee80/python-udemy-jose/blob/main/Section_3_Objects%20and%20Data%20Structures%20Assessment%20Test.ipynb\" target=\"_parent\"><img src=\"https://colab.research.google.com/assets/colab-badge.svg\" alt=\"Open In Colab\"/></a>"
      ]
    },
    {
      "cell_type": "markdown",
      "metadata": {
        "id": "8PYsZ2b6G_Rs"
      },
      "source": [
        "___\n",
        "\n",
        "<a href='https://www.udemy.com/user/joseportilla/'><img src='https://github.com/niladribanerjee80/python-udemy-jose/blob/Pierian_Data_Logo.png?raw=1'/></a>\n",
        "___\n",
        "<center><em>Content Copyright by Pierian Data</em></center>\n",
        "# Objects and Data Structures Assessment Test"
      ]
    },
    {
      "cell_type": "markdown",
      "metadata": {
        "collapsed": true,
        "id": "_ijurJSBG_Rt"
      },
      "source": [
        "## Test your knowledge.\n",
        "\n",
        "** Answer the following questions **"
      ]
    },
    {
      "cell_type": "markdown",
      "metadata": {
        "collapsed": true,
        "id": "6B08LUVdG_Rt"
      },
      "source": [
        "Write (or just say out loud to yourself) a brief description of all the following Object Types and Data Structures we've learned about. You can edit the cell below by double clicking on it. Really this is just to test if you know the difference between these, so feel free to just think about it, since your answers are self-graded."
      ]
    },
    {
      "cell_type": "markdown",
      "metadata": {
        "id": "f3iPhgzBG_Ru"
      },
      "source": [
        "Double Click HERE to edit this markdown cell and write answers.\n",
        "\n",
        "**Numbers**: Represents a quantity\n",
        "\n",
        "Number systems\n",
        "* Decimal (base = 10)\n",
        "* Binary (base = 2)\n",
        "* Octal (base = 8)\n",
        "* Hexadecimal (base = 16)\n",
        "\n",
        "*Number system architecture*\n",
        "\n",
        "Real Number\n",
        "* with decimal\n",
        "  * terminating (1.12)\n",
        "  * non-terminating\n",
        "    * repeating (1.121212121212 ...)\n",
        "    * non-repeating - π , e etc. Irrationals\n",
        "\n",
        "* without decimal\n",
        "  * Integers\n",
        "    * -ve int\n",
        "    * 0\n",
        "    * +ve int\n",
        "\n",
        "Strings: Ordered sequence of characters. Strings are not mutable.\n",
        "\n",
        "**Lists**: Ordered sequence of items that can hold variety of objects. Lists are mutable.\\\n",
        "e.g. = my_list = [1,\"string\",100.25]\n",
        "\n",
        "**Tuples**: Ordered sequence of items that can hold variety of objects similar to lists but tuples are not mutable. \\\n",
        "e.g. = my_tuple = (1,2,'string')\n",
        "\n",
        "**Dictionaries**:\n",
        "\n",
        "A dictionary in Python is an unordered collection of key-value pairs. It's a versatile data structure used to store and retrieve data using unique keys.\n",
        "\n",
        "But after Python 3.7 dictionaries have order. Now sorted() can be used in dictionaries\n",
        "\n",
        "**Key Characteristics**:\n",
        "\n",
        "* Unordered: Elements have no inherent order up to 3.7. Now it is available\n",
        "* Mutable: You can add, remove, or modify key-value pairs after creation.\n",
        "* Keys must be unique: Duplicate keys are not allowed.\n",
        "* Keys must be immutable: You can use data types like numbers, strings, or tuples as keys, but not lists or other dictionaries.\n",
        "\n",
        "| Data Type | Indexed | Sliced | Sorted | Mutable | Ordered | Iterable | Hashable |\n",
        "|---|---|---|---|---|---|---|---|\n",
        "| Numbers | No | No | No | No | No | No | Yes |\n",
        "| String | Yes | Yes | Yes | No | Yes | Yes | Yes |\n",
        "| List | Yes | Yes | Yes | Yes | Yes | Yes | No |\n",
        "| Tuple | Yes | Yes | Yes | No | Yes | Yes | Yes (if all elements are hashable) |\n",
        "| Dictionary | Yes (by keys) | No | No | Yes | No (before Python 3.7) | Yes (keys are iterable) | No |\n",
        "| Set | No | No | No | Yes | No | Yes | No |\n"
      ]
    },
    {
      "cell_type": "markdown",
      "metadata": {
        "id": "VSOhiWi0G_Ru"
      },
      "source": [
        "## Numbers\n",
        "\n",
        "Write an equation that uses multiplication, division, an exponent, addition, and subtraction that is equal to 100.25.\n",
        "\n",
        "Hint: This is just to test your memory of the basic arithmetic commands, work backwards from 100.25"
      ]
    },
    {
      "cell_type": "code",
      "execution_count": null,
      "metadata": {
        "collapsed": true,
        "id": "OayE8x2PG_Ru",
        "outputId": "b6b03ea9-3eda-4c66-ec21-66969a5d3843",
        "colab": {
          "base_uri": "https://localhost:8080/"
        }
      },
      "outputs": [
        {
          "output_type": "execute_result",
          "data": {
            "text/plain": [
              "100.25"
            ]
          },
          "metadata": {},
          "execution_count": 2
        }
      ],
      "source": [
        "(10**3 / 10) + 20 - 20 + (0.5 * 0.5)"
      ]
    },
    {
      "cell_type": "markdown",
      "metadata": {
        "id": "TgrtmPhaG_Ru"
      },
      "source": [
        "Answer these 3 questions without typing code. Then type code to check your answer.\n",
        "\n",
        "    What is the value of the expression 4 * (6 + 5) = 44\n",
        "    \n",
        "    What is the value of the expression 4 * 6 + 5 = 29\n",
        "    \n",
        "    What is the value of the expression 4 + 6 * 5 = 34"
      ]
    },
    {
      "cell_type": "markdown",
      "metadata": {
        "id": "P-5hJ4oiG_Ru"
      },
      "source": [
        "What is the *type* of the result of the expression 3 + 1.5 + 4?<br><br>\n",
        "= 8.5"
      ]
    },
    {
      "cell_type": "markdown",
      "metadata": {
        "id": "nGnMivA6G_Rv"
      },
      "source": [
        "What would you use to find a number’s square root, as well as its square?"
      ]
    },
    {
      "cell_type": "code",
      "execution_count": null,
      "metadata": {
        "collapsed": true,
        "id": "E3JtyNYWG_Rv",
        "outputId": "581ecb26-5ab7-4616-c5d8-f36c8b177478",
        "colab": {
          "base_uri": "https://localhost:8080/"
        }
      },
      "outputs": [
        {
          "output_type": "stream",
          "name": "stdout",
          "text": [
            "5.0\n"
          ]
        }
      ],
      "source": [
        "# Square root:\n",
        "import math\n",
        "\n",
        "number = 25\n",
        "\n",
        "sq_root = math.sqrt(number)\n",
        "\n",
        "print(sq_root)"
      ]
    },
    {
      "cell_type": "code",
      "execution_count": null,
      "metadata": {
        "collapsed": true,
        "id": "vZ1wQnVbG_Rv",
        "outputId": "838c9dbf-beab-4a63-a072-427b26af8631",
        "colab": {
          "base_uri": "https://localhost:8080/"
        }
      },
      "outputs": [
        {
          "output_type": "stream",
          "name": "stdout",
          "text": [
            "36\n"
          ]
        }
      ],
      "source": [
        "# Square:\n",
        "number = 6\n",
        "\n",
        "squared_number = (6 ** 2)\n",
        "\n",
        "print(squared_number)"
      ]
    },
    {
      "cell_type": "markdown",
      "metadata": {
        "id": "k1gQ7qZZG_Rv"
      },
      "source": [
        "## Strings"
      ]
    },
    {
      "cell_type": "markdown",
      "metadata": {
        "id": "B0BCU_szG_Rv"
      },
      "source": [
        "Given the string 'hello' give an index command that returns 'e'. Enter your code in the cell below:"
      ]
    },
    {
      "cell_type": "code",
      "execution_count": null,
      "metadata": {
        "collapsed": true,
        "id": "JQClcxW9G_Rv",
        "outputId": "dcefbdc3-6578-4e48-a6f5-2cb7eaa9b535",
        "colab": {
          "base_uri": "https://localhost:8080/",
          "height": 35
        }
      },
      "outputs": [
        {
          "output_type": "execute_result",
          "data": {
            "text/plain": [
              "'e'"
            ],
            "application/vnd.google.colaboratory.intrinsic+json": {
              "type": "string"
            }
          },
          "metadata": {},
          "execution_count": 10
        }
      ],
      "source": [
        "s = 'hello'\n",
        "# Print out 'e' using indexing\n",
        "s[1]\n",
        "\n"
      ]
    },
    {
      "cell_type": "markdown",
      "metadata": {
        "id": "LYHjQN0zG_Rv"
      },
      "source": [
        "Reverse the string 'hello' using slicing:"
      ]
    },
    {
      "cell_type": "code",
      "execution_count": null,
      "metadata": {
        "collapsed": true,
        "id": "Q0ipds_4G_Rv",
        "outputId": "6eb44db6-57aa-48f8-e49c-1b9bd3829fb6",
        "colab": {
          "base_uri": "https://localhost:8080/",
          "height": 35
        }
      },
      "outputs": [
        {
          "output_type": "execute_result",
          "data": {
            "text/plain": [
              "'olleh'"
            ],
            "application/vnd.google.colaboratory.intrinsic+json": {
              "type": "string"
            }
          },
          "metadata": {},
          "execution_count": 11
        }
      ],
      "source": [
        "s ='hello'\n",
        "# Reverse the string using slicing\n",
        "s[::-1]\n"
      ]
    },
    {
      "cell_type": "markdown",
      "metadata": {
        "id": "U2-mVY7mG_Rw"
      },
      "source": [
        "Given the string hello, give two methods of producing the letter 'o' using indexing."
      ]
    },
    {
      "cell_type": "code",
      "execution_count": null,
      "metadata": {
        "collapsed": true,
        "id": "36CrdpraG_Rw",
        "outputId": "0c8f5f21-a901-4058-935d-8bec21cc1601",
        "colab": {
          "base_uri": "https://localhost:8080/",
          "height": 35
        }
      },
      "outputs": [
        {
          "output_type": "execute_result",
          "data": {
            "text/plain": [
              "'o'"
            ],
            "application/vnd.google.colaboratory.intrinsic+json": {
              "type": "string"
            }
          },
          "metadata": {},
          "execution_count": 12
        }
      ],
      "source": [
        "s ='hello'\n",
        "# Print out the 'o'\n",
        "\n",
        "# Method 1:\n",
        "s[4]\n"
      ]
    },
    {
      "cell_type": "code",
      "execution_count": null,
      "metadata": {
        "collapsed": true,
        "id": "fO5_NXjDG_Rw",
        "outputId": "5c8ae514-e212-43f3-af84-0e5536eece59",
        "colab": {
          "base_uri": "https://localhost:8080/",
          "height": 35
        }
      },
      "outputs": [
        {
          "output_type": "execute_result",
          "data": {
            "text/plain": [
              "'o'"
            ],
            "application/vnd.google.colaboratory.intrinsic+json": {
              "type": "string"
            }
          },
          "metadata": {},
          "execution_count": 13
        }
      ],
      "source": [
        "# Method 2:\n",
        "s[-1]\n"
      ]
    },
    {
      "cell_type": "markdown",
      "metadata": {
        "id": "1P5DW8BgG_Rw"
      },
      "source": [
        "## Lists"
      ]
    },
    {
      "cell_type": "markdown",
      "metadata": {
        "id": "zCnAFQWEG_Rw"
      },
      "source": [
        "Build this list [0,0,0] two separate ways."
      ]
    },
    {
      "cell_type": "code",
      "execution_count": 1,
      "metadata": {
        "id": "SsFmu_mgG_Rw",
        "outputId": "85ddb58b-43a2-4c38-b8ea-774d0da9b10b",
        "colab": {
          "base_uri": "https://localhost:8080/"
        }
      },
      "outputs": [
        {
          "output_type": "execute_result",
          "data": {
            "text/plain": [
              "[0, 0, 0]"
            ]
          },
          "metadata": {},
          "execution_count": 1
        }
      ],
      "source": [
        "# Method 1:\n",
        "my_list = [0] * 3\n",
        "my_list"
      ]
    },
    {
      "cell_type": "code",
      "execution_count": null,
      "metadata": {
        "collapsed": true,
        "id": "OVjnCV8dG_Rw",
        "outputId": "e8991680-9b05-446c-da09-4c3d61ad7719",
        "colab": {
          "base_uri": "https://localhost:8080/"
        }
      },
      "outputs": [
        {
          "output_type": "stream",
          "name": "stdout",
          "text": [
            "[0, 0, 0]\n"
          ]
        }
      ],
      "source": [
        "# Method 2:\n",
        "my_list = []\n",
        "for i in range(3):\n",
        "  my_list.append(0)\n",
        "\n",
        "print(my_list)"
      ]
    },
    {
      "cell_type": "markdown",
      "metadata": {
        "id": "LvUO25_1G_Rw"
      },
      "source": [
        "Reassign 'hello' in this nested list to say 'goodbye' instead:"
      ]
    },
    {
      "cell_type": "code",
      "execution_count": null,
      "metadata": {
        "id": "db9ELvrsG_Rw",
        "outputId": "2be199fe-2f90-4645-9ab3-7312355e0ce4",
        "colab": {
          "base_uri": "https://localhost:8080/"
        }
      },
      "outputs": [
        {
          "output_type": "execute_result",
          "data": {
            "text/plain": [
              "[1, 2, [3, 4, 'goodbye']]"
            ]
          },
          "metadata": {},
          "execution_count": 18
        }
      ],
      "source": [
        "list3 = [1,2,[3,4,'hello']]\n",
        "\n",
        "list3[2][2] = 'goodbye'\n",
        "\n",
        "list3"
      ]
    },
    {
      "cell_type": "markdown",
      "metadata": {
        "id": "oukqe0NnG_Rw"
      },
      "source": [
        "Sort the list below:"
      ]
    },
    {
      "cell_type": "code",
      "source": [
        "# Method 1\n",
        "list4 = [5,3,4,6,1]\n",
        "\n",
        "sorted(list4)"
      ],
      "metadata": {
        "id": "92h6iPRx_FyX",
        "outputId": "8220795b-7dfb-4a03-e760-5ad7dca64bab",
        "colab": {
          "base_uri": "https://localhost:8080/"
        }
      },
      "execution_count": 2,
      "outputs": [
        {
          "output_type": "execute_result",
          "data": {
            "text/plain": [
              "[1, 3, 4, 5, 6]"
            ]
          },
          "metadata": {},
          "execution_count": 2
        }
      ]
    },
    {
      "cell_type": "code",
      "execution_count": null,
      "metadata": {
        "id": "0LBCv0jPG_Rw",
        "outputId": "49607e07-57ef-4dd5-d21c-3cc0473d8bb6",
        "colab": {
          "base_uri": "https://localhost:8080/"
        }
      },
      "outputs": [
        {
          "output_type": "execute_result",
          "data": {
            "text/plain": [
              "[1, 3, 4, 5, 6]"
            ]
          },
          "metadata": {},
          "execution_count": 20
        }
      ],
      "source": [
        "# Method 2\n",
        "list4 = [5,3,4,6,1]\n",
        "\n",
        "list4.sort()\n",
        "\n",
        "list4"
      ]
    },
    {
      "cell_type": "markdown",
      "metadata": {
        "id": "dgCYrHrYG_Rx"
      },
      "source": [
        "## Dictionaries"
      ]
    },
    {
      "cell_type": "markdown",
      "metadata": {
        "id": "zqyh8ie2G_Rx"
      },
      "source": [
        "Using keys and indexing, grab the 'hello' from the following dictionaries:"
      ]
    },
    {
      "cell_type": "code",
      "execution_count": null,
      "metadata": {
        "id": "f0aUdSd4G_Rx",
        "outputId": "b6af63e3-7ed9-4c7e-935b-6660303b6e50",
        "colab": {
          "base_uri": "https://localhost:8080/",
          "height": 35
        }
      },
      "outputs": [
        {
          "output_type": "execute_result",
          "data": {
            "text/plain": [
              "'hello'"
            ],
            "application/vnd.google.colaboratory.intrinsic+json": {
              "type": "string"
            }
          },
          "metadata": {},
          "execution_count": 21
        }
      ],
      "source": [
        "d = {'simple_key':'hello'}\n",
        "# Grab 'hello'\n",
        "\n",
        "d['simple_key']"
      ]
    },
    {
      "cell_type": "code",
      "execution_count": null,
      "metadata": {
        "id": "N6oRAJlBG_Rx",
        "outputId": "d80991d8-0718-4d07-adb8-129a46b345e0",
        "colab": {
          "base_uri": "https://localhost:8080/",
          "height": 35
        }
      },
      "outputs": [
        {
          "output_type": "execute_result",
          "data": {
            "text/plain": [
              "'hello'"
            ],
            "application/vnd.google.colaboratory.intrinsic+json": {
              "type": "string"
            }
          },
          "metadata": {},
          "execution_count": 22
        }
      ],
      "source": [
        "d = {'k1':{'k2':'hello'}}\n",
        "# Grab 'hello'\n",
        "\n",
        "d['k1']['k2']"
      ]
    },
    {
      "cell_type": "code",
      "execution_count": null,
      "metadata": {
        "collapsed": true,
        "id": "9J9RVJ8jG_Rx",
        "outputId": "96916460-40c6-4541-f724-cafd88f78d32",
        "colab": {
          "base_uri": "https://localhost:8080/",
          "height": 35
        }
      },
      "outputs": [
        {
          "output_type": "execute_result",
          "data": {
            "text/plain": [
              "'hello'"
            ],
            "application/vnd.google.colaboratory.intrinsic+json": {
              "type": "string"
            }
          },
          "metadata": {},
          "execution_count": 31
        }
      ],
      "source": [
        "# Getting a little tricker\n",
        "d = {'k1':[{'nest_key' : ['this is deep',['hello']]}]}\n",
        "\n",
        "#Grab hello\n",
        "d['k1'][0]['nest_key'][1][0]"
      ]
    },
    {
      "cell_type": "code",
      "execution_count": null,
      "metadata": {
        "collapsed": true,
        "id": "kzRArXYEG_Rx",
        "outputId": "78b41ba4-1223-47d1-cdda-cd9f983d825d",
        "colab": {
          "base_uri": "https://localhost:8080/",
          "height": 35
        }
      },
      "outputs": [
        {
          "output_type": "execute_result",
          "data": {
            "text/plain": [
              "'hello'"
            ],
            "application/vnd.google.colaboratory.intrinsic+json": {
              "type": "string"
            }
          },
          "metadata": {},
          "execution_count": 32
        }
      ],
      "source": [
        "# This will be hard and annoying!\n",
        "d = {'k1':[1,2, {'k2':['this is tricky',{'tough':[1,2,['hello']]}]}]}\n",
        "\n",
        "d['k1'][2]['k2'][1]['tough'][2][0]"
      ]
    },
    {
      "cell_type": "markdown",
      "metadata": {
        "id": "HQQ3e00OG_Rx"
      },
      "source": [
        "Can you sort a dictionary? Why or why not?<br><br>\n",
        "**Answer** <br>\n",
        "No dictionaries cannot be sorted. It is accessed using key-value pair"
      ]
    },
    {
      "cell_type": "code",
      "source": [
        "# from Python 3.7 onwards dictionaries are sorted\n",
        "my_dict = {\n",
        "          \"cherry\": 2,\n",
        "          \"banana\": 1,\n",
        "          \"apple\": 3\n",
        "          }\n",
        "sorted_dict_by_keys = dict(sorted(my_dict.items()))\n",
        "sorted_dict_by_keys"
      ],
      "metadata": {
        "id": "Grhc7XVLd2Sp",
        "outputId": "4ae87dd7-88a0-4344-b33d-97c5f72f7f1e",
        "colab": {
          "base_uri": "https://localhost:8080/"
        }
      },
      "execution_count": null,
      "outputs": [
        {
          "output_type": "execute_result",
          "data": {
            "text/plain": [
              "{'apple': 3, 'banana': 1, 'cherry': 2}"
            ]
          },
          "metadata": {},
          "execution_count": 35
        }
      ]
    },
    {
      "cell_type": "code",
      "source": [
        "# sort dictionaries by values\n",
        "my_dict = {\n",
        "          \"cherry\": 2,\n",
        "          \"banana\": 1,\n",
        "          \"apple\": 3\n",
        "          }\n",
        "sorted_dict_by_values = dict(sorted(my_dict.items(), key=lambda item: item[1]))\n",
        "sorted_dict_by_values"
      ],
      "metadata": {
        "id": "2mqFRgW6eIPl",
        "outputId": "dcd26ab8-44b9-4a11-eae6-24e082079dae",
        "colab": {
          "base_uri": "https://localhost:8080/"
        }
      },
      "execution_count": null,
      "outputs": [
        {
          "output_type": "execute_result",
          "data": {
            "text/plain": [
              "{'banana': 1, 'cherry': 2, 'apple': 3}"
            ]
          },
          "metadata": {},
          "execution_count": 37
        }
      ]
    },
    {
      "cell_type": "markdown",
      "metadata": {
        "id": "1MLHP9y1G_Rx"
      },
      "source": [
        "## Tuples"
      ]
    },
    {
      "cell_type": "markdown",
      "metadata": {
        "id": "jdWwj_U6G_Rx"
      },
      "source": [
        "What is the major difference between tuples and lists?<br><br>\n",
        "\n",
        "* Lists are mutable where Tuples are not\n",
        "\n"
      ]
    },
    {
      "cell_type": "markdown",
      "metadata": {
        "id": "sYtroaPVG_Rx"
      },
      "source": [
        "How do you create a tuple?<br><br>\n",
        "\n",
        "my_tuple = (1,2,3)"
      ]
    },
    {
      "cell_type": "markdown",
      "metadata": {
        "id": "pTFF1eXhG_Ry"
      },
      "source": [
        "## Sets"
      ]
    },
    {
      "cell_type": "markdown",
      "metadata": {
        "id": "ZBSFWm_uG_Ry"
      },
      "source": [
        "What is unique about a set?<br><br>\n",
        "Collection of well defined unique elements. The elements can be of different types"
      ]
    },
    {
      "cell_type": "code",
      "source": [
        "my_set = set()\n",
        "my_set.add(1)\n",
        "my_set.add(\"Pakshi\")\n",
        "my_set"
      ],
      "metadata": {
        "id": "l91BaX-sfPkZ",
        "outputId": "cb6449ab-7ef3-402c-b5ff-51438f918732",
        "colab": {
          "base_uri": "https://localhost:8080/"
        }
      },
      "execution_count": null,
      "outputs": [
        {
          "output_type": "execute_result",
          "data": {
            "text/plain": [
              "{1, 'Pakshi'}"
            ]
          },
          "metadata": {},
          "execution_count": 38
        }
      ]
    },
    {
      "cell_type": "markdown",
      "metadata": {
        "id": "tCYMLUG-G_Ry"
      },
      "source": [
        "Use a set to find the unique values of the list below:"
      ]
    },
    {
      "cell_type": "code",
      "execution_count": null,
      "metadata": {
        "collapsed": true,
        "id": "EauvkReOG_Ry",
        "outputId": "d96924e1-78fb-4efd-fed0-a228417264ab",
        "colab": {
          "base_uri": "https://localhost:8080/"
        }
      },
      "outputs": [
        {
          "output_type": "execute_result",
          "data": {
            "text/plain": [
              "{1, 2, 3, 4, 11, 22, 33}"
            ]
          },
          "metadata": {},
          "execution_count": 39
        }
      ],
      "source": [
        "list5 = [1,2,2,33,4,4,11,22,3,3,2]\n",
        "my_set = set(list5)\n",
        "my_set"
      ]
    },
    {
      "cell_type": "markdown",
      "metadata": {
        "id": "m9xbHbI9G_Ry"
      },
      "source": [
        "## Booleans"
      ]
    },
    {
      "cell_type": "markdown",
      "metadata": {
        "id": "3WlICsBIG_Ry"
      },
      "source": [
        "For the following quiz questions, we will get a preview of comparison operators. In the table below, a=3 and b=4.\n",
        "\n",
        "<table class=\"table table-bordered\">\n",
        "<tr>\n",
        "<th style=\"width:10%\">Operator</th><th style=\"width:45%\">Description</th><th>Example</th>\n",
        "</tr>\n",
        "<tr>\n",
        "<td>==</td>\n",
        "<td>If the values of two operands are equal, then the condition becomes true.</td>\n",
        "<td> (a == b) is not true.</td>\n",
        "</tr>\n",
        "<tr>\n",
        "<td>!=</td>\n",
        "<td>If values of two operands are not equal, then condition becomes true.</td>\n",
        "<td> (a != b) is true.</td>\n",
        "</tr>\n",
        "<tr>\n",
        "<td>&gt;</td>\n",
        "<td>If the value of left operand is greater than the value of right operand, then condition becomes true.</td>\n",
        "<td> (a &gt; b) is not true.</td>\n",
        "</tr>\n",
        "<tr>\n",
        "<td>&lt;</td>\n",
        "<td>If the value of left operand is less than the value of right operand, then condition becomes true.</td>\n",
        "<td> (a &lt; b) is true.</td>\n",
        "</tr>\n",
        "<tr>\n",
        "<td>&gt;=</td>\n",
        "<td>If the value of left operand is greater than or equal to the value of right operand, then condition becomes true.</td>\n",
        "<td> (a &gt;= b) is not true. </td>\n",
        "</tr>\n",
        "<tr>\n",
        "<td>&lt;=</td>\n",
        "<td>If the value of left operand is less than or equal to the value of right operand, then condition becomes true.</td>\n",
        "<td> (a &lt;= b) is true. </td>\n",
        "</tr>\n",
        "</table>"
      ]
    },
    {
      "cell_type": "markdown",
      "metadata": {
        "id": "1yOPAu3GG_Ry"
      },
      "source": [
        "What will be the resulting Boolean of the following pieces of code (answer fist then check by typing it in!)"
      ]
    },
    {
      "cell_type": "code",
      "execution_count": null,
      "metadata": {
        "collapsed": true,
        "id": "qC0KyLo-G_Ry",
        "outputId": "dd1e619b-dfaa-4259-d5b3-127a3cce38aa",
        "colab": {
          "base_uri": "https://localhost:8080/"
        }
      },
      "outputs": [
        {
          "output_type": "execute_result",
          "data": {
            "text/plain": [
              "False"
            ]
          },
          "metadata": {},
          "execution_count": 40
        }
      ],
      "source": [
        "# Answer before running cell\n",
        "# False\n",
        "2 > 3"
      ]
    },
    {
      "cell_type": "code",
      "execution_count": null,
      "metadata": {
        "collapsed": true,
        "id": "ipZknLybG_Ry",
        "outputId": "59ae56e1-9b8f-4722-ddf1-315b5ba51a60",
        "colab": {
          "base_uri": "https://localhost:8080/"
        }
      },
      "outputs": [
        {
          "output_type": "execute_result",
          "data": {
            "text/plain": [
              "False"
            ]
          },
          "metadata": {},
          "execution_count": 42
        }
      ],
      "source": [
        "# Answer before running cell\n",
        "# False\n",
        "3 <= 2"
      ]
    },
    {
      "cell_type": "code",
      "execution_count": null,
      "metadata": {
        "collapsed": true,
        "id": "fr7JPDd-G_Ry",
        "outputId": "bafd8d24-fc15-48ea-e370-e3fab48f503a",
        "colab": {
          "base_uri": "https://localhost:8080/"
        }
      },
      "outputs": [
        {
          "output_type": "execute_result",
          "data": {
            "text/plain": [
              "False"
            ]
          },
          "metadata": {},
          "execution_count": 43
        }
      ],
      "source": [
        "# Answer before running cell\n",
        "# False\n",
        "3 == 2.0"
      ]
    },
    {
      "cell_type": "code",
      "execution_count": null,
      "metadata": {
        "collapsed": true,
        "id": "nVBP4CbFG_Rz",
        "outputId": "d6298d69-e93c-460d-bb90-c554df5d872b",
        "colab": {
          "base_uri": "https://localhost:8080/"
        }
      },
      "outputs": [
        {
          "output_type": "execute_result",
          "data": {
            "text/plain": [
              "True"
            ]
          },
          "metadata": {},
          "execution_count": 45
        }
      ],
      "source": [
        "# Answer before running cell\n",
        "# True\n",
        "3.0 == 3"
      ]
    },
    {
      "cell_type": "code",
      "execution_count": null,
      "metadata": {
        "id": "gGDHxsHMG_Rz",
        "outputId": "c61c082c-4c05-468b-dcbb-0b175ca9b00e",
        "colab": {
          "base_uri": "https://localhost:8080/"
        }
      },
      "outputs": [
        {
          "output_type": "execute_result",
          "data": {
            "text/plain": [
              "False"
            ]
          },
          "metadata": {},
          "execution_count": 46
        }
      ],
      "source": [
        "# Answer before running cell\n",
        "# False\n",
        "4**0.5 != 2"
      ]
    },
    {
      "cell_type": "markdown",
      "metadata": {
        "id": "SHCxyQIOG_Rz"
      },
      "source": [
        "Final Question: What is the boolean output of the cell block below?"
      ]
    },
    {
      "cell_type": "code",
      "execution_count": null,
      "metadata": {
        "id": "O_8rVi_sG_Rz",
        "outputId": "a3648ba3-7e98-4da1-de1f-54357388bae3",
        "colab": {
          "base_uri": "https://localhost:8080/"
        }
      },
      "outputs": [
        {
          "output_type": "execute_result",
          "data": {
            "text/plain": [
              "False"
            ]
          },
          "metadata": {},
          "execution_count": 48
        }
      ],
      "source": [
        "# two nested lists\n",
        "l_one = [1,2,[3,4]]\n",
        "l_two = [1,2,{'k1':4}]\n",
        "\n",
        "# True or False?\n",
        "# False\n",
        "l_one[2][0] >= l_two[2]['k1']"
      ]
    },
    {
      "cell_type": "markdown",
      "metadata": {
        "id": "hTSV-fyNG_Rz"
      },
      "source": [
        "## Great Job on your first assessment!"
      ]
    }
  ],
  "metadata": {
    "anaconda-cloud": {},
    "kernelspec": {
      "display_name": "Python 3",
      "language": "python",
      "name": "python3"
    },
    "language_info": {
      "codemirror_mode": {
        "name": "ipython",
        "version": 3
      },
      "file_extension": ".py",
      "mimetype": "text/x-python",
      "name": "python",
      "nbconvert_exporter": "python",
      "pygments_lexer": "ipython3",
      "version": "3.6.6"
    },
    "colab": {
      "provenance": [],
      "include_colab_link": true
    }
  },
  "nbformat": 4,
  "nbformat_minor": 0
}