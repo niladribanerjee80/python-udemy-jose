{
  "cells": [
    {
      "cell_type": "markdown",
      "metadata": {
        "id": "view-in-github",
        "colab_type": "text"
      },
      "source": [
        "<a href=\"https://colab.research.google.com/github/niladribanerjee80/python-udemy-jose/blob/main/Section_10b_Errors%20and%20Exceptions%20Homework.ipynb\" target=\"_parent\"><img src=\"https://colab.research.google.com/assets/colab-badge.svg\" alt=\"Open In Colab\"/></a>"
      ]
    },
    {
      "cell_type": "markdown",
      "metadata": {
        "id": "cTd36tBBOnpH"
      },
      "source": [
        "___\n",
        "\n",
        "<a href='https://www.udemy.com/user/joseportilla/'><img src='https://github.com/niladribanerjee80/python-udemy-jose/blob/Pierian_Data_Logo.png?raw=1'/></a>\n",
        "___\n",
        "<center><em>Content Copyright by Pierian Data</em></center>"
      ]
    },
    {
      "cell_type": "markdown",
      "metadata": {
        "id": "KAp3eelYOnpK"
      },
      "source": [
        "# Errors and Exceptions Homework"
      ]
    },
    {
      "cell_type": "markdown",
      "metadata": {
        "id": "xc9NEqpZOnpK"
      },
      "source": [
        "### Problem 1\n",
        "Handle the exception thrown by the code below by using <code>try</code> and <code>except</code> blocks."
      ]
    },
    {
      "cell_type": "code",
      "execution_count": 1,
      "metadata": {
        "id": "CjbJ-qhQOnpK",
        "outputId": "b190e318-bc68-4d5b-d4af-f5a388a749c5",
        "colab": {
          "base_uri": "https://localhost:8080/"
        }
      },
      "outputs": [
        {
          "output_type": "stream",
          "name": "stdout",
          "text": [
            "str cannot do the specific math operation\n"
          ]
        }
      ],
      "source": [
        "try:\n",
        "    for i in ['a','b','c']:\n",
        "        print(i**2)\n",
        "except TypeError:\n",
        "    print(\"str cannot do the specific math operation\")"
      ]
    },
    {
      "cell_type": "markdown",
      "metadata": {
        "id": "5wwrbQicOnpM"
      },
      "source": [
        "### Problem 2\n",
        "Handle the exception thrown by the code below by using <code>try</code> and <code>except</code> blocks. Then use a <code>finally</code> block to print 'All Done.'"
      ]
    },
    {
      "cell_type": "code",
      "execution_count": 2,
      "metadata": {
        "id": "Ie4i9okrOnpM",
        "outputId": "a510792d-e5ef-4487-d8c9-e66adf4a7dce",
        "colab": {
          "base_uri": "https://localhost:8080/"
        }
      },
      "outputs": [
        {
          "output_type": "stream",
          "name": "stdout",
          "text": [
            "division by zero is not allowed. Change the value of y\n",
            "All done\n"
          ]
        }
      ],
      "source": [
        "try:\n",
        "    x = 5\n",
        "    y = 0\n",
        "\n",
        "    z = x/y\n",
        "except ZeroDivisionError:\n",
        "    print(\"division by zero is not allowed. Change the value of y\")\n",
        "finally:\n",
        "    print(\"All done\")"
      ]
    },
    {
      "cell_type": "markdown",
      "metadata": {
        "id": "Ii2tpAI1OnpM"
      },
      "source": [
        "### Problem 3\n",
        "Write a function that asks for an integer and prints the square of it. Use a <code>while</code> loop with a <code>try</code>, <code>except</code>, <code>else</code> block to account for incorrect inputs."
      ]
    },
    {
      "cell_type": "code",
      "execution_count": 4,
      "metadata": {
        "collapsed": true,
        "id": "rkF8u7vYOnpN"
      },
      "outputs": [],
      "source": [
        "def ask():\n",
        "    while True:\n",
        "        try:\n",
        "            num = int(input(\"Input an integer : \"))\n",
        "        except:\n",
        "            print(\"An error occurred! Please try again!\")\n",
        "            continue\n",
        "        else:\n",
        "            print(f\"Thank you, your number squared is : {num**2}\")\n",
        "            break"
      ]
    },
    {
      "cell_type": "code",
      "execution_count": 5,
      "metadata": {
        "id": "qoU2E7LYOnpN",
        "outputId": "1255a8ad-0194-4300-a081-fe07bde93284",
        "colab": {
          "base_uri": "https://localhost:8080/"
        }
      },
      "outputs": [
        {
          "output_type": "stream",
          "name": "stdout",
          "text": [
            "Input an integer : two\n",
            "An error occurred! Please try again!\n",
            "Input an integer : 5\n",
            "Thank you, your number squared is : 25\n"
          ]
        }
      ],
      "source": [
        "ask()"
      ]
    },
    {
      "cell_type": "markdown",
      "metadata": {
        "id": "C75_auTBOnpN"
      },
      "source": [
        "# Great Job!"
      ]
    }
  ],
  "metadata": {
    "kernelspec": {
      "display_name": "Python 3",
      "language": "python",
      "name": "python3"
    },
    "language_info": {
      "codemirror_mode": {
        "name": "ipython",
        "version": 3
      },
      "file_extension": ".py",
      "mimetype": "text/x-python",
      "name": "python",
      "nbconvert_exporter": "python",
      "pygments_lexer": "ipython3",
      "version": "3.6.6"
    },
    "colab": {
      "provenance": [],
      "include_colab_link": true
    }
  },
  "nbformat": 4,
  "nbformat_minor": 0
}