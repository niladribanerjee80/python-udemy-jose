{
  "cells": [
    {
      "cell_type": "markdown",
      "metadata": {
        "id": "view-in-github",
        "colab_type": "text"
      },
      "source": [
        "<a href=\"https://colab.research.google.com/github/niladribanerjee80/python-udemy-jose/blob/main/Section_17_PDFs_Spreadsheets_Puzzle.ipynb\" target=\"_parent\"><img src=\"https://colab.research.google.com/assets/colab-badge.svg\" alt=\"Open In Colab\"/></a>"
      ]
    },
    {
      "cell_type": "markdown",
      "metadata": {
        "id": "2p8z2IXbSlz_"
      },
      "source": [
        "___\n",
        "\n",
        "<a href='https://www.udemy.com/user/joseportilla/'><img src='https://github.com/niladribanerjee80/python-udemy-jose/blob/Pierian_Data_Logo.png?raw=1'/></a>\n",
        "___\n",
        "<center><em>Content Copyright by Pierian Data</em></center>"
      ]
    },
    {
      "cell_type": "markdown",
      "metadata": {
        "id": "3dqpkCcISl0A"
      },
      "source": [
        "# PDFs and Spreadsheets Puzzle Exercise\n",
        "\n",
        "Let's test your skills, the files needed for this puzzle exercise\n",
        "\n",
        "You will need to work with two files for this exercise and solve the following tasks:\n",
        "\n",
        "* Task One: Use Python to extract the Google Drive link from the .csv file. (Hint: Its along the diagonal from top left to bottom right).\n",
        "* Task Two: Download the PDF from the Google Drive link (we already downloaded it for you just in case you can't download from Google Drive) and find the phone number that is in the document. Note: There are different ways of formatting a phone number!"
      ]
    },
    {
      "cell_type": "markdown",
      "metadata": {
        "id": "U1zLjL2fSl0A"
      },
      "source": [
        "## Task One: Grab the Google Drive Link from .csv File"
      ]
    },
    {
      "cell_type": "code",
      "execution_count": 1,
      "metadata": {
        "collapsed": true,
        "colab": {
          "base_uri": "https://localhost:8080/"
        },
        "id": "5pZfgukSSl0B",
        "outputId": "e19431ff-5fbe-4315-c7ab-8c1928a54060"
      },
      "outputs": [
        {
          "output_type": "stream",
          "name": "stdout",
          "text": [
            "https://drive.google.com/open?id=1G6SEgg018UB4_4xsAJJ5TdzrhmXipr4Q\n"
          ]
        }
      ],
      "source": [
        "import csv\n",
        "\n",
        "# read the file\n",
        "csv_file = open(\"find_the_link.csv\",encoding=\"utf-8\")\n",
        "\n",
        "# create csv_reader object\n",
        "csv_data_obj = csv.reader(csv_file)\n",
        "\n",
        "# create the list of records\n",
        "csv_data = list(csv_data_obj)\n",
        "\n",
        "google_drive_link = ''\n",
        "\n",
        "# i = 0\n",
        "# for row in csv_data:\n",
        "#     google_drive_link = google_drive_link + row[i]\n",
        "#     i += 1\n",
        "\n",
        "for row_num,data in enumerate(csv_data):\n",
        "    google_drive_link += data[row_num]\n",
        "\n",
        "print(google_drive_link)\n",
        "\n",
        "# close the csv file\n",
        "csv_file.close()"
      ]
    },
    {
      "cell_type": "code",
      "execution_count": null,
      "metadata": {
        "id": "SKwQTRUFSl0B",
        "outputId": "7a646676-85f9-4ac0-f53b-2ad522e983cd"
      },
      "outputs": [
        {
          "data": {
            "text/plain": [
              "'https://drive.google.com/open?id=1G6SEgg018UB4_4xsAJJ5TdzrhmXipr4Q'"
            ]
          },
          "execution_count": 14,
          "metadata": {},
          "output_type": "execute_result"
        }
      ],
      "source": [
        "# THe correct result is shown below, if you can't download from Google Drive,\n",
        "# we added the PDF file to the Exercise_Files folder already"
      ]
    },
    {
      "cell_type": "markdown",
      "metadata": {
        "id": "1ChqTywtSl0B"
      },
      "source": [
        "## Task Two: Download the PDF from the Google Drive link and find the phone number that is in the document."
      ]
    },
    {
      "cell_type": "code",
      "source": [
        "pip install PyPDF2"
      ],
      "metadata": {
        "colab": {
          "base_uri": "https://localhost:8080/"
        },
        "id": "B-o6Tku2VUoH",
        "outputId": "55a859fd-8fab-4e0a-d3fc-ea4e64c0ad43"
      },
      "execution_count": null,
      "outputs": [
        {
          "output_type": "stream",
          "name": "stdout",
          "text": [
            "Collecting PyPDF2\n",
            "  Downloading pypdf2-3.0.1-py3-none-any.whl.metadata (6.8 kB)\n",
            "Downloading pypdf2-3.0.1-py3-none-any.whl (232 kB)\n",
            "\u001b[2K   \u001b[90m━━━━━━━━━━━━━━━━━━━━━━━━━━━━━━━━━━━━━━━━\u001b[0m \u001b[32m232.6/232.6 kB\u001b[0m \u001b[31m3.4 MB/s\u001b[0m eta \u001b[36m0:00:00\u001b[0m\n",
            "\u001b[?25hInstalling collected packages: PyPDF2\n",
            "Successfully installed PyPDF2-3.0.1\n"
          ]
        }
      ]
    },
    {
      "cell_type": "code",
      "execution_count": null,
      "metadata": {
        "collapsed": true,
        "colab": {
          "base_uri": "https://localhost:8080/"
        },
        "id": "Jhg214alSl0C",
        "outputId": "c6df20c7-b5c6-4262-dc6e-68bc5211910c"
      },
      "outputs": [
        {
          "output_type": "stream",
          "name": "stdout",
          "text": [
            "505.503.4455\n"
          ]
        }
      ],
      "source": [
        "# You should get this phone number\n",
        "# 505 503 4455\n",
        "\n",
        "import PyPDF2\n",
        "import re\n",
        "\n",
        "# we need to read the pdf document\n",
        "f = open(\"Find_the_Phone_Number.pdf\",'rb')\n",
        "\n",
        "# pass the file object to PyPDF2.PdfReader\n",
        "pdf_reader = PyPDF2.PdfReader(f)\n",
        "\n",
        "text_to_search = ''\n",
        "\n",
        "for page in pdf_reader.pages:\n",
        "    text_to_search = text_to_search + page.extract_text()\n",
        "\n",
        "# create the pattern\n",
        "pattern = re.compile(r'\\d{3}[-. ]\\d{3}[-. ]\\d{4}')\n",
        "\n",
        "matches = pattern.finditer(text_to_search)\n",
        "\n",
        "# print all phone numbers from the page\n",
        "for match in matches:\n",
        "\tprint(match.group())\n",
        "\n",
        "# close the file\n",
        "f.close()"
      ]
    },
    {
      "cell_type": "code",
      "source": [],
      "metadata": {
        "id": "W52NxtIeWSG2"
      },
      "execution_count": null,
      "outputs": []
    }
  ],
  "metadata": {
    "anaconda-cloud": {},
    "kernelspec": {
      "display_name": "Python 3",
      "language": "python",
      "name": "python3"
    },
    "language_info": {
      "codemirror_mode": {
        "name": "ipython",
        "version": 3
      },
      "file_extension": ".py",
      "mimetype": "text/x-python",
      "name": "python",
      "nbconvert_exporter": "python",
      "pygments_lexer": "ipython3",
      "version": "3.6.6"
    },
    "colab": {
      "provenance": [],
      "include_colab_link": true
    }
  },
  "nbformat": 4,
  "nbformat_minor": 0
}