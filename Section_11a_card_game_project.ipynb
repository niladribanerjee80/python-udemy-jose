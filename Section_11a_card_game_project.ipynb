{
  "nbformat": 4,
  "nbformat_minor": 0,
  "metadata": {
    "colab": {
      "provenance": [],
      "include_colab_link": true
    },
    "kernelspec": {
      "name": "python3",
      "display_name": "Python 3"
    },
    "language_info": {
      "name": "python"
    }
  },
  "cells": [
    {
      "cell_type": "markdown",
      "metadata": {
        "id": "view-in-github",
        "colab_type": "text"
      },
      "source": [
        "<a href=\"https://colab.research.google.com/github/niladribanerjee80/python-udemy-jose/blob/main/Section_11a_card_game_project.ipynb\" target=\"_parent\"><img src=\"https://colab.research.google.com/assets/colab-badge.svg\" alt=\"Open In Colab\"/></a>"
      ]
    },
    {
      "cell_type": "code",
      "execution_count": 25,
      "metadata": {
        "id": "QcHon0abKxXa"
      },
      "outputs": [],
      "source": [
        "# GLOBAL VARIABLES\n",
        "from IPython.display import clear_output\n",
        "import random\n",
        "\n",
        "suits = [\"Hearts\",\"Diamonds\",\"Spade\",\"Clubs\"]\n",
        "ranks = ['Two','Three','Four','Five','Six','Seven','Eight','Nine','Ten','Jack','Queen','King','Ace']\n",
        "values = {\n",
        "    'Two'   : 2,\n",
        "    'Three' : 3,\n",
        "    'Four'  : 4,\n",
        "    'Five'  : 5,\n",
        "    'Six'   : 6,\n",
        "    'Seven' : 7,\n",
        "    'Eight' : 8,\n",
        "    'Nine'  : 9,\n",
        "    'Ten'   : 10,\n",
        "    'Jack'  : 11,\n",
        "    'Queen' : 12,\n",
        "    'King'  : 13,\n",
        "    'Ace'   : 14\n",
        "}"
      ]
    },
    {
      "cell_type": "code",
      "source": [
        "class Card:\n",
        "    '''\n",
        "        1. Instantaite a new card\n",
        "        2. Card has the following attributes\n",
        "            a. suit  out of :: [\"Hearts\",\"Diamonds\",\"Spade\",\"Clubs\"]\n",
        "            b. rank  out of :: ['Two','Three','Four','Five' etc.]\n",
        "            c. value out of :: Two --> 2, Three --> 3 etc.\n",
        "        3. We should be able to print the card attributes\n",
        "    '''\n",
        "    def __init__(self,suit,rank):\n",
        "        self.suit = suit.capitalize()\n",
        "        self.rank = rank.capitalize()\n",
        "        self.value = values[self.rank]\n",
        "\n",
        "    def __str__(self):\n",
        "        return f\"{'Suit  : ':<10} {self.suit}\\n{'Rank  : ':<10} {self.rank}\\n{'Value : ':<10} {self.value}\\n-------\""
      ],
      "metadata": {
        "id": "-w6bzHLDLded"
      },
      "execution_count": 27,
      "outputs": []
    },
    {
      "cell_type": "code",
      "source": [
        "# # Testing card class\n",
        "# two_of_hearts = Card(\"hearts\",\"two\")\n",
        "# print(two_of_hearts)"
      ],
      "metadata": {
        "id": "4sDvIpNiL8Md"
      },
      "execution_count": 16,
      "outputs": []
    },
    {
      "cell_type": "code",
      "source": [
        "# print(two_of_hearts.suit)  # Hearts\n",
        "# print(two_of_hearts.rank)  # Two\n",
        "# print(two_of_hearts.value) # 2"
      ],
      "metadata": {
        "id": "7mnCuNs5Mbvw"
      },
      "execution_count": 17,
      "outputs": []
    },
    {
      "cell_type": "code",
      "source": [
        "# # -----------------\n",
        "# # CALL Card Class\n",
        "# # -----------------\n",
        "# counter = 0\n",
        "# for suit in suits:\n",
        "#     for rank in values:\n",
        "#         counter += 1\n",
        "#         mycard = Card(suit,rank)\n",
        "#         print(f\"{'Card# : ':<10} {counter}\")\n",
        "#         print(mycard)"
      ],
      "metadata": {
        "id": "58deNFymMiSa"
      },
      "execution_count": 18,
      "outputs": []
    },
    {
      "cell_type": "code",
      "source": [
        "class Deck:\n",
        "    '''\n",
        "        1. Instantaite a new deck\n",
        "        2. Create all 52 card objects -> Hold the objects into a list\n",
        "           Card class should be able print the card that we already created\n",
        "        3. Shuffle all cards\n",
        "        4. Pop out the last card when we deal with one card\n",
        "    '''\n",
        "\n",
        "    def __init__(self):\n",
        "        self.all_cards = []\n",
        "\n",
        "        for suit in suits:\n",
        "            for rank in values:\n",
        "                mycard = Card(suit,rank)\n",
        "                self.all_cards.append(mycard)\n",
        "\n",
        "    def shuffle(self):\n",
        "        random.shuffle(self.all_cards)\n",
        "\n",
        "    def deal_one(self):\n",
        "        return self.all_cards.pop()"
      ],
      "metadata": {
        "id": "hUg1d3h4OBOb"
      },
      "execution_count": 19,
      "outputs": []
    },
    {
      "cell_type": "code",
      "source": [
        "# # -----------------\n",
        "# # CALL Deck Class\n",
        "# # -----------------\n",
        "# new_deck = Deck()\n",
        "# new_deck.shuffle()\n",
        "\n",
        "# # print all cards to verify all of them are created\n",
        "# counter = 0\n",
        "# for card in new_deck.all_cards:\n",
        "#     counter += 1\n",
        "#     print(f\"{'Card# : ':<10} {counter}\")\n",
        "#     print(card)\n",
        "\n",
        "# mycard = new_deck.deal_one()\n",
        "\n",
        "# print(' ')\n",
        "# print(' ')\n",
        "# print('Popped card')\n",
        "# print('---------')\n",
        "# print(mycard)\n",
        "\n",
        "# print(f\"Revised size of deck list : {len(new_deck.all_cards)}\")"
      ],
      "metadata": {
        "id": "IYcUg0vETkDr"
      },
      "execution_count": 20,
      "outputs": []
    },
    {
      "cell_type": "code",
      "source": [
        "class Player:\n",
        "    '''\n",
        "        1. Hold player current list of cards. Therefore, you need to differentiate players as well\n",
        "        2. Player should be able to add or remove cards from their hand (list of card objects) from the top\n",
        "        3. Player should be able to add a single card or multiple cards to their list from the bottom/end\n",
        "        4. Translating a deck/hand of cards with a top and bottom, to a python list\n",
        "    '''\n",
        "\n",
        "    def __init__(self,name):\n",
        "\n",
        "        # name of the player\n",
        "        self.name = name\n",
        "\n",
        "        # empty hand for the player\n",
        "        self.player_cards = []\n",
        "\n",
        "    # to show/display the card to the opponent\n",
        "    def remove_one(self):\n",
        "        return self.player_cards.pop(0)\n",
        "\n",
        "    def add_cards(self,new_cards):\n",
        "        '''\n",
        "            Note\n",
        "                1. new_cards will be card object(s)\n",
        "\n",
        "            Card has the followign attributes\n",
        "                a. suit  out of :: [\"Hearts\",\"Diamonds\",\"Spade\",\"Clubs\"]\n",
        "                b. rank  out of :: ['Two','Three','Four','Five' etc.]\n",
        "                c. value out of :: Two --> 2, Three --> 3 etc.\n",
        "        '''\n",
        "        if type(new_cards) == type([]):\n",
        "            # multiple cards inside a list\n",
        "            self.player_cards.extend(new_cards)\n",
        "        else:\n",
        "            # a single card in the parameter\n",
        "            self.player_cards.append(new_cards)\n",
        "\n",
        "    def shuffle(self):\n",
        "        random.shuffle(self.player_cards)\n",
        "\n",
        "    def cards_empty(self):\n",
        "        return len(self.player_cards) == 0"
      ],
      "metadata": {
        "id": "rIVUhDzKTqCd"
      },
      "execution_count": 24,
      "outputs": []
    },
    {
      "cell_type": "code",
      "source": [
        "# # Testing : Player creation\n",
        "# player_niladri = Player('Niladri')\n",
        "# print(player_niladri)"
      ],
      "metadata": {
        "id": "VkAvggN2BTO2"
      },
      "execution_count": 22,
      "outputs": []
    },
    {
      "cell_type": "code",
      "source": [
        "# # Testing : add cards and pop\n",
        "\n",
        "# # create player\n",
        "# player_niladri = Player('Niladri')\n",
        "# # print(player_niladri)\n",
        "\n",
        "# # Add cards\n",
        "# two_of_hearts = Card(\"hearts\",\"two\")\n",
        "# three_of_clubs = Card(\"clubs\",\"three\")\n",
        "\n",
        "# card_list = [two_of_hearts,three_of_clubs]\n",
        "# player_niladri.add_cards(card_list)\n",
        "\n",
        "# print(player_niladri)\n",
        "\n",
        "# # remove card\n",
        "# show_card = player_niladri.remove_one()\n",
        "\n",
        "# # note : show_card is a card object\n",
        "# # print(f\"Popped card suit :: {show_card.suit} | rank :: {show_card.rank} | value :: {show_card.value}\" )\n",
        "# # print(player_niladri)"
      ],
      "metadata": {
        "id": "wDDcyTKXBa4V"
      },
      "execution_count": 23,
      "outputs": []
    },
    {
      "cell_type": "code",
      "source": [
        "def display_table(player_1_card_list,player_2_card_list,table_card_list):\n",
        "    clear_output()\n",
        "    print()\n",
        "    print(f\"Player 1 Card Stock : {player_1_card_list}\")\n",
        "    print()\n",
        "    print(f\"Player 2 Card Stock : {player_1_card_list}\")\n",
        "    print()\n",
        "    print('--------------------')\n",
        "    print()\n",
        "    print()\n",
        "    print('       TABLE        ')\n",
        "    print()\n",
        "    print(f'Player 1 : {table_card_list[0]}')\n",
        "    print(f'Player 2 : {table_card_list[1]}')\n"
      ],
      "metadata": {
        "id": "-t_MkSz-jDxP"
      },
      "execution_count": 29,
      "outputs": []
    },
    {
      "cell_type": "code",
      "source": [
        "def main():\n",
        "    # -----------------\n",
        "    # CREATE PLAYERS\n",
        "    # -----------------\n",
        "    Player_1 = Player('Player_1')\n",
        "    Player_2 = Player('Player_2')\n",
        "\n",
        "    # -----------------\n",
        "    # CREATE A NEW SHUFFLED DECK\n",
        "    # CALL Deck Class\n",
        "    # -----------------\n",
        "    new_deck = Deck()\n",
        "    new_deck.shuffle()\n",
        "\n",
        "    # new_deck.all_cards list has all shuffled cards now\n",
        "\n",
        "    # -----------------\n",
        "    # SPLIT THE CARDS 50% EACH TO PLAYERS + ADD THE CARDS INTO PLAYER SPECIFIC CARD LIST\n",
        "    # -----------------\n",
        "    counter = 0\n",
        "    Player_1_card_list = []\n",
        "    Player_2_card_list = []\n",
        "\n",
        "    for card in new_deck.all_cards:\n",
        "        if counter%2 == 0:\n",
        "            # assign even cards to Player 1\n",
        "            Player_1_card_list.append(card)\n",
        "        else:\n",
        "            # assign odd cards to Player 2\n",
        "            Player_2_card_list.append(card)\n",
        "\n",
        "    # now assign the cards to players\n",
        "    Player_1.add_cards(Player_1_card_list)\n",
        "    Player_2.add_cards(Player_2_card_list)\n",
        "\n",
        "    game_on = True\n",
        "\n",
        "    while game_on:\n",
        "\n",
        "        # CHECK IF PLAYER 1 OR PLAYER 2 IS LOST AND SHOW MESSAGE AND EXIT\n",
        "\n",
        "        if Player_1.cards_empty():\n",
        "            print(\"Congratulations Player 2! You have won\")\n",
        "            game_on = False\n",
        "            break\n",
        "\n",
        "        if Player_2.cards_empty():\n",
        "            print(\"Congratulations Player 1! You have won\")\n",
        "            game_on = False\n",
        "            break\n",
        "\n",
        "        war_on = True\n",
        "\n",
        "        # war_card_list = []\n",
        "\n",
        "        # re-using the below lists\n",
        "        Player_1_card_list = []\n",
        "        Player_2_card_list = []\n",
        "        Table_card_list = []\n",
        "\n",
        "        war_win_player = ''\n",
        "\n",
        "        while war_on:\n",
        "\n",
        "            if Player_1.cards_empty() or Player_2.cards_empty():\n",
        "                # war cannot continue\n",
        "                war_on = False\n",
        "                break\n",
        "\n",
        "            # PLAYER 1 : SHOW THE CARD = C1\n",
        "            Player_1.shuffle()                           # shuffle the card\n",
        "            Player_1_card = Player_1.remove_one()       # show the card\n",
        "            Player_1_card_list.append(Player_1_card)\n",
        "\n",
        "            # PLAYER 2 : SHOW THE CARD = C2\n",
        "            Player_2.shuffle() # shuffle the card\n",
        "            Player_2_card = Player_2.remove_one()\n",
        "            Player_2_card_list.append(Player_2_card)\n",
        "\n",
        "            # what is at table now?\n",
        "            Table_card_list.append(Player_1_card,Player_2_card)\n",
        "\n",
        "            # Display player current stock and Table cards\n",
        "            display_table(Player_1_card_list,Player_2_card_list,Table_card_list)\n",
        "\n",
        "            if Player_1_card.value > Player_2_card.value:\n",
        "                Table_card_list.clear()\n",
        "                war_win_player = 'Player_1'\n",
        "                war_on = False\n",
        "                break\n",
        "\n",
        "            if Player_2_card.value > Player_1_card.value:\n",
        "                Table_card_list.clear()\n",
        "                war_win_player = 'Player_2'\n",
        "                war_on = False\n",
        "                break\n",
        "\n",
        "        if war_win_player == 'Player_1':\n",
        "            Player_1.add_cards(Player_1_card_list) # whatever is removed, get back\n",
        "            Player_1.add_cards(Player_2_card_list) # get other player cards as well\n",
        "        elif war_win_player == 'Player_2':\n",
        "            Player_2.add_cards(Player_2_card_list) # whatever is removed, get back\n",
        "            Player_2.add_cards(Player_1_card_list) # get other player cards as well\n",
        "        else:\n",
        "            print('Cannot determine who has won')\n",
        "\n",
        "if __name__ == \"__main__\":\n",
        "    main()"
      ],
      "metadata": {
        "id": "YLeyqxTkDlKE"
      },
      "execution_count": null,
      "outputs": []
    },
    {
      "cell_type": "code",
      "source": [
        "# def display_cards(cards):\n",
        "#     for card in cards:\n",
        "#         print(card, end=' ')\n",
        "#     print()\n",
        "#     print()\n",
        "\n",
        "# # Example usage:\n",
        "# player1_cards = ['AH', '2S', '3D', '4C']\n",
        "# player2_cards = ['5H', '6S', '7D', '8C']\n",
        "\n",
        "# print(\"Player 1:\")\n",
        "# display_cards(player1_cards)\n",
        "# print(\"Player 2:\")\n",
        "# display_cards(player2_cards)"
      ],
      "metadata": {
        "id": "_3Pgi7fJ4AEd"
      },
      "execution_count": null,
      "outputs": []
    },
    {
      "cell_type": "code",
      "source": [],
      "metadata": {
        "id": "1KnkhWMs4AbS"
      },
      "execution_count": null,
      "outputs": []
    },
    {
      "cell_type": "code",
      "source": [],
      "metadata": {
        "id": "NvrcxVSB4AfU"
      },
      "execution_count": null,
      "outputs": []
    },
    {
      "cell_type": "code",
      "source": [],
      "metadata": {
        "id": "sAiEnOtk4Aj3"
      },
      "execution_count": null,
      "outputs": []
    },
    {
      "cell_type": "code",
      "source": [],
      "metadata": {
        "id": "kCAEXwdH4An4"
      },
      "execution_count": null,
      "outputs": []
    },
    {
      "cell_type": "code",
      "source": [],
      "metadata": {
        "id": "rOlXMaZb4Ar8"
      },
      "execution_count": null,
      "outputs": []
    }
  ]
}