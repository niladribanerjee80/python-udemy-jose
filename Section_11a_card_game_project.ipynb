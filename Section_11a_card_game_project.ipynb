{
  "nbformat": 4,
  "nbformat_minor": 0,
  "metadata": {
    "colab": {
      "provenance": [],
      "authorship_tag": "ABX9TyOB7tU+9qrVUeUNyWgQJLaG",
      "include_colab_link": true
    },
    "kernelspec": {
      "name": "python3",
      "display_name": "Python 3"
    },
    "language_info": {
      "name": "python"
    }
  },
  "cells": [
    {
      "cell_type": "markdown",
      "metadata": {
        "id": "view-in-github",
        "colab_type": "text"
      },
      "source": [
        "<a href=\"https://colab.research.google.com/github/niladribanerjee80/python-udemy-jose/blob/main/Section_11a_card_game_project.ipynb\" target=\"_parent\"><img src=\"https://colab.research.google.com/assets/colab-badge.svg\" alt=\"Open In Colab\"/></a>"
      ]
    },
    {
      "cell_type": "code",
      "execution_count": 10,
      "metadata": {
        "id": "QcHon0abKxXa"
      },
      "outputs": [],
      "source": [
        "# GLOBAL VARIABLES\n",
        "\n",
        "values = {\n",
        "    'Two'   : 2,\n",
        "    'Three' : 3,\n",
        "    'Four'  : 4,\n",
        "    'Five'  : 5,\n",
        "    \"Six\"   : 6,\n",
        "    'Seven' : 7,\n",
        "    'Eight' : 8,\n",
        "    'Nine'  : 9,\n",
        "    'Ten'   : 10,\n",
        "    \"Jack\"  : 11,\n",
        "    'Queen' : 12,\n",
        "    'King'  : 13,\n",
        "    \"Ace\"   : 14\n",
        "}\n",
        "\n",
        "suits = [\"Hearts\",\"Diamonds\",\"Spade\",\"Clubs\"]"
      ]
    },
    {
      "cell_type": "code",
      "source": [
        "class Card:\n",
        "\n",
        "    def __init__(self,suit,rank):\n",
        "        self.suit = suit.capitalize()\n",
        "        self.rank = rank.capitalize()\n",
        "        self.value = values[self.rank]\n",
        "\n",
        "    def __str__(self):\n",
        "        return self.rank + \" of \" + self.suit"
      ],
      "metadata": {
        "id": "-w6bzHLDLded"
      },
      "execution_count": 13,
      "outputs": []
    },
    {
      "cell_type": "code",
      "source": [
        "two_of_hearts = Card(\"hearts\",\"two\")\n",
        "print(two_of_hearts)"
      ],
      "metadata": {
        "colab": {
          "base_uri": "https://localhost:8080/"
        },
        "id": "4sDvIpNiL8Md",
        "outputId": "6843e272-84bc-4297-fec4-0f23d0754fd9"
      },
      "execution_count": 14,
      "outputs": [
        {
          "output_type": "stream",
          "name": "stdout",
          "text": [
            "Two of Hearts\n"
          ]
        }
      ]
    },
    {
      "cell_type": "code",
      "source": [
        "print(two_of_hearts.suit)  # Hearts\n",
        "print(two_of_hearts.rank)  # Two\n",
        "print(two_of_hearts.value) # 2"
      ],
      "metadata": {
        "colab": {
          "base_uri": "https://localhost:8080/"
        },
        "id": "7mnCuNs5Mbvw",
        "outputId": "1c7a2cc9-73a8-4767-8748-d729810983cc"
      },
      "execution_count": 16,
      "outputs": [
        {
          "output_type": "stream",
          "name": "stdout",
          "text": [
            "Hearts\n",
            "Two\n",
            "2\n"
          ]
        }
      ]
    },
    {
      "cell_type": "code",
      "source": [],
      "metadata": {
        "id": "58deNFymMiSa"
      },
      "execution_count": null,
      "outputs": []
    }
  ]
}