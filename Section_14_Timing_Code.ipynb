{
  "nbformat": 4,
  "nbformat_minor": 0,
  "metadata": {
    "colab": {
      "provenance": [],
      "authorship_tag": "ABX9TyOQM1nRalfwX9+3wue3wjQu",
      "include_colab_link": true
    },
    "kernelspec": {
      "name": "python3",
      "display_name": "Python 3"
    },
    "language_info": {
      "name": "python"
    }
  },
  "cells": [
    {
      "cell_type": "markdown",
      "metadata": {
        "id": "view-in-github",
        "colab_type": "text"
      },
      "source": [
        "<a href=\"https://colab.research.google.com/github/niladribanerjee80/python-udemy-jose/blob/main/Section_14_Timing_Code.ipynb\" target=\"_parent\"><img src=\"https://colab.research.google.com/assets/colab-badge.svg\" alt=\"Open In Colab\"/></a>"
      ]
    },
    {
      "cell_type": "markdown",
      "source": [
        "# Time your code\n",
        "\n",
        "\n",
        "---\n",
        "***approaches***\n",
        "* **1. Track Time Elapsed**\n",
        "* **2. Use timeit module**\n",
        "* **3. %%timeit Jupyter exclusive**"
      ],
      "metadata": {
        "id": "StfL9YF5DWik"
      }
    },
    {
      "cell_type": "code",
      "source": [
        "# write a code\n",
        "    # 1. Pass a parameter --> n (a number)\n",
        "    # 2. convert the number to a list of string of a range of the number"
      ],
      "metadata": {
        "id": "QD7UOq_fA5PZ"
      },
      "execution_count": 2,
      "outputs": []
    },
    {
      "cell_type": "code",
      "source": [
        "# Approach 1\n",
        "def func_one(n):\n",
        "    return [str(num) for num in range(n)]"
      ],
      "metadata": {
        "id": "j35tndfQBJ8Z"
      },
      "execution_count": 23,
      "outputs": []
    },
    {
      "cell_type": "code",
      "source": [
        "func_one(10)"
      ],
      "metadata": {
        "colab": {
          "base_uri": "https://localhost:8080/",
          "height": 228
        },
        "id": "XZE6BnrBBPxT",
        "outputId": "0518a40d-83bd-4891-e423-9e1bffe387b4"
      },
      "execution_count": 24,
      "outputs": [
        {
          "output_type": "error",
          "ename": "TypeError",
          "evalue": "'int' object is not callable",
          "traceback": [
            "\u001b[0;31m---------------------------------------------------------------------------\u001b[0m",
            "\u001b[0;31mTypeError\u001b[0m                                 Traceback (most recent call last)",
            "\u001b[0;32m<ipython-input-24-f9db6d74e7e0>\u001b[0m in \u001b[0;36m<cell line: 1>\u001b[0;34m()\u001b[0m\n\u001b[0;32m----> 1\u001b[0;31m \u001b[0mfunc_one\u001b[0m\u001b[0;34m(\u001b[0m\u001b[0;36m10\u001b[0m\u001b[0;34m)\u001b[0m\u001b[0;34m\u001b[0m\u001b[0;34m\u001b[0m\u001b[0m\n\u001b[0m",
            "\u001b[0;32m<ipython-input-23-517a358565f8>\u001b[0m in \u001b[0;36mfunc_one\u001b[0;34m(n)\u001b[0m\n\u001b[1;32m      1\u001b[0m \u001b[0;31m# Approach 1\u001b[0m\u001b[0;34m\u001b[0m\u001b[0;34m\u001b[0m\u001b[0m\n\u001b[1;32m      2\u001b[0m \u001b[0;32mdef\u001b[0m \u001b[0mfunc_one\u001b[0m\u001b[0;34m(\u001b[0m\u001b[0mn\u001b[0m\u001b[0;34m)\u001b[0m\u001b[0;34m:\u001b[0m\u001b[0;34m\u001b[0m\u001b[0;34m\u001b[0m\u001b[0m\n\u001b[0;32m----> 3\u001b[0;31m     \u001b[0;32mreturn\u001b[0m \u001b[0;34m[\u001b[0m\u001b[0mstr\u001b[0m\u001b[0;34m(\u001b[0m\u001b[0mnum\u001b[0m\u001b[0;34m)\u001b[0m \u001b[0;32mfor\u001b[0m \u001b[0mnum\u001b[0m \u001b[0;32min\u001b[0m \u001b[0mrange\u001b[0m\u001b[0;34m(\u001b[0m\u001b[0mint\u001b[0m\u001b[0;34m(\u001b[0m\u001b[0mn\u001b[0m\u001b[0;34m)\u001b[0m\u001b[0;34m)\u001b[0m\u001b[0;34m]\u001b[0m\u001b[0;34m\u001b[0m\u001b[0;34m\u001b[0m\u001b[0m\n\u001b[0m",
            "\u001b[0;31mTypeError\u001b[0m: 'int' object is not callable"
          ]
        }
      ]
    },
    {
      "cell_type": "code",
      "source": [
        "# Approach 2 : use map function\n",
        "def func_two(n):\n",
        "    return list(map(str,range(n)))"
      ],
      "metadata": {
        "id": "oYy2qFcZBV7W"
      },
      "execution_count": 6,
      "outputs": []
    },
    {
      "cell_type": "code",
      "source": [
        "func_two(10)"
      ],
      "metadata": {
        "colab": {
          "base_uri": "https://localhost:8080/"
        },
        "id": "Lr2rL7ruBgX-",
        "outputId": "da4d07c4-9d7e-4df6-c8ce-101d28fba074"
      },
      "execution_count": 7,
      "outputs": [
        {
          "output_type": "execute_result",
          "data": {
            "text/plain": [
              "['0', '1', '2', '3', '4', '5', '6', '7', '8', '9']"
            ]
          },
          "metadata": {},
          "execution_count": 7
        }
      ]
    },
    {
      "cell_type": "markdown",
      "source": [
        "### How map function works\n",
        "\n",
        "map(function,iterable)\n",
        "\n",
        "* map creates an object such that a function acts on each iterable\n",
        "* you need to return a list from map objects to get the result"
      ],
      "metadata": {
        "id": "OqrhafobChr8"
      }
    },
    {
      "cell_type": "code",
      "source": [
        "# Squaring Numbers\n",
        "numbers = [1, 2, 3, 4, 5]\n",
        "squared_numbers = map(lambda x: x**2, numbers)\n",
        "print(list(squared_numbers))  # Output: [1, 4, 9, 16, 25]"
      ],
      "metadata": {
        "colab": {
          "base_uri": "https://localhost:8080/"
        },
        "id": "Xf6sLlkCBjT6",
        "outputId": "36d54fa5-9f74-4fd2-aa48-17c4487012a8"
      },
      "execution_count": 9,
      "outputs": [
        {
          "output_type": "stream",
          "name": "stdout",
          "text": [
            "[1, 4, 9, 16, 25]\n"
          ]
        }
      ]
    },
    {
      "cell_type": "code",
      "source": [
        "# Converting Strings to Uppercase\n",
        "names = [\"Alice\", \"Bob\", \"Charlie\"]\n",
        "uppercase_names = map(str.upper, names)\n",
        "print(list(uppercase_names))  # Output: ['ALICE', 'BOB', 'CHARLIE']"
      ],
      "metadata": {
        "colab": {
          "base_uri": "https://localhost:8080/"
        },
        "id": "IgiBOhf2C7BK",
        "outputId": "8697a485-5382-4cbf-eb97-ae2b2409545a"
      },
      "execution_count": 10,
      "outputs": [
        {
          "output_type": "stream",
          "name": "stdout",
          "text": [
            "['ALICE', 'BOB', 'CHARLIE']\n"
          ]
        }
      ]
    },
    {
      "cell_type": "code",
      "source": [
        "# Applying Multiple Functions to a List\n",
        "numbers = [1, 2, 3, 4, 5]\n",
        "squared_and_cubed = map(lambda x: (x**2, x**3), numbers)\n",
        "print(list(squared_and_cubed))  # Output: [(1, 1), (4, 8), (9, 27), (16, 64), (25, 125)]"
      ],
      "metadata": {
        "colab": {
          "base_uri": "https://localhost:8080/"
        },
        "id": "65GMHCrQDEuV",
        "outputId": "907c6886-b886-4716-905a-d0a0283803dd"
      },
      "execution_count": 11,
      "outputs": [
        {
          "output_type": "stream",
          "name": "stdout",
          "text": [
            "[(1, 1), (4, 8), (9, 27), (16, 64), (25, 125)]\n"
          ]
        }
      ]
    },
    {
      "cell_type": "code",
      "source": [
        "# Using map() with a custom function\n",
        "\n",
        "def multiply_by_two(x):\n",
        "    return x * 2\n",
        "\n",
        "numbers = [1, 2, 3, 4, 5]\n",
        "doubled_numbers = map(multiply_by_two, numbers)\n",
        "print(list(doubled_numbers))  # Output: [2, 4, 6, 8, 10]"
      ],
      "metadata": {
        "colab": {
          "base_uri": "https://localhost:8080/"
        },
        "id": "7Kg5UktpDKJI",
        "outputId": "c4d48f6f-a7fb-4fc9-df14-c616eeb48d50"
      },
      "execution_count": 12,
      "outputs": [
        {
          "output_type": "stream",
          "name": "stdout",
          "text": [
            "[2, 4, 6, 8, 10]\n"
          ]
        }
      ]
    },
    {
      "cell_type": "code",
      "source": [
        "import time"
      ],
      "metadata": {
        "id": "nQ5-Tnd5DQ8Q"
      },
      "execution_count": 13,
      "outputs": []
    },
    {
      "cell_type": "code",
      "source": [
        "# GRAB THE CURRENT TIME BEFORE THE CODE IS EXECUTED\n",
        "start_time = time.time()\n",
        "\n",
        "# RUN CODE\n",
        "result = func_one(1000000)\n",
        "\n",
        "# GRAB THE CURRENT TIME AFTER THE CODE IS EXECUTED\n",
        "end_time = time.time()\n",
        "\n",
        "# ELAPSED TIME\n",
        "elapsed_time = end_time - start_time\n",
        "\n",
        "print(elapsed_time) # in secs"
      ],
      "metadata": {
        "colab": {
          "base_uri": "https://localhost:8080/"
        },
        "id": "TLWcxOdmD7l1",
        "outputId": "8a410295-7a19-4f94-fd08-101981163ac4"
      },
      "execution_count": 15,
      "outputs": [
        {
          "output_type": "stream",
          "name": "stdout",
          "text": [
            "0.23087334632873535\n"
          ]
        }
      ]
    },
    {
      "cell_type": "code",
      "source": [
        "# GRAB THE CURRENT TIME BEFORE THE CODE IS EXECUTED\n",
        "start_time = time.time()\n",
        "\n",
        "# RUN CODE\n",
        "result = func_two(1000000)\n",
        "\n",
        "# GRAB THE CURRENT TIME AFTER THE CODE IS EXECUTED\n",
        "end_time = time.time()\n",
        "\n",
        "# ELAPSED TIME\n",
        "elapsed_time = end_time - start_time\n",
        "\n",
        "print(elapsed_time) # in secs"
      ],
      "metadata": {
        "colab": {
          "base_uri": "https://localhost:8080/"
        },
        "id": "wbMgAZ-WEGIg",
        "outputId": "eda8765a-b3e5-4528-839b-364728fb080c"
      },
      "execution_count": 16,
      "outputs": [
        {
          "output_type": "stream",
          "name": "stdout",
          "text": [
            "0.18259358406066895\n"
          ]
        }
      ]
    },
    {
      "cell_type": "markdown",
      "source": [
        "**Looks like func_two() is slightly faster**"
      ],
      "metadata": {
        "id": "HXPzmQ8PEa_i"
      }
    },
    {
      "cell_type": "code",
      "source": [
        "# but there are certain limitations with the above approach\n",
        "num = 10\n",
        "\n",
        "# GRAB THE CURRENT TIME BEFORE THE CODE IS EXECUTED\n",
        "start_time = time.time()\n",
        "\n",
        "# RUN CODE\n",
        "result = func_one(num)\n",
        "\n",
        "# GRAB THE CURRENT TIME AFTER THE CODE IS EXECUTED\n",
        "end_time = time.time()\n",
        "\n",
        "# ELAPSED TIME\n",
        "elapsed_time = end_time - start_time\n",
        "\n",
        "print(f\"func_one elapsed time : {elapsed_time}\") # in secs\n",
        "\n",
        "\n",
        "# GRAB THE CURRENT TIME BEFORE THE CODE IS EXECUTED\n",
        "start_time = time.time()\n",
        "\n",
        "# RUN CODE\n",
        "result = func_two(num)\n",
        "\n",
        "# GRAB THE CURRENT TIME AFTER THE CODE IS EXECUTED\n",
        "end_time = time.time()\n",
        "\n",
        "# ELAPSED TIME\n",
        "elapsed_time = end_time - start_time\n",
        "\n",
        "print(f\"func_two elapsed time : {elapsed_time}\") # in secs\n"
      ],
      "metadata": {
        "colab": {
          "base_uri": "https://localhost:8080/",
          "height": 280
        },
        "id": "wZIIYWPvEZkT",
        "outputId": "f9278b21-4c39-498c-efeb-258a4f18600b"
      },
      "execution_count": 18,
      "outputs": [
        {
          "output_type": "error",
          "ename": "TypeError",
          "evalue": "'int' object is not callable",
          "traceback": [
            "\u001b[0;31m---------------------------------------------------------------------------\u001b[0m",
            "\u001b[0;31mTypeError\u001b[0m                                 Traceback (most recent call last)",
            "\u001b[0;32m<ipython-input-18-284723609b88>\u001b[0m in \u001b[0;36m<cell line: 8>\u001b[0;34m()\u001b[0m\n\u001b[1;32m      6\u001b[0m \u001b[0;34m\u001b[0m\u001b[0m\n\u001b[1;32m      7\u001b[0m \u001b[0;31m# RUN CODE\u001b[0m\u001b[0;34m\u001b[0m\u001b[0;34m\u001b[0m\u001b[0m\n\u001b[0;32m----> 8\u001b[0;31m \u001b[0mresult\u001b[0m \u001b[0;34m=\u001b[0m \u001b[0mfunc_one\u001b[0m\u001b[0;34m(\u001b[0m\u001b[0mnum\u001b[0m\u001b[0;34m)\u001b[0m\u001b[0;34m\u001b[0m\u001b[0;34m\u001b[0m\u001b[0m\n\u001b[0m\u001b[1;32m      9\u001b[0m \u001b[0;34m\u001b[0m\u001b[0m\n\u001b[1;32m     10\u001b[0m \u001b[0;31m# GRAB THE CURRENT TIME AFTER THE CODE IS EXECUTED\u001b[0m\u001b[0;34m\u001b[0m\u001b[0;34m\u001b[0m\u001b[0m\n",
            "\u001b[0;32m<ipython-input-4-3e4144fd3a3e>\u001b[0m in \u001b[0;36mfunc_one\u001b[0;34m(n)\u001b[0m\n\u001b[1;32m      1\u001b[0m \u001b[0;32mdef\u001b[0m \u001b[0mfunc_one\u001b[0m\u001b[0;34m(\u001b[0m\u001b[0mn\u001b[0m\u001b[0;34m)\u001b[0m\u001b[0;34m:\u001b[0m\u001b[0;34m\u001b[0m\u001b[0;34m\u001b[0m\u001b[0m\n\u001b[0;32m----> 2\u001b[0;31m     \u001b[0;32mreturn\u001b[0m \u001b[0;34m[\u001b[0m\u001b[0mstr\u001b[0m\u001b[0;34m(\u001b[0m\u001b[0mnum\u001b[0m\u001b[0;34m)\u001b[0m \u001b[0;32mfor\u001b[0m \u001b[0mnum\u001b[0m \u001b[0;32min\u001b[0m \u001b[0mrange\u001b[0m\u001b[0;34m(\u001b[0m\u001b[0mn\u001b[0m\u001b[0;34m)\u001b[0m\u001b[0;34m]\u001b[0m\u001b[0;34m\u001b[0m\u001b[0;34m\u001b[0m\u001b[0m\n\u001b[0m",
            "\u001b[0;31mTypeError\u001b[0m: 'int' object is not callable"
          ]
        }
      ]
    },
    {
      "cell_type": "code",
      "source": [],
      "metadata": {
        "id": "XicOIgJnE-4Q"
      },
      "execution_count": null,
      "outputs": []
    }
  ]
}