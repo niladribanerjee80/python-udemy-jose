{
  "nbformat": 4,
  "nbformat_minor": 0,
  "metadata": {
    "colab": {
      "provenance": [],
      "include_colab_link": true
    },
    "kernelspec": {
      "name": "python3",
      "display_name": "Python 3"
    },
    "language_info": {
      "name": "python"
    }
  },
  "cells": [
    {
      "cell_type": "markdown",
      "metadata": {
        "id": "view-in-github",
        "colab_type": "text"
      },
      "source": [
        "<a href=\"https://colab.research.google.com/github/niladribanerjee80/python-udemy-jose/blob/main/Section_14_Timing_Code.ipynb\" target=\"_parent\"><img src=\"https://colab.research.google.com/assets/colab-badge.svg\" alt=\"Open In Colab\"/></a>"
      ]
    },
    {
      "cell_type": "markdown",
      "source": [
        "# Time your code\n",
        "\n",
        "\n",
        "---\n",
        "***approaches***\n",
        "* **1. Track Time Elapsed**\n",
        "* **2. Use timeit module**\n",
        "* **3. %%timeit Jupyter exclusive**"
      ],
      "metadata": {
        "id": "StfL9YF5DWik"
      }
    },
    {
      "cell_type": "code",
      "source": [
        "# write a code\n",
        "    # 1. Pass a parameter --> n (a number)\n",
        "    # 2. convert the number to a list of string of a range of the number"
      ],
      "metadata": {
        "id": "QD7UOq_fA5PZ"
      },
      "execution_count": null,
      "outputs": []
    },
    {
      "cell_type": "code",
      "source": [
        "# Approach 1\n",
        "def func_one(n):\n",
        "    return [str(num) for num in range(n)]"
      ],
      "metadata": {
        "id": "j35tndfQBJ8Z"
      },
      "execution_count": 1,
      "outputs": []
    },
    {
      "cell_type": "code",
      "source": [
        "func_one(10)"
      ],
      "metadata": {
        "colab": {
          "base_uri": "https://localhost:8080/"
        },
        "id": "XZE6BnrBBPxT",
        "outputId": "9f6fe7e5-8e6b-47c7-83a8-f41163db457b"
      },
      "execution_count": 2,
      "outputs": [
        {
          "output_type": "execute_result",
          "data": {
            "text/plain": [
              "['0', '1', '2', '3', '4', '5', '6', '7', '8', '9']"
            ]
          },
          "metadata": {},
          "execution_count": 2
        }
      ]
    },
    {
      "cell_type": "code",
      "source": [
        "# Approach 2 : use map function\n",
        "def func_two(n):\n",
        "    return list(map(str,range(n)))"
      ],
      "metadata": {
        "id": "oYy2qFcZBV7W"
      },
      "execution_count": 3,
      "outputs": []
    },
    {
      "cell_type": "code",
      "source": [
        "func_two(10)"
      ],
      "metadata": {
        "colab": {
          "base_uri": "https://localhost:8080/"
        },
        "id": "Lr2rL7ruBgX-",
        "outputId": "78d44475-dab9-40a7-c040-76e3c9052351"
      },
      "execution_count": 4,
      "outputs": [
        {
          "output_type": "execute_result",
          "data": {
            "text/plain": [
              "['0', '1', '2', '3', '4', '5', '6', '7', '8', '9']"
            ]
          },
          "metadata": {},
          "execution_count": 4
        }
      ]
    },
    {
      "cell_type": "markdown",
      "source": [
        "### How map function works\n",
        "\n",
        "map(function,iterable)\n",
        "\n",
        "* map creates an object such that a function acts on each iterable\n",
        "* you need to return a list from map objects to get the result"
      ],
      "metadata": {
        "id": "OqrhafobChr8"
      }
    },
    {
      "cell_type": "code",
      "source": [
        "# Squaring Numbers\n",
        "numbers = [1, 2, 3, 4, 5]\n",
        "squared_numbers = map(lambda x: x**2, numbers)\n",
        "print(list(squared_numbers))  # Output: [1, 4, 9, 16, 25]"
      ],
      "metadata": {
        "colab": {
          "base_uri": "https://localhost:8080/"
        },
        "id": "Xf6sLlkCBjT6",
        "outputId": "36d54fa5-9f74-4fd2-aa48-17c4487012a8"
      },
      "execution_count": null,
      "outputs": [
        {
          "output_type": "stream",
          "name": "stdout",
          "text": [
            "[1, 4, 9, 16, 25]\n"
          ]
        }
      ]
    },
    {
      "cell_type": "code",
      "source": [
        "# Converting Strings to Uppercase\n",
        "names = [\"Alice\", \"Bob\", \"Charlie\"]\n",
        "uppercase_names = map(str.upper, names)\n",
        "print(list(uppercase_names))  # Output: ['ALICE', 'BOB', 'CHARLIE']"
      ],
      "metadata": {
        "colab": {
          "base_uri": "https://localhost:8080/"
        },
        "id": "IgiBOhf2C7BK",
        "outputId": "8697a485-5382-4cbf-eb97-ae2b2409545a"
      },
      "execution_count": null,
      "outputs": [
        {
          "output_type": "stream",
          "name": "stdout",
          "text": [
            "['ALICE', 'BOB', 'CHARLIE']\n"
          ]
        }
      ]
    },
    {
      "cell_type": "code",
      "source": [
        "# Applying Multiple Functions to a List\n",
        "numbers = [1, 2, 3, 4, 5]\n",
        "squared_and_cubed = map(lambda x: (x**2, x**3), numbers)\n",
        "print(list(squared_and_cubed))  # Output: [(1, 1), (4, 8), (9, 27), (16, 64), (25, 125)]"
      ],
      "metadata": {
        "colab": {
          "base_uri": "https://localhost:8080/"
        },
        "id": "65GMHCrQDEuV",
        "outputId": "907c6886-b886-4716-905a-d0a0283803dd"
      },
      "execution_count": null,
      "outputs": [
        {
          "output_type": "stream",
          "name": "stdout",
          "text": [
            "[(1, 1), (4, 8), (9, 27), (16, 64), (25, 125)]\n"
          ]
        }
      ]
    },
    {
      "cell_type": "code",
      "source": [
        "# Using map() with a custom function\n",
        "\n",
        "def multiply_by_two(x):\n",
        "    return x * 2\n",
        "\n",
        "numbers = [1, 2, 3, 4, 5]\n",
        "doubled_numbers = map(multiply_by_two, numbers)\n",
        "print(list(doubled_numbers))  # Output: [2, 4, 6, 8, 10]"
      ],
      "metadata": {
        "colab": {
          "base_uri": "https://localhost:8080/"
        },
        "id": "7Kg5UktpDKJI",
        "outputId": "c4d48f6f-a7fb-4fc9-df14-c616eeb48d50"
      },
      "execution_count": null,
      "outputs": [
        {
          "output_type": "stream",
          "name": "stdout",
          "text": [
            "[2, 4, 6, 8, 10]\n"
          ]
        }
      ]
    },
    {
      "cell_type": "code",
      "source": [
        "import time"
      ],
      "metadata": {
        "id": "nQ5-Tnd5DQ8Q"
      },
      "execution_count": 6,
      "outputs": []
    },
    {
      "cell_type": "code",
      "source": [
        "# GRAB THE CURRENT TIME BEFORE THE CODE IS EXECUTED\n",
        "start_time = time.time()\n",
        "\n",
        "# RUN CODE\n",
        "result = func_one(1000000)\n",
        "\n",
        "# GRAB THE CURRENT TIME AFTER THE CODE IS EXECUTED\n",
        "end_time = time.time()\n",
        "\n",
        "# ELAPSED TIME\n",
        "elapsed_time = end_time - start_time\n",
        "\n",
        "print(elapsed_time) # in secs"
      ],
      "metadata": {
        "colab": {
          "base_uri": "https://localhost:8080/"
        },
        "id": "TLWcxOdmD7l1",
        "outputId": "202ceea0-5807-4834-857e-b6f7453d910b"
      },
      "execution_count": 7,
      "outputs": [
        {
          "output_type": "stream",
          "name": "stdout",
          "text": [
            "0.21345257759094238\n"
          ]
        }
      ]
    },
    {
      "cell_type": "code",
      "source": [
        "# GRAB THE CURRENT TIME BEFORE THE CODE IS EXECUTED\n",
        "start_time = time.time()\n",
        "\n",
        "# RUN CODE\n",
        "result = func_two(1000000)\n",
        "\n",
        "# GRAB THE CURRENT TIME AFTER THE CODE IS EXECUTED\n",
        "end_time = time.time()\n",
        "\n",
        "# ELAPSED TIME\n",
        "elapsed_time = end_time - start_time\n",
        "\n",
        "print(elapsed_time) # in secs"
      ],
      "metadata": {
        "colab": {
          "base_uri": "https://localhost:8080/"
        },
        "id": "wbMgAZ-WEGIg",
        "outputId": "103a1eba-0058-4c22-d268-a70840553d90"
      },
      "execution_count": 8,
      "outputs": [
        {
          "output_type": "stream",
          "name": "stdout",
          "text": [
            "0.2784132957458496\n"
          ]
        }
      ]
    },
    {
      "cell_type": "markdown",
      "source": [
        "**func_two() ran faster in 1st test\\\n",
        "func_two() ran slower next time**"
      ],
      "metadata": {
        "id": "HXPzmQ8PEa_i"
      }
    },
    {
      "cell_type": "code",
      "source": [
        "# but there are certain limitations with the above approach\n",
        "\n",
        "# with a small range, the difference becomes negligible to detect\n",
        "\n",
        "num = 10\n",
        "\n",
        "# GRAB THE CURRENT TIME BEFORE THE CODE IS EXECUTED\n",
        "start_time = time.time()\n",
        "\n",
        "# RUN CODE\n",
        "result = func_one(num)\n",
        "\n",
        "# GRAB THE CURRENT TIME AFTER THE CODE IS EXECUTED\n",
        "end_time = time.time()\n",
        "\n",
        "# ELAPSED TIME\n",
        "elapsed_time = end_time - start_time\n",
        "\n",
        "print(f\"func_one elapsed time : {elapsed_time}\") # in secs\n",
        "\n",
        "\n",
        "# GRAB THE CURRENT TIME BEFORE THE CODE IS EXECUTED\n",
        "start_time = time.time()\n",
        "\n",
        "# RUN CODE\n",
        "result = func_two(num)\n",
        "\n",
        "# GRAB THE CURRENT TIME AFTER THE CODE IS EXECUTED\n",
        "end_time = time.time()\n",
        "\n",
        "# ELAPSED TIME\n",
        "elapsed_time = end_time - start_time\n",
        "\n",
        "print(f\"func_two elapsed time : {elapsed_time}\") # in secs\n"
      ],
      "metadata": {
        "colab": {
          "base_uri": "https://localhost:8080/"
        },
        "id": "wZIIYWPvEZkT",
        "outputId": "e6266714-b477-422b-a90e-6ea0712dcbd0"
      },
      "execution_count": 10,
      "outputs": [
        {
          "output_type": "stream",
          "name": "stdout",
          "text": [
            "func_one elapsed time : 8.821487426757812e-05\n",
            "func_two elapsed time : 0.00011491775512695312\n"
          ]
        }
      ]
    },
    {
      "cell_type": "markdown",
      "source": [
        "### use of timeit module"
      ],
      "metadata": {
        "id": "82wfpNnDHCq3"
      }
    },
    {
      "cell_type": "code",
      "source": [
        "import timeit"
      ],
      "metadata": {
        "id": "XicOIgJnE-4Q"
      },
      "execution_count": 11,
      "outputs": []
    },
    {
      "cell_type": "code",
      "source": [
        "\n",
        "# timeit.timeit params\n",
        "\n",
        "#     - stmt = what\n",
        "#     - setup = definition of what\n",
        "#     - number = how many times you want to run"
      ],
      "metadata": {
        "id": "AbRGiNkbHHcf"
      },
      "execution_count": 13,
      "outputs": []
    },
    {
      "cell_type": "code",
      "source": [
        "# FUNCTION 1\n",
        "\n",
        "stmt = '''\n",
        "func_one(100)\n",
        "'''\n",
        "\n",
        "# setup function 1\n",
        "setup = '''\n",
        "def func_one(n):\n",
        "    return [str(num) for num in range(n)]\n",
        "'''\n",
        "\n",
        "timeit.timeit(stmt,setup,number = 100000)"
      ],
      "metadata": {
        "colab": {
          "base_uri": "https://localhost:8080/"
        },
        "id": "AGgFJAT1HXYf",
        "outputId": "1648af6a-4907-406d-a502-c12eaaa16eb3"
      },
      "execution_count": 16,
      "outputs": [
        {
          "output_type": "execute_result",
          "data": {
            "text/plain": [
              "1.8916470450000133"
            ]
          },
          "metadata": {},
          "execution_count": 16
        }
      ]
    },
    {
      "cell_type": "code",
      "source": [
        "# FUNCTION 2\n",
        "\n",
        "stmt = '''\n",
        "func_two(100)\n",
        "'''\n",
        "\n",
        "# setup function 2\n",
        "setup = '''\n",
        "def func_two(n):\n",
        "    return list(map(str,range(n)))\n",
        "'''\n",
        "\n",
        "timeit.timeit(stmt,setup,number = 100000)"
      ],
      "metadata": {
        "colab": {
          "base_uri": "https://localhost:8080/"
        },
        "id": "Q5nDA5zBIL-W",
        "outputId": "2e9902f5-1d78-41c6-b954-e78793932c5f"
      },
      "execution_count": 17,
      "outputs": [
        {
          "output_type": "execute_result",
          "data": {
            "text/plain": [
              "1.1329486879999422"
            ]
          },
          "metadata": {},
          "execution_count": 17
        }
      ]
    },
    {
      "cell_type": "markdown",
      "source": [
        "**Function 2 seems to be performing better**"
      ],
      "metadata": {
        "id": "Fpfa2EKYI4Vv"
      }
    },
    {
      "cell_type": "markdown",
      "source": [
        "### Jupyter specific %%timeit"
      ],
      "metadata": {
        "id": "H2Bi1xtmJJO5"
      }
    },
    {
      "cell_type": "code",
      "source": [
        "%%timeit\n",
        "func_one(100)"
      ],
      "metadata": {
        "colab": {
          "base_uri": "https://localhost:8080/"
        },
        "id": "g5FdDgyXIVX0",
        "outputId": "9ef208e5-8fc5-4f04-8d56-debbaa69df13"
      },
      "execution_count": 18,
      "outputs": [
        {
          "output_type": "stream",
          "name": "stdout",
          "text": [
            "16.5 µs ± 3.71 µs per loop (mean ± std. dev. of 7 runs, 100000 loops each)\n"
          ]
        }
      ]
    },
    {
      "cell_type": "code",
      "source": [
        "%%timeit\n",
        "func_two(100)"
      ],
      "metadata": {
        "id": "7TfCUnt3JUwX",
        "outputId": "78feb3cb-fe73-44b2-de8c-c8d57bebafe9",
        "colab": {
          "base_uri": "https://localhost:8080/"
        }
      },
      "execution_count": 19,
      "outputs": [
        {
          "output_type": "stream",
          "name": "stdout",
          "text": [
            "20.8 µs ± 580 ns per loop (mean ± std. dev. of 7 runs, 10000 loops each)\n"
          ]
        }
      ]
    },
    {
      "cell_type": "code",
      "source": [],
      "metadata": {
        "id": "omH4yKu1JdBL"
      },
      "execution_count": null,
      "outputs": []
    }
  ]
}