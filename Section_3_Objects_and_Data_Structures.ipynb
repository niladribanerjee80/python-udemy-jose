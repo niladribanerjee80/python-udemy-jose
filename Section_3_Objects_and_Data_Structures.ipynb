{
  "nbformat": 4,
  "nbformat_minor": 0,
  "metadata": {
    "colab": {
      "provenance": [],
      "authorship_tag": "ABX9TyNQ9Au0o8iiXtEgLB/CVdwN",
      "include_colab_link": true
    },
    "kernelspec": {
      "name": "python3",
      "display_name": "Python 3"
    },
    "language_info": {
      "name": "python"
    }
  },
  "cells": [
    {
      "cell_type": "markdown",
      "metadata": {
        "id": "view-in-github",
        "colab_type": "text"
      },
      "source": [
        "<a href=\"https://colab.research.google.com/github/niladribanerjee80/python-udemy-jose/blob/main/Section_3_Objects_and_Data_Structures_Lecture_21_Lists.ipynb\" target=\"_parent\"><img src=\"https://colab.research.google.com/assets/colab-badge.svg\" alt=\"Open In Colab\"/></a>"
      ]
    },
    {
      "cell_type": "markdown",
      "source": [
        "# **Lists**\n",
        "\n",
        "\n",
        "---\n",
        "\n",
        "Lists are ordered sequences that can hold variety of object types \\\n",
        "e.g \\\n",
        "\n",
        "\n",
        "*   [1,2,3] is a list\n",
        "*   [\"My STRING\",100.23,67] is also a list\n",
        "\n",
        "Lists can be muted / changed and can be nested\n",
        "\n"
      ],
      "metadata": {
        "id": "iqiIQ79FNwSU"
      }
    },
    {
      "cell_type": "code",
      "source": [
        "# list of integers\n",
        "my_list = [1,2,3]\n",
        "my_list"
      ],
      "metadata": {
        "colab": {
          "base_uri": "https://localhost:8080/"
        },
        "id": "4IWMTeNcG-g7",
        "outputId": "0408a00d-4eed-485c-ccea-4428781ee9ac"
      },
      "execution_count": 5,
      "outputs": [
        {
          "output_type": "execute_result",
          "data": {
            "text/plain": [
              "[1, 2, 3]"
            ]
          },
          "metadata": {},
          "execution_count": 5
        }
      ]
    },
    {
      "cell_type": "code",
      "source": [
        "# list of mixed objects\n",
        "my_list = [\"STRING\",2,3.56]\n",
        "my_list"
      ],
      "metadata": {
        "colab": {
          "base_uri": "https://localhost:8080/"
        },
        "id": "GCzwLhoJMvv9",
        "outputId": "e1cff823-8559-44b2-987f-811d37841b6e"
      },
      "execution_count": 6,
      "outputs": [
        {
          "output_type": "execute_result",
          "data": {
            "text/plain": [
              "['STRING', 2, 3.56]"
            ]
          },
          "metadata": {},
          "execution_count": 6
        }
      ]
    },
    {
      "cell_type": "code",
      "source": [
        "# length of list\n",
        "len(my_list)"
      ],
      "metadata": {
        "colab": {
          "base_uri": "https://localhost:8080/"
        },
        "id": "sfjbveKwOmLN",
        "outputId": "feae3aa8-7279-45aa-b982-86de701e4677"
      },
      "execution_count": 7,
      "outputs": [
        {
          "output_type": "execute_result",
          "data": {
            "text/plain": [
              "3"
            ]
          },
          "metadata": {},
          "execution_count": 7
        }
      ]
    },
    {
      "cell_type": "code",
      "source": [
        "# Lists support indexing\n",
        "my_list = [\"one\",\"two\",\"three\"]\n",
        "my_list[0]"
      ],
      "metadata": {
        "colab": {
          "base_uri": "https://localhost:8080/",
          "height": 35
        },
        "id": "CKR-YGtTOvgk",
        "outputId": "504c3d99-7fd8-47ef-bcd6-0bdd33b105bc"
      },
      "execution_count": 13,
      "outputs": [
        {
          "output_type": "execute_result",
          "data": {
            "text/plain": [
              "'one'"
            ],
            "application/vnd.google.colaboratory.intrinsic+json": {
              "type": "string"
            }
          },
          "metadata": {},
          "execution_count": 13
        }
      ]
    },
    {
      "cell_type": "code",
      "source": [
        "# Lists support slicing like in strings\n",
        "my_list[1:]"
      ],
      "metadata": {
        "colab": {
          "base_uri": "https://localhost:8080/"
        },
        "id": "EV4ZInC0O4Se",
        "outputId": "9ba1305d-57e8-4519-b61c-18afd3bde509"
      },
      "execution_count": 14,
      "outputs": [
        {
          "output_type": "execute_result",
          "data": {
            "text/plain": [
              "['two', 'three']"
            ]
          },
          "metadata": {},
          "execution_count": 14
        }
      ]
    },
    {
      "cell_type": "code",
      "source": [
        "# List concatenation is also possible\n",
        "another_list = [\"four\",\"five\"]\n",
        "my_list = my_list + another_list\n",
        "my_list"
      ],
      "metadata": {
        "colab": {
          "base_uri": "https://localhost:8080/"
        },
        "id": "0F0BA4hyPBde",
        "outputId": "8009eb99-9ad2-4b5b-b56f-d84f03e26638"
      },
      "execution_count": 15,
      "outputs": [
        {
          "output_type": "execute_result",
          "data": {
            "text/plain": [
              "['one', 'two', 'three', 'four', 'five']"
            ]
          },
          "metadata": {},
          "execution_count": 15
        }
      ]
    },
    {
      "cell_type": "code",
      "source": [
        "# List can be muted\n",
        "my_list[0] = \"ONE ALL CAPS\"\n",
        "my_list"
      ],
      "metadata": {
        "colab": {
          "base_uri": "https://localhost:8080/"
        },
        "id": "ltzSXmY_PGpq",
        "outputId": "018de58d-3c29-4850-b6a0-e2238da22955"
      },
      "execution_count": 16,
      "outputs": [
        {
          "output_type": "execute_result",
          "data": {
            "text/plain": [
              "['ONE ALL CAPS', 'two', 'three', 'four', 'five']"
            ]
          },
          "metadata": {},
          "execution_count": 16
        }
      ]
    },
    {
      "cell_type": "code",
      "source": [
        "# List methods = list.append() = adds element to the end of the list\n",
        "my_list.append(\"six\")\n",
        "my_list"
      ],
      "metadata": {
        "colab": {
          "base_uri": "https://localhost:8080/"
        },
        "id": "vrLtFojhPNHe",
        "outputId": "72ab87e4-0434-420b-cb02-5537bf8b53af"
      },
      "execution_count": 17,
      "outputs": [
        {
          "output_type": "execute_result",
          "data": {
            "text/plain": [
              "['ONE ALL CAPS', 'two', 'three', 'four', 'five', 'six']"
            ]
          },
          "metadata": {},
          "execution_count": 17
        }
      ]
    },
    {
      "cell_type": "code",
      "source": [
        "# List methods = list.insert()\n",
        "my_list.insert(0,\"zero\")\n",
        "my_list"
      ],
      "metadata": {
        "colab": {
          "base_uri": "https://localhost:8080/"
        },
        "id": "kOfx-YDyPi2F",
        "outputId": "e408b41c-c6ba-431d-831e-789ef4a3b67f"
      },
      "execution_count": 18,
      "outputs": [
        {
          "output_type": "execute_result",
          "data": {
            "text/plain": [
              "['zero', 'ONE ALL CAPS', 'two', 'three', 'four', 'five', 'six']"
            ]
          },
          "metadata": {},
          "execution_count": 18
        }
      ]
    },
    {
      "cell_type": "code",
      "source": [
        "# List methods = list.pop() = removes item from last if index position is not mentioned\n",
        "my_list.pop()\n",
        "my_list"
      ],
      "metadata": {
        "colab": {
          "base_uri": "https://localhost:8080/"
        },
        "id": "9J2wRAcrPvcJ",
        "outputId": "35a20e3e-6688-4d79-a286-2af2672a620c"
      },
      "execution_count": 19,
      "outputs": [
        {
          "output_type": "execute_result",
          "data": {
            "text/plain": [
              "['zero', 'ONE ALL CAPS', 'two', 'three', 'four', 'five']"
            ]
          },
          "metadata": {},
          "execution_count": 19
        }
      ]
    },
    {
      "cell_type": "code",
      "source": [
        "# grab the last element\n",
        "popped_item = my_list.pop()\n",
        "popped_item"
      ],
      "metadata": {
        "colab": {
          "base_uri": "https://localhost:8080/",
          "height": 35
        },
        "id": "aWcSzYRtP7Mk",
        "outputId": "9084a812-bedc-43ce-b149-31c9703c6ad3"
      },
      "execution_count": 20,
      "outputs": [
        {
          "output_type": "execute_result",
          "data": {
            "text/plain": [
              "'five'"
            ],
            "application/vnd.google.colaboratory.intrinsic+json": {
              "type": "string"
            }
          },
          "metadata": {},
          "execution_count": 20
        }
      ]
    },
    {
      "cell_type": "code",
      "source": [
        "# remove something from a different position. Let say let's remove 'ONE ALL CAPS'\n",
        "popped_item = my_list.pop(1)\n",
        "print(popped_item)\n",
        "print(my_list)"
      ],
      "metadata": {
        "colab": {
          "base_uri": "https://localhost:8080/"
        },
        "id": "clOrzN6EQAat",
        "outputId": "d1c4ac0d-804d-483f-f2c5-10e0c62f0d19"
      },
      "execution_count": 21,
      "outputs": [
        {
          "output_type": "stream",
          "name": "stdout",
          "text": [
            "ONE ALL CAPS\n",
            "['zero', 'two', 'three', 'four']\n"
          ]
        }
      ]
    },
    {
      "cell_type": "code",
      "source": [
        "# List sort method with strings\n",
        "new_list = [\"a\",\"e\",\"x\",\"b\",\"c\"]\n",
        "new_list.sort()\n",
        "new_list"
      ],
      "metadata": {
        "colab": {
          "base_uri": "https://localhost:8080/"
        },
        "id": "JCQdF9nRQPup",
        "outputId": "92bb6117-2e77-47e0-e03c-e2823dc2cd14"
      },
      "execution_count": 22,
      "outputs": [
        {
          "output_type": "execute_result",
          "data": {
            "text/plain": [
              "['a', 'b', 'c', 'e', 'x']"
            ]
          },
          "metadata": {},
          "execution_count": 22
        }
      ]
    },
    {
      "cell_type": "code",
      "source": [
        "# List sort method with numbers\n",
        "new_list = [4,1,8,3]\n",
        "new_list.sort()\n",
        "new_list"
      ],
      "metadata": {
        "colab": {
          "base_uri": "https://localhost:8080/"
        },
        "id": "vq239SKJQYq2",
        "outputId": "0b69b55f-6d86-40ab-9384-53d70379fbf5"
      },
      "execution_count": 23,
      "outputs": [
        {
          "output_type": "execute_result",
          "data": {
            "text/plain": [
              "[1, 3, 4, 8]"
            ]
          },
          "metadata": {},
          "execution_count": 23
        }
      ]
    },
    {
      "cell_type": "code",
      "source": [
        "# Reverse a list\n",
        "new_list = [4,1,8,3]\n",
        "new_list.reverse()\n",
        "new_list"
      ],
      "metadata": {
        "colab": {
          "base_uri": "https://localhost:8080/"
        },
        "id": "YCxLAG6YQgYT",
        "outputId": "f91f145e-f1a1-4624-f81d-49c8b82e8291"
      },
      "execution_count": 24,
      "outputs": [
        {
          "output_type": "execute_result",
          "data": {
            "text/plain": [
              "[3, 8, 1, 4]"
            ]
          },
          "metadata": {},
          "execution_count": 24
        }
      ]
    },
    {
      "cell_type": "code",
      "source": [
        "# How do I index a nested list? For example if I want to grab 2 from [1,1,[1,2]]\n",
        "list_1 = [1,1,[1,2]]\n",
        "list_1[2][1]"
      ],
      "metadata": {
        "colab": {
          "base_uri": "https://localhost:8080/"
        },
        "id": "uJkq5xSVQndO",
        "outputId": "4a40a5dd-1b3d-4b58-9c72-61159f84af03"
      },
      "execution_count": 25,
      "outputs": [
        {
          "output_type": "execute_result",
          "data": {
            "text/plain": [
              "2"
            ]
          },
          "metadata": {},
          "execution_count": 25
        }
      ]
    },
    {
      "cell_type": "code",
      "source": [
        "# Create a list using input()\n",
        "items = input(\"Enter multiple integers : \").strip().split()"
      ],
      "metadata": {
        "colab": {
          "base_uri": "https://localhost:8080/"
        },
        "id": "wYBSJhLqQ438",
        "outputId": "aef68d72-7dc4-45db-f492-51268028d28e"
      },
      "execution_count": 29,
      "outputs": [
        {
          "name": "stdout",
          "output_type": "stream",
          "text": [
            "Enter multiple integers : 1 2 3 4  \n"
          ]
        }
      ]
    },
    {
      "cell_type": "code",
      "source": [
        "items"
      ],
      "metadata": {
        "colab": {
          "base_uri": "https://localhost:8080/"
        },
        "id": "zJxgt4RTR_KB",
        "outputId": "aaa68826-b088-4e6d-b898-d14834901cbe"
      },
      "execution_count": 30,
      "outputs": [
        {
          "output_type": "execute_result",
          "data": {
            "text/plain": [
              "['1', '2', '3', '4']"
            ]
          },
          "metadata": {},
          "execution_count": 30
        }
      ]
    },
    {
      "cell_type": "code",
      "source": [],
      "metadata": {
        "id": "GOJgVP3cSQOn"
      },
      "execution_count": null,
      "outputs": []
    }
  ]
}
