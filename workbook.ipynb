{
  "nbformat": 4,
  "nbformat_minor": 0,
  "metadata": {
    "colab": {
      "provenance": [],
      "authorship_tag": "ABX9TyM8bAplXxZ4ud9IkIKqQ8qo",
      "include_colab_link": true
    },
    "kernelspec": {
      "name": "python3",
      "display_name": "Python 3"
    },
    "language_info": {
      "name": "python"
    }
  },
  "cells": [
    {
      "cell_type": "markdown",
      "metadata": {
        "id": "view-in-github",
        "colab_type": "text"
      },
      "source": [
        "<a href=\"https://colab.research.google.com/github/niladribanerjee80/python-udemy-jose/blob/main/workbook.ipynb\" target=\"_parent\"><img src=\"https://colab.research.google.com/assets/colab-badge.svg\" alt=\"Open In Colab\"/></a>"
      ]
    },
    {
      "cell_type": "markdown",
      "source": [
        "# OOP"
      ],
      "metadata": {
        "id": "zP3RTLzLqEUB"
      }
    },
    {
      "cell_type": "markdown",
      "source": [
        "## Example 1 = Circle"
      ],
      "metadata": {
        "id": "7c07qRSdq5QB"
      }
    },
    {
      "cell_type": "code",
      "source": [
        "class Circle():\n",
        "    # class object attributes\n",
        "    pi = 3.14\n",
        "\n",
        "    def __init__(self,radius = 1):\n",
        "        self.radius = radius\n",
        "\n",
        "        # we could have used self.pi as well, but if it is a class attr, it is better to use it with the class name\n",
        "        self.area = Circle.pi * (self.radius ** 2)\n",
        "\n",
        "    def get_circumference (self):\n",
        "        # we could have used self.pi as well\n",
        "        return 2 * Circle.pi * self.radius"
      ],
      "metadata": {
        "id": "vHZPlzakqWaD"
      },
      "execution_count": null,
      "outputs": []
    },
    {
      "cell_type": "code",
      "source": [
        "my_circle = Circle(30)"
      ],
      "metadata": {
        "id": "hw28mSqnqXZJ"
      },
      "execution_count": null,
      "outputs": []
    },
    {
      "cell_type": "code",
      "source": [
        "my_circumfearnce = my_circle.get_circumference()\n",
        "print(my_circumfearnce)"
      ],
      "metadata": {
        "id": "ezQUseEeqXd_"
      },
      "execution_count": null,
      "outputs": []
    },
    {
      "cell_type": "code",
      "source": [
        "print(my_circle.area)"
      ],
      "metadata": {
        "id": "FX6P2SMjqXh4"
      },
      "execution_count": null,
      "outputs": []
    },
    {
      "cell_type": "markdown",
      "source": [
        "## Example 2 : Inheritance"
      ],
      "metadata": {
        "id": "l-VGhl6Fq793"
      }
    },
    {
      "cell_type": "code",
      "execution_count": null,
      "metadata": {
        "id": "SnVDqe8qqBWQ"
      },
      "outputs": [],
      "source": [
        "# Base class\n",
        "\n",
        "class Animal():\n",
        "\n",
        "    def __init__(self):\n",
        "        print(\"ANIMAL CREATED\")\n",
        "\n",
        "    def who_am_i(self):\n",
        "        print(\"I am an animal\")\n",
        "\n",
        "    def eat(self):\n",
        "        print(\"I am eating\")"
      ]
    },
    {
      "cell_type": "code",
      "source": [
        "myanimal = Animal()"
      ],
      "metadata": {
        "id": "6i36X04tqLu2"
      },
      "execution_count": null,
      "outputs": []
    },
    {
      "cell_type": "code",
      "source": [
        "# Derived class = Dog class that uses the methods of Animal class\n",
        "class Dog(Animal):\n",
        "\n",
        "    def __init__(self):\n",
        "        Animal.__init__(self) # method of Animal.__init__() will get called\n",
        "        print(\"Dog created\")"
      ],
      "metadata": {
        "id": "-0zPJEKsqN9B"
      },
      "execution_count": null,
      "outputs": []
    },
    {
      "cell_type": "code",
      "source": [
        "mydog = Dog()"
      ],
      "metadata": {
        "id": "zqOmoNYgrHW9"
      },
      "execution_count": null,
      "outputs": []
    },
    {
      "cell_type": "code",
      "source": [
        "# because of inheritence\n",
        "mydog.eat()"
      ],
      "metadata": {
        "id": "XcVDulsZrIHi"
      },
      "execution_count": null,
      "outputs": []
    },
    {
      "cell_type": "code",
      "source": [
        "# what if we want to override a method in derived class = Dog\n",
        "\n",
        "class Dog(Animal):\n",
        "\n",
        "    def __init__(self):\n",
        "        print(\"Dog created\")\n",
        "\n",
        "    def who_am_i(self): # overriden method\n",
        "        print(\"I am a dog\")\n",
        "\n",
        "    def bark(self):\n",
        "        print(\"WOOF!\")"
      ],
      "metadata": {
        "id": "yYLnC2bJrLPU"
      },
      "execution_count": null,
      "outputs": []
    },
    {
      "cell_type": "code",
      "source": [
        "mydog = Dog()"
      ],
      "metadata": {
        "id": "UfYMIJtqrLSn"
      },
      "execution_count": null,
      "outputs": []
    },
    {
      "cell_type": "code",
      "source": [
        "mydog.who_am_i()"
      ],
      "metadata": {
        "id": "5O2b2bwQsEFi"
      },
      "execution_count": null,
      "outputs": []
    },
    {
      "cell_type": "code",
      "source": [
        "mydog.eat()"
      ],
      "metadata": {
        "id": "deLvQ_DysF60"
      },
      "execution_count": null,
      "outputs": []
    },
    {
      "cell_type": "markdown",
      "source": [
        "## Polymorphism"
      ],
      "metadata": {
        "id": "s4TKWz0R-_Sx"
      }
    },
    {
      "cell_type": "code",
      "source": [
        "class Dog():\n",
        "\n",
        "    def __init__(self,name):\n",
        "        self.name = name\n",
        "\n",
        "    def speak(self):\n",
        "        return self.name + \" says woof\""
      ],
      "metadata": {
        "id": "OsqM7CUQsI9j"
      },
      "execution_count": null,
      "outputs": []
    },
    {
      "cell_type": "code",
      "source": [
        "class Cat():\n",
        "\n",
        "    def __init__(self,name):\n",
        "        self.name = name\n",
        "\n",
        "    def speak(self):\n",
        "        return self.name + \" says meow\""
      ],
      "metadata": {
        "id": "AcnVdv5Z_DxA"
      },
      "execution_count": null,
      "outputs": []
    },
    {
      "cell_type": "code",
      "source": [
        "niko = Dog(\"niko\")\n",
        "felix = Cat(\"felix\")"
      ],
      "metadata": {
        "id": "y4-ZnUc5_Gw5"
      },
      "execution_count": null,
      "outputs": []
    },
    {
      "cell_type": "code",
      "source": [
        "print(niko.speak())\n",
        "print(felix.speak())"
      ],
      "metadata": {
        "id": "diwRXnab_UMz"
      },
      "execution_count": null,
      "outputs": []
    },
    {
      "cell_type": "code",
      "source": [
        "# the below function\n",
        "    # 1. calling the same function speak() with the object that is passed to it\n",
        "    # 2. it does not know the implementation of the speak()\n",
        "def pet_speak(pet):\n",
        "    print(pet.speak())"
      ],
      "metadata": {
        "id": "1C7CYLEr_W0O"
      },
      "execution_count": null,
      "outputs": []
    },
    {
      "cell_type": "code",
      "source": [
        "pet_speak(niko)"
      ],
      "metadata": {
        "id": "n4gqJKQD_e2A"
      },
      "execution_count": null,
      "outputs": []
    },
    {
      "cell_type": "code",
      "source": [
        "pet_speak(felix)"
      ],
      "metadata": {
        "id": "QHG17AJK_ie5"
      },
      "execution_count": null,
      "outputs": []
    },
    {
      "cell_type": "code",
      "source": [
        "class Account():\n",
        "\n",
        "    def __init__(self):\n",
        "        self.accounts = []\n",
        "\n",
        "    def add_accounts(self,owner,balance):\n",
        "        self.owner = owner\n",
        "        self.balance = balance\n",
        "\n",
        "        self.accounts.append(\n",
        "                                {\n",
        "                                    \"owner\" : self.owner,\n",
        "                                    \"balance\": self.balance\n",
        "                                }\n",
        "                            )\n",
        "\n",
        "    def validate_owner(self,owner):\n",
        "        self.owner = owner\n",
        "        print('Validate owner:',self.owner)\n",
        "\n",
        "        for acct in self.accounts:\n",
        "            if acct['owner'] == self.owner:\n",
        "                return True\n",
        "        return False\n",
        "\n",
        "    def deposit(self,owner,deposit_amt):\n",
        "        self.owner = owner\n",
        "        self.deposit_amt = deposit_amt\n",
        "\n",
        "        for acct in self.accounts:\n",
        "            if acct['owner'] == self.owner:\n",
        "                acct['balance'] = acct['balance'] + self.deposit_amt\n",
        "                return True\n",
        "        return False\n",
        "\n",
        "    def withdrawals(self,owner,withdraw_amt):\n",
        "        self.owner = owner\n",
        "        self.withdraw_amt = withdraw_amt\n",
        "\n",
        "        for acct in self.accounts:\n",
        "            if acct['owner'] == self.owner:\n",
        "                if float(acct['balance']) >= self.withdraw_amt:\n",
        "                    acct['balance'] = acct['balance'] - self.withdraw_amt\n",
        "                    return True\n",
        "\n",
        "        return False\n",
        "\n",
        "    # use of dunder methods\n",
        "    def __str__(self):\n",
        "        print(' ')\n",
        "        print(\"--------------------\")\n",
        "        print(' Displaying balance ')\n",
        "        print(\"--------------------\")\n",
        "\n",
        "        for acct in self.accounts:\n",
        "            if acct['owner'] == self.owner:\n",
        "                # show the updated balance\n",
        "                return (f\"{'Account:':<10} {acct['owner']}\\n{'Balance:':<10} {acct['balance']}\\n\\n\")\n",
        "\n",
        "def main():\n",
        "    print('Welcome to the Bank !!')\n",
        "\n",
        "    myacct = Account()\n",
        "\n",
        "    # initializing variables\n",
        "    continue_op = True\n",
        "\n",
        "    while continue_op:\n",
        "\n",
        "        # initializing variables\n",
        "        owner = ''\n",
        "        balance = 0\n",
        "        deposit_amt = 0\n",
        "        withdrawal_amt = 0\n",
        "\n",
        "        owner = input(\"Enter the owner : \").strip()\n",
        "\n",
        "        if myacct.validate_owner(owner) == True:\n",
        "            print('Owner Exists')\n",
        "        else:\n",
        "            # first time owner entry and therefore balance is required\n",
        "            print('Owner needs to be registered')\n",
        "\n",
        "            while 'float' not in str(type(balance)):\n",
        "                balance = input(\"Enter the balance : \").strip()\n",
        "                if balance.isdigit():\n",
        "                    balance = float(balance)\n",
        "\n",
        "            # adding the accounts\n",
        "            myacct.add_accounts(owner,balance)\n",
        "\n",
        "        print(myacct)\n",
        "        # myacct.display_balance(owner)\n",
        "\n",
        "        print(\"--------------------\")\n",
        "        print(f\"Choose your operation for the owner : {owner}\")\n",
        "        print(\"--------------------\")\n",
        "        print(\"1. Depsoit\")\n",
        "        print(\"2. Withdrawals \")\n",
        "        print(\"--------------------\")\n",
        "\n",
        "        operation = 'wrong'\n",
        "\n",
        "        while operation not in ['1','2']:\n",
        "            operation = input(\"Choose your desired operation (1/2) : \").strip()\n",
        "\n",
        "        if operation == '1':\n",
        "\n",
        "            while 'float' not in str(type(deposit_amt)):\n",
        "                deposit_amt = input(\"How much you want to deposit : \").strip()\n",
        "\n",
        "                if deposit_amt.isdigit():\n",
        "                    deposit_amt = float(deposit_amt)\n",
        "\n",
        "            result = myacct.deposit(owner,deposit_amt)\n",
        "\n",
        "            if result:\n",
        "                print('Deposit was successful')\n",
        "            else:\n",
        "                print('Deposit was not successful. Try again..')\n",
        "        else:\n",
        "            while 'float' not in str(type(withdrawal_amt)):\n",
        "                withdrawal_amt = input(\"How much you want to withdraw : \").strip()\n",
        "\n",
        "                if withdrawal_amt.isdigit():\n",
        "                    withdrawal_amt = float(withdrawal_amt)\n",
        "\n",
        "            result = myacct.withdrawals(owner,withdrawal_amt)\n",
        "\n",
        "            if result:\n",
        "                print('Withdrawal was successful.')\n",
        "            else:\n",
        "                print('Withdrawal was not successful. Try again..')\n",
        "\n",
        "        # show the revised balance for the owner\n",
        "        print(myacct)\n",
        "        # myacct.display_balance(owner)\n",
        "\n",
        "        continue_attempt = 'wrong'\n",
        "\n",
        "        while continue_attempt not in ['Y','N']:\n",
        "            continue_attempt = input(\"Do you want to continue with accounts entry / updates (Y/N) : \").strip()\n",
        "\n",
        "        if continue_attempt == 'N':\n",
        "            continue_op = False\n",
        "\n",
        "            print('Thanks for your operation in Bank')\n",
        "            print(' ')\n",
        "\n",
        "if __name__ == \"__main__\":\n",
        "    main()"
      ],
      "metadata": {
        "id": "FBB97-ED_kzF"
      },
      "execution_count": null,
      "outputs": []
    },
    {
      "cell_type": "markdown",
      "source": [
        "## Classes : Practice from GPT"
      ],
      "metadata": {
        "id": "PYWSfcG8FWWO"
      }
    },
    {
      "cell_type": "code",
      "source": [
        "# Exercise 1: Simple Class and Object\n",
        "# Create a class named `Person` with attributes `name`, `age`, and `city`.\n",
        "# Create an object of this class and print its attributes.\n",
        "\n",
        "class Person():\n",
        "    def __init__(self,name,age,city):\n",
        "        self.name = name\n",
        "        self.age = age\n",
        "        self.city = city\n",
        "\n",
        "    def __str__(self):\n",
        "        return f\"{'Name:':<5} {self.name}\\n{'Age:':5} {self.age}\\n{'City:':<5} {self.city}\"\n",
        "\n",
        "niladri = Person(\"niladri\",44,\"Kolkata\")\n",
        "print(niladri)\n",
        "\n",
        "# Output\n",
        "# Name: niladri\n",
        "# Age:  44\n",
        "# City: Kolkata"
      ],
      "metadata": {
        "colab": {
          "base_uri": "https://localhost:8080/"
        },
        "id": "9UHL-E_gEzwn",
        "outputId": "760e2d96-f818-4df2-8931-b18031978bf6"
      },
      "execution_count": 39,
      "outputs": [
        {
          "output_type": "stream",
          "name": "stdout",
          "text": [
            "Name: niladri\n",
            "Age:  44\n",
            "City: Kolkata\n"
          ]
        }
      ]
    },
    {
      "cell_type": "code",
      "source": [
        "# Exercise 2: Medium Class and Object\n",
        "# Create a class named `Book` with attributes `title`, `author`, and `year_published`. Add a method `display_details()` that prints the book's information. Create an object of this class and call the `display_details()` method.\n",
        "\n",
        "class Book():\n",
        "    def __init__(self,title,author,year_published):\n",
        "        self.title = title\n",
        "        self.author = author\n",
        "        self.year_published = year_published\n",
        "\n",
        "    def display_details(self):\n",
        "        return f\"{'title:':<16} {self.title}\\n{'author:':16} {self.author}\\n{'year_published:':<16} {self.year_published}\"\n",
        "\n",
        "python_book = Book(\"Monte Python\",\"Niladri\",1995)\n",
        "print(python_book.display_details())\n",
        "\n",
        "# Output\n",
        "# title:           Monte Python\n",
        "# author:          Niladri\n",
        "# year_published:  1995\n"
      ],
      "metadata": {
        "id": "iXVX52SqHPV9"
      },
      "execution_count": 41,
      "outputs": []
    },
    {
      "cell_type": "code",
      "source": [
        "## Exercise 3: Medium Class and Object\n",
        "# Create a class named `BankAccount` with attributes `account_number`, `balance`, and `interest_rate`. Add methods `deposit()`, `withdraw()`, and `calculate_interest()`. Create an object of this class and perform various operations on the account.\n",
        "class BankAccount():\n",
        "\n",
        "    def __init__(self,account_number,balance,int_rate):\n",
        "        self.account_number = account_number\n",
        "        self.balance = balance\n",
        "        self.int_rate = int_rate\n",
        "\n",
        "    def deposit(self,deposit_amt):\n",
        "        self.balance += deposit_amt\n",
        "\n",
        "    def withdraw(self,withdrawal_amt):\n",
        "        self.balance -= withdrawal_amt\n",
        "\n",
        "    def calculate_interest(self):\n",
        "        return (self.balance * self.int_rate / 100)\n",
        "\n",
        "    def __str__(self):\n",
        "        return f\"\\n\\n{'Account No:':<15} {self.account_number}\\n{'Balance:':<15} {self.balance}\\n{'Rate:':<15} {self.int_rate}\""
      ],
      "metadata": {
        "id": "Ehr1TxAWIuOC"
      },
      "execution_count": 51,
      "outputs": []
    },
    {
      "cell_type": "code",
      "source": [
        "def main():\n",
        "\n",
        "    account_number = ''\n",
        "    balance = ''\n",
        "    int_rate = ''\n",
        "\n",
        "    # you need to ask who is the owner / account_number\n",
        "    account_number = input(\"Enter the Owner / account number : \").strip()\n",
        "\n",
        "    # ask the balance\n",
        "    while 'float' not in str(type(balance)):\n",
        "        balance = input('Balance : ').strip()\n",
        "\n",
        "        if balance.replace(\".\", \"\", 1).isnumeric():\n",
        "            balance = float(balance)\n",
        "\n",
        "    # ask the rate\n",
        "    while 'float' not in str(type(int_rate)):\n",
        "        int_rate = input('Int. Rate : ').strip()\n",
        "\n",
        "        if int_rate.replace(\".\", \"\", 1).isnumeric():\n",
        "            int_rate = float(int_rate)\n",
        "\n",
        "    person = BankAccount(account_number,balance,int_rate)\n",
        "\n",
        "    print(person)\n",
        "\n",
        "if __name__ == \"__main__\":\n",
        "    main()\n"
      ],
      "metadata": {
        "colab": {
          "base_uri": "https://localhost:8080/"
        },
        "id": "iNVrY4xWKKEm",
        "outputId": "95f8e25d-60d1-4f91-ba77-7ba19ab1e7de"
      },
      "execution_count": 52,
      "outputs": [
        {
          "output_type": "stream",
          "name": "stdout",
          "text": [
            "Enter the Owner / account number : niladri\n",
            "Balance : 100\n",
            "Int. Rate : 5\n",
            "\n",
            "\n",
            "Account No:     niladri\n",
            "Balance:        100.0\n",
            "Rate:           5.0\n"
          ]
        }
      ]
    },
    {
      "cell_type": "code",
      "source": [],
      "metadata": {
        "id": "tQAFj8PsLl4A"
      },
      "execution_count": null,
      "outputs": []
    }
  ]
}