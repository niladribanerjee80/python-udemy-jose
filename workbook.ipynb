{
  "nbformat": 4,
  "nbformat_minor": 0,
  "metadata": {
    "colab": {
      "provenance": [],
      "authorship_tag": "ABX9TyMoyiYAsOTKaOLO9uJ+ohHV",
      "include_colab_link": true
    },
    "kernelspec": {
      "name": "python3",
      "display_name": "Python 3"
    },
    "language_info": {
      "name": "python"
    }
  },
  "cells": [
    {
      "cell_type": "markdown",
      "metadata": {
        "id": "view-in-github",
        "colab_type": "text"
      },
      "source": [
        "<a href=\"https://colab.research.google.com/github/niladribanerjee80/python-udemy-jose/blob/main/workbook.ipynb\" target=\"_parent\"><img src=\"https://colab.research.google.com/assets/colab-badge.svg\" alt=\"Open In Colab\"/></a>"
      ]
    },
    {
      "cell_type": "markdown",
      "source": [
        "# OOP"
      ],
      "metadata": {
        "id": "zP3RTLzLqEUB"
      }
    },
    {
      "cell_type": "markdown",
      "source": [
        "## Example 1 = Circle"
      ],
      "metadata": {
        "id": "7c07qRSdq5QB"
      }
    },
    {
      "cell_type": "code",
      "source": [
        "class Circle():\n",
        "    # class object attributes\n",
        "    pi = 3.14\n",
        "\n",
        "    def __init__(self,radius = 1):\n",
        "        self.radius = radius\n",
        "\n",
        "        # we could have used self.pi as well, but if it is a class attr, it is better to use it with the class name\n",
        "        self.area = Circle.pi * (self.radius ** 2)\n",
        "\n",
        "    def get_circumference (self):\n",
        "        # we could have used self.pi as well\n",
        "        return 2 * Circle.pi * self.radius"
      ],
      "metadata": {
        "id": "vHZPlzakqWaD"
      },
      "execution_count": null,
      "outputs": []
    },
    {
      "cell_type": "code",
      "source": [
        "my_circle = Circle(30)"
      ],
      "metadata": {
        "id": "hw28mSqnqXZJ"
      },
      "execution_count": null,
      "outputs": []
    },
    {
      "cell_type": "code",
      "source": [
        "my_circumfearnce = my_circle.get_circumference()\n",
        "print(my_circumfearnce)"
      ],
      "metadata": {
        "id": "ezQUseEeqXd_"
      },
      "execution_count": null,
      "outputs": []
    },
    {
      "cell_type": "code",
      "source": [
        "print(my_circle.area)"
      ],
      "metadata": {
        "id": "FX6P2SMjqXh4"
      },
      "execution_count": null,
      "outputs": []
    },
    {
      "cell_type": "markdown",
      "source": [
        "## Example 2 : Inheritance"
      ],
      "metadata": {
        "id": "l-VGhl6Fq793"
      }
    },
    {
      "cell_type": "code",
      "execution_count": null,
      "metadata": {
        "id": "SnVDqe8qqBWQ"
      },
      "outputs": [],
      "source": [
        "# Base class\n",
        "\n",
        "class Animal():\n",
        "\n",
        "    def __init__(self):\n",
        "        print(\"ANIMAL CREATED\")\n",
        "\n",
        "    def who_am_i(self):\n",
        "        print(\"I am an animal\")\n",
        "\n",
        "    def eat(self):\n",
        "        print(\"I am eating\")"
      ]
    },
    {
      "cell_type": "code",
      "source": [
        "myanimal = Animal()"
      ],
      "metadata": {
        "id": "6i36X04tqLu2"
      },
      "execution_count": null,
      "outputs": []
    },
    {
      "cell_type": "code",
      "source": [
        "# Derived class = Dog class that uses the methods of Animal class\n",
        "class Dog(Animal):\n",
        "\n",
        "    def __init__(self):\n",
        "        Animal.__init__(self) # method of Animal.__init__() will get called\n",
        "        print(\"Dog created\")"
      ],
      "metadata": {
        "id": "-0zPJEKsqN9B"
      },
      "execution_count": null,
      "outputs": []
    },
    {
      "cell_type": "code",
      "source": [
        "mydog = Dog()"
      ],
      "metadata": {
        "id": "zqOmoNYgrHW9"
      },
      "execution_count": null,
      "outputs": []
    },
    {
      "cell_type": "code",
      "source": [
        "# because of inheritence\n",
        "mydog.eat()"
      ],
      "metadata": {
        "id": "XcVDulsZrIHi"
      },
      "execution_count": null,
      "outputs": []
    },
    {
      "cell_type": "code",
      "source": [
        "# what if we want to override a method in derived class = Dog\n",
        "\n",
        "class Dog(Animal):\n",
        "\n",
        "    def __init__(self):\n",
        "        print(\"Dog created\")\n",
        "\n",
        "    def who_am_i(self): # overriden method\n",
        "        print(\"I am a dog\")\n",
        "\n",
        "    def bark(self):\n",
        "        print(\"WOOF!\")"
      ],
      "metadata": {
        "id": "yYLnC2bJrLPU"
      },
      "execution_count": null,
      "outputs": []
    },
    {
      "cell_type": "code",
      "source": [
        "mydog = Dog()"
      ],
      "metadata": {
        "id": "UfYMIJtqrLSn"
      },
      "execution_count": null,
      "outputs": []
    },
    {
      "cell_type": "code",
      "source": [
        "mydog.who_am_i()"
      ],
      "metadata": {
        "id": "5O2b2bwQsEFi"
      },
      "execution_count": null,
      "outputs": []
    },
    {
      "cell_type": "code",
      "source": [
        "mydog.eat()"
      ],
      "metadata": {
        "id": "deLvQ_DysF60"
      },
      "execution_count": null,
      "outputs": []
    },
    {
      "cell_type": "markdown",
      "source": [
        "## Polymorphism"
      ],
      "metadata": {
        "id": "s4TKWz0R-_Sx"
      }
    },
    {
      "cell_type": "code",
      "source": [
        "class Dog():\n",
        "\n",
        "    def __init__(self,name):\n",
        "        self.name = name\n",
        "\n",
        "    def speak(self):\n",
        "        return self.name + \" says woof\""
      ],
      "metadata": {
        "id": "OsqM7CUQsI9j"
      },
      "execution_count": null,
      "outputs": []
    },
    {
      "cell_type": "code",
      "source": [
        "class Cat():\n",
        "\n",
        "    def __init__(self,name):\n",
        "        self.name = name\n",
        "\n",
        "    def speak(self):\n",
        "        return self.name + \" says meow\""
      ],
      "metadata": {
        "id": "AcnVdv5Z_DxA"
      },
      "execution_count": null,
      "outputs": []
    },
    {
      "cell_type": "code",
      "source": [
        "niko = Dog(\"niko\")\n",
        "felix = Cat(\"felix\")"
      ],
      "metadata": {
        "id": "y4-ZnUc5_Gw5"
      },
      "execution_count": null,
      "outputs": []
    },
    {
      "cell_type": "code",
      "source": [
        "print(niko.speak())\n",
        "print(felix.speak())"
      ],
      "metadata": {
        "id": "diwRXnab_UMz"
      },
      "execution_count": null,
      "outputs": []
    },
    {
      "cell_type": "code",
      "source": [
        "# the below function\n",
        "    # 1. calling the same function speak() with the object that is passed to it\n",
        "    # 2. it does not know the implementation of the speak()\n",
        "def pet_speak(pet):\n",
        "    print(pet.speak())"
      ],
      "metadata": {
        "id": "1C7CYLEr_W0O"
      },
      "execution_count": null,
      "outputs": []
    },
    {
      "cell_type": "code",
      "source": [
        "pet_speak(niko)"
      ],
      "metadata": {
        "id": "n4gqJKQD_e2A"
      },
      "execution_count": null,
      "outputs": []
    },
    {
      "cell_type": "code",
      "source": [
        "pet_speak(felix)"
      ],
      "metadata": {
        "id": "QHG17AJK_ie5"
      },
      "execution_count": null,
      "outputs": []
    },
    {
      "cell_type": "code",
      "source": [
        "class Account():\n",
        "\n",
        "    def __init__(self):\n",
        "        self.accounts = []\n",
        "\n",
        "    def add_accounts(self,owner,balance):\n",
        "        self.owner = owner\n",
        "        self.balance = balance\n",
        "\n",
        "        self.accounts.append(\n",
        "                                {\n",
        "                                    \"owner\" : self.owner,\n",
        "                                    \"balance\": self.balance\n",
        "                                }\n",
        "                            )\n",
        "\n",
        "    def validate_owner(self,owner):\n",
        "        self.owner = owner\n",
        "        print('Validate owner:',self.owner)\n",
        "\n",
        "        for acct in self.accounts:\n",
        "            if acct['owner'] == self.owner:\n",
        "                return True\n",
        "        return False\n",
        "\n",
        "    def deposit(self,owner,deposit_amt):\n",
        "        self.owner = owner\n",
        "        self.deposit_amt = deposit_amt\n",
        "\n",
        "        for acct in self.accounts:\n",
        "            if acct['owner'] == self.owner:\n",
        "                acct['balance'] = acct['balance'] + self.deposit_amt\n",
        "                return True\n",
        "        return False\n",
        "\n",
        "    def withdrawals(self,owner,withdraw_amt):\n",
        "        self.owner = owner\n",
        "        self.withdraw_amt = withdraw_amt\n",
        "\n",
        "        for acct in self.accounts:\n",
        "            if acct['owner'] == self.owner:\n",
        "                if float(acct['balance']) >= self.withdraw_amt:\n",
        "                    acct['balance'] = acct['balance'] - self.withdraw_amt\n",
        "                    return True\n",
        "\n",
        "        return False\n",
        "\n",
        "    # use of dunder methods\n",
        "    def __str__(self):\n",
        "        print(' ')\n",
        "        print(\"--------------------\")\n",
        "        print(' Displaying balance ')\n",
        "        print(\"--------------------\")\n",
        "\n",
        "        for acct in self.accounts:\n",
        "            if acct['owner'] == self.owner:\n",
        "                # show the updated balance\n",
        "                return (f\"{'Account:':<10} {acct['owner']}\\n{'Balance:':<10} {acct['balance']}\\n\\n\")\n",
        "\n",
        "def main():\n",
        "    print('Welcome to the Bank !!')\n",
        "\n",
        "    myacct = Account()\n",
        "\n",
        "    # initializing variables\n",
        "    continue_op = True\n",
        "\n",
        "    while continue_op:\n",
        "\n",
        "        # initializing variables\n",
        "        owner = ''\n",
        "        balance = 0\n",
        "        deposit_amt = 0\n",
        "        withdrawal_amt = 0\n",
        "\n",
        "        owner = input(\"Enter the owner : \").strip()\n",
        "\n",
        "        if myacct.validate_owner(owner) == True:\n",
        "            print('Owner Exists')\n",
        "        else:\n",
        "            # first time owner entry and therefore balance is required\n",
        "            print('Owner needs to be registered')\n",
        "\n",
        "            while 'float' not in str(type(balance)):\n",
        "                balance = input(\"Enter the balance : \").strip()\n",
        "                if balance.isdigit():\n",
        "                    balance = float(balance)\n",
        "\n",
        "            # adding the accounts\n",
        "            myacct.add_accounts(owner,balance)\n",
        "\n",
        "        print(myacct)\n",
        "        # myacct.display_balance(owner)\n",
        "\n",
        "        print(\"--------------------\")\n",
        "        print(f\"Choose your operation for the owner : {owner}\")\n",
        "        print(\"--------------------\")\n",
        "        print(\"1. Depsoit\")\n",
        "        print(\"2. Withdrawals \")\n",
        "        print(\"--------------------\")\n",
        "\n",
        "        operation = 'wrong'\n",
        "\n",
        "        while operation not in ['1','2']:\n",
        "            operation = input(\"Choose your desired operation (1/2) : \").strip()\n",
        "\n",
        "        if operation == '1':\n",
        "\n",
        "            while 'float' not in str(type(deposit_amt)):\n",
        "                deposit_amt = input(\"How much you want to deposit : \").strip()\n",
        "\n",
        "                if deposit_amt.isdigit():\n",
        "                    deposit_amt = float(deposit_amt)\n",
        "\n",
        "            result = myacct.deposit(owner,deposit_amt)\n",
        "\n",
        "            if result:\n",
        "                print('Deposit was successful')\n",
        "            else:\n",
        "                print('Deposit was not successful. Try again..')\n",
        "        else:\n",
        "            while 'float' not in str(type(withdrawal_amt)):\n",
        "                withdrawal_amt = input(\"How much you want to withdraw : \").strip()\n",
        "\n",
        "                if withdrawal_amt.isdigit():\n",
        "                    withdrawal_amt = float(withdrawal_amt)\n",
        "\n",
        "            result = myacct.withdrawals(owner,withdrawal_amt)\n",
        "\n",
        "            if result:\n",
        "                print('Withdrawal was successful.')\n",
        "            else:\n",
        "                print('Withdrawal was not successful. Try again..')\n",
        "\n",
        "        # show the revised balance for the owner\n",
        "        print(myacct)\n",
        "        # myacct.display_balance(owner)\n",
        "\n",
        "        continue_attempt = 'wrong'\n",
        "\n",
        "        while continue_attempt not in ['Y','N']:\n",
        "            continue_attempt = input(\"Do you want to continue with accounts entry / updates (Y/N) : \").strip()\n",
        "\n",
        "        if continue_attempt == 'N':\n",
        "            continue_op = False\n",
        "\n",
        "            print('Thanks for your operation in Bank')\n",
        "            print(' ')\n",
        "\n",
        "if __name__ == \"__main__\":\n",
        "    main()"
      ],
      "metadata": {
        "id": "FBB97-ED_kzF"
      },
      "execution_count": null,
      "outputs": []
    },
    {
      "cell_type": "markdown",
      "source": [
        "## Classes : Practice from GPT"
      ],
      "metadata": {
        "id": "PYWSfcG8FWWO"
      }
    },
    {
      "cell_type": "code",
      "source": [
        "# Exercise 1: Simple Class and Object\n",
        "# Create a class named `Person` with attributes `name`, `age`, and `city`.\n",
        "# Create an object of this class and print its attributes.\n",
        "\n",
        "class Person():\n",
        "    def __init__(self,name,age,city):\n",
        "        self.name = name\n",
        "        self.age = age\n",
        "        self.city = city\n",
        "\n",
        "    def __str__(self):\n",
        "        return f\"{'Name:':<5} {self.name}\\n{'Age:':5} {self.age}\\n{'City:':<5} {self.city}\"\n",
        "\n",
        "niladri = Person(\"niladri\",44,\"Kolkata\")\n",
        "print(niladri)\n",
        "\n",
        "# Output\n",
        "# Name: niladri\n",
        "# Age:  44\n",
        "# City: Kolkata"
      ],
      "metadata": {
        "colab": {
          "base_uri": "https://localhost:8080/"
        },
        "id": "9UHL-E_gEzwn",
        "outputId": "760e2d96-f818-4df2-8931-b18031978bf6"
      },
      "execution_count": null,
      "outputs": [
        {
          "output_type": "stream",
          "name": "stdout",
          "text": [
            "Name: niladri\n",
            "Age:  44\n",
            "City: Kolkata\n"
          ]
        }
      ]
    },
    {
      "cell_type": "code",
      "source": [
        "# Exercise 2: Medium Class and Object\n",
        "# Create a class named `Book` with attributes `title`, `author`, and `year_published`. Add a method `display_details()` that prints the book's information. Create an object of this class and call the `display_details()` method.\n",
        "\n",
        "class Book():\n",
        "    def __init__(self,title,author,year_published):\n",
        "        self.title = title\n",
        "        self.author = author\n",
        "        self.year_published = year_published\n",
        "\n",
        "    def display_details(self):\n",
        "        return f\"{'title:':<16} {self.title}\\n{'author:':16} {self.author}\\n{'year_published:':<16} {self.year_published}\"\n",
        "\n",
        "python_book = Book(\"Monte Python\",\"Niladri\",1995)\n",
        "print(python_book.display_details())\n",
        "\n",
        "# Output\n",
        "# title:           Monte Python\n",
        "# author:          Niladri\n",
        "# year_published:  1995"
      ],
      "metadata": {
        "id": "iXVX52SqHPV9"
      },
      "execution_count": null,
      "outputs": []
    },
    {
      "cell_type": "code",
      "source": [
        "## Exercise 3: Medium Class and Object\n",
        "# Create a class named `BankAccount` with attributes `account_number`, `balance`, and `interest_rate`. Add methods `deposit()`, `withdraw()`, and `calculate_interest()`. Create an object of this class and perform various operations on the account.\n",
        "class BankAccount():\n",
        "\n",
        "    def __init__(self,account_number,balance,int_rate):\n",
        "        self.account_number = account_number\n",
        "        self.balance = balance\n",
        "        self.int_rate = int_rate\n",
        "        self.int_amt = 0\n",
        "\n",
        "    def deposit(self,deposit_amt):\n",
        "        self.balance += deposit_amt\n",
        "\n",
        "    def withdraw(self,withdrawal_amt):\n",
        "        self.balance -= withdrawal_amt\n",
        "\n",
        "    def calculate_interest(self):\n",
        "        self.int_amt = (self.balance * self.int_rate / 100)\n",
        "\n",
        "    def __str__(self):\n",
        "        return f\"\\n\\n{'Account No:':<15} {self.account_number}\\n{'Balance:':<15} {self.balance}\\n{'Rate:':<15} {self.int_rate}%\\n{'Interest:':<15} {self.int_amt}\\n\\n\""
      ],
      "metadata": {
        "id": "Ehr1TxAWIuOC"
      },
      "execution_count": null,
      "outputs": []
    },
    {
      "cell_type": "code",
      "source": [
        "def get_float_amount(trx_type):\n",
        "\n",
        "    amount = ''\n",
        "\n",
        "    while 'float' not in str(type(amount)):\n",
        "        amount = input(f\"Enter {trx_type}: \").strip()\n",
        "        if amount.replace(\".\", \"\", 1).isnumeric():\n",
        "            amount = float(amount)\n",
        "\n",
        "    return amount\n",
        "\n",
        "def main():\n",
        "\n",
        "    account_number = ''\n",
        "    balance = ''\n",
        "    int_rate = ''\n",
        "\n",
        "    # you need to ask who is the owner / account_number\n",
        "    account_number = input(\"Enter the Owner / account number : \").strip()\n",
        "\n",
        "    # ask the balance\n",
        "    while 'float' not in str(type(balance)):\n",
        "        balance = input('Balance : ').strip()\n",
        "\n",
        "        if balance.replace(\".\", \"\", 1).isnumeric():\n",
        "            balance = float(balance)\n",
        "\n",
        "    # ask the rate\n",
        "    while 'float' not in str(type(int_rate)):\n",
        "        int_rate = input('Int. Rate : ').strip()\n",
        "\n",
        "        if int_rate.replace(\".\", \"\", 1).isnumeric():\n",
        "            int_rate = float(int_rate)\n",
        "\n",
        "    person = BankAccount(account_number,balance,int_rate)\n",
        "\n",
        "    print(person)\n",
        "\n",
        "    continue_op = 'Y'\n",
        "\n",
        "    while continue_op == 'Y':\n",
        "\n",
        "        trx = 'wrong'\n",
        "\n",
        "        print()\n",
        "        print('----')\n",
        "        print(\"Enter 1 : Deposit\")\n",
        "        print(\"Enter 2 : Withdrawal\")\n",
        "        print(\"Enter 3 : Interest\")\n",
        "        print('----')\n",
        "        print()\n",
        "\n",
        "        while trx not in ['1','2','3']:\n",
        "            trx = input(\"Your response : \").strip()\n",
        "\n",
        "        if trx == \"1\":\n",
        "            deposit_amount = get_float_amount('Deposit')\n",
        "            person.deposit(deposit_amount)\n",
        "        elif trx == \"2\":\n",
        "            withdrawal_amount = get_float_amount('Withdrawal')\n",
        "            person.withdraw(withdrawal_amount)\n",
        "        else:\n",
        "            person.calculate_interest()\n",
        "\n",
        "        print(person)\n",
        "\n",
        "        continue_op = 'wrong'\n",
        "\n",
        "        while continue_op not in ['Y','N']:\n",
        "            continue_op = input('Do you want to continue the trx? (Y/N) : ').strip()\n",
        "    else:\n",
        "        print(\"Thank you for banking with us !! \")\n",
        "\n",
        "if __name__ == \"__main__\":\n",
        "    main()\n"
      ],
      "metadata": {
        "colab": {
          "base_uri": "https://localhost:8080/"
        },
        "id": "iNVrY4xWKKEm",
        "outputId": "a146c357-9940-47bc-f71d-0d12515704b8"
      },
      "execution_count": null,
      "outputs": [
        {
          "output_type": "stream",
          "name": "stdout",
          "text": [
            "Enter the Owner / account number : niladri\n",
            "Balance : 550\n",
            "Int. Rate : 5\n",
            "\n",
            "\n",
            "Account No:     niladri\n",
            "Balance:        550.0\n",
            "Rate:           5.0%\n",
            "Interest:       0\n",
            "\n",
            "\n",
            "\n",
            "----\n",
            "Enter 1 : Deposit\n",
            "Enter 2 : Withdrawal\n",
            "Enter 3 : Interest\n",
            "----\n",
            "\n",
            "Your response : 3\n",
            "\n",
            "\n",
            "Account No:     niladri\n",
            "Balance:        550.0\n",
            "Rate:           5.0%\n",
            "Interest:       27.5\n",
            "\n",
            "\n",
            "Do you want to continue the trx? (Y/N) : Y\n",
            "\n",
            "----\n",
            "Enter 1 : Deposit\n",
            "Enter 2 : Withdrawal\n",
            "Enter 3 : Interest\n",
            "----\n",
            "\n",
            "Your response : 1\n",
            "Enter Deposit: 125\n",
            "\n",
            "\n",
            "Account No:     niladri\n",
            "Balance:        675.0\n",
            "Rate:           5.0%\n",
            "Interest:       27.5\n",
            "\n",
            "\n",
            "Do you want to continue the trx? (Y/N) : N\n",
            "Thank you for banking with us !! \n"
          ]
        }
      ]
    },
    {
      "cell_type": "markdown",
      "source": [
        "# Modules\n",
        "\n",
        "* covered in Ipad > OneNote"
      ],
      "metadata": {
        "id": "OWXdBAq3JtS6"
      }
    },
    {
      "cell_type": "markdown",
      "source": [
        "# Errors and Exceptions"
      ],
      "metadata": {
        "id": "1XKOCOnrJ0ZC"
      }
    },
    {
      "cell_type": "code",
      "source": [
        "def ask_for_int():\n",
        "    while True:\n",
        "        try:\n",
        "            result = int(input(\"try :: Please provide a number : \"))\n",
        "        except:\n",
        "            print(\"except :: Whoops!. That is not a number\")\n",
        "            continue\n",
        "        else:\n",
        "            print(\"else :: Yes thank you. that is a number\")\n",
        "            break\n",
        "        finally:\n",
        "            print(\"finally :: I will run no matter what\")"
      ],
      "metadata": {
        "id": "tQAFj8PsLl4A"
      },
      "execution_count": null,
      "outputs": []
    },
    {
      "cell_type": "code",
      "source": [
        "ask_for_int()"
      ],
      "metadata": {
        "id": "DLGo9ZTUJ8N1",
        "outputId": "3817a0a8-4e72-4026-d683-68727fed162a",
        "colab": {
          "base_uri": "https://localhost:8080/"
        }
      },
      "execution_count": null,
      "outputs": [
        {
          "output_type": "stream",
          "name": "stdout",
          "text": [
            "try :: Please provide a number : ette\n",
            "except :: Whoops!. That is not a number\n",
            "finally :: I will run no matter what\n",
            "try :: Please provide a number : 10\n",
            "else :: Yes thank you. that is a number\n",
            "finally :: I will run no matter what\n"
          ]
        }
      ]
    },
    {
      "cell_type": "code",
      "source": [
        "# TypeError\n",
        "# OSError\n",
        "# ZeroDivisionError"
      ],
      "metadata": {
        "id": "OffiRdUsJ_tU"
      },
      "execution_count": null,
      "outputs": []
    },
    {
      "cell_type": "markdown",
      "source": [
        "# Decorator"
      ],
      "metadata": {
        "id": "ZbSWRJZoZWCw"
      }
    },
    {
      "cell_type": "code",
      "source": [
        "def hello():\n",
        "    return 'Hello!'"
      ],
      "metadata": {
        "id": "FT1PUMn3ZXHc"
      },
      "execution_count": 1,
      "outputs": []
    },
    {
      "cell_type": "code",
      "source": [
        "greet = hello"
      ],
      "metadata": {
        "id": "eOMiBiFRZfOO"
      },
      "execution_count": 2,
      "outputs": []
    },
    {
      "cell_type": "code",
      "source": [
        "greet()"
      ],
      "metadata": {
        "colab": {
          "base_uri": "https://localhost:8080/",
          "height": 36
        },
        "id": "3PG9xEiaZk3-",
        "outputId": "e6f46c46-2135-4db5-9e3f-78d49d4bca8b"
      },
      "execution_count": 3,
      "outputs": [
        {
          "output_type": "execute_result",
          "data": {
            "text/plain": [
              "'Hello!'"
            ],
            "application/vnd.google.colaboratory.intrinsic+json": {
              "type": "string"
            }
          },
          "metadata": {},
          "execution_count": 3
        }
      ]
    },
    {
      "cell_type": "code",
      "source": [
        "id(greet)"
      ],
      "metadata": {
        "colab": {
          "base_uri": "https://localhost:8080/"
        },
        "id": "0mX2W9I6Zm8C",
        "outputId": "d245b6ee-7b0e-4cc5-9fdf-7b1db73143da"
      },
      "execution_count": 4,
      "outputs": [
        {
          "output_type": "execute_result",
          "data": {
            "text/plain": [
              "134347989844752"
            ]
          },
          "metadata": {},
          "execution_count": 4
        }
      ]
    },
    {
      "cell_type": "code",
      "source": [
        "id(hello)"
      ],
      "metadata": {
        "colab": {
          "base_uri": "https://localhost:8080/"
        },
        "id": "HrnktDfVZpA1",
        "outputId": "6aa06059-3127-4f65-a452-b3f52e243b5f"
      },
      "execution_count": 5,
      "outputs": [
        {
          "output_type": "execute_result",
          "data": {
            "text/plain": [
              "134347989844752"
            ]
          },
          "metadata": {},
          "execution_count": 5
        }
      ]
    },
    {
      "cell_type": "code",
      "source": [
        "# defining functions within a function\n",
        "def hello(name = \"Niladri\"):\n",
        "    print(\"This is the hello() function\")\n",
        "\n",
        "    def greet():\n",
        "        return \"\\t This is the greet() inside hello()\"\n",
        "\n",
        "    def welcome():\n",
        "        return \"\\t This is the welcome() inside hello()\"\n",
        "\n",
        "    print(greet())\n",
        "    print(welcome())\n",
        "\n",
        "    print(\"This is the end of hello() function\")"
      ],
      "metadata": {
        "id": "gSx6MkPzZqZv"
      },
      "execution_count": 6,
      "outputs": []
    },
    {
      "cell_type": "code",
      "source": [
        "hello()"
      ],
      "metadata": {
        "colab": {
          "base_uri": "https://localhost:8080/"
        },
        "id": "XCUqYztcaAeE",
        "outputId": "4baa90d7-d34d-46e2-89dd-3225519f7da9"
      },
      "execution_count": 7,
      "outputs": [
        {
          "output_type": "stream",
          "name": "stdout",
          "text": [
            "This is the hello() function\n",
            "\t This is the greet() inside hello()\n",
            "\t This is the welcome() inside hello()\n",
            "This is the end of hello() function\n"
          ]
        }
      ]
    },
    {
      "cell_type": "code",
      "source": [
        "# returning function\n",
        "def hello(name = \"Niladri\"):\n",
        "    print(\"This is the hello() function\")\n",
        "\n",
        "    def greet():\n",
        "        return \"\\t This is the greet() inside hello()\"\n",
        "\n",
        "    def welcome():\n",
        "        return \"\\t This is the welcome() inside hello()\"\n",
        "\n",
        "    print(\"I am going to return a function\")\n",
        "\n",
        "    if name == \"Niladri\":\n",
        "        return greet\n",
        "    else:\n",
        "        return welcome"
      ],
      "metadata": {
        "id": "Usm12sVYaCve"
      },
      "execution_count": 8,
      "outputs": []
    },
    {
      "cell_type": "code",
      "source": [
        "my_new_func = hello()"
      ],
      "metadata": {
        "colab": {
          "base_uri": "https://localhost:8080/"
        },
        "id": "061xXhvOaQ_O",
        "outputId": "2264359f-bf66-4c5a-cf76-c5db7938460b"
      },
      "execution_count": 9,
      "outputs": [
        {
          "output_type": "stream",
          "name": "stdout",
          "text": [
            "This is the hello() function\n",
            "I am going to return a function\n"
          ]
        }
      ]
    },
    {
      "cell_type": "code",
      "source": [
        "my_new_func()"
      ],
      "metadata": {
        "colab": {
          "base_uri": "https://localhost:8080/",
          "height": 36
        },
        "id": "tMcxVgPKlVh1",
        "outputId": "0e647a89-5a7d-40d0-bb31-757e6d4f18f7"
      },
      "execution_count": 10,
      "outputs": [
        {
          "output_type": "execute_result",
          "data": {
            "text/plain": [
              "'\\t This is the greet() inside hello()'"
            ],
            "application/vnd.google.colaboratory.intrinsic+json": {
              "type": "string"
            }
          },
          "metadata": {},
          "execution_count": 10
        }
      ]
    },
    {
      "cell_type": "code",
      "source": [
        "def cool():\n",
        "\n",
        "    def super_cool():\n",
        "        return \"I am very cool!\"\n",
        "\n",
        "    return super_cool"
      ],
      "metadata": {
        "id": "D9wJo1malX4B"
      },
      "execution_count": 11,
      "outputs": []
    },
    {
      "cell_type": "code",
      "source": [
        "some_func = cool()"
      ],
      "metadata": {
        "id": "5nS6q9bzn-Kn"
      },
      "execution_count": 12,
      "outputs": []
    },
    {
      "cell_type": "code",
      "source": [
        "some_func()"
      ],
      "metadata": {
        "colab": {
          "base_uri": "https://localhost:8080/",
          "height": 36
        },
        "id": "VDI191SjoBAa",
        "outputId": "91383845-fa96-40a3-e3f1-a88ba208a2c8"
      },
      "execution_count": 13,
      "outputs": [
        {
          "output_type": "execute_result",
          "data": {
            "text/plain": [
              "'I am very cool!'"
            ],
            "application/vnd.google.colaboratory.intrinsic+json": {
              "type": "string"
            }
          },
          "metadata": {},
          "execution_count": 13
        }
      ]
    },
    {
      "cell_type": "code",
      "source": [
        "def hello():\n",
        "    return \"Hi Jose!\""
      ],
      "metadata": {
        "id": "ozzn25o_oD6p"
      },
      "execution_count": 15,
      "outputs": []
    },
    {
      "cell_type": "code",
      "source": [
        "def other(some_defined_func):\n",
        "    print(\"Other code runs here!\")\n",
        "    print(some_defined_func())"
      ],
      "metadata": {
        "id": "tZRLocqroJ1b"
      },
      "execution_count": 16,
      "outputs": []
    },
    {
      "cell_type": "code",
      "source": [
        "other(hello)"
      ],
      "metadata": {
        "colab": {
          "base_uri": "https://localhost:8080/"
        },
        "id": "K0yXIXvuoJ5x",
        "outputId": "28cd3b83-98bf-4c1e-ca09-bea78680bab5"
      },
      "execution_count": 17,
      "outputs": [
        {
          "output_type": "stream",
          "name": "stdout",
          "text": [
            "Other code runs here!\n",
            "Hi Jose!\n"
          ]
        }
      ]
    },
    {
      "cell_type": "code",
      "source": [
        "def new_decorator(original_func):\n",
        "\n",
        "    def wrap_func():\n",
        "\n",
        "        # extra functionality\n",
        "\n",
        "        print(\"Some extra code before the original function\")\n",
        "\n",
        "        original_func()\n",
        "\n",
        "        print(\"Some extra code after the original function\")\n",
        "\n",
        "    return wrap_func"
      ],
      "metadata": {
        "id": "B9FK7NsaoJ9h"
      },
      "execution_count": 18,
      "outputs": []
    },
    {
      "cell_type": "code",
      "source": [
        "def func_needs_decorator():\n",
        "    print(\"I want to be decorated!\")"
      ],
      "metadata": {
        "id": "mrKKGhKLoKBf"
      },
      "execution_count": 19,
      "outputs": []
    },
    {
      "cell_type": "code",
      "source": [
        "decorated_func = new_decorator(func_needs_decorator)\n",
        "\n",
        "decorated_func()"
      ],
      "metadata": {
        "colab": {
          "base_uri": "https://localhost:8080/"
        },
        "id": "0USBaBNgoKFP",
        "outputId": "dfebb013-bb9f-4212-85cf-8ee93d704531"
      },
      "execution_count": 20,
      "outputs": [
        {
          "output_type": "stream",
          "name": "stdout",
          "text": [
            "Some extra code before the original function\n",
            "I want to be decorated!\n",
            "Some extra code after the original function\n"
          ]
        }
      ]
    },
    {
      "cell_type": "code",
      "source": [
        "@new_decorator # this is my on/off switch. note it is the function name with @ symbol\n",
        "def func_needs_decorator():\n",
        "    print(\"I want to be decorated!\")\n",
        "\n",
        "func_needs_decorator()\n",
        "\n",
        "# What decorator does is to get rid of the below steps\n",
        "# decorated_func = new_decorator(func_needs_decorator)\n",
        "# decorated_func()"
      ],
      "metadata": {
        "colab": {
          "base_uri": "https://localhost:8080/"
        },
        "id": "q1DH8ADOoKJJ",
        "outputId": "809d9e77-6e40-4cb8-eed5-bdeb955ebdc7"
      },
      "execution_count": 21,
      "outputs": [
        {
          "output_type": "stream",
          "name": "stdout",
          "text": [
            "Some extra code before the original function\n",
            "I want to be decorated!\n",
            "Some extra code after the original function\n"
          ]
        }
      ]
    },
    {
      "cell_type": "code",
      "source": [
        "class Employee:\n",
        "\n",
        "    def __init__(self,first,last):\n",
        "        self.first = first\n",
        "        self.last = last\n",
        "        self.email = first + '.' + last + '@company.com'\n",
        "\n",
        "    def fullname(self):\n",
        "        return '{} {}'.format(self.first,self.last)"
      ],
      "metadata": {
        "id": "mKjUfBZBoKNq"
      },
      "execution_count": 25,
      "outputs": []
    },
    {
      "cell_type": "code",
      "source": [
        "Emp1 = Employee('Corey','Schafer')\n",
        "\n",
        "print(Emp1.first)\n",
        "print(Emp1.last)\n",
        "print(Emp1.email)\n",
        "print(Emp1.fullname())"
      ],
      "metadata": {
        "colab": {
          "base_uri": "https://localhost:8080/"
        },
        "id": "at0yozhdqYlE",
        "outputId": "a7c002d0-92b0-44f4-e9bb-6989ec48af91"
      },
      "execution_count": 29,
      "outputs": [
        {
          "output_type": "stream",
          "name": "stdout",
          "text": [
            "Corey\n",
            "Schafer\n",
            "Corey.Schafer@company.com\n",
            "Corey Schafer\n"
          ]
        }
      ]
    },
    {
      "cell_type": "code",
      "source": [
        "# Now if only set\n",
        "Emp1.first = \"Niladri\"\n",
        "\n",
        "print(Emp1.first)\n",
        "print(Emp1.last)\n",
        "print(Emp1.email) # here we have a problem, now everywhere we need to correct the code\n",
        "print(Emp1.fullname())"
      ],
      "metadata": {
        "colab": {
          "base_uri": "https://localhost:8080/"
        },
        "id": "rND3TP6UqbNE",
        "outputId": "80005f52-9ad9-45d5-ef1a-ce9c0bfa46f7"
      },
      "execution_count": 30,
      "outputs": [
        {
          "output_type": "stream",
          "name": "stdout",
          "text": [
            "Niladri\n",
            "Schafer\n",
            "Corey.Schafer@company.com\n",
            "Niladri Schafer\n"
          ]
        }
      ]
    },
    {
      "cell_type": "code",
      "source": [
        "# One option is use email as function,\n",
        "# but this means lot of code changes in real situation\n",
        "class Employee:\n",
        "\n",
        "    def __init__(self,first,last):\n",
        "        self.first = first\n",
        "        self.last = last\n",
        "\n",
        "    def email(self):\n",
        "        return '{}.{}@company.com'.format(self.first,self.last)\n",
        "\n",
        "    def fullname(self):\n",
        "        return '{} {}'.format(self.first,self.last)"
      ],
      "metadata": {
        "id": "gitoy9NCqe2r"
      },
      "execution_count": 32,
      "outputs": []
    },
    {
      "cell_type": "code",
      "source": [
        "Emp1 = Employee('Corey','Schafer')\n",
        "\n",
        "print(Emp1.first)\n",
        "print(Emp1.last)\n",
        "print(Emp1.email()) # making the call change as well, it is a function now\n",
        "print(Emp1.fullname())\n",
        "\n",
        "print('\\n\\n')\n",
        "\n",
        "Emp1.first = \"Niladri\"\n",
        "\n",
        "print(Emp1.first)\n",
        "print(Emp1.last)\n",
        "print(Emp1.email())\n",
        "print(Emp1.fullname())"
      ],
      "metadata": {
        "colab": {
          "base_uri": "https://localhost:8080/"
        },
        "id": "Cv7FeNyEqe6N",
        "outputId": "827029f6-6f31-4d11-c9e7-e4919b02ac95"
      },
      "execution_count": 35,
      "outputs": [
        {
          "output_type": "stream",
          "name": "stdout",
          "text": [
            "Corey\n",
            "Schafer\n",
            "Corey.Schafer@company.com\n",
            "Corey Schafer\n",
            "\n",
            "\n",
            "\n",
            "Niladri\n",
            "Schafer\n",
            "Niladri.Schafer@company.com\n",
            "Niladri Schafer\n"
          ]
        }
      ]
    },
    {
      "cell_type": "code",
      "source": [
        "# so what changes we needed to do\n",
        "    # 1. attribute \"email\" --> function \"email()\"\n",
        "    # 2. calling of Emp1.email --> Emp1.email()\n",
        "\n",
        "# how to avoid these changes, so that we can achieve what we want"
      ],
      "metadata": {
        "id": "8--015XQqe9l"
      },
      "execution_count": 37,
      "outputs": []
    },
    {
      "cell_type": "code",
      "source": [
        "# look at the use of the functions\n",
        "# we will use the functions as if they are attributes and not functions\n",
        "\n",
        "class Employee:\n",
        "\n",
        "    def __init__(self,first,last):\n",
        "        self.first = first\n",
        "        self.last = last\n",
        "\n",
        "    @property\n",
        "    def email(self):\n",
        "        return '{}.{}@company.com'.format(self.first,self.last)\n",
        "\n",
        "    @property\n",
        "    def fullname(self):\n",
        "        return '{} {}'.format(self.first,self.last)"
      ],
      "metadata": {
        "id": "RZ1KNa-bqfBG"
      },
      "execution_count": 38,
      "outputs": []
    },
    {
      "cell_type": "code",
      "source": [
        "Emp1 = Employee('Corey','Schafer')\n",
        "\n",
        "print(Emp1.first)\n",
        "print(Emp1.last)\n",
        "print(Emp1.email)       # now use the function as it is an attribute\n",
        "print(Emp1.fullname)    # now use the function as it is an attribute\n",
        "\n",
        "# 2md objective achieved. The calling part does not require any change now"
      ],
      "metadata": {
        "colab": {
          "base_uri": "https://localhost:8080/"
        },
        "id": "nG0MjI7oqfEW",
        "outputId": "b107a614-8c38-41ea-fdba-6844ae108851"
      },
      "execution_count": 40,
      "outputs": [
        {
          "output_type": "stream",
          "name": "stdout",
          "text": [
            "Corey\n",
            "Schafer\n",
            "Corey.Schafer@company.com\n",
            "Corey Schafer\n"
          ]
        }
      ]
    },
    {
      "cell_type": "code",
      "source": [
        "# but notice if we try to set the fullname, it is going to result in an error\n",
        "Emp1 = Employee('Corey','Schafer')\n",
        "Emp1.fullname = 'Niladri Banerjee' # then what to do now?? use of a setter"
      ],
      "metadata": {
        "colab": {
          "base_uri": "https://localhost:8080/",
          "height": 176
        },
        "id": "7n3_FHEOqfH4",
        "outputId": "6afafeac-54d0-4b5d-ce19-1a5f5a860f12"
      },
      "execution_count": 41,
      "outputs": [
        {
          "output_type": "error",
          "ename": "AttributeError",
          "evalue": "can't set attribute 'fullname'",
          "traceback": [
            "\u001b[0;31m---------------------------------------------------------------------------\u001b[0m",
            "\u001b[0;31mAttributeError\u001b[0m                            Traceback (most recent call last)",
            "\u001b[0;32m<ipython-input-41-11a8985ae3f0>\u001b[0m in \u001b[0;36m<cell line: 3>\u001b[0;34m()\u001b[0m\n\u001b[1;32m      1\u001b[0m \u001b[0;31m# but notice if we try to set the fullname, it is going to result in an error\u001b[0m\u001b[0;34m\u001b[0m\u001b[0;34m\u001b[0m\u001b[0m\n\u001b[1;32m      2\u001b[0m \u001b[0mEmp1\u001b[0m \u001b[0;34m=\u001b[0m \u001b[0mEmployee\u001b[0m\u001b[0;34m(\u001b[0m\u001b[0;34m'Corey'\u001b[0m\u001b[0;34m,\u001b[0m\u001b[0;34m'Schafer'\u001b[0m\u001b[0;34m)\u001b[0m\u001b[0;34m\u001b[0m\u001b[0;34m\u001b[0m\u001b[0m\n\u001b[0;32m----> 3\u001b[0;31m \u001b[0mEmp1\u001b[0m\u001b[0;34m.\u001b[0m\u001b[0mfullname\u001b[0m \u001b[0;34m=\u001b[0m \u001b[0;34m'Niladri Banerjee'\u001b[0m \u001b[0;31m# then what to do now?? use of a setter\u001b[0m\u001b[0;34m\u001b[0m\u001b[0;34m\u001b[0m\u001b[0m\n\u001b[0m",
            "\u001b[0;31mAttributeError\u001b[0m: can't set attribute 'fullname'"
          ]
        }
      ]
    },
    {
      "cell_type": "code",
      "source": [
        "# how to handle this\n",
        "class Employee:\n",
        "\n",
        "    def __init__(self,first,last):\n",
        "        self.first = first\n",
        "        self.last = last\n",
        "\n",
        "    @property\n",
        "    def email(self):\n",
        "        return '{}.{}@company.com'.format(self.first,self.last)\n",
        "\n",
        "    @property\n",
        "    def fullname(self):\n",
        "        return '{} {}'.format(self.first,self.last)\n",
        "\n",
        "    # look it is setting the attributes and not returning it\n",
        "    @fullname.setter\n",
        "    def fullname(self,name):\n",
        "        first,last = name.split(' ')\n",
        "        self.first = first\n",
        "        self.last = last\n",
        "\n",
        "    # this is also in a way setting None\n",
        "    @fullname.deleter\n",
        "    def fullname(self):\n",
        "        print('Delete Name!')\n",
        "        self.first = None\n",
        "        self.last = None"
      ],
      "metadata": {
        "id": "xZUZkFF2qfLh"
      },
      "execution_count": 42,
      "outputs": []
    },
    {
      "cell_type": "code",
      "source": [
        "# but notice if we try to set the fullname, it is going to result in an error\n",
        "Emp1 = Employee('Corey','Schafer')\n",
        "print(Emp1.first)\n",
        "print(Emp1.last)\n",
        "print(Emp1.email)\n",
        "print(Emp1.fullname)\n",
        "\n",
        "print('\\n\\n')\n",
        "\n",
        "Emp1.fullname = 'Niladri Banerjee' # then what to do now?? use of a setter\n",
        "print(Emp1.first)\n",
        "print(Emp1.last)\n",
        "print(Emp1.email)\n",
        "print(Emp1.fullname)"
      ],
      "metadata": {
        "colab": {
          "base_uri": "https://localhost:8080/"
        },
        "id": "OuHVrGWNtlA_",
        "outputId": "9518f885-f9c5-4232-d75c-329b75c72bc9"
      },
      "execution_count": 43,
      "outputs": [
        {
          "output_type": "stream",
          "name": "stdout",
          "text": [
            "Corey\n",
            "Schafer\n",
            "Corey.Schafer@company.com\n",
            "Corey Schafer\n",
            "\n",
            "\n",
            "\n",
            "Niladri\n",
            "Banerjee\n",
            "Niladri.Banerjee@company.com\n",
            "Niladri Banerjee\n"
          ]
        }
      ]
    },
    {
      "cell_type": "code",
      "source": [
        "del Emp1.fullname\n",
        "\n",
        "print(Emp1.first)\n",
        "print(Emp1.last)\n",
        "print(Emp1.email)\n",
        "print(Emp1.fullname)"
      ],
      "metadata": {
        "colab": {
          "base_uri": "https://localhost:8080/"
        },
        "id": "xvIZ7XwNtv80",
        "outputId": "6ba5e359-fb8c-4440-8e07-934558c7daa3"
      },
      "execution_count": 44,
      "outputs": [
        {
          "output_type": "stream",
          "name": "stdout",
          "text": [
            "Delete Name!\n",
            "None\n",
            "None\n",
            "None.None@company.com\n",
            "None None\n"
          ]
        }
      ]
    },
    {
      "cell_type": "markdown",
      "source": [
        "## GPT exercise of decorator"
      ],
      "metadata": {
        "id": "mhN6mkzBuToN"
      }
    },
    {
      "cell_type": "code",
      "source": [
        "# 1. **Problem:** Create a decorator that times the execution of a function and prints the elapsed time.\n",
        "\n",
        "import time\n",
        "\n",
        "def time_execution(func):\n",
        "    def wrapper(*args, **kwargs):\n",
        "        start_time = time.time()\n",
        "        result = func(*args, **kwargs)\n",
        "        end_time = time.time()\n",
        "        elapsed_time = end_time - start_time\n",
        "        print(f\"{func.__name__} took {elapsed_time:.5f} seconds\")\n",
        "        return result\n",
        "    return wrapper\n",
        "\n",
        "# Example usage:\n",
        "@time_execution\n",
        "def my_slow_function():\n",
        "    # Some time-consuming operation here\n",
        "    time.sleep(2)\n",
        "\n",
        "my_slow_function()"
      ],
      "metadata": {
        "colab": {
          "base_uri": "https://localhost:8080/"
        },
        "id": "Ta1uikowuKT4",
        "outputId": "906c611c-1f5c-462f-8abc-5af1a3de512f"
      },
      "execution_count": 45,
      "outputs": [
        {
          "output_type": "stream",
          "name": "stdout",
          "text": [
            "my_slow_function took 2.00214 seconds\n"
          ]
        }
      ]
    },
    {
      "cell_type": "code",
      "source": [
        "import time\n",
        "\n",
        "def time_execution(func):\n",
        "\n",
        "    def wrapper(*args,**kwargs):\n",
        "\n",
        "        start_time = time.time()\n",
        "\n",
        "        result = func(*args, **kwargs)\n",
        "\n",
        "        end_time = time.time()\n",
        "\n",
        "        elapsed_time = end_time - start_time\n",
        "\n",
        "        print(f\"{func.__name__} took {elapsed_time:.5f} seconds\")\n",
        "\n",
        "        return result\n",
        "\n",
        "    return wrapper\n",
        "\n",
        "@time_execution\n",
        "def my_slow_function():\n",
        "    # Some time-consuming operation here\n",
        "    time.sleep(2)\n",
        "\n",
        "# The above statement is the alternative to the below\n",
        "# wrapped_func = time_execution(my_slow_function)\n",
        "# wrapped_func()\n",
        "\n",
        "my_slow_function()"
      ],
      "metadata": {
        "id": "PpgOhhd3uShQ",
        "outputId": "d5ff8545-d179-43bd-ffd1-18cdb971b52d",
        "colab": {
          "base_uri": "https://localhost:8080/"
        }
      },
      "execution_count": 46,
      "outputs": [
        {
          "output_type": "stream",
          "name": "stdout",
          "text": [
            "my_slow_function took 2.00210 seconds\n"
          ]
        }
      ]
    },
    {
      "cell_type": "code",
      "source": [
        "from functools import lru_cache\n",
        "\n",
        "# @lru_cache(maxsize=None)\n",
        "def fibonacci(n):\n",
        "    if n <= 1:\n",
        "        return n\n",
        "    return fibonacci(n-1) + fibonacci(n-2)\n",
        "\n",
        "# The result of fibonacci(10) will be cached, so subsequent calls will be much faster\n",
        "print(fibonacci(5))\n",
        "# print(fibonacci(10))"
      ],
      "metadata": {
        "id": "9LiFQYm0uSlG",
        "outputId": "147a8737-b177-4027-8f36-b56ba75f801d",
        "colab": {
          "base_uri": "https://localhost:8080/"
        }
      },
      "execution_count": 49,
      "outputs": [
        {
          "output_type": "stream",
          "name": "stdout",
          "text": [
            "5\n"
          ]
        }
      ]
    },
    {
      "cell_type": "code",
      "source": [],
      "metadata": {
        "id": "QTBHsKbhuSo_"
      },
      "execution_count": null,
      "outputs": []
    },
    {
      "cell_type": "code",
      "source": [],
      "metadata": {
        "id": "V2pGPmovuSsX"
      },
      "execution_count": null,
      "outputs": []
    },
    {
      "cell_type": "code",
      "source": [],
      "metadata": {
        "id": "zcqodG1YuSwB"
      },
      "execution_count": null,
      "outputs": []
    },
    {
      "cell_type": "code",
      "source": [],
      "metadata": {
        "id": "tmMOkPqJuSzf"
      },
      "execution_count": null,
      "outputs": []
    },
    {
      "cell_type": "code",
      "source": [],
      "metadata": {
        "id": "vznMeZxLuS2_"
      },
      "execution_count": null,
      "outputs": []
    },
    {
      "cell_type": "code",
      "source": [],
      "metadata": {
        "id": "DKeheQmpuS6v"
      },
      "execution_count": null,
      "outputs": []
    }
  ]
}