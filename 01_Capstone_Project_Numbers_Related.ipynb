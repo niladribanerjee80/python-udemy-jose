{
  "nbformat": 4,
  "nbformat_minor": 0,
  "metadata": {
    "colab": {
      "provenance": [],
      "authorship_tag": "ABX9TyOYmCa6//hitpcmwaiVhbCA",
      "include_colab_link": true
    },
    "kernelspec": {
      "name": "python3",
      "display_name": "Python 3"
    },
    "language_info": {
      "name": "python"
    }
  },
  "cells": [
    {
      "cell_type": "markdown",
      "metadata": {
        "id": "view-in-github",
        "colab_type": "text"
      },
      "source": [
        "<a href=\"https://colab.research.google.com/github/niladribanerjee80/python-udemy-jose/blob/main/01_Capstone_Project_Numbers_Related.ipynb\" target=\"_parent\"><img src=\"https://colab.research.google.com/assets/colab-badge.svg\" alt=\"Open In Colab\"/></a>"
      ]
    },
    {
      "cell_type": "markdown",
      "source": [
        "# Pi to Nth digit"
      ],
      "metadata": {
        "id": "-gybpi0gS6Fq"
      }
    },
    {
      "cell_type": "code",
      "execution_count": 14,
      "metadata": {
        "id": "UEiLfimoPcJb"
      },
      "outputs": [],
      "source": [
        "# Find PI to the Nth Digit - Enter a number and have the program generate π (pi) up to that many decimal places. Keep a limit to how far the program will go.\n",
        "\n",
        "def pi_to_nth_digit(n):\n",
        "    result = 22/7\n",
        "\n",
        "    if n > 15:\n",
        "        return \"Rounding Limit is up to 15\"\n",
        "    else:\n",
        "        return round(result, n)"
      ]
    },
    {
      "cell_type": "code",
      "source": [
        "pi_to_nth_digit(10)"
      ],
      "metadata": {
        "colab": {
          "base_uri": "https://localhost:8080/"
        },
        "id": "5EeBG_AjPoxb",
        "outputId": "22f01770-4e80-424e-b3e9-5616ca07be98"
      },
      "execution_count": 15,
      "outputs": [
        {
          "output_type": "execute_result",
          "data": {
            "text/plain": [
              "3.1428571429"
            ]
          },
          "metadata": {},
          "execution_count": 15
        }
      ]
    },
    {
      "cell_type": "code",
      "source": [
        "pi_to_nth_digit(16)"
      ],
      "metadata": {
        "colab": {
          "base_uri": "https://localhost:8080/",
          "height": 36
        },
        "id": "tqsiWikqQp5A",
        "outputId": "4d3753ec-ba9b-4625-82ff-a5786b0c58f8"
      },
      "execution_count": 16,
      "outputs": [
        {
          "output_type": "execute_result",
          "data": {
            "text/plain": [
              "'Rounding Limit is up to 15'"
            ],
            "application/vnd.google.colaboratory.intrinsic+json": {
              "type": "string"
            }
          },
          "metadata": {},
          "execution_count": 16
        }
      ]
    },
    {
      "cell_type": "markdown",
      "source": [
        "# Calculate e"
      ],
      "metadata": {
        "id": "CwR9Uv5VS_b2"
      }
    },
    {
      "cell_type": "code",
      "source": [
        "# find the approximate value for \"e\"\n",
        "import math\n",
        "\n",
        "def calculate_e(n):\n",
        "\n",
        "    if n > 0:\n",
        "        return (1 + 1/n)**n\n",
        "    else:\n",
        "        \"Provide a +ve number and a large one\""
      ],
      "metadata": {
        "id": "OFBCXtQhQ3pj"
      },
      "execution_count": 17,
      "outputs": []
    },
    {
      "cell_type": "code",
      "source": [
        "calculate_e(1000000000000)"
      ],
      "metadata": {
        "colab": {
          "base_uri": "https://localhost:8080/"
        },
        "id": "oRlx373LR66K",
        "outputId": "7d75ad51-28a3-473d-a354-6beea09deb65"
      },
      "execution_count": 34,
      "outputs": [
        {
          "output_type": "execute_result",
          "data": {
            "text/plain": [
              "2.7185234960372378"
            ]
          },
          "metadata": {},
          "execution_count": 34
        }
      ]
    },
    {
      "cell_type": "markdown",
      "source": [
        "# Generate Fibonacci series"
      ],
      "metadata": {
        "id": "7wvzbh09TFzO"
      }
    },
    {
      "cell_type": "code",
      "source": [
        "def fibon(n):\n",
        "    a = 1\n",
        "    b = 1\n",
        "\n",
        "    for i in range(n):\n",
        "        yield a\n",
        "        a, b = b, a + b"
      ],
      "metadata": {
        "id": "UsNiU1ygSUMJ"
      },
      "execution_count": 35,
      "outputs": []
    },
    {
      "cell_type": "code",
      "source": [
        "for num in fibon(10):\n",
        "    print(num)"
      ],
      "metadata": {
        "colab": {
          "base_uri": "https://localhost:8080/"
        },
        "id": "a1nUwLcrSz19",
        "outputId": "76ec793a-a95d-4ce5-b1a3-2346946c9cf9"
      },
      "execution_count": 37,
      "outputs": [
        {
          "output_type": "stream",
          "name": "stdout",
          "text": [
            "1\n",
            "1\n",
            "2\n",
            "3\n",
            "5\n",
            "8\n",
            "13\n",
            "21\n",
            "34\n",
            "55\n"
          ]
        }
      ]
    },
    {
      "cell_type": "markdown",
      "source": [
        "# Prime Factorization\n",
        "Have the user enter a number and find all Prime Factors (if there are any) and display them."
      ],
      "metadata": {
        "id": "6UhiPtxxTY_F"
      }
    },
    {
      "cell_type": "code",
      "source": [
        "def prime_factor(n):\n",
        "    factors = []\n",
        "    d = 2\n",
        "    while n > 1:\n",
        "        while n % d == 0:\n",
        "            factors.append(d)\n",
        "            n /= d\n",
        "        d = d + 1\n",
        "    return factors"
      ],
      "metadata": {
        "id": "r_O0ohwxS1dR"
      },
      "execution_count": 57,
      "outputs": []
    },
    {
      "cell_type": "code",
      "source": [
        "prime_factor(100)"
      ],
      "metadata": {
        "colab": {
          "base_uri": "https://localhost:8080/"
        },
        "id": "zg2odZUkTneI",
        "outputId": "e2d16380-b531-46f8-a889-908622090ff7"
      },
      "execution_count": 60,
      "outputs": [
        {
          "output_type": "execute_result",
          "data": {
            "text/plain": [
              "[2, 2, 5, 5]"
            ]
          },
          "metadata": {},
          "execution_count": 60
        }
      ]
    },
    {
      "cell_type": "code",
      "source": [],
      "metadata": {
        "id": "1iUfClajU3Ym"
      },
      "execution_count": null,
      "outputs": []
    }
  ]
}