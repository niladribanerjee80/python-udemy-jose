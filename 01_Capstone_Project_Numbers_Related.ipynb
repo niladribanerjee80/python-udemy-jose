{
  "nbformat": 4,
  "nbformat_minor": 0,
  "metadata": {
    "colab": {
      "provenance": [],
      "authorship_tag": "ABX9TyPGD10NKMobDxzlUrvUeZCQ",
      "include_colab_link": true
    },
    "kernelspec": {
      "name": "python3",
      "display_name": "Python 3"
    },
    "language_info": {
      "name": "python"
    }
  },
  "cells": [
    {
      "cell_type": "markdown",
      "metadata": {
        "id": "view-in-github",
        "colab_type": "text"
      },
      "source": [
        "<a href=\"https://colab.research.google.com/github/niladribanerjee80/python-udemy-jose/blob/main/01_Capstone_Project_Numbers_Related.ipynb\" target=\"_parent\"><img src=\"https://colab.research.google.com/assets/colab-badge.svg\" alt=\"Open In Colab\"/></a>"
      ]
    },
    {
      "cell_type": "markdown",
      "source": [
        "# Pi to Nth digit"
      ],
      "metadata": {
        "id": "-gybpi0gS6Fq"
      }
    },
    {
      "cell_type": "code",
      "execution_count": 14,
      "metadata": {
        "id": "UEiLfimoPcJb"
      },
      "outputs": [],
      "source": [
        "# Find PI to the Nth Digit - Enter a number and have the program generate π (pi) up to that many decimal places. Keep a limit to how far the program will go.\n",
        "\n",
        "def pi_to_nth_digit(n):\n",
        "    result = 22/7\n",
        "\n",
        "    if n > 15:\n",
        "        return \"Rounding Limit is up to 15\"\n",
        "    else:\n",
        "        return round(result, n)"
      ]
    },
    {
      "cell_type": "code",
      "source": [
        "pi_to_nth_digit(10)"
      ],
      "metadata": {
        "colab": {
          "base_uri": "https://localhost:8080/"
        },
        "id": "5EeBG_AjPoxb",
        "outputId": "22f01770-4e80-424e-b3e9-5616ca07be98"
      },
      "execution_count": 15,
      "outputs": [
        {
          "output_type": "execute_result",
          "data": {
            "text/plain": [
              "3.1428571429"
            ]
          },
          "metadata": {},
          "execution_count": 15
        }
      ]
    },
    {
      "cell_type": "code",
      "source": [
        "pi_to_nth_digit(16)"
      ],
      "metadata": {
        "colab": {
          "base_uri": "https://localhost:8080/",
          "height": 36
        },
        "id": "tqsiWikqQp5A",
        "outputId": "4d3753ec-ba9b-4625-82ff-a5786b0c58f8"
      },
      "execution_count": 16,
      "outputs": [
        {
          "output_type": "execute_result",
          "data": {
            "text/plain": [
              "'Rounding Limit is up to 15'"
            ],
            "application/vnd.google.colaboratory.intrinsic+json": {
              "type": "string"
            }
          },
          "metadata": {},
          "execution_count": 16
        }
      ]
    },
    {
      "cell_type": "markdown",
      "source": [
        "# Calculate e"
      ],
      "metadata": {
        "id": "CwR9Uv5VS_b2"
      }
    },
    {
      "cell_type": "code",
      "source": [
        "# find the approximate value for \"e\"\n",
        "import math\n",
        "\n",
        "def calculate_e(n):\n",
        "\n",
        "    if n > 0:\n",
        "        return (1 + 1/n)**n\n",
        "    else:\n",
        "        \"Provide a +ve number and a large one\""
      ],
      "metadata": {
        "id": "OFBCXtQhQ3pj"
      },
      "execution_count": 17,
      "outputs": []
    },
    {
      "cell_type": "code",
      "source": [
        "calculate_e(1000000000000)"
      ],
      "metadata": {
        "colab": {
          "base_uri": "https://localhost:8080/"
        },
        "id": "oRlx373LR66K",
        "outputId": "7d75ad51-28a3-473d-a354-6beea09deb65"
      },
      "execution_count": 34,
      "outputs": [
        {
          "output_type": "execute_result",
          "data": {
            "text/plain": [
              "2.7185234960372378"
            ]
          },
          "metadata": {},
          "execution_count": 34
        }
      ]
    },
    {
      "cell_type": "markdown",
      "source": [
        "# Generate Fibonacci series"
      ],
      "metadata": {
        "id": "7wvzbh09TFzO"
      }
    },
    {
      "cell_type": "code",
      "source": [
        "def fibon(n):\n",
        "    a = 1\n",
        "    b = 1\n",
        "\n",
        "    for i in range(n):\n",
        "        yield a\n",
        "        a, b = b, a + b"
      ],
      "metadata": {
        "id": "UsNiU1ygSUMJ"
      },
      "execution_count": 35,
      "outputs": []
    },
    {
      "cell_type": "code",
      "source": [
        "for num in fibon(10):\n",
        "    print(num)"
      ],
      "metadata": {
        "colab": {
          "base_uri": "https://localhost:8080/"
        },
        "id": "a1nUwLcrSz19",
        "outputId": "76ec793a-a95d-4ce5-b1a3-2346946c9cf9"
      },
      "execution_count": 37,
      "outputs": [
        {
          "output_type": "stream",
          "name": "stdout",
          "text": [
            "1\n",
            "1\n",
            "2\n",
            "3\n",
            "5\n",
            "8\n",
            "13\n",
            "21\n",
            "34\n",
            "55\n"
          ]
        }
      ]
    },
    {
      "cell_type": "markdown",
      "source": [
        "# Prime Factorization\n",
        "Have the user enter a number and find all Prime Factors (if there are any) and display them."
      ],
      "metadata": {
        "id": "6UhiPtxxTY_F"
      }
    },
    {
      "cell_type": "code",
      "source": [
        "def prime_factor(n):\n",
        "    factors = []\n",
        "    d = 2\n",
        "    while n > 1:\n",
        "        while n % d == 0:\n",
        "            factors.append(d)\n",
        "            n /= d\n",
        "        d = d + 1\n",
        "    return factors"
      ],
      "metadata": {
        "id": "r_O0ohwxS1dR"
      },
      "execution_count": 57,
      "outputs": []
    },
    {
      "cell_type": "code",
      "source": [
        "prime_factor(1369)"
      ],
      "metadata": {
        "colab": {
          "base_uri": "https://localhost:8080/"
        },
        "id": "zg2odZUkTneI",
        "outputId": "4a41c7a0-8905-42db-9a7a-1f6f094fada1"
      },
      "execution_count": 65,
      "outputs": [
        {
          "output_type": "execute_result",
          "data": {
            "text/plain": [
              "[37, 37]"
            ]
          },
          "metadata": {},
          "execution_count": 65
        }
      ]
    },
    {
      "cell_type": "code",
      "source": [
        "def is_prime(num):\n",
        "  \"\"\"Checks if a given number is prime.\n",
        "\n",
        "  Args:\n",
        "    num: The number to check.\n",
        "\n",
        "  Returns:\n",
        "    True if the number is prime, False otherwise.\n",
        "  \"\"\"\n",
        "\n",
        "  if num <= 1:\n",
        "    return False\n",
        "  if num <= 3:\n",
        "    return True\n",
        "  if num % 2 == 0 or num % 3 == 0:\n",
        "    return False\n",
        "\n",
        "  i = 5\n",
        "  while i * i <= num:\n",
        "    if num % i == 0 or num % (i + 2) == 0:\n",
        "      return False\n",
        "    i += 6\n",
        "\n",
        "  return True\n",
        "\n",
        "def find_next_prime(start):\n",
        "  \"\"\"Finds the next prime number starting from a given number.\n",
        "\n",
        "  Args:\n",
        "    start: The starting number.\n",
        "\n",
        "  Returns:\n",
        "    The next prime number.\n",
        "  \"\"\"\n",
        "\n",
        "  while True:\n",
        "    if is_prime(start):\n",
        "      return start\n",
        "    start += 1\n",
        "\n",
        "def main():\n",
        "  \"\"\"Main function to find prime numbers until the user stops.\"\"\"\n",
        "\n",
        "  start = 2\n",
        "  while True:\n",
        "    next_prime = find_next_prime(start)\n",
        "    print(f\"The next prime number is: {next_prime}\")\n",
        "\n",
        "    choice = input(\"Do you want to find the next prime number? (Y/N): \")\n",
        "    if choice.lower() != \"y\":\n",
        "      break\n",
        "\n",
        "    start = next_prime + 1\n",
        "\n",
        "if __name__ == \"__main__\":\n",
        "  main()"
      ],
      "metadata": {
        "colab": {
          "base_uri": "https://localhost:8080/"
        },
        "id": "z-f8Wy7DjW6x",
        "outputId": "8a66d36e-eb26-428f-eafe-a76da8956dcc"
      },
      "execution_count": 93,
      "outputs": [
        {
          "name": "stdout",
          "output_type": "stream",
          "text": [
            "The next prime number is: 2\n",
            "Do you want to find the next prime number? (Y/N): Y\n",
            "The next prime number is: 3\n",
            "Do you want to find the next prime number? (Y/N): Y\n",
            "The next prime number is: 5\n",
            "Do you want to find the next prime number? (Y/N): Y\n",
            "The next prime number is: 7\n",
            "Do you want to find the next prime number? (Y/N): Y\n",
            "The next prime number is: 11\n",
            "Do you want to find the next prime number? (Y/N): Y\n",
            "Do you want to find the next prime number? (Y/N): Y\n",
            "The next prime number is: 13\n",
            "The next prime number is: 17\n",
            "Do you want to find the next prime number? (Y/N): Y\n",
            "The next prime number is: 19\n",
            "Do you want to find the next prime number? (Y/N): Y\n",
            "The next prime number is: 23\n",
            "Do you want to find the next prime number? (Y/N): Y\n",
            "The next prime number is: 29\n",
            "Do you want to find the next prime number? (Y/N): Y\n",
            "The next prime number is: 31\n",
            "Do you want to find the next prime number? (Y/N): Y\n",
            "The next prime number is: 37\n",
            "Do you want to find the next prime number? (Y/N): Y\n",
            "The next prime number is: 41\n",
            "Do you want to find the next prime number? (Y/N): Y\n",
            "The next prime number is: 43\n",
            "Do you want to find the next prime number? (Y/N): Y\n",
            "The next prime number is: 47\n",
            "Do you want to find the next prime number? (Y/N): Y\n",
            "The next prime number is: 53\n",
            "Do you want to find the next prime number? (Y/N): Y\n",
            "The next prime number is: 59\n",
            "Do you want to find the next prime number? (Y/N): Y\n",
            "The next prime number is: 61\n",
            "Do you want to find the next prime number? (Y/N): Y\n",
            "The next prime number is: 67\n",
            "Do you want to find the next prime number? (Y/N): Y\n",
            "The next prime number is: 71\n",
            "Do you want to find the next prime number? (Y/N): Y\n",
            "The next prime number is: 73\n",
            "Do you want to find the next prime number? (Y/N): Y\n",
            "The next prime number is: 79\n",
            "Do you want to find the next prime number? (Y/N): Y\n",
            "The next prime number is: 83\n",
            "Do you want to find the next prime number? (Y/N): Y\n",
            "The next prime number is: 89\n",
            "Do you want to find the next prime number? (Y/N): Y\n",
            "The next prime number is: 97\n",
            "Do you want to find the next prime number? (Y/N): Y\n",
            "The next prime number is: 101\n",
            "Do you want to find the next prime number? (Y/N): Y\n",
            "The next prime number is: 103\n",
            "Do you want to find the next prime number? (Y/N): Y\n",
            "The next prime number is: 107\n",
            "Do you want to find the next prime number? (Y/N): Y\n",
            "The next prime number is: 109\n",
            "Do you want to find the next prime number? (Y/N): Y\n",
            "The next prime number is: 113\n",
            "Do you want to find the next prime number? (Y/N): N\n"
          ]
        }
      ]
    },
    {
      "cell_type": "code",
      "source": [],
      "metadata": {
        "id": "JmwGvZLXn9HD"
      },
      "execution_count": null,
      "outputs": []
    }
  ]
}