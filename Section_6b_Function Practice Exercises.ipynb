{
  "cells": [
    {
      "cell_type": "markdown",
      "metadata": {
        "id": "view-in-github",
        "colab_type": "text"
      },
      "source": [
        "<a href=\"https://colab.research.google.com/github/niladribanerjee80/python-udemy-jose/blob/main/Section_6b_Function%20Practice%20Exercises.ipynb\" target=\"_parent\"><img src=\"https://colab.research.google.com/assets/colab-badge.svg\" alt=\"Open In Colab\"/></a>"
      ]
    },
    {
      "cell_type": "markdown",
      "metadata": {
        "id": "OupSgHOpCOR3"
      },
      "source": [
        "___\n",
        "\n",
        "<a href='https://www.udemy.com/user/joseportilla/'><img src='https://github.com/niladribanerjee80/python-udemy-jose/blob/Pierian_Data_Logo.png?raw=1'/></a>\n",
        "___\n",
        "<center><em>Content Copyright by Pierian Data</em></center>"
      ]
    },
    {
      "cell_type": "markdown",
      "metadata": {
        "id": "jCVfQ3c6COR4"
      },
      "source": [
        "# Function Practice Exercises\n",
        "\n",
        "Problems are arranged in increasing difficulty:\n",
        "* Warmup - these can be solved using basic comparisons and methods\n",
        "* Level 1 - these may involve if/then conditional statements and simple methods\n",
        "* Level 2 - these may require iterating over sequences, usually with some kind of loop\n",
        "* Challenging - these will take some creativity to solve"
      ]
    },
    {
      "cell_type": "markdown",
      "metadata": {
        "id": "GUHUvEsBCOR5"
      },
      "source": [
        "## WARMUP SECTION:"
      ]
    },
    {
      "cell_type": "markdown",
      "metadata": {
        "id": "Hx3C8aB9COR5"
      },
      "source": [
        "#### LESSER OF TWO EVENS: Write a function that returns the lesser of two given numbers *if* both numbers are even, but returns the greater if one or both numbers are odd\n",
        "    lesser_of_two_evens(2,4) --> 2\n",
        "    lesser_of_two_evens(2,5) --> 5"
      ]
    },
    {
      "cell_type": "code",
      "execution_count": 1,
      "metadata": {
        "collapsed": true,
        "id": "ot4rrQFQCOR5"
      },
      "outputs": [],
      "source": [
        "def lesser_of_two_evens(a,b):\n",
        "    if a % 2 == 0 and b % 2 == 0:\n",
        "      return min(a,b)\n",
        "    else:\n",
        "      return max(a,b)"
      ]
    },
    {
      "cell_type": "code",
      "execution_count": 2,
      "metadata": {
        "id": "hajnSwDxCOR6",
        "outputId": "8fd179bb-e7e6-4c68-8312-41a695aae9de",
        "colab": {
          "base_uri": "https://localhost:8080/"
        }
      },
      "outputs": [
        {
          "output_type": "execute_result",
          "data": {
            "text/plain": [
              "2"
            ]
          },
          "metadata": {},
          "execution_count": 2
        }
      ],
      "source": [
        "# Check\n",
        "lesser_of_two_evens(2,4)"
      ]
    },
    {
      "cell_type": "code",
      "execution_count": 3,
      "metadata": {
        "id": "Brlp7fNeCOR6",
        "outputId": "3a6ec3b8-61f4-41be-8cfe-bf9526ec118a",
        "colab": {
          "base_uri": "https://localhost:8080/"
        }
      },
      "outputs": [
        {
          "output_type": "execute_result",
          "data": {
            "text/plain": [
              "5"
            ]
          },
          "metadata": {},
          "execution_count": 3
        }
      ],
      "source": [
        "# Check\n",
        "lesser_of_two_evens(2,5)"
      ]
    },
    {
      "cell_type": "markdown",
      "metadata": {
        "id": "5qnOVKbqCOR6"
      },
      "source": [
        "#### ANIMAL CRACKERS: Write a function takes a two-word string and returns True if both words begin with same letter\n",
        "    animal_crackers('Levelheaded Llama') --> True\n",
        "    animal_crackers('Crazy Kangaroo') --> False"
      ]
    },
    {
      "cell_type": "code",
      "execution_count": null,
      "metadata": {
        "collapsed": true,
        "id": "lGchfO_UCOR7"
      },
      "outputs": [],
      "source": [
        "def animal_crackers(text):\n",
        "    words = text.split()\n",
        "    return words[0][0] == words[-1][0]"
      ]
    },
    {
      "cell_type": "code",
      "execution_count": null,
      "metadata": {
        "id": "r4wIQMnKCOR7",
        "outputId": "86044618-3af6-4219-cd69-4dc5355b23de",
        "colab": {
          "base_uri": "https://localhost:8080/"
        }
      },
      "outputs": [
        {
          "output_type": "execute_result",
          "data": {
            "text/plain": [
              "True"
            ]
          },
          "metadata": {},
          "execution_count": 5
        }
      ],
      "source": [
        "# Check\n",
        "animal_crackers('Levelheaded Llama')"
      ]
    },
    {
      "cell_type": "code",
      "execution_count": null,
      "metadata": {
        "id": "6IkI1LZbCOR7",
        "outputId": "8c211832-b647-4a71-ee1b-fd139e15ce8d",
        "colab": {
          "base_uri": "https://localhost:8080/"
        }
      },
      "outputs": [
        {
          "output_type": "execute_result",
          "data": {
            "text/plain": [
              "False"
            ]
          },
          "metadata": {},
          "execution_count": 6
        }
      ],
      "source": [
        "# Check\n",
        "animal_crackers('Crazy Kangaroo')"
      ]
    },
    {
      "cell_type": "markdown",
      "metadata": {
        "id": "jG745l5PCOR7"
      },
      "source": [
        "#### MAKES TWENTY: Given two integers, return True if the sum of the integers is 20 *or* if one of the integers is 20. If not, return False\n",
        "\n",
        "    makes_twenty(20,10) --> True\n",
        "    makes_twenty(12,8) --> True\n",
        "    makes_twenty(2,3) --> False"
      ]
    },
    {
      "cell_type": "code",
      "execution_count": null,
      "metadata": {
        "collapsed": true,
        "id": "ZTGZElmOCOR7"
      },
      "outputs": [],
      "source": [
        "def makes_twenty(n1,n2):\n",
        "    return n1 == 20 or n2 == 20 or n1+n2 == 20"
      ]
    },
    {
      "cell_type": "code",
      "execution_count": null,
      "metadata": {
        "id": "onLrnt9XCOR7",
        "outputId": "6400829c-207e-4a1f-a8cf-ff8e9aefc7af",
        "colab": {
          "base_uri": "https://localhost:8080/"
        }
      },
      "outputs": [
        {
          "output_type": "execute_result",
          "data": {
            "text/plain": [
              "True"
            ]
          },
          "metadata": {},
          "execution_count": 8
        }
      ],
      "source": [
        "# Check\n",
        "makes_twenty(20,10)"
      ]
    },
    {
      "cell_type": "code",
      "execution_count": null,
      "metadata": {
        "id": "QeQl526pCOR8",
        "outputId": "c4b53afe-1377-4eb9-fa04-84ea95fc44cf",
        "colab": {
          "base_uri": "https://localhost:8080/"
        }
      },
      "outputs": [
        {
          "output_type": "execute_result",
          "data": {
            "text/plain": [
              "False"
            ]
          },
          "metadata": {},
          "execution_count": 9
        }
      ],
      "source": [
        "# Check\n",
        "makes_twenty(2,3)"
      ]
    },
    {
      "cell_type": "markdown",
      "metadata": {
        "id": "KzCZtN4MCOR8"
      },
      "source": [
        "# LEVEL 1 PROBLEMS"
      ]
    },
    {
      "cell_type": "markdown",
      "metadata": {
        "id": "-LdOE6ZnCOR8"
      },
      "source": [
        "#### OLD MACDONALD: Write a function that capitalizes the first and fourth letters of a name\n",
        "     \n",
        "    old_macdonald('macdonald') --> MacDonald\n",
        "    \n",
        "Note: `'macdonald'.capitalize()` returns `'Macdonald'`"
      ]
    },
    {
      "cell_type": "code",
      "execution_count": null,
      "metadata": {
        "collapsed": true,
        "id": "srR-laIFCOR8"
      },
      "outputs": [],
      "source": [
        "def old_macdonald(name):\n",
        "  return name[0].upper()+name[1:3]+name[3].upper()+name[4:]"
      ]
    },
    {
      "cell_type": "code",
      "execution_count": null,
      "metadata": {
        "id": "Hn0zhAYFCOR8",
        "outputId": "e7bcec93-9266-4687-d0f7-e920b3702bce",
        "colab": {
          "base_uri": "https://localhost:8080/",
          "height": 35
        }
      },
      "outputs": [
        {
          "output_type": "execute_result",
          "data": {
            "text/plain": [
              "'MacDonald'"
            ],
            "application/vnd.google.colaboratory.intrinsic+json": {
              "type": "string"
            }
          },
          "metadata": {},
          "execution_count": 15
        }
      ],
      "source": [
        "# Check\n",
        "old_macdonald('macdonald')"
      ]
    },
    {
      "cell_type": "markdown",
      "metadata": {
        "id": "Ep2zrXhmCOR8"
      },
      "source": [
        "#### MASTER YODA: Given a sentence, return a sentence with the words reversed\n",
        "\n",
        "    master_yoda('I am home') --> 'home am I'\n",
        "    master_yoda('We are ready') --> 'ready are We'\n",
        "    \n",
        "Note: The .join() method may be useful here. The .join() method allows you to join together strings in a list with some connector string. For example, some uses of the .join() method:\n",
        "\n",
        "    >>> \"--\".join(['a','b','c'])\n",
        "    >>> 'a--b--c'\n",
        "\n",
        "This means if you had a list of words you wanted to turn back into a sentence, you could just join them with a single space string:\n",
        "\n",
        "    >>> \" \".join(['Hello','world'])\n",
        "    >>> \"Hello world\""
      ]
    },
    {
      "cell_type": "code",
      "execution_count": null,
      "metadata": {
        "collapsed": true,
        "id": "Ziyq80MVCOR8"
      },
      "outputs": [],
      "source": [
        "def master_yoda(text):\n",
        "    words = text.split()\n",
        "    return \" \".join(words[::-1])\n"
      ]
    },
    {
      "cell_type": "code",
      "execution_count": null,
      "metadata": {
        "id": "zEcfoBb7COR8",
        "outputId": "b63f68b3-24e1-4eb8-ba01-83ebc51f7d89",
        "colab": {
          "base_uri": "https://localhost:8080/",
          "height": 35
        }
      },
      "outputs": [
        {
          "output_type": "execute_result",
          "data": {
            "text/plain": [
              "'home am I'"
            ],
            "application/vnd.google.colaboratory.intrinsic+json": {
              "type": "string"
            }
          },
          "metadata": {},
          "execution_count": 25
        }
      ],
      "source": [
        "# Check\n",
        "master_yoda('I am home')"
      ]
    },
    {
      "cell_type": "code",
      "execution_count": null,
      "metadata": {
        "id": "GEY0koJECOR8",
        "outputId": "bc3a0d7e-2993-4639-8142-af7fb950ea3a",
        "colab": {
          "base_uri": "https://localhost:8080/",
          "height": 35
        }
      },
      "outputs": [
        {
          "output_type": "execute_result",
          "data": {
            "text/plain": [
              "'ready are We'"
            ],
            "application/vnd.google.colaboratory.intrinsic+json": {
              "type": "string"
            }
          },
          "metadata": {},
          "execution_count": 26
        }
      ],
      "source": [
        "# Check\n",
        "master_yoda('We are ready')"
      ]
    },
    {
      "cell_type": "markdown",
      "metadata": {
        "id": "Yd7640qpCOR8"
      },
      "source": [
        "#### ALMOST THERE: Given an integer n, return True if n is within 10 of either 100 or 200\n",
        "\n",
        "    almost_there(90) --> True\n",
        "    almost_there(104) --> True\n",
        "    almost_there(150) --> False\n",
        "    almost_there(209) --> True\n",
        "    \n",
        "NOTE: `abs(num)` returns the absolute value of a number"
      ]
    },
    {
      "cell_type": "code",
      "execution_count": 5,
      "metadata": {
        "collapsed": true,
        "id": "qYkH-Z_8COR8"
      },
      "outputs": [],
      "source": [
        "def almost_there(n):\n",
        "  return abs(100-n) <= 10 or abs(200-n) <= 10"
      ]
    },
    {
      "cell_type": "code",
      "execution_count": 6,
      "metadata": {
        "id": "3Bx0dOLyCOR8",
        "outputId": "88bc565a-81be-4b26-c4ce-a00a7e359bc7",
        "colab": {
          "base_uri": "https://localhost:8080/"
        }
      },
      "outputs": [
        {
          "output_type": "execute_result",
          "data": {
            "text/plain": [
              "True"
            ]
          },
          "metadata": {},
          "execution_count": 6
        }
      ],
      "source": [
        "# Check\n",
        "almost_there(104)"
      ]
    },
    {
      "cell_type": "code",
      "execution_count": 7,
      "metadata": {
        "id": "u46SFqMECOR9",
        "outputId": "813d107f-1264-4206-cfd0-4d643a192adc",
        "colab": {
          "base_uri": "https://localhost:8080/"
        }
      },
      "outputs": [
        {
          "output_type": "execute_result",
          "data": {
            "text/plain": [
              "False"
            ]
          },
          "metadata": {},
          "execution_count": 7
        }
      ],
      "source": [
        "# Check\n",
        "almost_there(150)"
      ]
    },
    {
      "cell_type": "code",
      "execution_count": 8,
      "metadata": {
        "id": "6xOe3yTlCOR9",
        "outputId": "1a58043c-0dfb-4d02-b879-607239a2061a",
        "colab": {
          "base_uri": "https://localhost:8080/"
        }
      },
      "outputs": [
        {
          "output_type": "execute_result",
          "data": {
            "text/plain": [
              "True"
            ]
          },
          "metadata": {},
          "execution_count": 8
        }
      ],
      "source": [
        "# Check\n",
        "almost_there(209)"
      ]
    },
    {
      "cell_type": "markdown",
      "metadata": {
        "id": "aVQViRUjCOR9"
      },
      "source": [
        "# LEVEL 2 PROBLEMS"
      ]
    },
    {
      "cell_type": "markdown",
      "metadata": {
        "id": "Oa6cexR3COR9"
      },
      "source": [
        "#### FIND 33:\n",
        "\n",
        "Given a list of ints, return True if the array contains a 3 next to a 3 somewhere.\n",
        "\n",
        "    has_33([1, 3, 3]) → True\n",
        "    has_33([1, 3, 1, 3]) → False\n",
        "    has_33([3, 1, 3]) → False"
      ]
    },
    {
      "cell_type": "code",
      "execution_count": null,
      "metadata": {
        "collapsed": true,
        "id": "GvKh9KtBCOR9"
      },
      "outputs": [],
      "source": [
        "def has_33(nums):\n",
        "\n",
        "  temp = -99\n",
        "\n",
        "  for index,num in enumerate(nums):\n",
        "    if num == 3:\n",
        "      if index == temp+1:\n",
        "        return True\n",
        "      else:\n",
        "        temp = index\n",
        "\n",
        "  return False"
      ]
    },
    {
      "cell_type": "code",
      "source": [
        "# another way\n",
        "def has_33(nums):\n",
        "  for i in range(0,len(nums)-1):\n",
        "    if nums[i] == 3 and nums[i+1] == 3:\n",
        "      return True\n",
        "  return False"
      ],
      "metadata": {
        "id": "DYYzV6Txd6ju"
      },
      "execution_count": 6,
      "outputs": []
    },
    {
      "cell_type": "code",
      "source": [
        "# interesting case - the below is not same as above. This program is incorrect as per the requirement\n",
        "def has_33(nums):\n",
        "  for i in range(0,len(nums)-1):\n",
        "    return ((nums[i] == 3) and (nums[i+1] == 3)) # returns False the moment it does not satisfy\n",
        "  return False"
      ],
      "metadata": {
        "id": "B4lUV6uk8rWM"
      },
      "execution_count": 5,
      "outputs": []
    },
    {
      "cell_type": "code",
      "execution_count": 7,
      "metadata": {
        "collapsed": true,
        "id": "odqdV7ueCOR9",
        "colab": {
          "base_uri": "https://localhost:8080/"
        },
        "outputId": "4192b5cb-36e9-460b-e922-80317c7aba33"
      },
      "outputs": [
        {
          "output_type": "execute_result",
          "data": {
            "text/plain": [
              "True"
            ]
          },
          "metadata": {},
          "execution_count": 7
        }
      ],
      "source": [
        "# Check\n",
        "has_33([1, 3, 3])"
      ]
    },
    {
      "cell_type": "code",
      "execution_count": 8,
      "metadata": {
        "collapsed": true,
        "id": "1parK2KMCOR9",
        "colab": {
          "base_uri": "https://localhost:8080/"
        },
        "outputId": "90c2a32c-c5f9-469a-e402-cd1d539de8c7"
      },
      "outputs": [
        {
          "output_type": "execute_result",
          "data": {
            "text/plain": [
              "False"
            ]
          },
          "metadata": {},
          "execution_count": 8
        }
      ],
      "source": [
        "# Check\n",
        "has_33([1, 3, 1, 3])"
      ]
    },
    {
      "cell_type": "code",
      "execution_count": 9,
      "metadata": {
        "collapsed": true,
        "id": "ogFTFl7-COR9",
        "colab": {
          "base_uri": "https://localhost:8080/"
        },
        "outputId": "8905d1d5-82ee-49d3-9126-0efdd52d5521"
      },
      "outputs": [
        {
          "output_type": "execute_result",
          "data": {
            "text/plain": [
              "False"
            ]
          },
          "metadata": {},
          "execution_count": 9
        }
      ],
      "source": [
        "# Check\n",
        "has_33([3, 1, 3])"
      ]
    },
    {
      "cell_type": "markdown",
      "metadata": {
        "id": "-DladTPOCOR9"
      },
      "source": [
        "#### PAPER DOLL: Given a string, return a string where for every character in the original there are three characters\n",
        "    paper_doll('Hello') --> 'HHHeeellllllooo'\n",
        "    paper_doll('Mississippi') --> 'MMMiiissssssiiippppppiii'"
      ]
    },
    {
      "cell_type": "code",
      "execution_count": null,
      "metadata": {
        "collapsed": true,
        "id": "b048xhocCOR9"
      },
      "outputs": [],
      "source": [
        "def paper_doll(text):\n",
        "  new_string = ''\n",
        "  for letter in text:\n",
        "    new_string = new_string + letter * 3\n",
        "  return new_string"
      ]
    },
    {
      "cell_type": "code",
      "execution_count": null,
      "metadata": {
        "id": "weuUYPaVCOR9",
        "colab": {
          "base_uri": "https://localhost:8080/",
          "height": 35
        },
        "outputId": "81113f94-04d4-4db9-83e8-401b07b638ac"
      },
      "outputs": [
        {
          "output_type": "execute_result",
          "data": {
            "text/plain": [
              "'HHHeeellllllooo'"
            ],
            "application/vnd.google.colaboratory.intrinsic+json": {
              "type": "string"
            }
          },
          "metadata": {},
          "execution_count": 62
        }
      ],
      "source": [
        "# Check\n",
        "paper_doll('Hello')"
      ]
    },
    {
      "cell_type": "code",
      "execution_count": null,
      "metadata": {
        "id": "nrcbUdb1COR-",
        "colab": {
          "base_uri": "https://localhost:8080/",
          "height": 35
        },
        "outputId": "11ac2e1b-3679-4d2e-a568-069c82a21a11"
      },
      "outputs": [
        {
          "output_type": "execute_result",
          "data": {
            "text/plain": [
              "'MMMiiissssssiiissssssiiippppppiii'"
            ],
            "application/vnd.google.colaboratory.intrinsic+json": {
              "type": "string"
            }
          },
          "metadata": {},
          "execution_count": 64
        }
      ],
      "source": [
        "# Check\n",
        "paper_doll('Mississippi')"
      ]
    },
    {
      "cell_type": "markdown",
      "metadata": {
        "id": "KqvuHKceCOR-"
      },
      "source": [
        "#### BLACKJACK: Given three integers between 1 and 11, if their sum is less than or equal to 21, return their sum. If their sum exceeds 21 *and* there's an eleven, reduce the total sum by 10. Finally, if the sum (even after adjustment) exceeds 21, return 'BUST'\n",
        "    blackjack(5,6,7) --> 18\n",
        "    blackjack(9,9,9) --> 'BUST'\n",
        "    blackjack(9,9,11) --> 19"
      ]
    },
    {
      "cell_type": "code",
      "execution_count": 14,
      "metadata": {
        "collapsed": true,
        "id": "S6NPAEgFCOSE"
      },
      "outputs": [],
      "source": [
        "def blackjack(a,b,c):\n",
        "    if sum([a,b,c]) <= 21:\n",
        "      return sum([a,b,c])\n",
        "    elif sum([a,b,c]) > 21 and 11 in [a,b,c]:\n",
        "      return (sum([a,b,c]) - 10)\n",
        "    else:\n",
        "      return 'BUST'"
      ]
    },
    {
      "cell_type": "code",
      "execution_count": 15,
      "metadata": {
        "collapsed": true,
        "id": "KxUtTF4fCOSF",
        "colab": {
          "base_uri": "https://localhost:8080/"
        },
        "outputId": "34e5bc89-384f-49e4-d4f5-6e9128f9471d"
      },
      "outputs": [
        {
          "output_type": "execute_result",
          "data": {
            "text/plain": [
              "18"
            ]
          },
          "metadata": {},
          "execution_count": 15
        }
      ],
      "source": [
        "# Check\n",
        "blackjack(5,6,7)"
      ]
    },
    {
      "cell_type": "code",
      "execution_count": 16,
      "metadata": {
        "collapsed": true,
        "id": "lDiJyz0hCOSF",
        "colab": {
          "base_uri": "https://localhost:8080/",
          "height": 36
        },
        "outputId": "0e69faca-e2d6-4011-97fa-b4a1977080d4"
      },
      "outputs": [
        {
          "output_type": "execute_result",
          "data": {
            "text/plain": [
              "'BUST'"
            ],
            "application/vnd.google.colaboratory.intrinsic+json": {
              "type": "string"
            }
          },
          "metadata": {},
          "execution_count": 16
        }
      ],
      "source": [
        "# Check\n",
        "blackjack(9,9,9)"
      ]
    },
    {
      "cell_type": "code",
      "execution_count": 17,
      "metadata": {
        "collapsed": true,
        "id": "3PphUPB8COSF",
        "colab": {
          "base_uri": "https://localhost:8080/"
        },
        "outputId": "22d9e753-a5dd-4bf7-dab0-fb6779a6802d"
      },
      "outputs": [
        {
          "output_type": "execute_result",
          "data": {
            "text/plain": [
              "19"
            ]
          },
          "metadata": {},
          "execution_count": 17
        }
      ],
      "source": [
        "# Check\n",
        "blackjack(9,9,11)"
      ]
    },
    {
      "cell_type": "markdown",
      "metadata": {
        "id": "ef10y62gCOSF"
      },
      "source": [
        "#### SUMMER OF '69: Return the sum of the numbers in the array, except ignore sections of numbers starting with a 6 and extending to the next 9 (every 6 will be followed by at least one 9). Return 0 for no numbers.\n",
        "\n",
        "    summer_69([1, 3, 5]) --> 9\n",
        "    summer_69([4, 5, 6, 7, 8, 9]) --> 9\n",
        "    summer_69([2, 1, 6, 9, 11]) --> 14"
      ]
    },
    {
      "cell_type": "code",
      "execution_count": null,
      "metadata": {
        "collapsed": true,
        "id": "l22ATorvCOSF"
      },
      "outputs": [],
      "source": [
        "def summer_69(arr):\n",
        "\n",
        "  arr.sort() # create the sorted list\n",
        "  new_list = []\n",
        "\n",
        "  if 6 in arr and 9 in arr:\n",
        "    for num in arr:\n",
        "      if num < 6 or num > 9:\n",
        "        new_list.append(num)\n",
        "  else:\n",
        "    new_list = arr\n",
        "\n",
        "  return sum(new_list)"
      ]
    },
    {
      "cell_type": "code",
      "source": [
        "# another way\n",
        "def summer_69(arr):\n",
        "\n",
        "  total = 0\n",
        "  add = True\n",
        "\n",
        "  for num in arr:\n",
        "    while add:\n",
        "      if num != 6:\n",
        "        total += num\n",
        "        break\n",
        "      else:\n",
        "        # stop adding if num = 6\n",
        "        add = False\n",
        "\n",
        "    while not add:\n",
        "      if num != 9:\n",
        "        break\n",
        "      else:\n",
        "        # stop adding until num reaches = 9\n",
        "        add = True\n",
        "        break\n",
        "  return total"
      ],
      "metadata": {
        "id": "7UF2cUij_qN-"
      },
      "execution_count": 22,
      "outputs": []
    },
    {
      "cell_type": "code",
      "execution_count": 19,
      "metadata": {
        "id": "0ZC9LhILCOSF",
        "colab": {
          "base_uri": "https://localhost:8080/"
        },
        "outputId": "b917d969-60f2-4f8b-910a-a361724786a7"
      },
      "outputs": [
        {
          "output_type": "execute_result",
          "data": {
            "text/plain": [
              "9"
            ]
          },
          "metadata": {},
          "execution_count": 19
        }
      ],
      "source": [
        "# Check\n",
        "summer_69([1, 3, 5])"
      ]
    },
    {
      "cell_type": "code",
      "execution_count": 20,
      "metadata": {
        "id": "OVIPQE7mCOSF",
        "colab": {
          "base_uri": "https://localhost:8080/"
        },
        "outputId": "6f99ff2e-0bb5-440a-d13d-398faf4c2ceb"
      },
      "outputs": [
        {
          "output_type": "execute_result",
          "data": {
            "text/plain": [
              "9"
            ]
          },
          "metadata": {},
          "execution_count": 20
        }
      ],
      "source": [
        "# Check\n",
        "summer_69([4, 5, 6, 7, 8, 9])"
      ]
    },
    {
      "cell_type": "code",
      "execution_count": 21,
      "metadata": {
        "id": "rxqRH0XqCOSF",
        "colab": {
          "base_uri": "https://localhost:8080/"
        },
        "outputId": "3fca5129-2c7b-47c4-cabe-c33f4879fc47"
      },
      "outputs": [
        {
          "output_type": "execute_result",
          "data": {
            "text/plain": [
              "14"
            ]
          },
          "metadata": {},
          "execution_count": 21
        }
      ],
      "source": [
        "# Check\n",
        "summer_69([2, 1, 6, 9, 11])"
      ]
    },
    {
      "cell_type": "markdown",
      "metadata": {
        "id": "xrs1sBjXCOSF"
      },
      "source": [
        "# CHALLENGING PROBLEMS"
      ]
    },
    {
      "cell_type": "markdown",
      "metadata": {
        "id": "pyM-P-_vCOSF"
      },
      "source": [
        "#### SPY GAME: Write a function that takes in a list of integers and returns True if it contains 007 in order\n",
        "\n",
        "     spy_game([1,2,4,0,0,7,5]) --> True\n",
        "     spy_game([1,0,2,4,0,5,7]) --> True\n",
        "     spy_game([1,7,2,0,4,5,0]) --> False\n"
      ]
    },
    {
      "cell_type": "code",
      "execution_count": null,
      "metadata": {
        "collapsed": true,
        "id": "sBPC6dXOCOSF"
      },
      "outputs": [],
      "source": [
        "def spy_game(nums):\n",
        "  index_0_1 = -1\n",
        "  index_0_2 = -1\n",
        "  index_7 = -1\n",
        "  # we need to ensure at least 2x0's and 1x7 are available\n",
        "  if nums.count(0) >= 2 and nums.count(7) >= 1:\n",
        "    index_0_1 = nums.index(0)\n",
        "    index_0_2 = nums.index(0,index_0_1+1)\n",
        "    index_7 = nums.index(7)\n",
        "\n",
        "    if index_0_1 < index_0_2 < index_7:\n",
        "      return True\n",
        "\n",
        "  return False"
      ]
    },
    {
      "cell_type": "code",
      "execution_count": null,
      "metadata": {
        "id": "EIDp6-zqCOSF",
        "colab": {
          "base_uri": "https://localhost:8080/"
        },
        "outputId": "5d1f464f-c564-4e31-ca20-3d1dcd1aebd8"
      },
      "outputs": [
        {
          "output_type": "execute_result",
          "data": {
            "text/plain": [
              "True"
            ]
          },
          "metadata": {},
          "execution_count": 104
        }
      ],
      "source": [
        "# Check\n",
        "spy_game([1,2,4,0,0,7,5])"
      ]
    },
    {
      "cell_type": "code",
      "execution_count": null,
      "metadata": {
        "id": "k_5UAMQGCOSF",
        "colab": {
          "base_uri": "https://localhost:8080/"
        },
        "outputId": "e56c86f0-821b-48a3-8af3-743922d5440a"
      },
      "outputs": [
        {
          "output_type": "execute_result",
          "data": {
            "text/plain": [
              "True"
            ]
          },
          "metadata": {},
          "execution_count": 105
        }
      ],
      "source": [
        "# Check\n",
        "spy_game([1,0,2,4,0,5,7])"
      ]
    },
    {
      "cell_type": "code",
      "execution_count": null,
      "metadata": {
        "id": "CRwRT4YoCOSG",
        "colab": {
          "base_uri": "https://localhost:8080/"
        },
        "outputId": "86b02040-d090-4921-e222-6ff1b4fcef18"
      },
      "outputs": [
        {
          "output_type": "execute_result",
          "data": {
            "text/plain": [
              "False"
            ]
          },
          "metadata": {},
          "execution_count": 106
        }
      ],
      "source": [
        "# Check\n",
        "spy_game([1,7,2,0,4,5,0])"
      ]
    },
    {
      "cell_type": "code",
      "source": [
        "# another way\n",
        "def spy_game(nums):\n",
        "\n",
        "  code = [0,0,7,'x']\n",
        "\n",
        "  for num in nums:\n",
        "    if num == code[0]:\n",
        "      code.pop(0)\n",
        "\n",
        "  return len(code) == 1"
      ],
      "metadata": {
        "id": "Bn9VOGhg6D4H"
      },
      "execution_count": 34,
      "outputs": []
    },
    {
      "cell_type": "code",
      "source": [
        "# Check\n",
        "spy_game([1,2,4,0,0,7,5])"
      ],
      "metadata": {
        "id": "ebUla7dR6ELR",
        "outputId": "c6f27247-0bb3-42f5-e110-18c8d0e482e4",
        "colab": {
          "base_uri": "https://localhost:8080/"
        }
      },
      "execution_count": 35,
      "outputs": [
        {
          "output_type": "execute_result",
          "data": {
            "text/plain": [
              "True"
            ]
          },
          "metadata": {},
          "execution_count": 35
        }
      ]
    },
    {
      "cell_type": "code",
      "source": [
        "# Check\n",
        "spy_game([1,0,2,4,0,5,7])"
      ],
      "metadata": {
        "id": "64rnxMNu6ES-",
        "outputId": "2f008284-d5e6-4ac0-b710-3052177e6c85",
        "colab": {
          "base_uri": "https://localhost:8080/"
        }
      },
      "execution_count": 36,
      "outputs": [
        {
          "output_type": "execute_result",
          "data": {
            "text/plain": [
              "True"
            ]
          },
          "metadata": {},
          "execution_count": 36
        }
      ]
    },
    {
      "cell_type": "code",
      "source": [
        "# Check\n",
        "spy_game([1,7,2,0,4,5,0])"
      ],
      "metadata": {
        "id": "HILmqDNA6EXa",
        "outputId": "04c440a5-0554-433e-8f0b-631f037f3cf6",
        "colab": {
          "base_uri": "https://localhost:8080/"
        }
      },
      "execution_count": 37,
      "outputs": [
        {
          "output_type": "execute_result",
          "data": {
            "text/plain": [
              "False"
            ]
          },
          "metadata": {},
          "execution_count": 37
        }
      ]
    },
    {
      "cell_type": "markdown",
      "metadata": {
        "id": "E7cHm5hICOSG"
      },
      "source": [
        "#### COUNT PRIMES: Write a function that returns the *number* of prime numbers that exist up to and including a given number\n",
        "    count_primes(100) --> 25\n",
        "\n",
        "By convention, 0 and 1 are not prime."
      ]
    },
    {
      "cell_type": "code",
      "execution_count": 38,
      "metadata": {
        "collapsed": true,
        "id": "oKOxhzugCOSG"
      },
      "outputs": [],
      "source": [
        "def count_primes(num):\n",
        "\n",
        "  prime_list = []\n",
        "\n",
        "  for dividend in range(2,num+1):\n",
        "    prime = 1\n",
        "\n",
        "    for divisor in range(2,10):\n",
        "      if dividend > divisor and dividend % divisor == 0:\n",
        "        prime = 0\n",
        "\n",
        "    if prime == 1:\n",
        "      prime_list.append(dividend)\n",
        "\n",
        "  return prime_list"
      ]
    },
    {
      "cell_type": "code",
      "execution_count": 39,
      "metadata": {
        "collapsed": true,
        "id": "neZpRqnjCOSG",
        "colab": {
          "base_uri": "https://localhost:8080/"
        },
        "outputId": "14f84611-e8b4-4db9-fbc6-5ba7dfe091d3"
      },
      "outputs": [
        {
          "output_type": "stream",
          "name": "stdout",
          "text": [
            "[2, 3, 5, 7, 11, 13, 17, 19, 23, 29, 31, 37, 41, 43, 47, 53, 59, 61, 67, 71, 73, 79, 83, 89, 97]\n",
            "25\n"
          ]
        }
      ],
      "source": [
        "# Check\n",
        "prime_list = count_primes(100)\n",
        "print(prime_list)\n",
        "print(len(prime_list))"
      ]
    },
    {
      "cell_type": "markdown",
      "metadata": {
        "id": "uk3GuZDQCOSG"
      },
      "source": [
        "### Just for fun:\n",
        "#### PRINT BIG: Write a function that takes in a single letter, and returns a 5x5 representation of that letter\n",
        "    print_big('a')\n",
        "    \n",
        "    out:   *  \n",
        "          * *\n",
        "         *****\n",
        "         *   *\n",
        "         *   *\n",
        "HINT: Consider making a dictionary of possible patterns, and mapping the alphabet to specific 5-line combinations of patterns. <br>For purposes of this exercise, it's ok if your dictionary stops at \"E\"."
      ]
    },
    {
      "cell_type": "code",
      "execution_count": 44,
      "metadata": {
        "collapsed": true,
        "id": "0jJ-sqa4COSG"
      },
      "outputs": [],
      "source": [
        "def print_big(letter):\n",
        "\n",
        "    patterns = {\n",
        "      1 : '  *  ',\n",
        "      2 : ' * * ',\n",
        "      3 : '*   *',\n",
        "      4 : '*****',\n",
        "      5 : '**** '\n",
        "    }\n",
        "\n",
        "    alphabet = {'A':[1,2,4,3,3],'B':[5,3,5,3,5]}\n",
        "\n",
        "    for pattern in alphabet[letter.upper()]:\n",
        "      # print(pattern)\n",
        "      print(patterns[pattern])"
      ]
    },
    {
      "cell_type": "code",
      "execution_count": 45,
      "metadata": {
        "collapsed": true,
        "id": "S1sH-FBlCOSG",
        "colab": {
          "base_uri": "https://localhost:8080/"
        },
        "outputId": "6dca528a-97be-4fa0-b7f7-644489f1706d"
      },
      "outputs": [
        {
          "output_type": "stream",
          "name": "stdout",
          "text": [
            "  *  \n",
            " * * \n",
            "*****\n",
            "*   *\n",
            "*   *\n"
          ]
        }
      ],
      "source": [
        "print_big('a')"
      ]
    },
    {
      "cell_type": "code",
      "source": [
        "print_big('b')"
      ],
      "metadata": {
        "id": "mPfxxzCWUKYY",
        "outputId": "d10d17d1-3fe4-4c78-e921-fea233bbd9f8",
        "colab": {
          "base_uri": "https://localhost:8080/"
        }
      },
      "execution_count": 46,
      "outputs": [
        {
          "output_type": "stream",
          "name": "stdout",
          "text": [
            "**** \n",
            "*   *\n",
            "**** \n",
            "*   *\n",
            "**** \n"
          ]
        }
      ]
    },
    {
      "cell_type": "markdown",
      "metadata": {
        "id": "AIShthTHCOSG"
      },
      "source": [
        "## Great Job!"
      ]
    }
  ],
  "metadata": {
    "kernelspec": {
      "display_name": "Python 3",
      "language": "python",
      "name": "python3"
    },
    "language_info": {
      "codemirror_mode": {
        "name": "ipython",
        "version": 3
      },
      "file_extension": ".py",
      "mimetype": "text/x-python",
      "name": "python",
      "nbconvert_exporter": "python",
      "pygments_lexer": "ipython3",
      "version": "3.6.6"
    },
    "colab": {
      "provenance": [],
      "include_colab_link": true
    }
  },
  "nbformat": 4,
  "nbformat_minor": 0
}