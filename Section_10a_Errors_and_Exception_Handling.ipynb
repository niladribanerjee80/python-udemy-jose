{
  "nbformat": 4,
  "nbformat_minor": 0,
  "metadata": {
    "colab": {
      "provenance": [],
      "authorship_tag": "ABX9TyMPRMt7X8K6v+nVySbIVog2",
      "include_colab_link": true
    },
    "kernelspec": {
      "name": "python3",
      "display_name": "Python 3"
    },
    "language_info": {
      "name": "python"
    }
  },
  "cells": [
    {
      "cell_type": "markdown",
      "metadata": {
        "id": "view-in-github",
        "colab_type": "text"
      },
      "source": [
        "<a href=\"https://colab.research.google.com/github/niladribanerjee80/python-udemy-jose/blob/main/Section_10a_Errors_and_Exception_Handling.ipynb\" target=\"_parent\"><img src=\"https://colab.research.google.com/assets/colab-badge.svg\" alt=\"Open In Colab\"/></a>"
      ]
    },
    {
      "cell_type": "markdown",
      "source": [
        "# Exceptions\n",
        "\n",
        "\n",
        "\n",
        "---\n",
        "\n",
        "try:\n",
        "\n",
        "* add statements for test\n",
        "\n",
        "except:\n",
        "\n",
        "* catch all exceptions or specific exceptions\n",
        "\n",
        "else:\n",
        "\n",
        "* do something if error does not happen\n",
        "\n",
        "finally:\n",
        "\n",
        "* run this code no matter what - success or error or break\n",
        "\n",
        "\n"
      ],
      "metadata": {
        "id": "s3kY4Ft5Ld2V"
      }
    },
    {
      "cell_type": "code",
      "execution_count": 5,
      "metadata": {
        "id": "QIyt74Kd3fKG"
      },
      "outputs": [],
      "source": [
        "def ask_for_int():\n",
        "    while True:\n",
        "        try:\n",
        "            result = int(input(\"try :: Please provide a number : \"))\n",
        "        except:\n",
        "            print(\"except :: Whoops!. That is not a number\")\n",
        "            continue\n",
        "        else:\n",
        "            print(\"else :: Yes thank you. that is a number\")\n",
        "            break\n",
        "        finally:\n",
        "            print(\"finally :: I will run no matter what\")"
      ]
    },
    {
      "cell_type": "code",
      "source": [
        "ask_for_int()"
      ],
      "metadata": {
        "colab": {
          "base_uri": "https://localhost:8080/"
        },
        "id": "PSOMLpqnMUMA",
        "outputId": "50d8024b-942c-4a43-dd7f-5611c6c8f202"
      },
      "execution_count": 6,
      "outputs": [
        {
          "output_type": "stream",
          "name": "stdout",
          "text": [
            "try :: Please provide a number : two\n",
            "except :: Whoops!. That is not a number\n",
            "finally :: I will run no matter what\n",
            "try :: Please provide a number : 20\n",
            "else :: Yes thank you. that is a number\n",
            "finally :: I will run no matter what\n"
          ]
        }
      ]
    },
    {
      "cell_type": "code",
      "source": [
        "# file open example\n",
        "try:\n",
        "    f = open(\"testfile\",'r') # opening in read mode\n",
        "    f.write(\"Write a test line\")\n",
        "except TypeError:\n",
        "    print(\"except TypeError :: This is Type Error\")\n",
        "except OSError:\n",
        "    print(\"except OSError :: This is OS Error, which includes permissions error\")\n",
        "else:\n",
        "    print(\"else :: File operation done successfully and hence closing the file\")\n",
        "    f.close()\n",
        "finally:\n",
        "    print(\"finally :: I will run no matter what\")"
      ],
      "metadata": {
        "colab": {
          "base_uri": "https://localhost:8080/"
        },
        "id": "GK5vzADnMWCo",
        "outputId": "b01fed3f-0ef9-4f44-bf55-69d377511fb7"
      },
      "execution_count": 7,
      "outputs": [
        {
          "output_type": "stream",
          "name": "stdout",
          "text": [
            "except OSError :: This is OS Error, which includes permissions error\n",
            "finally :: I will run no matter what\n"
          ]
        }
      ]
    },
    {
      "cell_type": "code",
      "source": [
        "# file open example\n",
        "try:\n",
        "    f = open(\"testfile\",'w') # opening in read mode\n",
        "    f.write(\"Write a test line\")\n",
        "except TypeError:\n",
        "    print(\"except TypeError :: This is Type Error\")\n",
        "except OSError:\n",
        "    print(\"except OSError :: This is OS Error, which includes permissions error\")\n",
        "else:\n",
        "    print(\"else :: File operation done successfully and hence closing the file\")\n",
        "    f.close()\n",
        "finally:\n",
        "    print(\"finally :: I will run no matter what\")"
      ],
      "metadata": {
        "colab": {
          "base_uri": "https://localhost:8080/"
        },
        "id": "2s8e6EIjNh_A",
        "outputId": "626fd483-df32-4694-c217-03953ac6d0fb"
      },
      "execution_count": 8,
      "outputs": [
        {
          "output_type": "stream",
          "name": "stdout",
          "text": [
            "else :: File operation done successfully and hence closing the file\n",
            "finally :: I will run no matter what\n"
          ]
        }
      ]
    },
    {
      "cell_type": "code",
      "source": [
        "pwd"
      ],
      "metadata": {
        "colab": {
          "base_uri": "https://localhost:8080/",
          "height": 35
        },
        "id": "xFp7VqOdNp2F",
        "outputId": "46a382c9-22f7-49a3-f4fb-0dd195cf2c3f"
      },
      "execution_count": 9,
      "outputs": [
        {
          "output_type": "execute_result",
          "data": {
            "text/plain": [
              "'/content'"
            ],
            "application/vnd.google.colaboratory.intrinsic+json": {
              "type": "string"
            }
          },
          "metadata": {},
          "execution_count": 9
        }
      ]
    },
    {
      "cell_type": "code",
      "source": [
        "# type error case\n",
        "# int + str"
      ],
      "metadata": {
        "id": "c5I2UeydNsZp"
      },
      "execution_count": 10,
      "outputs": []
    },
    {
      "cell_type": "code",
      "source": [],
      "metadata": {
        "id": "gwIuPy5LN-3S"
      },
      "execution_count": null,
      "outputs": []
    }
  ]
}