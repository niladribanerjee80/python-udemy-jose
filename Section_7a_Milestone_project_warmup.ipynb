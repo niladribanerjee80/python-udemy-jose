{
  "nbformat": 4,
  "nbformat_minor": 0,
  "metadata": {
    "colab": {
      "provenance": [],
      "authorship_tag": "ABX9TyMX985cvlQFBrnkwVkeynIv",
      "include_colab_link": true
    },
    "kernelspec": {
      "name": "python3",
      "display_name": "Python 3"
    },
    "language_info": {
      "name": "python"
    }
  },
  "cells": [
    {
      "cell_type": "markdown",
      "metadata": {
        "id": "view-in-github",
        "colab_type": "text"
      },
      "source": [
        "<a href=\"https://colab.research.google.com/github/niladribanerjee80/python-udemy-jose/blob/main/Section_7a_Milestone_project_warmup.ipynb\" target=\"_parent\"><img src=\"https://colab.research.google.com/assets/colab-badge.svg\" alt=\"Open In Colab\"/></a>"
      ]
    },
    {
      "cell_type": "markdown",
      "source": [
        "# Tic Tac Toe\n",
        "\n",
        "\n",
        "---\n",
        "\n",
        "* **Display Information**\n",
        "* **Accepting user input**\n",
        "* **Validating user input**"
      ],
      "metadata": {
        "id": "3QZHiKmEDq40"
      }
    },
    {
      "cell_type": "code",
      "execution_count": 1,
      "metadata": {
        "id": "oysGyQZsDhKE"
      },
      "outputs": [],
      "source": [
        "# display information\n",
        "\n",
        "def display(row1,row2,row3):\n",
        "  print(row1)\n",
        "  print(row2)\n",
        "  print(row3)"
      ]
    },
    {
      "cell_type": "code",
      "source": [
        "row1 = [' ',' ',' ']\n",
        "row2 = [' ',' ',' ']\n",
        "row3 = [' ',' ',' ']"
      ],
      "metadata": {
        "id": "7AAJtR6EEAVN"
      },
      "execution_count": 2,
      "outputs": []
    },
    {
      "cell_type": "code",
      "source": [
        "display(row1,row2,row3)"
      ],
      "metadata": {
        "colab": {
          "base_uri": "https://localhost:8080/"
        },
        "id": "_epurlsXEGSf",
        "outputId": "ff1c38b7-eaf8-4feb-80fc-f38ca73a9f2c"
      },
      "execution_count": 3,
      "outputs": [
        {
          "output_type": "stream",
          "name": "stdout",
          "text": [
            "[' ', ' ', ' ']\n",
            "[' ', ' ', ' ']\n",
            "[' ', ' ', ' ']\n"
          ]
        }
      ]
    },
    {
      "cell_type": "code",
      "source": [
        "# get access to a specific place\n",
        "row2[1] = 'X'"
      ],
      "metadata": {
        "id": "parw7geIEI1G"
      },
      "execution_count": 4,
      "outputs": []
    },
    {
      "cell_type": "code",
      "source": [
        "display(row1,row2,row3)"
      ],
      "metadata": {
        "colab": {
          "base_uri": "https://localhost:8080/"
        },
        "id": "m-NF0dmlEPFV",
        "outputId": "705236a2-b6b2-4de8-9b9b-baf5a00ad8e7"
      },
      "execution_count": 5,
      "outputs": [
        {
          "output_type": "stream",
          "name": "stdout",
          "text": [
            "[' ', ' ', ' ']\n",
            "[' ', 'X', ' ']\n",
            "[' ', ' ', ' ']\n"
          ]
        }
      ]
    },
    {
      "cell_type": "code",
      "source": [
        "# accepting and validating user input\n",
        "\n",
        "def user_choice():\n",
        "\n",
        "  #INITIAL VARIABLES\n",
        "  choice = 'WRONG'\n",
        "\n",
        "  # both : \"2 in list(acceptable_range)\" and \"2 in acceptable_range\" works\n",
        "  acceptable_range = range(0,10)\n",
        "\n",
        "  within_range = False\n",
        "\n",
        "  while choice.isdigit() == False or within_range == False:\n",
        "\n",
        "    choice = input(\"Enter a number between (0-10) : \").strip()\n",
        "\n",
        "    # DIGIT CHECK\n",
        "    if choice.isdigit() == False:\n",
        "      print(\"Sorry that is not a digit\")\n",
        "    else:\n",
        "      # RANGE CHECK\n",
        "      if int(choice) in acceptable_range:\n",
        "        within_range = True\n",
        "      else:\n",
        "        print(\"out of acceptable range of (0-10)\")\n",
        "\n",
        "  return int(choice)"
      ],
      "metadata": {
        "id": "sQOAr3jOEQoA"
      },
      "execution_count": 12,
      "outputs": []
    },
    {
      "cell_type": "code",
      "source": [
        "user_choice()"
      ],
      "metadata": {
        "colab": {
          "base_uri": "https://localhost:8080/"
        },
        "id": "iLP9a-3bESYM",
        "outputId": "b87d5368-86ea-4ce9-d4ef-2de97bec5f23"
      },
      "execution_count": 14,
      "outputs": [
        {
          "name": "stdout",
          "output_type": "stream",
          "text": [
            "Enter a number between (0-10) : three\n",
            "Sorry that is not a digit\n",
            "Enter a number between (0-10) : 120\n",
            "out of acceptable range of (0-10)\n",
            "Enter a number between (0-10) : 2\n"
          ]
        },
        {
          "output_type": "execute_result",
          "data": {
            "text/plain": [
              "2"
            ]
          },
          "metadata": {},
          "execution_count": 14
        }
      ]
    },
    {
      "cell_type": "code",
      "source": [],
      "metadata": {
        "id": "DDrFiu3oESbx"
      },
      "execution_count": null,
      "outputs": []
    },
    {
      "cell_type": "code",
      "source": [],
      "metadata": {
        "id": "eOZc62PLESfK"
      },
      "execution_count": null,
      "outputs": []
    },
    {
      "cell_type": "code",
      "source": [],
      "metadata": {
        "id": "Ci0Pw1kpESir"
      },
      "execution_count": null,
      "outputs": []
    },
    {
      "cell_type": "code",
      "source": [],
      "metadata": {
        "id": "hc5N8YbUESmC"
      },
      "execution_count": null,
      "outputs": []
    },
    {
      "cell_type": "code",
      "source": [],
      "metadata": {
        "id": "AXOfpbTQESpb"
      },
      "execution_count": null,
      "outputs": []
    }
  ]
}