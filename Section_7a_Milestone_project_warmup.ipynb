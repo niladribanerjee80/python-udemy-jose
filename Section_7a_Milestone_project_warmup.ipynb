{
  "nbformat": 4,
  "nbformat_minor": 0,
  "metadata": {
    "colab": {
      "provenance": [],
      "authorship_tag": "ABX9TyPK6R253Wou1ICgRXfIibkC",
      "include_colab_link": true
    },
    "kernelspec": {
      "name": "python3",
      "display_name": "Python 3"
    },
    "language_info": {
      "name": "python"
    }
  },
  "cells": [
    {
      "cell_type": "markdown",
      "metadata": {
        "id": "view-in-github",
        "colab_type": "text"
      },
      "source": [
        "<a href=\"https://colab.research.google.com/github/niladribanerjee80/python-udemy-jose/blob/main/Section_7a_Milestone_project_warmup.ipynb\" target=\"_parent\"><img src=\"https://colab.research.google.com/assets/colab-badge.svg\" alt=\"Open In Colab\"/></a>"
      ]
    },
    {
      "cell_type": "markdown",
      "source": [
        "# Tic Tac Toe\n",
        "\n",
        "\n",
        "---\n",
        "\n",
        "* **Display Information**\n",
        "* **Accepting user input**\n",
        "* **Validating user input**"
      ],
      "metadata": {
        "id": "3QZHiKmEDq40"
      }
    },
    {
      "cell_type": "markdown",
      "source": [
        "## display info, validate user input"
      ],
      "metadata": {
        "id": "DSjKsrScG26z"
      }
    },
    {
      "cell_type": "code",
      "execution_count": null,
      "metadata": {
        "id": "oysGyQZsDhKE"
      },
      "outputs": [],
      "source": [
        "# display information\n",
        "\n",
        "def display(row1,row2,row3):\n",
        "  print(row1)\n",
        "  print(row2)\n",
        "  print(row3)"
      ]
    },
    {
      "cell_type": "code",
      "source": [
        "row1 = [' ',' ',' ']\n",
        "row2 = [' ',' ',' ']\n",
        "row3 = [' ',' ',' ']"
      ],
      "metadata": {
        "id": "7AAJtR6EEAVN"
      },
      "execution_count": null,
      "outputs": []
    },
    {
      "cell_type": "code",
      "source": [
        "display(row1,row2,row3)"
      ],
      "metadata": {
        "colab": {
          "base_uri": "https://localhost:8080/"
        },
        "id": "_epurlsXEGSf",
        "outputId": "ff1c38b7-eaf8-4feb-80fc-f38ca73a9f2c"
      },
      "execution_count": null,
      "outputs": [
        {
          "output_type": "stream",
          "name": "stdout",
          "text": [
            "[' ', ' ', ' ']\n",
            "[' ', ' ', ' ']\n",
            "[' ', ' ', ' ']\n"
          ]
        }
      ]
    },
    {
      "cell_type": "code",
      "source": [
        "# get access to a specific place\n",
        "row2[1] = 'X'"
      ],
      "metadata": {
        "id": "parw7geIEI1G"
      },
      "execution_count": null,
      "outputs": []
    },
    {
      "cell_type": "code",
      "source": [
        "display(row1,row2,row3)"
      ],
      "metadata": {
        "colab": {
          "base_uri": "https://localhost:8080/"
        },
        "id": "m-NF0dmlEPFV",
        "outputId": "705236a2-b6b2-4de8-9b9b-baf5a00ad8e7"
      },
      "execution_count": null,
      "outputs": [
        {
          "output_type": "stream",
          "name": "stdout",
          "text": [
            "[' ', ' ', ' ']\n",
            "[' ', 'X', ' ']\n",
            "[' ', ' ', ' ']\n"
          ]
        }
      ]
    },
    {
      "cell_type": "code",
      "source": [
        "# accepting and validating user input\n",
        "\n",
        "def user_choice():\n",
        "\n",
        "  #INITIAL VARIABLES\n",
        "  choice = 'WRONG'\n",
        "\n",
        "  # both : \"2 in list(acceptable_range)\" and \"2 in acceptable_range\" works\n",
        "  acceptable_range = range(0,10)\n",
        "\n",
        "  within_range = False\n",
        "\n",
        "  while choice.isdigit() == False or within_range == False:\n",
        "\n",
        "    choice = input(\"Enter a number between (0-10) : \").strip()\n",
        "\n",
        "    # DIGIT CHECK\n",
        "    if choice.isdigit() == False:\n",
        "      print(\"Sorry that is not a digit\")\n",
        "    else:\n",
        "      # RANGE CHECK\n",
        "      if int(choice) in acceptable_range:\n",
        "        within_range = True\n",
        "      else:\n",
        "        print(\"out of acceptable range of (0-10)\")\n",
        "\n",
        "  return int(choice)"
      ],
      "metadata": {
        "id": "sQOAr3jOEQoA"
      },
      "execution_count": null,
      "outputs": []
    },
    {
      "cell_type": "code",
      "source": [
        "user_choice()"
      ],
      "metadata": {
        "colab": {
          "base_uri": "https://localhost:8080/"
        },
        "id": "iLP9a-3bESYM",
        "outputId": "b87d5368-86ea-4ce9-d4ef-2de97bec5f23"
      },
      "execution_count": null,
      "outputs": [
        {
          "name": "stdout",
          "output_type": "stream",
          "text": [
            "Enter a number between (0-10) : three\n",
            "Sorry that is not a digit\n",
            "Enter a number between (0-10) : 120\n",
            "out of acceptable range of (0-10)\n",
            "Enter a number between (0-10) : 2\n"
          ]
        },
        {
          "output_type": "execute_result",
          "data": {
            "text/plain": [
              "2"
            ]
          },
          "metadata": {},
          "execution_count": 14
        }
      ]
    },
    {
      "cell_type": "markdown",
      "source": [
        "## Simple user interaction"
      ],
      "metadata": {
        "id": "AgtK7JDYGyjj"
      }
    },
    {
      "cell_type": "code",
      "source": [
        "# STEPS\n",
        "\n",
        "# 1. DISPLAY THE GAME\n",
        "# 2. ASK USER FOR THE POSITION\n",
        "# 3. ASK USER ABOUT THE STRING WHAT THE USER WANTS TO UPDATE AND THEN UPDATE THE GAME\n",
        "# 4. ASK USER FOR CONTINUATION OF THE GAME"
      ],
      "metadata": {
        "id": "l_r5jqtWjU0w"
      },
      "execution_count": 18,
      "outputs": []
    },
    {
      "cell_type": "code",
      "source": [
        "game_list = [0,1,2]"
      ],
      "metadata": {
        "id": "DDrFiu3oESbx"
      },
      "execution_count": 15,
      "outputs": []
    },
    {
      "cell_type": "code",
      "source": [
        "# 1. DISPLAY THE GAME\n",
        "\n",
        "def display_game(game_list):\n",
        "  print(f\"Here is the current list: {game_list}\")\n",
        "  # print(game_list)"
      ],
      "metadata": {
        "id": "eOZc62PLESfK"
      },
      "execution_count": 16,
      "outputs": []
    },
    {
      "cell_type": "code",
      "source": [
        "display_game(game_list)"
      ],
      "metadata": {
        "id": "Ci0Pw1kpESir",
        "colab": {
          "base_uri": "https://localhost:8080/"
        },
        "outputId": "6e9eb4d2-579e-4511-ba3e-75cb27652e94"
      },
      "execution_count": 17,
      "outputs": [
        {
          "output_type": "stream",
          "name": "stdout",
          "text": [
            "Here is the current list: [0, 1, 2]\n"
          ]
        }
      ]
    },
    {
      "cell_type": "code",
      "source": [
        "# 2. ASK USER FOR THE POSITION\n",
        "\n",
        "def position_choice():\n",
        "\n",
        "  choice = 'wrong'\n",
        "\n",
        "  while choice not in ['0','1','2']:\n",
        "\n",
        "    choice = input(\"Pick a position (0,1,2): \").strip()\n",
        "\n",
        "    if choice not in ['0','1','2']:\n",
        "      print(\"Sorry, invalid choice. Choose between (0,1,2)\")\n",
        "\n",
        "  return (int(choice))"
      ],
      "metadata": {
        "id": "hc5N8YbUESmC"
      },
      "execution_count": 19,
      "outputs": []
    },
    {
      "cell_type": "code",
      "source": [
        "position_choice()"
      ],
      "metadata": {
        "colab": {
          "base_uri": "https://localhost:8080/"
        },
        "id": "Uee182-4WNG_",
        "outputId": "cfb6e742-b198-4119-8265-230f3f0a3c4b"
      },
      "execution_count": 6,
      "outputs": [
        {
          "name": "stdout",
          "output_type": "stream",
          "text": [
            "Pick a position (0,1,2): two\n",
            "Sorry, invalid choice\n",
            "Pick a position (0,1,2): 24\n",
            "Sorry, invalid choice\n",
            "Pick a position (0,1,2): 1\n"
          ]
        },
        {
          "output_type": "execute_result",
          "data": {
            "text/plain": [
              "1"
            ]
          },
          "metadata": {},
          "execution_count": 6
        }
      ]
    },
    {
      "cell_type": "code",
      "source": [
        "# 3. ASK USER ABOUT THE STRING WHAT THE USER WANTS TO UPDATE AND THEN UPDATE THE GAME\n",
        "\n",
        "def replacement_choice(game_list,position):\n",
        "\n",
        "  user_placement = input(\"Type a string to place at position: \")\n",
        "\n",
        "  game_list[position] = user_placement\n",
        "\n",
        "  return game_list"
      ],
      "metadata": {
        "id": "LoVeCrcDWNK3"
      },
      "execution_count": 7,
      "outputs": []
    },
    {
      "cell_type": "code",
      "source": [
        "replacement_choice(game_list,position=1)"
      ],
      "metadata": {
        "colab": {
          "base_uri": "https://localhost:8080/"
        },
        "id": "te6dk3cMWNOl",
        "outputId": "e2f37726-deb2-4ec9-de59-c7a38297f79d"
      },
      "execution_count": 8,
      "outputs": [
        {
          "name": "stdout",
          "output_type": "stream",
          "text": [
            "Type a string to place at position: test\n"
          ]
        },
        {
          "output_type": "execute_result",
          "data": {
            "text/plain": [
              "[0, 'test', 2]"
            ]
          },
          "metadata": {},
          "execution_count": 8
        }
      ]
    },
    {
      "cell_type": "code",
      "source": [
        "# 4. ASK USER FOR CONTINUATION OF THE GAME\n",
        "\n",
        "def gameon_choice():\n",
        "\n",
        "  choice = 'wrong'\n",
        "\n",
        "  while choice not in ['Y','N']:\n",
        "\n",
        "    choice = input(\"Keep Playing? (Y/N) : \").strip()\n",
        "\n",
        "    if choice not in ['Y','N']:\n",
        "      print(\"Sorry, invalid choice\")\n",
        "\n",
        "  if choice == 'Y':\n",
        "    return True\n",
        "  else:\n",
        "    return False"
      ],
      "metadata": {
        "id": "kgpMAR_oWNR9"
      },
      "execution_count": 9,
      "outputs": []
    },
    {
      "cell_type": "code",
      "source": [
        "gameon_choice()"
      ],
      "metadata": {
        "colab": {
          "base_uri": "https://localhost:8080/"
        },
        "id": "kQr5AtX6WNVd",
        "outputId": "c9cbe203-8d53-4ce4-9d1a-37319703384b"
      },
      "execution_count": 10,
      "outputs": [
        {
          "name": "stdout",
          "output_type": "stream",
          "text": [
            "Keep Playing? (Y/N) : shsh\n",
            "Sorry, invalid choice\n",
            "Keep Playing? (Y/N) : Y\n"
          ]
        },
        {
          "output_type": "execute_result",
          "data": {
            "text/plain": [
              "True"
            ]
          },
          "metadata": {},
          "execution_count": 10
        }
      ]
    },
    {
      "cell_type": "code",
      "source": [
        "# --------------------------------------\n",
        "# MAIN FUNCTION = SYNTHESIZE EVERYTHING\n",
        "# --------------------------------------\n",
        "# 1. DISPLAY THE GAME\n",
        "# 2. ASK USER FOR THE POSITION\n",
        "# 3. ASK USER ABOUT THE STRING WHAT THE USER WANTS TO UPDATE AND THEN UPDATE THE GAME\n",
        "# 4. ASK USER FOR CONTINUATION OF THE GAME\n",
        "\n",
        "game_on = True\n",
        "game_list = [0,1,2]\n",
        "\n",
        "while game_on:\n",
        "\n",
        "  # 1. DISPLAY THE GAME\n",
        "  display_game(game_list)\n",
        "\n",
        "  # 2. ASK USER FOR THE POSITION\n",
        "  position = position_choice()\n",
        "\n",
        "  # 3. ASK USER ABOUT THE STRING WHAT THE USER WANTS TO UPDATE AND THEN UPDATE THE GAME\n",
        "  game_list = replacement_choice(game_list,position)\n",
        "\n",
        "  # DISPLAY THE REVISED GAME\n",
        "  display_game(game_list)\n",
        "\n",
        "  # 4. ASK USER FOR CONTINUATION OF THE GAME\n",
        "  game_on = gameon_choice()"
      ],
      "metadata": {
        "colab": {
          "base_uri": "https://localhost:8080/"
        },
        "id": "ZdcyRApmWNY1",
        "outputId": "4d38cbec-c682-4279-c282-ec935661b2a7"
      },
      "execution_count": 21,
      "outputs": [
        {
          "name": "stdout",
          "output_type": "stream",
          "text": [
            "Here is the current list: [0, 1, 2]\n",
            "Pick a position (0,1,2): 1\n",
            "Type a string to place at position: Niladri\n",
            "Here is the current list: [0, 'Niladri', 2]\n",
            "Keep Playing? (Y/N) : Y\n",
            "Here is the current list: [0, 'Niladri', 2]\n",
            "Pick a position (0,1,2): 2\n",
            "Type a string to place at position: Shiva\n",
            "Here is the current list: [0, 'Niladri', 'Shiva']\n",
            "Keep Playing? (Y/N) : Y\n",
            "Here is the current list: [0, 'Niladri', 'Shiva']\n",
            "Pick a position (0,1,2): 0\n",
            "Type a string to place at position: Hari\n",
            "Here is the current list: ['Hari', 'Niladri', 'Shiva']\n",
            "Keep Playing? (Y/N) : N\n"
          ]
        }
      ]
    },
    {
      "cell_type": "code",
      "source": [],
      "metadata": {
        "id": "AXOfpbTQESpb"
      },
      "execution_count": null,
      "outputs": []
    }
  ]
}