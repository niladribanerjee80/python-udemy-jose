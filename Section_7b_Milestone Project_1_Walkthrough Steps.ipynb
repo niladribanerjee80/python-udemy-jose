{
  "cells": [
    {
      "cell_type": "markdown",
      "metadata": {
        "id": "view-in-github",
        "colab_type": "text"
      },
      "source": [
        "<a href=\"https://colab.research.google.com/github/niladribanerjee80/python-udemy-jose/blob/main/Section_7b_Milestone%20Project_1_Walkthrough%20Steps.ipynb\" target=\"_parent\"><img src=\"https://colab.research.google.com/assets/colab-badge.svg\" alt=\"Open In Colab\"/></a>"
      ]
    },
    {
      "cell_type": "markdown",
      "metadata": {
        "id": "iM3GHk2ckzIM"
      },
      "source": [
        "___\n",
        "\n",
        "<a href='https://www.udemy.com/user/joseportilla/'><img src='https://github.com/niladribanerjee80/python-udemy-jose/blob/Pierian_Data_Logo.png?raw=1'/></a>\n",
        "___\n",
        "<center><em>Content Copyright by Pierian Data</em></center>"
      ]
    },
    {
      "cell_type": "markdown",
      "metadata": {
        "id": "RfP-VRDikzIO"
      },
      "source": [
        "# Milestone Project 1: Walkthrough Steps Workbook\n",
        "\n",
        "Below is a set of steps for you to follow to try to create the Tic Tac Toe Milestone Project game!"
      ]
    },
    {
      "cell_type": "markdown",
      "metadata": {
        "id": "oJ-ugygjkzIP"
      },
      "source": [
        "#### Some suggested tools before you get started:\n",
        "To take input from a user:\n",
        "\n",
        "    player1 = input(\"Please pick a marker 'X' or 'O'\")\n",
        "    \n",
        "Note that input() takes in a string. If you need an integer value, use\n",
        "\n",
        "    position = int(input('Please enter a number'))\n",
        "    \n",
        "<br>To clear the screen between moves:\n",
        "\n",
        "    from IPython.display import clear_output\n",
        "    clear_output()\n",
        "    \n",
        "Note that clear_output() will only work in jupyter. To clear the screen in other IDEs, consider:\n",
        "\n",
        "    print('\\n'*100)\n",
        "    \n",
        "This scrolls the previous board up out of view. Now on to the program!"
      ]
    },
    {
      "cell_type": "markdown",
      "metadata": {
        "id": "aMMK1UNpkzIP"
      },
      "source": [
        "**Step 1: Write a function that can print out a board. Set up your board as a list, where each index 1-9 corresponds with a number on a number pad, so you get a 3 by 3 board representation.**"
      ]
    },
    {
      "cell_type": "code",
      "execution_count": 7,
      "metadata": {
        "collapsed": true,
        "id": "9zC90guUkzIQ"
      },
      "outputs": [],
      "source": [
        "from IPython.display import clear_output\n",
        "\n",
        "def display_board(board):\n",
        "  clear_output()\n",
        "\n",
        "  for i in range(1,10):\n",
        "    if board[i] == ' ':\n",
        "      board[i] = str(i)\n",
        "\n",
        "  print(board[1]+\"|\"+board[2]+\"|\"+board[3])\n",
        "  print(\"-----\")\n",
        "  print(board[4]+\"|\"+board[5]+\"|\"+board[6])\n",
        "  print(\"-----\")\n",
        "  print(board[7]+\"|\"+board[8]+\"|\"+board[9])"
      ]
    },
    {
      "cell_type": "markdown",
      "metadata": {
        "id": "MP6vO0mNkzIQ"
      },
      "source": [
        "**TEST Step 1:** run your function on a test version of the board list, and make adjustments as necessary"
      ]
    },
    {
      "cell_type": "code",
      "execution_count": 8,
      "metadata": {
        "colab": {
          "base_uri": "https://localhost:8080/"
        },
        "id": "y9QVw01ckzIQ",
        "outputId": "62261135-36f6-49b9-9a1f-b1ad4fee2a3f"
      },
      "outputs": [
        {
          "output_type": "stream",
          "name": "stdout",
          "text": [
            "1|2|3\n",
            "-----\n",
            "4|5|6\n",
            "-----\n",
            "7|8|9\n"
          ]
        }
      ],
      "source": [
        "test_board = [' ']*10\n",
        "display_board(test_board)"
      ]
    },
    {
      "cell_type": "markdown",
      "metadata": {
        "id": "F93jMuMjkzIR"
      },
      "source": [
        "**Step 2: Write a function that can take in a player input and assign their marker as 'X' or 'O'. Think about using *while* loops to continually ask until you get a correct answer.**"
      ]
    },
    {
      "cell_type": "code",
      "execution_count": 10,
      "metadata": {
        "collapsed": true,
        "id": "TTvsmqTekzIR"
      },
      "outputs": [],
      "source": [
        "def player_input():\n",
        "  choice = 'wrong'\n",
        "\n",
        "  while choice not in ['X','O']:\n",
        "    choice = input(f\"Player 1 : what is your sign? (X/O) : \").strip()\n",
        "\n",
        "  player1 = choice\n",
        "\n",
        "  if player1 == \"X\":\n",
        "    player2 = \"O\"\n",
        "  else:\n",
        "    player2 = \"X\"\n",
        "\n",
        "  return (player1,player2)"
      ]
    },
    {
      "cell_type": "markdown",
      "metadata": {
        "id": "QIDnLDVBkzIR"
      },
      "source": [
        "**TEST Step 2:** run the function to make sure it returns the desired output"
      ]
    },
    {
      "cell_type": "code",
      "execution_count": null,
      "metadata": {
        "colab": {
          "base_uri": "https://localhost:8080/"
        },
        "id": "Bc6_Y9L5kzIR",
        "outputId": "277fcf55-2411-4adf-dec8-c3f614c17e48"
      },
      "outputs": [
        {
          "name": "stdout",
          "output_type": "stream",
          "text": [
            "Player 1 : what is your sign? (X/O) : two\n",
            "Player 1 : what is your sign? (X/O) : X\n"
          ]
        },
        {
          "output_type": "execute_result",
          "data": {
            "text/plain": [
              "('X', 'O')"
            ]
          },
          "metadata": {},
          "execution_count": 4
        }
      ],
      "source": [
        "player_input()"
      ]
    },
    {
      "cell_type": "markdown",
      "metadata": {
        "id": "20JmUblrkzIR"
      },
      "source": [
        "**Step 3: Write a function that takes in the board list object, a marker ('X' or 'O'), and a desired position (number 1-9) and assigns it to the board.**"
      ]
    },
    {
      "cell_type": "code",
      "execution_count": null,
      "metadata": {
        "collapsed": true,
        "id": "B35A1l4QkzIR"
      },
      "outputs": [],
      "source": [
        "def place_marker(board, marker, position):\n",
        "  board[position] = marker\n",
        "  return board"
      ]
    },
    {
      "cell_type": "markdown",
      "metadata": {
        "id": "wpkTyyn0kzIR"
      },
      "source": [
        "**TEST Step 3:** run the place marker function using test parameters and display the modified board"
      ]
    },
    {
      "cell_type": "code",
      "execution_count": null,
      "metadata": {
        "colab": {
          "base_uri": "https://localhost:8080/"
        },
        "id": "SabJvXGKkzIR",
        "outputId": "18d9cbaf-be0e-4a7a-d445-e9ad2f0cc057"
      },
      "outputs": [
        {
          "output_type": "stream",
          "name": "stdout",
          "text": [
            "X|X|X\n",
            "-----\n",
            "4|5|6\n",
            "-----\n",
            "7|$|9\n"
          ]
        }
      ],
      "source": [
        "# place_marker(test_board,'X',1)\n",
        "# place_marker(test_board,'X',2)\n",
        "# place_marker(test_board,'X',3)\n",
        "display_board(test_board)"
      ]
    },
    {
      "cell_type": "markdown",
      "metadata": {
        "id": "7QZStIGskzIR"
      },
      "source": [
        "**Step 4: Write a function that takes in a board and a mark (X or O) and then checks to see if that mark has won. **"
      ]
    },
    {
      "cell_type": "code",
      "execution_count": null,
      "metadata": {
        "collapsed": true,
        "id": "m1LqstLCkzIS"
      },
      "outputs": [],
      "source": [
        "def win_check(board, mark):\n",
        "  return (board[1] == board [2] == board[3] == mark) or (board[4] == board[5] == board[6] == mark) or (board[7] == board [8] == board[9] == mark) or (board[1] == board [5] == board[9] == mark) or (board[3] == board [5] == board[7] == mark)"
      ]
    },
    {
      "cell_type": "markdown",
      "metadata": {
        "id": "Bpee0HMTkzIS"
      },
      "source": [
        "**TEST Step 4:** run the win_check function against our test_board - it should return True"
      ]
    },
    {
      "cell_type": "code",
      "execution_count": null,
      "metadata": {
        "colab": {
          "base_uri": "https://localhost:8080/"
        },
        "id": "kGjhYBbykzIS",
        "outputId": "2e16f2e5-85fd-411e-b251-fd4479ba48ce"
      },
      "outputs": [
        {
          "output_type": "execute_result",
          "data": {
            "text/plain": [
              "True"
            ]
          },
          "metadata": {},
          "execution_count": 22
        }
      ],
      "source": [
        "win_check(test_board,'X')"
      ]
    },
    {
      "cell_type": "markdown",
      "metadata": {
        "id": "vCPfu3YkkzIS"
      },
      "source": [
        "**Step 5: Write a function that uses the random module to randomly decide which player goes first. You may want to lookup random.randint() Return a string of which player went first.**"
      ]
    },
    {
      "cell_type": "code",
      "execution_count": null,
      "metadata": {
        "collapsed": true,
        "id": "a3JJoX0ZkzIS"
      },
      "outputs": [],
      "source": [
        "import random\n",
        "\n",
        "def choose_first():\n",
        "  return random.randint(1,2)"
      ]
    },
    {
      "cell_type": "markdown",
      "metadata": {
        "id": "EqyOE8W5kzIS"
      },
      "source": [
        "**Step 6: Write a function that returns a boolean indicating whether a space on the board is freely available.**"
      ]
    },
    {
      "cell_type": "code",
      "execution_count": null,
      "metadata": {
        "collapsed": true,
        "id": "rhPJqqV8kzIT"
      },
      "outputs": [],
      "source": [
        "def space_check(board, position):\n",
        "  return board[position] not in ['X','O']"
      ]
    },
    {
      "cell_type": "markdown",
      "metadata": {
        "id": "tNLp0RW9kzIT"
      },
      "source": [
        "**Step 7: Write a function that checks if the board is full and returns a boolean value. True if full, False otherwise.**"
      ]
    },
    {
      "cell_type": "code",
      "execution_count": null,
      "metadata": {
        "collapsed": true,
        "id": "qCb7tqn8kzIT"
      },
      "outputs": [],
      "source": [
        "def full_board_check(board):\n",
        "  for i in range(1,10):\n",
        "    if board[i] not in ['X','O']:\n",
        "      return False\n",
        "  return True"
      ]
    },
    {
      "cell_type": "markdown",
      "metadata": {
        "id": "8lT0hkb-kzIT"
      },
      "source": [
        "**Step 8: Write a function that asks for a player's next position (as a number 1-9) and then uses the function from step 6 to check if it's a free position. If it is, then return the position for later use.**"
      ]
    },
    {
      "cell_type": "code",
      "execution_count": 1,
      "metadata": {
        "collapsed": true,
        "id": "M5ti1y1skzIT"
      },
      "outputs": [],
      "source": [
        "def player_choice(board):\n",
        "\n",
        "  if full_board_check(board):\n",
        "    choice = 'wrong'\n",
        "    available_spaces = []\n",
        "\n",
        "    # get all available spaces for user choice\n",
        "    for x in range(1,len(board)+1):\n",
        "      if board[x] not in [\"X\",\"O\"]:\n",
        "        available_spaces.append(str(x))\n",
        "\n",
        "    while choice not in available_spaces:\n",
        "      # ask user to choose between the available spaces\n",
        "      choice = input(\"Enter a number that is displayed on screen that is available for use : \").strip()\n",
        "\n",
        "      if choice in available_spaces:\n",
        "        return choice\n",
        "      else:\n",
        "        print('Sorry this is not a available space. Try again!')"
      ]
    },
    {
      "cell_type": "markdown",
      "metadata": {
        "id": "wFPmrcRLkzIT"
      },
      "source": [
        "**Step 9: Write a function that asks the player if they want to play again and returns a boolean True if they do want to play again.**"
      ]
    },
    {
      "cell_type": "code",
      "execution_count": 2,
      "metadata": {
        "collapsed": true,
        "id": "VXmOZTPkkzIT"
      },
      "outputs": [],
      "source": [
        "def replay():\n",
        "  choice = 'wrong'\n",
        "\n",
        "  while choice not in ['Y','N']:\n",
        "    choice = input(\"Do you want to play the game again (Y/N): \").strip()\n",
        "\n",
        "    if choice == \"N\":\n",
        "      return False\n",
        "    else:\n",
        "      return True"
      ]
    },
    {
      "cell_type": "markdown",
      "metadata": {
        "collapsed": true,
        "id": "ackeBGyYkzIT"
      },
      "source": [
        "**Step 10: Here comes the hard part! Use while loops and the functions you've made to run the game!**"
      ]
    },
    {
      "cell_type": "code",
      "execution_count": 11,
      "metadata": {
        "collapsed": true,
        "id": "lOFm3ljskzIT",
        "colab": {
          "base_uri": "https://localhost:8080/",
          "height": 419
        },
        "outputId": "2bf2a3c4-7d75-4a77-c04f-f28ad24235c2"
      },
      "outputs": [
        {
          "output_type": "stream",
          "name": "stdout",
          "text": [
            "1|2|3\n",
            "-----\n",
            "4|5|6\n",
            "-----\n",
            "7|8|9\n"
          ]
        },
        {
          "output_type": "error",
          "ename": "NameError",
          "evalue": "name 'full_board_check' is not defined",
          "traceback": [
            "\u001b[0;31m---------------------------------------------------------------------------\u001b[0m",
            "\u001b[0;31mNameError\u001b[0m                                 Traceback (most recent call last)",
            "\u001b[0;32m<ipython-input-11-c980af4018c6>\u001b[0m in \u001b[0;36m<cell line: 6>\u001b[0;34m()\u001b[0m\n\u001b[1;32m     23\u001b[0m \u001b[0;34m\u001b[0m\u001b[0m\n\u001b[1;32m     24\u001b[0m     \u001b[0;31m# let player 1 choose the position\u001b[0m\u001b[0;34m\u001b[0m\u001b[0;34m\u001b[0m\u001b[0m\n\u001b[0;32m---> 25\u001b[0;31m     \u001b[0mplayer1_position\u001b[0m \u001b[0;34m=\u001b[0m \u001b[0mplayer_choice\u001b[0m\u001b[0;34m(\u001b[0m\u001b[0mtest_board\u001b[0m\u001b[0;34m)\u001b[0m\u001b[0;34m\u001b[0m\u001b[0;34m\u001b[0m\u001b[0m\n\u001b[0m\u001b[1;32m     26\u001b[0m \u001b[0;34m\u001b[0m\u001b[0m\n\u001b[1;32m     27\u001b[0m     \u001b[0;31m# we place the marker for player 1 in the board\u001b[0m\u001b[0;34m\u001b[0m\u001b[0;34m\u001b[0m\u001b[0m\n",
            "\u001b[0;32m<ipython-input-1-24e4a882a7e2>\u001b[0m in \u001b[0;36mplayer_choice\u001b[0;34m(board)\u001b[0m\n\u001b[1;32m      1\u001b[0m \u001b[0;32mdef\u001b[0m \u001b[0mplayer_choice\u001b[0m\u001b[0;34m(\u001b[0m\u001b[0mboard\u001b[0m\u001b[0;34m)\u001b[0m\u001b[0;34m:\u001b[0m\u001b[0;34m\u001b[0m\u001b[0;34m\u001b[0m\u001b[0m\n\u001b[1;32m      2\u001b[0m \u001b[0;34m\u001b[0m\u001b[0m\n\u001b[0;32m----> 3\u001b[0;31m   \u001b[0;32mif\u001b[0m \u001b[0mfull_board_check\u001b[0m\u001b[0;34m(\u001b[0m\u001b[0mboard\u001b[0m\u001b[0;34m)\u001b[0m\u001b[0;34m:\u001b[0m\u001b[0;34m\u001b[0m\u001b[0;34m\u001b[0m\u001b[0m\n\u001b[0m\u001b[1;32m      4\u001b[0m     \u001b[0mchoice\u001b[0m \u001b[0;34m=\u001b[0m \u001b[0;34m'wrong'\u001b[0m\u001b[0;34m\u001b[0m\u001b[0;34m\u001b[0m\u001b[0m\n\u001b[1;32m      5\u001b[0m     \u001b[0mavailable_spaces\u001b[0m \u001b[0;34m=\u001b[0m \u001b[0;34m[\u001b[0m\u001b[0;34m]\u001b[0m\u001b[0;34m\u001b[0m\u001b[0;34m\u001b[0m\u001b[0m\n",
            "\u001b[0;31mNameError\u001b[0m: name 'full_board_check' is not defined"
          ]
        }
      ],
      "source": [
        "from IPython.display import clear_output\n",
        "import random\n",
        "\n",
        "print('Welcome to Tic Tac Toe!')\n",
        "\n",
        "while True:\n",
        "  # Initialize Board\n",
        "  test_board = [' ']*10\n",
        "  game_on = True\n",
        "\n",
        "  # set the markers for player 1 and player 2\n",
        "  player1_marker, player2_marker = player_input()\n",
        "\n",
        "  while game_on:\n",
        "    #############\n",
        "    # display the board\n",
        "    #############\n",
        "    display_board(test_board)\n",
        "\n",
        "    #############\n",
        "    # PLAYER 1\n",
        "    #############\n",
        "\n",
        "    # let player 1 choose the position\n",
        "    player1_position = player_choice(test_board)\n",
        "\n",
        "    # we place the marker for player 1 in the board\n",
        "    test_board = place_marker(test_board, player1_marker, player1_position)\n",
        "\n",
        "    # display the board\n",
        "    display_board(test_board)\n",
        "\n",
        "    # check if player 1 won or not\n",
        "    if win_check(test_board,player1_marker):\n",
        "      print('Player 1 has won')\n",
        "      if not replay():\n",
        "        game_on = False\n",
        "\n",
        "    # game has to be stopped if the board is full as well\n",
        "    if full_board_check(test_board):\n",
        "      if not replay():\n",
        "        game_on = False\n",
        "\n",
        "\n",
        "    #############\n",
        "    # PLAYER 2\n",
        "    #############\n",
        "\n",
        "    # let player 2 choose the position\n",
        "    player2_position = player_choice(test_board)\n",
        "\n",
        "    # we place the marker for player 1 in the board\n",
        "    test_board = place_marker(test_board, player2_marker, player2_position)\n",
        "\n",
        "    # display the board\n",
        "    display_board(test_board)\n",
        "\n",
        "    # check if player 1 won or not\n",
        "    if win_check(test_board,player2_marker):\n",
        "      print('Player 2 has won')\n",
        "      if not replay():\n",
        "        game_on = False\n",
        "\n",
        "    # game has to be stopped if the board is full as well\n",
        "    if full_board_check(test_board):\n",
        "      if not replay():\n",
        "        game_on = False\n",
        "\n",
        "  if game_on == False:\n",
        "    break"
      ]
    },
    {
      "cell_type": "markdown",
      "metadata": {
        "collapsed": true,
        "id": "WvLG7G_qkzIT"
      },
      "source": [
        "## Good Job!"
      ]
    }
  ],
  "metadata": {
    "kernelspec": {
      "display_name": "Python 3",
      "language": "python",
      "name": "python3"
    },
    "language_info": {
      "codemirror_mode": {
        "name": "ipython",
        "version": 3
      },
      "file_extension": ".py",
      "mimetype": "text/x-python",
      "name": "python",
      "nbconvert_exporter": "python",
      "pygments_lexer": "ipython3",
      "version": "3.6.6"
    },
    "colab": {
      "provenance": [],
      "include_colab_link": true
    }
  },
  "nbformat": 4,
  "nbformat_minor": 0
}