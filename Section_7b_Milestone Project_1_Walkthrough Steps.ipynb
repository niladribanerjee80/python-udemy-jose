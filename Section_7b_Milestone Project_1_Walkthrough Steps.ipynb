{
  "cells": [
    {
      "cell_type": "markdown",
      "metadata": {
        "id": "view-in-github",
        "colab_type": "text"
      },
      "source": [
        "<a href=\"https://colab.research.google.com/github/niladribanerjee80/python-udemy-jose/blob/main/Section_7b_Milestone%20Project_1_Walkthrough%20Steps.ipynb\" target=\"_parent\"><img src=\"https://colab.research.google.com/assets/colab-badge.svg\" alt=\"Open In Colab\"/></a>"
      ]
    },
    {
      "cell_type": "markdown",
      "metadata": {
        "id": "iM3GHk2ckzIM"
      },
      "source": [
        "___\n",
        "\n",
        "<a href='https://www.udemy.com/user/joseportilla/'><img src='https://github.com/niladribanerjee80/python-udemy-jose/blob/Pierian_Data_Logo.png?raw=1'/></a>\n",
        "___\n",
        "<center><em>Content Copyright by Pierian Data</em></center>"
      ]
    },
    {
      "cell_type": "markdown",
      "metadata": {
        "id": "RfP-VRDikzIO"
      },
      "source": [
        "# Milestone Project 1: Walkthrough Steps Workbook\n",
        "\n",
        "Below is a set of steps for you to follow to try to create the Tic Tac Toe Milestone Project game!"
      ]
    },
    {
      "cell_type": "markdown",
      "metadata": {
        "id": "oJ-ugygjkzIP"
      },
      "source": [
        "#### Some suggested tools before you get started:\n",
        "To take input from a user:\n",
        "\n",
        "    player1 = input(\"Please pick a marker 'X' or 'O'\")\n",
        "    \n",
        "Note that input() takes in a string. If you need an integer value, use\n",
        "\n",
        "    position = int(input('Please enter a number'))\n",
        "    \n",
        "<br>To clear the screen between moves:\n",
        "\n",
        "    from IPython.display import clear_output\n",
        "    clear_output()\n",
        "    \n",
        "Note that clear_output() will only work in jupyter. To clear the screen in other IDEs, consider:\n",
        "\n",
        "    print('\\n'*100)\n",
        "    \n",
        "This scrolls the previous board up out of view. Now on to the program!"
      ]
    },
    {
      "cell_type": "markdown",
      "metadata": {
        "id": "aMMK1UNpkzIP"
      },
      "source": [
        "**Step 1: Write a function that can print out a board. Set up your board as a list, where each index 1-9 corresponds with a number on a number pad, so you get a 3 by 3 board representation.**"
      ]
    },
    {
      "cell_type": "code",
      "execution_count": 14,
      "metadata": {
        "collapsed": true,
        "id": "9zC90guUkzIQ"
      },
      "outputs": [],
      "source": [
        "from IPython.display import clear_output\n",
        "\n",
        "def display_board(board):\n",
        "  clear_output()\n",
        "\n",
        "  for i in range(1,10):\n",
        "    if board[i] == ' ':\n",
        "      board[i] = str(i)\n",
        "\n",
        "  print(board[1]+\"|\"+board[2]+\"|\"+board[3])\n",
        "  print(\"-----\")\n",
        "  print(board[4]+\"|\"+board[5]+\"|\"+board[6])\n",
        "  print(\"-----\")\n",
        "  print(board[7]+\"|\"+board[8]+\"|\"+board[9])"
      ]
    },
    {
      "cell_type": "markdown",
      "metadata": {
        "id": "MP6vO0mNkzIQ"
      },
      "source": [
        "**TEST Step 1:** run your function on a test version of the board list, and make adjustments as necessary"
      ]
    },
    {
      "cell_type": "code",
      "execution_count": 23,
      "metadata": {
        "collapsed": true,
        "colab": {
          "base_uri": "https://localhost:8080/"
        },
        "id": "y9QVw01ckzIQ",
        "outputId": "f9f41331-db4f-41e5-991f-746255a6b1c9"
      },
      "outputs": [
        {
          "output_type": "stream",
          "name": "stdout",
          "text": [
            "1|2|3\n",
            "-----\n",
            "4|5|6\n",
            "-----\n",
            "7|8|9\n"
          ]
        }
      ],
      "source": [
        "test_board = [' ']*10\n",
        "display_board(test_board)"
      ]
    },
    {
      "cell_type": "markdown",
      "metadata": {
        "id": "F93jMuMjkzIR"
      },
      "source": [
        "**Step 2: Write a function that can take in a player input and assign their marker as 'X' or 'O'. Think about using *while* loops to continually ask until you get a correct answer.**"
      ]
    },
    {
      "cell_type": "code",
      "execution_count": 3,
      "metadata": {
        "collapsed": true,
        "id": "TTvsmqTekzIR"
      },
      "outputs": [],
      "source": [
        "def player_input():\n",
        "  choice = 'wrong'\n",
        "\n",
        "  while choice not in ['X','O']:\n",
        "    choice = input(\"Player 1 : what is your sign? (X/O) : \").strip()\n",
        "\n",
        "  player1 = choice\n",
        "\n",
        "  if player1 == \"X\":\n",
        "    player2 = \"O\"\n",
        "  else:\n",
        "    player2 = \"X\"\n",
        "\n",
        "  return (player1,player2)"
      ]
    },
    {
      "cell_type": "markdown",
      "metadata": {
        "id": "QIDnLDVBkzIR"
      },
      "source": [
        "**TEST Step 2:** run the function to make sure it returns the desired output"
      ]
    },
    {
      "cell_type": "code",
      "execution_count": 4,
      "metadata": {
        "collapsed": true,
        "colab": {
          "base_uri": "https://localhost:8080/"
        },
        "id": "Bc6_Y9L5kzIR",
        "outputId": "277fcf55-2411-4adf-dec8-c3f614c17e48"
      },
      "outputs": [
        {
          "name": "stdout",
          "output_type": "stream",
          "text": [
            "Player 1 : what is your sign? (X/O) : two\n",
            "Player 1 : what is your sign? (X/O) : X\n"
          ]
        },
        {
          "output_type": "execute_result",
          "data": {
            "text/plain": [
              "('X', 'O')"
            ]
          },
          "metadata": {},
          "execution_count": 4
        }
      ],
      "source": [
        "player_input()"
      ]
    },
    {
      "cell_type": "markdown",
      "metadata": {
        "id": "20JmUblrkzIR"
      },
      "source": [
        "**Step 3: Write a function that takes in the board list object, a marker ('X' or 'O'), and a desired position (number 1-9) and assigns it to the board.**"
      ]
    },
    {
      "cell_type": "code",
      "execution_count": 16,
      "metadata": {
        "collapsed": true,
        "id": "B35A1l4QkzIR"
      },
      "outputs": [],
      "source": [
        "def place_marker(board, marker, position):\n",
        "  board[position] = marker\n",
        "  return board"
      ]
    },
    {
      "cell_type": "markdown",
      "metadata": {
        "id": "wpkTyyn0kzIR"
      },
      "source": [
        "**TEST Step 3:** run the place marker function using test parameters and display the modified board"
      ]
    },
    {
      "cell_type": "code",
      "execution_count": 21,
      "metadata": {
        "collapsed": true,
        "colab": {
          "base_uri": "https://localhost:8080/"
        },
        "id": "SabJvXGKkzIR",
        "outputId": "18d9cbaf-be0e-4a7a-d445-e9ad2f0cc057"
      },
      "outputs": [
        {
          "output_type": "stream",
          "name": "stdout",
          "text": [
            "X|X|X\n",
            "-----\n",
            "4|5|6\n",
            "-----\n",
            "7|$|9\n"
          ]
        }
      ],
      "source": [
        "place_marker(test_board,'X',1)\n",
        "place_marker(test_board,'X',2)\n",
        "place_marker(test_board,'X',3)\n",
        "display_board(test_board)"
      ]
    },
    {
      "cell_type": "markdown",
      "metadata": {
        "id": "7QZStIGskzIR"
      },
      "source": [
        "**Step 4: Write a function that takes in a board and a mark (X or O) and then checks to see if that mark has won. **"
      ]
    },
    {
      "cell_type": "code",
      "execution_count": 19,
      "metadata": {
        "collapsed": true,
        "id": "m1LqstLCkzIS"
      },
      "outputs": [],
      "source": [
        "def win_check(board, mark):\n",
        "  return (board[1] == board [2] == board[3] == mark) or (board[4] == board[5] == board[6] == mark) or (board[7] == board [8] == board[9] == mark) or (board[1] == board [5] == board[9] == mark) or (board[3] == board [5] == board[7] == mark)"
      ]
    },
    {
      "cell_type": "markdown",
      "metadata": {
        "id": "Bpee0HMTkzIS"
      },
      "source": [
        "**TEST Step 4:** run the win_check function against our test_board - it should return True"
      ]
    },
    {
      "cell_type": "code",
      "execution_count": 22,
      "metadata": {
        "collapsed": true,
        "colab": {
          "base_uri": "https://localhost:8080/"
        },
        "id": "kGjhYBbykzIS",
        "outputId": "2e16f2e5-85fd-411e-b251-fd4479ba48ce"
      },
      "outputs": [
        {
          "output_type": "execute_result",
          "data": {
            "text/plain": [
              "True"
            ]
          },
          "metadata": {},
          "execution_count": 22
        }
      ],
      "source": [
        "win_check(test_board,'X')"
      ]
    },
    {
      "cell_type": "markdown",
      "metadata": {
        "id": "vCPfu3YkkzIS"
      },
      "source": [
        "**Step 5: Write a function that uses the random module to randomly decide which player goes first. You may want to lookup random.randint() Return a string of which player went first.**"
      ]
    },
    {
      "cell_type": "code",
      "execution_count": null,
      "metadata": {
        "collapsed": true,
        "id": "a3JJoX0ZkzIS"
      },
      "outputs": [],
      "source": [
        "import random\n",
        "\n",
        "def choose_first():\n",
        "  return random.randint(1,2)"
      ]
    },
    {
      "cell_type": "markdown",
      "metadata": {
        "id": "EqyOE8W5kzIS"
      },
      "source": [
        "**Step 6: Write a function that returns a boolean indicating whether a space on the board is freely available.**"
      ]
    },
    {
      "cell_type": "code",
      "execution_count": 24,
      "metadata": {
        "collapsed": true,
        "id": "rhPJqqV8kzIT"
      },
      "outputs": [],
      "source": [
        "def space_check(board, position):\n",
        "  return board[position] not in ['X','O']"
      ]
    },
    {
      "cell_type": "markdown",
      "metadata": {
        "id": "tNLp0RW9kzIT"
      },
      "source": [
        "**Step 7: Write a function that checks if the board is full and returns a boolean value. True if full, False otherwise.**"
      ]
    },
    {
      "cell_type": "code",
      "execution_count": 25,
      "metadata": {
        "collapsed": true,
        "id": "qCb7tqn8kzIT"
      },
      "outputs": [],
      "source": [
        "def full_board_check(board):\n",
        "  for i in range(1,10):\n",
        "    if board[i] not in ['X','O']:\n",
        "      return False\n",
        "  return True"
      ]
    },
    {
      "cell_type": "markdown",
      "metadata": {
        "id": "8lT0hkb-kzIT"
      },
      "source": [
        "**Step 8: Write a function that asks for a player's next position (as a number 1-9) and then uses the function from step 6 to check if it's a free position. If it is, then return the position for later use.**"
      ]
    },
    {
      "cell_type": "code",
      "execution_count": null,
      "metadata": {
        "collapsed": true,
        "id": "M5ti1y1skzIT"
      },
      "outputs": [],
      "source": [
        "def player_choice(board):\n",
        "  if full_board_check(board):\n",
        "    choice = 'wrong'\n",
        "\n",
        "    while choice not in []\n",
        ""
      ]
    },
    {
      "cell_type": "markdown",
      "metadata": {
        "id": "wFPmrcRLkzIT"
      },
      "source": [
        "**Step 9: Write a function that asks the player if they want to play again and returns a boolean True if they do want to play again.**"
      ]
    },
    {
      "cell_type": "code",
      "execution_count": null,
      "metadata": {
        "collapsed": true,
        "id": "VXmOZTPkkzIT"
      },
      "outputs": [],
      "source": [
        "def replay():\n",
        "\n",
        "    pass"
      ]
    },
    {
      "cell_type": "markdown",
      "metadata": {
        "collapsed": true,
        "id": "ackeBGyYkzIT"
      },
      "source": [
        "**Step 10: Here comes the hard part! Use while loops and the functions you've made to run the game!**"
      ]
    },
    {
      "cell_type": "code",
      "execution_count": null,
      "metadata": {
        "collapsed": true,
        "id": "lOFm3ljskzIT"
      },
      "outputs": [],
      "source": [
        "print('Welcome to Tic Tac Toe!')\n",
        "\n",
        "#while True:\n",
        "    # Set the game up here\n",
        "    #pass\n",
        "\n",
        "    #while game_on:\n",
        "        #Player 1 Turn\n",
        "\n",
        "\n",
        "        # Player2's turn.\n",
        "\n",
        "            #pass\n",
        "\n",
        "    #if not replay():\n",
        "        #break"
      ]
    },
    {
      "cell_type": "markdown",
      "metadata": {
        "collapsed": true,
        "id": "WvLG7G_qkzIT"
      },
      "source": [
        "## Good Job!"
      ]
    }
  ],
  "metadata": {
    "kernelspec": {
      "display_name": "Python 3",
      "language": "python",
      "name": "python3"
    },
    "language_info": {
      "codemirror_mode": {
        "name": "ipython",
        "version": 3
      },
      "file_extension": ".py",
      "mimetype": "text/x-python",
      "name": "python",
      "nbconvert_exporter": "python",
      "pygments_lexer": "ipython3",
      "version": "3.6.6"
    },
    "colab": {
      "provenance": [],
      "include_colab_link": true
    }
  },
  "nbformat": 4,
  "nbformat_minor": 0
}