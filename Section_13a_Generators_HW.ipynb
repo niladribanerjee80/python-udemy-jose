{
  "cells": [
    {
      "cell_type": "markdown",
      "metadata": {
        "id": "view-in-github",
        "colab_type": "text"
      },
      "source": [
        "<a href=\"https://colab.research.google.com/github/niladribanerjee80/python-udemy-jose/blob/main/Section_13a_Generators_HW.ipynb\" target=\"_parent\"><img src=\"https://colab.research.google.com/assets/colab-badge.svg\" alt=\"Open In Colab\"/></a>"
      ]
    },
    {
      "cell_type": "markdown",
      "metadata": {
        "id": "YyKGEKIdUL9P"
      },
      "source": [
        "___\n",
        "\n",
        "<a href='https://www.udemy.com/user/joseportilla/'><img src='../Pierian_Data_Logo.png'/></a>\n",
        "___\n",
        "<center><em>Content Copyright by Pierian Data</em></center>"
      ]
    },
    {
      "cell_type": "markdown",
      "metadata": {
        "id": "SlsU3B8NUL9Q"
      },
      "source": [
        "# Iterators and Generators Homework\n",
        "\n",
        "### Problem 1\n",
        "\n",
        "Create a generator that generates the squares of numbers up to some number N."
      ]
    },
    {
      "cell_type": "code",
      "execution_count": 1,
      "metadata": {
        "collapsed": true,
        "id": "uvYKgKtDUL9R"
      },
      "outputs": [],
      "source": [
        "def gensquares(N):\n",
        "    for x in range(N):\n",
        "        yield x**2"
      ]
    },
    {
      "cell_type": "code",
      "execution_count": 2,
      "metadata": {
        "colab": {
          "base_uri": "https://localhost:8080/"
        },
        "id": "QumZPuVkUL9R",
        "outputId": "7cbbcc2c-e6be-4ec8-e26a-14c3e974a6c9"
      },
      "outputs": [
        {
          "output_type": "stream",
          "name": "stdout",
          "text": [
            "0\n",
            "1\n",
            "4\n",
            "9\n",
            "16\n",
            "25\n",
            "36\n",
            "49\n",
            "64\n",
            "81\n"
          ]
        }
      ],
      "source": [
        "for x in gensquares(10):\n",
        "    print(x)"
      ]
    },
    {
      "cell_type": "markdown",
      "metadata": {
        "id": "xCLTVl8nUL9S"
      },
      "source": [
        "### Problem 2\n",
        "\n",
        "Create a generator that yields \"n\" random numbers between a low and high number (that are inputs). <br>Note: Use the random library. For example:"
      ]
    },
    {
      "cell_type": "code",
      "execution_count": null,
      "metadata": {
        "id": "iCHBvDrjUL9S",
        "outputId": "edefa4c6-c849-4ea2-ec77-2991b2698b4b"
      },
      "outputs": [
        {
          "data": {
            "text/plain": [
              "9"
            ]
          },
          "execution_count": 3,
          "metadata": {},
          "output_type": "execute_result"
        }
      ],
      "source": [
        "import random\n",
        "\n",
        "random.randint(1,10)"
      ]
    },
    {
      "cell_type": "code",
      "execution_count": 3,
      "metadata": {
        "collapsed": true,
        "id": "GtDB-DpCUL9S"
      },
      "outputs": [],
      "source": [
        "import random\n",
        "def rand_num(low,high,n):\n",
        "    for x in range(n):\n",
        "        yield random.randint(low,high)"
      ]
    },
    {
      "cell_type": "code",
      "execution_count": 4,
      "metadata": {
        "colab": {
          "base_uri": "https://localhost:8080/"
        },
        "id": "fGNGd79VUL9S",
        "outputId": "7b2f0acb-448d-4f2c-cedf-15f14ec781ee"
      },
      "outputs": [
        {
          "output_type": "stream",
          "name": "stdout",
          "text": [
            "7\n",
            "7\n",
            "2\n",
            "1\n",
            "7\n",
            "9\n",
            "10\n",
            "3\n",
            "10\n",
            "4\n",
            "9\n",
            "2\n"
          ]
        }
      ],
      "source": [
        "for num in rand_num(1,10,12):\n",
        "    print(num)"
      ]
    },
    {
      "cell_type": "markdown",
      "metadata": {
        "id": "UzOPTFDRUL9S"
      },
      "source": [
        "### Problem 3\n",
        "\n",
        "Use the iter() function to convert the string below into an iterator:\n"
      ]
    },
    {
      "cell_type": "code",
      "execution_count": 5,
      "metadata": {
        "collapsed": true,
        "id": "F58bXY5_UL9T"
      },
      "outputs": [],
      "source": [
        "s = 'hello'\n",
        "\n",
        "#code here\n",
        "s_iter = iter(s)"
      ]
    },
    {
      "cell_type": "markdown",
      "metadata": {
        "id": "fmnaBmnKUL9T"
      },
      "source": [
        "### Problem 4\n",
        "Explain a use case for a generator using a yield statement where you would not want to use a normal function with a return statement.<br><br><br><br><br><br>\n",
        "\n",
        "The usage is\n",
        "\n",
        "* without generators, we need to use builtin-objects - string,list,dicts,tuples,sets etc. to hold the values that we want to generate and then return to the calling process. This consumes memory.\n",
        "\n",
        "* with generators use, we don't need to hold up the values.\n",
        "\n",
        "Generators have the following\n",
        "\n",
        "- it knows where to start\n",
        "- what is the next value, what is previous value\n",
        "- where to stop\n",
        "\n"
      ]
    },
    {
      "cell_type": "markdown",
      "metadata": {
        "id": "uLu-2NkIUL9T"
      },
      "source": [
        "### Extra Credit!\n",
        "Can you explain what *gencomp* is in the code below? (Note: We never covered this in lecture! You will have to do some Googling/Stack Overflowing!)"
      ]
    },
    {
      "cell_type": "code",
      "execution_count": 6,
      "metadata": {
        "colab": {
          "base_uri": "https://localhost:8080/"
        },
        "id": "wTowVYloUL9T",
        "outputId": "a0564804-b300-4d6b-aaf8-d86b262f9095"
      },
      "outputs": [
        {
          "output_type": "stream",
          "name": "stdout",
          "text": [
            "4\n",
            "5\n"
          ]
        }
      ],
      "source": [
        "my_list = [1,2,3,4,5]\n",
        "\n",
        "gencomp = (item for item in my_list if item > 3)\n",
        "\n",
        "# note here : the above is not List comprehension. Because list comprehension uses []\n",
        "# generator comprehension uses ()\n",
        "\n",
        "for item in gencomp:\n",
        "    print(item)"
      ]
    },
    {
      "cell_type": "code",
      "source": [
        "even_squares = (x**2 for x in range(10) if x % 2 == 0)"
      ],
      "metadata": {
        "id": "qlUBoV22Xd0o"
      },
      "execution_count": 7,
      "outputs": []
    },
    {
      "cell_type": "code",
      "source": [
        "even_squares"
      ],
      "metadata": {
        "colab": {
          "base_uri": "https://localhost:8080/"
        },
        "id": "VpkKbCRpXeAG",
        "outputId": "81dcdf57-4ff0-4b03-9957-e11ff543fb02"
      },
      "execution_count": 8,
      "outputs": [
        {
          "output_type": "execute_result",
          "data": {
            "text/plain": [
              "<generator object <genexpr> at 0x7ae70cc9c3c0>"
            ]
          },
          "metadata": {},
          "execution_count": 8
        }
      ]
    },
    {
      "cell_type": "code",
      "source": [
        "next(even_squares)"
      ],
      "metadata": {
        "colab": {
          "base_uri": "https://localhost:8080/"
        },
        "id": "pjLjqIMAXeHk",
        "outputId": "c859bb9b-d4bf-4324-8ebd-4116847b9850"
      },
      "execution_count": 9,
      "outputs": [
        {
          "output_type": "execute_result",
          "data": {
            "text/plain": [
              "0"
            ]
          },
          "metadata": {},
          "execution_count": 9
        }
      ]
    },
    {
      "cell_type": "code",
      "source": [
        "next(even_squares)"
      ],
      "metadata": {
        "colab": {
          "base_uri": "https://localhost:8080/"
        },
        "id": "OCAVGdPiXeMV",
        "outputId": "db5854eb-32e8-4d44-d5cb-3a38889a2891"
      },
      "execution_count": 10,
      "outputs": [
        {
          "output_type": "execute_result",
          "data": {
            "text/plain": [
              "4"
            ]
          },
          "metadata": {},
          "execution_count": 10
        }
      ]
    },
    {
      "cell_type": "code",
      "source": [],
      "metadata": {
        "id": "p1zheW5NXpYt"
      },
      "execution_count": null,
      "outputs": []
    },
    {
      "cell_type": "markdown",
      "metadata": {
        "id": "dxaM8yMJUL9T"
      },
      "source": [
        "Hint: Google *generator comprehension*!\n",
        "\n",
        "# Great Job!"
      ]
    }
  ],
  "metadata": {
    "kernelspec": {
      "display_name": "Python 3",
      "language": "python",
      "name": "python3"
    },
    "language_info": {
      "codemirror_mode": {
        "name": "ipython",
        "version": 3
      },
      "file_extension": ".py",
      "mimetype": "text/x-python",
      "name": "python",
      "nbconvert_exporter": "python",
      "pygments_lexer": "ipython3",
      "version": "3.6.6"
    },
    "colab": {
      "provenance": [],
      "include_colab_link": true
    }
  },
  "nbformat": 4,
  "nbformat_minor": 0
}