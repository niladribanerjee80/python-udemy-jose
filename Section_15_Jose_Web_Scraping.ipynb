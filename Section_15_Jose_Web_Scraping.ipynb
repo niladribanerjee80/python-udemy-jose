{
  "nbformat": 4,
  "nbformat_minor": 0,
  "metadata": {
    "colab": {
      "provenance": [],
      "authorship_tag": "ABX9TyOHF2Q0MnY7nzDGQY+el3ZE",
      "include_colab_link": true
    },
    "kernelspec": {
      "name": "python3",
      "display_name": "Python 3"
    },
    "language_info": {
      "name": "python"
    }
  },
  "cells": [
    {
      "cell_type": "markdown",
      "metadata": {
        "id": "view-in-github",
        "colab_type": "text"
      },
      "source": [
        "<a href=\"https://colab.research.google.com/github/niladribanerjee80/python-udemy-jose/blob/main/Section_15_Jose_Web_Scraping.ipynb\" target=\"_parent\"><img src=\"https://colab.research.google.com/assets/colab-badge.svg\" alt=\"Open In Colab\"/></a>"
      ]
    },
    {
      "cell_type": "code",
      "execution_count": 5,
      "metadata": {
        "id": "cKOXXZm1fEK_"
      },
      "outputs": [],
      "source": [
        "from bs4 import BeautifulSoup\n",
        "import requests\n",
        "import csv"
      ]
    },
    {
      "cell_type": "code",
      "source": [
        "# Grab a Title\n",
        "result = requests.get(\"https://en.wikipedia.org/wiki/Jonas_Salk\").text\n",
        "soup = BeautifulSoup(result, \"lxml\")\n",
        "\n",
        "print(soup.select('title'))\n",
        "print(soup.select('title')[0].getText())"
      ],
      "metadata": {
        "colab": {
          "base_uri": "https://localhost:8080/"
        },
        "id": "kYKrmH-RmcL3",
        "outputId": "f6092201-b8ad-4ac7-c83e-fda2e1805056"
      },
      "execution_count": null,
      "outputs": [
        {
          "output_type": "stream",
          "name": "stdout",
          "text": [
            "[<title>Jonas Salk - Wikipedia</title>]\n",
            "Jonas Salk - Wikipedia\n"
          ]
        }
      ]
    },
    {
      "cell_type": "code",
      "source": [
        "site_paragraphs = soup.select('p')\n",
        "\n",
        "paras = []\n",
        "for paragraph in site_paragraphs:\n",
        "    if paragraph.getText() == '\\n':\n",
        "        continue\n",
        "    else:\n",
        "        paras.append(paragraph.getText())"
      ],
      "metadata": {
        "id": "HtzvszvZpQio"
      },
      "execution_count": null,
      "outputs": []
    },
    {
      "cell_type": "markdown",
      "source": [
        "| Operator        \t\t\t\t| Associativity |\n",
        "| -------------   \t\t\t\t| ------------- |\n",
        "| soup.select('div')     \t\t| all elements with 'div' tag |\n",
        "| soup.select('#some_id')       | elements containing id = 'some_id' |\n",
        "| soup.select('.some_class')    | elements containing class = 'some_class' |\n",
        "| soup.select('div span')       | any elements named span within a div element |\n",
        "| soup.select('div > span')     | any elements named span directly within a div element, with nothing \t\t\t\t\t\t\t\t\tin between |"
      ],
      "metadata": {
        "id": "RfjmikVoTupu"
      }
    },
    {
      "cell_type": "code",
      "source": [
        "# get the contents for Neil Armstrong wiki\n",
        "\n",
        "result = requests.get(\"https://en.wikipedia.org/wiki/Neil_Armstrong\").text\n",
        "soup = BeautifulSoup(result, \"lxml\")\n",
        "\n",
        "list_of_items = [i for i in soup.select('.vector-toc-text')]\n",
        "\n",
        "for item in list_of_items:\n",
        "    # find the span containing the text\n",
        "    text_span = item.find('span', class_='')\n",
        "\n",
        "    # print the text if available\n",
        "    if text_span:\n",
        "        print(text_span.text)\n",
        "    else:\n",
        "        continue"
      ],
      "metadata": {
        "colab": {
          "base_uri": "https://localhost:8080/"
        },
        "id": "hXpkgJS0vbMY",
        "outputId": "17ea9d40-6f41-48b7-b437-55e51a751d09"
      },
      "execution_count": null,
      "outputs": [
        {
          "output_type": "stream",
          "name": "stdout",
          "text": [
            "Early life and education\n",
            "Navy service\n",
            "College years\n",
            "Test pilot\n",
            "Astronaut career\n",
            "Gemini program\n",
            "Gemini 5\n",
            "Gemini 8\n",
            "Gemini 11\n",
            "Apollo program\n",
            "Apollo 11\n",
            "Voyage to the Moon\n",
            "First Moon walk\n",
            "Return to Earth\n",
            "Life after Apollo\n",
            "Teaching\n",
            "NASA commissions\n",
            "Business activities\n",
            "North Pole expedition\n",
            "Public profile\n",
            "Personal life\n",
            "Illness and death\n",
            "Legacy\n",
            "See also\n",
            "Notes\n",
            "References\n",
            "Further reading\n",
            "External links\n"
          ]
        }
      ]
    },
    {
      "cell_type": "code",
      "source": [
        " # working with images"
      ],
      "metadata": {
        "id": "EfVNyp2BteWN"
      },
      "execution_count": null,
      "outputs": []
    },
    {
      "cell_type": "code",
      "source": [
        "result = requests.get(\"https://en.wikipedia.org/wiki/Deep_Blue_(chess_computer)\").text\n",
        "\n",
        "soup = BeautifulSoup(result, \"lxml\")\n",
        "\n",
        "# <img src=\"//upload.wikimedia.org/wikipedia/commons/thumb/b/be/Deep_Blue.jpg/220px-Deep_Blue.jpg\"/>\n"
      ],
      "metadata": {
        "id": "zQoStQR357zH"
      },
      "execution_count": null,
      "outputs": []
    },
    {
      "cell_type": "markdown",
      "source": [
        "<img src=\"//upload.wikimedia.org/wikipedia/commons/thumb/b/be/Deep_Blue.jpg/220px-Deep_Blue.jpg\"/>"
      ],
      "metadata": {
        "id": "nXddO5S0759l"
      }
    },
    {
      "cell_type": "code",
      "source": [
        "result = requests.get(\"https://en.wikipedia.org/wiki/Deep_Blue_(chess_computer)\").text\n",
        "soup = BeautifulSoup(result, \"lxml\")\n",
        "\n",
        "# list all image tags and download them\n",
        "result_images = soup.select(\".mw-file-element\")\n",
        "\n",
        "i = 0\n",
        "\n",
        "for image in result_images:\n",
        "\n",
        "    # increment the counter\n",
        "    i += 1\n",
        "\n",
        "    # get the source\n",
        "    source = image['src']\n",
        "\n",
        "    # prefix it with https:\n",
        "    source = \"https:\" + source\n",
        "\n",
        "    # get the image downloaded as binary\n",
        "    image_binary = requests.get(source)\n",
        "\n",
        "    # get the image file extension\n",
        "    ext = source[-4:]\n",
        "\n",
        "    # print the new filename\n",
        "    print(f\"Image URL : {source}, downloaded into file_{i}{ext}\")\n",
        "    print('\\n')\n",
        "\n",
        "    # open a file\n",
        "    f = open(f\"file_{i}{ext}\",\"wb\")\n",
        "\n",
        "    # write the file\n",
        "    f.write(image_binary.content)\n",
        "\n",
        "    # close the file\n",
        "    f.close()"
      ],
      "metadata": {
        "id": "0C6-mSBN7_zQ",
        "outputId": "43013751-3534-411b-ac69-f12049db39ae",
        "colab": {
          "base_uri": "https://localhost:8080/"
        }
      },
      "execution_count": 3,
      "outputs": [
        {
          "output_type": "stream",
          "name": "stdout",
          "text": [
            "Image URL : https://upload.wikimedia.org/wikipedia/en/thumb/9/94/Symbol_support_vote.svg/19px-Symbol_support_vote.svg.png, downloaded into file_1.png\n",
            "\n",
            "\n",
            "Image URL : https://upload.wikimedia.org/wikipedia/commons/thumb/b/be/Deep_Blue.jpg/220px-Deep_Blue.jpg, downloaded into file_2.jpg\n",
            "\n",
            "\n",
            "Image URL : https://upload.wikimedia.org/wikipedia/commons/thumb/5/52/Chess_Programming.svg/150px-Chess_Programming.svg.png, downloaded into file_3.png\n",
            "\n",
            "\n",
            "Image URL : https://upload.wikimedia.org/wikipedia/commons/thumb/6/6f/Kasparov_Magath_1985_Hamburg-2.png/220px-Kasparov_Magath_1985_Hamburg-2.png, downloaded into file_4.png\n",
            "\n",
            "\n",
            "Image URL : https://upload.wikimedia.org/wikipedia/commons/thumb/8/83/One_of_Deep_Blue%27s_processors_%282586060990%29.jpg/220px-One_of_Deep_Blue%27s_processors_%282586060990%29.jpg, downloaded into file_5.jpg\n",
            "\n",
            "\n",
            "Image URL : https://upload.wikimedia.org/wikipedia/commons/thumb/0/05/Chess.svg/28px-Chess.svg.png, downloaded into file_6.png\n",
            "\n",
            "\n",
            "Image URL : https://upload.wikimedia.org/wikipedia/commons/thumb/0/05/Chess.svg/28px-Chess.svg.png, downloaded into file_7.png\n",
            "\n",
            "\n",
            "Image URL : https://upload.wikimedia.org/wikipedia/en/thumb/9/96/Symbol_category_class.svg/16px-Symbol_category_class.svg.png, downloaded into file_8.png\n",
            "\n",
            "\n",
            "Image URL : https://upload.wikimedia.org/wikipedia/en/thumb/4/4a/Commons-logo.svg/12px-Commons-logo.svg.png, downloaded into file_9.png\n",
            "\n",
            "\n",
            "Image URL : https://upload.wikimedia.org/wikipedia/commons/thumb/8/83/Symbol_template_class_pink.svg/16px-Symbol_template_class_pink.svg.png, downloaded into file_10.png\n",
            "\n",
            "\n",
            "Image URL : https://upload.wikimedia.org/wikipedia/en/thumb/8/8a/OOjs_UI_icon_edit-ltr-progressive.svg/10px-OOjs_UI_icon_edit-ltr-progressive.svg.png, downloaded into file_11.png\n",
            "\n",
            "\n"
          ]
        }
      ]
    },
    {
      "cell_type": "code",
      "source": [
        "rm file*"
      ],
      "metadata": {
        "id": "sXfOYIRpAJwH"
      },
      "execution_count": 4,
      "outputs": []
    },
    {
      "cell_type": "markdown",
      "source": [
        "## Web scraping exercise\n",
        "* www.toscrape.com | Books"
      ],
      "metadata": {
        "id": "ExqYFMP9uWDe"
      }
    },
    {
      "cell_type": "code",
      "source": [
        "computer_laptop_url = \"https://webscraper.io/test-sites/e-commerce/allinone/computers/laptops\""
      ],
      "metadata": {
        "id": "76GrNRfKCnPT"
      },
      "execution_count": 6,
      "outputs": []
    },
    {
      "cell_type": "code",
      "source": [
        "result = requests.get(computer_laptop_url)"
      ],
      "metadata": {
        "id": "uWh1gp8Owg8s"
      },
      "execution_count": 30,
      "outputs": []
    },
    {
      "cell_type": "code",
      "source": [
        "soup = BeautifulSoup(result.text,'lxml')"
      ],
      "metadata": {
        "id": "RvMykIeew0Lh"
      },
      "execution_count": 31,
      "outputs": []
    },
    {
      "cell_type": "code",
      "source": [
        "laptops = soup.select('.product-wrapper.card-body')"
      ],
      "metadata": {
        "id": "waCTdQbFw3yN"
      },
      "execution_count": 53,
      "outputs": []
    },
    {
      "cell_type": "code",
      "source": [
        "for laptop in laptops:\n",
        "    # get the book\n",
        "    laptop_name = laptop.select('.title')\n",
        "\n",
        "    for name in laptop_name:\n",
        "        laptops[name] = {}\n",
        "\n",
        "\n",
        "    # now find the class that contains both title and price\n",
        "    class_tags_price = laptop.select('.price.float-end.card-title.pull-right')\n",
        "\n",
        "    for item in class_tags_price:\n",
        "        # print(item.text)\n",
        "        pass\n",
        "\n",
        ""
      ],
      "metadata": {
        "id": "QQRB7oMcw60G",
        "outputId": "333c76f4-2f8f-4a27-892d-94bad0a130bc",
        "colab": {
          "base_uri": "https://localhost:8080/"
        }
      },
      "execution_count": 52,
      "outputs": [
        {
          "output_type": "stream",
          "name": "stdout",
          "text": [
            "Asus VivoBook...\n",
            "Prestigio Smar...\n",
            "Prestigio Smar...\n",
            "Aspire E1-510\n",
            "Lenovo V110-15...\n",
            "Lenovo V110-15...\n",
            "Hewlett Packar...\n",
            "Acer Aspire 3...\n",
            "Acer Aspire A3...\n",
            "Acer Aspire ES...\n",
            "Acer Aspire 3...\n",
            "Acer Aspire 3...\n",
            "Asus VivoBook...\n",
            "Asus VivoBook...\n",
            "Lenovo ThinkPa...\n",
            "Acer Aspire 3...\n",
            "Lenovo V110-15...\n",
            "Acer Aspire ES...\n",
            "Asus VivoBook...\n",
            "Packard 255 G2\n",
            "Asus EeeBook R...\n",
            "Acer Aspire 3...\n",
            "Acer Aspire ES...\n",
            "Acer Extensa 1...\n",
            "Acer Aspire ES...\n",
            "Lenovo V110-15...\n",
            "Acer Aspire A3...\n",
            "Lenovo V110-15...\n",
            "Asus VivoBook...\n",
            "Acer Aspire ES...\n",
            "Lenovo V510 Bl...\n",
            "Acer Aspire ES...\n",
            "Lenovo V510 Bl...\n",
            "Acer Swift 1 S...\n",
            "Dell Vostro 15\n",
            "Acer Aspire 3...\n",
            "Dell Vostro 15...\n",
            "Lenovo V510 Bl...\n",
            "HP 250 G3\n",
            "Acer Spin 5\n",
            "HP 350 G1\n",
            "Aspire E1-572G\n",
            "Pavilion\n",
            "Acer Aspire A5...\n",
            "Dell Inspiron...\n",
            "Asus VivoBook...\n",
            "ProBook\n",
            "Inspiron 15\n",
            "Asus ROG STRIX...\n",
            "Acer Nitro 5 A...\n",
            "Asus ROG STRIX...\n",
            "Lenovo ThinkPa...\n",
            "ThinkPad Yoga\n",
            "Lenovo ThinkPa...\n",
            "Dell Inspiron...\n",
            "MSI GL72M 7RDX\n",
            "MSI GL72M 7RDX\n",
            "Asus ROG Strix...\n",
            "Dell Latitude...\n",
            "Dell Latitude...\n",
            "Lenovo Legion...\n",
            "Toshiba Porteg...\n",
            "Acer Predator...\n",
            "Acer Aspire 7...\n",
            "Dell Inspiron...\n",
            "Dell Latitude...\n",
            "Lenovo Legion...\n",
            "Asus AsusPro A...\n",
            "Acer Nitro 5 A...\n",
            "Dell Latitude...\n",
            "Dell Inspiron...\n",
            "Dell Latitude...\n",
            "Lenovo Legion...\n",
            "MSI GP62M 7RDX...\n",
            "Lenovo Yoga 72...\n",
            "Toshiba Porteg...\n",
            "Acer TravelMat...\n",
            "Dell Latitude...\n",
            "ThinkPad T540p\n",
            "MSI GS63 7RD S...\n",
            "Dell Latitude...\n",
            "Acer Predator...\n",
            "MSI GL62M 7REX\n",
            "MSI GL62M 7REX...\n",
            "Lenovo Yoga 91...\n",
            "Toshiba Porteg...\n",
            "Lenovo IdeaPad...\n",
            "Acer Predator...\n",
            "ThinkPad Yoga\n",
            "Asus VivoBook...\n",
            "Dell Latitude...\n",
            "Asus ZenBook U...\n",
            "ThinkPad X230\n",
            "Asus ROG Strix...\n",
            "Apple MacBook...\n",
            "Dell Latitude...\n",
            "Hewlett Packar...\n",
            "Dell XPS 13\n",
            "Toshiba Porteg...\n",
            "MSI GL62VR 7RF...\n",
            "Dell Latitude...\n",
            "ThinkPad X240\n",
            "Hewlett Packar...\n",
            "Apple MacBook...\n",
            "Dell Latitude...\n",
            "Dell Latitude...\n",
            "Dell Latitude...\n",
            "Apple MacBook...\n",
            "Lenovo ThinkPa...\n",
            "Lenovo ThinkPa...\n",
            "Toshiba Porteg...\n",
            "Asus ASUSPRO B...\n",
            "Lenovo Legion...\n",
            "Asus ROG Strix...\n",
            "Asus ROG Strix...\n",
            "Asus ROG Strix...\n",
            "Asus ROG Strix...\n"
          ]
        }
      ]
    },
    {
      "cell_type": "code",
      "source": [],
      "metadata": {
        "id": "liqQ7aO8xKSb"
      },
      "execution_count": null,
      "outputs": []
    }
  ]
}