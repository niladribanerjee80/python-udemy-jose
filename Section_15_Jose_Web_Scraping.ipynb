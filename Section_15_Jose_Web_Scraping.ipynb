{
  "nbformat": 4,
  "nbformat_minor": 0,
  "metadata": {
    "colab": {
      "provenance": [],
      "authorship_tag": "ABX9TyN9LYH1Eu3HEYuo8+jn9dR2",
      "include_colab_link": true
    },
    "kernelspec": {
      "name": "python3",
      "display_name": "Python 3"
    },
    "language_info": {
      "name": "python"
    }
  },
  "cells": [
    {
      "cell_type": "markdown",
      "metadata": {
        "id": "view-in-github",
        "colab_type": "text"
      },
      "source": [
        "<a href=\"https://colab.research.google.com/github/niladribanerjee80/python-udemy-jose/blob/main/Section_15_Jose_Web_Scraping.ipynb\" target=\"_parent\"><img src=\"https://colab.research.google.com/assets/colab-badge.svg\" alt=\"Open In Colab\"/></a>"
      ]
    },
    {
      "cell_type": "code",
      "execution_count": 2,
      "metadata": {
        "id": "cKOXXZm1fEK_"
      },
      "outputs": [],
      "source": [
        "from bs4 import BeautifulSoup\n",
        "import requests\n",
        "import csv"
      ]
    },
    {
      "cell_type": "code",
      "source": [
        "# Grab a Title\n",
        "result = requests.get(\"https://en.wikipedia.org/wiki/Jonas_Salk\").text\n",
        "soup = BeautifulSoup(result, \"lxml\")\n",
        "\n",
        "print(soup.select('title'))\n",
        "print(soup.select('title')[0].getText())"
      ],
      "metadata": {
        "colab": {
          "base_uri": "https://localhost:8080/"
        },
        "id": "kYKrmH-RmcL3",
        "outputId": "f6092201-b8ad-4ac7-c83e-fda2e1805056"
      },
      "execution_count": 13,
      "outputs": [
        {
          "output_type": "stream",
          "name": "stdout",
          "text": [
            "[<title>Jonas Salk - Wikipedia</title>]\n",
            "Jonas Salk - Wikipedia\n"
          ]
        }
      ]
    },
    {
      "cell_type": "code",
      "source": [
        "site_paragraphs = soup.select('p')\n",
        "\n",
        "paras = []\n",
        "for paragraph in site_paragraphs:\n",
        "    if paragraph.getText() == '\\n':\n",
        "        continue\n",
        "    else:\n",
        "        paras.append(paragraph.getText())"
      ],
      "metadata": {
        "id": "HtzvszvZpQio"
      },
      "execution_count": 21,
      "outputs": []
    },
    {
      "cell_type": "markdown",
      "source": [
        "| Operator        \t\t\t\t| Associativity |\n",
        "| -------------   \t\t\t\t| ------------- |\n",
        "| soup.select('div')     \t\t| all elements with 'div' tag |\n",
        "| soup.select('#some_id')       | elements containing id = 'some_id' |\n",
        "| soup.select('.some_class')    | elements containing class = 'some_class' |\n",
        "| soup.select('div span')       | any elements named span within a div element |\n",
        "| soup.select('div > span')     | any elements named span directly within a div element, with nothing \t\t\t\t\t\t\t\t\tin between |"
      ],
      "metadata": {
        "id": "RfjmikVoTupu"
      }
    },
    {
      "cell_type": "code",
      "source": [
        "# get the contents for Neil Armstrong wiki\n",
        "\n",
        "result = requests.get(\"https://en.wikipedia.org/wiki/Neil_Armstrong\").text\n",
        "soup = BeautifulSoup(result, \"lxml\")\n",
        "\n",
        "list_of_items = [i for i in soup.select('.vector-toc-text')]\n",
        "\n",
        "for item in list_of_items:\n",
        "    # find the span containing the text\n",
        "    text_span = item.find('span', class_='')\n",
        "\n",
        "    # print the text if available\n",
        "    if text_span:\n",
        "        print(text_span.text)\n",
        "    else:\n",
        "        continue"
      ],
      "metadata": {
        "colab": {
          "base_uri": "https://localhost:8080/"
        },
        "id": "hXpkgJS0vbMY",
        "outputId": "17ea9d40-6f41-48b7-b437-55e51a751d09"
      },
      "execution_count": 31,
      "outputs": [
        {
          "output_type": "stream",
          "name": "stdout",
          "text": [
            "Early life and education\n",
            "Navy service\n",
            "College years\n",
            "Test pilot\n",
            "Astronaut career\n",
            "Gemini program\n",
            "Gemini 5\n",
            "Gemini 8\n",
            "Gemini 11\n",
            "Apollo program\n",
            "Apollo 11\n",
            "Voyage to the Moon\n",
            "First Moon walk\n",
            "Return to Earth\n",
            "Life after Apollo\n",
            "Teaching\n",
            "NASA commissions\n",
            "Business activities\n",
            "North Pole expedition\n",
            "Public profile\n",
            "Personal life\n",
            "Illness and death\n",
            "Legacy\n",
            "See also\n",
            "Notes\n",
            "References\n",
            "Further reading\n",
            "External links\n"
          ]
        }
      ]
    },
    {
      "cell_type": "code",
      "source": [],
      "metadata": {
        "id": "EfVNyp2BteWN"
      },
      "execution_count": null,
      "outputs": []
    }
  ]
}