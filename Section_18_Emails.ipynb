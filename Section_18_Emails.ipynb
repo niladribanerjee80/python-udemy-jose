{
  "nbformat": 4,
  "nbformat_minor": 0,
  "metadata": {
    "colab": {
      "provenance": [],
      "authorship_tag": "ABX9TyMkTwtFnyWAdWCaReze+28k",
      "include_colab_link": true
    },
    "kernelspec": {
      "name": "python3",
      "display_name": "Python 3"
    },
    "language_info": {
      "name": "python"
    }
  },
  "cells": [
    {
      "cell_type": "markdown",
      "metadata": {
        "id": "view-in-github",
        "colab_type": "text"
      },
      "source": [
        "<a href=\"https://colab.research.google.com/github/niladribanerjee80/python-udemy-jose/blob/main/Section_18_Emails.ipynb\" target=\"_parent\"><img src=\"https://colab.research.google.com/assets/colab-badge.svg\" alt=\"Open In Colab\"/></a>"
      ]
    },
    {
      "cell_type": "markdown",
      "source": [
        "# Sending Email\n",
        "\n",
        "\n",
        "---\n",
        "**Prerequisites**\n",
        "* You need a Gmail account which has 2 Step Verification ON\n",
        "* Create a App password for Python Script\n",
        "\n",
        "---\n",
        "* import smtplib : Builtin\n",
        "* Configure email server\n",
        "    - For email - smtp.gmail.com\n",
        "    - Port = 587 for TLS\n",
        "    - Port = 465 - SSL\n",
        "* Confirm Connection - ehlo\n",
        "* Setting Protocol - starttls or startssl\n",
        "* Logging on\n",
        "* Send message\n",
        "\n"
      ],
      "metadata": {
        "id": "zwfqFadsTzMn"
      }
    },
    {
      "cell_type": "code",
      "execution_count": 20,
      "metadata": {
        "id": "eRSOjt_GTub4"
      },
      "outputs": [],
      "source": [
        "import smtplib\n",
        "import getpass\n",
        "from email.mime.text import MIMEText\n",
        "from email.mime.multipart import MIMEMultipart"
      ]
    },
    {
      "cell_type": "code",
      "source": [
        "# create smtp object\n",
        "server = 'smtp.gmail.com'\n",
        "port = 587 # TLS Encryption\n",
        "\n",
        "smtp_object = smtplib.SMTP(server,port)"
      ],
      "metadata": {
        "id": "UTgbRcSsVASJ"
      },
      "execution_count": 21,
      "outputs": []
    },
    {
      "cell_type": "code",
      "source": [
        "# confirm the connection\n",
        "smtp_object.ehlo()"
      ],
      "metadata": {
        "colab": {
          "base_uri": "https://localhost:8080/"
        },
        "id": "j6aE_NW1VAVk",
        "outputId": "b252277b-cc3c-41ee-bd30-63660de6aa33"
      },
      "execution_count": 22,
      "outputs": [
        {
          "output_type": "execute_result",
          "data": {
            "text/plain": [
              "(250,\n",
              " b'smtp.gmail.com at your service, [35.227.102.213]\\nSIZE 35882577\\n8BITMIME\\nSTARTTLS\\nENHANCEDSTATUSCODES\\nPIPELINING\\nCHUNKING\\nSMTPUTF8')"
            ]
          },
          "metadata": {},
          "execution_count": 22
        }
      ]
    },
    {
      "cell_type": "code",
      "source": [
        "# start the connection\n",
        "smtp_object.starttls()"
      ],
      "metadata": {
        "colab": {
          "base_uri": "https://localhost:8080/"
        },
        "id": "y4skrZ_aVAZb",
        "outputId": "b43a29a9-863b-4ec4-b87e-a95545790184"
      },
      "execution_count": 23,
      "outputs": [
        {
          "output_type": "execute_result",
          "data": {
            "text/plain": [
              "(220, b'2.0.0 Ready to start TLS')"
            ]
          },
          "metadata": {},
          "execution_count": 23
        }
      ]
    },
    {
      "cell_type": "code",
      "source": [
        "# Take the Email and Password from user\n",
        "email = getpass.getpass(\"Email: \")\n",
        "pwd = getpass.getpass(\"Pwd: \") # has to be app password, not your Email password"
      ],
      "metadata": {
        "colab": {
          "base_uri": "https://localhost:8080/"
        },
        "id": "Rn4yIMhCZk3-",
        "outputId": "96f1165d-1d35-434c-9494-3cfa94678b3f"
      },
      "execution_count": 24,
      "outputs": [
        {
          "name": "stdout",
          "output_type": "stream",
          "text": [
            "Email: ··········\n",
            "Pwd: ··········\n"
          ]
        }
      ]
    },
    {
      "cell_type": "code",
      "source": [
        "# Login into email server\n",
        "smtp_object.login(email,pwd)"
      ],
      "metadata": {
        "colab": {
          "base_uri": "https://localhost:8080/"
        },
        "id": "olZeoSXzZk7V",
        "outputId": "41d7e7b8-b077-4293-db33-2aabd0bb4f28"
      },
      "execution_count": 25,
      "outputs": [
        {
          "output_type": "execute_result",
          "data": {
            "text/plain": [
              "(235, b'2.7.0 Accepted')"
            ]
          },
          "metadata": {},
          "execution_count": 25
        }
      ]
    },
    {
      "cell_type": "code",
      "source": [
        "# from_address = \"intimations@cpc.incometax.gov.in\"\n",
        "# to_address = email\n",
        "# subject = \"Your ITR Intimation\"\n",
        "# message = \"Your Return for A.Y. 2023-24 has been processed. There is no payment due.\"\n",
        "\n",
        "# # ensure this format is specific. This is required\n",
        "# email_msg = \"Subject: \"+subject+\"\\n\"+message"
      ],
      "metadata": {
        "id": "thPQglZ_Zk-0"
      },
      "execution_count": 26,
      "outputs": []
    },
    {
      "cell_type": "code",
      "source": [
        "# Create the email message\n",
        "msg = MIMEMultipart()\n",
        "msg['From'] = \"intimations@cpc.incometax.gov.in\"  # Set the desired from address\n",
        "msg['To'] = email  # Set the recipient address explicitly\n",
        "msg['Subject'] = \"Your ITR Intimation\"\n",
        "message = \"Your Return for A.Y. 2023-24 has been processed. There is no payment due.\"\n",
        "\n",
        "msg.attach(MIMEText(message))  # Attach the message content\n",
        "\n",
        "# Send the email\n",
        "smtp_object.sendmail(msg['From'], msg['To'], msg.as_string())"
      ],
      "metadata": {
        "id": "ZuyushDOfIXy"
      },
      "execution_count": null,
      "outputs": []
    },
    {
      "cell_type": "code",
      "source": [
        "# Send email\n",
        "# if output = empty dictionary means correctly sent\n",
        "# smtp_object.sendmail(from_address,to_address,email_msg)"
      ],
      "metadata": {
        "colab": {
          "base_uri": "https://localhost:8080/"
        },
        "id": "wBt6sfMTZlCN",
        "outputId": "4c906cf6-ef8a-4d84-97f4-400b1a1af784"
      },
      "execution_count": 27,
      "outputs": [
        {
          "output_type": "execute_result",
          "data": {
            "text/plain": [
              "{}"
            ]
          },
          "metadata": {},
          "execution_count": 27
        }
      ]
    },
    {
      "cell_type": "code",
      "source": [
        "# close the connection\n",
        "smtp_object.quit()"
      ],
      "metadata": {
        "colab": {
          "base_uri": "https://localhost:8080/"
        },
        "id": "vncd9y-vVAcx",
        "outputId": "280a121c-984e-4a5d-848f-caf496735452"
      },
      "execution_count": 28,
      "outputs": [
        {
          "output_type": "execute_result",
          "data": {
            "text/plain": [
              "(221,\n",
              " b'2.0.0 closing connection ada2fe7eead31-49a5f447e60sm1420207137.3 - gsmtp')"
            ]
          },
          "metadata": {},
          "execution_count": 28
        }
      ]
    },
    {
      "cell_type": "code",
      "source": [],
      "metadata": {
        "id": "1Idwy5J9VArI"
      },
      "execution_count": 28,
      "outputs": []
    }
  ]
}