{
  "nbformat": 4,
  "nbformat_minor": 0,
  "metadata": {
    "colab": {
      "provenance": [],
      "authorship_tag": "ABX9TyO3O/nVsY7p2+/zh3566++S",
      "include_colab_link": true
    },
    "kernelspec": {
      "name": "python3",
      "display_name": "Python 3"
    },
    "language_info": {
      "name": "python"
    }
  },
  "cells": [
    {
      "cell_type": "markdown",
      "metadata": {
        "id": "view-in-github",
        "colab_type": "text"
      },
      "source": [
        "<a href=\"https://colab.research.google.com/github/niladribanerjee80/python-udemy-jose/blob/main/Section_18_Emails.ipynb\" target=\"_parent\"><img src=\"https://colab.research.google.com/assets/colab-badge.svg\" alt=\"Open In Colab\"/></a>"
      ]
    },
    {
      "cell_type": "markdown",
      "source": [
        "# Sending Email\n",
        "\n",
        "\n",
        "---\n",
        "**Prerequisites**\n",
        "* You need a Gmail account which has 2 Step Verification ON\n",
        "* Create a App password for Python Script\n",
        "\n",
        "---\n",
        "* import smtplib : Builtin\n",
        "* Configure email server\n",
        "    - For email - smtp.gmail.com\n",
        "    - Port = 587 for TLS\n",
        "    - Port = 465 - SSL\n",
        "* Confirm Connection - ehlo\n",
        "* Setting Protocol - starttls or startssl\n",
        "* Logging on\n",
        "* Send message\n",
        "\n"
      ],
      "metadata": {
        "id": "zwfqFadsTzMn"
      }
    },
    {
      "cell_type": "code",
      "execution_count": 49,
      "metadata": {
        "id": "eRSOjt_GTub4"
      },
      "outputs": [],
      "source": [
        "import smtplib\n",
        "import getpass\n",
        "from email.mime.text import MIMEText\n",
        "from email.mime.multipart import MIMEMultipart"
      ]
    },
    {
      "cell_type": "code",
      "source": [
        "# create smtp object\n",
        "server = 'smtp.gmail.com'\n",
        "port = 587 # TLS Encryption\n",
        "\n",
        "smtp_object = smtplib.SMTP(server,port)"
      ],
      "metadata": {
        "id": "UTgbRcSsVASJ"
      },
      "execution_count": 50,
      "outputs": []
    },
    {
      "cell_type": "code",
      "source": [
        "# confirm the connection\n",
        "smtp_object.ehlo()"
      ],
      "metadata": {
        "colab": {
          "base_uri": "https://localhost:8080/"
        },
        "id": "j6aE_NW1VAVk",
        "outputId": "7421b27c-f63e-4ca4-ee50-05c9b0e8ec46"
      },
      "execution_count": 51,
      "outputs": [
        {
          "output_type": "execute_result",
          "data": {
            "text/plain": [
              "(250,\n",
              " b'smtp.gmail.com at your service, [35.227.102.213]\\nSIZE 35882577\\n8BITMIME\\nSTARTTLS\\nENHANCEDSTATUSCODES\\nPIPELINING\\nCHUNKING\\nSMTPUTF8')"
            ]
          },
          "metadata": {},
          "execution_count": 51
        }
      ]
    },
    {
      "cell_type": "code",
      "source": [
        "# start the connection\n",
        "smtp_object.starttls()"
      ],
      "metadata": {
        "colab": {
          "base_uri": "https://localhost:8080/"
        },
        "id": "y4skrZ_aVAZb",
        "outputId": "62cd0f5e-b467-449e-f89c-f3cc591816ae"
      },
      "execution_count": 52,
      "outputs": [
        {
          "output_type": "execute_result",
          "data": {
            "text/plain": [
              "(220, b'2.0.0 Ready to start TLS')"
            ]
          },
          "metadata": {},
          "execution_count": 52
        }
      ]
    },
    {
      "cell_type": "code",
      "source": [
        "# Take the Email and Password from user\n",
        "# email = getpass.getpass(\"Email: \")\n",
        "email = 'niladri.b80@gmail.com'\n",
        "pwd = getpass.getpass(\"Pwd: \") # has to be app password, not your Email password"
      ],
      "metadata": {
        "colab": {
          "base_uri": "https://localhost:8080/"
        },
        "id": "Rn4yIMhCZk3-",
        "outputId": "4e72510f-498c-49d6-d090-be6362dc2442"
      },
      "execution_count": 53,
      "outputs": [
        {
          "name": "stdout",
          "output_type": "stream",
          "text": [
            "Pwd: ··········\n"
          ]
        }
      ]
    },
    {
      "cell_type": "code",
      "source": [
        "# Login into email server\n",
        "smtp_object.login(email,pwd)"
      ],
      "metadata": {
        "colab": {
          "base_uri": "https://localhost:8080/"
        },
        "id": "olZeoSXzZk7V",
        "outputId": "8fc2c072-e026-40c3-dc4d-5646082aee67"
      },
      "execution_count": 54,
      "outputs": [
        {
          "output_type": "execute_result",
          "data": {
            "text/plain": [
              "(235, b'2.7.0 Accepted')"
            ]
          },
          "metadata": {},
          "execution_count": 54
        }
      ]
    },
    {
      "cell_type": "code",
      "source": [
        "from_address = email\n",
        "to_address = email\n",
        "subject = \"Test Email for Python\"\n",
        "message = \"You are doing great in saving the monthly budget.\"\n",
        "\n",
        "# ensure this format is specific. This is required\n",
        "email_msg = \"Subject: \"+subject+\"\\n\"+message"
      ],
      "metadata": {
        "id": "thPQglZ_Zk-0"
      },
      "execution_count": 55,
      "outputs": []
    },
    {
      "cell_type": "code",
      "source": [
        "# Create the email message\n",
        "# msg = MIMEMultipart()\n",
        "# msg['From'] = \"intimations@cpc.incometax.gov.in\"  # Set the desired from address\n",
        "# msg['To'] = email  # Set the recipient address explicitly\n",
        "# msg['Subject'] = \"Your ITR Intimation\"\n",
        "# message = \"Your Return for A.Y. 2023-24 has been processed. There is no payment due.\"\n",
        "\n",
        "# msg.attach(MIMEText(message))  # Attach the message content\n",
        "\n",
        "# # Send the email\n",
        "# smtp_object.sendmail(from_addr=msg['From'],to_addrs=msg['To'],msg=msg.as_string())"
      ],
      "metadata": {
        "id": "ZuyushDOfIXy"
      },
      "execution_count": 56,
      "outputs": []
    },
    {
      "cell_type": "code",
      "source": [
        "# Send email\n",
        "# if output = empty dictionary means correctly sent\n",
        "smtp_object.sendmail(from_address,to_address,email_msg)"
      ],
      "metadata": {
        "id": "wBt6sfMTZlCN",
        "colab": {
          "base_uri": "https://localhost:8080/"
        },
        "outputId": "3b206fa6-30a3-4aba-c992-435b6463bab2"
      },
      "execution_count": 57,
      "outputs": [
        {
          "output_type": "execute_result",
          "data": {
            "text/plain": [
              "{}"
            ]
          },
          "metadata": {},
          "execution_count": 57
        }
      ]
    },
    {
      "cell_type": "code",
      "source": [
        "# close the connection\n",
        "smtp_object.quit()"
      ],
      "metadata": {
        "colab": {
          "base_uri": "https://localhost:8080/"
        },
        "id": "vncd9y-vVAcx",
        "outputId": "cade618b-5871-4a68-91e0-872e22288c75"
      },
      "execution_count": 58,
      "outputs": [
        {
          "output_type": "execute_result",
          "data": {
            "text/plain": [
              "(221,\n",
              " b'2.0.0 closing connection ada2fe7eead31-49a5f447e74sm1468349137.7 - gsmtp')"
            ]
          },
          "metadata": {},
          "execution_count": 58
        }
      ]
    },
    {
      "cell_type": "markdown",
      "source": [
        "# Receiving Emails\n",
        "\n",
        "\n",
        "---\n",
        "\n",
        "| Keyword                 | Meaning |\n",
        "| -------------           | ------------- |\n",
        "| 'ALL'                   | Returns all messages of your email, size limits are there. imaplib.MAXLINE = 100|\n",
        "| 'BEFORE date'           | date format = DD-MON-YYYY |\n",
        "| 'ON date'       \t\t  |  |\n",
        "| 'SINCE date'            |  |\n",
        "| 'FROM \"str\"'            |  |\n",
        "| 'TO \"str\"'              |  |\n",
        "| 'SUBJECT \"str\"'         |  |\n",
        "| 'BODY \"str\"'            |  |\n",
        "| 'SEEN','UNSEEN'         |  |\n",
        "| 'ANSWERED','UNANSWERED' |  |\n",
        "| 'DELETED','UNDELETED'   |  |\n",
        "| 'CC '\"str\"','BCC \"str\"' |  |"
      ],
      "metadata": {
        "id": "kFJJw6J_hBkc"
      }
    },
    {
      "cell_type": "code",
      "source": [
        "import imaplib\n",
        "import email"
      ],
      "metadata": {
        "id": "1Idwy5J9VArI"
      },
      "execution_count": 59,
      "outputs": []
    },
    {
      "cell_type": "code",
      "source": [
        "# build the connection\n",
        "M = imaplib.IMAP4_SSL('imap.gmail.com')"
      ],
      "metadata": {
        "id": "smgjy7J-pLk4"
      },
      "execution_count": 60,
      "outputs": []
    },
    {
      "cell_type": "code",
      "source": [
        "# Take the Email and Password from user\n",
        "# email = getpass.getpass(\"Email: \")\n",
        "email = 'niladri.b80@gmail.com'\n",
        "pwd = getpass.getpass(\"Pwd: \") # has to be app password, not your Email password"
      ],
      "metadata": {
        "colab": {
          "base_uri": "https://localhost:8080/"
        },
        "id": "q2GSnKSIpRke",
        "outputId": "056a82d3-45f8-42f5-81a0-b1d48d5fe56d"
      },
      "execution_count": 61,
      "outputs": [
        {
          "name": "stdout",
          "output_type": "stream",
          "text": [
            "Pwd: ··········\n"
          ]
        }
      ]
    },
    {
      "cell_type": "code",
      "source": [
        "# Login into server\n",
        "M.login(email,pwd)"
      ],
      "metadata": {
        "colab": {
          "base_uri": "https://localhost:8080/"
        },
        "id": "Du4iW34rpYNE",
        "outputId": "f8f9019d-a1a5-4c0e-842b-e669d1354a23"
      },
      "execution_count": 62,
      "outputs": [
        {
          "output_type": "execute_result",
          "data": {
            "text/plain": [
              "('OK', [b'niladri.b80@gmail.com authenticated (Success)'])"
            ]
          },
          "metadata": {},
          "execution_count": 62
        }
      ]
    },
    {
      "cell_type": "code",
      "source": [
        "M.list()"
      ],
      "metadata": {
        "colab": {
          "base_uri": "https://localhost:8080/"
        },
        "id": "74cK5JctpYSa",
        "outputId": "beb47ffa-e4c7-4fa9-b6ee-028ce00ed7f2"
      },
      "execution_count": 63,
      "outputs": [
        {
          "output_type": "execute_result",
          "data": {
            "text/plain": [
              "('OK',\n",
              " [b'(\\\\HasNoChildren) \"/\" \"INBOX\"',\n",
              "  b'(\\\\HasNoChildren) \"/\" \"Personal\"',\n",
              "  b'(\\\\HasNoChildren) \"/\" \"Receipts\"',\n",
              "  b'(\\\\HasNoChildren) \"/\" \"Travel\"',\n",
              "  b'(\\\\HasNoChildren) \"/\" \"Work\"',\n",
              "  b'(\\\\HasChildren \\\\Noselect) \"/\" \"[Gmail]\"',\n",
              "  b'(\\\\All \\\\HasNoChildren) \"/\" \"[Gmail]/All Mail\"',\n",
              "  b'(\\\\HasNoChildren) \"/\" \"[Gmail]/Chats\"',\n",
              "  b'(\\\\Drafts \\\\HasNoChildren) \"/\" \"[Gmail]/Drafts\"',\n",
              "  b'(\\\\HasNoChildren \\\\Important) \"/\" \"[Gmail]/Important\"',\n",
              "  b'(\\\\HasNoChildren \\\\Sent) \"/\" \"[Gmail]/Sent Mail\"',\n",
              "  b'(\\\\HasNoChildren \\\\Junk) \"/\" \"[Gmail]/Spam\"',\n",
              "  b'(\\\\Flagged \\\\HasNoChildren) \"/\" \"[Gmail]/Starred\"',\n",
              "  b'(\\\\HasNoChildren \\\\Trash) \"/\" \"[Gmail]/Trash\"'])"
            ]
          },
          "metadata": {},
          "execution_count": 63
        }
      ]
    },
    {
      "cell_type": "code",
      "source": [
        "# select the folder where you want to go in\n",
        "M.select('inbox')"
      ],
      "metadata": {
        "colab": {
          "base_uri": "https://localhost:8080/"
        },
        "id": "4JRxEmZ5phq2",
        "outputId": "b1c16c39-888d-46d3-8843-0f8b98bed7ec"
      },
      "execution_count": 64,
      "outputs": [
        {
          "output_type": "execute_result",
          "data": {
            "text/plain": [
              "('OK', [b'1'])"
            ]
          },
          "metadata": {},
          "execution_count": 64
        }
      ]
    },
    {
      "cell_type": "code",
      "source": [
        "# get the emails scanned\n",
        "typ, data = M.search(None,'ON 02-SEP-2024')"
      ],
      "metadata": {
        "id": "PRDX0wb6pnzO"
      },
      "execution_count": 70,
      "outputs": []
    },
    {
      "cell_type": "code",
      "source": [
        "typ"
      ],
      "metadata": {
        "colab": {
          "base_uri": "https://localhost:8080/",
          "height": 36
        },
        "id": "2KPdOe75pwf5",
        "outputId": "4ebadb1e-4bff-486c-843e-4acaf69a972b"
      },
      "execution_count": 71,
      "outputs": [
        {
          "output_type": "execute_result",
          "data": {
            "text/plain": [
              "'OK'"
            ],
            "application/vnd.google.colaboratory.intrinsic+json": {
              "type": "string"
            }
          },
          "metadata": {},
          "execution_count": 71
        }
      ]
    },
    {
      "cell_type": "code",
      "source": [
        "data"
      ],
      "metadata": {
        "colab": {
          "base_uri": "https://localhost:8080/"
        },
        "id": "6a6wNZdQpxQD",
        "outputId": "8e327086-0a84-4134-d34e-5fffcc1a9da3"
      },
      "execution_count": 72,
      "outputs": [
        {
          "output_type": "execute_result",
          "data": {
            "text/plain": [
              "[b'1']"
            ]
          },
          "metadata": {},
          "execution_count": 72
        }
      ]
    },
    {
      "cell_type": "code",
      "source": [
        "email_id = data[0]"
      ],
      "metadata": {
        "id": "gUx6rKGQpyB_"
      },
      "execution_count": 73,
      "outputs": []
    },
    {
      "cell_type": "code",
      "source": [
        "email_id"
      ],
      "metadata": {
        "colab": {
          "base_uri": "https://localhost:8080/"
        },
        "id": "k5uPOCnYp1KR",
        "outputId": "81a537e1-c997-4746-da66-c661b64c2b92"
      },
      "execution_count": 74,
      "outputs": [
        {
          "output_type": "execute_result",
          "data": {
            "text/plain": [
              "b'1'"
            ]
          },
          "metadata": {},
          "execution_count": 74
        }
      ]
    },
    {
      "cell_type": "code",
      "source": [
        "result, email_data = M.fetch(email_id,'(RFC822)')"
      ],
      "metadata": {
        "id": "_M_DQol6p29e"
      },
      "execution_count": 75,
      "outputs": []
    },
    {
      "cell_type": "code",
      "source": [
        "email_data"
      ],
      "metadata": {
        "colab": {
          "base_uri": "https://localhost:8080/"
        },
        "id": "_Wa89OvvqFPv",
        "outputId": "2a48cba0-8c45-41dd-af83-ba2dde5d19cf"
      },
      "execution_count": 76,
      "outputs": [
        {
          "output_type": "execute_result",
          "data": {
            "text/plain": [
              "[(b'1 (RFC822 {631}',\n",
              "  b'Bcc: niladri.b80@gmail.com\\r\\nReturn-Path: <niladri.b80@gmail.com>\\r\\nReceived: from [172.28.0.12] (213.102.227.35.bc.googleusercontent.com. [35.227.102.213])\\r\\n        by smtp.gmail.com with ESMTPSA id ada2fe7eead31-49a5f447e74sm1468349137.7.2024.09.02.00.29.59\\r\\n        for <niladri.b80@gmail.com>\\r\\n        (version=TLS1_3 cipher=TLS_AES_256_GCM_SHA384 bits=256/256);\\r\\n        Mon, 02 Sep 2024 00:29:59 -0700 (PDT)\\r\\nMessage-ID: <66d56977.670a0220.35dc7f.79e2@mx.google.com>\\r\\nDate: Mon, 02 Sep 2024 00:29:59 -0700 (PDT)\\r\\nFrom: niladri.b80@gmail.com\\r\\nSubject: Test Email for Python\\r\\n\\r\\nYou are doing great in saving the monthly budget.\\r\\n'),\n",
              " b')']"
            ]
          },
          "metadata": {},
          "execution_count": 76
        }
      ]
    },
    {
      "cell_type": "code",
      "source": [
        "raw_email = email_data[0][1]"
      ],
      "metadata": {
        "id": "9SuPi3FeqGY4"
      },
      "execution_count": 77,
      "outputs": []
    },
    {
      "cell_type": "code",
      "source": [
        "raw_email_string = raw_email.decode('utf-8')"
      ],
      "metadata": {
        "id": "Tcs6AFdEqMxE"
      },
      "execution_count": 78,
      "outputs": []
    },
    {
      "cell_type": "code",
      "source": [
        "raw_email_string"
      ],
      "metadata": {
        "colab": {
          "base_uri": "https://localhost:8080/",
          "height": 105
        },
        "id": "ZIP4qVZXqNT8",
        "outputId": "a5c332e3-4565-4c37-c52f-0b34b2f1ee59"
      },
      "execution_count": 79,
      "outputs": [
        {
          "output_type": "execute_result",
          "data": {
            "text/plain": [
              "'Bcc: niladri.b80@gmail.com\\r\\nReturn-Path: <niladri.b80@gmail.com>\\r\\nReceived: from [172.28.0.12] (213.102.227.35.bc.googleusercontent.com. [35.227.102.213])\\r\\n        by smtp.gmail.com with ESMTPSA id ada2fe7eead31-49a5f447e74sm1468349137.7.2024.09.02.00.29.59\\r\\n        for <niladri.b80@gmail.com>\\r\\n        (version=TLS1_3 cipher=TLS_AES_256_GCM_SHA384 bits=256/256);\\r\\n        Mon, 02 Sep 2024 00:29:59 -0700 (PDT)\\r\\nMessage-ID: <66d56977.670a0220.35dc7f.79e2@mx.google.com>\\r\\nDate: Mon, 02 Sep 2024 00:29:59 -0700 (PDT)\\r\\nFrom: niladri.b80@gmail.com\\r\\nSubject: Test Email for Python\\r\\n\\r\\nYou are doing great in saving the monthly budget.\\r\\n'"
            ],
            "application/vnd.google.colaboratory.intrinsic+json": {
              "type": "string"
            }
          },
          "metadata": {},
          "execution_count": 79
        }
      ]
    },
    {
      "cell_type": "code",
      "source": [],
      "metadata": {
        "id": "qJWk1jZlqNee"
      },
      "execution_count": null,
      "outputs": []
    },
    {
      "cell_type": "code",
      "source": [],
      "metadata": {
        "id": "4qAySHtIqNh-"
      },
      "execution_count": null,
      "outputs": []
    },
    {
      "cell_type": "code",
      "source": [],
      "metadata": {
        "id": "ExugO3i8qNlF"
      },
      "execution_count": null,
      "outputs": []
    }
  ]
}