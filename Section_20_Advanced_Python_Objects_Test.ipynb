{
  "cells": [
    {
      "cell_type": "markdown",
      "metadata": {
        "id": "view-in-github",
        "colab_type": "text"
      },
      "source": [
        "<a href=\"https://colab.research.google.com/github/niladribanerjee80/python-udemy-jose/blob/main/Section_20_Advanced_Python_Objects_Test.ipynb\" target=\"_parent\"><img src=\"https://colab.research.google.com/assets/colab-badge.svg\" alt=\"Open In Colab\"/></a>"
      ]
    },
    {
      "cell_type": "markdown",
      "metadata": {
        "id": "PXRhTHViyz1M"
      },
      "source": [
        "# Advanced Python Objects Test"
      ]
    },
    {
      "cell_type": "markdown",
      "metadata": {
        "id": "Cn4oHNqxyz1N"
      },
      "source": [
        "## Advanced Numbers\n",
        "\n",
        "**Problem 1: Convert 1024 to binary and hexadecimal representation**"
      ]
    },
    {
      "cell_type": "code",
      "execution_count": 1,
      "metadata": {
        "colab": {
          "base_uri": "https://localhost:8080/"
        },
        "id": "2gPEQvIRyz1O",
        "outputId": "c9f981f7-a2fc-4dd1-d3fb-38d00fd06b25"
      },
      "outputs": [
        {
          "output_type": "stream",
          "name": "stdout",
          "text": [
            "0b10000000000\n",
            "0x400\n"
          ]
        }
      ],
      "source": [
        "print(bin(1024))\n",
        "print(hex(1024))"
      ]
    },
    {
      "cell_type": "markdown",
      "metadata": {
        "id": "muyz8PRDyz1O"
      },
      "source": [
        "**Problem 2: Round 5.23222 to two decimal places**"
      ]
    },
    {
      "cell_type": "code",
      "execution_count": 2,
      "metadata": {
        "colab": {
          "base_uri": "https://localhost:8080/"
        },
        "id": "OOOcNDXDyz1O",
        "outputId": "b14ff6dd-fc6c-4ee2-e86d-b630a32c715c"
      },
      "outputs": [
        {
          "output_type": "execute_result",
          "data": {
            "text/plain": [
              "5.23"
            ]
          },
          "metadata": {},
          "execution_count": 2
        }
      ],
      "source": [
        "round(5.23222,2)"
      ]
    },
    {
      "cell_type": "markdown",
      "metadata": {
        "id": "H0rh5TzYyz1P"
      },
      "source": [
        "## Advanced Strings\n",
        "**Problem 3: Check if every letter in the string s is lower case**"
      ]
    },
    {
      "cell_type": "code",
      "execution_count": 3,
      "metadata": {
        "colab": {
          "base_uri": "https://localhost:8080/"
        },
        "id": "G3-_cD0Dyz1P",
        "outputId": "ede1a2cd-ad7c-481c-9541-e2f31da014fd"
      },
      "outputs": [
        {
          "output_type": "execute_result",
          "data": {
            "text/plain": [
              "False"
            ]
          },
          "metadata": {},
          "execution_count": 3
        }
      ],
      "source": [
        "s = 'hello how are you Mary, are you feeling okay?'\n",
        "\n",
        "s.islower()"
      ]
    },
    {
      "cell_type": "markdown",
      "metadata": {
        "id": "XQ4snQ8wyz1P"
      },
      "source": [
        "**Problem 4: How many times does the letter 'w' show up in the string below?**"
      ]
    },
    {
      "cell_type": "code",
      "execution_count": 4,
      "metadata": {
        "colab": {
          "base_uri": "https://localhost:8080/"
        },
        "id": "lG2BZj3Vyz1P",
        "outputId": "c187f83a-c30b-4787-f49f-2b0cce94184b"
      },
      "outputs": [
        {
          "output_type": "execute_result",
          "data": {
            "text/plain": [
              "12"
            ]
          },
          "metadata": {},
          "execution_count": 4
        }
      ],
      "source": [
        "s = 'twywywtwywbwhsjhwuwshshwuwwwjdjdid'\n",
        "\n",
        "s.count('w')"
      ]
    },
    {
      "cell_type": "markdown",
      "metadata": {
        "id": "AG2__v6zyz1P"
      },
      "source": [
        "## Advanced Sets\n",
        "**Problem 5: Find the elements in set1 that are not in set2:**"
      ]
    },
    {
      "cell_type": "code",
      "execution_count": 5,
      "metadata": {
        "colab": {
          "base_uri": "https://localhost:8080/"
        },
        "id": "yAXSmV14yz1Q",
        "outputId": "0d5a9f13-43a9-4ad2-f6b4-42622710996c"
      },
      "outputs": [
        {
          "output_type": "execute_result",
          "data": {
            "text/plain": [
              "{2}"
            ]
          },
          "metadata": {},
          "execution_count": 5
        }
      ],
      "source": [
        "set1 = {2,3,1,5,6,8}\n",
        "set2 = {3,1,7,5,6,8}\n",
        "\n",
        "set1.difference(set2)"
      ]
    },
    {
      "cell_type": "markdown",
      "metadata": {
        "id": "lQbiNET_yz1Q"
      },
      "source": [
        "**Problem 6: Find all elements that are in either set:**"
      ]
    },
    {
      "cell_type": "code",
      "execution_count": 6,
      "metadata": {
        "colab": {
          "base_uri": "https://localhost:8080/"
        },
        "id": "fzQwg4bNyz1Q",
        "outputId": "04a30e3a-ed88-451e-dbfd-a83ca191bc23"
      },
      "outputs": [
        {
          "output_type": "execute_result",
          "data": {
            "text/plain": [
              "{1, 2, 3, 5, 6, 7, 8}"
            ]
          },
          "metadata": {},
          "execution_count": 6
        }
      ],
      "source": [
        "set1.union(set2)"
      ]
    },
    {
      "cell_type": "markdown",
      "metadata": {
        "id": "SoXlh90Xyz1Q"
      },
      "source": [
        "## Advanced Dictionaries\n",
        "\n",
        "**Problem 7: Create this dictionary:\n",
        "{0: 0, 1: 1, 2: 8, 3: 27, 4: 64}\n",
        " using a dictionary comprehension.**"
      ]
    },
    {
      "cell_type": "code",
      "execution_count": 8,
      "metadata": {
        "colab": {
          "base_uri": "https://localhost:8080/"
        },
        "id": "EKA4KssCyz1Q",
        "outputId": "ae669a23-03dd-4617-85cf-8afd6d5175b6"
      },
      "outputs": [
        {
          "output_type": "execute_result",
          "data": {
            "text/plain": [
              "{0: 0, 1: 1, 2: 8, 3: 27, 4: 64}"
            ]
          },
          "metadata": {},
          "execution_count": 8
        }
      ],
      "source": [
        "{x:x**3 for x in range(5)}"
      ]
    },
    {
      "cell_type": "markdown",
      "metadata": {
        "id": "Nm3guLBFyz1Q"
      },
      "source": [
        "## Advanced Lists\n",
        "\n",
        "**Problem 8: Reverse the list below:**"
      ]
    },
    {
      "cell_type": "code",
      "execution_count": 10,
      "metadata": {
        "colab": {
          "base_uri": "https://localhost:8080/"
        },
        "id": "ZA0lxvgiyz1Q",
        "outputId": "667967be-661e-4a78-9098-e683a3e908f7"
      },
      "outputs": [
        {
          "output_type": "execute_result",
          "data": {
            "text/plain": [
              "[4, 3, 2, 1]"
            ]
          },
          "metadata": {},
          "execution_count": 10
        }
      ],
      "source": [
        "list1 = [1,2,3,4]\n",
        "\n",
        "list1.reverse()\n",
        "\n",
        "list1"
      ]
    },
    {
      "cell_type": "markdown",
      "metadata": {
        "id": "DDxiRgT-yz1Q"
      },
      "source": [
        "**Problem 9: Sort the list below:**"
      ]
    },
    {
      "cell_type": "code",
      "execution_count": 12,
      "metadata": {
        "colab": {
          "base_uri": "https://localhost:8080/"
        },
        "id": "xDWE8w2wyz1Q",
        "outputId": "c605014e-0a07-4dc4-bedf-c6354f3d10ff"
      },
      "outputs": [
        {
          "output_type": "execute_result",
          "data": {
            "text/plain": [
              "[1, 2, 3, 4, 5]"
            ]
          },
          "metadata": {},
          "execution_count": 12
        }
      ],
      "source": [
        "list2 = [3,4,2,5,1]\n",
        "\n",
        "list2.sort()\n",
        "\n",
        "list2"
      ]
    },
    {
      "cell_type": "markdown",
      "metadata": {
        "id": "QAnDin8iyz1Q"
      },
      "source": [
        "# Great Job!"
      ]
    }
  ],
  "metadata": {
    "kernelspec": {
      "display_name": "Python 3",
      "language": "python",
      "name": "python3"
    },
    "language_info": {
      "codemirror_mode": {
        "name": "ipython",
        "version": 3
      },
      "file_extension": ".py",
      "mimetype": "text/x-python",
      "name": "python",
      "nbconvert_exporter": "python",
      "pygments_lexer": "ipython3",
      "version": "3.6.2"
    },
    "colab": {
      "provenance": [],
      "include_colab_link": true
    }
  },
  "nbformat": 4,
  "nbformat_minor": 0
}