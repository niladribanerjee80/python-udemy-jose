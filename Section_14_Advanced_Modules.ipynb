{
  "nbformat": 4,
  "nbformat_minor": 0,
  "metadata": {
    "colab": {
      "provenance": [],
      "toc_visible": true,
      "authorship_tag": "ABX9TyOQ/YVicFGx0muRm/tkq2M8",
      "include_colab_link": true
    },
    "kernelspec": {
      "name": "python3",
      "display_name": "Python 3"
    },
    "language_info": {
      "name": "python"
    }
  },
  "cells": [
    {
      "cell_type": "markdown",
      "metadata": {
        "id": "view-in-github",
        "colab_type": "text"
      },
      "source": [
        "<a href=\"https://colab.research.google.com/github/niladribanerjee80/python-udemy-jose/blob/main/Section_14_Advanced_Modules.ipynb\" target=\"_parent\"><img src=\"https://colab.research.google.com/assets/colab-badge.svg\" alt=\"Open In Colab\"/></a>"
      ]
    },
    {
      "cell_type": "markdown",
      "source": [
        "# Advanced Python Modules\n",
        "\n",
        "\n",
        "---\n",
        "\n"
      ],
      "metadata": {
        "id": "MXqczgExgjsX"
      }
    },
    {
      "cell_type": "markdown",
      "source": [
        "## Module : Collections\n",
        "\n",
        "* Specialized container types like specialized dicts, tuples"
      ],
      "metadata": {
        "id": "_KRdSRgOgnKJ"
      }
    },
    {
      "cell_type": "markdown",
      "source": [
        "### Counter()"
      ],
      "metadata": {
        "id": "9wo-mRa3-blS"
      }
    },
    {
      "cell_type": "code",
      "execution_count": null,
      "metadata": {
        "id": "yaC7gH22gber"
      },
      "outputs": [],
      "source": [
        "from collections import Counter"
      ]
    },
    {
      "cell_type": "code",
      "source": [
        "mylist = [1,1,1,1,2,2,3,3,3,3]"
      ],
      "metadata": {
        "id": "X1aHA9jjgjLd"
      },
      "execution_count": null,
      "outputs": []
    },
    {
      "cell_type": "markdown",
      "source": [
        "Requirement\n",
        "* how to find out how many 1's, 2's and 3's are there"
      ],
      "metadata": {
        "id": "jzaEDNJnhKnQ"
      }
    },
    {
      "cell_type": "code",
      "source": [
        "Counter(mylist)\n",
        "# Counters are dictionary subclass"
      ],
      "metadata": {
        "colab": {
          "base_uri": "https://localhost:8080/"
        },
        "id": "IZz2RtUjhJGX",
        "outputId": "46b4a2a2-6394-43dd-f341-d944c719b69c"
      },
      "execution_count": null,
      "outputs": [
        {
          "output_type": "execute_result",
          "data": {
            "text/plain": [
              "Counter({1: 4, 2: 2, 3: 4})"
            ]
          },
          "metadata": {},
          "execution_count": 9
        }
      ]
    },
    {
      "cell_type": "code",
      "source": [
        "mylist = ['a','a',10,10,10]\n",
        "Counter(mylist)"
      ],
      "metadata": {
        "colab": {
          "base_uri": "https://localhost:8080/"
        },
        "id": "GptXa01ZhbiN",
        "outputId": "a2446606-28b7-418e-e226-1c7ce0099c4e"
      },
      "execution_count": null,
      "outputs": [
        {
          "output_type": "execute_result",
          "data": {
            "text/plain": [
              "Counter({'a': 2, 10: 3})"
            ]
          },
          "metadata": {},
          "execution_count": 6
        }
      ]
    },
    {
      "cell_type": "code",
      "source": [
        "sentence = \"How many times does each word show up in this sentence with a word\"\n",
        "Counter(sentence.lower().split())"
      ],
      "metadata": {
        "colab": {
          "base_uri": "https://localhost:8080/"
        },
        "id": "ko2tv5xfhiB8",
        "outputId": "f15bfe6c-8f64-4611-99ce-ffa509da57d4"
      },
      "execution_count": null,
      "outputs": [
        {
          "output_type": "execute_result",
          "data": {
            "text/plain": [
              "Counter({'how': 1,\n",
              "         'many': 1,\n",
              "         'times': 1,\n",
              "         'does': 1,\n",
              "         'each': 1,\n",
              "         'word': 2,\n",
              "         'show': 1,\n",
              "         'up': 1,\n",
              "         'in': 1,\n",
              "         'this': 1,\n",
              "         'sentence': 1,\n",
              "         'with': 1,\n",
              "         'a': 1})"
            ]
          },
          "metadata": {},
          "execution_count": 11
        }
      ]
    },
    {
      "cell_type": "code",
      "source": [
        "letters = 'aaabbbbcccccccdddddddddddd'"
      ],
      "metadata": {
        "id": "HuavvMD6iUTY"
      },
      "execution_count": 12,
      "outputs": []
    },
    {
      "cell_type": "code",
      "source": [
        "c = Counter(letters)"
      ],
      "metadata": {
        "id": "MfV0kk7h6HYt"
      },
      "execution_count": 13,
      "outputs": []
    },
    {
      "cell_type": "code",
      "source": [
        "list(c.elements())"
      ],
      "metadata": {
        "colab": {
          "base_uri": "https://localhost:8080/"
        },
        "id": "8QB-2l8X6JbI",
        "outputId": "86f4ebdc-16b9-4b73-e761-f63ec4bd2a1e"
      },
      "execution_count": 15,
      "outputs": [
        {
          "output_type": "execute_result",
          "data": {
            "text/plain": [
              "['a',\n",
              " 'a',\n",
              " 'a',\n",
              " 'b',\n",
              " 'b',\n",
              " 'b',\n",
              " 'b',\n",
              " 'c',\n",
              " 'c',\n",
              " 'c',\n",
              " 'c',\n",
              " 'c',\n",
              " 'c',\n",
              " 'c',\n",
              " 'd',\n",
              " 'd',\n",
              " 'd',\n",
              " 'd',\n",
              " 'd',\n",
              " 'd',\n",
              " 'd',\n",
              " 'd',\n",
              " 'd',\n",
              " 'd',\n",
              " 'd',\n",
              " 'd']"
            ]
          },
          "metadata": {},
          "execution_count": 15
        }
      ]
    },
    {
      "cell_type": "code",
      "source": [
        "for key, values in c.items():\n",
        "    print(f\"what : {key}, frequency : {values}\")"
      ],
      "metadata": {
        "colab": {
          "base_uri": "https://localhost:8080/"
        },
        "id": "eU-pwsWp6L3B",
        "outputId": "a4f11f01-23b2-436a-d272-2f20ff5d0ee5"
      },
      "execution_count": 18,
      "outputs": [
        {
          "output_type": "stream",
          "name": "stdout",
          "text": [
            "what : a, frequency : 3\n",
            "what : b, frequency : 4\n",
            "what : c, frequency : 7\n",
            "what : d, frequency : 12\n"
          ]
        }
      ]
    },
    {
      "cell_type": "code",
      "source": [
        "for a,b in c.most_common():\n",
        "    print(f\"what : {a}, frequency : {b}\")"
      ],
      "metadata": {
        "colab": {
          "base_uri": "https://localhost:8080/"
        },
        "id": "cNEn_Nhj6Q-q",
        "outputId": "37ab3349-fa52-423f-9899-eb13dccec089"
      },
      "execution_count": 20,
      "outputs": [
        {
          "output_type": "stream",
          "name": "stdout",
          "text": [
            "what : d, frequency : 12\n",
            "what : c, frequency : 7\n",
            "what : b, frequency : 4\n",
            "what : a, frequency : 3\n"
          ]
        }
      ]
    },
    {
      "cell_type": "code",
      "source": [
        "# print from most common -> least common and no. of common\n",
        "print(c.most_common(2))"
      ],
      "metadata": {
        "colab": {
          "base_uri": "https://localhost:8080/"
        },
        "id": "Gv-KmsSC6gM5",
        "outputId": "00aab8e3-c072-49d1-ce60-89484fb563b6"
      },
      "execution_count": 21,
      "outputs": [
        {
          "output_type": "stream",
          "name": "stdout",
          "text": [
            "[('d', 12), ('c', 7)]\n"
          ]
        }
      ]
    },
    {
      "cell_type": "code",
      "source": [
        "letters = 'aaabbbbcccccccdddddddddddd'"
      ],
      "metadata": {
        "id": "Dp70ZWr86yNI"
      },
      "execution_count": 29,
      "outputs": []
    },
    {
      "cell_type": "code",
      "source": [
        "c = Counter(letters)"
      ],
      "metadata": {
        "id": "5mWQVHsI7Z8t"
      },
      "execution_count": 30,
      "outputs": []
    },
    {
      "cell_type": "code",
      "source": [
        "# total of all counts\n",
        "sum(c.values())"
      ],
      "metadata": {
        "colab": {
          "base_uri": "https://localhost:8080/"
        },
        "id": "BtMotwXi7qvb",
        "outputId": "2c52ece7-bdfc-4522-e0e7-fccfe14278fc"
      },
      "execution_count": 31,
      "outputs": [
        {
          "output_type": "execute_result",
          "data": {
            "text/plain": [
              "26"
            ]
          },
          "metadata": {},
          "execution_count": 31
        }
      ]
    },
    {
      "cell_type": "code",
      "source": [
        "# List of pairs\n",
        "pairs = [('apple', 3), ('banana', 2), ('orange', 1)]\n",
        "\n",
        "# Create a Counter from the list of pairs\n",
        "counter = Counter(dict(pairs))\n",
        "\n",
        "print(counter)"
      ],
      "metadata": {
        "colab": {
          "base_uri": "https://localhost:8080/"
        },
        "id": "fyEW5wCu7yCJ",
        "outputId": "42ae4cd7-8b5b-47ea-f8ac-d6085ec47571"
      },
      "execution_count": 32,
      "outputs": [
        {
          "output_type": "stream",
          "name": "stdout",
          "text": [
            "Counter({'apple': 3, 'banana': 2, 'orange': 1})\n"
          ]
        }
      ]
    },
    {
      "cell_type": "code",
      "source": [
        "dict(pairs)"
      ],
      "metadata": {
        "colab": {
          "base_uri": "https://localhost:8080/"
        },
        "id": "AUQE4QNW8N8m",
        "outputId": "ad46fbdc-c477-4466-bc0b-3921a25d3735"
      },
      "execution_count": 33,
      "outputs": [
        {
          "output_type": "execute_result",
          "data": {
            "text/plain": [
              "{'apple': 3, 'banana': 2, 'orange': 1}"
            ]
          },
          "metadata": {},
          "execution_count": 33
        }
      ]
    },
    {
      "cell_type": "code",
      "source": [
        "# print from least common -> most common\n",
        "c.most_common()[::-1]"
      ],
      "metadata": {
        "colab": {
          "base_uri": "https://localhost:8080/"
        },
        "id": "oZ2TvcBy8Shj",
        "outputId": "3e619137-e87a-4ac2-99b3-3eb47476736d"
      },
      "execution_count": 35,
      "outputs": [
        {
          "output_type": "execute_result",
          "data": {
            "text/plain": [
              "[('a', 3), ('b', 4), ('c', 7), ('d', 12)]"
            ]
          },
          "metadata": {},
          "execution_count": 35
        }
      ]
    },
    {
      "cell_type": "code",
      "source": [
        "letters = 'aaabbbbcccccccdddddddddddd'"
      ],
      "metadata": {
        "id": "nbDfRcCx8jbE"
      },
      "execution_count": 36,
      "outputs": []
    },
    {
      "cell_type": "code",
      "source": [
        "c = Counter(letters)"
      ],
      "metadata": {
        "id": "HaF1rnOG-EmP"
      },
      "execution_count": 37,
      "outputs": []
    },
    {
      "cell_type": "code",
      "source": [
        "list(c) # unique items"
      ],
      "metadata": {
        "colab": {
          "base_uri": "https://localhost:8080/"
        },
        "id": "7IyPhtnn-H67",
        "outputId": "23513e06-587c-491c-ea44-bdd2430fe98f"
      },
      "execution_count": 38,
      "outputs": [
        {
          "output_type": "execute_result",
          "data": {
            "text/plain": [
              "['a', 'b', 'c', 'd']"
            ]
          },
          "metadata": {},
          "execution_count": 38
        }
      ]
    },
    {
      "cell_type": "code",
      "source": [
        "list(c.elements()) # all items"
      ],
      "metadata": {
        "colab": {
          "base_uri": "https://localhost:8080/"
        },
        "id": "C4ZW6vew-I1Y",
        "outputId": "50383972-d623-47eb-d027-6680ae3e2ff3"
      },
      "execution_count": 39,
      "outputs": [
        {
          "output_type": "execute_result",
          "data": {
            "text/plain": [
              "['a',\n",
              " 'a',\n",
              " 'a',\n",
              " 'b',\n",
              " 'b',\n",
              " 'b',\n",
              " 'b',\n",
              " 'c',\n",
              " 'c',\n",
              " 'c',\n",
              " 'c',\n",
              " 'c',\n",
              " 'c',\n",
              " 'c',\n",
              " 'd',\n",
              " 'd',\n",
              " 'd',\n",
              " 'd',\n",
              " 'd',\n",
              " 'd',\n",
              " 'd',\n",
              " 'd',\n",
              " 'd',\n",
              " 'd',\n",
              " 'd',\n",
              " 'd']"
            ]
          },
          "metadata": {},
          "execution_count": 39
        }
      ]
    },
    {
      "cell_type": "markdown",
      "source": [
        "### defaultdict"
      ],
      "metadata": {
        "id": "CZvWK8Uc-gGx"
      }
    },
    {
      "cell_type": "code",
      "source": [
        "from collections import defaultdict"
      ],
      "metadata": {
        "id": "dwrMcQFH-L4Z"
      },
      "execution_count": 40,
      "outputs": []
    },
    {
      "cell_type": "code",
      "source": [
        "# normal dictionary\n",
        "d = {'a':10}"
      ],
      "metadata": {
        "id": "iMaiDzIK-kSN"
      },
      "execution_count": 41,
      "outputs": []
    },
    {
      "cell_type": "code",
      "source": [
        "d['a']"
      ],
      "metadata": {
        "colab": {
          "base_uri": "https://localhost:8080/"
        },
        "id": "h30u2_Ws-4js",
        "outputId": "f0475574-9e59-480e-82f6-8afc763ae416"
      },
      "execution_count": 42,
      "outputs": [
        {
          "output_type": "execute_result",
          "data": {
            "text/plain": [
              "10"
            ]
          },
          "metadata": {},
          "execution_count": 42
        }
      ]
    },
    {
      "cell_type": "code",
      "source": [
        "d['WRONG']"
      ],
      "metadata": {
        "colab": {
          "base_uri": "https://localhost:8080/",
          "height": 141
        },
        "id": "_5z_h6GP-5hq",
        "outputId": "0bd1c0d5-1819-415b-e197-01c963ceb2c1"
      },
      "execution_count": 43,
      "outputs": [
        {
          "output_type": "error",
          "ename": "KeyError",
          "evalue": "'WRONG'",
          "traceback": [
            "\u001b[0;31m---------------------------------------------------------------------------\u001b[0m",
            "\u001b[0;31mKeyError\u001b[0m                                  Traceback (most recent call last)",
            "\u001b[0;32m<ipython-input-43-4006d83773ae>\u001b[0m in \u001b[0;36m<cell line: 1>\u001b[0;34m()\u001b[0m\n\u001b[0;32m----> 1\u001b[0;31m \u001b[0md\u001b[0m\u001b[0;34m[\u001b[0m\u001b[0;34m'WRONG'\u001b[0m\u001b[0;34m]\u001b[0m\u001b[0;34m\u001b[0m\u001b[0;34m\u001b[0m\u001b[0m\n\u001b[0m",
            "\u001b[0;31mKeyError\u001b[0m: 'WRONG'"
          ]
        }
      ]
    },
    {
      "cell_type": "markdown",
      "source": [
        "* what if we need to create a dictionary that returns a default value for keys that are not present"
      ],
      "metadata": {
        "id": "o3FCIbbv-8yV"
      }
    },
    {
      "cell_type": "code",
      "source": [
        "d = defaultdict(lambda:0)"
      ],
      "metadata": {
        "id": "pRcnESa0-7X5"
      },
      "execution_count": 53,
      "outputs": []
    },
    {
      "cell_type": "code",
      "source": [
        "d['correct'] = 100"
      ],
      "metadata": {
        "id": "cZWJaCOJ_KIV"
      },
      "execution_count": 54,
      "outputs": []
    },
    {
      "cell_type": "code",
      "source": [
        "d['correct']"
      ],
      "metadata": {
        "colab": {
          "base_uri": "https://localhost:8080/"
        },
        "id": "lh3M7K2b_NBX",
        "outputId": "8a3668a3-929a-40de-e485-7a536f3fab4b"
      },
      "execution_count": 55,
      "outputs": [
        {
          "output_type": "execute_result",
          "data": {
            "text/plain": [
              "100"
            ]
          },
          "metadata": {},
          "execution_count": 55
        }
      ]
    },
    {
      "cell_type": "code",
      "source": [
        "d['niladri']"
      ],
      "metadata": {
        "colab": {
          "base_uri": "https://localhost:8080/"
        },
        "id": "2ptM-b95_N7i",
        "outputId": "8092e7cf-16e7-4d6e-9452-3970b00a1b33"
      },
      "execution_count": 56,
      "outputs": [
        {
          "output_type": "execute_result",
          "data": {
            "text/plain": [
              "0"
            ]
          },
          "metadata": {},
          "execution_count": 56
        }
      ]
    },
    {
      "cell_type": "code",
      "source": [
        "for key,values in d.items():\n",
        "    print(key,' : ',values)"
      ],
      "metadata": {
        "colab": {
          "base_uri": "https://localhost:8080/"
        },
        "id": "Buc5XKJF_Ugz",
        "outputId": "4770437f-a372-42c7-b334-f8ce7054e928"
      },
      "execution_count": 57,
      "outputs": [
        {
          "output_type": "stream",
          "name": "stdout",
          "text": [
            "correct  :  100\n",
            "niladri  :  0\n"
          ]
        }
      ]
    },
    {
      "cell_type": "markdown",
      "source": [
        "### namedtuple"
      ],
      "metadata": {
        "id": "YgVEVZ9dAq3I"
      }
    },
    {
      "cell_type": "code",
      "source": [
        "# normal tuple\n",
        "mytuple = (10,20,20)"
      ],
      "metadata": {
        "id": "iKFjsMhd_VXK"
      },
      "execution_count": 58,
      "outputs": []
    },
    {
      "cell_type": "code",
      "source": [
        "mytuple[0]"
      ],
      "metadata": {
        "colab": {
          "base_uri": "https://localhost:8080/"
        },
        "id": "88vQtVufAwdM",
        "outputId": "47c947e6-64eb-424a-ca31-06ff429cb828"
      },
      "execution_count": 59,
      "outputs": [
        {
          "output_type": "execute_result",
          "data": {
            "text/plain": [
              "10"
            ]
          },
          "metadata": {},
          "execution_count": 59
        }
      ]
    },
    {
      "cell_type": "code",
      "source": [
        "from collections import namedtuple"
      ],
      "metadata": {
        "id": "9J3ELuKAAy7T"
      },
      "execution_count": 60,
      "outputs": []
    },
    {
      "cell_type": "code",
      "source": [
        "Dog = namedtuple('Dog',['age','breed','name'])"
      ],
      "metadata": {
        "id": "MBsu07a5A7Ui"
      },
      "execution_count": 61,
      "outputs": []
    },
    {
      "cell_type": "code",
      "source": [
        "sammy = Dog(age=5,breed='Husky',name='Sam')"
      ],
      "metadata": {
        "id": "rKIP1ha2BEyW"
      },
      "execution_count": 62,
      "outputs": []
    },
    {
      "cell_type": "code",
      "source": [
        "sammy\n",
        "# it looks like Dog object with tupled attributes inside it"
      ],
      "metadata": {
        "colab": {
          "base_uri": "https://localhost:8080/"
        },
        "id": "7TQvBJf2BKqg",
        "outputId": "512b3ca1-9cd2-4e69-8ac2-b0cb46ad3c74"
      },
      "execution_count": 67,
      "outputs": [
        {
          "output_type": "execute_result",
          "data": {
            "text/plain": [
              "Dog(age=5, breed='Husky', name='Sam')"
            ]
          },
          "metadata": {},
          "execution_count": 67
        }
      ]
    },
    {
      "cell_type": "code",
      "source": [
        "sammy.name"
      ],
      "metadata": {
        "colab": {
          "base_uri": "https://localhost:8080/",
          "height": 35
        },
        "id": "rJL0eMSWBL7Q",
        "outputId": "8a37ee4c-b640-48ce-a2e4-5f6bbe6a280f"
      },
      "execution_count": 64,
      "outputs": [
        {
          "output_type": "execute_result",
          "data": {
            "text/plain": [
              "'Sam'"
            ],
            "application/vnd.google.colaboratory.intrinsic+json": {
              "type": "string"
            }
          },
          "metadata": {},
          "execution_count": 64
        }
      ]
    },
    {
      "cell_type": "code",
      "source": [
        "sammy.breed"
      ],
      "metadata": {
        "colab": {
          "base_uri": "https://localhost:8080/",
          "height": 35
        },
        "id": "OdCLx32eBNpN",
        "outputId": "8af48eff-d7ed-4465-9718-fed09b1c7956"
      },
      "execution_count": 65,
      "outputs": [
        {
          "output_type": "execute_result",
          "data": {
            "text/plain": [
              "'Husky'"
            ],
            "application/vnd.google.colaboratory.intrinsic+json": {
              "type": "string"
            }
          },
          "metadata": {},
          "execution_count": 65
        }
      ]
    },
    {
      "cell_type": "code",
      "source": [
        "sammy.age"
      ],
      "metadata": {
        "colab": {
          "base_uri": "https://localhost:8080/"
        },
        "id": "zvrUV-sSBPqA",
        "outputId": "242d6091-e267-4e31-fb2b-e14e267130d3"
      },
      "execution_count": 66,
      "outputs": [
        {
          "output_type": "execute_result",
          "data": {
            "text/plain": [
              "5"
            ]
          },
          "metadata": {},
          "execution_count": 66
        }
      ]
    },
    {
      "cell_type": "code",
      "source": [
        "sammy[0]"
      ],
      "metadata": {
        "colab": {
          "base_uri": "https://localhost:8080/"
        },
        "id": "pB5ulhH5BQ1t",
        "outputId": "679973b7-3599-4ab8-b38e-7e92205dee12"
      },
      "execution_count": 68,
      "outputs": [
        {
          "output_type": "execute_result",
          "data": {
            "text/plain": [
              "5"
            ]
          },
          "metadata": {},
          "execution_count": 68
        }
      ]
    },
    {
      "cell_type": "code",
      "source": [
        "sammy[1]"
      ],
      "metadata": {
        "colab": {
          "base_uri": "https://localhost:8080/",
          "height": 35
        },
        "id": "l3clcDk_Bc8N",
        "outputId": "b3d1ad6b-1ada-47a2-8bc8-5b780d443c90"
      },
      "execution_count": 69,
      "outputs": [
        {
          "output_type": "execute_result",
          "data": {
            "text/plain": [
              "'Husky'"
            ],
            "application/vnd.google.colaboratory.intrinsic+json": {
              "type": "string"
            }
          },
          "metadata": {},
          "execution_count": 69
        }
      ]
    },
    {
      "cell_type": "code",
      "source": [
        "sammy[2]"
      ],
      "metadata": {
        "colab": {
          "base_uri": "https://localhost:8080/",
          "height": 35
        },
        "id": "jUeoA-dzBeAq",
        "outputId": "4e74ce0f-c2fa-4c63-e146-df5866d63fd7"
      },
      "execution_count": 70,
      "outputs": [
        {
          "output_type": "execute_result",
          "data": {
            "text/plain": [
              "'Sam'"
            ],
            "application/vnd.google.colaboratory.intrinsic+json": {
              "type": "string"
            }
          },
          "metadata": {},
          "execution_count": 70
        }
      ]
    },
    {
      "cell_type": "markdown",
      "source": [
        "## Module : OS"
      ],
      "metadata": {
        "id": "dhQP5L4LBr6W"
      }
    },
    {
      "cell_type": "code",
      "source": [],
      "metadata": {
        "id": "jUaD3GNVBfON"
      },
      "execution_count": null,
      "outputs": []
    }
  ]
}