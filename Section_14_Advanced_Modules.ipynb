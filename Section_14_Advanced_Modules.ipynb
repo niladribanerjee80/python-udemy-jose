{
  "nbformat": 4,
  "nbformat_minor": 0,
  "metadata": {
    "colab": {
      "provenance": [],
      "authorship_tag": "ABX9TyPgEmvP94FutjtK83wJnGjy",
      "include_colab_link": true
    },
    "kernelspec": {
      "name": "python3",
      "display_name": "Python 3"
    },
    "language_info": {
      "name": "python"
    }
  },
  "cells": [
    {
      "cell_type": "markdown",
      "metadata": {
        "id": "view-in-github",
        "colab_type": "text"
      },
      "source": [
        "<a href=\"https://colab.research.google.com/github/niladribanerjee80/python-udemy-jose/blob/main/Section_14_Advanced_Modules.ipynb\" target=\"_parent\"><img src=\"https://colab.research.google.com/assets/colab-badge.svg\" alt=\"Open In Colab\"/></a>"
      ]
    },
    {
      "cell_type": "markdown",
      "source": [
        "# Advanced Python Modules\n",
        "\n",
        "\n",
        "---\n",
        "\n"
      ],
      "metadata": {
        "id": "MXqczgExgjsX"
      }
    },
    {
      "cell_type": "markdown",
      "source": [
        "## Module : Collections\n",
        "\n",
        "* Specialized container types like specialized dicts, tuples"
      ],
      "metadata": {
        "id": "_KRdSRgOgnKJ"
      }
    },
    {
      "cell_type": "markdown",
      "source": [
        "### Counter()"
      ],
      "metadata": {
        "id": "9wo-mRa3-blS"
      }
    },
    {
      "cell_type": "code",
      "execution_count": null,
      "metadata": {
        "id": "yaC7gH22gber"
      },
      "outputs": [],
      "source": [
        "from collections import Counter"
      ]
    },
    {
      "cell_type": "code",
      "source": [
        "mylist = [1,1,1,1,2,2,3,3,3,3]"
      ],
      "metadata": {
        "id": "X1aHA9jjgjLd"
      },
      "execution_count": null,
      "outputs": []
    },
    {
      "cell_type": "markdown",
      "source": [
        "Requirement\n",
        "* how to find out how many 1's, 2's and 3's are there"
      ],
      "metadata": {
        "id": "jzaEDNJnhKnQ"
      }
    },
    {
      "cell_type": "code",
      "source": [
        "Counter(mylist)\n",
        "# Counters are dictionary subclass"
      ],
      "metadata": {
        "colab": {
          "base_uri": "https://localhost:8080/"
        },
        "id": "IZz2RtUjhJGX",
        "outputId": "46b4a2a2-6394-43dd-f341-d944c719b69c"
      },
      "execution_count": null,
      "outputs": [
        {
          "output_type": "execute_result",
          "data": {
            "text/plain": [
              "Counter({1: 4, 2: 2, 3: 4})"
            ]
          },
          "metadata": {},
          "execution_count": 9
        }
      ]
    },
    {
      "cell_type": "code",
      "source": [
        "mylist = ['a','a',10,10,10]\n",
        "Counter(mylist)"
      ],
      "metadata": {
        "colab": {
          "base_uri": "https://localhost:8080/"
        },
        "id": "GptXa01ZhbiN",
        "outputId": "a2446606-28b7-418e-e226-1c7ce0099c4e"
      },
      "execution_count": null,
      "outputs": [
        {
          "output_type": "execute_result",
          "data": {
            "text/plain": [
              "Counter({'a': 2, 10: 3})"
            ]
          },
          "metadata": {},
          "execution_count": 6
        }
      ]
    },
    {
      "cell_type": "code",
      "source": [
        "sentence = \"How many times does each word show up in this sentence with a word\"\n",
        "Counter(sentence.lower().split())"
      ],
      "metadata": {
        "colab": {
          "base_uri": "https://localhost:8080/"
        },
        "id": "ko2tv5xfhiB8",
        "outputId": "f15bfe6c-8f64-4611-99ce-ffa509da57d4"
      },
      "execution_count": null,
      "outputs": [
        {
          "output_type": "execute_result",
          "data": {
            "text/plain": [
              "Counter({'how': 1,\n",
              "         'many': 1,\n",
              "         'times': 1,\n",
              "         'does': 1,\n",
              "         'each': 1,\n",
              "         'word': 2,\n",
              "         'show': 1,\n",
              "         'up': 1,\n",
              "         'in': 1,\n",
              "         'this': 1,\n",
              "         'sentence': 1,\n",
              "         'with': 1,\n",
              "         'a': 1})"
            ]
          },
          "metadata": {},
          "execution_count": 11
        }
      ]
    },
    {
      "cell_type": "code",
      "source": [
        "letters = 'aaabbbbcccccccdddddddddddd'"
      ],
      "metadata": {
        "id": "HuavvMD6iUTY"
      },
      "execution_count": 12,
      "outputs": []
    },
    {
      "cell_type": "code",
      "source": [
        "c = Counter(letters)"
      ],
      "metadata": {
        "id": "MfV0kk7h6HYt"
      },
      "execution_count": 13,
      "outputs": []
    },
    {
      "cell_type": "code",
      "source": [
        "list(c.elements())"
      ],
      "metadata": {
        "colab": {
          "base_uri": "https://localhost:8080/"
        },
        "id": "8QB-2l8X6JbI",
        "outputId": "86f4ebdc-16b9-4b73-e761-f63ec4bd2a1e"
      },
      "execution_count": 15,
      "outputs": [
        {
          "output_type": "execute_result",
          "data": {
            "text/plain": [
              "['a',\n",
              " 'a',\n",
              " 'a',\n",
              " 'b',\n",
              " 'b',\n",
              " 'b',\n",
              " 'b',\n",
              " 'c',\n",
              " 'c',\n",
              " 'c',\n",
              " 'c',\n",
              " 'c',\n",
              " 'c',\n",
              " 'c',\n",
              " 'd',\n",
              " 'd',\n",
              " 'd',\n",
              " 'd',\n",
              " 'd',\n",
              " 'd',\n",
              " 'd',\n",
              " 'd',\n",
              " 'd',\n",
              " 'd',\n",
              " 'd',\n",
              " 'd']"
            ]
          },
          "metadata": {},
          "execution_count": 15
        }
      ]
    },
    {
      "cell_type": "code",
      "source": [
        "for key, values in c.items():\n",
        "    print(f\"what : {key}, frequency : {values}\")"
      ],
      "metadata": {
        "colab": {
          "base_uri": "https://localhost:8080/"
        },
        "id": "eU-pwsWp6L3B",
        "outputId": "a4f11f01-23b2-436a-d272-2f20ff5d0ee5"
      },
      "execution_count": 18,
      "outputs": [
        {
          "output_type": "stream",
          "name": "stdout",
          "text": [
            "what : a, frequency : 3\n",
            "what : b, frequency : 4\n",
            "what : c, frequency : 7\n",
            "what : d, frequency : 12\n"
          ]
        }
      ]
    },
    {
      "cell_type": "code",
      "source": [
        "for a,b in c.most_common():\n",
        "    print(f\"what : {a}, frequency : {b}\")"
      ],
      "metadata": {
        "colab": {
          "base_uri": "https://localhost:8080/"
        },
        "id": "cNEn_Nhj6Q-q",
        "outputId": "37ab3349-fa52-423f-9899-eb13dccec089"
      },
      "execution_count": 20,
      "outputs": [
        {
          "output_type": "stream",
          "name": "stdout",
          "text": [
            "what : d, frequency : 12\n",
            "what : c, frequency : 7\n",
            "what : b, frequency : 4\n",
            "what : a, frequency : 3\n"
          ]
        }
      ]
    },
    {
      "cell_type": "code",
      "source": [
        "# print from most common -> least common and no. of common\n",
        "print(c.most_common(2))"
      ],
      "metadata": {
        "colab": {
          "base_uri": "https://localhost:8080/"
        },
        "id": "Gv-KmsSC6gM5",
        "outputId": "00aab8e3-c072-49d1-ce60-89484fb563b6"
      },
      "execution_count": 21,
      "outputs": [
        {
          "output_type": "stream",
          "name": "stdout",
          "text": [
            "[('d', 12), ('c', 7)]\n"
          ]
        }
      ]
    },
    {
      "cell_type": "code",
      "source": [
        "letters = 'aaabbbbcccccccdddddddddddd'"
      ],
      "metadata": {
        "id": "Dp70ZWr86yNI"
      },
      "execution_count": 29,
      "outputs": []
    },
    {
      "cell_type": "code",
      "source": [
        "c = Counter(letters)"
      ],
      "metadata": {
        "id": "5mWQVHsI7Z8t"
      },
      "execution_count": 30,
      "outputs": []
    },
    {
      "cell_type": "code",
      "source": [
        "# total of all counts\n",
        "sum(c.values())"
      ],
      "metadata": {
        "colab": {
          "base_uri": "https://localhost:8080/"
        },
        "id": "BtMotwXi7qvb",
        "outputId": "2c52ece7-bdfc-4522-e0e7-fccfe14278fc"
      },
      "execution_count": 31,
      "outputs": [
        {
          "output_type": "execute_result",
          "data": {
            "text/plain": [
              "26"
            ]
          },
          "metadata": {},
          "execution_count": 31
        }
      ]
    },
    {
      "cell_type": "code",
      "source": [
        "# List of pairs\n",
        "pairs = [('apple', 3), ('banana', 2), ('orange', 1)]\n",
        "\n",
        "# Create a Counter from the list of pairs\n",
        "counter = Counter(dict(pairs))\n",
        "\n",
        "print(counter)"
      ],
      "metadata": {
        "colab": {
          "base_uri": "https://localhost:8080/"
        },
        "id": "fyEW5wCu7yCJ",
        "outputId": "42ae4cd7-8b5b-47ea-f8ac-d6085ec47571"
      },
      "execution_count": 32,
      "outputs": [
        {
          "output_type": "stream",
          "name": "stdout",
          "text": [
            "Counter({'apple': 3, 'banana': 2, 'orange': 1})\n"
          ]
        }
      ]
    },
    {
      "cell_type": "code",
      "source": [
        "dict(pairs)"
      ],
      "metadata": {
        "colab": {
          "base_uri": "https://localhost:8080/"
        },
        "id": "AUQE4QNW8N8m",
        "outputId": "ad46fbdc-c477-4466-bc0b-3921a25d3735"
      },
      "execution_count": 33,
      "outputs": [
        {
          "output_type": "execute_result",
          "data": {
            "text/plain": [
              "{'apple': 3, 'banana': 2, 'orange': 1}"
            ]
          },
          "metadata": {},
          "execution_count": 33
        }
      ]
    },
    {
      "cell_type": "code",
      "source": [
        "# print from least common -> most common\n",
        "c.most_common()[::-1]"
      ],
      "metadata": {
        "colab": {
          "base_uri": "https://localhost:8080/"
        },
        "id": "oZ2TvcBy8Shj",
        "outputId": "3e619137-e87a-4ac2-99b3-3eb47476736d"
      },
      "execution_count": 35,
      "outputs": [
        {
          "output_type": "execute_result",
          "data": {
            "text/plain": [
              "[('a', 3), ('b', 4), ('c', 7), ('d', 12)]"
            ]
          },
          "metadata": {},
          "execution_count": 35
        }
      ]
    },
    {
      "cell_type": "code",
      "source": [
        "letters = 'aaabbbbcccccccdddddddddddd'"
      ],
      "metadata": {
        "id": "nbDfRcCx8jbE"
      },
      "execution_count": 36,
      "outputs": []
    },
    {
      "cell_type": "code",
      "source": [
        "c = Counter(letters)"
      ],
      "metadata": {
        "id": "HaF1rnOG-EmP"
      },
      "execution_count": 37,
      "outputs": []
    },
    {
      "cell_type": "code",
      "source": [
        "list(c) # unique items"
      ],
      "metadata": {
        "colab": {
          "base_uri": "https://localhost:8080/"
        },
        "id": "7IyPhtnn-H67",
        "outputId": "23513e06-587c-491c-ea44-bdd2430fe98f"
      },
      "execution_count": 38,
      "outputs": [
        {
          "output_type": "execute_result",
          "data": {
            "text/plain": [
              "['a', 'b', 'c', 'd']"
            ]
          },
          "metadata": {},
          "execution_count": 38
        }
      ]
    },
    {
      "cell_type": "code",
      "source": [
        "list(c.elements()) # all items"
      ],
      "metadata": {
        "colab": {
          "base_uri": "https://localhost:8080/"
        },
        "id": "C4ZW6vew-I1Y",
        "outputId": "50383972-d623-47eb-d027-6680ae3e2ff3"
      },
      "execution_count": 39,
      "outputs": [
        {
          "output_type": "execute_result",
          "data": {
            "text/plain": [
              "['a',\n",
              " 'a',\n",
              " 'a',\n",
              " 'b',\n",
              " 'b',\n",
              " 'b',\n",
              " 'b',\n",
              " 'c',\n",
              " 'c',\n",
              " 'c',\n",
              " 'c',\n",
              " 'c',\n",
              " 'c',\n",
              " 'c',\n",
              " 'd',\n",
              " 'd',\n",
              " 'd',\n",
              " 'd',\n",
              " 'd',\n",
              " 'd',\n",
              " 'd',\n",
              " 'd',\n",
              " 'd',\n",
              " 'd',\n",
              " 'd',\n",
              " 'd']"
            ]
          },
          "metadata": {},
          "execution_count": 39
        }
      ]
    },
    {
      "cell_type": "markdown",
      "source": [
        "### defaultdict"
      ],
      "metadata": {
        "id": "CZvWK8Uc-gGx"
      }
    },
    {
      "cell_type": "code",
      "source": [
        "from collections import defaultdict"
      ],
      "metadata": {
        "id": "dwrMcQFH-L4Z"
      },
      "execution_count": 40,
      "outputs": []
    },
    {
      "cell_type": "code",
      "source": [
        "# normal dictionary\n",
        "d = {'a':10}"
      ],
      "metadata": {
        "id": "iMaiDzIK-kSN"
      },
      "execution_count": 41,
      "outputs": []
    },
    {
      "cell_type": "code",
      "source": [
        "d['a']"
      ],
      "metadata": {
        "colab": {
          "base_uri": "https://localhost:8080/"
        },
        "id": "h30u2_Ws-4js",
        "outputId": "f0475574-9e59-480e-82f6-8afc763ae416"
      },
      "execution_count": 42,
      "outputs": [
        {
          "output_type": "execute_result",
          "data": {
            "text/plain": [
              "10"
            ]
          },
          "metadata": {},
          "execution_count": 42
        }
      ]
    },
    {
      "cell_type": "code",
      "source": [
        "d['WRONG']"
      ],
      "metadata": {
        "colab": {
          "base_uri": "https://localhost:8080/",
          "height": 141
        },
        "id": "_5z_h6GP-5hq",
        "outputId": "0bd1c0d5-1819-415b-e197-01c963ceb2c1"
      },
      "execution_count": 43,
      "outputs": [
        {
          "output_type": "error",
          "ename": "KeyError",
          "evalue": "'WRONG'",
          "traceback": [
            "\u001b[0;31m---------------------------------------------------------------------------\u001b[0m",
            "\u001b[0;31mKeyError\u001b[0m                                  Traceback (most recent call last)",
            "\u001b[0;32m<ipython-input-43-4006d83773ae>\u001b[0m in \u001b[0;36m<cell line: 1>\u001b[0;34m()\u001b[0m\n\u001b[0;32m----> 1\u001b[0;31m \u001b[0md\u001b[0m\u001b[0;34m[\u001b[0m\u001b[0;34m'WRONG'\u001b[0m\u001b[0;34m]\u001b[0m\u001b[0;34m\u001b[0m\u001b[0;34m\u001b[0m\u001b[0m\n\u001b[0m",
            "\u001b[0;31mKeyError\u001b[0m: 'WRONG'"
          ]
        }
      ]
    },
    {
      "cell_type": "markdown",
      "source": [
        "* what if we need to create a dictionary that returns a default value for keys that are not present"
      ],
      "metadata": {
        "id": "o3FCIbbv-8yV"
      }
    },
    {
      "cell_type": "code",
      "source": [
        "d = defaultdict(lambda:0)"
      ],
      "metadata": {
        "id": "pRcnESa0-7X5"
      },
      "execution_count": 53,
      "outputs": []
    },
    {
      "cell_type": "code",
      "source": [
        "d['correct'] = 100"
      ],
      "metadata": {
        "id": "cZWJaCOJ_KIV"
      },
      "execution_count": 54,
      "outputs": []
    },
    {
      "cell_type": "code",
      "source": [
        "d['correct']"
      ],
      "metadata": {
        "colab": {
          "base_uri": "https://localhost:8080/"
        },
        "id": "lh3M7K2b_NBX",
        "outputId": "8a3668a3-929a-40de-e485-7a536f3fab4b"
      },
      "execution_count": 55,
      "outputs": [
        {
          "output_type": "execute_result",
          "data": {
            "text/plain": [
              "100"
            ]
          },
          "metadata": {},
          "execution_count": 55
        }
      ]
    },
    {
      "cell_type": "code",
      "source": [
        "d['niladri']"
      ],
      "metadata": {
        "colab": {
          "base_uri": "https://localhost:8080/"
        },
        "id": "2ptM-b95_N7i",
        "outputId": "8092e7cf-16e7-4d6e-9452-3970b00a1b33"
      },
      "execution_count": 56,
      "outputs": [
        {
          "output_type": "execute_result",
          "data": {
            "text/plain": [
              "0"
            ]
          },
          "metadata": {},
          "execution_count": 56
        }
      ]
    },
    {
      "cell_type": "code",
      "source": [
        "for key,values in d.items():\n",
        "    print(key,' : ',values)"
      ],
      "metadata": {
        "colab": {
          "base_uri": "https://localhost:8080/"
        },
        "id": "Buc5XKJF_Ugz",
        "outputId": "4770437f-a372-42c7-b334-f8ce7054e928"
      },
      "execution_count": 57,
      "outputs": [
        {
          "output_type": "stream",
          "name": "stdout",
          "text": [
            "correct  :  100\n",
            "niladri  :  0\n"
          ]
        }
      ]
    },
    {
      "cell_type": "markdown",
      "source": [
        "### namedtuple"
      ],
      "metadata": {
        "id": "YgVEVZ9dAq3I"
      }
    },
    {
      "cell_type": "code",
      "source": [
        "# normal tuple\n",
        "mytuple = (10,20,20)"
      ],
      "metadata": {
        "id": "iKFjsMhd_VXK"
      },
      "execution_count": 58,
      "outputs": []
    },
    {
      "cell_type": "code",
      "source": [
        "mytuple[0]"
      ],
      "metadata": {
        "colab": {
          "base_uri": "https://localhost:8080/"
        },
        "id": "88vQtVufAwdM",
        "outputId": "47c947e6-64eb-424a-ca31-06ff429cb828"
      },
      "execution_count": 59,
      "outputs": [
        {
          "output_type": "execute_result",
          "data": {
            "text/plain": [
              "10"
            ]
          },
          "metadata": {},
          "execution_count": 59
        }
      ]
    },
    {
      "cell_type": "code",
      "source": [
        "from collections import namedtuple"
      ],
      "metadata": {
        "id": "9J3ELuKAAy7T"
      },
      "execution_count": 60,
      "outputs": []
    },
    {
      "cell_type": "code",
      "source": [
        "Dog = namedtuple('Dog',['age','breed','name'])"
      ],
      "metadata": {
        "id": "MBsu07a5A7Ui"
      },
      "execution_count": 61,
      "outputs": []
    },
    {
      "cell_type": "code",
      "source": [
        "sammy = Dog(age=5,breed='Husky',name='Sam')"
      ],
      "metadata": {
        "id": "rKIP1ha2BEyW"
      },
      "execution_count": 62,
      "outputs": []
    },
    {
      "cell_type": "code",
      "source": [
        "sammy\n",
        "# it looks like Dog object with tupled attributes inside it"
      ],
      "metadata": {
        "colab": {
          "base_uri": "https://localhost:8080/"
        },
        "id": "7TQvBJf2BKqg",
        "outputId": "512b3ca1-9cd2-4e69-8ac2-b0cb46ad3c74"
      },
      "execution_count": 67,
      "outputs": [
        {
          "output_type": "execute_result",
          "data": {
            "text/plain": [
              "Dog(age=5, breed='Husky', name='Sam')"
            ]
          },
          "metadata": {},
          "execution_count": 67
        }
      ]
    },
    {
      "cell_type": "code",
      "source": [
        "sammy.name"
      ],
      "metadata": {
        "colab": {
          "base_uri": "https://localhost:8080/",
          "height": 35
        },
        "id": "rJL0eMSWBL7Q",
        "outputId": "8a37ee4c-b640-48ce-a2e4-5f6bbe6a280f"
      },
      "execution_count": 64,
      "outputs": [
        {
          "output_type": "execute_result",
          "data": {
            "text/plain": [
              "'Sam'"
            ],
            "application/vnd.google.colaboratory.intrinsic+json": {
              "type": "string"
            }
          },
          "metadata": {},
          "execution_count": 64
        }
      ]
    },
    {
      "cell_type": "code",
      "source": [
        "sammy.breed"
      ],
      "metadata": {
        "colab": {
          "base_uri": "https://localhost:8080/",
          "height": 35
        },
        "id": "OdCLx32eBNpN",
        "outputId": "8af48eff-d7ed-4465-9718-fed09b1c7956"
      },
      "execution_count": 65,
      "outputs": [
        {
          "output_type": "execute_result",
          "data": {
            "text/plain": [
              "'Husky'"
            ],
            "application/vnd.google.colaboratory.intrinsic+json": {
              "type": "string"
            }
          },
          "metadata": {},
          "execution_count": 65
        }
      ]
    },
    {
      "cell_type": "code",
      "source": [
        "sammy.age"
      ],
      "metadata": {
        "colab": {
          "base_uri": "https://localhost:8080/"
        },
        "id": "zvrUV-sSBPqA",
        "outputId": "242d6091-e267-4e31-fb2b-e14e267130d3"
      },
      "execution_count": 66,
      "outputs": [
        {
          "output_type": "execute_result",
          "data": {
            "text/plain": [
              "5"
            ]
          },
          "metadata": {},
          "execution_count": 66
        }
      ]
    },
    {
      "cell_type": "code",
      "source": [
        "sammy[0]"
      ],
      "metadata": {
        "colab": {
          "base_uri": "https://localhost:8080/"
        },
        "id": "pB5ulhH5BQ1t",
        "outputId": "679973b7-3599-4ab8-b38e-7e92205dee12"
      },
      "execution_count": 68,
      "outputs": [
        {
          "output_type": "execute_result",
          "data": {
            "text/plain": [
              "5"
            ]
          },
          "metadata": {},
          "execution_count": 68
        }
      ]
    },
    {
      "cell_type": "code",
      "source": [
        "sammy[1]"
      ],
      "metadata": {
        "colab": {
          "base_uri": "https://localhost:8080/",
          "height": 35
        },
        "id": "l3clcDk_Bc8N",
        "outputId": "b3d1ad6b-1ada-47a2-8bc8-5b780d443c90"
      },
      "execution_count": 69,
      "outputs": [
        {
          "output_type": "execute_result",
          "data": {
            "text/plain": [
              "'Husky'"
            ],
            "application/vnd.google.colaboratory.intrinsic+json": {
              "type": "string"
            }
          },
          "metadata": {},
          "execution_count": 69
        }
      ]
    },
    {
      "cell_type": "code",
      "source": [
        "sammy[2]"
      ],
      "metadata": {
        "colab": {
          "base_uri": "https://localhost:8080/",
          "height": 35
        },
        "id": "jUeoA-dzBeAq",
        "outputId": "4e74ce0f-c2fa-4c63-e146-df5866d63fd7"
      },
      "execution_count": 70,
      "outputs": [
        {
          "output_type": "execute_result",
          "data": {
            "text/plain": [
              "'Sam'"
            ],
            "application/vnd.google.colaboratory.intrinsic+json": {
              "type": "string"
            }
          },
          "metadata": {},
          "execution_count": 70
        }
      ]
    },
    {
      "cell_type": "markdown",
      "source": [
        "## Module : OS"
      ],
      "metadata": {
        "id": "dhQP5L4LBr6W"
      }
    },
    {
      "cell_type": "code",
      "source": [
        "# Linux utlity to create multiple folders/subfolders/files at one go\n",
        "#!/bin/bash\n",
        "\n",
        "# prefix = \"niladri\"\n",
        "\n",
        "# for i in {1..5}; do\n",
        "# \tmkdir \"${prefix}_$i\"\n",
        "# \tcd \"${prefix}_$i\"\n",
        "# \ttouch \"my_file_${i}.txt\"\n",
        "# \ttouch \"my_file_$((i+1)).txt\"\n",
        "# \tmkdir \"${prefix}_${i}_sub_${i}\"\n",
        "# \tmkdir \"${prefix}_${i}_sub_$((i+1))\"\n",
        "# \tcd \"${prefix}_${i}_sub_${i}\"\n",
        "# \ttouch \"${prefix}_${i}_sub_${i}_file_1.txt\"\n",
        "# \tcd ..\n",
        "# \tcd \"${prefix}_${i}_sub_$((i+1))\"\n",
        "# \ttouch \"${prefix}_${i}_sub_$((i+1))_file_1.txt\"\n",
        "# \tcd ..\n",
        "# \tcd ..\n",
        "# done"
      ],
      "metadata": {
        "id": "jUaD3GNVBfON"
      },
      "execution_count": 72,
      "outputs": []
    },
    {
      "cell_type": "code",
      "source": [
        "# cd niladri_3"
      ],
      "metadata": {
        "colab": {
          "base_uri": "https://localhost:8080/"
        },
        "id": "kSdOFLO8wXl6",
        "outputId": "7f8f3852-588a-455f-98f8-c3b5ef7d4994"
      },
      "execution_count": 108,
      "outputs": [
        {
          "output_type": "stream",
          "name": "stdout",
          "text": [
            "/content/niladri_3\n"
          ]
        }
      ]
    },
    {
      "cell_type": "code",
      "source": [
        "# !mkdir niladri_3_sub_1\n",
        "# !touch niladri_3_file_1.txt\n",
        "# !touch niladri_3_file_2.txt"
      ],
      "metadata": {
        "id": "lZyDkUTHwxxW"
      },
      "execution_count": 109,
      "outputs": []
    },
    {
      "cell_type": "code",
      "source": [
        "# cd niladri_3_sub_1"
      ],
      "metadata": {
        "colab": {
          "base_uri": "https://localhost:8080/"
        },
        "id": "ZcVVNh7Nw1G7",
        "outputId": "89b5e1d6-1dba-4cd8-86d5-66c9d3bf8d14"
      },
      "execution_count": 110,
      "outputs": [
        {
          "output_type": "stream",
          "name": "stdout",
          "text": [
            "/content/niladri_3/niladri_3_sub_1\n"
          ]
        }
      ]
    },
    {
      "cell_type": "code",
      "source": [
        "# !touch niladri_3_sub_1_file_1.txt\n",
        "# !touch niladri_3_sub_1_file_2.txt"
      ],
      "metadata": {
        "id": "kTSjupKBw4-B"
      },
      "execution_count": 111,
      "outputs": []
    },
    {
      "cell_type": "code",
      "source": [
        "# cd /content"
      ],
      "metadata": {
        "colab": {
          "base_uri": "https://localhost:8080/"
        },
        "id": "YISg3AvEw9h2",
        "outputId": "424ff266-e530-4f7e-cf67-e2bac99790db"
      },
      "execution_count": 112,
      "outputs": [
        {
          "output_type": "stream",
          "name": "stdout",
          "text": [
            "/content\n"
          ]
        }
      ]
    },
    {
      "cell_type": "code",
      "source": [
        "import os"
      ],
      "metadata": {
        "id": "vf8xSOIOxq7o"
      },
      "execution_count": 113,
      "outputs": []
    },
    {
      "cell_type": "markdown",
      "source": [
        "### os.getcwd()"
      ],
      "metadata": {
        "id": "AXVHugt6N3P2"
      }
    },
    {
      "cell_type": "code",
      "source": [
        "# get current directory\n",
        "os.getcwd()"
      ],
      "metadata": {
        "colab": {
          "base_uri": "https://localhost:8080/",
          "height": 35
        },
        "id": "Co9NIYPkx5dj",
        "outputId": "6d2b4404-93bf-4c4f-d604-035aa8d807fb"
      },
      "execution_count": 115,
      "outputs": [
        {
          "output_type": "execute_result",
          "data": {
            "text/plain": [
              "'/content'"
            ],
            "application/vnd.google.colaboratory.intrinsic+json": {
              "type": "string"
            }
          },
          "metadata": {},
          "execution_count": 115
        }
      ]
    },
    {
      "cell_type": "markdown",
      "source": [
        "### os.listdir()"
      ],
      "metadata": {
        "id": "6K4DfTwlN6nw"
      }
    },
    {
      "cell_type": "code",
      "source": [
        "# list current directory\n",
        "os.listdir()"
      ],
      "metadata": {
        "colab": {
          "base_uri": "https://localhost:8080/"
        },
        "id": "8Uq2hqWTxrR2",
        "outputId": "865c25d9-e7bc-4db6-c302-7544efd20c6e"
      },
      "execution_count": 116,
      "outputs": [
        {
          "output_type": "execute_result",
          "data": {
            "text/plain": [
              "['.config', 'niladri_2', 'niladri_1', 'niladri_3', 'sample_data']"
            ]
          },
          "metadata": {},
          "execution_count": 116
        }
      ]
    },
    {
      "cell_type": "code",
      "source": [
        "# list everything in a specific path\n",
        "os.listdir('/content/niladri_1')"
      ],
      "metadata": {
        "colab": {
          "base_uri": "https://localhost:8080/"
        },
        "id": "krsfxPbXxrV0",
        "outputId": "204f9cb5-6230-4257-b27e-f3e572065ca8"
      },
      "execution_count": 117,
      "outputs": [
        {
          "output_type": "execute_result",
          "data": {
            "text/plain": [
              "['niladri_1_sub_1', 'niladri_1_file_1.txt', 'niladri_1_file_2.txt']"
            ]
          },
          "metadata": {},
          "execution_count": 117
        }
      ]
    },
    {
      "cell_type": "markdown",
      "source": [
        "### shutil"
      ],
      "metadata": {
        "id": "iJEWRq7sN_TP"
      }
    },
    {
      "cell_type": "code",
      "source": [
        "# how to move files around or rename files\n",
        "import shutil"
      ],
      "metadata": {
        "id": "ElrmRFYTxrZb"
      },
      "execution_count": 118,
      "outputs": []
    },
    {
      "cell_type": "code",
      "source": [
        "# let me create a file quickly\n",
        "f = open(\"practice.txt\",\"w+\")\n",
        "f.write(\"This is test file\")\n",
        "f.close()"
      ],
      "metadata": {
        "id": "VzCZ8fmoyPkv"
      },
      "execution_count": 119,
      "outputs": []
    },
    {
      "cell_type": "code",
      "source": [
        "os.listdir()\n",
        "# we find practice.txt here"
      ],
      "metadata": {
        "colab": {
          "base_uri": "https://localhost:8080/"
        },
        "id": "IzuOg95Lycrt",
        "outputId": "66d23dd2-484d-466e-fe61-4e318e039231"
      },
      "execution_count": 120,
      "outputs": [
        {
          "output_type": "execute_result",
          "data": {
            "text/plain": [
              "['.config',\n",
              " 'niladri_2',\n",
              " 'niladri_1',\n",
              " 'niladri_3',\n",
              " 'practice.txt',\n",
              " 'sample_data']"
            ]
          },
          "metadata": {},
          "execution_count": 120
        }
      ]
    },
    {
      "cell_type": "code",
      "source": [
        "# move file\n",
        "shutil.move(\"practice.txt\",\"/content/niladri_3\")"
      ],
      "metadata": {
        "colab": {
          "base_uri": "https://localhost:8080/",
          "height": 35
        },
        "id": "SwhaPXOXyenX",
        "outputId": "2fd95556-f7a8-489c-feea-68298e6bc2e0"
      },
      "execution_count": 121,
      "outputs": [
        {
          "output_type": "execute_result",
          "data": {
            "text/plain": [
              "'/content/niladri_3/practice.txt'"
            ],
            "application/vnd.google.colaboratory.intrinsic+json": {
              "type": "string"
            }
          },
          "metadata": {},
          "execution_count": 121
        }
      ]
    },
    {
      "cell_type": "code",
      "source": [
        "os.getcwd()"
      ],
      "metadata": {
        "colab": {
          "base_uri": "https://localhost:8080/",
          "height": 35
        },
        "id": "-Spxb-NpytDL",
        "outputId": "d0a9fded-d383-4034-bf1e-05fefec30ad1"
      },
      "execution_count": 122,
      "outputs": [
        {
          "output_type": "execute_result",
          "data": {
            "text/plain": [
              "'/content'"
            ],
            "application/vnd.google.colaboratory.intrinsic+json": {
              "type": "string"
            }
          },
          "metadata": {},
          "execution_count": 122
        }
      ]
    },
    {
      "cell_type": "code",
      "source": [
        "os.listdir()\n",
        "# no more practice.txt"
      ],
      "metadata": {
        "colab": {
          "base_uri": "https://localhost:8080/"
        },
        "id": "UHjRiYMLywma",
        "outputId": "50bbd2ee-778f-4a8c-e294-0ae2552e720f"
      },
      "execution_count": 123,
      "outputs": [
        {
          "output_type": "execute_result",
          "data": {
            "text/plain": [
              "['.config', 'niladri_2', 'niladri_1', 'niladri_3', 'sample_data']"
            ]
          },
          "metadata": {},
          "execution_count": 123
        }
      ]
    },
    {
      "cell_type": "code",
      "source": [
        "# delete file\n",
        "    # 1. os.unlink(path) - deletes the file\n",
        "    # 2. os.rmdir(path) = deletes a folder, if empty\n",
        "    # 3. shutil.rmtree(path) = deletes folder, subfolders, files forcibly. but dangerous. no recovery\n",
        "\n",
        "# better option is \"send2trash\""
      ],
      "metadata": {
        "id": "CnpHHM3-yyOO"
      },
      "execution_count": 125,
      "outputs": []
    },
    {
      "cell_type": "markdown",
      "source": [
        "### send2trash"
      ],
      "metadata": {
        "id": "2JfPFbXCOEN2"
      }
    },
    {
      "cell_type": "code",
      "source": [
        "import send2trash"
      ],
      "metadata": {
        "id": "6AnD4-GWy1Jx"
      },
      "execution_count": 126,
      "outputs": []
    },
    {
      "cell_type": "code",
      "source": [
        "send2trash.send2trash(\"/content/niladri_3/practice.txt\")\n",
        "# sends to bin\n",
        "# in google colab there is no trash directory though"
      ],
      "metadata": {
        "id": "HOQ0nyCZy1NG"
      },
      "execution_count": 127,
      "outputs": []
    },
    {
      "cell_type": "code",
      "source": [
        "os.listdir(\"/content/niladri_3\")"
      ],
      "metadata": {
        "colab": {
          "base_uri": "https://localhost:8080/"
        },
        "id": "bzmu_fufy1Qs",
        "outputId": "58a37d88-0f47-4caa-b5d3-2e887326e625"
      },
      "execution_count": 128,
      "outputs": [
        {
          "output_type": "execute_result",
          "data": {
            "text/plain": [
              "['niladri_3_file_2.txt', 'niladri_3_file_1.txt', 'niladri_3_sub_1']"
            ]
          },
          "metadata": {},
          "execution_count": 128
        }
      ]
    },
    {
      "cell_type": "markdown",
      "source": [
        "### os.walk"
      ],
      "metadata": {
        "id": "QsmdpxT-OHR5"
      }
    },
    {
      "cell_type": "code",
      "source": [
        "# how to use os.walk\n",
        "\n",
        "for folder, sub_folders, files in os.walk(os.getcwd()):\n",
        "    print(f\"Currently looking at folder : {folder}\")\n",
        "    print(\"\\n\")\n",
        "\n",
        "    print(\"The subfolders are : \")\n",
        "    for sub_fold in sub_folders:\n",
        "        print(f\"\\t sub_folder : {sub_fold}\")\n",
        "\n",
        "    print(\"\\n\")\n",
        "    print(\"The files are : \")\n",
        "    for file in files:\n",
        "        print(f\"\\t file : {file}\")\n",
        "    print(\"\\n\")"
      ],
      "metadata": {
        "colab": {
          "base_uri": "https://localhost:8080/"
        },
        "id": "ToYNghOCy1UE",
        "outputId": "f4b820bb-6393-4c85-ef89-08121f99e8cf"
      },
      "execution_count": 129,
      "outputs": [
        {
          "output_type": "stream",
          "name": "stdout",
          "text": [
            "Currently looking at folder : /content\n",
            "\n",
            "\n",
            "The subfolders are : \n",
            "\t sub_folder : .config\n",
            "\t sub_folder : niladri_2\n",
            "\t sub_folder : niladri_1\n",
            "\t sub_folder : niladri_3\n",
            "\t sub_folder : sample_data\n",
            "\n",
            "\n",
            "The files are : \n",
            "\n",
            "\n",
            "Currently looking at folder : /content/.config\n",
            "\n",
            "\n",
            "The subfolders are : \n",
            "\t sub_folder : configurations\n",
            "\t sub_folder : logs\n",
            "\n",
            "\n",
            "The files are : \n",
            "\t file : active_config\n",
            "\t file : .last_survey_prompt.yaml\n",
            "\t file : hidden_gcloud_config_universe_descriptor_data_cache_configs.db\n",
            "\t file : .last_update_check.json\n",
            "\t file : gce\n",
            "\t file : default_configs.db\n",
            "\t file : config_sentinel\n",
            "\t file : .last_opt_in_prompt.yaml\n",
            "\n",
            "\n",
            "Currently looking at folder : /content/.config/configurations\n",
            "\n",
            "\n",
            "The subfolders are : \n",
            "\n",
            "\n",
            "The files are : \n",
            "\t file : config_default\n",
            "\n",
            "\n",
            "Currently looking at folder : /content/.config/logs\n",
            "\n",
            "\n",
            "The subfolders are : \n",
            "\t sub_folder : 2024.08.20\n",
            "\n",
            "\n",
            "The files are : \n",
            "\n",
            "\n",
            "Currently looking at folder : /content/.config/logs/2024.08.20\n",
            "\n",
            "\n",
            "The subfolders are : \n",
            "\n",
            "\n",
            "The files are : \n",
            "\t file : 13.22.15.672156.log\n",
            "\t file : 13.22.36.767385.log\n",
            "\t file : 13.22.47.953569.log\n",
            "\t file : 13.23.00.991631.log\n",
            "\t file : 13.22.49.061463.log\n",
            "\t file : 13.23.00.247685.log\n",
            "\n",
            "\n",
            "Currently looking at folder : /content/niladri_2\n",
            "\n",
            "\n",
            "The subfolders are : \n",
            "\t sub_folder : niladri_2_sub_1\n",
            "\n",
            "\n",
            "The files are : \n",
            "\t file : niladri_2_file_1.txt\n",
            "\t file : niladri_2_file_2.txt\n",
            "\n",
            "\n",
            "Currently looking at folder : /content/niladri_2/niladri_2_sub_1\n",
            "\n",
            "\n",
            "The subfolders are : \n",
            "\n",
            "\n",
            "The files are : \n",
            "\t file : niladri_2_sub_1_file_2.txt\n",
            "\t file : niladri_2_sub_1_file_1.txt\n",
            "\n",
            "\n",
            "Currently looking at folder : /content/niladri_1\n",
            "\n",
            "\n",
            "The subfolders are : \n",
            "\t sub_folder : niladri_1_sub_1\n",
            "\n",
            "\n",
            "The files are : \n",
            "\t file : niladri_1_file_1.txt\n",
            "\t file : niladri_1_file_2.txt\n",
            "\n",
            "\n",
            "Currently looking at folder : /content/niladri_1/niladri_1_sub_1\n",
            "\n",
            "\n",
            "The subfolders are : \n",
            "\n",
            "\n",
            "The files are : \n",
            "\t file : niladri_1_sub_1_file_1.txt\n",
            "\t file : niladri_1_sub_1_file_2.txt\n",
            "\n",
            "\n",
            "Currently looking at folder : /content/niladri_3\n",
            "\n",
            "\n",
            "The subfolders are : \n",
            "\t sub_folder : niladri_3_sub_1\n",
            "\n",
            "\n",
            "The files are : \n",
            "\t file : niladri_3_file_2.txt\n",
            "\t file : niladri_3_file_1.txt\n",
            "\n",
            "\n",
            "Currently looking at folder : /content/niladri_3/niladri_3_sub_1\n",
            "\n",
            "\n",
            "The subfolders are : \n",
            "\n",
            "\n",
            "The files are : \n",
            "\t file : niladri_3_sub_1_file_1.txt\n",
            "\t file : niladri_3_sub_1_file_2.txt\n",
            "\n",
            "\n",
            "Currently looking at folder : /content/sample_data\n",
            "\n",
            "\n",
            "The subfolders are : \n",
            "\n",
            "\n",
            "The files are : \n",
            "\t file : anscombe.json\n",
            "\t file : README.md\n",
            "\t file : mnist_train_small.csv\n",
            "\t file : california_housing_test.csv\n",
            "\t file : mnist_test.csv\n",
            "\t file : california_housing_train.csv\n",
            "\n",
            "\n"
          ]
        }
      ]
    },
    {
      "cell_type": "markdown",
      "source": [
        "## Module : Datetime"
      ],
      "metadata": {
        "id": "DCRgiPAqNtAo"
      }
    },
    {
      "cell_type": "code",
      "source": [
        "import datetime"
      ],
      "metadata": {
        "id": "png9RaK50sE8"
      },
      "execution_count": 1,
      "outputs": []
    },
    {
      "cell_type": "code",
      "source": [
        "mytime = datetime.time(18,45)\n",
        "# hrs,min,sec,microsec"
      ],
      "metadata": {
        "id": "jH8AGv2Oy1XW"
      },
      "execution_count": 6,
      "outputs": []
    },
    {
      "cell_type": "code",
      "source": [
        "mytime.hour"
      ],
      "metadata": {
        "colab": {
          "base_uri": "https://localhost:8080/"
        },
        "id": "MwirFH5ey1bl",
        "outputId": "a52d4e93-ac91-48fa-cddb-3f522dc2585b"
      },
      "execution_count": 3,
      "outputs": [
        {
          "output_type": "execute_result",
          "data": {
            "text/plain": [
              "18"
            ]
          },
          "metadata": {},
          "execution_count": 3
        }
      ]
    },
    {
      "cell_type": "code",
      "source": [
        "mytime.isoformat()"
      ],
      "metadata": {
        "colab": {
          "base_uri": "https://localhost:8080/",
          "height": 35
        },
        "id": "2jog3Jf0y1fO",
        "outputId": "2aedca60-d31d-4649-f424-4aa4a8fc9415"
      },
      "execution_count": 4,
      "outputs": [
        {
          "output_type": "execute_result",
          "data": {
            "text/plain": [
              "'18:45:00'"
            ],
            "application/vnd.google.colaboratory.intrinsic+json": {
              "type": "string"
            }
          },
          "metadata": {},
          "execution_count": 4
        }
      ]
    },
    {
      "cell_type": "code",
      "source": [
        "mytime.minute"
      ],
      "metadata": {
        "colab": {
          "base_uri": "https://localhost:8080/"
        },
        "id": "9xuBK5why1iV",
        "outputId": "e633ce02-f7a2-4a4b-ed84-312f615f6554"
      },
      "execution_count": 5,
      "outputs": [
        {
          "output_type": "execute_result",
          "data": {
            "text/plain": [
              "45"
            ]
          },
          "metadata": {},
          "execution_count": 5
        }
      ]
    },
    {
      "cell_type": "code",
      "source": [
        "today = datetime.date.today()"
      ],
      "metadata": {
        "id": "vudrao8CO1sh"
      },
      "execution_count": 9,
      "outputs": []
    },
    {
      "cell_type": "code",
      "source": [
        "print(today)\n",
        "# format : YYYY-MM-DD"
      ],
      "metadata": {
        "colab": {
          "base_uri": "https://localhost:8080/"
        },
        "id": "kJEWuAiSPJvd",
        "outputId": "eff8577a-7268-4882-9767-c4b5002446b1"
      },
      "execution_count": 11,
      "outputs": [
        {
          "output_type": "stream",
          "name": "stdout",
          "text": [
            "2024-08-22\n"
          ]
        }
      ]
    },
    {
      "cell_type": "code",
      "source": [
        "today.year"
      ],
      "metadata": {
        "colab": {
          "base_uri": "https://localhost:8080/"
        },
        "id": "T4siqAJYPR1t",
        "outputId": "72c5ad0f-d77f-4525-e62d-659b90d12308"
      },
      "execution_count": 12,
      "outputs": [
        {
          "output_type": "execute_result",
          "data": {
            "text/plain": [
              "2024"
            ]
          },
          "metadata": {},
          "execution_count": 12
        }
      ]
    },
    {
      "cell_type": "code",
      "source": [
        "today.month"
      ],
      "metadata": {
        "colab": {
          "base_uri": "https://localhost:8080/"
        },
        "id": "ZNm-WuX4PeYm",
        "outputId": "85a480d3-6079-4d37-f5fc-13530c44eb4b"
      },
      "execution_count": 13,
      "outputs": [
        {
          "output_type": "execute_result",
          "data": {
            "text/plain": [
              "8"
            ]
          },
          "metadata": {},
          "execution_count": 13
        }
      ]
    },
    {
      "cell_type": "code",
      "source": [
        "today.day"
      ],
      "metadata": {
        "colab": {
          "base_uri": "https://localhost:8080/"
        },
        "id": "iPK9SqxnPgRj",
        "outputId": "12de2903-eafb-4e0b-b71c-ee8a7dcb99c4"
      },
      "execution_count": 15,
      "outputs": [
        {
          "output_type": "execute_result",
          "data": {
            "text/plain": [
              "22"
            ]
          },
          "metadata": {},
          "execution_count": 15
        }
      ]
    },
    {
      "cell_type": "code",
      "source": [
        "today.ctime()\n",
        "# some databases store time in this format"
      ],
      "metadata": {
        "colab": {
          "base_uri": "https://localhost:8080/",
          "height": 35
        },
        "id": "MmGABVuyPhvF",
        "outputId": "6c6ac373-550d-4d87-b428-62e9b638765d"
      },
      "execution_count": 16,
      "outputs": [
        {
          "output_type": "execute_result",
          "data": {
            "text/plain": [
              "'Thu Aug 22 00:00:00 2024'"
            ],
            "application/vnd.google.colaboratory.intrinsic+json": {
              "type": "string"
            }
          },
          "metadata": {},
          "execution_count": 16
        }
      ]
    },
    {
      "cell_type": "code",
      "source": [
        "from datetime import datetime"
      ],
      "metadata": {
        "id": "p4PpSW2SPoHx"
      },
      "execution_count": 17,
      "outputs": []
    },
    {
      "cell_type": "code",
      "source": [
        "mydatetime = datetime(today.year,today.month,today.day,18,52,20)"
      ],
      "metadata": {
        "id": "2n7ZtPGdPxA_"
      },
      "execution_count": 22,
      "outputs": []
    },
    {
      "cell_type": "code",
      "source": [
        "print(mydatetime)"
      ],
      "metadata": {
        "colab": {
          "base_uri": "https://localhost:8080/"
        },
        "id": "LNhvHpREPxEq",
        "outputId": "8e3aa542-f263-4a25-b44f-0946a8ba49be"
      },
      "execution_count": 23,
      "outputs": [
        {
          "output_type": "stream",
          "name": "stdout",
          "text": [
            "2024-08-22 18:52:20\n"
          ]
        }
      ]
    },
    {
      "cell_type": "code",
      "source": [
        "mydatetime = mydatetime.replace(year=2025)"
      ],
      "metadata": {
        "id": "7XzkK1xrPxH6"
      },
      "execution_count": 24,
      "outputs": []
    },
    {
      "cell_type": "code",
      "source": [
        "print(mydatetime)"
      ],
      "metadata": {
        "colab": {
          "base_uri": "https://localhost:8080/"
        },
        "id": "9VS-yVMUPxLU",
        "outputId": "a0d02b30-fcee-4af9-e785-21dfb0a990d6"
      },
      "execution_count": 25,
      "outputs": [
        {
          "output_type": "stream",
          "name": "stdout",
          "text": [
            "2025-08-22 18:52:20\n"
          ]
        }
      ]
    },
    {
      "cell_type": "code",
      "source": [
        "mydatetime = mydatetime.replace(year=9999)"
      ],
      "metadata": {
        "id": "PSiYy5RZPxOj"
      },
      "execution_count": 29,
      "outputs": []
    },
    {
      "cell_type": "code",
      "source": [
        "print(mydatetime)"
      ],
      "metadata": {
        "colab": {
          "base_uri": "https://localhost:8080/"
        },
        "id": "8kjer2snPxRk",
        "outputId": "5c568ba9-c8a2-4d50-8e28-dfc48b5d7735"
      },
      "execution_count": 30,
      "outputs": [
        {
          "output_type": "stream",
          "name": "stdout",
          "text": [
            "9999-08-22 18:52:20\n"
          ]
        }
      ]
    },
    {
      "cell_type": "code",
      "source": [
        "# date arithmetic\n",
        "from datetime import date"
      ],
      "metadata": {
        "id": "LK3mOus-QzER"
      },
      "execution_count": 31,
      "outputs": []
    },
    {
      "cell_type": "code",
      "source": [
        "date1 = date(2021,11,3)\n",
        "date2 = date(2020,12,15)"
      ],
      "metadata": {
        "id": "tiiCf0W_RHFg"
      },
      "execution_count": 40,
      "outputs": []
    },
    {
      "cell_type": "code",
      "source": [
        "result = date1 - date2"
      ],
      "metadata": {
        "id": "4VzvGZlvROCJ"
      },
      "execution_count": 41,
      "outputs": []
    },
    {
      "cell_type": "code",
      "source": [
        "type(result)"
      ],
      "metadata": {
        "colab": {
          "base_uri": "https://localhost:8080/"
        },
        "id": "hqL9RyZ0RP2m",
        "outputId": "20e73260-0e3b-4101-f4d3-8fd0cafc6143"
      },
      "execution_count": 42,
      "outputs": [
        {
          "output_type": "execute_result",
          "data": {
            "text/plain": [
              "datetime.timedelta"
            ]
          },
          "metadata": {},
          "execution_count": 42
        }
      ]
    },
    {
      "cell_type": "code",
      "source": [
        "result.days"
      ],
      "metadata": {
        "colab": {
          "base_uri": "https://localhost:8080/"
        },
        "id": "u3uOG58TReSn",
        "outputId": "141d0432-5655-4a20-c5e5-ab0cda9b7c9e"
      },
      "execution_count": 43,
      "outputs": [
        {
          "output_type": "execute_result",
          "data": {
            "text/plain": [
              "323"
            ]
          },
          "metadata": {},
          "execution_count": 43
        }
      ]
    },
    {
      "cell_type": "code",
      "source": [
        "# datetime arithmetic\n",
        "from datetime import datetime"
      ],
      "metadata": {
        "id": "l6jZ3EBmRfv-"
      },
      "execution_count": 44,
      "outputs": []
    },
    {
      "cell_type": "code",
      "source": [
        "datetime1 = datetime(2024,8,22,19,1,2)"
      ],
      "metadata": {
        "id": "K6x7t580Ryd6"
      },
      "execution_count": 46,
      "outputs": []
    },
    {
      "cell_type": "code",
      "source": [
        "datetime2 = datetime(2024,1,1,18,10,22)"
      ],
      "metadata": {
        "id": "AepMYPrZR7ea"
      },
      "execution_count": 47,
      "outputs": []
    },
    {
      "cell_type": "code",
      "source": [
        "result = datetime1 - datetime2"
      ],
      "metadata": {
        "id": "qElUQCNTSDj7"
      },
      "execution_count": 48,
      "outputs": []
    },
    {
      "cell_type": "code",
      "source": [
        "type(result)"
      ],
      "metadata": {
        "colab": {
          "base_uri": "https://localhost:8080/"
        },
        "id": "LWZ1PKnCSF0T",
        "outputId": "5c76525e-bc5d-4b71-cf77-5f556c42b6b2"
      },
      "execution_count": 49,
      "outputs": [
        {
          "output_type": "execute_result",
          "data": {
            "text/plain": [
              "datetime.timedelta"
            ]
          },
          "metadata": {},
          "execution_count": 49
        }
      ]
    },
    {
      "cell_type": "code",
      "source": [
        "result.days"
      ],
      "metadata": {
        "colab": {
          "base_uri": "https://localhost:8080/"
        },
        "id": "4_Wv3LTjSHDu",
        "outputId": "ebc22745-fcc9-4ba2-dc96-046371f3a773"
      },
      "execution_count": 50,
      "outputs": [
        {
          "output_type": "execute_result",
          "data": {
            "text/plain": [
              "234"
            ]
          },
          "metadata": {},
          "execution_count": 50
        }
      ]
    },
    {
      "cell_type": "code",
      "source": [
        "result.seconds\n",
        "# difference of time only in seconds"
      ],
      "metadata": {
        "colab": {
          "base_uri": "https://localhost:8080/"
        },
        "id": "iX7z9MlsSI8K",
        "outputId": "1102f437-adde-4caa-cd03-039407b6c332"
      },
      "execution_count": 51,
      "outputs": [
        {
          "output_type": "execute_result",
          "data": {
            "text/plain": [
              "3040"
            ]
          },
          "metadata": {},
          "execution_count": 51
        }
      ]
    },
    {
      "cell_type": "code",
      "source": [
        "result.seconds/60/60 # in hours"
      ],
      "metadata": {
        "colab": {
          "base_uri": "https://localhost:8080/"
        },
        "id": "u2jfWpgnSfUp",
        "outputId": "696d4a82-10ef-4409-d405-7be236401ab8"
      },
      "execution_count": 52,
      "outputs": [
        {
          "output_type": "execute_result",
          "data": {
            "text/plain": [
              "0.8444444444444444"
            ]
          },
          "metadata": {},
          "execution_count": 52
        }
      ]
    },
    {
      "cell_type": "markdown",
      "source": [
        "## Module : Random and Math"
      ],
      "metadata": {
        "id": "yFjdlyy9S4D2"
      }
    },
    {
      "cell_type": "markdown",
      "source": [
        "### math"
      ],
      "metadata": {
        "id": "2qFRBJmDVYVJ"
      }
    },
    {
      "cell_type": "code",
      "source": [
        "import math"
      ],
      "metadata": {
        "id": "V1oLhFFISnBq"
      },
      "execution_count": 53,
      "outputs": []
    },
    {
      "cell_type": "code",
      "source": [
        "help(math)"
      ],
      "metadata": {
        "colab": {
          "base_uri": "https://localhost:8080/"
        },
        "id": "cVCG4G-VTK3o",
        "outputId": "c8aaab3c-93cd-4b80-8027-77a4a458208b"
      },
      "execution_count": 55,
      "outputs": [
        {
          "output_type": "stream",
          "name": "stdout",
          "text": [
            "Help on built-in module math:\n",
            "\n",
            "NAME\n",
            "    math\n",
            "\n",
            "DESCRIPTION\n",
            "    This module provides access to the mathematical functions\n",
            "    defined by the C standard.\n",
            "\n",
            "FUNCTIONS\n",
            "    acos(x, /)\n",
            "        Return the arc cosine (measured in radians) of x.\n",
            "        \n",
            "        The result is between 0 and pi.\n",
            "    \n",
            "    acosh(x, /)\n",
            "        Return the inverse hyperbolic cosine of x.\n",
            "    \n",
            "    asin(x, /)\n",
            "        Return the arc sine (measured in radians) of x.\n",
            "        \n",
            "        The result is between -pi/2 and pi/2.\n",
            "    \n",
            "    asinh(x, /)\n",
            "        Return the inverse hyperbolic sine of x.\n",
            "    \n",
            "    atan(x, /)\n",
            "        Return the arc tangent (measured in radians) of x.\n",
            "        \n",
            "        The result is between -pi/2 and pi/2.\n",
            "    \n",
            "    atan2(y, x, /)\n",
            "        Return the arc tangent (measured in radians) of y/x.\n",
            "        \n",
            "        Unlike atan(y/x), the signs of both x and y are considered.\n",
            "    \n",
            "    atanh(x, /)\n",
            "        Return the inverse hyperbolic tangent of x.\n",
            "    \n",
            "    ceil(x, /)\n",
            "        Return the ceiling of x as an Integral.\n",
            "        \n",
            "        This is the smallest integer >= x.\n",
            "    \n",
            "    comb(n, k, /)\n",
            "        Number of ways to choose k items from n items without repetition and without order.\n",
            "        \n",
            "        Evaluates to n! / (k! * (n - k)!) when k <= n and evaluates\n",
            "        to zero when k > n.\n",
            "        \n",
            "        Also called the binomial coefficient because it is equivalent\n",
            "        to the coefficient of k-th term in polynomial expansion of the\n",
            "        expression (1 + x)**n.\n",
            "        \n",
            "        Raises TypeError if either of the arguments are not integers.\n",
            "        Raises ValueError if either of the arguments are negative.\n",
            "    \n",
            "    copysign(x, y, /)\n",
            "        Return a float with the magnitude (absolute value) of x but the sign of y.\n",
            "        \n",
            "        On platforms that support signed zeros, copysign(1.0, -0.0)\n",
            "        returns -1.0.\n",
            "    \n",
            "    cos(x, /)\n",
            "        Return the cosine of x (measured in radians).\n",
            "    \n",
            "    cosh(x, /)\n",
            "        Return the hyperbolic cosine of x.\n",
            "    \n",
            "    degrees(x, /)\n",
            "        Convert angle x from radians to degrees.\n",
            "    \n",
            "    dist(p, q, /)\n",
            "        Return the Euclidean distance between two points p and q.\n",
            "        \n",
            "        The points should be specified as sequences (or iterables) of\n",
            "        coordinates.  Both inputs must have the same dimension.\n",
            "        \n",
            "        Roughly equivalent to:\n",
            "            sqrt(sum((px - qx) ** 2.0 for px, qx in zip(p, q)))\n",
            "    \n",
            "    erf(x, /)\n",
            "        Error function at x.\n",
            "    \n",
            "    erfc(x, /)\n",
            "        Complementary error function at x.\n",
            "    \n",
            "    exp(x, /)\n",
            "        Return e raised to the power of x.\n",
            "    \n",
            "    expm1(x, /)\n",
            "        Return exp(x)-1.\n",
            "        \n",
            "        This function avoids the loss of precision involved in the direct evaluation of exp(x)-1 for small x.\n",
            "    \n",
            "    fabs(x, /)\n",
            "        Return the absolute value of the float x.\n",
            "    \n",
            "    factorial(x, /)\n",
            "        Find x!.\n",
            "        \n",
            "        Raise a ValueError if x is negative or non-integral.\n",
            "    \n",
            "    floor(x, /)\n",
            "        Return the floor of x as an Integral.\n",
            "        \n",
            "        This is the largest integer <= x.\n",
            "    \n",
            "    fmod(x, y, /)\n",
            "        Return fmod(x, y), according to platform C.\n",
            "        \n",
            "        x % y may differ.\n",
            "    \n",
            "    frexp(x, /)\n",
            "        Return the mantissa and exponent of x, as pair (m, e).\n",
            "        \n",
            "        m is a float and e is an int, such that x = m * 2.**e.\n",
            "        If x is 0, m and e are both 0.  Else 0.5 <= abs(m) < 1.0.\n",
            "    \n",
            "    fsum(seq, /)\n",
            "        Return an accurate floating point sum of values in the iterable seq.\n",
            "        \n",
            "        Assumes IEEE-754 floating point arithmetic.\n",
            "    \n",
            "    gamma(x, /)\n",
            "        Gamma function at x.\n",
            "    \n",
            "    gcd(*integers)\n",
            "        Greatest Common Divisor.\n",
            "    \n",
            "    hypot(...)\n",
            "        hypot(*coordinates) -> value\n",
            "        \n",
            "        Multidimensional Euclidean distance from the origin to a point.\n",
            "        \n",
            "        Roughly equivalent to:\n",
            "            sqrt(sum(x**2 for x in coordinates))\n",
            "        \n",
            "        For a two dimensional point (x, y), gives the hypotenuse\n",
            "        using the Pythagorean theorem:  sqrt(x*x + y*y).\n",
            "        \n",
            "        For example, the hypotenuse of a 3/4/5 right triangle is:\n",
            "        \n",
            "            >>> hypot(3.0, 4.0)\n",
            "            5.0\n",
            "    \n",
            "    isclose(a, b, *, rel_tol=1e-09, abs_tol=0.0)\n",
            "        Determine whether two floating point numbers are close in value.\n",
            "        \n",
            "          rel_tol\n",
            "            maximum difference for being considered \"close\", relative to the\n",
            "            magnitude of the input values\n",
            "          abs_tol\n",
            "            maximum difference for being considered \"close\", regardless of the\n",
            "            magnitude of the input values\n",
            "        \n",
            "        Return True if a is close in value to b, and False otherwise.\n",
            "        \n",
            "        For the values to be considered close, the difference between them\n",
            "        must be smaller than at least one of the tolerances.\n",
            "        \n",
            "        -inf, inf and NaN behave similarly to the IEEE 754 Standard.  That\n",
            "        is, NaN is not close to anything, even itself.  inf and -inf are\n",
            "        only close to themselves.\n",
            "    \n",
            "    isfinite(x, /)\n",
            "        Return True if x is neither an infinity nor a NaN, and False otherwise.\n",
            "    \n",
            "    isinf(x, /)\n",
            "        Return True if x is a positive or negative infinity, and False otherwise.\n",
            "    \n",
            "    isnan(x, /)\n",
            "        Return True if x is a NaN (not a number), and False otherwise.\n",
            "    \n",
            "    isqrt(n, /)\n",
            "        Return the integer part of the square root of the input.\n",
            "    \n",
            "    lcm(*integers)\n",
            "        Least Common Multiple.\n",
            "    \n",
            "    ldexp(x, i, /)\n",
            "        Return x * (2**i).\n",
            "        \n",
            "        This is essentially the inverse of frexp().\n",
            "    \n",
            "    lgamma(x, /)\n",
            "        Natural logarithm of absolute value of Gamma function at x.\n",
            "    \n",
            "    log(...)\n",
            "        log(x, [base=math.e])\n",
            "        Return the logarithm of x to the given base.\n",
            "        \n",
            "        If the base not specified, returns the natural logarithm (base e) of x.\n",
            "    \n",
            "    log10(x, /)\n",
            "        Return the base 10 logarithm of x.\n",
            "    \n",
            "    log1p(x, /)\n",
            "        Return the natural logarithm of 1+x (base e).\n",
            "        \n",
            "        The result is computed in a way which is accurate for x near zero.\n",
            "    \n",
            "    log2(x, /)\n",
            "        Return the base 2 logarithm of x.\n",
            "    \n",
            "    modf(x, /)\n",
            "        Return the fractional and integer parts of x.\n",
            "        \n",
            "        Both results carry the sign of x and are floats.\n",
            "    \n",
            "    nextafter(x, y, /)\n",
            "        Return the next floating-point value after x towards y.\n",
            "    \n",
            "    perm(n, k=None, /)\n",
            "        Number of ways to choose k items from n items without repetition and with order.\n",
            "        \n",
            "        Evaluates to n! / (n - k)! when k <= n and evaluates\n",
            "        to zero when k > n.\n",
            "        \n",
            "        If k is not specified or is None, then k defaults to n\n",
            "        and the function returns n!.\n",
            "        \n",
            "        Raises TypeError if either of the arguments are not integers.\n",
            "        Raises ValueError if either of the arguments are negative.\n",
            "    \n",
            "    pow(x, y, /)\n",
            "        Return x**y (x to the power of y).\n",
            "    \n",
            "    prod(iterable, /, *, start=1)\n",
            "        Calculate the product of all the elements in the input iterable.\n",
            "        \n",
            "        The default start value for the product is 1.\n",
            "        \n",
            "        When the iterable is empty, return the start value.  This function is\n",
            "        intended specifically for use with numeric values and may reject\n",
            "        non-numeric types.\n",
            "    \n",
            "    radians(x, /)\n",
            "        Convert angle x from degrees to radians.\n",
            "    \n",
            "    remainder(x, y, /)\n",
            "        Difference between x and the closest integer multiple of y.\n",
            "        \n",
            "        Return x - n*y where n*y is the closest integer multiple of y.\n",
            "        In the case where x is exactly halfway between two multiples of\n",
            "        y, the nearest even value of n is used. The result is always exact.\n",
            "    \n",
            "    sin(x, /)\n",
            "        Return the sine of x (measured in radians).\n",
            "    \n",
            "    sinh(x, /)\n",
            "        Return the hyperbolic sine of x.\n",
            "    \n",
            "    sqrt(x, /)\n",
            "        Return the square root of x.\n",
            "    \n",
            "    tan(x, /)\n",
            "        Return the tangent of x (measured in radians).\n",
            "    \n",
            "    tanh(x, /)\n",
            "        Return the hyperbolic tangent of x.\n",
            "    \n",
            "    trunc(x, /)\n",
            "        Truncates the Real x to the nearest Integral toward 0.\n",
            "        \n",
            "        Uses the __trunc__ magic method.\n",
            "    \n",
            "    ulp(x, /)\n",
            "        Return the value of the least significant bit of the float x.\n",
            "\n",
            "DATA\n",
            "    e = 2.718281828459045\n",
            "    inf = inf\n",
            "    nan = nan\n",
            "    pi = 3.141592653589793\n",
            "    tau = 6.283185307179586\n",
            "\n",
            "FILE\n",
            "    (built-in)\n",
            "\n",
            "\n"
          ]
        }
      ]
    },
    {
      "cell_type": "code",
      "source": [
        "# round a number\n",
        "value = 4.35"
      ],
      "metadata": {
        "id": "gFdqMRDFTMSP"
      },
      "execution_count": 56,
      "outputs": []
    },
    {
      "cell_type": "code",
      "source": [
        "math.floor(value)"
      ],
      "metadata": {
        "colab": {
          "base_uri": "https://localhost:8080/"
        },
        "id": "sgpRPPKFTVXx",
        "outputId": "77b6c24d-ebc7-473c-eb59-b807ef13338d"
      },
      "execution_count": 57,
      "outputs": [
        {
          "output_type": "execute_result",
          "data": {
            "text/plain": [
              "4"
            ]
          },
          "metadata": {},
          "execution_count": 57
        }
      ]
    },
    {
      "cell_type": "code",
      "source": [
        "math.ceil(value)"
      ],
      "metadata": {
        "colab": {
          "base_uri": "https://localhost:8080/"
        },
        "id": "lCvvM5prTVbr",
        "outputId": "5ea894a8-4dd4-4415-df8e-640c124d737a"
      },
      "execution_count": 58,
      "outputs": [
        {
          "output_type": "execute_result",
          "data": {
            "text/plain": [
              "5"
            ]
          },
          "metadata": {},
          "execution_count": 58
        }
      ]
    },
    {
      "cell_type": "code",
      "source": [
        "round(value,1)"
      ],
      "metadata": {
        "colab": {
          "base_uri": "https://localhost:8080/"
        },
        "id": "YD8zueyBTVfj",
        "outputId": "a6ee7d4e-4547-40c9-eea7-0f7eabd7a001"
      },
      "execution_count": 59,
      "outputs": [
        {
          "output_type": "execute_result",
          "data": {
            "text/plain": [
              "4.3"
            ]
          },
          "metadata": {},
          "execution_count": 59
        }
      ]
    },
    {
      "cell_type": "code",
      "source": [
        "round(4.5)"
      ],
      "metadata": {
        "colab": {
          "base_uri": "https://localhost:8080/"
        },
        "id": "tpqoxwKdTVjN",
        "outputId": "f479daf9-7d9c-4dcf-d696-ec23b2131a6a"
      },
      "execution_count": 60,
      "outputs": [
        {
          "output_type": "execute_result",
          "data": {
            "text/plain": [
              "4"
            ]
          },
          "metadata": {},
          "execution_count": 60
        }
      ]
    },
    {
      "cell_type": "code",
      "source": [
        "round(5.5)"
      ],
      "metadata": {
        "colab": {
          "base_uri": "https://localhost:8080/"
        },
        "id": "95OuVn-lTVmr",
        "outputId": "84ea2a0a-b25b-436e-dff0-914f0330ecfc"
      },
      "execution_count": 61,
      "outputs": [
        {
          "output_type": "execute_result",
          "data": {
            "text/plain": [
              "6"
            ]
          },
          "metadata": {},
          "execution_count": 61
        }
      ]
    },
    {
      "cell_type": "markdown",
      "source": [
        "Rounding rules\n",
        "\n",
        "* \"round half up\"\n",
        "* \"round to nearest even\"\n",
        "\n",
        "it looks like python works on - \"round to nearest even\" rule"
      ],
      "metadata": {
        "id": "74I8VtpPURB4"
      }
    },
    {
      "cell_type": "code",
      "source": [
        "# mathmatical constants\n",
        "math.pi"
      ],
      "metadata": {
        "colab": {
          "base_uri": "https://localhost:8080/"
        },
        "id": "gY8ih4xdTVqN",
        "outputId": "3e229d5b-8c8b-4ba6-ed2f-d78e12a1e654"
      },
      "execution_count": 62,
      "outputs": [
        {
          "output_type": "execute_result",
          "data": {
            "text/plain": [
              "3.141592653589793"
            ]
          },
          "metadata": {},
          "execution_count": 62
        }
      ]
    },
    {
      "cell_type": "code",
      "source": [
        "math.e"
      ],
      "metadata": {
        "colab": {
          "base_uri": "https://localhost:8080/"
        },
        "id": "zH_dO_VzUgbN",
        "outputId": "4136dd56-d054-4a9e-ec74-1f5954d06f76"
      },
      "execution_count": 63,
      "outputs": [
        {
          "output_type": "execute_result",
          "data": {
            "text/plain": [
              "2.718281828459045"
            ]
          },
          "metadata": {},
          "execution_count": 63
        }
      ]
    },
    {
      "cell_type": "code",
      "source": [
        "math.nan\n",
        "# nan = not a number"
      ],
      "metadata": {
        "colab": {
          "base_uri": "https://localhost:8080/"
        },
        "id": "CnySAhT8Ugeq",
        "outputId": "5ddbd8b7-d091-4e17-8ed5-8dfbedc109a1"
      },
      "execution_count": 65,
      "outputs": [
        {
          "output_type": "execute_result",
          "data": {
            "text/plain": [
              "nan"
            ]
          },
          "metadata": {},
          "execution_count": 65
        }
      ]
    },
    {
      "cell_type": "code",
      "source": [
        "math.inf"
      ],
      "metadata": {
        "colab": {
          "base_uri": "https://localhost:8080/"
        },
        "id": "96EYzqaoUgiK",
        "outputId": "4584957f-0cc8-4283-9bf9-7c91ab0f77c8"
      },
      "execution_count": 66,
      "outputs": [
        {
          "output_type": "execute_result",
          "data": {
            "text/plain": [
              "inf"
            ]
          },
          "metadata": {},
          "execution_count": 66
        }
      ]
    },
    {
      "cell_type": "code",
      "source": [
        "# Numpy : speacializes for numerical calculations"
      ],
      "metadata": {
        "id": "ilIgX8GYUgl2"
      },
      "execution_count": 67,
      "outputs": []
    },
    {
      "cell_type": "code",
      "source": [
        "math.log(math.e)"
      ],
      "metadata": {
        "colab": {
          "base_uri": "https://localhost:8080/"
        },
        "id": "mkBujiZ1Ugpj",
        "outputId": "91817370-5058-4691-e1c4-8218e3705d39"
      },
      "execution_count": 68,
      "outputs": [
        {
          "output_type": "execute_result",
          "data": {
            "text/plain": [
              "1.0"
            ]
          },
          "metadata": {},
          "execution_count": 68
        }
      ]
    },
    {
      "cell_type": "code",
      "source": [
        "math.log(100,10)"
      ],
      "metadata": {
        "colab": {
          "base_uri": "https://localhost:8080/"
        },
        "id": "iGwG3gXXUgtm",
        "outputId": "2478a6a8-aaed-48e5-c5aa-0f0c9ebb6fe8"
      },
      "execution_count": 69,
      "outputs": [
        {
          "output_type": "execute_result",
          "data": {
            "text/plain": [
              "2.0"
            ]
          },
          "metadata": {},
          "execution_count": 69
        }
      ]
    },
    {
      "cell_type": "code",
      "source": [
        "math.sin(10)"
      ],
      "metadata": {
        "colab": {
          "base_uri": "https://localhost:8080/"
        },
        "id": "jrRXKm7BU-xz",
        "outputId": "dec0aef9-b17e-48b0-c9d0-355c8d8757bb"
      },
      "execution_count": 70,
      "outputs": [
        {
          "output_type": "execute_result",
          "data": {
            "text/plain": [
              "-0.5440211108893698"
            ]
          },
          "metadata": {},
          "execution_count": 70
        }
      ]
    },
    {
      "cell_type": "code",
      "source": [
        "math.degrees(math.pi/2)"
      ],
      "metadata": {
        "colab": {
          "base_uri": "https://localhost:8080/"
        },
        "id": "xq-fIHTIVIq1",
        "outputId": "d63e2206-3871-4a34-85ea-a14bdfe3aa7b"
      },
      "execution_count": 72,
      "outputs": [
        {
          "output_type": "execute_result",
          "data": {
            "text/plain": [
              "90.0"
            ]
          },
          "metadata": {},
          "execution_count": 72
        }
      ]
    },
    {
      "cell_type": "code",
      "source": [
        "math.radians(180)"
      ],
      "metadata": {
        "colab": {
          "base_uri": "https://localhost:8080/"
        },
        "id": "FsElQOy0VK-s",
        "outputId": "3a5c4e9e-6084-4b67-d562-22b754f68b9a"
      },
      "execution_count": 74,
      "outputs": [
        {
          "output_type": "execute_result",
          "data": {
            "text/plain": [
              "3.141592653589793"
            ]
          },
          "metadata": {},
          "execution_count": 74
        }
      ]
    },
    {
      "cell_type": "markdown",
      "source": [
        "### random"
      ],
      "metadata": {
        "id": "-PLp8rFzVbnv"
      }
    },
    {
      "cell_type": "code",
      "source": [
        "# random.seed(n) - generates fixed set of random numbers"
      ],
      "metadata": {
        "id": "rsHQ6uk_VOGf"
      },
      "execution_count": 75,
      "outputs": []
    },
    {
      "cell_type": "code",
      "source": [
        "import random"
      ],
      "metadata": {
        "id": "Woub4HCbVOKK"
      },
      "execution_count": 76,
      "outputs": []
    },
    {
      "cell_type": "code",
      "source": [
        "# will generate anything between 0 - 100\n",
        "random_numbers = []\n",
        "# note - we can choose any arbitrary value here - 42,101 or anything else\n",
        "for x in range(20):\n",
        "    random_numbers.append(random.randint(0,100))\n",
        "print(random_numbers) # generates any number as expected"
      ],
      "metadata": {
        "colab": {
          "base_uri": "https://localhost:8080/"
        },
        "id": "NG-ZdoEAVONq",
        "outputId": "2227cb6a-7967-46eb-f6eb-eedd869f2355"
      },
      "execution_count": 84,
      "outputs": [
        {
          "output_type": "stream",
          "name": "stdout",
          "text": [
            "[24, 20, 11, 56, 98, 68, 46, 24, 60, 100, 41, 30, 81, 51, 54, 26, 8, 55, 59, 38]\n"
          ]
        }
      ]
    },
    {
      "cell_type": "code",
      "source": [
        "import random\n",
        "\n",
        "# Set the seed to 101\n",
        "random.seed(101)\n",
        "\n",
        "# Generate random numbers\n",
        "for i in range(10):\n",
        "    print(random.randint(1, 10))"
      ],
      "metadata": {
        "colab": {
          "base_uri": "https://localhost:8080/"
        },
        "id": "jH7pffpNVORS",
        "outputId": "f1743351-d81f-40ad-9ca0-d29abf5e3118"
      },
      "execution_count": 89,
      "outputs": [
        {
          "output_type": "stream",
          "name": "stdout",
          "text": [
            "10\n",
            "4\n",
            "9\n",
            "6\n",
            "8\n",
            "1\n",
            "9\n",
            "4\n",
            "10\n",
            "4\n"
          ]
        }
      ]
    },
    {
      "cell_type": "code",
      "source": [
        "# running this multiple times, but it generates the same fixed batch of random numbers\n",
        "# Set the seed to 101\n",
        "random.seed(101)\n",
        "\n",
        "# Generate random numbers\n",
        "for i in range(10):\n",
        "    print(random.randint(1, 10))"
      ],
      "metadata": {
        "colab": {
          "base_uri": "https://localhost:8080/"
        },
        "id": "_EvlVBIXVOU7",
        "outputId": "94c9461e-0aaa-4328-a80b-9935d72d825d"
      },
      "execution_count": 91,
      "outputs": [
        {
          "output_type": "stream",
          "name": "stdout",
          "text": [
            "10\n",
            "4\n",
            "9\n",
            "6\n",
            "8\n",
            "1\n",
            "9\n",
            "4\n",
            "10\n",
            "4\n"
          ]
        }
      ]
    },
    {
      "cell_type": "code",
      "source": [
        "# usage of random\n",
        "mylist = list(range(0,20))"
      ],
      "metadata": {
        "id": "EGIowUmGVOYN"
      },
      "execution_count": 92,
      "outputs": []
    },
    {
      "cell_type": "code",
      "source": [
        "mylist"
      ],
      "metadata": {
        "colab": {
          "base_uri": "https://localhost:8080/"
        },
        "id": "DwrqtTWHVObk",
        "outputId": "ebd4618b-e902-4e00-cd5f-ebd1d095534c"
      },
      "execution_count": 93,
      "outputs": [
        {
          "output_type": "execute_result",
          "data": {
            "text/plain": [
              "[0, 1, 2, 3, 4, 5, 6, 7, 8, 9, 10, 11, 12, 13, 14, 15, 16, 17, 18, 19]"
            ]
          },
          "metadata": {},
          "execution_count": 93
        }
      ]
    },
    {
      "cell_type": "code",
      "source": [
        "# how to get a random one item from a list\n",
        "random.choice(mylist)"
      ],
      "metadata": {
        "colab": {
          "base_uri": "https://localhost:8080/"
        },
        "id": "3tbBXIMQVOey",
        "outputId": "e3b06e90-d4bb-48ab-f1d9-60279ee16d1b"
      },
      "execution_count": 94,
      "outputs": [
        {
          "output_type": "execute_result",
          "data": {
            "text/plain": [
              "9"
            ]
          },
          "metadata": {},
          "execution_count": 94
        }
      ]
    },
    {
      "cell_type": "code",
      "source": [
        "# how to grab 5 different random items from the list\n",
        "    # now there are two options\n",
        "        # sample picked without replacement = once picked, we can cannot pick it again\n",
        "        # sample picked with replacement.   = once picked, we can can pick it again"
      ],
      "metadata": {
        "id": "DiJqAU69VOiM"
      },
      "execution_count": 95,
      "outputs": []
    },
    {
      "cell_type": "code",
      "source": [
        "# SAMPLE WITH REPLACEMENT\n",
        "random.choices(population=mylist,k=10)\n",
        "\n",
        "    # k = how many items you want to pick\n",
        "    # note - you can see 15 was chosen twice"
      ],
      "metadata": {
        "colab": {
          "base_uri": "https://localhost:8080/"
        },
        "id": "ZFDO1i5wVOli",
        "outputId": "1db3050d-2eff-416f-ee80-1b4e8679be96"
      },
      "execution_count": 96,
      "outputs": [
        {
          "output_type": "execute_result",
          "data": {
            "text/plain": [
              "[9, 15, 6, 8, 5, 3, 8, 10, 3, 15]"
            ]
          },
          "metadata": {},
          "execution_count": 96
        }
      ]
    },
    {
      "cell_type": "code",
      "source": [
        "# SAMPLE WITHOUT REPLACEMENT\n",
        "random.sample(population=mylist,k=10)\n",
        "\n",
        "    # k = how many items you want to pick\n",
        "    # note - none of the numbers repeat"
      ],
      "metadata": {
        "colab": {
          "base_uri": "https://localhost:8080/"
        },
        "id": "fq31_MeEazMT",
        "outputId": "32109d79-9bf3-4621-c5b2-e5989ed95bfc"
      },
      "execution_count": 98,
      "outputs": [
        {
          "output_type": "execute_result",
          "data": {
            "text/plain": [
              "[19, 10, 8, 12, 16, 3, 6, 1, 13, 18]"
            ]
          },
          "metadata": {},
          "execution_count": 98
        }
      ]
    },
    {
      "cell_type": "code",
      "source": [
        "# how to shuffle\n",
        "random.shuffle(mylist) # does not return anything, but will impact the list item order permanently\n",
        "mylist"
      ],
      "metadata": {
        "colab": {
          "base_uri": "https://localhost:8080/"
        },
        "id": "grP11zZRbHJw",
        "outputId": "13c2088f-61c5-441b-a27b-e2dadb780939"
      },
      "execution_count": 100,
      "outputs": [
        {
          "output_type": "execute_result",
          "data": {
            "text/plain": [
              "[6, 2, 9, 7, 0, 13, 19, 11, 10, 8, 5, 16, 1, 4, 12, 14, 15, 3, 17, 18]"
            ]
          },
          "metadata": {},
          "execution_count": 100
        }
      ]
    },
    {
      "cell_type": "code",
      "source": [
        "# randomly pick any number - int or float between two numbers\n",
        "# uniform distribution\n",
        "random.uniform(a=0,b=100)"
      ],
      "metadata": {
        "colab": {
          "base_uri": "https://localhost:8080/"
        },
        "id": "YNodd8LGbQmd",
        "outputId": "07cfd6cc-03b3-4851-a89e-9894852e23d8"
      },
      "execution_count": 102,
      "outputs": [
        {
          "output_type": "execute_result",
          "data": {
            "text/plain": [
              "14.031583581692097"
            ]
          },
          "metadata": {},
          "execution_count": 102
        }
      ]
    },
    {
      "cell_type": "code",
      "source": [
        "# gaussian distribution\n",
        "    # mean, std dev\n",
        "    # picks some value from there\n",
        "random.gauss(mu=0,sigma=1)"
      ],
      "metadata": {
        "colab": {
          "base_uri": "https://localhost:8080/"
        },
        "id": "aeBlsHAFbg82",
        "outputId": "a38c516a-a0d0-4cbc-c33c-5b0994a5d826"
      },
      "execution_count": 103,
      "outputs": [
        {
          "output_type": "execute_result",
          "data": {
            "text/plain": [
              "0.7669359816851664"
            ]
          },
          "metadata": {},
          "execution_count": 103
        }
      ]
    },
    {
      "cell_type": "markdown",
      "source": [
        "## Python Debugger"
      ],
      "metadata": {
        "id": "vYEuBKMbcTMn"
      }
    },
    {
      "cell_type": "code",
      "source": [],
      "metadata": {
        "id": "FTRo-X9VbhBC"
      },
      "execution_count": null,
      "outputs": []
    },
    {
      "cell_type": "code",
      "source": [],
      "metadata": {
        "id": "l82HdgofbhEy"
      },
      "execution_count": null,
      "outputs": []
    },
    {
      "cell_type": "code",
      "source": [],
      "metadata": {
        "id": "fUHI9OxWbhIY"
      },
      "execution_count": null,
      "outputs": []
    },
    {
      "cell_type": "code",
      "source": [],
      "metadata": {
        "id": "caq6wdoSbhLz"
      },
      "execution_count": null,
      "outputs": []
    },
    {
      "cell_type": "code",
      "source": [],
      "metadata": {
        "id": "-XVrNCnTbhPj"
      },
      "execution_count": null,
      "outputs": []
    }
  ]
}