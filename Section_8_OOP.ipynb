{
  "nbformat": 4,
  "nbformat_minor": 0,
  "metadata": {
    "colab": {
      "provenance": [],
      "authorship_tag": "ABX9TyNKn530UAq+pT4D1DAz60k5",
      "include_colab_link": true
    },
    "kernelspec": {
      "name": "python3",
      "display_name": "Python 3"
    },
    "language_info": {
      "name": "python"
    }
  },
  "cells": [
    {
      "cell_type": "markdown",
      "metadata": {
        "id": "view-in-github",
        "colab_type": "text"
      },
      "source": [
        "<a href=\"https://colab.research.google.com/github/niladribanerjee80/python-udemy-jose/blob/main/Section_8_OOP.ipynb\" target=\"_parent\"><img src=\"https://colab.research.google.com/assets/colab-badge.svg\" alt=\"Open In Colab\"/></a>"
      ]
    },
    {
      "cell_type": "markdown",
      "source": [
        "# **Class**\n",
        "\n",
        "* Programmers create their own methods and attributes\n",
        "* We have built in methods for\n",
        "  * String\n",
        "  * List\n",
        "  * Tuple\n",
        "  * Dictionary\n",
        "  * Set etc.\n",
        "\n",
        "&emsp;**class** **ClassName**(): <br>\n",
        "&emsp;&emsp; Class object Attributes <br>\n",
        "&emsp;&emsp;&emsp;&emsp;- variables <br>\n",
        "&emsp;&emsp;&emsp;&emsp;- methods <br>\n",
        "&emsp;&emsp;**def __init__(self,param1, param2)**:<br>\n",
        "&emsp;&emsp;&emsp;self.param1 = param1<br>\n",
        "&emsp;&emsp;&emsp;self.param2 = param2\n",
        "\n",
        "&emsp;&emsp;**def method(self,params)**:<br>\n",
        "&emsp;&emsp;&emsp;Perform some action"
      ],
      "metadata": {
        "id": "mazyiglSke2q"
      }
    },
    {
      "cell_type": "code",
      "execution_count": null,
      "metadata": {
        "id": "C7gSnIF1kZr7"
      },
      "outputs": [],
      "source": [
        "class Sample():\n",
        "    pass"
      ]
    },
    {
      "cell_type": "code",
      "source": [
        "my_sample = Sample()"
      ],
      "metadata": {
        "id": "c_apWRqBlKDt"
      },
      "execution_count": null,
      "outputs": []
    },
    {
      "cell_type": "code",
      "source": [
        "type(my_sample)"
      ],
      "metadata": {
        "colab": {
          "base_uri": "https://localhost:8080/"
        },
        "id": "D0xhxqfLlL5u",
        "outputId": "fc90c865-d529-4eef-846d-96e262908f8e"
      },
      "execution_count": null,
      "outputs": [
        {
          "output_type": "execute_result",
          "data": {
            "text/plain": [
              "__main__.Sample"
            ]
          },
          "metadata": {},
          "execution_count": 3
        }
      ]
    },
    {
      "cell_type": "markdown",
      "source": [
        "## **Class : Dog**"
      ],
      "metadata": {
        "id": "i9rHueZ6nHH9"
      }
    },
    {
      "cell_type": "code",
      "source": [
        "class Dog():\n",
        "    '''\n",
        "    breed = breed of the dog - Lab etc\n",
        "    name = anything\n",
        "    spots = expecting boolean - True of False\n",
        "    '''\n",
        "    # class object attribute\n",
        "    # this will remain same for all objects of the same\n",
        "    # can be called using self.species or Dog.species in methods created\n",
        "    species = \"mammal\"\n",
        "\n",
        "    def __init__(self,breed,name,spots):\n",
        "    # this is the constructor - will get executed the momment the object of the class is created\n",
        "        self.breed = breed\n",
        "        self.name = name\n",
        "\n",
        "        # expecting boolean\n",
        "        self.spots = spots\n",
        "\n",
        "    # create a method\n",
        "    def bark(self,number):\n",
        "        print(f\"WOOF! My name is {self.name} and my number is {number}\")"
      ],
      "metadata": {
        "id": "hFlsu6tqlP8m"
      },
      "execution_count": null,
      "outputs": []
    },
    {
      "cell_type": "code",
      "source": [
        "my_dog = Dog() # I am going to get error here"
      ],
      "metadata": {
        "colab": {
          "base_uri": "https://localhost:8080/",
          "height": 141
        },
        "id": "CeWoMMP6mKOf",
        "outputId": "5fdd2d90-05d4-461b-fd00-8497c981f257"
      },
      "execution_count": null,
      "outputs": [
        {
          "output_type": "error",
          "ename": "TypeError",
          "evalue": "Dog.__init__() missing 3 required positional arguments: 'breed', 'name', and 'spots'",
          "traceback": [
            "\u001b[0;31m---------------------------------------------------------------------------\u001b[0m",
            "\u001b[0;31mTypeError\u001b[0m                                 Traceback (most recent call last)",
            "\u001b[0;32m<ipython-input-5-2bae5d6568db>\u001b[0m in \u001b[0;36m<cell line: 1>\u001b[0;34m()\u001b[0m\n\u001b[0;32m----> 1\u001b[0;31m \u001b[0mmy_dog\u001b[0m \u001b[0;34m=\u001b[0m \u001b[0mDog\u001b[0m\u001b[0;34m(\u001b[0m\u001b[0;34m)\u001b[0m \u001b[0;31m# I am going to get error here\u001b[0m\u001b[0;34m\u001b[0m\u001b[0;34m\u001b[0m\u001b[0m\n\u001b[0m",
            "\u001b[0;31mTypeError\u001b[0m: Dog.__init__() missing 3 required positional arguments: 'breed', 'name', and 'spots'"
          ]
        }
      ]
    },
    {
      "cell_type": "code",
      "source": [
        "my_dog = Dog(breed = 'Lab', name = 'Sammy', spots = True)"
      ],
      "metadata": {
        "id": "NzZEWCtjmNyK"
      },
      "execution_count": null,
      "outputs": []
    },
    {
      "cell_type": "code",
      "source": [
        "# class attribute\n",
        "my_dog.species"
      ],
      "metadata": {
        "colab": {
          "base_uri": "https://localhost:8080/",
          "height": 35
        },
        "id": "tYFb92hBmXte",
        "outputId": "05c25501-e8a5-461a-c84c-e66992f0d56b"
      },
      "execution_count": null,
      "outputs": [
        {
          "output_type": "execute_result",
          "data": {
            "text/plain": [
              "'mammal'"
            ],
            "application/vnd.google.colaboratory.intrinsic+json": {
              "type": "string"
            }
          },
          "metadata": {},
          "execution_count": 7
        }
      ]
    },
    {
      "cell_type": "code",
      "source": [
        "# accessing object attribute\n",
        "my_dog.breed"
      ],
      "metadata": {
        "colab": {
          "base_uri": "https://localhost:8080/",
          "height": 35
        },
        "id": "TAs1Vl5Xmcpx",
        "outputId": "468c8e0b-ec3c-4948-bee1-55df59023665"
      },
      "execution_count": null,
      "outputs": [
        {
          "output_type": "execute_result",
          "data": {
            "text/plain": [
              "'Lab'"
            ],
            "application/vnd.google.colaboratory.intrinsic+json": {
              "type": "string"
            }
          },
          "metadata": {},
          "execution_count": 9
        }
      ]
    },
    {
      "cell_type": "code",
      "source": [
        "# accessing the object method\n",
        "my_dog.bark(number = 10)"
      ],
      "metadata": {
        "colab": {
          "base_uri": "https://localhost:8080/"
        },
        "id": "W0FRAoP4mgeh",
        "outputId": "f1e1717b-c250-48b5-b21c-4e8db85ab3f9"
      },
      "execution_count": null,
      "outputs": [
        {
          "output_type": "stream",
          "name": "stdout",
          "text": [
            "WOOF! My name is Sammy and my number is 10\n"
          ]
        }
      ]
    },
    {
      "cell_type": "markdown",
      "source": [
        "## **Class : Circle**"
      ],
      "metadata": {
        "id": "04Qc6gHVnCsQ"
      }
    },
    {
      "cell_type": "code",
      "source": [
        "class Circle():\n",
        "    # class object attributes\n",
        "    pi = 3.14\n",
        "\n",
        "    def __init__(self,radius = 1):\n",
        "        self.radius = radius\n",
        "\n",
        "        # we could have used self.pi as well, but if it is a class attr, it is better to use it with the class name\n",
        "        self.area = Circle.pi * (self.radius ** 2)\n",
        "\n",
        "    def get_circumference (self):\n",
        "        # we could have used self.pi as well\n",
        "        return 2 * Circle.pi * self.radius"
      ],
      "metadata": {
        "id": "5mb4aSv3mp6e"
      },
      "execution_count": null,
      "outputs": []
    },
    {
      "cell_type": "code",
      "source": [
        "# Create Circle with default radius\n",
        "my_circle = Circle()"
      ],
      "metadata": {
        "id": "YX08KNXSnvGf"
      },
      "execution_count": null,
      "outputs": []
    },
    {
      "cell_type": "code",
      "source": [
        "my_circle.pi"
      ],
      "metadata": {
        "colab": {
          "base_uri": "https://localhost:8080/"
        },
        "id": "yPB-fERfnxgP",
        "outputId": "706ced6c-03d1-48e6-cf37-acbbeaab1743"
      },
      "execution_count": null,
      "outputs": [
        {
          "output_type": "execute_result",
          "data": {
            "text/plain": [
              "3.14"
            ]
          },
          "metadata": {},
          "execution_count": 14
        }
      ]
    },
    {
      "cell_type": "code",
      "source": [
        "my_circle.get_circumference()"
      ],
      "metadata": {
        "colab": {
          "base_uri": "https://localhost:8080/"
        },
        "id": "jFnQv-Eyn0W1",
        "outputId": "04e0dac5-4bfc-49f9-c297-2313f3928f4a"
      },
      "execution_count": null,
      "outputs": [
        {
          "output_type": "execute_result",
          "data": {
            "text/plain": [
              "6.28"
            ]
          },
          "metadata": {},
          "execution_count": 15
        }
      ]
    },
    {
      "cell_type": "code",
      "source": [
        "# Create Circle with radius = 30\n",
        "my_circle = Circle(30)\n",
        "print(my_circle.get_circumference())"
      ],
      "metadata": {
        "colab": {
          "base_uri": "https://localhost:8080/"
        },
        "id": "-PeVxUXXn23a",
        "outputId": "abf6bf91-1fc0-43fb-fe67-1611d2983c60"
      },
      "execution_count": null,
      "outputs": [
        {
          "output_type": "stream",
          "name": "stdout",
          "text": [
            "188.4\n"
          ]
        }
      ]
    },
    {
      "cell_type": "markdown",
      "source": [
        "## **Inheritance**\n",
        "\n",
        "* Base Class (methods + attributes) --> Derived Class\n",
        "* Why ? Re-use them without having to re-implement"
      ],
      "metadata": {
        "id": "7fDzog5uoWBl"
      }
    },
    {
      "cell_type": "code",
      "source": [
        "# Base class\n",
        "\n",
        "class Animal():\n",
        "\n",
        "    def __init__(self):\n",
        "        print(\"ANIMAL CREATED\")\n",
        "\n",
        "    def who_am_i(self):\n",
        "        print(\"I am an animal\")\n",
        "\n",
        "    def eat(self):\n",
        "        print(\"I am eating\")"
      ],
      "metadata": {
        "id": "6cLnwdZooDJn"
      },
      "execution_count": null,
      "outputs": []
    },
    {
      "cell_type": "code",
      "source": [
        "myanimal = Animal()"
      ],
      "metadata": {
        "colab": {
          "base_uri": "https://localhost:8080/"
        },
        "id": "uP6FnJ3h1SpQ",
        "outputId": "3c5df417-c361-48f6-9cc6-48d62fd65755"
      },
      "execution_count": null,
      "outputs": [
        {
          "output_type": "stream",
          "name": "stdout",
          "text": [
            "ANIMAL CREATED\n"
          ]
        }
      ]
    },
    {
      "cell_type": "code",
      "source": [
        "# Derived class = Dog class that uses the methods of Animal class\n",
        "\n",
        "class Dog(Animal):\n",
        "\n",
        "    def __init__(self):\n",
        "        Animal.__init__(self) # method of Animal.__init__() will get called\n",
        "        print(\"Dog created\")"
      ],
      "metadata": {
        "id": "Q0HhpsBv1UzV"
      },
      "execution_count": null,
      "outputs": []
    },
    {
      "cell_type": "code",
      "source": [
        "mydog = Dog()"
      ],
      "metadata": {
        "colab": {
          "base_uri": "https://localhost:8080/"
        },
        "id": "4tT0oper2Y1W",
        "outputId": "268a0fec-5b8b-48fd-dc67-5485d4ca27ed"
      },
      "execution_count": null,
      "outputs": [
        {
          "output_type": "stream",
          "name": "stdout",
          "text": [
            "ANIMAL CREATED\n",
            "Dog created\n"
          ]
        }
      ]
    },
    {
      "cell_type": "code",
      "source": [
        "# because of inheritence\n",
        "mydog.eat()"
      ],
      "metadata": {
        "colab": {
          "base_uri": "https://localhost:8080/"
        },
        "id": "ifZyzVrQ2cng",
        "outputId": "943eda46-9bc0-4575-939d-101c6fb374a4"
      },
      "execution_count": null,
      "outputs": [
        {
          "output_type": "stream",
          "name": "stdout",
          "text": [
            "I am eating\n"
          ]
        }
      ]
    },
    {
      "cell_type": "code",
      "source": [
        "mydog.who_am_i()"
      ],
      "metadata": {
        "colab": {
          "base_uri": "https://localhost:8080/"
        },
        "id": "DOGYpjGA20yJ",
        "outputId": "bfa0df2b-5b9b-4190-bd19-922452ced954"
      },
      "execution_count": null,
      "outputs": [
        {
          "output_type": "stream",
          "name": "stdout",
          "text": [
            "I am an animal\n"
          ]
        }
      ]
    },
    {
      "cell_type": "code",
      "source": [
        "# what if we want to override a method in derived class = Dog\n",
        "\n",
        "class Dog(Animal):\n",
        "\n",
        "    def __init__(self):\n",
        "        print(\"Dog created\")\n",
        "\n",
        "    def who_am_i(self): # overriden method\n",
        "        print(\"I am a dog\")\n",
        "\n",
        "    def bark(self):\n",
        "        print(\"WOOF!\")"
      ],
      "metadata": {
        "id": "_iZDlG3-29w3"
      },
      "execution_count": null,
      "outputs": []
    },
    {
      "cell_type": "code",
      "source": [
        "mydog = Dog()"
      ],
      "metadata": {
        "colab": {
          "base_uri": "https://localhost:8080/"
        },
        "id": "dOOc2m1c3Ngd",
        "outputId": "260b0d6f-c4ed-4953-ad8b-a14453ab562a"
      },
      "execution_count": null,
      "outputs": [
        {
          "output_type": "stream",
          "name": "stdout",
          "text": [
            "Dog created\n"
          ]
        }
      ]
    },
    {
      "cell_type": "code",
      "source": [
        "mydog.who_am_i()"
      ],
      "metadata": {
        "colab": {
          "base_uri": "https://localhost:8080/"
        },
        "id": "-H1VQVrO3Pyt",
        "outputId": "3dacb503-f1ba-4bec-f545-1d2afcb87c9f"
      },
      "execution_count": null,
      "outputs": [
        {
          "output_type": "stream",
          "name": "stdout",
          "text": [
            "I am a dog\n"
          ]
        }
      ]
    },
    {
      "cell_type": "code",
      "source": [
        "mydog.bark()"
      ],
      "metadata": {
        "colab": {
          "base_uri": "https://localhost:8080/"
        },
        "id": "rd9Z7Th43RuC",
        "outputId": "e4144df5-693e-42f3-d6bd-6bfe55b1457e"
      },
      "execution_count": null,
      "outputs": [
        {
          "output_type": "stream",
          "name": "stdout",
          "text": [
            "WOOF!\n"
          ]
        }
      ]
    },
    {
      "cell_type": "markdown",
      "source": [
        "## **Polymorphism**\n",
        "\n",
        "* Class 1 : Excel\n",
        "    * method : open()\n",
        "* Class 2 : Word\n",
        "    * method : open()\n",
        "- different classes, same object name\n",
        "- implemented using a common method and the same method is used using different objects\n",
        "* Method : open_file(object)\n",
        "    * object.open() will work seamlessely <br>\n",
        "    object can be\n",
        "        - Excel object\n",
        "        - Word object\n"
      ],
      "metadata": {
        "id": "NHuH5U253jTy"
      }
    },
    {
      "cell_type": "code",
      "source": [],
      "metadata": {
        "id": "wEtC2iA23dsS"
      },
      "execution_count": null,
      "outputs": []
    }
  ]
}