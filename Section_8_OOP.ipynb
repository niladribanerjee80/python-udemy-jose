{
  "nbformat": 4,
  "nbformat_minor": 0,
  "metadata": {
    "colab": {
      "provenance": [],
      "include_colab_link": true
    },
    "kernelspec": {
      "name": "python3",
      "display_name": "Python 3"
    },
    "language_info": {
      "name": "python"
    }
  },
  "cells": [
    {
      "cell_type": "markdown",
      "metadata": {
        "id": "view-in-github",
        "colab_type": "text"
      },
      "source": [
        "<a href=\"https://colab.research.google.com/github/niladribanerjee80/python-udemy-jose/blob/main/Section_8_OOP.ipynb\" target=\"_parent\"><img src=\"https://colab.research.google.com/assets/colab-badge.svg\" alt=\"Open In Colab\"/></a>"
      ]
    },
    {
      "cell_type": "markdown",
      "source": [
        "# **Class**\n",
        "\n",
        "* Programmers create their own methods and attributes\n",
        "* We have built in methods for\n",
        "  * String\n",
        "  * List\n",
        "  * Tuple\n",
        "  * Dictionary\n",
        "  * Set etc.\n",
        "\n",
        "&emsp;**class** **ClassName**(): <br>\n",
        "&emsp;&emsp; Class object Attributes <br>\n",
        "&emsp;&emsp;&emsp;&emsp;- variables <br>\n",
        "&emsp;&emsp;&emsp;&emsp;- methods <br>\n",
        "&emsp;&emsp;**def __init__(self,param1, param2)**:<br>\n",
        "&emsp;&emsp;&emsp;self.param1 = param1<br>\n",
        "&emsp;&emsp;&emsp;self.param2 = param2\n",
        "\n",
        "&emsp;&emsp;**def method(self,params)**:<br>\n",
        "&emsp;&emsp;&emsp;Perform some action"
      ],
      "metadata": {
        "id": "mazyiglSke2q"
      }
    },
    {
      "cell_type": "code",
      "execution_count": null,
      "metadata": {
        "id": "C7gSnIF1kZr7"
      },
      "outputs": [],
      "source": [
        "class Sample():\n",
        "    pass"
      ]
    },
    {
      "cell_type": "code",
      "source": [
        "my_sample = Sample()"
      ],
      "metadata": {
        "id": "c_apWRqBlKDt"
      },
      "execution_count": null,
      "outputs": []
    },
    {
      "cell_type": "code",
      "source": [
        "type(my_sample)"
      ],
      "metadata": {
        "colab": {
          "base_uri": "https://localhost:8080/"
        },
        "id": "D0xhxqfLlL5u",
        "outputId": "fc90c865-d529-4eef-846d-96e262908f8e"
      },
      "execution_count": null,
      "outputs": [
        {
          "output_type": "execute_result",
          "data": {
            "text/plain": [
              "__main__.Sample"
            ]
          },
          "metadata": {},
          "execution_count": 3
        }
      ]
    },
    {
      "cell_type": "markdown",
      "source": [
        "## **Class : Dog**"
      ],
      "metadata": {
        "id": "i9rHueZ6nHH9"
      }
    },
    {
      "cell_type": "code",
      "source": [
        "class Dog():\n",
        "    '''\n",
        "    breed = breed of the dog - Lab etc\n",
        "    name = anything\n",
        "    spots = expecting boolean - True of False\n",
        "    '''\n",
        "    # class object attribute\n",
        "    # this will remain same for all objects of the same\n",
        "    # can be called using self.species or Dog.species in methods created\n",
        "    species = \"mammal\"\n",
        "\n",
        "    def __init__(self,breed,name,spots):\n",
        "    # this is the constructor - will get executed the momment the object of the class is created\n",
        "        self.breed = breed\n",
        "        self.name = name\n",
        "\n",
        "        # expecting boolean\n",
        "        self.spots = spots\n",
        "\n",
        "    # create a method\n",
        "    def bark(self,number):\n",
        "        print(f\"WOOF! My name is {self.name} and my number is {number}\")"
      ],
      "metadata": {
        "id": "hFlsu6tqlP8m"
      },
      "execution_count": null,
      "outputs": []
    },
    {
      "cell_type": "code",
      "source": [
        "my_dog = Dog() # I am going to get error here"
      ],
      "metadata": {
        "colab": {
          "base_uri": "https://localhost:8080/",
          "height": 141
        },
        "id": "CeWoMMP6mKOf",
        "outputId": "5fdd2d90-05d4-461b-fd00-8497c981f257"
      },
      "execution_count": null,
      "outputs": [
        {
          "output_type": "error",
          "ename": "TypeError",
          "evalue": "Dog.__init__() missing 3 required positional arguments: 'breed', 'name', and 'spots'",
          "traceback": [
            "\u001b[0;31m---------------------------------------------------------------------------\u001b[0m",
            "\u001b[0;31mTypeError\u001b[0m                                 Traceback (most recent call last)",
            "\u001b[0;32m<ipython-input-5-2bae5d6568db>\u001b[0m in \u001b[0;36m<cell line: 1>\u001b[0;34m()\u001b[0m\n\u001b[0;32m----> 1\u001b[0;31m \u001b[0mmy_dog\u001b[0m \u001b[0;34m=\u001b[0m \u001b[0mDog\u001b[0m\u001b[0;34m(\u001b[0m\u001b[0;34m)\u001b[0m \u001b[0;31m# I am going to get error here\u001b[0m\u001b[0;34m\u001b[0m\u001b[0;34m\u001b[0m\u001b[0m\n\u001b[0m",
            "\u001b[0;31mTypeError\u001b[0m: Dog.__init__() missing 3 required positional arguments: 'breed', 'name', and 'spots'"
          ]
        }
      ]
    },
    {
      "cell_type": "code",
      "source": [
        "my_dog = Dog(breed = 'Lab', name = 'Sammy', spots = True)"
      ],
      "metadata": {
        "id": "NzZEWCtjmNyK"
      },
      "execution_count": null,
      "outputs": []
    },
    {
      "cell_type": "code",
      "source": [
        "# class attribute\n",
        "my_dog.species"
      ],
      "metadata": {
        "colab": {
          "base_uri": "https://localhost:8080/",
          "height": 35
        },
        "id": "tYFb92hBmXte",
        "outputId": "05c25501-e8a5-461a-c84c-e66992f0d56b"
      },
      "execution_count": null,
      "outputs": [
        {
          "output_type": "execute_result",
          "data": {
            "text/plain": [
              "'mammal'"
            ],
            "application/vnd.google.colaboratory.intrinsic+json": {
              "type": "string"
            }
          },
          "metadata": {},
          "execution_count": 7
        }
      ]
    },
    {
      "cell_type": "code",
      "source": [
        "# accessing object attribute\n",
        "my_dog.breed"
      ],
      "metadata": {
        "colab": {
          "base_uri": "https://localhost:8080/",
          "height": 35
        },
        "id": "TAs1Vl5Xmcpx",
        "outputId": "468c8e0b-ec3c-4948-bee1-55df59023665"
      },
      "execution_count": null,
      "outputs": [
        {
          "output_type": "execute_result",
          "data": {
            "text/plain": [
              "'Lab'"
            ],
            "application/vnd.google.colaboratory.intrinsic+json": {
              "type": "string"
            }
          },
          "metadata": {},
          "execution_count": 9
        }
      ]
    },
    {
      "cell_type": "code",
      "source": [
        "# accessing the object method\n",
        "my_dog.bark(number = 10)"
      ],
      "metadata": {
        "colab": {
          "base_uri": "https://localhost:8080/"
        },
        "id": "W0FRAoP4mgeh",
        "outputId": "f1e1717b-c250-48b5-b21c-4e8db85ab3f9"
      },
      "execution_count": null,
      "outputs": [
        {
          "output_type": "stream",
          "name": "stdout",
          "text": [
            "WOOF! My name is Sammy and my number is 10\n"
          ]
        }
      ]
    },
    {
      "cell_type": "markdown",
      "source": [
        "## **Class : Circle**"
      ],
      "metadata": {
        "id": "04Qc6gHVnCsQ"
      }
    },
    {
      "cell_type": "code",
      "source": [
        "class Circle():\n",
        "    # class object attributes\n",
        "    pi = 3.14\n",
        "\n",
        "    def __init__(self,radius = 1):\n",
        "        self.radius = radius\n",
        "\n",
        "        # we could have used self.pi as well, but if it is a class attr, it is better to use it with the class name\n",
        "        self.area = Circle.pi * (self.radius ** 2)\n",
        "\n",
        "    def get_circumference (self):\n",
        "        # we could have used self.pi as well\n",
        "        return 2 * Circle.pi * self.radius"
      ],
      "metadata": {
        "id": "5mb4aSv3mp6e"
      },
      "execution_count": null,
      "outputs": []
    },
    {
      "cell_type": "code",
      "source": [
        "# Create Circle with default radius\n",
        "my_circle = Circle()"
      ],
      "metadata": {
        "id": "YX08KNXSnvGf"
      },
      "execution_count": null,
      "outputs": []
    },
    {
      "cell_type": "code",
      "source": [
        "my_circle.pi"
      ],
      "metadata": {
        "colab": {
          "base_uri": "https://localhost:8080/"
        },
        "id": "yPB-fERfnxgP",
        "outputId": "706ced6c-03d1-48e6-cf37-acbbeaab1743"
      },
      "execution_count": null,
      "outputs": [
        {
          "output_type": "execute_result",
          "data": {
            "text/plain": [
              "3.14"
            ]
          },
          "metadata": {},
          "execution_count": 14
        }
      ]
    },
    {
      "cell_type": "code",
      "source": [
        "my_circle.get_circumference()"
      ],
      "metadata": {
        "colab": {
          "base_uri": "https://localhost:8080/"
        },
        "id": "jFnQv-Eyn0W1",
        "outputId": "04e0dac5-4bfc-49f9-c297-2313f3928f4a"
      },
      "execution_count": null,
      "outputs": [
        {
          "output_type": "execute_result",
          "data": {
            "text/plain": [
              "6.28"
            ]
          },
          "metadata": {},
          "execution_count": 15
        }
      ]
    },
    {
      "cell_type": "code",
      "source": [
        "# Create Circle with radius = 30\n",
        "my_circle = Circle(30)\n",
        "print(my_circle.get_circumference())"
      ],
      "metadata": {
        "colab": {
          "base_uri": "https://localhost:8080/"
        },
        "id": "-PeVxUXXn23a",
        "outputId": "abf6bf91-1fc0-43fb-fe67-1611d2983c60"
      },
      "execution_count": null,
      "outputs": [
        {
          "output_type": "stream",
          "name": "stdout",
          "text": [
            "188.4\n"
          ]
        }
      ]
    },
    {
      "cell_type": "markdown",
      "source": [
        "## **Inheritance**\n",
        "\n",
        "* Base Class (methods + attributes) --> Derived Class\n",
        "* Why ? Re-use them without having to re-implement"
      ],
      "metadata": {
        "id": "7fDzog5uoWBl"
      }
    },
    {
      "cell_type": "code",
      "source": [
        "# Base class\n",
        "\n",
        "class Animal():\n",
        "\n",
        "    def __init__(self):\n",
        "        print(\"ANIMAL CREATED\")\n",
        "\n",
        "    def who_am_i(self):\n",
        "        print(\"I am an animal\")\n",
        "\n",
        "    def eat(self):\n",
        "        print(\"I am eating\")"
      ],
      "metadata": {
        "id": "6cLnwdZooDJn"
      },
      "execution_count": null,
      "outputs": []
    },
    {
      "cell_type": "code",
      "source": [
        "myanimal = Animal()"
      ],
      "metadata": {
        "colab": {
          "base_uri": "https://localhost:8080/"
        },
        "id": "uP6FnJ3h1SpQ",
        "outputId": "3c5df417-c361-48f6-9cc6-48d62fd65755"
      },
      "execution_count": null,
      "outputs": [
        {
          "output_type": "stream",
          "name": "stdout",
          "text": [
            "ANIMAL CREATED\n"
          ]
        }
      ]
    },
    {
      "cell_type": "code",
      "source": [
        "# Derived class = Dog class that uses the methods of Animal class\n",
        "\n",
        "class Dog(Animal):\n",
        "\n",
        "    def __init__(self):\n",
        "        Animal.__init__(self) # method of Animal.__init__() will get called\n",
        "        print(\"Dog created\")"
      ],
      "metadata": {
        "id": "Q0HhpsBv1UzV"
      },
      "execution_count": null,
      "outputs": []
    },
    {
      "cell_type": "code",
      "source": [
        "mydog = Dog()"
      ],
      "metadata": {
        "colab": {
          "base_uri": "https://localhost:8080/"
        },
        "id": "4tT0oper2Y1W",
        "outputId": "268a0fec-5b8b-48fd-dc67-5485d4ca27ed"
      },
      "execution_count": null,
      "outputs": [
        {
          "output_type": "stream",
          "name": "stdout",
          "text": [
            "ANIMAL CREATED\n",
            "Dog created\n"
          ]
        }
      ]
    },
    {
      "cell_type": "code",
      "source": [
        "# because of inheritence\n",
        "mydog.eat()"
      ],
      "metadata": {
        "colab": {
          "base_uri": "https://localhost:8080/"
        },
        "id": "ifZyzVrQ2cng",
        "outputId": "943eda46-9bc0-4575-939d-101c6fb374a4"
      },
      "execution_count": null,
      "outputs": [
        {
          "output_type": "stream",
          "name": "stdout",
          "text": [
            "I am eating\n"
          ]
        }
      ]
    },
    {
      "cell_type": "code",
      "source": [
        "mydog.who_am_i()"
      ],
      "metadata": {
        "colab": {
          "base_uri": "https://localhost:8080/"
        },
        "id": "DOGYpjGA20yJ",
        "outputId": "bfa0df2b-5b9b-4190-bd19-922452ced954"
      },
      "execution_count": null,
      "outputs": [
        {
          "output_type": "stream",
          "name": "stdout",
          "text": [
            "I am an animal\n"
          ]
        }
      ]
    },
    {
      "cell_type": "code",
      "source": [
        "# what if we want to override a method in derived class = Dog\n",
        "\n",
        "class Dog(Animal):\n",
        "\n",
        "    def __init__(self):\n",
        "        print(\"Dog created\")\n",
        "\n",
        "    def who_am_i(self): # overriden method\n",
        "        print(\"I am a dog\")\n",
        "\n",
        "    def bark(self):\n",
        "        print(\"WOOF!\")"
      ],
      "metadata": {
        "id": "_iZDlG3-29w3"
      },
      "execution_count": null,
      "outputs": []
    },
    {
      "cell_type": "code",
      "source": [
        "mydog = Dog()"
      ],
      "metadata": {
        "colab": {
          "base_uri": "https://localhost:8080/"
        },
        "id": "dOOc2m1c3Ngd",
        "outputId": "260b0d6f-c4ed-4953-ad8b-a14453ab562a"
      },
      "execution_count": null,
      "outputs": [
        {
          "output_type": "stream",
          "name": "stdout",
          "text": [
            "Dog created\n"
          ]
        }
      ]
    },
    {
      "cell_type": "code",
      "source": [
        "mydog.who_am_i()"
      ],
      "metadata": {
        "colab": {
          "base_uri": "https://localhost:8080/"
        },
        "id": "-H1VQVrO3Pyt",
        "outputId": "3dacb503-f1ba-4bec-f545-1d2afcb87c9f"
      },
      "execution_count": null,
      "outputs": [
        {
          "output_type": "stream",
          "name": "stdout",
          "text": [
            "I am a dog\n"
          ]
        }
      ]
    },
    {
      "cell_type": "code",
      "source": [
        "mydog.bark()"
      ],
      "metadata": {
        "colab": {
          "base_uri": "https://localhost:8080/"
        },
        "id": "rd9Z7Th43RuC",
        "outputId": "e4144df5-693e-42f3-d6bd-6bfe55b1457e"
      },
      "execution_count": null,
      "outputs": [
        {
          "output_type": "stream",
          "name": "stdout",
          "text": [
            "WOOF!\n"
          ]
        }
      ]
    },
    {
      "cell_type": "markdown",
      "source": [
        "## **Polymorphism**\n",
        "\n",
        "* Class 1 : Excel\n",
        "    * method : open()\n",
        "* Class 2 : Word\n",
        "    * method : open()\n",
        "- different classes, same object name\n",
        "- implemented using a common method and the same method is used using different objects\n",
        "* Method : open_file(object)\n",
        "    * object.open() will work seamlessely <br>\n",
        "    object can be\n",
        "        - Excel object\n",
        "        - Word object\n"
      ],
      "metadata": {
        "id": "NHuH5U253jTy"
      }
    },
    {
      "cell_type": "code",
      "source": [
        "class Dog():\n",
        "\n",
        "    def __init__(self,name):\n",
        "        self.name = name\n",
        "\n",
        "    def speak(self):\n",
        "        return self.name + \" says woof\""
      ],
      "metadata": {
        "id": "wEtC2iA23dsS"
      },
      "execution_count": null,
      "outputs": []
    },
    {
      "cell_type": "code",
      "source": [
        "class Cat():\n",
        "\n",
        "    def __init__(self,name):\n",
        "        self.name = name\n",
        "\n",
        "    def speak(self):\n",
        "        return self.name + \" says meow\""
      ],
      "metadata": {
        "id": "3sGmJuIwXn2t"
      },
      "execution_count": null,
      "outputs": []
    },
    {
      "cell_type": "code",
      "source": [
        "niko = Dog(\"niko\")\n",
        "felix = Cat(\"felix\")"
      ],
      "metadata": {
        "id": "Ryn1Xbd4Xxcg"
      },
      "execution_count": null,
      "outputs": []
    },
    {
      "cell_type": "code",
      "source": [
        "# observe\n",
        "# both Dog and Cat has speak methods"
      ],
      "metadata": {
        "id": "uqskqh_kX4lN"
      },
      "execution_count": null,
      "outputs": []
    },
    {
      "cell_type": "code",
      "source": [
        "print(niko.speak())\n",
        "print(felix.speak())"
      ],
      "metadata": {
        "colab": {
          "base_uri": "https://localhost:8080/"
        },
        "id": "hjU06COGX_Bu",
        "outputId": "b692f27d-221b-4c10-8ec3-b66137ef3e28"
      },
      "execution_count": null,
      "outputs": [
        {
          "output_type": "stream",
          "name": "stdout",
          "text": [
            "niko says woof\n",
            "felix says meow\n"
          ]
        }
      ]
    },
    {
      "cell_type": "code",
      "source": [
        "# the below function\n",
        "    # 1. calling the same function speak() with the object that is passed to it\n",
        "    # 2. it does not know the implementation of the speak()\n",
        "def pet_speak(pet):\n",
        "    print(pet.speak())"
      ],
      "metadata": {
        "id": "UIpAlNu-YD7P"
      },
      "execution_count": null,
      "outputs": []
    },
    {
      "cell_type": "code",
      "source": [
        "pet_speak(niko)"
      ],
      "metadata": {
        "colab": {
          "base_uri": "https://localhost:8080/"
        },
        "id": "RMqcHvUfYczW",
        "outputId": "8114fbfd-d119-43ef-adf6-ac194f576c8a"
      },
      "execution_count": null,
      "outputs": [
        {
          "output_type": "stream",
          "name": "stdout",
          "text": [
            "niko says woof\n"
          ]
        }
      ]
    },
    {
      "cell_type": "code",
      "source": [
        "pet_speak(felix)"
      ],
      "metadata": {
        "colab": {
          "base_uri": "https://localhost:8080/"
        },
        "id": "s64v-18IYfEo",
        "outputId": "e5346140-675e-4b77-94d8-2fd50f9db548"
      },
      "execution_count": null,
      "outputs": [
        {
          "output_type": "stream",
          "name": "stdout",
          "text": [
            "felix says meow\n"
          ]
        }
      ]
    },
    {
      "cell_type": "markdown",
      "source": [
        "* same method = pet.speak() is being used\n",
        "* different objects = niko, felix used to get two different results"
      ],
      "metadata": {
        "id": "HXNQh5BTYjQn"
      }
    },
    {
      "cell_type": "markdown",
      "source": [
        "### **Abstract class**\n",
        "\n",
        "* use abstract class as base class + inheritence\n",
        "* Abstract classes are not supposed to be instantiated"
      ],
      "metadata": {
        "id": "gRDH5_HBY1mf"
      }
    },
    {
      "cell_type": "code",
      "source": [
        "class Animal():\n",
        "\n",
        "    def __init__(self,name):\n",
        "        self.name = name\n",
        "\n",
        "    def speak(self):\n",
        "        raise NotImplementedError(\"subclass must implement this\")"
      ],
      "metadata": {
        "id": "NgqcsSkpYiHQ"
      },
      "execution_count": null,
      "outputs": []
    },
    {
      "cell_type": "markdown",
      "source": [
        "* We are not expecting the object of Animal() class will be created"
      ],
      "metadata": {
        "id": "uQcWsN8zZa-z"
      }
    },
    {
      "cell_type": "code",
      "source": [
        "myanimal = Animal('fred') # we do not expect this to be created"
      ],
      "metadata": {
        "id": "dtwUNt5OZYqE"
      },
      "execution_count": null,
      "outputs": []
    },
    {
      "cell_type": "code",
      "source": [
        "myanimal.speak() # expecting error here"
      ],
      "metadata": {
        "colab": {
          "base_uri": "https://localhost:8080/",
          "height": 228
        },
        "id": "KTfHgkKGZkkv",
        "outputId": "905cc893-459e-405a-d4a8-f29a72251078"
      },
      "execution_count": null,
      "outputs": [
        {
          "output_type": "error",
          "ename": "NotImplementedError",
          "evalue": "subclass must implement this",
          "traceback": [
            "\u001b[0;31m---------------------------------------------------------------------------\u001b[0m",
            "\u001b[0;31mNotImplementedError\u001b[0m                       Traceback (most recent call last)",
            "\u001b[0;32m<ipython-input-11-188713a00ef6>\u001b[0m in \u001b[0;36m<cell line: 1>\u001b[0;34m()\u001b[0m\n\u001b[0;32m----> 1\u001b[0;31m \u001b[0mmyanimal\u001b[0m\u001b[0;34m.\u001b[0m\u001b[0mspeak\u001b[0m\u001b[0;34m(\u001b[0m\u001b[0;34m)\u001b[0m\u001b[0;34m\u001b[0m\u001b[0;34m\u001b[0m\u001b[0m\n\u001b[0m",
            "\u001b[0;32m<ipython-input-9-48276c19978b>\u001b[0m in \u001b[0;36mspeak\u001b[0;34m(self)\u001b[0m\n\u001b[1;32m      5\u001b[0m \u001b[0;34m\u001b[0m\u001b[0m\n\u001b[1;32m      6\u001b[0m     \u001b[0;32mdef\u001b[0m \u001b[0mspeak\u001b[0m\u001b[0;34m(\u001b[0m\u001b[0mself\u001b[0m\u001b[0;34m)\u001b[0m\u001b[0;34m:\u001b[0m\u001b[0;34m\u001b[0m\u001b[0;34m\u001b[0m\u001b[0m\n\u001b[0;32m----> 7\u001b[0;31m         \u001b[0;32mraise\u001b[0m \u001b[0mNotImplementedError\u001b[0m\u001b[0;34m(\u001b[0m\u001b[0;34m\"subclass must implement this\"\u001b[0m\u001b[0;34m)\u001b[0m\u001b[0;34m\u001b[0m\u001b[0;34m\u001b[0m\u001b[0m\n\u001b[0m",
            "\u001b[0;31mNotImplementedError\u001b[0m: subclass must implement this"
          ]
        }
      ]
    },
    {
      "cell_type": "markdown",
      "source": [
        "**Expectation**\n",
        "* Inherit the Animal class\n",
        "* override the speak()"
      ],
      "metadata": {
        "id": "rNVMzwCuZuLt"
      }
    },
    {
      "cell_type": "code",
      "source": [
        "class Dog(Animal):\n",
        "\n",
        "    # note : if I inherit the Animal class\n",
        "    # the constructor function is also inherited unless we want to override it in this class\n",
        "    # The animal class has __init__ which assigns self.name = name\n",
        "\n",
        "    # we have implemented the speak() method as expected\n",
        "    def speak(self):\n",
        "        return self.name + \" says woof!\""
      ],
      "metadata": {
        "id": "Ld90TJ7aZrJ3"
      },
      "execution_count": null,
      "outputs": []
    },
    {
      "cell_type": "code",
      "source": [
        "class Cat(Animal):\n",
        "\n",
        "    # note : if I inherit the Animal class\n",
        "    # the constructor function is also inherited unless we want to override it in this class\n",
        "    # The animal class has __init__ which assigns self.name = name\n",
        "\n",
        "    # we have implemented the speak() method as expected\n",
        "    def speak(self):\n",
        "        return self.name + \" says meow!\""
      ],
      "metadata": {
        "id": "Jw64k6nOabDy"
      },
      "execution_count": null,
      "outputs": []
    },
    {
      "cell_type": "code",
      "source": [
        "fido_obj = Dog(\"fido\")\n",
        "felix_obj = Cat(\"felix\")\n",
        "\n",
        "print(fido_obj.speak())\n",
        "print(felix_obj.speak())"
      ],
      "metadata": {
        "colab": {
          "base_uri": "https://localhost:8080/"
        },
        "id": "2IGa7-neal9Q",
        "outputId": "b9294d94-64fd-47b9-9773-914aaa365b93"
      },
      "execution_count": null,
      "outputs": [
        {
          "output_type": "stream",
          "name": "stdout",
          "text": [
            "fido says woof!\n",
            "felix says meow!\n"
          ]
        }
      ]
    },
    {
      "cell_type": "markdown",
      "source": [
        "**Practical use case**\n",
        "\n",
        "* Opening of different file types\n",
        "\n",
        "class Files()<br>\n",
        "&emsp;def open():<br>\n",
        "&emsp;&emsp;raise NotImplementedError\n",
        "\n",
        "class word()<br>\n",
        "&emsp;def open():<br>\n",
        "&emsp;&emsp;word open implementation\n",
        "\n",
        "class excel()<br>\n",
        "&emsp;def open():<br>\n",
        "&emsp;&emsp;excel open implementation\n",
        "\n",
        "* user calls\n",
        "\n",
        "file = Files('filename')\\\n",
        "file.open()\n",
        "\n",
        "\n"
      ],
      "metadata": {
        "id": "7L1emM81bKhp"
      }
    },
    {
      "cell_type": "markdown",
      "source": [
        "## **Special Methods**\n",
        "\n",
        "* print --> _ _ str _ _\n",
        "* len   --> _ _ len _ _\n",
        "* del   --> _ _ del _ _"
      ],
      "metadata": {
        "id": "EMV85aGouwE0"
      }
    },
    {
      "cell_type": "code",
      "source": [
        "# let say I create a list\n",
        "mylist = [1,2,3]\n",
        "print(len(mylist))"
      ],
      "metadata": {
        "id": "jqnVmgP6bAJ4",
        "outputId": "d372206d-da9f-4687-bcd8-fdd944fe2615",
        "colab": {
          "base_uri": "https://localhost:8080/"
        }
      },
      "execution_count": 1,
      "outputs": [
        {
          "output_type": "stream",
          "name": "stdout",
          "text": [
            "3\n"
          ]
        }
      ]
    },
    {
      "cell_type": "code",
      "source": [
        "# but what happens if I create a class\n",
        "class Sample():\n",
        "  pass"
      ],
      "metadata": {
        "id": "O7iQRF7PvUMK"
      },
      "execution_count": 2,
      "outputs": []
    },
    {
      "cell_type": "code",
      "source": [
        "my_sample = Sample()\n",
        "print(len(my_sample)) # error is expected"
      ],
      "metadata": {
        "id": "hfOQCLMCvZ1T",
        "outputId": "a7e610ec-eb9b-4684-8af9-a31bb8e09af8",
        "colab": {
          "base_uri": "https://localhost:8080/",
          "height": 158
        }
      },
      "execution_count": 3,
      "outputs": [
        {
          "output_type": "error",
          "ename": "TypeError",
          "evalue": "object of type 'Sample' has no len()",
          "traceback": [
            "\u001b[0;31m---------------------------------------------------------------------------\u001b[0m",
            "\u001b[0;31mTypeError\u001b[0m                                 Traceback (most recent call last)",
            "\u001b[0;32m<ipython-input-3-ce1fd9084293>\u001b[0m in \u001b[0;36m<cell line: 2>\u001b[0;34m()\u001b[0m\n\u001b[1;32m      1\u001b[0m \u001b[0mmy_sample\u001b[0m \u001b[0;34m=\u001b[0m \u001b[0mSample\u001b[0m\u001b[0;34m(\u001b[0m\u001b[0;34m)\u001b[0m\u001b[0;34m\u001b[0m\u001b[0;34m\u001b[0m\u001b[0m\n\u001b[0;32m----> 2\u001b[0;31m \u001b[0mprint\u001b[0m\u001b[0;34m(\u001b[0m\u001b[0mlen\u001b[0m\u001b[0;34m(\u001b[0m\u001b[0mmy_sample\u001b[0m\u001b[0;34m)\u001b[0m\u001b[0;34m)\u001b[0m\u001b[0;34m\u001b[0m\u001b[0;34m\u001b[0m\u001b[0m\n\u001b[0m",
            "\u001b[0;31mTypeError\u001b[0m: object of type 'Sample' has no len()"
          ]
        }
      ]
    },
    {
      "cell_type": "code",
      "source": [
        "print(my_sample) # prints the memory location"
      ],
      "metadata": {
        "id": "ZF1oVW3IveH4",
        "outputId": "29b84d00-1368-4d39-e22d-4a361923c5b4",
        "colab": {
          "base_uri": "https://localhost:8080/"
        }
      },
      "execution_count": 4,
      "outputs": [
        {
          "output_type": "stream",
          "name": "stdout",
          "text": [
            "<__main__.Sample object at 0x7b1e76603970>\n"
          ]
        }
      ]
    },
    {
      "cell_type": "code",
      "source": [
        "print(mylist)"
      ],
      "metadata": {
        "id": "3P-E29-5vkXH",
        "outputId": "199f026e-1da5-4c72-eb23-221ded5c5f28",
        "colab": {
          "base_uri": "https://localhost:8080/"
        }
      },
      "execution_count": 5,
      "outputs": [
        {
          "output_type": "stream",
          "name": "stdout",
          "text": [
            "[1, 2, 3]\n"
          ]
        }
      ]
    },
    {
      "cell_type": "markdown",
      "source": [
        "So how do we implement our own methods that can mimic the print or len functionality"
      ],
      "metadata": {
        "id": "DvZlIMUlvpbB"
      }
    },
    {
      "cell_type": "code",
      "source": [
        "class Book():\n",
        "\n",
        "  def __init__(self,name,author,pages):\n",
        "    self.name = name\n",
        "    self.author = author\n",
        "    self.pages = pages"
      ],
      "metadata": {
        "id": "w2GNzbfyvn0u"
      },
      "execution_count": 6,
      "outputs": []
    },
    {
      "cell_type": "code",
      "source": [
        "b = Book('Python rocks','Niladri',200)"
      ],
      "metadata": {
        "id": "-6-kreiSv_DB"
      },
      "execution_count": 7,
      "outputs": []
    },
    {
      "cell_type": "code",
      "source": [
        "print(b) # will return memory location"
      ],
      "metadata": {
        "id": "wuoigqtGwCsn",
        "outputId": "09e9b174-ce61-4305-c9f9-3853a29fa4c7",
        "colab": {
          "base_uri": "https://localhost:8080/"
        }
      },
      "execution_count": 8,
      "outputs": [
        {
          "output_type": "stream",
          "name": "stdout",
          "text": [
            "<__main__.Book object at 0x7b1e6877a500>\n"
          ]
        }
      ]
    },
    {
      "cell_type": "code",
      "source": [
        "print(len(b)) # will throw error"
      ],
      "metadata": {
        "id": "hTHyEFGMwDx6",
        "outputId": "0ee23f53-f0de-47d1-d308-ec3ccfef7e71",
        "colab": {
          "base_uri": "https://localhost:8080/",
          "height": 141
        }
      },
      "execution_count": 9,
      "outputs": [
        {
          "output_type": "error",
          "ename": "TypeError",
          "evalue": "object of type 'Book' has no len()",
          "traceback": [
            "\u001b[0;31m---------------------------------------------------------------------------\u001b[0m",
            "\u001b[0;31mTypeError\u001b[0m                                 Traceback (most recent call last)",
            "\u001b[0;32m<ipython-input-9-a96cd3291c23>\u001b[0m in \u001b[0;36m<cell line: 1>\u001b[0;34m()\u001b[0m\n\u001b[0;32m----> 1\u001b[0;31m \u001b[0mprint\u001b[0m\u001b[0;34m(\u001b[0m\u001b[0mlen\u001b[0m\u001b[0;34m(\u001b[0m\u001b[0mb\u001b[0m\u001b[0;34m)\u001b[0m\u001b[0;34m)\u001b[0m\u001b[0;34m\u001b[0m\u001b[0;34m\u001b[0m\u001b[0m\n\u001b[0m",
            "\u001b[0;31mTypeError\u001b[0m: object of type 'Book' has no len()"
          ]
        }
      ]
    },
    {
      "cell_type": "code",
      "source": [
        "# now let us create the needed functions for print and length to work in my way\n",
        "class Book():\n",
        "\n",
        "  def __init__(self,name,author,pages):\n",
        "    self.name = name\n",
        "    self.author = author\n",
        "    self.pages = pages\n",
        "\n",
        "  def __str__(self): # this will work if I \"print(object)\"\n",
        "    return f\"Book name = {self.name}, written by author = {self.author}\"\n",
        "\n",
        "  def __len__(self): # this will work if I \"len(object)\"\n",
        "    return self.pages\n",
        "\n",
        "  def __del__(self): # it may not work at all because of Python's memory management of how the destructor works\n",
        "    print(\"The book is deleted\")"
      ],
      "metadata": {
        "id": "hsCRGncGwF5B"
      },
      "execution_count": 49,
      "outputs": []
    },
    {
      "cell_type": "code",
      "source": [
        "b = Book('Python rocks','Niladri',200)"
      ],
      "metadata": {
        "id": "Ntr9rtMFwkpi"
      },
      "execution_count": 50,
      "outputs": []
    },
    {
      "cell_type": "code",
      "source": [
        "print(b)"
      ],
      "metadata": {
        "colab": {
          "base_uri": "https://localhost:8080/"
        },
        "id": "-xeV-Abzwp75",
        "outputId": "8b7cf4ed-4190-4ff9-92b0-1f9552cf59ef"
      },
      "execution_count": 51,
      "outputs": [
        {
          "output_type": "stream",
          "name": "stdout",
          "text": [
            "Book name = Python rocks, written by author = Niladri\n"
          ]
        }
      ]
    },
    {
      "cell_type": "code",
      "source": [
        "x = len(b)\n",
        "print(x)"
      ],
      "metadata": {
        "id": "OEUeW4Z4wqzQ",
        "outputId": "225588c4-b0e3-41bf-cdc9-439712b66581",
        "colab": {
          "base_uri": "https://localhost:8080/"
        }
      },
      "execution_count": 52,
      "outputs": [
        {
          "output_type": "stream",
          "name": "stdout",
          "text": [
            "200\n"
          ]
        }
      ]
    },
    {
      "cell_type": "code",
      "source": [
        "del b"
      ],
      "metadata": {
        "id": "PaCusa1Uws9f",
        "outputId": "93a940a1-4053-4a81-ee68-1b2e79bae527",
        "colab": {
          "base_uri": "https://localhost:8080/"
        }
      },
      "execution_count": 53,
      "outputs": [
        {
          "output_type": "stream",
          "name": "stdout",
          "text": [
            "The book is deleted\n"
          ]
        }
      ]
    },
    {
      "cell_type": "code",
      "source": [],
      "metadata": {
        "id": "I5nrPaNXzox2"
      },
      "execution_count": null,
      "outputs": []
    }
  ]
}