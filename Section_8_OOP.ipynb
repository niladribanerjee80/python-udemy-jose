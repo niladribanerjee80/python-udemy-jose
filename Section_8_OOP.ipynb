{
  "nbformat": 4,
  "nbformat_minor": 0,
  "metadata": {
    "colab": {
      "provenance": [],
      "include_colab_link": true
    },
    "kernelspec": {
      "name": "python3",
      "display_name": "Python 3"
    },
    "language_info": {
      "name": "python"
    }
  },
  "cells": [
    {
      "cell_type": "markdown",
      "metadata": {
        "id": "view-in-github",
        "colab_type": "text"
      },
      "source": [
        "<a href=\"https://colab.research.google.com/github/niladribanerjee80/python-udemy-jose/blob/main/Section_8_OOP.ipynb\" target=\"_parent\"><img src=\"https://colab.research.google.com/assets/colab-badge.svg\" alt=\"Open In Colab\"/></a>"
      ]
    },
    {
      "cell_type": "markdown",
      "source": [
        "# **Class**\n",
        "\n",
        "* Programmers create their own methods and attributes\n",
        "* We have built in methods for\n",
        "  * String\n",
        "  * List\n",
        "  * Tuple\n",
        "  * Dictionary\n",
        "  * Set etc.\n",
        "\n",
        "&emsp;**class** **ClassName**(): <br>\n",
        "&emsp;&emsp; Class object Attributes <br>\n",
        "&emsp;&emsp;&emsp;&emsp;- variables <br>\n",
        "&emsp;&emsp;&emsp;&emsp;- methods <br>\n",
        "&emsp;&emsp;**def __init__(self,param1, param2)**:<br>\n",
        "&emsp;&emsp;&emsp;self.param1 = param1<br>\n",
        "&emsp;&emsp;&emsp;self.param2 = param2\n",
        "\n",
        "&emsp;&emsp;**def method(self,params)**:<br>\n",
        "&emsp;&emsp;&emsp;Perform some action"
      ],
      "metadata": {
        "id": "mazyiglSke2q"
      }
    },
    {
      "cell_type": "code",
      "execution_count": null,
      "metadata": {
        "id": "C7gSnIF1kZr7"
      },
      "outputs": [],
      "source": [
        "class Sample():\n",
        "    pass"
      ]
    },
    {
      "cell_type": "code",
      "source": [
        "my_sample = Sample()"
      ],
      "metadata": {
        "id": "c_apWRqBlKDt"
      },
      "execution_count": null,
      "outputs": []
    },
    {
      "cell_type": "code",
      "source": [
        "type(my_sample)"
      ],
      "metadata": {
        "colab": {
          "base_uri": "https://localhost:8080/"
        },
        "id": "D0xhxqfLlL5u",
        "outputId": "fc90c865-d529-4eef-846d-96e262908f8e"
      },
      "execution_count": null,
      "outputs": [
        {
          "output_type": "execute_result",
          "data": {
            "text/plain": [
              "__main__.Sample"
            ]
          },
          "metadata": {},
          "execution_count": 3
        }
      ]
    },
    {
      "cell_type": "markdown",
      "source": [
        "## **Class : Dog**"
      ],
      "metadata": {
        "id": "i9rHueZ6nHH9"
      }
    },
    {
      "cell_type": "code",
      "source": [
        "class Dog():\n",
        "    '''\n",
        "    breed = breed of the dog - Lab etc\n",
        "    name = anything\n",
        "    spots = expecting boolean - True of False\n",
        "    '''\n",
        "    # class object attribute\n",
        "    # this will remain same for all objects of the same\n",
        "    # can be called using self.species or Dog.species in methods created\n",
        "    species = \"mammal\"\n",
        "\n",
        "    def __init__(self,breed,name,spots):\n",
        "    # this is the constructor - will get executed the momment the object of the class is created\n",
        "        self.breed = breed\n",
        "        self.name = name\n",
        "\n",
        "        # expecting boolean\n",
        "        self.spots = spots\n",
        "\n",
        "    # create a method\n",
        "    def bark(self,number):\n",
        "        print(f\"WOOF! My name is {self.name} and my number is {number}\")"
      ],
      "metadata": {
        "id": "hFlsu6tqlP8m"
      },
      "execution_count": null,
      "outputs": []
    },
    {
      "cell_type": "code",
      "source": [
        "my_dog = Dog() # I am going to get error here"
      ],
      "metadata": {
        "colab": {
          "base_uri": "https://localhost:8080/",
          "height": 141
        },
        "id": "CeWoMMP6mKOf",
        "outputId": "5fdd2d90-05d4-461b-fd00-8497c981f257"
      },
      "execution_count": null,
      "outputs": [
        {
          "output_type": "error",
          "ename": "TypeError",
          "evalue": "Dog.__init__() missing 3 required positional arguments: 'breed', 'name', and 'spots'",
          "traceback": [
            "\u001b[0;31m---------------------------------------------------------------------------\u001b[0m",
            "\u001b[0;31mTypeError\u001b[0m                                 Traceback (most recent call last)",
            "\u001b[0;32m<ipython-input-5-2bae5d6568db>\u001b[0m in \u001b[0;36m<cell line: 1>\u001b[0;34m()\u001b[0m\n\u001b[0;32m----> 1\u001b[0;31m \u001b[0mmy_dog\u001b[0m \u001b[0;34m=\u001b[0m \u001b[0mDog\u001b[0m\u001b[0;34m(\u001b[0m\u001b[0;34m)\u001b[0m \u001b[0;31m# I am going to get error here\u001b[0m\u001b[0;34m\u001b[0m\u001b[0;34m\u001b[0m\u001b[0m\n\u001b[0m",
            "\u001b[0;31mTypeError\u001b[0m: Dog.__init__() missing 3 required positional arguments: 'breed', 'name', and 'spots'"
          ]
        }
      ]
    },
    {
      "cell_type": "code",
      "source": [
        "my_dog = Dog(breed = 'Lab', name = 'Sammy', spots = True)"
      ],
      "metadata": {
        "id": "NzZEWCtjmNyK"
      },
      "execution_count": null,
      "outputs": []
    },
    {
      "cell_type": "code",
      "source": [
        "# class attribute\n",
        "my_dog.species"
      ],
      "metadata": {
        "colab": {
          "base_uri": "https://localhost:8080/",
          "height": 35
        },
        "id": "tYFb92hBmXte",
        "outputId": "05c25501-e8a5-461a-c84c-e66992f0d56b"
      },
      "execution_count": null,
      "outputs": [
        {
          "output_type": "execute_result",
          "data": {
            "text/plain": [
              "'mammal'"
            ],
            "application/vnd.google.colaboratory.intrinsic+json": {
              "type": "string"
            }
          },
          "metadata": {},
          "execution_count": 7
        }
      ]
    },
    {
      "cell_type": "code",
      "source": [
        "# accessing object attribute\n",
        "my_dog.breed"
      ],
      "metadata": {
        "colab": {
          "base_uri": "https://localhost:8080/",
          "height": 35
        },
        "id": "TAs1Vl5Xmcpx",
        "outputId": "468c8e0b-ec3c-4948-bee1-55df59023665"
      },
      "execution_count": null,
      "outputs": [
        {
          "output_type": "execute_result",
          "data": {
            "text/plain": [
              "'Lab'"
            ],
            "application/vnd.google.colaboratory.intrinsic+json": {
              "type": "string"
            }
          },
          "metadata": {},
          "execution_count": 9
        }
      ]
    },
    {
      "cell_type": "code",
      "source": [
        "# accessing the object method\n",
        "my_dog.bark(number = 10)"
      ],
      "metadata": {
        "colab": {
          "base_uri": "https://localhost:8080/"
        },
        "id": "W0FRAoP4mgeh",
        "outputId": "f1e1717b-c250-48b5-b21c-4e8db85ab3f9"
      },
      "execution_count": null,
      "outputs": [
        {
          "output_type": "stream",
          "name": "stdout",
          "text": [
            "WOOF! My name is Sammy and my number is 10\n"
          ]
        }
      ]
    },
    {
      "cell_type": "markdown",
      "source": [
        "## **Class : Circle**"
      ],
      "metadata": {
        "id": "04Qc6gHVnCsQ"
      }
    },
    {
      "cell_type": "code",
      "source": [
        "class Circle():\n",
        "    # class object attributes\n",
        "    pi = 3.14\n",
        "\n",
        "    def __init__(self,radius = 1):\n",
        "        self.radius = radius\n",
        "\n",
        "        # we could have used self.pi as well, but if it is a class attr, it is better to use it with the class name\n",
        "        self.area = Circle.pi * (self.radius ** 2)\n",
        "\n",
        "    def get_circumference (self):\n",
        "        # we could have used self.pi as well\n",
        "        return 2 * Circle.pi * self.radius"
      ],
      "metadata": {
        "id": "5mb4aSv3mp6e"
      },
      "execution_count": null,
      "outputs": []
    },
    {
      "cell_type": "code",
      "source": [
        "# Create Circle with default radius\n",
        "my_circle = Circle()"
      ],
      "metadata": {
        "id": "YX08KNXSnvGf"
      },
      "execution_count": null,
      "outputs": []
    },
    {
      "cell_type": "code",
      "source": [
        "my_circle.pi"
      ],
      "metadata": {
        "colab": {
          "base_uri": "https://localhost:8080/"
        },
        "id": "yPB-fERfnxgP",
        "outputId": "706ced6c-03d1-48e6-cf37-acbbeaab1743"
      },
      "execution_count": null,
      "outputs": [
        {
          "output_type": "execute_result",
          "data": {
            "text/plain": [
              "3.14"
            ]
          },
          "metadata": {},
          "execution_count": 14
        }
      ]
    },
    {
      "cell_type": "code",
      "source": [
        "my_circle.get_circumference()"
      ],
      "metadata": {
        "colab": {
          "base_uri": "https://localhost:8080/"
        },
        "id": "jFnQv-Eyn0W1",
        "outputId": "04e0dac5-4bfc-49f9-c297-2313f3928f4a"
      },
      "execution_count": null,
      "outputs": [
        {
          "output_type": "execute_result",
          "data": {
            "text/plain": [
              "6.28"
            ]
          },
          "metadata": {},
          "execution_count": 15
        }
      ]
    },
    {
      "cell_type": "code",
      "source": [
        "# Create Circle with radius = 30\n",
        "my_circle = Circle(30)\n",
        "print(my_circle.get_circumference())"
      ],
      "metadata": {
        "colab": {
          "base_uri": "https://localhost:8080/"
        },
        "id": "-PeVxUXXn23a",
        "outputId": "abf6bf91-1fc0-43fb-fe67-1611d2983c60"
      },
      "execution_count": null,
      "outputs": [
        {
          "output_type": "stream",
          "name": "stdout",
          "text": [
            "188.4\n"
          ]
        }
      ]
    },
    {
      "cell_type": "markdown",
      "source": [
        "## **Inheritance**\n",
        "\n",
        "* Base Class (methods + attributes) --> Derived Class\n",
        "* Why ? Re-use them without having to re-implement"
      ],
      "metadata": {
        "id": "7fDzog5uoWBl"
      }
    },
    {
      "cell_type": "code",
      "source": [
        "# Base class\n",
        "\n",
        "class Animal():\n",
        "\n",
        "    def __init__(self):\n",
        "        print(\"ANIMAL CREATED\")\n",
        "\n",
        "    def who_am_i(self):\n",
        "        print(\"I am an animal\")\n",
        "\n",
        "    def eat(self):\n",
        "        print(\"I am eating\")"
      ],
      "metadata": {
        "id": "6cLnwdZooDJn"
      },
      "execution_count": null,
      "outputs": []
    },
    {
      "cell_type": "code",
      "source": [
        "myanimal = Animal()"
      ],
      "metadata": {
        "colab": {
          "base_uri": "https://localhost:8080/"
        },
        "id": "uP6FnJ3h1SpQ",
        "outputId": "3c5df417-c361-48f6-9cc6-48d62fd65755"
      },
      "execution_count": null,
      "outputs": [
        {
          "output_type": "stream",
          "name": "stdout",
          "text": [
            "ANIMAL CREATED\n"
          ]
        }
      ]
    },
    {
      "cell_type": "code",
      "source": [
        "# Derived class = Dog class that uses the methods of Animal class\n",
        "\n",
        "class Dog(Animal):\n",
        "\n",
        "    def __init__(self):\n",
        "        Animal.__init__(self) # method of Animal.__init__() will get called\n",
        "        print(\"Dog created\")"
      ],
      "metadata": {
        "id": "Q0HhpsBv1UzV"
      },
      "execution_count": null,
      "outputs": []
    },
    {
      "cell_type": "code",
      "source": [
        "mydog = Dog()"
      ],
      "metadata": {
        "colab": {
          "base_uri": "https://localhost:8080/"
        },
        "id": "4tT0oper2Y1W",
        "outputId": "268a0fec-5b8b-48fd-dc67-5485d4ca27ed"
      },
      "execution_count": null,
      "outputs": [
        {
          "output_type": "stream",
          "name": "stdout",
          "text": [
            "ANIMAL CREATED\n",
            "Dog created\n"
          ]
        }
      ]
    },
    {
      "cell_type": "code",
      "source": [
        "# because of inheritence\n",
        "mydog.eat()"
      ],
      "metadata": {
        "colab": {
          "base_uri": "https://localhost:8080/"
        },
        "id": "ifZyzVrQ2cng",
        "outputId": "943eda46-9bc0-4575-939d-101c6fb374a4"
      },
      "execution_count": null,
      "outputs": [
        {
          "output_type": "stream",
          "name": "stdout",
          "text": [
            "I am eating\n"
          ]
        }
      ]
    },
    {
      "cell_type": "code",
      "source": [
        "mydog.who_am_i()"
      ],
      "metadata": {
        "colab": {
          "base_uri": "https://localhost:8080/"
        },
        "id": "DOGYpjGA20yJ",
        "outputId": "bfa0df2b-5b9b-4190-bd19-922452ced954"
      },
      "execution_count": null,
      "outputs": [
        {
          "output_type": "stream",
          "name": "stdout",
          "text": [
            "I am an animal\n"
          ]
        }
      ]
    },
    {
      "cell_type": "code",
      "source": [
        "# what if we want to override a method in derived class = Dog\n",
        "\n",
        "class Dog(Animal):\n",
        "\n",
        "    def __init__(self):\n",
        "        print(\"Dog created\")\n",
        "\n",
        "    def who_am_i(self): # overriden method\n",
        "        print(\"I am a dog\")\n",
        "\n",
        "    def bark(self):\n",
        "        print(\"WOOF!\")"
      ],
      "metadata": {
        "id": "_iZDlG3-29w3"
      },
      "execution_count": null,
      "outputs": []
    },
    {
      "cell_type": "code",
      "source": [
        "mydog = Dog()"
      ],
      "metadata": {
        "colab": {
          "base_uri": "https://localhost:8080/"
        },
        "id": "dOOc2m1c3Ngd",
        "outputId": "260b0d6f-c4ed-4953-ad8b-a14453ab562a"
      },
      "execution_count": null,
      "outputs": [
        {
          "output_type": "stream",
          "name": "stdout",
          "text": [
            "Dog created\n"
          ]
        }
      ]
    },
    {
      "cell_type": "code",
      "source": [
        "mydog.who_am_i()"
      ],
      "metadata": {
        "colab": {
          "base_uri": "https://localhost:8080/"
        },
        "id": "-H1VQVrO3Pyt",
        "outputId": "3dacb503-f1ba-4bec-f545-1d2afcb87c9f"
      },
      "execution_count": null,
      "outputs": [
        {
          "output_type": "stream",
          "name": "stdout",
          "text": [
            "I am a dog\n"
          ]
        }
      ]
    },
    {
      "cell_type": "code",
      "source": [
        "mydog.bark()"
      ],
      "metadata": {
        "colab": {
          "base_uri": "https://localhost:8080/"
        },
        "id": "rd9Z7Th43RuC",
        "outputId": "e4144df5-693e-42f3-d6bd-6bfe55b1457e"
      },
      "execution_count": null,
      "outputs": [
        {
          "output_type": "stream",
          "name": "stdout",
          "text": [
            "WOOF!\n"
          ]
        }
      ]
    },
    {
      "cell_type": "markdown",
      "source": [
        "## **Polymorphism**\n",
        "\n",
        "* Class 1 : Excel\n",
        "    * method : open()\n",
        "* Class 2 : Word\n",
        "    * method : open()\n",
        "- different classes, same object name\n",
        "- implemented using a common method and the same method is used using different objects\n",
        "* Method : open_file(object)\n",
        "    * object.open() will work seamlessely <br>\n",
        "    object can be\n",
        "        - Excel object\n",
        "        - Word object\n"
      ],
      "metadata": {
        "id": "NHuH5U253jTy"
      }
    },
    {
      "cell_type": "code",
      "source": [
        "class Dog():\n",
        "\n",
        "    def __init__(self,name):\n",
        "        self.name = name\n",
        "\n",
        "    def speak(self):\n",
        "        return self.name + \" says woof\""
      ],
      "metadata": {
        "id": "wEtC2iA23dsS"
      },
      "execution_count": null,
      "outputs": []
    },
    {
      "cell_type": "code",
      "source": [
        "class Cat():\n",
        "\n",
        "    def __init__(self,name):\n",
        "        self.name = name\n",
        "\n",
        "    def speak(self):\n",
        "        return self.name + \" says meow\""
      ],
      "metadata": {
        "id": "3sGmJuIwXn2t"
      },
      "execution_count": null,
      "outputs": []
    },
    {
      "cell_type": "code",
      "source": [
        "niko = Dog(\"niko\")\n",
        "felix = Cat(\"felix\")"
      ],
      "metadata": {
        "id": "Ryn1Xbd4Xxcg"
      },
      "execution_count": null,
      "outputs": []
    },
    {
      "cell_type": "code",
      "source": [
        "# observe\n",
        "# both Dog and Cat has speak methods"
      ],
      "metadata": {
        "id": "uqskqh_kX4lN"
      },
      "execution_count": null,
      "outputs": []
    },
    {
      "cell_type": "code",
      "source": [
        "print(niko.speak())\n",
        "print(felix.speak())"
      ],
      "metadata": {
        "colab": {
          "base_uri": "https://localhost:8080/"
        },
        "id": "hjU06COGX_Bu",
        "outputId": "b692f27d-221b-4c10-8ec3-b66137ef3e28"
      },
      "execution_count": null,
      "outputs": [
        {
          "output_type": "stream",
          "name": "stdout",
          "text": [
            "niko says woof\n",
            "felix says meow\n"
          ]
        }
      ]
    },
    {
      "cell_type": "code",
      "source": [
        "# the below function\n",
        "    # 1. calling the same function speak() with the object that is passed to it\n",
        "    # 2. it does not know the implementation of the speak()\n",
        "def pet_speak(pet):\n",
        "    print(pet.speak())"
      ],
      "metadata": {
        "id": "UIpAlNu-YD7P"
      },
      "execution_count": null,
      "outputs": []
    },
    {
      "cell_type": "code",
      "source": [
        "pet_speak(niko)"
      ],
      "metadata": {
        "colab": {
          "base_uri": "https://localhost:8080/"
        },
        "id": "RMqcHvUfYczW",
        "outputId": "8114fbfd-d119-43ef-adf6-ac194f576c8a"
      },
      "execution_count": null,
      "outputs": [
        {
          "output_type": "stream",
          "name": "stdout",
          "text": [
            "niko says woof\n"
          ]
        }
      ]
    },
    {
      "cell_type": "code",
      "source": [
        "pet_speak(felix)"
      ],
      "metadata": {
        "colab": {
          "base_uri": "https://localhost:8080/"
        },
        "id": "s64v-18IYfEo",
        "outputId": "e5346140-675e-4b77-94d8-2fd50f9db548"
      },
      "execution_count": null,
      "outputs": [
        {
          "output_type": "stream",
          "name": "stdout",
          "text": [
            "felix says meow\n"
          ]
        }
      ]
    },
    {
      "cell_type": "markdown",
      "source": [
        "* same method = pet.speak() is being used\n",
        "* different objects = niko, felix used to get two different results"
      ],
      "metadata": {
        "id": "HXNQh5BTYjQn"
      }
    },
    {
      "cell_type": "markdown",
      "source": [
        "### **Abstract class**\n",
        "\n",
        "* use abstract class as base class + inheritence\n",
        "* Abstract classes are not supposed to be instantiated"
      ],
      "metadata": {
        "id": "gRDH5_HBY1mf"
      }
    },
    {
      "cell_type": "code",
      "source": [
        "class Animal():\n",
        "\n",
        "    def __init__(self,name):\n",
        "        self.name = name\n",
        "\n",
        "    def speak(self):\n",
        "        raise NotImplementedError(\"subclass must implement this\")"
      ],
      "metadata": {
        "id": "NgqcsSkpYiHQ"
      },
      "execution_count": null,
      "outputs": []
    },
    {
      "cell_type": "markdown",
      "source": [
        "* We are not expecting the object of Animal() class will be created"
      ],
      "metadata": {
        "id": "uQcWsN8zZa-z"
      }
    },
    {
      "cell_type": "code",
      "source": [
        "myanimal = Animal('fred') # we do not expect this to be created"
      ],
      "metadata": {
        "id": "dtwUNt5OZYqE"
      },
      "execution_count": null,
      "outputs": []
    },
    {
      "cell_type": "code",
      "source": [
        "myanimal.speak() # expecting error here"
      ],
      "metadata": {
        "colab": {
          "base_uri": "https://localhost:8080/",
          "height": 228
        },
        "id": "KTfHgkKGZkkv",
        "outputId": "905cc893-459e-405a-d4a8-f29a72251078"
      },
      "execution_count": null,
      "outputs": [
        {
          "output_type": "error",
          "ename": "NotImplementedError",
          "evalue": "subclass must implement this",
          "traceback": [
            "\u001b[0;31m---------------------------------------------------------------------------\u001b[0m",
            "\u001b[0;31mNotImplementedError\u001b[0m                       Traceback (most recent call last)",
            "\u001b[0;32m<ipython-input-11-188713a00ef6>\u001b[0m in \u001b[0;36m<cell line: 1>\u001b[0;34m()\u001b[0m\n\u001b[0;32m----> 1\u001b[0;31m \u001b[0mmyanimal\u001b[0m\u001b[0;34m.\u001b[0m\u001b[0mspeak\u001b[0m\u001b[0;34m(\u001b[0m\u001b[0;34m)\u001b[0m\u001b[0;34m\u001b[0m\u001b[0;34m\u001b[0m\u001b[0m\n\u001b[0m",
            "\u001b[0;32m<ipython-input-9-48276c19978b>\u001b[0m in \u001b[0;36mspeak\u001b[0;34m(self)\u001b[0m\n\u001b[1;32m      5\u001b[0m \u001b[0;34m\u001b[0m\u001b[0m\n\u001b[1;32m      6\u001b[0m     \u001b[0;32mdef\u001b[0m \u001b[0mspeak\u001b[0m\u001b[0;34m(\u001b[0m\u001b[0mself\u001b[0m\u001b[0;34m)\u001b[0m\u001b[0;34m:\u001b[0m\u001b[0;34m\u001b[0m\u001b[0;34m\u001b[0m\u001b[0m\n\u001b[0;32m----> 7\u001b[0;31m         \u001b[0;32mraise\u001b[0m \u001b[0mNotImplementedError\u001b[0m\u001b[0;34m(\u001b[0m\u001b[0;34m\"subclass must implement this\"\u001b[0m\u001b[0;34m)\u001b[0m\u001b[0;34m\u001b[0m\u001b[0;34m\u001b[0m\u001b[0m\n\u001b[0m",
            "\u001b[0;31mNotImplementedError\u001b[0m: subclass must implement this"
          ]
        }
      ]
    },
    {
      "cell_type": "markdown",
      "source": [
        "**Expectation**\n",
        "* Inherit the Animal class\n",
        "* override the speak()"
      ],
      "metadata": {
        "id": "rNVMzwCuZuLt"
      }
    },
    {
      "cell_type": "code",
      "source": [
        "class Dog(Animal):\n",
        "\n",
        "    # note : if I inherit the Animal class\n",
        "    # the constructor function is also inherited unless we want to override it in this class\n",
        "    # The animal class has __init__ which assigns self.name = name\n",
        "\n",
        "    # we have implemented the speak() method as expected\n",
        "    def speak(self):\n",
        "        return self.name + \" says woof!\""
      ],
      "metadata": {
        "id": "Ld90TJ7aZrJ3"
      },
      "execution_count": null,
      "outputs": []
    },
    {
      "cell_type": "code",
      "source": [
        "class Cat(Animal):\n",
        "\n",
        "    # note : if I inherit the Animal class\n",
        "    # the constructor function is also inherited unless we want to override it in this class\n",
        "    # The animal class has __init__ which assigns self.name = name\n",
        "\n",
        "    # we have implemented the speak() method as expected\n",
        "    def speak(self):\n",
        "        return self.name + \" says meow!\""
      ],
      "metadata": {
        "id": "Jw64k6nOabDy"
      },
      "execution_count": null,
      "outputs": []
    },
    {
      "cell_type": "code",
      "source": [
        "fido_obj = Dog(\"fido\")\n",
        "felix_obj = Cat(\"felix\")\n",
        "\n",
        "print(fido_obj.speak())\n",
        "print(felix_obj.speak())"
      ],
      "metadata": {
        "colab": {
          "base_uri": "https://localhost:8080/"
        },
        "id": "2IGa7-neal9Q",
        "outputId": "b9294d94-64fd-47b9-9773-914aaa365b93"
      },
      "execution_count": null,
      "outputs": [
        {
          "output_type": "stream",
          "name": "stdout",
          "text": [
            "fido says woof!\n",
            "felix says meow!\n"
          ]
        }
      ]
    },
    {
      "cell_type": "markdown",
      "source": [
        "**Practical use case**\n",
        "\n",
        "* Opening of different file types\n",
        "\n",
        "class Files()<br>\n",
        "&emsp;def open():<br>\n",
        "&emsp;&emsp;raise NotImplementedError\n",
        "\n",
        "class word()<br>\n",
        "&emsp;def open():<br>\n",
        "&emsp;&emsp;word open implementation\n",
        "\n",
        "class excel()<br>\n",
        "&emsp;def open():<br>\n",
        "&emsp;&emsp;excel open implementation\n",
        "\n",
        "* user calls\n",
        "\n",
        "file = Files('filename')\\\n",
        "file.open()\n",
        "\n",
        "\n"
      ],
      "metadata": {
        "id": "7L1emM81bKhp"
      }
    },
    {
      "cell_type": "markdown",
      "source": [
        "## **Special Methods**\n",
        "\n",
        "* print --> _ _ str _ _\n",
        "* len   --> _ _ len _ _\n",
        "* del   --> _ _ del _ _"
      ],
      "metadata": {
        "id": "EMV85aGouwE0"
      }
    },
    {
      "cell_type": "code",
      "source": [
        "# let say I create a list\n",
        "mylist = [1,2,3]\n",
        "print(len(mylist))"
      ],
      "metadata": {
        "id": "jqnVmgP6bAJ4",
        "colab": {
          "base_uri": "https://localhost:8080/"
        },
        "outputId": "d372206d-da9f-4687-bcd8-fdd944fe2615"
      },
      "execution_count": null,
      "outputs": [
        {
          "output_type": "stream",
          "name": "stdout",
          "text": [
            "3\n"
          ]
        }
      ]
    },
    {
      "cell_type": "code",
      "source": [
        "# but what happens if I create a class\n",
        "class Sample():\n",
        "  pass"
      ],
      "metadata": {
        "id": "O7iQRF7PvUMK"
      },
      "execution_count": null,
      "outputs": []
    },
    {
      "cell_type": "code",
      "source": [
        "my_sample = Sample()\n",
        "print(len(my_sample)) # error is expected"
      ],
      "metadata": {
        "colab": {
          "base_uri": "https://localhost:8080/",
          "height": 158
        },
        "id": "hfOQCLMCvZ1T",
        "outputId": "a7e610ec-eb9b-4684-8af9-a31bb8e09af8"
      },
      "execution_count": null,
      "outputs": [
        {
          "output_type": "error",
          "ename": "TypeError",
          "evalue": "object of type 'Sample' has no len()",
          "traceback": [
            "\u001b[0;31m---------------------------------------------------------------------------\u001b[0m",
            "\u001b[0;31mTypeError\u001b[0m                                 Traceback (most recent call last)",
            "\u001b[0;32m<ipython-input-3-ce1fd9084293>\u001b[0m in \u001b[0;36m<cell line: 2>\u001b[0;34m()\u001b[0m\n\u001b[1;32m      1\u001b[0m \u001b[0mmy_sample\u001b[0m \u001b[0;34m=\u001b[0m \u001b[0mSample\u001b[0m\u001b[0;34m(\u001b[0m\u001b[0;34m)\u001b[0m\u001b[0;34m\u001b[0m\u001b[0;34m\u001b[0m\u001b[0m\n\u001b[0;32m----> 2\u001b[0;31m \u001b[0mprint\u001b[0m\u001b[0;34m(\u001b[0m\u001b[0mlen\u001b[0m\u001b[0;34m(\u001b[0m\u001b[0mmy_sample\u001b[0m\u001b[0;34m)\u001b[0m\u001b[0;34m)\u001b[0m\u001b[0;34m\u001b[0m\u001b[0;34m\u001b[0m\u001b[0m\n\u001b[0m",
            "\u001b[0;31mTypeError\u001b[0m: object of type 'Sample' has no len()"
          ]
        }
      ]
    },
    {
      "cell_type": "code",
      "source": [
        "print(my_sample) # prints the memory location"
      ],
      "metadata": {
        "colab": {
          "base_uri": "https://localhost:8080/"
        },
        "id": "ZF1oVW3IveH4",
        "outputId": "29b84d00-1368-4d39-e22d-4a361923c5b4"
      },
      "execution_count": null,
      "outputs": [
        {
          "output_type": "stream",
          "name": "stdout",
          "text": [
            "<__main__.Sample object at 0x7b1e76603970>\n"
          ]
        }
      ]
    },
    {
      "cell_type": "code",
      "source": [
        "print(mylist)"
      ],
      "metadata": {
        "colab": {
          "base_uri": "https://localhost:8080/"
        },
        "id": "3P-E29-5vkXH",
        "outputId": "199f026e-1da5-4c72-eb23-221ded5c5f28"
      },
      "execution_count": null,
      "outputs": [
        {
          "output_type": "stream",
          "name": "stdout",
          "text": [
            "[1, 2, 3]\n"
          ]
        }
      ]
    },
    {
      "cell_type": "markdown",
      "source": [
        "So how do we implement our own methods that can mimic the print or len functionality"
      ],
      "metadata": {
        "id": "DvZlIMUlvpbB"
      }
    },
    {
      "cell_type": "code",
      "source": [
        "class Book():\n",
        "\n",
        "  def __init__(self,name,author,pages):\n",
        "    self.name = name\n",
        "    self.author = author\n",
        "    self.pages = pages"
      ],
      "metadata": {
        "id": "w2GNzbfyvn0u"
      },
      "execution_count": null,
      "outputs": []
    },
    {
      "cell_type": "code",
      "source": [
        "b = Book('Python rocks','Niladri',200)"
      ],
      "metadata": {
        "id": "-6-kreiSv_DB"
      },
      "execution_count": null,
      "outputs": []
    },
    {
      "cell_type": "code",
      "source": [
        "print(b) # will return memory location"
      ],
      "metadata": {
        "colab": {
          "base_uri": "https://localhost:8080/"
        },
        "id": "wuoigqtGwCsn",
        "outputId": "09e9b174-ce61-4305-c9f9-3853a29fa4c7"
      },
      "execution_count": null,
      "outputs": [
        {
          "output_type": "stream",
          "name": "stdout",
          "text": [
            "<__main__.Book object at 0x7b1e6877a500>\n"
          ]
        }
      ]
    },
    {
      "cell_type": "code",
      "source": [
        "print(len(b)) # will throw error"
      ],
      "metadata": {
        "colab": {
          "base_uri": "https://localhost:8080/",
          "height": 141
        },
        "id": "hTHyEFGMwDx6",
        "outputId": "0ee23f53-f0de-47d1-d308-ec3ccfef7e71"
      },
      "execution_count": null,
      "outputs": [
        {
          "output_type": "error",
          "ename": "TypeError",
          "evalue": "object of type 'Book' has no len()",
          "traceback": [
            "\u001b[0;31m---------------------------------------------------------------------------\u001b[0m",
            "\u001b[0;31mTypeError\u001b[0m                                 Traceback (most recent call last)",
            "\u001b[0;32m<ipython-input-9-a96cd3291c23>\u001b[0m in \u001b[0;36m<cell line: 1>\u001b[0;34m()\u001b[0m\n\u001b[0;32m----> 1\u001b[0;31m \u001b[0mprint\u001b[0m\u001b[0;34m(\u001b[0m\u001b[0mlen\u001b[0m\u001b[0;34m(\u001b[0m\u001b[0mb\u001b[0m\u001b[0;34m)\u001b[0m\u001b[0;34m)\u001b[0m\u001b[0;34m\u001b[0m\u001b[0;34m\u001b[0m\u001b[0m\n\u001b[0m",
            "\u001b[0;31mTypeError\u001b[0m: object of type 'Book' has no len()"
          ]
        }
      ]
    },
    {
      "cell_type": "code",
      "source": [
        "# now let us create the needed functions for print and length to work in my way\n",
        "class Book():\n",
        "\n",
        "  def __init__(self,name,author,pages):\n",
        "    self.name = name\n",
        "    self.author = author\n",
        "    self.pages = pages\n",
        "\n",
        "  def __str__(self): # this will work if I \"print(object)\"\n",
        "    return f\"Book name = {self.name}, written by author = {self.author}\"\n",
        "\n",
        "  def __len__(self): # this will work if I \"len(object)\"\n",
        "    return self.pages\n",
        "\n",
        "  def __del__(self): # it may not work at all because of Python's memory management of how the destructor works\n",
        "    print(\"The book is deleted\")"
      ],
      "metadata": {
        "id": "hsCRGncGwF5B"
      },
      "execution_count": null,
      "outputs": []
    },
    {
      "cell_type": "code",
      "source": [
        "b = Book('Python rocks','Niladri',200)"
      ],
      "metadata": {
        "id": "Ntr9rtMFwkpi"
      },
      "execution_count": null,
      "outputs": []
    },
    {
      "cell_type": "code",
      "source": [
        "print(b)"
      ],
      "metadata": {
        "colab": {
          "base_uri": "https://localhost:8080/"
        },
        "id": "-xeV-Abzwp75",
        "outputId": "8b7cf4ed-4190-4ff9-92b0-1f9552cf59ef"
      },
      "execution_count": null,
      "outputs": [
        {
          "output_type": "stream",
          "name": "stdout",
          "text": [
            "Book name = Python rocks, written by author = Niladri\n"
          ]
        }
      ]
    },
    {
      "cell_type": "code",
      "source": [
        "x = len(b)\n",
        "print(x)"
      ],
      "metadata": {
        "colab": {
          "base_uri": "https://localhost:8080/"
        },
        "id": "OEUeW4Z4wqzQ",
        "outputId": "225588c4-b0e3-41bf-cdc9-439712b66581"
      },
      "execution_count": null,
      "outputs": [
        {
          "output_type": "stream",
          "name": "stdout",
          "text": [
            "200\n"
          ]
        }
      ]
    },
    {
      "cell_type": "code",
      "source": [
        "del b"
      ],
      "metadata": {
        "colab": {
          "base_uri": "https://localhost:8080/"
        },
        "id": "PaCusa1Uws9f",
        "outputId": "93a940a1-4053-4a81-ee68-1b2e79bae527"
      },
      "execution_count": null,
      "outputs": [
        {
          "output_type": "stream",
          "name": "stdout",
          "text": [
            "The book is deleted\n"
          ]
        }
      ]
    },
    {
      "cell_type": "markdown",
      "source": [
        "## Homework Assignment"
      ],
      "metadata": {
        "id": "TBnI5ogl2tKk"
      }
    },
    {
      "cell_type": "markdown",
      "source": [
        "### **Line problem**\n",
        "\n",
        "* Fill in the Line class methods to accept coordinates as a pair of tuples and return the slope and distance of the line."
      ],
      "metadata": {
        "id": "xQNa92_62x8s"
      }
    },
    {
      "cell_type": "code",
      "source": [
        "class Line:\n",
        "\n",
        "  def __init__(self,coor1,coor2):\n",
        "    self.coor1 = coor1\n",
        "    self.coor2 = coor2\n",
        "\n",
        "  def distance(self):\n",
        "    x1,y1 = self.coor1\n",
        "    x2,y2 = self.coor2\n",
        "    return ((y2-y1)**2 + (x2-x1)**2)**(0.5)\n",
        "\n",
        "\n",
        "  def slope(self):\n",
        "    x1,y1 = self.coor1\n",
        "    x2,y2 = self.coor2\n",
        "    return (y2-y1)/(x2 -x1)"
      ],
      "metadata": {
        "id": "I5nrPaNXzox2"
      },
      "execution_count": null,
      "outputs": []
    },
    {
      "cell_type": "code",
      "source": [
        "coordinate1 = (3,2)\n",
        "coordinate2 = (8,10)\n",
        "\n",
        "li = Line(coordinate1,coordinate2)\n",
        "\n",
        "print(f\"Distance is = {li.distance()}\")\n",
        "print(f\"Slope is = {li.slope()}\")"
      ],
      "metadata": {
        "id": "XWQTn07a3Bj5",
        "outputId": "35053dca-8a9d-4036-b0fa-7ffe81cdc40e",
        "colab": {
          "base_uri": "https://localhost:8080/"
        }
      },
      "execution_count": null,
      "outputs": [
        {
          "output_type": "stream",
          "name": "stdout",
          "text": [
            "Distance is = 9.433981132056603\n",
            "Slope is = 1.6\n"
          ]
        }
      ]
    },
    {
      "cell_type": "markdown",
      "source": [
        "### **Cylinder problem**"
      ],
      "metadata": {
        "id": "4NoYWb_Y4Kpn"
      }
    },
    {
      "cell_type": "code",
      "source": [
        "class Cylinder:\n",
        "\n",
        "  # class attribute\n",
        "  pi = 3.14\n",
        "\n",
        "  def __init__(self,height=1,radius=1):\n",
        "    self.radius = radius\n",
        "    self.height = height\n",
        "\n",
        "  def volume(self):\n",
        "    R = self.radius\n",
        "    H = self.height\n",
        "    return Cylinder.pi * (R**2) * (H)\n",
        "\n",
        "  def surface_area(self):\n",
        "    R = self.radius\n",
        "    H = self.height\n",
        "    return 2 * (Cylinder.pi) * (R) * (H) + 2 * (Cylinder.pi) * (R**2)"
      ],
      "metadata": {
        "id": "TdUSHOzb35wE"
      },
      "execution_count": null,
      "outputs": []
    },
    {
      "cell_type": "code",
      "source": [
        "c = Cylinder(2,3)\n",
        "print(c.volume())\n",
        "print(c.surface_area())"
      ],
      "metadata": {
        "id": "SvOD5rCf45SQ",
        "outputId": "b77bb3a3-a842-4d7d-9eee-96c9429eb7f0",
        "colab": {
          "base_uri": "https://localhost:8080/"
        }
      },
      "execution_count": null,
      "outputs": [
        {
          "output_type": "stream",
          "name": "stdout",
          "text": [
            "56.52\n",
            "94.2\n"
          ]
        }
      ]
    },
    {
      "cell_type": "markdown",
      "source": [
        "### **Bank Account - HW**"
      ],
      "metadata": {
        "id": "dXImQqOTnIwY"
      }
    },
    {
      "cell_type": "code",
      "source": [
        "class Account():\n",
        "\n",
        "    def display_balance(self,owner):\n",
        "        print(' ')\n",
        "        print(\"--------------------\")\n",
        "        print(' Displaying balance ')\n",
        "        print(\"--------------------\")\n",
        "\n",
        "        for acct in self.accounts:\n",
        "            if acct['owner'] == self.owner:\n",
        "                # show the updated balance\n",
        "                print(f\"{'Account:':<10} {acct['owner']}\")\n",
        "                print(f\"{'Balance:':<10} {acct['balance']}\")\n",
        "\n",
        "        print(' '*2)\n",
        "\n",
        "\n",
        "    def __init__(self):\n",
        "        self.accounts = []\n",
        "\n",
        "    def add_accounts(self,owner,balance):\n",
        "        self.owner = owner\n",
        "        self.balance = balance\n",
        "\n",
        "        self.accounts.append(\n",
        "                                {\n",
        "                                    \"owner\" : self.owner,\n",
        "                                    \"balance\": self.balance\n",
        "                                }\n",
        "                            )\n",
        "\n",
        "    def validate_owner(self,owner):\n",
        "        self.owner = owner\n",
        "        print('Validate owner:',self.owner)\n",
        "\n",
        "        for acct in self.accounts:\n",
        "            if acct['owner'] == self.owner:\n",
        "                return True\n",
        "        return False\n",
        "\n",
        "    def deposit(self,owner,deposit_amt):\n",
        "        self.owner = owner\n",
        "        self.deposit_amt = deposit_amt\n",
        "\n",
        "        for acct in self.accounts:\n",
        "            if acct['owner'] == self.owner:\n",
        "                acct['balance'] = acct['balance'] + self.deposit_amt\n",
        "                return True\n",
        "        return False\n",
        "\n",
        "    def withdrawals(self,owner,withdraw_amt):\n",
        "        self.owner = owner\n",
        "        self.withdraw_amt = withdraw_amt\n",
        "\n",
        "        for acct in self.accounts:\n",
        "            if acct['owner'] == self.owner:\n",
        "                if float(acct['balance']) >= self.withdraw_amt:\n",
        "                    acct['balance'] = acct['balance'] - self.withdraw_amt\n",
        "                    return True\n",
        "\n",
        "        return False"
      ],
      "metadata": {
        "id": "btC0tBlcVjdo"
      },
      "execution_count": 58,
      "outputs": []
    },
    {
      "cell_type": "code",
      "source": [
        "# using dunder method = __str__\n",
        "class Account():\n",
        "\n",
        "    def __init__(self):\n",
        "        self.accounts = []\n",
        "\n",
        "    def add_accounts(self,owner,balance):\n",
        "        self.owner = owner\n",
        "        self.balance = balance\n",
        "\n",
        "        self.accounts.append(\n",
        "                                {\n",
        "                                    \"owner\" : self.owner,\n",
        "                                    \"balance\": self.balance\n",
        "                                }\n",
        "                            )\n",
        "\n",
        "    def validate_owner(self,owner):\n",
        "        self.owner = owner\n",
        "        print('Validate owner:',self.owner)\n",
        "\n",
        "        for acct in self.accounts:\n",
        "            if acct['owner'] == self.owner:\n",
        "                return True\n",
        "        return False\n",
        "\n",
        "    def deposit(self,owner,deposit_amt):\n",
        "        self.owner = owner\n",
        "        self.deposit_amt = deposit_amt\n",
        "\n",
        "        for acct in self.accounts:\n",
        "            if acct['owner'] == self.owner:\n",
        "                acct['balance'] = acct['balance'] + self.deposit_amt\n",
        "                return True\n",
        "        return False\n",
        "\n",
        "    def withdrawals(self,owner,withdraw_amt):\n",
        "        self.owner = owner\n",
        "        self.withdraw_amt = withdraw_amt\n",
        "\n",
        "        for acct in self.accounts:\n",
        "            if acct['owner'] == self.owner:\n",
        "                if float(acct['balance']) >= self.withdraw_amt:\n",
        "                    acct['balance'] = acct['balance'] - self.withdraw_amt\n",
        "                    return True\n",
        "\n",
        "        return False\n",
        "\n",
        "    # use of dunder methods\n",
        "    def __str__(self):\n",
        "        print(' ')\n",
        "        print(\"--------------------\")\n",
        "        print(' Displaying balance ')\n",
        "        print(\"--------------------\")\n",
        "\n",
        "        for acct in self.accounts:\n",
        "            if acct['owner'] == self.owner:\n",
        "                # show the updated balance\n",
        "                return (f\"{'Account:':<10} {acct['owner']}\\n{'Balance:':<10} {acct['balance']}\\n\\n\")"
      ],
      "metadata": {
        "id": "gShWKWjP0arv"
      },
      "execution_count": 1,
      "outputs": []
    },
    {
      "cell_type": "code",
      "source": [
        "def main():\n",
        "    print('Welcome to the Bank !!')\n",
        "\n",
        "    myacct = Account()\n",
        "\n",
        "    # initializing variables\n",
        "    continue_op = True\n",
        "\n",
        "    while continue_op:\n",
        "\n",
        "        # initializing variables\n",
        "        owner = ''\n",
        "        balance = 0\n",
        "        deposit_amt = 0\n",
        "        withdrawal_amt = 0\n",
        "\n",
        "        owner = input(\"Enter the owner : \").strip()\n",
        "\n",
        "        if myacct.validate_owner(owner) == True:\n",
        "            print('Owner Exists')\n",
        "        else:\n",
        "            # first time owner entry and therefore balance is required\n",
        "            print('Owner needs to be registered')\n",
        "\n",
        "            while 'float' not in str(type(balance)):\n",
        "                balance = input(\"Enter the balance : \").strip()\n",
        "                if balance.isdigit():\n",
        "                    balance = float(balance)\n",
        "\n",
        "            # adding the accounts\n",
        "            myacct.add_accounts(owner,balance)\n",
        "\n",
        "        print(myacct)\n",
        "        # myacct.display_balance(owner)\n",
        "\n",
        "        print(\"--------------------\")\n",
        "        print(f\"Choose your operation for the owner : {owner}\")\n",
        "        print(\"--------------------\")\n",
        "        print(\"1. Depsoit\")\n",
        "        print(\"2. Withdrawals \")\n",
        "        print(\"--------------------\")\n",
        "\n",
        "        operation = 'wrong'\n",
        "\n",
        "        while operation not in ['1','2']:\n",
        "            operation = input(\"Choose your desired operation (1/2) : \").strip()\n",
        "\n",
        "        if operation == '1':\n",
        "\n",
        "            while 'float' not in str(type(deposit_amt)):\n",
        "                deposit_amt = input(\"How much you want to deposit : \").strip()\n",
        "\n",
        "                if deposit_amt.isdigit():\n",
        "                    deposit_amt = float(deposit_amt)\n",
        "\n",
        "            result = myacct.deposit(owner,deposit_amt)\n",
        "\n",
        "            if result:\n",
        "                print('Deposit was successful')\n",
        "            else:\n",
        "                print('Deposit was not successful. Try again..')\n",
        "        else:\n",
        "            while 'float' not in str(type(withdrawal_amt)):\n",
        "                withdrawal_amt = input(\"How much you want to withdraw : \").strip()\n",
        "\n",
        "                if withdrawal_amt.isdigit():\n",
        "                    withdrawal_amt = float(withdrawal_amt)\n",
        "\n",
        "            result = myacct.withdrawals(owner,withdrawal_amt)\n",
        "\n",
        "            if result:\n",
        "                print('Withdrawal was successful.')\n",
        "            else:\n",
        "                print('Withdrawal was not successful. Try again..')\n",
        "\n",
        "        # show the revised balance for the owner\n",
        "        print(myacct)\n",
        "        # myacct.display_balance(owner)\n",
        "\n",
        "        continue_attempt = 'wrong'\n",
        "\n",
        "        while continue_attempt not in ['Y','N']:\n",
        "            continue_attempt = input(\"Do you want to continue with accounts entry / updates (Y/N) : \").strip()\n",
        "\n",
        "        if continue_attempt == 'N':\n",
        "            continue_op = False\n",
        "\n",
        "            print('Thanks for your operation in Bank')\n",
        "            print(' ')\n",
        "\n",
        "if __name__ == \"__main__\":\n",
        "    main()"
      ],
      "metadata": {
        "id": "u19DChVb5Gq2",
        "colab": {
          "base_uri": "https://localhost:8080/"
        },
        "outputId": "43a45d3f-eebe-4f12-f178-7f418491cccd"
      },
      "execution_count": 2,
      "outputs": [
        {
          "output_type": "stream",
          "name": "stdout",
          "text": [
            "Welcome to the Bank !!\n",
            "Enter the owner : Niladri\n",
            "Validate owner: Niladri\n",
            "Owner needs to be registered\n",
            "Enter the balance : 120\n",
            " \n",
            "--------------------\n",
            " Displaying balance \n",
            "--------------------\n",
            "Account:   Niladri\n",
            "Balance:   120.0\n",
            "\n",
            "\n",
            "--------------------\n",
            "Choose your operation for the owner : Niladri\n",
            "--------------------\n",
            "1. Depsoit\n",
            "2. Withdrawals \n",
            "--------------------\n",
            "Choose your desired operation (1/2) : 1\n",
            "How much you want to deposit : 100\n",
            "Deposit was successful\n",
            " \n",
            "--------------------\n",
            " Displaying balance \n",
            "--------------------\n",
            "Account:   Niladri\n",
            "Balance:   220.0\n",
            "\n",
            "\n",
            "Do you want to continue with accounts entry / updates (Y/N) : Y\n",
            "Enter the owner : Arun\n",
            "Validate owner: Arun\n",
            "Owner needs to be registered\n",
            "Enter the balance : 200\n",
            " \n",
            "--------------------\n",
            " Displaying balance \n",
            "--------------------\n",
            "Account:   Arun\n",
            "Balance:   200.0\n",
            "\n",
            "\n",
            "--------------------\n",
            "Choose your operation for the owner : Arun\n",
            "--------------------\n",
            "1. Depsoit\n",
            "2. Withdrawals \n",
            "--------------------\n",
            "Choose your desired operation (1/2) : 1\n",
            "How much you want to deposit : 1200\n",
            "Deposit was successful\n",
            " \n",
            "--------------------\n",
            " Displaying balance \n",
            "--------------------\n",
            "Account:   Arun\n",
            "Balance:   1400.0\n",
            "\n",
            "\n",
            "Do you want to continue with accounts entry / updates (Y/N) : Y\n",
            "Enter the owner : Niladri\n",
            "Validate owner: Niladri\n",
            "Owner Exists\n",
            " \n",
            "--------------------\n",
            " Displaying balance \n",
            "--------------------\n",
            "Account:   Niladri\n",
            "Balance:   220.0\n",
            "\n",
            "\n",
            "--------------------\n",
            "Choose your operation for the owner : Niladri\n",
            "--------------------\n",
            "1. Depsoit\n",
            "2. Withdrawals \n",
            "--------------------\n",
            "Choose your desired operation (1/2) : 2\n",
            "How much you want to withdraw : 250\n",
            "Withdrawal was not successful. Try again..\n",
            " \n",
            "--------------------\n",
            " Displaying balance \n",
            "--------------------\n",
            "Account:   Niladri\n",
            "Balance:   220.0\n",
            "\n",
            "\n",
            "Do you want to continue with accounts entry / updates (Y/N) : Y\n",
            "Enter the owner : Niladri\n",
            "Validate owner: Niladri\n",
            "Owner Exists\n",
            " \n",
            "--------------------\n",
            " Displaying balance \n",
            "--------------------\n",
            "Account:   Niladri\n",
            "Balance:   220.0\n",
            "\n",
            "\n",
            "--------------------\n",
            "Choose your operation for the owner : Niladri\n",
            "--------------------\n",
            "1. Depsoit\n",
            "2. Withdrawals \n",
            "--------------------\n",
            "Choose your desired operation (1/2) : 2\n",
            "How much you want to withdraw : 200\n",
            "Withdrawal was successful.\n",
            " \n",
            "--------------------\n",
            " Displaying balance \n",
            "--------------------\n",
            "Account:   Niladri\n",
            "Balance:   20.0\n",
            "\n",
            "\n",
            "Do you want to continue with accounts entry / updates (Y/N) : N\n",
            "Thanks for your operation in Bank\n",
            " \n"
          ]
        }
      ]
    },
    {
      "cell_type": "code",
      "source": [],
      "metadata": {
        "id": "yDxsqGR5ZonZ"
      },
      "execution_count": null,
      "outputs": []
    }
  ]
}