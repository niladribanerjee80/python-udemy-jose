{
  "nbformat": 4,
  "nbformat_minor": 0,
  "metadata": {
    "colab": {
      "provenance": [],
      "authorship_tag": "ABX9TyOF8LtGoibsk8E7wA/B25gL",
      "include_colab_link": true
    },
    "kernelspec": {
      "name": "python3",
      "display_name": "Python 3"
    },
    "language_info": {
      "name": "python"
    }
  },
  "cells": [
    {
      "cell_type": "markdown",
      "metadata": {
        "id": "view-in-github",
        "colab_type": "text"
      },
      "source": [
        "<a href=\"https://colab.research.google.com/github/niladribanerjee80/python-udemy-jose/blob/main/Section_17_Working_with_PDF_CSV_Files.ipynb\" target=\"_parent\"><img src=\"https://colab.research.google.com/assets/colab-badge.svg\" alt=\"Open In Colab\"/></a>"
      ]
    },
    {
      "cell_type": "markdown",
      "source": [
        "# Working with CSV"
      ],
      "metadata": {
        "id": "Ebge9Enh0N6k"
      }
    },
    {
      "cell_type": "code",
      "execution_count": 4,
      "metadata": {
        "colab": {
          "base_uri": "https://localhost:8080/"
        },
        "id": "HsuS_16aqd-Y",
        "outputId": "e20f95d9-afc3-4104-f128-826ec1ac2dcd"
      },
      "outputs": [
        {
          "output_type": "stream",
          "name": "stdout",
          "text": [
            "['id', 'first_name', 'last_name', 'email', 'gender', 'ip_address', 'city']\n",
            "['1', 'Joseph', 'Zaniolini', 'jzaniolini0@simplemachines.org', 'Male', '163.168.68.132', 'Pedro Leopoldo']\n",
            "['2', 'Freida', 'Drillingcourt', 'fdrillingcourt1@umich.edu', 'Female', '97.212.102.79', 'Buri']\n",
            "['3', 'Nanni', 'Herity', 'nherity2@statcounter.com', 'Female', '145.151.178.98', 'Claver']\n",
            "['4', 'Orazio', 'Frayling', 'ofrayling3@economist.com', 'Male', '25.199.143.143', 'Kungur']\n",
            "['5', 'Julianne', 'Murrison', 'jmurrison4@cbslocal.com', 'Female', '10.186.243.144', 'Sainte-Luce-sur-Loire']\n",
            "['6', 'Lucy', 'Gamet', 'lgamet5@list-manage.com', 'Female', '10.151.93.36', 'Pak Phli']\n",
            "['7', 'Dyana', 'Howatt', 'dhowatt6@amazon.com', 'Female', '224.169.61.29', 'Palmares']\n",
            "['8', 'Kassey', 'Herion', 'kherion7@amazon.com', 'Female', '245.51.154.79', 'Zákynthos']\n",
            "['9', 'Chrissy', 'Hedworth', 'chedworth8@china.com.cn', 'Male', '124.222.93.57', 'Boevange-sur-Attert']\n",
            "['10', 'Hyatt', 'Gasquoine', 'hgasquoine9@google.ru', 'Male', '221.155.106.39', 'Złoty Stok']\n"
          ]
        }
      ],
      "source": [
        "import csv\n",
        "\n",
        "# open the file\n",
        "data = open(\"example.csv\", encoding=\"utf-8\")\n",
        "\n",
        "# csv.reader\n",
        "csv_data = csv.reader(data)\n",
        "\n",
        "# reformat the data into a python object = list of lists\n",
        "data_lines = list(csv_data)\n",
        "\n",
        "for line in data_lines[:11]:\n",
        "    print(line)"
      ]
    },
    {
      "cell_type": "code",
      "source": [
        "# we know the first row is a header\n",
        "\n",
        "# how to get the specific row, let say row = 10th\n",
        "\n",
        "data_lines[10]"
      ],
      "metadata": {
        "colab": {
          "base_uri": "https://localhost:8080/"
        },
        "id": "jG71MqPwwLGt",
        "outputId": "3a162411-e191-4914-83c7-34ec756ca386"
      },
      "execution_count": 5,
      "outputs": [
        {
          "output_type": "execute_result",
          "data": {
            "text/plain": [
              "['10',\n",
              " 'Hyatt',\n",
              " 'Gasquoine',\n",
              " 'hgasquoine9@google.ru',\n",
              " 'Male',\n",
              " '221.155.106.39',\n",
              " 'Złoty Stok']"
            ]
          },
          "metadata": {},
          "execution_count": 5
        }
      ]
    },
    {
      "cell_type": "code",
      "source": [
        "# how to get all email values\n",
        "\n",
        "# we know emails are present in 3rd column index\n",
        "\n",
        "all_emails = []\n",
        "\n",
        "# doing this for 20 items\n",
        "for line in data_lines[1:21]:\n",
        "    all_emails.append(line[3])\n",
        "\n",
        "# print the emails\n",
        "for email in all_emails:\n",
        "    print(email)"
      ],
      "metadata": {
        "colab": {
          "base_uri": "https://localhost:8080/"
        },
        "id": "zcau0B47wpZV",
        "outputId": "d4e235d0-f2c3-422e-82cf-702760d98b82"
      },
      "execution_count": 7,
      "outputs": [
        {
          "output_type": "stream",
          "name": "stdout",
          "text": [
            "jzaniolini0@simplemachines.org\n",
            "fdrillingcourt1@umich.edu\n",
            "nherity2@statcounter.com\n",
            "ofrayling3@economist.com\n",
            "jmurrison4@cbslocal.com\n",
            "lgamet5@list-manage.com\n",
            "dhowatt6@amazon.com\n",
            "kherion7@amazon.com\n",
            "chedworth8@china.com.cn\n",
            "hgasquoine9@google.ru\n",
            "ftarra@shareasale.com\n",
            "abathb@umn.edu\n",
            "lchastangc@goo.gl\n",
            "cceried@yale.edu\n",
            "ajeppe@umich.edu\n",
            "pcaldeirof@chronoengine.com\n",
            "nclunieg@utexas.edu\n",
            "kroish@unicef.org\n",
            "iboycotti@dailymail.co.uk\n",
            "bglanertj@timesonline.co.uk\n"
          ]
        }
      ]
    },
    {
      "cell_type": "code",
      "source": [
        "# if you look at the dataset, the first and last names are present differently\n",
        "\n",
        "# let say we need the full name\n",
        "\n",
        "names = []\n",
        "\n",
        "# doing this for 20 records\n",
        "for line in data_lines[1:21]:\n",
        "    names.append(line[1]+' '+line[2])\n",
        "\n",
        "for name in names:\n",
        "    print(name)"
      ],
      "metadata": {
        "colab": {
          "base_uri": "https://localhost:8080/"
        },
        "id": "gDn70bZhxCHC",
        "outputId": "456a108b-0adc-4583-d8d3-9196881ab190"
      },
      "execution_count": 9,
      "outputs": [
        {
          "output_type": "stream",
          "name": "stdout",
          "text": [
            "Joseph Zaniolini\n",
            "Freida Drillingcourt\n",
            "Nanni Herity\n",
            "Orazio Frayling\n",
            "Julianne Murrison\n",
            "Lucy Gamet\n",
            "Dyana Howatt\n",
            "Kassey Herion\n",
            "Chrissy Hedworth\n",
            "Hyatt Gasquoine\n",
            "Felicdad Tarr\n",
            "Andrew Bath\n",
            "Lucais Chastang\n",
            "Car Cerie\n",
            "Alvera Jepp\n",
            "Prescott Caldeiro\n",
            "Nariko Clunie\n",
            "Kalvin Rois\n",
            "Isa Boycott\n",
            "Benedetta Glanert\n"
          ]
        }
      ]
    },
    {
      "cell_type": "code",
      "source": [
        "# how to write to a csv file\n",
        "\n",
        "file_to_output = open(\"to_save_file.csv\", mode='w', newline='')"
      ],
      "metadata": {
        "id": "exT1JgK3yAhS"
      },
      "execution_count": 10,
      "outputs": []
    },
    {
      "cell_type": "code",
      "source": [
        "csv_writer = csv.writer(file_to_output,delimiter=\",\")"
      ],
      "metadata": {
        "id": "gimAqEqiyGBT"
      },
      "execution_count": 11,
      "outputs": []
    },
    {
      "cell_type": "code",
      "source": [
        "csv_writer.writerow(['a','b','c'])"
      ],
      "metadata": {
        "colab": {
          "base_uri": "https://localhost:8080/"
        },
        "id": "-KseBxpByGEy",
        "outputId": "12f70afc-b5f1-465a-fce3-7bcadc75abf8"
      },
      "execution_count": 12,
      "outputs": [
        {
          "output_type": "execute_result",
          "data": {
            "text/plain": [
              "7"
            ]
          },
          "metadata": {},
          "execution_count": 12
        }
      ]
    },
    {
      "cell_type": "code",
      "source": [
        "# takes list of list but it has to match the columns\n",
        "\n",
        "csv_writer.writerows([\n",
        "                        ['1','2','3'],\n",
        "                        ['4','5','6'],\n",
        "                        ['7','8','9']\n",
        "                     ]\n",
        "                    )"
      ],
      "metadata": {
        "id": "XMl4mgBVyGIh"
      },
      "execution_count": 13,
      "outputs": []
    },
    {
      "cell_type": "code",
      "source": [
        "# close the file\n",
        "file_to_output.close()"
      ],
      "metadata": {
        "id": "X3kJxH9myE6p"
      },
      "execution_count": 14,
      "outputs": []
    },
    {
      "cell_type": "markdown",
      "source": [
        "# Working with PDF"
      ],
      "metadata": {
        "id": "X3hmhnrF0RmT"
      }
    },
    {
      "cell_type": "code",
      "source": [],
      "metadata": {
        "id": "WX8ss85nyE-g"
      },
      "execution_count": null,
      "outputs": []
    }
  ]
}