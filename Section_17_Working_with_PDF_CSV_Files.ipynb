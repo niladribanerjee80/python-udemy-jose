{
  "nbformat": 4,
  "nbformat_minor": 0,
  "metadata": {
    "colab": {
      "provenance": [],
      "authorship_tag": "ABX9TyNyFF+vpil85RFieiAlFi8N",
      "include_colab_link": true
    },
    "kernelspec": {
      "name": "python3",
      "display_name": "Python 3"
    },
    "language_info": {
      "name": "python"
    }
  },
  "cells": [
    {
      "cell_type": "markdown",
      "metadata": {
        "id": "view-in-github",
        "colab_type": "text"
      },
      "source": [
        "<a href=\"https://colab.research.google.com/github/niladribanerjee80/python-udemy-jose/blob/main/Section_17_Working_with_PDF_CSV_Files.ipynb\" target=\"_parent\"><img src=\"https://colab.research.google.com/assets/colab-badge.svg\" alt=\"Open In Colab\"/></a>"
      ]
    },
    {
      "cell_type": "markdown",
      "source": [
        "# Working with CSV"
      ],
      "metadata": {
        "id": "Ebge9Enh0N6k"
      }
    },
    {
      "cell_type": "code",
      "execution_count": null,
      "metadata": {
        "colab": {
          "base_uri": "https://localhost:8080/"
        },
        "id": "HsuS_16aqd-Y",
        "outputId": "e20f95d9-afc3-4104-f128-826ec1ac2dcd"
      },
      "outputs": [
        {
          "output_type": "stream",
          "name": "stdout",
          "text": [
            "['id', 'first_name', 'last_name', 'email', 'gender', 'ip_address', 'city']\n",
            "['1', 'Joseph', 'Zaniolini', 'jzaniolini0@simplemachines.org', 'Male', '163.168.68.132', 'Pedro Leopoldo']\n",
            "['2', 'Freida', 'Drillingcourt', 'fdrillingcourt1@umich.edu', 'Female', '97.212.102.79', 'Buri']\n",
            "['3', 'Nanni', 'Herity', 'nherity2@statcounter.com', 'Female', '145.151.178.98', 'Claver']\n",
            "['4', 'Orazio', 'Frayling', 'ofrayling3@economist.com', 'Male', '25.199.143.143', 'Kungur']\n",
            "['5', 'Julianne', 'Murrison', 'jmurrison4@cbslocal.com', 'Female', '10.186.243.144', 'Sainte-Luce-sur-Loire']\n",
            "['6', 'Lucy', 'Gamet', 'lgamet5@list-manage.com', 'Female', '10.151.93.36', 'Pak Phli']\n",
            "['7', 'Dyana', 'Howatt', 'dhowatt6@amazon.com', 'Female', '224.169.61.29', 'Palmares']\n",
            "['8', 'Kassey', 'Herion', 'kherion7@amazon.com', 'Female', '245.51.154.79', 'Zákynthos']\n",
            "['9', 'Chrissy', 'Hedworth', 'chedworth8@china.com.cn', 'Male', '124.222.93.57', 'Boevange-sur-Attert']\n",
            "['10', 'Hyatt', 'Gasquoine', 'hgasquoine9@google.ru', 'Male', '221.155.106.39', 'Złoty Stok']\n"
          ]
        }
      ],
      "source": [
        "import csv\n",
        "\n",
        "# open the file\n",
        "data = open(\"example.csv\", encoding=\"utf-8\")\n",
        "\n",
        "# csv.reader\n",
        "csv_data = csv.reader(data)\n",
        "\n",
        "# reformat the data into a python object = list of lists\n",
        "data_lines = list(csv_data)\n",
        "\n",
        "for line in data_lines[:11]:\n",
        "    print(line)"
      ]
    },
    {
      "cell_type": "code",
      "source": [
        "# we know the first row is a header\n",
        "\n",
        "# how to get the specific row, let say row = 10th\n",
        "\n",
        "data_lines[10]"
      ],
      "metadata": {
        "colab": {
          "base_uri": "https://localhost:8080/"
        },
        "id": "jG71MqPwwLGt",
        "outputId": "3a162411-e191-4914-83c7-34ec756ca386"
      },
      "execution_count": null,
      "outputs": [
        {
          "output_type": "execute_result",
          "data": {
            "text/plain": [
              "['10',\n",
              " 'Hyatt',\n",
              " 'Gasquoine',\n",
              " 'hgasquoine9@google.ru',\n",
              " 'Male',\n",
              " '221.155.106.39',\n",
              " 'Złoty Stok']"
            ]
          },
          "metadata": {},
          "execution_count": 5
        }
      ]
    },
    {
      "cell_type": "code",
      "source": [
        "# how to get all email values\n",
        "\n",
        "# we know emails are present in 3rd column index\n",
        "\n",
        "all_emails = []\n",
        "\n",
        "# doing this for 20 items\n",
        "for line in data_lines[1:21]:\n",
        "    all_emails.append(line[3])\n",
        "\n",
        "# print the emails\n",
        "for email in all_emails:\n",
        "    print(email)"
      ],
      "metadata": {
        "colab": {
          "base_uri": "https://localhost:8080/"
        },
        "id": "zcau0B47wpZV",
        "outputId": "d4e235d0-f2c3-422e-82cf-702760d98b82"
      },
      "execution_count": null,
      "outputs": [
        {
          "output_type": "stream",
          "name": "stdout",
          "text": [
            "jzaniolini0@simplemachines.org\n",
            "fdrillingcourt1@umich.edu\n",
            "nherity2@statcounter.com\n",
            "ofrayling3@economist.com\n",
            "jmurrison4@cbslocal.com\n",
            "lgamet5@list-manage.com\n",
            "dhowatt6@amazon.com\n",
            "kherion7@amazon.com\n",
            "chedworth8@china.com.cn\n",
            "hgasquoine9@google.ru\n",
            "ftarra@shareasale.com\n",
            "abathb@umn.edu\n",
            "lchastangc@goo.gl\n",
            "cceried@yale.edu\n",
            "ajeppe@umich.edu\n",
            "pcaldeirof@chronoengine.com\n",
            "nclunieg@utexas.edu\n",
            "kroish@unicef.org\n",
            "iboycotti@dailymail.co.uk\n",
            "bglanertj@timesonline.co.uk\n"
          ]
        }
      ]
    },
    {
      "cell_type": "code",
      "source": [
        "# if you look at the dataset, the first and last names are present differently\n",
        "\n",
        "# let say we need the full name\n",
        "\n",
        "names = []\n",
        "\n",
        "# doing this for 20 records\n",
        "for line in data_lines[1:21]:\n",
        "    names.append(line[1]+' '+line[2])\n",
        "\n",
        "for name in names:\n",
        "    print(name)"
      ],
      "metadata": {
        "colab": {
          "base_uri": "https://localhost:8080/"
        },
        "id": "gDn70bZhxCHC",
        "outputId": "456a108b-0adc-4583-d8d3-9196881ab190"
      },
      "execution_count": null,
      "outputs": [
        {
          "output_type": "stream",
          "name": "stdout",
          "text": [
            "Joseph Zaniolini\n",
            "Freida Drillingcourt\n",
            "Nanni Herity\n",
            "Orazio Frayling\n",
            "Julianne Murrison\n",
            "Lucy Gamet\n",
            "Dyana Howatt\n",
            "Kassey Herion\n",
            "Chrissy Hedworth\n",
            "Hyatt Gasquoine\n",
            "Felicdad Tarr\n",
            "Andrew Bath\n",
            "Lucais Chastang\n",
            "Car Cerie\n",
            "Alvera Jepp\n",
            "Prescott Caldeiro\n",
            "Nariko Clunie\n",
            "Kalvin Rois\n",
            "Isa Boycott\n",
            "Benedetta Glanert\n"
          ]
        }
      ]
    },
    {
      "cell_type": "code",
      "source": [
        "# how to write to a csv file\n",
        "\n",
        "file_to_output = open(\"to_save_file.csv\", mode='w', newline='')"
      ],
      "metadata": {
        "id": "exT1JgK3yAhS"
      },
      "execution_count": null,
      "outputs": []
    },
    {
      "cell_type": "code",
      "source": [
        "csv_writer = csv.writer(file_to_output,delimiter=\",\")"
      ],
      "metadata": {
        "id": "gimAqEqiyGBT"
      },
      "execution_count": null,
      "outputs": []
    },
    {
      "cell_type": "code",
      "source": [
        "csv_writer.writerow(['a','b','c'])"
      ],
      "metadata": {
        "colab": {
          "base_uri": "https://localhost:8080/"
        },
        "id": "-KseBxpByGEy",
        "outputId": "12f70afc-b5f1-465a-fce3-7bcadc75abf8"
      },
      "execution_count": null,
      "outputs": [
        {
          "output_type": "execute_result",
          "data": {
            "text/plain": [
              "7"
            ]
          },
          "metadata": {},
          "execution_count": 12
        }
      ]
    },
    {
      "cell_type": "code",
      "source": [
        "# takes list of list but it has to match the columns\n",
        "\n",
        "csv_writer.writerows([\n",
        "                        ['1','2','3'],\n",
        "                        ['4','5','6'],\n",
        "                        ['7','8','9']\n",
        "                     ]\n",
        "                    )"
      ],
      "metadata": {
        "id": "XMl4mgBVyGIh"
      },
      "execution_count": null,
      "outputs": []
    },
    {
      "cell_type": "code",
      "source": [
        "# close the file\n",
        "file_to_output.close()"
      ],
      "metadata": {
        "id": "X3kJxH9myE6p"
      },
      "execution_count": null,
      "outputs": []
    },
    {
      "cell_type": "markdown",
      "source": [
        "# Working with PDF"
      ],
      "metadata": {
        "id": "X3hmhnrF0RmT"
      }
    },
    {
      "cell_type": "code",
      "source": [
        "# PDF = Portable Document Format, Adobe in 1990s\n",
        "# many PDFs are not machine readable through Python\n",
        "# PDFs that are simply scanned my not be readable using python\n",
        "# open source lib = PyPDF2"
      ],
      "metadata": {
        "id": "WX8ss85nyE-g"
      },
      "execution_count": null,
      "outputs": []
    },
    {
      "cell_type": "code",
      "source": [
        "pip install PyPDF2"
      ],
      "metadata": {
        "colab": {
          "base_uri": "https://localhost:8080/"
        },
        "id": "UXFLP5K14IwB",
        "outputId": "b33ace6e-501e-449b-ddd0-d95deec7923a"
      },
      "execution_count": 2,
      "outputs": [
        {
          "output_type": "stream",
          "name": "stdout",
          "text": [
            "Collecting PyPDF2\n",
            "  Downloading pypdf2-3.0.1-py3-none-any.whl.metadata (6.8 kB)\n",
            "Downloading pypdf2-3.0.1-py3-none-any.whl (232 kB)\n",
            "\u001b[2K   \u001b[90m━━━━━━━━━━━━━━━━━━━━━━━━━━━━━━━━━━━━━━━━\u001b[0m \u001b[32m232.6/232.6 kB\u001b[0m \u001b[31m2.0 MB/s\u001b[0m eta \u001b[36m0:00:00\u001b[0m\n",
            "\u001b[?25hInstalling collected packages: PyPDF2\n",
            "Successfully installed PyPDF2-3.0.1\n"
          ]
        }
      ]
    },
    {
      "cell_type": "code",
      "source": [
        "pip install slate3k"
      ],
      "metadata": {
        "id": "JXCBdf36H0ew",
        "outputId": "f8736a85-0df0-4709-d966-08d819274036",
        "colab": {
          "base_uri": "https://localhost:8080/"
        }
      },
      "execution_count": 6,
      "outputs": [
        {
          "output_type": "stream",
          "name": "stdout",
          "text": [
            "Collecting slate3k\n",
            "  Downloading slate3k-0.5.3-py2.py3-none-any.whl.metadata (2.4 kB)\n",
            "Collecting pdfminer3k (from slate3k)\n",
            "  Downloading pdfminer3k-1.3.4-py3-none-any.whl.metadata (1.1 kB)\n",
            "Collecting ply (from pdfminer3k->slate3k)\n",
            "  Downloading ply-3.11-py2.py3-none-any.whl.metadata (844 bytes)\n",
            "Downloading slate3k-0.5.3-py2.py3-none-any.whl (7.9 kB)\n",
            "Downloading pdfminer3k-1.3.4-py3-none-any.whl (100 kB)\n",
            "\u001b[2K   \u001b[90m━━━━━━━━━━━━━━━━━━━━━━━━━━━━━━━━━━━━━━━━\u001b[0m \u001b[32m100.8/100.8 kB\u001b[0m \u001b[31m897.7 kB/s\u001b[0m eta \u001b[36m0:00:00\u001b[0m\n",
            "\u001b[?25hDownloading ply-3.11-py2.py3-none-any.whl (49 kB)\n",
            "\u001b[2K   \u001b[90m━━━━━━━━━━━━━━━━━━━━━━━━━━━━━━━━━━━━━━━━\u001b[0m \u001b[32m49.6/49.6 kB\u001b[0m \u001b[31m2.8 MB/s\u001b[0m eta \u001b[36m0:00:00\u001b[0m\n",
            "\u001b[?25hInstalling collected packages: ply, pdfminer3k, slate3k\n",
            "Successfully installed pdfminer3k-1.3.4 ply-3.11 slate3k-0.5.3\n"
          ]
        }
      ]
    },
    {
      "cell_type": "code",
      "source": [
        "# read from PDF\n",
        "# adding pages to PDF"
      ],
      "metadata": {
        "id": "lq1QBhjB4Oyx"
      },
      "execution_count": 3,
      "outputs": []
    },
    {
      "cell_type": "code",
      "source": [
        "import PyPDF2"
      ],
      "metadata": {
        "id": "SG-yKG__4ixP"
      },
      "execution_count": 4,
      "outputs": []
    },
    {
      "cell_type": "code",
      "source": [
        "# open the file\n",
        "f = open(\"Working_Business_Proposal.pdf\",'rb')\n",
        "\n",
        "# parse through PyPDF2.PdfReader\n",
        "pdfreader = PyPDF2.PdfReader(f)\n",
        "\n",
        "# number of pages\n",
        "v_no_of_pages = len(pdfreader.pages)\n",
        "print(f\"Number of pages : {v_no_of_pages}\")\n",
        "\n",
        "# read page 1\n",
        "page_1 = pdfreader.pages[0]\n",
        "\n",
        "# read text from page 1\n",
        "page_1_text = page_1.extract_text()\n",
        "\n",
        "print(page_1_text)\n",
        "\n",
        "f.close()"
      ],
      "metadata": {
        "id": "IoiS3jGw4pWQ",
        "outputId": "c6f19de0-3e33-421f-8025-389d235d0e45",
        "colab": {
          "base_uri": "https://localhost:8080/"
        }
      },
      "execution_count": 14,
      "outputs": [
        {
          "output_type": "stream",
          "name": "stdout",
          "text": [
            "Number of pages : 5\n",
            "Business Proposal The Revolution is Coming Leverage agile frameworks to provide a robust synopsis for high level overviews. Iterative approaches to corporate strategy foster collaborative thinking to further the overall value proposition. Organically grow the holistic world view of disruptive innovation via workplace diversity and empowerment. Bring to the table win-win survival strategies to ensure proactive domination. At the end of the day, going forward, a new normal that has evolved from generation X is on the runway heading towards a streamlined cloud solution. User generated content in real-time will have multiple touchpoints for offshoring. Capitalize on low hanging fruit to identify a ballpark value added activity to beta test. Override the digital divide with additional clickthroughs from DevOps. Nanotechnology immersion along the information highway will close the loop on focusing solely on the bottom line. Podcasting operational change management inside of workﬂows to establish a framework. Taking seamless key performance indicators ofﬂine to maximise the long tail. Keeping your eye on the ball while performing a deep dive on the start-up mentality to derive convergence on cross-platform integration. Collaboratively administrate empowered markets via plug-and-play networks. Dynamically procrastinate B2C users after installed base beneﬁts. Dramatically visualize customer directed convergence without revolutionary ROI. Efﬁciently unleash cross-media information without cross-media value. Quickly maximize timely deliverables for real-time schemas. Dramatically maintain clicks-and-mortar solutions without functional solutions. BUSINESS PROPOSAL!1\n"
          ]
        }
      ]
    },
    {
      "cell_type": "code",
      "source": [
        "# import slate3k as slate\n",
        "\n",
        "# with open('Working_Business_Proposal.pdf', 'rb') as f:\n",
        "#     extracted_text = slate.PDF(f)\n",
        "#     print(extracted_text)\n",
        "\n",
        "import slate3k as slate\n",
        "\n",
        "with open('Working_Business_Proposal.pdf', 'rb') as f:\n",
        "    pdf_text = slate.PDF(f)\n",
        "    first_page_text = pdf_text[0]\n",
        "    print(first_page_text)"
      ],
      "metadata": {
        "id": "4HyZjvsy49in",
        "outputId": "b1a313b0-62d5-4e2c-9cdc-a9ef190ebb49",
        "colab": {
          "base_uri": "https://localhost:8080/"
        }
      },
      "execution_count": 7,
      "outputs": [
        {
          "output_type": "stream",
          "name": "stdout",
          "text": [
            "Business Proposal \n",
            "\n",
            "The Revolution is Coming \n",
            "\n",
            "Leverage agile frameworks to provide a robust synopsis for high level \n",
            "overviews. Iterative approaches to corporate strategy foster collaborative \n",
            "thinking \n",
            "to \n",
            "further \n",
            "the overall value proposition. Organically grow \n",
            "the \n",
            "holistic world view of disruptive innovation via workplace diversity and \n",
            "empowerment. \n",
            "\n",
            "Bring \n",
            "to \n",
            "the \n",
            "table win-win \n",
            "survival \n",
            "strategies \n",
            "to ensure proactive \n",
            "domination. At the end of the day, going forward, a new normal that has \n",
            "evolved from generation X is on the runway heading towards a streamlined \n",
            "cloud solution. User generated content \n",
            "in real-time will have multiple \n",
            "touchpoints for offshoring. \n",
            "\n",
            "Capitalize on low hanging fruit to identify a ballpark value added activity to \n",
            "beta test. Override the digital divide with additional clickthroughs from \n",
            "DevOps. Nanotechnology immersion along the information highway will \n",
            "close the loop on focusing solely on the bottom line. \n",
            "\n",
            "Podcasting operational change management \n",
            "inside of workﬂows \n",
            "to \n",
            "establish a framework. Taking seamless key performance indicators ofﬂine \n",
            "to maximise the long tail. Keeping your eye on the ball while performing a \n",
            "deep dive on \n",
            "the start-up mentality \n",
            "to derive convergence on cross-\n",
            "platform integration. \n",
            "\n",
            "Collaboratively administrate empowered markets \n",
            "via plug-and-play \n",
            "networks. Dynamically procrastinate B2C users after \n",
            "installed base \n",
            "beneﬁts. Dramatically visualize customer directed convergence without \n",
            "revolutionary ROI. \n",
            "\n",
            "Efﬁciently unleash cross-media \n",
            "information without cross-media value. \n",
            "Quickly maximize timely deliverables for real-time schemas. Dramatically \n",
            "maintain clicks-and-mortar solutions without functional solutions. \n",
            "\n",
            "BUSINESS PROPOSAL\n",
            "\n",
            "!1\n",
            "\n",
            "\f\n"
          ]
        }
      ]
    },
    {
      "cell_type": "code",
      "source": [
        "# how to add a page at the last\n",
        "# PyPDF2 does not allow to enter in between"
      ],
      "metadata": {
        "id": "_tibctxqIJUd"
      },
      "execution_count": 15,
      "outputs": []
    },
    {
      "cell_type": "code",
      "source": [
        "# open the file\n",
        "f = open(\"Working_Business_Proposal.pdf\",'rb')\n",
        "\n",
        "# parse through PyPDF2.PdfReader\n",
        "pdf_reader = PyPDF2.PdfReader(f)\n",
        "\n",
        "# number of pages\n",
        "# v_no_of_pages = len(pdfreader.pages)\n",
        "# print(f\"Number of pages : {v_no_of_pages}\")\n",
        "\n",
        "# read page 1\n",
        "page_1 = pdf_reader.pages[0]\n",
        "\n",
        "# create pdf_writer object\n",
        "pdf_writer = PyPDF2.PdfWriter()\n",
        "\n",
        "# add page = it should be a PyPDF2.pdf.PageObject to be added\n",
        "pdf_writer.add_page(page_1)\n",
        "\n",
        "pdf_output = open('some_new_file.pdf','wb')\n",
        "\n",
        "pdf_writer.write(pdf_output)\n",
        "\n",
        "pdf_output.close()\n",
        "f.close()"
      ],
      "metadata": {
        "id": "C3H48yHzJeiV"
      },
      "execution_count": 16,
      "outputs": []
    },
    {
      "cell_type": "code",
      "source": [
        "# open \"Working_Business_Proposal.pdf\"\n",
        "# read all pages and write the content into list\n",
        "\n",
        "# open the file\n",
        "f = open(\"Working_Business_Proposal.pdf\",'rb')\n",
        "\n",
        "pdf_text = []\n",
        "\n",
        "pdf_reader = PyPDF2.PdfReader(f)\n",
        "\n",
        "for page in pdf_reader.pages:\n",
        "    pdf_text.append(page.extract_text())\n",
        "\n",
        "# close the file\n",
        "f.close()\n",
        "\n",
        "print(len(pdf_text))"
      ],
      "metadata": {
        "id": "wx6avNcuKvak",
        "outputId": "b3124a41-e485-4acf-fc60-b0852b834b2d",
        "colab": {
          "base_uri": "https://localhost:8080/"
        }
      },
      "execution_count": 19,
      "outputs": [
        {
          "output_type": "stream",
          "name": "stdout",
          "text": [
            "5\n"
          ]
        }
      ]
    },
    {
      "cell_type": "code",
      "source": [
        "f.close()"
      ],
      "metadata": {
        "id": "PB0g3zNWOKZa"
      },
      "execution_count": 18,
      "outputs": []
    },
    {
      "cell_type": "code",
      "source": [],
      "metadata": {
        "id": "T712X3dhOL1X"
      },
      "execution_count": null,
      "outputs": []
    }
  ]
}