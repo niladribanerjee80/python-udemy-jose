{
  "nbformat": 4,
  "nbformat_minor": 0,
  "metadata": {
    "colab": {
      "provenance": [],
      "authorship_tag": "ABX9TyMq0y+agNGoKbO9V8hNDG1M",
      "include_colab_link": true
    },
    "kernelspec": {
      "name": "python3",
      "display_name": "Python 3"
    },
    "language_info": {
      "name": "python"
    }
  },
  "cells": [
    {
      "cell_type": "markdown",
      "metadata": {
        "id": "view-in-github",
        "colab_type": "text"
      },
      "source": [
        "<a href=\"https://colab.research.google.com/github/niladribanerjee80/python-udemy-jose/blob/main/Section_17_Working_with_PDF_CSV_Files.ipynb\" target=\"_parent\"><img src=\"https://colab.research.google.com/assets/colab-badge.svg\" alt=\"Open In Colab\"/></a>"
      ]
    },
    {
      "cell_type": "markdown",
      "source": [
        "# Working with CSV"
      ],
      "metadata": {
        "id": "Ebge9Enh0N6k"
      }
    },
    {
      "cell_type": "code",
      "execution_count": 4,
      "metadata": {
        "colab": {
          "base_uri": "https://localhost:8080/"
        },
        "id": "HsuS_16aqd-Y",
        "outputId": "e20f95d9-afc3-4104-f128-826ec1ac2dcd"
      },
      "outputs": [
        {
          "output_type": "stream",
          "name": "stdout",
          "text": [
            "['id', 'first_name', 'last_name', 'email', 'gender', 'ip_address', 'city']\n",
            "['1', 'Joseph', 'Zaniolini', 'jzaniolini0@simplemachines.org', 'Male', '163.168.68.132', 'Pedro Leopoldo']\n",
            "['2', 'Freida', 'Drillingcourt', 'fdrillingcourt1@umich.edu', 'Female', '97.212.102.79', 'Buri']\n",
            "['3', 'Nanni', 'Herity', 'nherity2@statcounter.com', 'Female', '145.151.178.98', 'Claver']\n",
            "['4', 'Orazio', 'Frayling', 'ofrayling3@economist.com', 'Male', '25.199.143.143', 'Kungur']\n",
            "['5', 'Julianne', 'Murrison', 'jmurrison4@cbslocal.com', 'Female', '10.186.243.144', 'Sainte-Luce-sur-Loire']\n",
            "['6', 'Lucy', 'Gamet', 'lgamet5@list-manage.com', 'Female', '10.151.93.36', 'Pak Phli']\n",
            "['7', 'Dyana', 'Howatt', 'dhowatt6@amazon.com', 'Female', '224.169.61.29', 'Palmares']\n",
            "['8', 'Kassey', 'Herion', 'kherion7@amazon.com', 'Female', '245.51.154.79', 'Zákynthos']\n",
            "['9', 'Chrissy', 'Hedworth', 'chedworth8@china.com.cn', 'Male', '124.222.93.57', 'Boevange-sur-Attert']\n",
            "['10', 'Hyatt', 'Gasquoine', 'hgasquoine9@google.ru', 'Male', '221.155.106.39', 'Złoty Stok']\n"
          ]
        }
      ],
      "source": [
        "import csv\n",
        "\n",
        "# open the file\n",
        "data = open(\"example.csv\", encoding=\"utf-8\")\n",
        "\n",
        "# csv.reader\n",
        "csv_data = csv.reader(data)\n",
        "\n",
        "# reformat the data into a python object = list of lists\n",
        "data_lines = list(csv_data)\n",
        "\n",
        "for line in data_lines[:11]:\n",
        "    print(line)"
      ]
    },
    {
      "cell_type": "code",
      "source": [
        "# we know the first row is a header\n",
        "\n",
        "# how to get the specific row, let say row = 10th\n",
        "\n",
        "data_lines[10]"
      ],
      "metadata": {
        "colab": {
          "base_uri": "https://localhost:8080/"
        },
        "id": "jG71MqPwwLGt",
        "outputId": "3a162411-e191-4914-83c7-34ec756ca386"
      },
      "execution_count": 5,
      "outputs": [
        {
          "output_type": "execute_result",
          "data": {
            "text/plain": [
              "['10',\n",
              " 'Hyatt',\n",
              " 'Gasquoine',\n",
              " 'hgasquoine9@google.ru',\n",
              " 'Male',\n",
              " '221.155.106.39',\n",
              " 'Złoty Stok']"
            ]
          },
          "metadata": {},
          "execution_count": 5
        }
      ]
    },
    {
      "cell_type": "code",
      "source": [
        "# how to get all email values\n",
        "\n",
        "# we know emails are present in 3rd column index\n",
        "\n",
        "all_emails = []\n",
        "\n",
        "# doing this for 20 items\n",
        "for line in data_lines[1:21]:\n",
        "    all_emails.append(line[3])\n",
        "\n",
        "# print the emails\n",
        "for email in all_emails:\n",
        "    print(email)"
      ],
      "metadata": {
        "colab": {
          "base_uri": "https://localhost:8080/"
        },
        "id": "zcau0B47wpZV",
        "outputId": "d4e235d0-f2c3-422e-82cf-702760d98b82"
      },
      "execution_count": 7,
      "outputs": [
        {
          "output_type": "stream",
          "name": "stdout",
          "text": [
            "jzaniolini0@simplemachines.org\n",
            "fdrillingcourt1@umich.edu\n",
            "nherity2@statcounter.com\n",
            "ofrayling3@economist.com\n",
            "jmurrison4@cbslocal.com\n",
            "lgamet5@list-manage.com\n",
            "dhowatt6@amazon.com\n",
            "kherion7@amazon.com\n",
            "chedworth8@china.com.cn\n",
            "hgasquoine9@google.ru\n",
            "ftarra@shareasale.com\n",
            "abathb@umn.edu\n",
            "lchastangc@goo.gl\n",
            "cceried@yale.edu\n",
            "ajeppe@umich.edu\n",
            "pcaldeirof@chronoengine.com\n",
            "nclunieg@utexas.edu\n",
            "kroish@unicef.org\n",
            "iboycotti@dailymail.co.uk\n",
            "bglanertj@timesonline.co.uk\n"
          ]
        }
      ]
    },
    {
      "cell_type": "code",
      "source": [
        "# if you look at the dataset, the first and last names are present differently\n",
        "\n",
        "# let say we need the full name\n",
        "\n",
        "names = []\n",
        "\n",
        "# doing this for 20 records\n",
        "for line in data_lines[1:21]:\n",
        "    names.append(line[1]+' '+line[2])\n",
        "\n",
        "for name in names:\n",
        "    print(name)"
      ],
      "metadata": {
        "colab": {
          "base_uri": "https://localhost:8080/"
        },
        "id": "gDn70bZhxCHC",
        "outputId": "456a108b-0adc-4583-d8d3-9196881ab190"
      },
      "execution_count": 9,
      "outputs": [
        {
          "output_type": "stream",
          "name": "stdout",
          "text": [
            "Joseph Zaniolini\n",
            "Freida Drillingcourt\n",
            "Nanni Herity\n",
            "Orazio Frayling\n",
            "Julianne Murrison\n",
            "Lucy Gamet\n",
            "Dyana Howatt\n",
            "Kassey Herion\n",
            "Chrissy Hedworth\n",
            "Hyatt Gasquoine\n",
            "Felicdad Tarr\n",
            "Andrew Bath\n",
            "Lucais Chastang\n",
            "Car Cerie\n",
            "Alvera Jepp\n",
            "Prescott Caldeiro\n",
            "Nariko Clunie\n",
            "Kalvin Rois\n",
            "Isa Boycott\n",
            "Benedetta Glanert\n"
          ]
        }
      ]
    },
    {
      "cell_type": "code",
      "source": [
        "# how to write to a csv file\n",
        "\n",
        "file_to_output = open(\"to_save_file.csv\", mode='w', newline='')"
      ],
      "metadata": {
        "id": "exT1JgK3yAhS"
      },
      "execution_count": 10,
      "outputs": []
    },
    {
      "cell_type": "code",
      "source": [
        "csv_writer = csv.writer(file_to_output,delimiter=\",\")"
      ],
      "metadata": {
        "id": "gimAqEqiyGBT"
      },
      "execution_count": 11,
      "outputs": []
    },
    {
      "cell_type": "code",
      "source": [
        "csv_writer.writerow(['a','b','c'])"
      ],
      "metadata": {
        "colab": {
          "base_uri": "https://localhost:8080/"
        },
        "id": "-KseBxpByGEy",
        "outputId": "12f70afc-b5f1-465a-fce3-7bcadc75abf8"
      },
      "execution_count": 12,
      "outputs": [
        {
          "output_type": "execute_result",
          "data": {
            "text/plain": [
              "7"
            ]
          },
          "metadata": {},
          "execution_count": 12
        }
      ]
    },
    {
      "cell_type": "code",
      "source": [
        "# takes list of list but it has to match the columns\n",
        "\n",
        "csv_writer.writerows([\n",
        "                        ['1','2','3'],\n",
        "                        ['4','5','6'],\n",
        "                        ['7','8','9']\n",
        "                     ]\n",
        "                    )"
      ],
      "metadata": {
        "id": "XMl4mgBVyGIh"
      },
      "execution_count": 13,
      "outputs": []
    },
    {
      "cell_type": "code",
      "source": [
        "# close the file\n",
        "file_to_output.close()"
      ],
      "metadata": {
        "id": "X3kJxH9myE6p"
      },
      "execution_count": 14,
      "outputs": []
    },
    {
      "cell_type": "markdown",
      "source": [
        "# Working with PDF"
      ],
      "metadata": {
        "id": "X3hmhnrF0RmT"
      }
    },
    {
      "cell_type": "code",
      "source": [
        "# PDF = Portable Document Format, Adobe in 1990s\n",
        "# many PDFs are not machine readable through Python\n",
        "# PDFs that are simply scanned my not be readable using python\n",
        "# open source lib = PyPDF2"
      ],
      "metadata": {
        "id": "WX8ss85nyE-g"
      },
      "execution_count": 15,
      "outputs": []
    },
    {
      "cell_type": "code",
      "source": [
        "pip install PyPDF2"
      ],
      "metadata": {
        "colab": {
          "base_uri": "https://localhost:8080/"
        },
        "id": "UXFLP5K14IwB",
        "outputId": "f764e4f8-5a14-4aab-e4b8-ac8c305f161a"
      },
      "execution_count": 16,
      "outputs": [
        {
          "output_type": "stream",
          "name": "stdout",
          "text": [
            "Collecting PyPDF2\n",
            "  Downloading pypdf2-3.0.1-py3-none-any.whl.metadata (6.8 kB)\n",
            "Downloading pypdf2-3.0.1-py3-none-any.whl (232 kB)\n",
            "\u001b[?25l   \u001b[90m━━━━━━━━━━━━━━━━━━━━━━━━━━━━━━━━━━━━━━━━\u001b[0m \u001b[32m0.0/232.6 kB\u001b[0m \u001b[31m?\u001b[0m eta \u001b[36m-:--:--\u001b[0m\r\u001b[2K   \u001b[90m━━━━━━━━━━━━━━━━━━━━━━━━━━━━━━━━━━━━━━━━\u001b[0m \u001b[32m232.6/232.6 kB\u001b[0m \u001b[31m12.5 MB/s\u001b[0m eta \u001b[36m0:00:00\u001b[0m\n",
            "\u001b[?25hInstalling collected packages: PyPDF2\n",
            "Successfully installed PyPDF2-3.0.1\n"
          ]
        }
      ]
    },
    {
      "cell_type": "code",
      "source": [
        "# read from PDF\n",
        "# adding pages to PDF"
      ],
      "metadata": {
        "id": "lq1QBhjB4Oyx"
      },
      "execution_count": 17,
      "outputs": []
    },
    {
      "cell_type": "code",
      "source": [
        "import PyPDF2"
      ],
      "metadata": {
        "id": "SG-yKG__4ixP"
      },
      "execution_count": 18,
      "outputs": []
    },
    {
      "cell_type": "code",
      "source": [
        "# open the file\n",
        "f = open(\"Working_Business_Proposal.pdf\",'rb')\n",
        "\n",
        "# parse through PyPDF2.PdfFileReader\n",
        "pdfreader = PyPDF2.PdfReader(f)\n",
        "\n"
      ],
      "metadata": {
        "id": "IoiS3jGw4pWQ"
      },
      "execution_count": 21,
      "outputs": []
    },
    {
      "cell_type": "code",
      "source": [],
      "metadata": {
        "id": "71fDWbKW49bI"
      },
      "execution_count": 23,
      "outputs": []
    },
    {
      "cell_type": "code",
      "source": [
        "len(pdfreader.pages)"
      ],
      "metadata": {
        "colab": {
          "base_uri": "https://localhost:8080/"
        },
        "id": "lkgW7EZh49fR",
        "outputId": "028e93cc-c073-4788-87e0-2320441c5d19"
      },
      "execution_count": 25,
      "outputs": [
        {
          "output_type": "execute_result",
          "data": {
            "text/plain": [
              "5"
            ]
          },
          "metadata": {},
          "execution_count": 25
        }
      ]
    },
    {
      "cell_type": "code",
      "source": [
        "page_1 = pdfreader.pages[0]"
      ],
      "metadata": {
        "id": "4HyZjvsy49in"
      },
      "execution_count": 28,
      "outputs": []
    },
    {
      "cell_type": "code",
      "source": [
        "type(page_1)"
      ],
      "metadata": {
        "colab": {
          "base_uri": "https://localhost:8080/",
          "height": 203
        },
        "id": "ZbKi5FgB49mG",
        "outputId": "d4fb9ea7-7366-4683-94e1-3a7bf3778ba2"
      },
      "execution_count": 29,
      "outputs": [
        {
          "output_type": "execute_result",
          "data": {
            "text/plain": [
              "PyPDF2._page.PageObject"
            ],
            "text/html": [
              "<div style=\"max-width:800px; border: 1px solid var(--colab-border-color);\"><style>\n",
              "      pre.function-repr-contents {\n",
              "        overflow-x: auto;\n",
              "        padding: 8px 12px;\n",
              "        max-height: 500px;\n",
              "      }\n",
              "\n",
              "      pre.function-repr-contents.function-repr-contents-collapsed {\n",
              "        cursor: pointer;\n",
              "        max-height: 100px;\n",
              "      }\n",
              "    </style>\n",
              "    <pre style=\"white-space: initial; background:\n",
              "         var(--colab-secondary-surface-color); padding: 8px 12px;\n",
              "         border-bottom: 1px solid var(--colab-border-color);\"><b>PyPDF2._page.PageObject</b><br/>def __init__(pdf: Optional[PdfReaderProtocol]=None, indirect_reference: Optional[IndirectObject]=None, indirect_ref: Optional[IndirectObject]=None) -&gt; None</pre><pre class=\"function-repr-contents function-repr-contents-collapsed\" style=\"\"><a class=\"filepath\" style=\"display:none\" href=\"#\">/usr/local/lib/python3.10/dist-packages/PyPDF2/_page.py</a>PageObject represents a single page within a PDF file.\n",
              "\n",
              "Typically this object will be created by accessing the\n",
              ":meth:`get_page()&lt;PyPDF2.PdfReader.get_page&gt;` method of the\n",
              ":class:`PdfReader&lt;PyPDF2.PdfReader&gt;` class, but it is\n",
              "also possible to create an empty page with the\n",
              ":meth:`create_blank_page()&lt;PyPDF2._page.PageObject.create_blank_page&gt;` static method.\n",
              "\n",
              "Args:\n",
              "    pdf: PDF file the page belongs to.\n",
              "    indirect_reference: Stores the original indirect reference to\n",
              "        this object in its source PDF</pre>\n",
              "      <script>\n",
              "      if (google.colab.kernel.accessAllowed && google.colab.files && google.colab.files.view) {\n",
              "        for (const element of document.querySelectorAll('.filepath')) {\n",
              "          element.style.display = 'block'\n",
              "          element.onclick = (event) => {\n",
              "            event.preventDefault();\n",
              "            event.stopPropagation();\n",
              "            google.colab.files.view(element.textContent, 334);\n",
              "          };\n",
              "        }\n",
              "      }\n",
              "      for (const element of document.querySelectorAll('.function-repr-contents')) {\n",
              "        element.onclick = (event) => {\n",
              "          event.preventDefault();\n",
              "          event.stopPropagation();\n",
              "          element.classList.toggle('function-repr-contents-collapsed');\n",
              "        };\n",
              "      }\n",
              "      </script>\n",
              "      </div>"
            ]
          },
          "metadata": {},
          "execution_count": 29
        }
      ]
    },
    {
      "cell_type": "code",
      "source": [
        "page_1_text = page_1.extract_text()"
      ],
      "metadata": {
        "id": "BuYV08UI49pu"
      },
      "execution_count": 31,
      "outputs": []
    },
    {
      "cell_type": "code",
      "source": [
        "page_1_text"
      ],
      "metadata": {
        "colab": {
          "base_uri": "https://localhost:8080/",
          "height": 157
        },
        "id": "wglbaOOn49tM",
        "outputId": "643df849-6ce6-4c7a-9f4b-d7760e83dbd3"
      },
      "execution_count": 32,
      "outputs": [
        {
          "output_type": "execute_result",
          "data": {
            "text/plain": [
              "'Business Proposal The Revolution is Coming Leverage agile frameworks to provide a robust synopsis for high level overviews. Iterative approaches to corporate strategy foster collaborative thinking to further the overall value proposition. Organically grow the holistic world view of disruptive innovation via workplace diversity and empowerment. Bring to the table win-win survival strategies to ensure proactive domination. At the end of the day, going forward, a new normal that has evolved from generation X is on the runway heading towards a streamlined cloud solution. User generated content in real-time will have multiple touchpoints for offshoring. Capitalize on low hanging fruit to identify a ballpark value added activity to beta test. Override the digital divide with additional clickthroughs from DevOps. Nanotechnology immersion along the information highway will close the loop on focusing solely on the bottom line. Podcasting operational change management inside of workﬂows to establish a framework. Taking seamless key performance indicators ofﬂine to maximise the long tail. Keeping your eye on the ball while performing a deep dive on the start-up mentality to derive convergence on cross-platform integration. Collaboratively administrate empowered markets via plug-and-play networks. Dynamically procrastinate B2C users after installed base beneﬁts. Dramatically visualize customer directed convergence without revolutionary ROI. Efﬁciently unleash cross-media information without cross-media value. Quickly maximize timely deliverables for real-time schemas. Dramatically maintain clicks-and-mortar solutions without functional solutions. BUSINESS PROPOSAL!1'"
            ],
            "application/vnd.google.colaboratory.intrinsic+json": {
              "type": "string"
            }
          },
          "metadata": {},
          "execution_count": 32
        }
      ]
    },
    {
      "cell_type": "code",
      "source": [],
      "metadata": {
        "id": "oIm0PL-u49ws"
      },
      "execution_count": null,
      "outputs": []
    },
    {
      "cell_type": "code",
      "source": [],
      "metadata": {
        "id": "3ZSweP7H4903"
      },
      "execution_count": null,
      "outputs": []
    }
  ]
}