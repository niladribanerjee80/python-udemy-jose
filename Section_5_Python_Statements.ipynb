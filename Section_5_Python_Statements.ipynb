{
  "nbformat": 4,
  "nbformat_minor": 0,
  "metadata": {
    "colab": {
      "provenance": [],
      "include_colab_link": true
    },
    "kernelspec": {
      "name": "python3",
      "display_name": "Python 3"
    },
    "language_info": {
      "name": "python"
    }
  },
  "cells": [
    {
      "cell_type": "markdown",
      "metadata": {
        "id": "view-in-github",
        "colab_type": "text"
      },
      "source": [
        "<a href=\"https://colab.research.google.com/github/niladribanerjee80/python-udemy-jose/blob/main/Section_5_Python_Statements.ipynb\" target=\"_parent\"><img src=\"https://colab.research.google.com/assets/colab-badge.svg\" alt=\"Open In Colab\"/></a>"
      ]
    },
    {
      "cell_type": "markdown",
      "source": [
        "# If statements"
      ],
      "metadata": {
        "id": "TXFm_CKNQCn-"
      }
    },
    {
      "cell_type": "code",
      "execution_count": null,
      "metadata": {
        "colab": {
          "base_uri": "https://localhost:8080/"
        },
        "id": "d8_DilVPPku1",
        "outputId": "764b5101-6afd-4838-ecf1-9c70b6f61832"
      },
      "outputs": [
        {
          "output_type": "stream",
          "name": "stdout",
          "text": [
            "ITS TRUE\n"
          ]
        }
      ],
      "source": [
        "if True:\n",
        "  print('ITS TRUE')"
      ]
    },
    {
      "cell_type": "code",
      "source": [
        "if 3 > 2:\n",
        "  print('ITS TRUE!')"
      ],
      "metadata": {
        "colab": {
          "base_uri": "https://localhost:8080/"
        },
        "id": "-FUiVNNgQYvg",
        "outputId": "a141862e-4391-4b96-dcb8-e2af809ad72c"
      },
      "execution_count": null,
      "outputs": [
        {
          "output_type": "stream",
          "name": "stdout",
          "text": [
            "ITS TRUE!\n"
          ]
        }
      ]
    },
    {
      "cell_type": "code",
      "source": [
        "hungry = False\n",
        "\n",
        "if hungry:\n",
        "  print('Feed me!')\n",
        "else:\n",
        "  print('I am not hungry')"
      ],
      "metadata": {
        "colab": {
          "base_uri": "https://localhost:8080/"
        },
        "id": "377FMw_bQmSc",
        "outputId": "2a199527-cdb4-4fc4-f937-0631345387b0"
      },
      "execution_count": null,
      "outputs": [
        {
          "output_type": "stream",
          "name": "stdout",
          "text": [
            "I am not hungry\n"
          ]
        }
      ]
    },
    {
      "cell_type": "code",
      "source": [
        "# if - elif - else use\n",
        "\n",
        "loc = \"Bank\"\n",
        "\n",
        "if loc == \"Auto Shop\":\n",
        "  print('Cars are cool !')\n",
        "elif loc == \"Bank\":\n",
        "  print('Money is cool !')\n",
        "else:\n",
        "  print('I do not know much')"
      ],
      "metadata": {
        "colab": {
          "base_uri": "https://localhost:8080/"
        },
        "id": "LJhUizM2QqYP",
        "outputId": "7ecd2350-ff4a-4a8c-e55a-820687f0d905"
      },
      "execution_count": null,
      "outputs": [
        {
          "output_type": "stream",
          "name": "stdout",
          "text": [
            "Money is cool !\n"
          ]
        }
      ]
    },
    {
      "cell_type": "markdown",
      "source": [
        "# For Loops\n",
        "\n",
        "\n",
        "---\n",
        "\n",
        "many objects in python are iterable. This means we can iterate over every element in the object\n",
        "\n",
        "* strings\n",
        "* list\n",
        "* tuple\n",
        "* dictionary\n",
        "* sets\n",
        "\n",
        "are all iterables\n",
        "\n",
        "We can execute for loops to execute a block of code for every iteration.\n",
        "\n",
        "for item in iterable:\\\n",
        "&emsp; do something\n",
        "\n",
        "\n"
      ],
      "metadata": {
        "id": "pd5LU2A-RHza"
      }
    },
    {
      "cell_type": "code",
      "source": [
        "# for loop using list\n",
        "my_list = [1,2,3]\n",
        "\n",
        "for item in my_list:\n",
        "  print(item)\n"
      ],
      "metadata": {
        "colab": {
          "base_uri": "https://localhost:8080/"
        },
        "id": "WhmC-hGVRBdN",
        "outputId": "d3c921eb-9abf-4703-ae18-4a30e35c91d0"
      },
      "execution_count": null,
      "outputs": [
        {
          "output_type": "stream",
          "name": "stdout",
          "text": [
            "1\n",
            "2\n",
            "3\n"
          ]
        }
      ]
    },
    {
      "cell_type": "code",
      "source": [
        "# print only even number\n",
        "my_list = [1,2,3,4,5,6,7,8,9,10]\n",
        "\n",
        "for num in my_list:\n",
        "  if num % 2 == 0:\n",
        "    print(num)"
      ],
      "metadata": {
        "colab": {
          "base_uri": "https://localhost:8080/"
        },
        "id": "k3NkcHE1YWXM",
        "outputId": "acbaf1a2-0564-418c-9bf7-4b3df77f84a3"
      },
      "execution_count": null,
      "outputs": [
        {
          "output_type": "stream",
          "name": "stdout",
          "text": [
            "2\n",
            "4\n",
            "6\n",
            "8\n",
            "10\n"
          ]
        }
      ]
    },
    {
      "cell_type": "code",
      "source": [
        "my_list = [1,2,3,4,5,6,7,8,9,10]\n",
        "\n",
        "for num in my_list:\n",
        "  if num % 2 == 0:\n",
        "    print(f\"Even number : {num}\")\n",
        "  else:\n",
        "    print(f\"Odd number  : {num}\")"
      ],
      "metadata": {
        "colab": {
          "base_uri": "https://localhost:8080/"
        },
        "id": "tbz1kevmYikR",
        "outputId": "6c3b9a53-4505-4189-e13b-75022b25219d"
      },
      "execution_count": null,
      "outputs": [
        {
          "output_type": "stream",
          "name": "stdout",
          "text": [
            "Odd number  : 1\n",
            "Even number : 2\n",
            "Odd number  : 3\n",
            "Even number : 4\n",
            "Odd number  : 5\n",
            "Even number : 6\n",
            "Odd number  : 7\n",
            "Even number : 8\n",
            "Odd number  : 9\n",
            "Even number : 10\n"
          ]
        }
      ]
    },
    {
      "cell_type": "code",
      "source": [
        "# how to keep a running total\n",
        "my_list = [1,2,3,4,5,6,7,8,9,10]\n",
        "\n",
        "list_sum = 0\n",
        "\n",
        "for num in my_list:\n",
        "  list_sum = list_sum + num\n",
        "  print(f\"Running total : {list_sum}\")"
      ],
      "metadata": {
        "colab": {
          "base_uri": "https://localhost:8080/"
        },
        "id": "w6-n8m7iY04f",
        "outputId": "8669351b-3c9c-43fb-d959-09dccb545011"
      },
      "execution_count": null,
      "outputs": [
        {
          "output_type": "stream",
          "name": "stdout",
          "text": [
            "Running total : 1\n",
            "Running total : 3\n",
            "Running total : 6\n",
            "Running total : 10\n",
            "Running total : 15\n",
            "Running total : 21\n",
            "Running total : 28\n",
            "Running total : 36\n",
            "Running total : 45\n",
            "Running total : 55\n"
          ]
        }
      ]
    },
    {
      "cell_type": "code",
      "source": [
        "# print the total\n",
        "my_list = [1,2,3,4,5,6,7,8,9,10]\n",
        "list_sum = 0\n",
        "\n",
        "for num in my_list:\n",
        "  list_sum = list_sum + num\n",
        "print(f\"Running total : {list_sum}\")"
      ],
      "metadata": {
        "colab": {
          "base_uri": "https://localhost:8080/"
        },
        "id": "ilsR_4bBZIXC",
        "outputId": "560dadd4-4d45-44fb-d7c6-650a0bdb0e18"
      },
      "execution_count": null,
      "outputs": [
        {
          "output_type": "stream",
          "name": "stdout",
          "text": [
            "Running total : 55\n"
          ]
        }
      ]
    },
    {
      "cell_type": "code",
      "source": [
        "# for loop over string\n",
        "\n",
        "for letter in 'Hello world':\n",
        "  print(letter)"
      ],
      "metadata": {
        "colab": {
          "base_uri": "https://localhost:8080/"
        },
        "id": "SerPIEunZM00",
        "outputId": "8c1f157c-b6fa-41fc-d4c2-7c2333133a53"
      },
      "execution_count": null,
      "outputs": [
        {
          "output_type": "stream",
          "name": "stdout",
          "text": [
            "H\n",
            "e\n",
            "l\n",
            "l\n",
            "o\n",
            " \n",
            "w\n",
            "o\n",
            "r\n",
            "l\n",
            "d\n"
          ]
        }
      ]
    },
    {
      "cell_type": "code",
      "source": [
        "# for loop over tuple\n",
        "\n",
        "tup = (1,2,3)\n",
        "\n",
        "for item in tup:\n",
        "  print(item)"
      ],
      "metadata": {
        "colab": {
          "base_uri": "https://localhost:8080/"
        },
        "id": "wseHxeCjZbHo",
        "outputId": "ba659f0e-03f1-4411-814e-7097560a04c6"
      },
      "execution_count": null,
      "outputs": [
        {
          "output_type": "stream",
          "name": "stdout",
          "text": [
            "1\n",
            "2\n",
            "3\n"
          ]
        }
      ]
    },
    {
      "cell_type": "code",
      "source": [
        "# for loop over list of tuples. Each item is a tuple here\n",
        "my_list = [(1,2),(2,3),(4,5)]\n",
        "\n",
        "for item in my_list:\n",
        "  print(item) # returns tuple"
      ],
      "metadata": {
        "colab": {
          "base_uri": "https://localhost:8080/"
        },
        "id": "KPJww27TZjTM",
        "outputId": "3ceaae55-6632-4a92-b737-c203731d21c0"
      },
      "execution_count": null,
      "outputs": [
        {
          "output_type": "stream",
          "name": "stdout",
          "text": [
            "(1, 2)\n",
            "(2, 3)\n",
            "(4, 5)\n"
          ]
        }
      ]
    },
    {
      "cell_type": "code",
      "source": [
        "# if we get each item as tuple, we can unpack the tuple\n",
        "\n",
        "for a,b in my_list:\n",
        "  print(f\"first item : {a} and Second item : {b}\")"
      ],
      "metadata": {
        "colab": {
          "base_uri": "https://localhost:8080/"
        },
        "id": "uexvDFxbZ3O0",
        "outputId": "f888e207-ea96-4e7e-e2bf-38f6b3ab0f30"
      },
      "execution_count": null,
      "outputs": [
        {
          "output_type": "stream",
          "name": "stdout",
          "text": [
            "first item : 1 and Second item : 2\n",
            "first item : 2 and Second item : 3\n",
            "first item : 4 and Second item : 5\n"
          ]
        }
      ]
    },
    {
      "cell_type": "code",
      "source": [
        "# for loop over dictionary\n",
        "\n",
        "d = {\n",
        "    'k1' : 1,\n",
        "    'k2' : 2,\n",
        "    'k3' : 3\n",
        "}\n",
        "\n",
        "for item in d:\n",
        "  # by default dictionaries iterate over keys\n",
        "  print(item)"
      ],
      "metadata": {
        "colab": {
          "base_uri": "https://localhost:8080/"
        },
        "id": "ZiXN61qsaFBF",
        "outputId": "e03e8678-a2f6-4a12-8cc8-288f85e0e145"
      },
      "execution_count": null,
      "outputs": [
        {
          "output_type": "stream",
          "name": "stdout",
          "text": [
            "k1\n",
            "k2\n",
            "k3\n"
          ]
        }
      ]
    },
    {
      "cell_type": "code",
      "source": [
        "# dict.items() return tuples\n",
        "for item in d.items():\n",
        "  print(item)"
      ],
      "metadata": {
        "colab": {
          "base_uri": "https://localhost:8080/"
        },
        "id": "MyF1Oj2zaZej",
        "outputId": "f476cbfb-aece-4bc6-8e85-2eb24fac1633"
      },
      "execution_count": null,
      "outputs": [
        {
          "output_type": "stream",
          "name": "stdout",
          "text": [
            "('k1', 1)\n",
            "('k2', 2)\n",
            "('k3', 3)\n"
          ]
        }
      ]
    },
    {
      "cell_type": "code",
      "source": [
        "# we can unpack the tuple because each item is a tuple returned by dictionary\n",
        "for key, value in d.items():\n",
        "  print(f\"key : {key} and value : {value}\")\n",
        "\n",
        "# note - we may not always get the items in ordered way"
      ],
      "metadata": {
        "colab": {
          "base_uri": "https://localhost:8080/"
        },
        "id": "AvoFC6K-afJQ",
        "outputId": "882b9cf0-b6d9-43c8-a453-cb49a9d0053b"
      },
      "execution_count": null,
      "outputs": [
        {
          "output_type": "stream",
          "name": "stdout",
          "text": [
            "key : k1 and value : 1\n",
            "key : k2 and value : 2\n",
            "key : k3 and value : 3\n"
          ]
        }
      ]
    },
    {
      "cell_type": "markdown",
      "source": [
        "# While Loops\n",
        "\n",
        "\n",
        "---\n",
        "\n",
        "\n",
        "\n",
        "```\n",
        "while <condition = boolean>:\n",
        "  # execute\n",
        "  # change the condition parameters\n",
        "\n",
        "while <condition = boolean>:\n",
        "  # do something\n",
        "else:\n",
        "  # do something else\n",
        "```\n",
        "\n",
        "\n"
      ],
      "metadata": {
        "id": "HxPEj8rBbK-v"
      }
    },
    {
      "cell_type": "code",
      "source": [
        "x = 0\n",
        "\n",
        "while x < 5:\n",
        "  print(f\"The current value of x is {x}\")\n",
        "  x = x + 1\n",
        "\n",
        "# time complexity = (1 * 6) {condition} + 1 * 5 {print stmt} + 1 * 5 {assignment} = 6 + 5 + 5 = 16\n",
        "  # degree = O(n)\n",
        "# space complexity\n",
        "  # x => 1"
      ],
      "metadata": {
        "id": "nrY360oIa3-H",
        "outputId": "4f662d48-ef3d-4d51-ef3f-013fc39d797e",
        "colab": {
          "base_uri": "https://localhost:8080/"
        }
      },
      "execution_count": null,
      "outputs": [
        {
          "output_type": "stream",
          "name": "stdout",
          "text": [
            "The current value of x is 0\n",
            "The current value of x is 1\n",
            "The current value of x is 2\n",
            "The current value of x is 3\n",
            "The current value of x is 4\n"
          ]
        }
      ]
    },
    {
      "cell_type": "code",
      "source": [
        "# let's add an else statement\n",
        "\n",
        "x = 0\n",
        "\n",
        "while x < 5:\n",
        "  print(f\"The current value of x is {x}\")\n",
        "  x = x + 1\n",
        "else:\n",
        "  print(\"X is not less than 5\")"
      ],
      "metadata": {
        "id": "RNIiVCK8LYRL",
        "outputId": "7fbaa2e1-24af-452c-ebd7-02f9b1b0b006",
        "colab": {
          "base_uri": "https://localhost:8080/"
        }
      },
      "execution_count": null,
      "outputs": [
        {
          "output_type": "stream",
          "name": "stdout",
          "text": [
            "The current value of x is 0\n",
            "The current value of x is 1\n",
            "The current value of x is 2\n",
            "The current value of x is 3\n",
            "The current value of x is 4\n",
            "X is not less than 5\n"
          ]
        }
      ]
    },
    {
      "cell_type": "markdown",
      "source": [
        "**keywords**\n",
        "* break - breaks from the immediate loop\n",
        "* continue - skips the current execution and goes to the top of the current loop\n",
        "* pass - do nothing"
      ],
      "metadata": {
        "id": "8sAw_V2EMuDY"
      }
    },
    {
      "cell_type": "code",
      "source": [
        "# pass\n",
        "x = [1,2,3]\n",
        "for item in x:\n",
        "  # use pass for showing do nothing, or else runtime error will show\n",
        "  pass\n"
      ],
      "metadata": {
        "id": "OUrYAG75MG9Y"
      },
      "execution_count": null,
      "outputs": []
    },
    {
      "cell_type": "code",
      "source": [
        "# continue\n",
        "\n",
        "my_string = \"Sammy\"\n",
        "\n",
        "for letter in my_string:\n",
        "  # I want to skip letter = a\n",
        "  if letter == \"a\":\n",
        "    continue\n",
        "  print(letter)"
      ],
      "metadata": {
        "id": "d1fTgjS0MtAJ",
        "outputId": "f7c9f132-f437-42c0-82f1-99b876b5d916",
        "colab": {
          "base_uri": "https://localhost:8080/"
        }
      },
      "execution_count": null,
      "outputs": [
        {
          "output_type": "stream",
          "name": "stdout",
          "text": [
            "S\n",
            "m\n",
            "m\n",
            "y\n"
          ]
        }
      ]
    },
    {
      "cell_type": "code",
      "source": [
        "# break\n",
        "\n",
        "my_string = \"Sammy\"\n",
        "\n",
        "for letter in my_string:\n",
        "  # I want to stop printing when letter = a\n",
        "  if letter == \"a\":\n",
        "    break\n",
        "  print(letter)"
      ],
      "metadata": {
        "id": "XtAGuaHQNeG-",
        "outputId": "bc1e836d-60a9-489a-9d55-cf1b8285a216",
        "colab": {
          "base_uri": "https://localhost:8080/"
        }
      },
      "execution_count": null,
      "outputs": [
        {
          "output_type": "stream",
          "name": "stdout",
          "text": [
            "S\n"
          ]
        }
      ]
    },
    {
      "cell_type": "code",
      "source": [
        "# break : another example\n",
        "\n",
        "x = 0\n",
        "\n",
        "while x < 5:\n",
        "  # break if x reaches 2\n",
        "  if x == 2:\n",
        "    break\n",
        "  print (x)\n",
        "  x = x + 1"
      ],
      "metadata": {
        "id": "BqR2tiIONtcY",
        "outputId": "6f5c5fc6-9fa6-4156-9bd4-ded0ef4bde19",
        "colab": {
          "base_uri": "https://localhost:8080/"
        }
      },
      "execution_count": null,
      "outputs": [
        {
          "output_type": "stream",
          "name": "stdout",
          "text": [
            "0\n",
            "1\n"
          ]
        }
      ]
    },
    {
      "cell_type": "markdown",
      "source": [
        "# Useful operator\n",
        "\n",
        "\n",
        "---\n",
        "* range()\n",
        "* enumerate()\n",
        "* zip()\n",
        "* Membership operator -> in\n",
        "* min(), max()\n",
        "* random.shuffle()\n",
        "* random.randint()\n",
        "* input()\n"
      ],
      "metadata": {
        "id": "yjvyxtsis60w"
      }
    },
    {
      "cell_type": "code",
      "source": [
        "# range\n",
        "# it is a generator function\n",
        "# syntax : range(start, stop, step size)\n",
        "\n",
        "for num in range(10):\n",
        "  print (num)"
      ],
      "metadata": {
        "id": "0qSItcUhN938",
        "outputId": "236e43bc-4270-4a2e-d112-499ebc9bb6c2",
        "colab": {
          "base_uri": "https://localhost:8080/"
        }
      },
      "execution_count": null,
      "outputs": [
        {
          "output_type": "stream",
          "name": "stdout",
          "text": [
            "0\n",
            "1\n",
            "2\n",
            "3\n",
            "4\n",
            "5\n",
            "6\n",
            "7\n",
            "8\n",
            "9\n"
          ]
        }
      ]
    },
    {
      "cell_type": "code",
      "source": [
        "for num in range(0,10,2):\n",
        "  print(num)"
      ],
      "metadata": {
        "id": "IysHVtSetdzV",
        "outputId": "ba1d85aa-9dbb-4263-f9b2-0af31606f995",
        "colab": {
          "base_uri": "https://localhost:8080/"
        }
      },
      "execution_count": null,
      "outputs": [
        {
          "output_type": "stream",
          "name": "stdout",
          "text": [
            "0\n",
            "2\n",
            "4\n",
            "6\n",
            "8\n"
          ]
        }
      ]
    },
    {
      "cell_type": "code",
      "source": [
        "# cast using list\n",
        "list(range(0,11,2))"
      ],
      "metadata": {
        "id": "vWIugm0HtmKB",
        "outputId": "d519da13-ef7c-4b63-8b36-e3dfda12d9eb",
        "colab": {
          "base_uri": "https://localhost:8080/"
        }
      },
      "execution_count": null,
      "outputs": [
        {
          "output_type": "execute_result",
          "data": {
            "text/plain": [
              "[0, 2, 4, 6, 8, 10]"
            ]
          },
          "metadata": {},
          "execution_count": 3
        }
      ]
    },
    {
      "cell_type": "code",
      "source": [
        "# enumerate\n",
        "# why we should use this?\n",
        "\n",
        "index_count = 0\n",
        "\n",
        "for letter in 'abcde':\n",
        "  print(f\"at index {index_count}, we have letter {letter}\")\n",
        "  index_count = index_count + 1"
      ],
      "metadata": {
        "id": "SC8Qz7Rftthj",
        "outputId": "3e0bb7d7-e566-4738-b128-a5d13ed6b26b",
        "colab": {
          "base_uri": "https://localhost:8080/"
        }
      },
      "execution_count": null,
      "outputs": [
        {
          "output_type": "stream",
          "name": "stdout",
          "text": [
            "at index 0, we have letter a\n",
            "at index 1, we have letter b\n",
            "at index 2, we have letter c\n",
            "at index 3, we have letter d\n",
            "at index 4, we have letter e\n"
          ]
        }
      ]
    },
    {
      "cell_type": "code",
      "source": [
        "# now use enumerate\n",
        "\n",
        "word = \"abcde\"\n",
        "\n",
        "for item in enumerate(word):\n",
        "  print(item) # retuns tuples"
      ],
      "metadata": {
        "id": "sjkRfiQluB1d",
        "outputId": "f9ab2eed-3192-4176-f028-f7ad0e7d8b2e",
        "colab": {
          "base_uri": "https://localhost:8080/"
        }
      },
      "execution_count": null,
      "outputs": [
        {
          "output_type": "stream",
          "name": "stdout",
          "text": [
            "(0, 'a')\n",
            "(1, 'b')\n",
            "(2, 'c')\n",
            "(3, 'd')\n",
            "(4, 'e')\n"
          ]
        }
      ]
    },
    {
      "cell_type": "code",
      "source": [
        "# therefore, we can unpack the tuples\n",
        "for index, letter in enumerate(word):\n",
        "  print(f\"index : {index}, value : {letter}\")"
      ],
      "metadata": {
        "id": "jJbP2DIOuRXn",
        "outputId": "2814d6e9-30d2-4216-aa99-27b3382f4e9f",
        "colab": {
          "base_uri": "https://localhost:8080/"
        }
      },
      "execution_count": null,
      "outputs": [
        {
          "output_type": "stream",
          "name": "stdout",
          "text": [
            "index : 0, value : a\n",
            "index : 1, value : b\n",
            "index : 2, value : c\n",
            "index : 3, value : d\n",
            "index : 4, value : e\n"
          ]
        }
      ]
    },
    {
      "cell_type": "code",
      "source": [
        "# zip () - zips two or more lists of same dimension\n",
        "\n",
        "list_1 = [1,2,3]\n",
        "list_2 = ['a','b','c']\n",
        "\n",
        "for item in zip(list_1,list_2):\n",
        "  print(item) # returns tuple and therfore can be unpacked\n",
        "\n",
        "# unpacking the value\n",
        "for x,y in zip(list_1,list_2):\n",
        "  print(x)"
      ],
      "metadata": {
        "id": "SZ3XRqdZuhyu",
        "outputId": "2e65df3a-ed08-4937-a0b4-65cd30200a39",
        "colab": {
          "base_uri": "https://localhost:8080/"
        }
      },
      "execution_count": null,
      "outputs": [
        {
          "output_type": "stream",
          "name": "stdout",
          "text": [
            "(1, 'a')\n",
            "(2, 'b')\n",
            "(3, 'c')\n",
            "1\n",
            "2\n",
            "3\n"
          ]
        }
      ]
    },
    {
      "cell_type": "code",
      "source": [
        "# Membership operator = in\n",
        "\n",
        "'x' in 'xmas'"
      ],
      "metadata": {
        "id": "hGLwTY9oChMi",
        "outputId": "8ddb08ed-1f96-4f19-c72a-d547cb969b71",
        "colab": {
          "base_uri": "https://localhost:8080/"
        }
      },
      "execution_count": null,
      "outputs": [
        {
          "output_type": "execute_result",
          "data": {
            "text/plain": [
              "True"
            ]
          },
          "metadata": {},
          "execution_count": 5
        }
      ]
    },
    {
      "cell_type": "code",
      "source": [
        "'x' in [1,2,3]"
      ],
      "metadata": {
        "id": "E7WfMq6BDGAQ",
        "outputId": "b4d9bde1-6b45-46a3-ae06-63e55fad4505",
        "colab": {
          "base_uri": "https://localhost:8080/"
        }
      },
      "execution_count": null,
      "outputs": [
        {
          "output_type": "execute_result",
          "data": {
            "text/plain": [
              "False"
            ]
          },
          "metadata": {},
          "execution_count": 6
        }
      ]
    },
    {
      "cell_type": "code",
      "source": [
        "'Nil' in 'Niladri'"
      ],
      "metadata": {
        "id": "vKpp3DfNDINi",
        "outputId": "31e825f5-223d-4914-c074-5f87ab79d6e4",
        "colab": {
          "base_uri": "https://localhost:8080/"
        }
      },
      "execution_count": null,
      "outputs": [
        {
          "output_type": "execute_result",
          "data": {
            "text/plain": [
              "True"
            ]
          },
          "metadata": {},
          "execution_count": 7
        }
      ]
    },
    {
      "cell_type": "code",
      "source": [
        "# works for dictionary keys\n",
        "\n",
        "'k1' in {'k1':12}"
      ],
      "metadata": {
        "id": "IV3zzmUfDKhE",
        "outputId": "1c3f9e7d-5167-43a0-b48c-1c0b7db3ebaf",
        "colab": {
          "base_uri": "https://localhost:8080/"
        }
      },
      "execution_count": null,
      "outputs": [
        {
          "output_type": "execute_result",
          "data": {
            "text/plain": [
              "True"
            ]
          },
          "metadata": {},
          "execution_count": 8
        }
      ]
    },
    {
      "cell_type": "code",
      "source": [
        "# works for values as well\n",
        "\n",
        "d = {'k1':12}\n",
        "\n",
        "12 in d.values()"
      ],
      "metadata": {
        "id": "i87okIl3DSs5",
        "outputId": "dfb7ba64-3363-42d7-c4e8-566263a09004",
        "colab": {
          "base_uri": "https://localhost:8080/"
        }
      },
      "execution_count": null,
      "outputs": [
        {
          "output_type": "execute_result",
          "data": {
            "text/plain": [
              "True"
            ]
          },
          "metadata": {},
          "execution_count": 9
        }
      ]
    },
    {
      "cell_type": "code",
      "source": [
        "# min() and max()\n",
        "\n",
        "mylist = [10,20,30]\n",
        "\n",
        "print(min(mylist))\n",
        "print(max(mylist))"
      ],
      "metadata": {
        "id": "9y-KKI2pDbm9",
        "outputId": "9d303bcc-3cc1-42e2-a281-3adf0c3b9fcb",
        "colab": {
          "base_uri": "https://localhost:8080/"
        }
      },
      "execution_count": null,
      "outputs": [
        {
          "output_type": "stream",
          "name": "stdout",
          "text": [
            "10\n",
            "30\n"
          ]
        }
      ]
    },
    {
      "cell_type": "code",
      "source": [
        "# random = library\n",
        "# shuffle = function\n",
        "\n",
        "from random import shuffle\n",
        "\n",
        "list1 = [1,2,3,4,5,6,7,8,9,10]\n",
        "\n",
        "shuffle(list1)\n",
        "\n",
        "list1"
      ],
      "metadata": {
        "id": "DMR8bJSbDknp",
        "outputId": "a43f7326-5626-46f3-f883-8c04bac4faea",
        "colab": {
          "base_uri": "https://localhost:8080/"
        }
      },
      "execution_count": null,
      "outputs": [
        {
          "output_type": "execute_result",
          "data": {
            "text/plain": [
              "[5, 10, 6, 4, 1, 2, 3, 7, 8, 9]"
            ]
          },
          "metadata": {},
          "execution_count": 12
        }
      ]
    },
    {
      "cell_type": "code",
      "source": [
        "shuffle(list1)\n",
        "\n",
        "list1"
      ],
      "metadata": {
        "id": "IUeFBbsUDysg",
        "outputId": "5e8f4491-4c04-47ca-acd0-492a61d61e0e",
        "colab": {
          "base_uri": "https://localhost:8080/"
        }
      },
      "execution_count": null,
      "outputs": [
        {
          "output_type": "execute_result",
          "data": {
            "text/plain": [
              "[2, 4, 7, 8, 10, 1, 3, 9, 5, 6]"
            ]
          },
          "metadata": {},
          "execution_count": 13
        }
      ]
    },
    {
      "cell_type": "code",
      "source": [
        "# random = library\n",
        "# randint = function\n",
        "\n",
        "from random import randint\n",
        "\n",
        "randint(0,100)"
      ],
      "metadata": {
        "id": "zB6v4DyPD3PP",
        "outputId": "1a799460-7a0c-43a9-af03-a60b6f0bc73d",
        "colab": {
          "base_uri": "https://localhost:8080/"
        }
      },
      "execution_count": null,
      "outputs": [
        {
          "output_type": "execute_result",
          "data": {
            "text/plain": [
              "35"
            ]
          },
          "metadata": {},
          "execution_count": 14
        }
      ]
    },
    {
      "cell_type": "code",
      "source": [
        "randint(0,100)"
      ],
      "metadata": {
        "id": "UpeE23HvD_Q4",
        "outputId": "9cc5bf7a-328c-4305-e44e-809f4196a822",
        "colab": {
          "base_uri": "https://localhost:8080/"
        }
      },
      "execution_count": null,
      "outputs": [
        {
          "output_type": "execute_result",
          "data": {
            "text/plain": [
              "11"
            ]
          },
          "metadata": {},
          "execution_count": 15
        }
      ]
    },
    {
      "cell_type": "code",
      "source": [
        "randint(0,100)"
      ],
      "metadata": {
        "id": "qv4RhPNXEBln",
        "outputId": "defc2638-4d00-41a2-e2a1-4596e1fa3b3c",
        "colab": {
          "base_uri": "https://localhost:8080/"
        }
      },
      "execution_count": null,
      "outputs": [
        {
          "output_type": "execute_result",
          "data": {
            "text/plain": [
              "35"
            ]
          },
          "metadata": {},
          "execution_count": 16
        }
      ]
    },
    {
      "cell_type": "code",
      "source": [
        "# input()\n",
        "# input returns string by default\n",
        "your_number = input(\"Enter your number\")\n",
        "print(your_number)"
      ],
      "metadata": {
        "id": "TkhA55kaECO4",
        "outputId": "eceb4437-81ea-4c59-c288-2711bd1397b4",
        "colab": {
          "base_uri": "https://localhost:8080/"
        }
      },
      "execution_count": null,
      "outputs": [
        {
          "output_type": "stream",
          "name": "stdout",
          "text": [
            "Enter your number34\n",
            "34\n"
          ]
        }
      ]
    },
    {
      "cell_type": "markdown",
      "source": [
        "# List Comprehension\n",
        "\n",
        "\n",
        "---\n",
        "\n"
      ],
      "metadata": {
        "id": "W8fSa9ngJoNk"
      }
    },
    {
      "cell_type": "code",
      "source": [
        "# requirement = we need to make a list with every character of the string\n",
        "mystring = 'hello'\n",
        "\n",
        "mylist = []\n",
        "\n",
        "for letter in mystring:\n",
        "  mylist.append(letter)\n",
        "\n",
        "mylist"
      ],
      "metadata": {
        "id": "DesLG7DFENKy",
        "outputId": "736d8b43-8a65-4327-cd6a-9a4698d89f4c",
        "colab": {
          "base_uri": "https://localhost:8080/"
        }
      },
      "execution_count": 1,
      "outputs": [
        {
          "output_type": "execute_result",
          "data": {
            "text/plain": [
              "['h', 'e', 'l', 'l', 'o']"
            ]
          },
          "metadata": {},
          "execution_count": 1
        }
      ]
    },
    {
      "cell_type": "code",
      "source": [
        "# List comprehension\n",
        "# flattening out the for loop, but reduced readability\n",
        "\n",
        "mystring = \"hello\"\n",
        "mylist = [letter for letter in mystring]\n",
        "mylist"
      ],
      "metadata": {
        "id": "QBWqotkxJBUB",
        "outputId": "19470da1-344f-47fb-a53c-cae4e6cf6b6c",
        "colab": {
          "base_uri": "https://localhost:8080/"
        }
      },
      "execution_count": 4,
      "outputs": [
        {
          "output_type": "execute_result",
          "data": {
            "text/plain": [
              "['h', 'e', 'l', 'l', 'o']"
            ]
          },
          "metadata": {},
          "execution_count": 4
        }
      ]
    },
    {
      "cell_type": "code",
      "source": [
        "# another use case\n",
        "\n",
        "mylist = [x for x in range(0,11)]\n",
        "mylist"
      ],
      "metadata": {
        "id": "fs6SR8yIJMUF",
        "outputId": "e5259f47-2cdf-4fb7-a320-27709f419516",
        "colab": {
          "base_uri": "https://localhost:8080/"
        }
      },
      "execution_count": 5,
      "outputs": [
        {
          "output_type": "execute_result",
          "data": {
            "text/plain": [
              "[0, 1, 2, 3, 4, 5, 6, 7, 8, 9, 10]"
            ]
          },
          "metadata": {},
          "execution_count": 5
        }
      ]
    },
    {
      "cell_type": "code",
      "source": [
        "mylist = [x**2 for x in range(0,11)]\n",
        "mylist"
      ],
      "metadata": {
        "id": "ZUTvzIH8JeH1",
        "outputId": "6c8d6889-5b57-49cf-f6e7-5dd5f142a6b2",
        "colab": {
          "base_uri": "https://localhost:8080/"
        }
      },
      "execution_count": 6,
      "outputs": [
        {
          "output_type": "execute_result",
          "data": {
            "text/plain": [
              "[0, 1, 4, 9, 16, 25, 36, 49, 64, 81, 100]"
            ]
          },
          "metadata": {},
          "execution_count": 6
        }
      ]
    },
    {
      "cell_type": "code",
      "source": [
        "# use of \"if\" condition for even numbers only\n",
        "\n",
        "mylist = [x**2 for x in range(0,11) if x%2 == 0]\n",
        "mylist"
      ],
      "metadata": {
        "id": "gpsPWmJBJhMN",
        "outputId": "02315f23-b984-4276-b1f6-e9838ddb88f0",
        "colab": {
          "base_uri": "https://localhost:8080/"
        }
      },
      "execution_count": 8,
      "outputs": [
        {
          "output_type": "execute_result",
          "data": {
            "text/plain": [
              "[0, 4, 16, 36, 64, 100]"
            ]
          },
          "metadata": {},
          "execution_count": 8
        }
      ]
    },
    {
      "cell_type": "code",
      "source": [
        "# celcius -> farenheit problem\n",
        "\n",
        "celcius = [0,10,20,34.5]\n",
        "farenheit = []\n",
        "\n",
        "for temp in celcius:\n",
        "  farenheit.append((9/5)*temp + 32)\n",
        "\n",
        "farenheit"
      ],
      "metadata": {
        "id": "EDycqhQYJoh5",
        "outputId": "1c15df44-76a3-4e99-b8d5-16fb842f33d4",
        "colab": {
          "base_uri": "https://localhost:8080/"
        }
      },
      "execution_count": 9,
      "outputs": [
        {
          "output_type": "execute_result",
          "data": {
            "text/plain": [
              "[32.0, 50.0, 68.0, 94.1]"
            ]
          },
          "metadata": {},
          "execution_count": 9
        }
      ]
    },
    {
      "cell_type": "code",
      "source": [
        "# using list comprehension\n",
        "\n",
        "celcius = [0,10,20,34.5]\n",
        "farenheit = []\n",
        "farenheit = [(9/5)*temp + 32 for temp in celcius ]\n",
        "farenheit"
      ],
      "metadata": {
        "id": "NMLJBUrMKDfD",
        "outputId": "dcfaee20-734c-4197-fb9c-c8af78b8b058",
        "colab": {
          "base_uri": "https://localhost:8080/"
        }
      },
      "execution_count": 12,
      "outputs": [
        {
          "output_type": "execute_result",
          "data": {
            "text/plain": [
              "[32.0, 50.0, 68.0, 94.1]"
            ]
          },
          "metadata": {},
          "execution_count": 12
        }
      ]
    },
    {
      "cell_type": "code",
      "source": [
        "# using if-else\n",
        "# note - don't do it at the cost of losing out readability\n",
        "# only if statement is suffixed, if-else is prefixed\n",
        "\n",
        "results = [x if x%2==0 else 'ODD' for x in range(0,11)]\n",
        "results"
      ],
      "metadata": {
        "id": "adUv-ybSKOMU",
        "outputId": "8b18fed6-4f3e-4a1d-c632-692599175c8f",
        "colab": {
          "base_uri": "https://localhost:8080/"
        }
      },
      "execution_count": 14,
      "outputs": [
        {
          "output_type": "execute_result",
          "data": {
            "text/plain": [
              "[0, 'ODD', 2, 'ODD', 4, 'ODD', 6, 'ODD', 8, 'ODD', 10]"
            ]
          },
          "metadata": {},
          "execution_count": 14
        }
      ]
    },
    {
      "cell_type": "code",
      "source": [
        "# Nested loop\n",
        "\n",
        "mylist = []\n",
        "\n",
        "for x in [2,4,6]:\n",
        "  for y in [100,200,300]:\n",
        "    mylist.append(x*y)\n",
        "\n",
        "mylist"
      ],
      "metadata": {
        "id": "iVUXiii7Klah",
        "outputId": "5648a466-3c5e-40b2-a7b7-5676aeddf435",
        "colab": {
          "base_uri": "https://localhost:8080/"
        }
      },
      "execution_count": 15,
      "outputs": [
        {
          "output_type": "execute_result",
          "data": {
            "text/plain": [
              "[200, 400, 600, 400, 800, 1200, 600, 1200, 1800]"
            ]
          },
          "metadata": {},
          "execution_count": 15
        }
      ]
    },
    {
      "cell_type": "code",
      "source": [
        "# using list comprehension\n",
        "\n",
        "mylist = [x*y for x in [2,4,6] for y in [100,200,300]]\n",
        "mylist"
      ],
      "metadata": {
        "id": "_RmOpzKiK6UV",
        "outputId": "23232bc4-5429-4463-ca52-f86c6bfeb980",
        "colab": {
          "base_uri": "https://localhost:8080/"
        }
      },
      "execution_count": 17,
      "outputs": [
        {
          "output_type": "execute_result",
          "data": {
            "text/plain": [
              "[200, 400, 600, 400, 800, 1200, 600, 1200, 1800]"
            ]
          },
          "metadata": {},
          "execution_count": 17
        }
      ]
    },
    {
      "cell_type": "code",
      "source": [],
      "metadata": {
        "id": "mUSQc9c7LFOY"
      },
      "execution_count": null,
      "outputs": []
    }
  ]
}