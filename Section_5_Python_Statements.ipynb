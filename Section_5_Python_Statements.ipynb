{
  "nbformat": 4,
  "nbformat_minor": 0,
  "metadata": {
    "colab": {
      "provenance": [],
      "include_colab_link": true
    },
    "kernelspec": {
      "name": "python3",
      "display_name": "Python 3"
    },
    "language_info": {
      "name": "python"
    }
  },
  "cells": [
    {
      "cell_type": "markdown",
      "metadata": {
        "id": "view-in-github",
        "colab_type": "text"
      },
      "source": [
        "<a href=\"https://colab.research.google.com/github/niladribanerjee80/python-udemy-jose/blob/main/Section_5_Python_Statements.ipynb\" target=\"_parent\"><img src=\"https://colab.research.google.com/assets/colab-badge.svg\" alt=\"Open In Colab\"/></a>"
      ]
    },
    {
      "cell_type": "markdown",
      "source": [
        "# If statements"
      ],
      "metadata": {
        "id": "TXFm_CKNQCn-"
      }
    },
    {
      "cell_type": "code",
      "execution_count": null,
      "metadata": {
        "colab": {
          "base_uri": "https://localhost:8080/"
        },
        "id": "d8_DilVPPku1",
        "outputId": "764b5101-6afd-4838-ecf1-9c70b6f61832"
      },
      "outputs": [
        {
          "output_type": "stream",
          "name": "stdout",
          "text": [
            "ITS TRUE\n"
          ]
        }
      ],
      "source": [
        "if True:\n",
        "  print('ITS TRUE')"
      ]
    },
    {
      "cell_type": "code",
      "source": [
        "if 3 > 2:\n",
        "  print('ITS TRUE!')"
      ],
      "metadata": {
        "colab": {
          "base_uri": "https://localhost:8080/"
        },
        "id": "-FUiVNNgQYvg",
        "outputId": "a141862e-4391-4b96-dcb8-e2af809ad72c"
      },
      "execution_count": null,
      "outputs": [
        {
          "output_type": "stream",
          "name": "stdout",
          "text": [
            "ITS TRUE!\n"
          ]
        }
      ]
    },
    {
      "cell_type": "code",
      "source": [
        "hungry = False\n",
        "\n",
        "if hungry:\n",
        "  print('Feed me!')\n",
        "else:\n",
        "  print('I am not hungry')"
      ],
      "metadata": {
        "colab": {
          "base_uri": "https://localhost:8080/"
        },
        "id": "377FMw_bQmSc",
        "outputId": "2a199527-cdb4-4fc4-f937-0631345387b0"
      },
      "execution_count": null,
      "outputs": [
        {
          "output_type": "stream",
          "name": "stdout",
          "text": [
            "I am not hungry\n"
          ]
        }
      ]
    },
    {
      "cell_type": "code",
      "source": [
        "# if - elif - else use\n",
        "\n",
        "loc = \"Bank\"\n",
        "\n",
        "if loc == \"Auto Shop\":\n",
        "  print('Cars are cool !')\n",
        "elif loc == \"Bank\":\n",
        "  print('Money is cool !')\n",
        "else:\n",
        "  print('I do not know much')"
      ],
      "metadata": {
        "colab": {
          "base_uri": "https://localhost:8080/"
        },
        "id": "LJhUizM2QqYP",
        "outputId": "7ecd2350-ff4a-4a8c-e55a-820687f0d905"
      },
      "execution_count": null,
      "outputs": [
        {
          "output_type": "stream",
          "name": "stdout",
          "text": [
            "Money is cool !\n"
          ]
        }
      ]
    },
    {
      "cell_type": "markdown",
      "source": [
        "# For Loops\n",
        "\n",
        "\n",
        "---\n",
        "\n",
        "many objects in python are iterable. This means we can iterate over every element in the object\n",
        "\n",
        "* strings\n",
        "* list\n",
        "* tuple\n",
        "* dictionary\n",
        "* sets\n",
        "\n",
        "are all iterables\n",
        "\n",
        "We can execute for loops to execute a block of code for every iteration.\n",
        "\n",
        "for item in iterable:\\\n",
        "&emsp; do something\n",
        "\n",
        "\n"
      ],
      "metadata": {
        "id": "pd5LU2A-RHza"
      }
    },
    {
      "cell_type": "code",
      "source": [
        "# for loop using list\n",
        "my_list = [1,2,3]\n",
        "\n",
        "for item in my_list:\n",
        "  print(item)\n"
      ],
      "metadata": {
        "colab": {
          "base_uri": "https://localhost:8080/"
        },
        "id": "WhmC-hGVRBdN",
        "outputId": "d3c921eb-9abf-4703-ae18-4a30e35c91d0"
      },
      "execution_count": null,
      "outputs": [
        {
          "output_type": "stream",
          "name": "stdout",
          "text": [
            "1\n",
            "2\n",
            "3\n"
          ]
        }
      ]
    },
    {
      "cell_type": "code",
      "source": [
        "# print only even number\n",
        "my_list = [1,2,3,4,5,6,7,8,9,10]\n",
        "\n",
        "for num in my_list:\n",
        "  if num % 2 == 0:\n",
        "    print(num)"
      ],
      "metadata": {
        "colab": {
          "base_uri": "https://localhost:8080/"
        },
        "id": "k3NkcHE1YWXM",
        "outputId": "acbaf1a2-0564-418c-9bf7-4b3df77f84a3"
      },
      "execution_count": null,
      "outputs": [
        {
          "output_type": "stream",
          "name": "stdout",
          "text": [
            "2\n",
            "4\n",
            "6\n",
            "8\n",
            "10\n"
          ]
        }
      ]
    },
    {
      "cell_type": "code",
      "source": [
        "my_list = [1,2,3,4,5,6,7,8,9,10]\n",
        "\n",
        "for num in my_list:\n",
        "  if num % 2 == 0:\n",
        "    print(f\"Even number : {num}\")\n",
        "  else:\n",
        "    print(f\"Odd number  : {num}\")"
      ],
      "metadata": {
        "colab": {
          "base_uri": "https://localhost:8080/"
        },
        "id": "tbz1kevmYikR",
        "outputId": "6c3b9a53-4505-4189-e13b-75022b25219d"
      },
      "execution_count": null,
      "outputs": [
        {
          "output_type": "stream",
          "name": "stdout",
          "text": [
            "Odd number  : 1\n",
            "Even number : 2\n",
            "Odd number  : 3\n",
            "Even number : 4\n",
            "Odd number  : 5\n",
            "Even number : 6\n",
            "Odd number  : 7\n",
            "Even number : 8\n",
            "Odd number  : 9\n",
            "Even number : 10\n"
          ]
        }
      ]
    },
    {
      "cell_type": "code",
      "source": [
        "# how to keep a running total\n",
        "my_list = [1,2,3,4,5,6,7,8,9,10]\n",
        "\n",
        "list_sum = 0\n",
        "\n",
        "for num in my_list:\n",
        "  list_sum = list_sum + num\n",
        "  print(f\"Running total : {list_sum}\")"
      ],
      "metadata": {
        "colab": {
          "base_uri": "https://localhost:8080/"
        },
        "id": "w6-n8m7iY04f",
        "outputId": "8669351b-3c9c-43fb-d959-09dccb545011"
      },
      "execution_count": null,
      "outputs": [
        {
          "output_type": "stream",
          "name": "stdout",
          "text": [
            "Running total : 1\n",
            "Running total : 3\n",
            "Running total : 6\n",
            "Running total : 10\n",
            "Running total : 15\n",
            "Running total : 21\n",
            "Running total : 28\n",
            "Running total : 36\n",
            "Running total : 45\n",
            "Running total : 55\n"
          ]
        }
      ]
    },
    {
      "cell_type": "code",
      "source": [
        "# print the total\n",
        "my_list = [1,2,3,4,5,6,7,8,9,10]\n",
        "list_sum = 0\n",
        "\n",
        "for num in my_list:\n",
        "  list_sum = list_sum + num\n",
        "print(f\"Running total : {list_sum}\")"
      ],
      "metadata": {
        "colab": {
          "base_uri": "https://localhost:8080/"
        },
        "id": "ilsR_4bBZIXC",
        "outputId": "560dadd4-4d45-44fb-d7c6-650a0bdb0e18"
      },
      "execution_count": null,
      "outputs": [
        {
          "output_type": "stream",
          "name": "stdout",
          "text": [
            "Running total : 55\n"
          ]
        }
      ]
    },
    {
      "cell_type": "code",
      "source": [
        "# for loop over string\n",
        "\n",
        "for letter in 'Hello world':\n",
        "  print(letter)"
      ],
      "metadata": {
        "colab": {
          "base_uri": "https://localhost:8080/"
        },
        "id": "SerPIEunZM00",
        "outputId": "8c1f157c-b6fa-41fc-d4c2-7c2333133a53"
      },
      "execution_count": null,
      "outputs": [
        {
          "output_type": "stream",
          "name": "stdout",
          "text": [
            "H\n",
            "e\n",
            "l\n",
            "l\n",
            "o\n",
            " \n",
            "w\n",
            "o\n",
            "r\n",
            "l\n",
            "d\n"
          ]
        }
      ]
    },
    {
      "cell_type": "code",
      "source": [
        "# for loop over tuple\n",
        "\n",
        "tup = (1,2,3)\n",
        "\n",
        "for item in tup:\n",
        "  print(item)"
      ],
      "metadata": {
        "colab": {
          "base_uri": "https://localhost:8080/"
        },
        "id": "wseHxeCjZbHo",
        "outputId": "ba659f0e-03f1-4411-814e-7097560a04c6"
      },
      "execution_count": null,
      "outputs": [
        {
          "output_type": "stream",
          "name": "stdout",
          "text": [
            "1\n",
            "2\n",
            "3\n"
          ]
        }
      ]
    },
    {
      "cell_type": "code",
      "source": [
        "# for loop over list of tuples. Each item is a tuple here\n",
        "my_list = [(1,2),(2,3),(4,5)]\n",
        "\n",
        "for item in my_list:\n",
        "  print(item) # returns tuple"
      ],
      "metadata": {
        "colab": {
          "base_uri": "https://localhost:8080/"
        },
        "id": "KPJww27TZjTM",
        "outputId": "3ceaae55-6632-4a92-b737-c203731d21c0"
      },
      "execution_count": null,
      "outputs": [
        {
          "output_type": "stream",
          "name": "stdout",
          "text": [
            "(1, 2)\n",
            "(2, 3)\n",
            "(4, 5)\n"
          ]
        }
      ]
    },
    {
      "cell_type": "code",
      "source": [
        "# if we get each item as tuple, we can unpack the tuple\n",
        "\n",
        "for a,b in my_list:\n",
        "  print(f\"first item : {a} and Second item : {b}\")"
      ],
      "metadata": {
        "colab": {
          "base_uri": "https://localhost:8080/"
        },
        "id": "uexvDFxbZ3O0",
        "outputId": "f888e207-ea96-4e7e-e2bf-38f6b3ab0f30"
      },
      "execution_count": null,
      "outputs": [
        {
          "output_type": "stream",
          "name": "stdout",
          "text": [
            "first item : 1 and Second item : 2\n",
            "first item : 2 and Second item : 3\n",
            "first item : 4 and Second item : 5\n"
          ]
        }
      ]
    },
    {
      "cell_type": "code",
      "source": [
        "# for loop over dictionary\n",
        "\n",
        "d = {\n",
        "    'k1' : 1,\n",
        "    'k2' : 2,\n",
        "    'k3' : 3\n",
        "}\n",
        "\n",
        "for item in d:\n",
        "  # by default dictionaries iterate over keys\n",
        "  print(item)"
      ],
      "metadata": {
        "colab": {
          "base_uri": "https://localhost:8080/"
        },
        "id": "ZiXN61qsaFBF",
        "outputId": "e03e8678-a2f6-4a12-8cc8-288f85e0e145"
      },
      "execution_count": null,
      "outputs": [
        {
          "output_type": "stream",
          "name": "stdout",
          "text": [
            "k1\n",
            "k2\n",
            "k3\n"
          ]
        }
      ]
    },
    {
      "cell_type": "code",
      "source": [
        "# dict.items() return tuples\n",
        "for item in d.items():\n",
        "  print(item)"
      ],
      "metadata": {
        "colab": {
          "base_uri": "https://localhost:8080/"
        },
        "id": "MyF1Oj2zaZej",
        "outputId": "f476cbfb-aece-4bc6-8e85-2eb24fac1633"
      },
      "execution_count": null,
      "outputs": [
        {
          "output_type": "stream",
          "name": "stdout",
          "text": [
            "('k1', 1)\n",
            "('k2', 2)\n",
            "('k3', 3)\n"
          ]
        }
      ]
    },
    {
      "cell_type": "code",
      "source": [
        "# we can unpack the tuple because each item is a tuple returned by dictionary\n",
        "for key, value in d.items():\n",
        "  print(f\"key : {key} and value : {value}\")\n",
        "\n",
        "# note - we may not always get the items in ordered way"
      ],
      "metadata": {
        "colab": {
          "base_uri": "https://localhost:8080/"
        },
        "id": "AvoFC6K-afJQ",
        "outputId": "882b9cf0-b6d9-43c8-a453-cb49a9d0053b"
      },
      "execution_count": null,
      "outputs": [
        {
          "output_type": "stream",
          "name": "stdout",
          "text": [
            "key : k1 and value : 1\n",
            "key : k2 and value : 2\n",
            "key : k3 and value : 3\n"
          ]
        }
      ]
    },
    {
      "cell_type": "markdown",
      "source": [
        "# While Loops\n",
        "\n",
        "\n",
        "---\n",
        "\n",
        "\n",
        "\n",
        "```\n",
        "while <condition = boolean>:\n",
        "  # execute\n",
        "  # change the condition parameters\n",
        "\n",
        "while <condition = boolean>:\n",
        "  # do something\n",
        "else:\n",
        "  # do something else\n",
        "```\n",
        "\n",
        "\n"
      ],
      "metadata": {
        "id": "HxPEj8rBbK-v"
      }
    },
    {
      "cell_type": "code",
      "source": [
        "x = 0\n",
        "\n",
        "while x < 5:\n",
        "  print(f\"The current value of x is {x}\")\n",
        "  x = x + 1\n",
        "\n",
        "# time complexity = (1 * 6) {condition} + 1 * 5 {print stmt} + 1 * 5 {assignment} = 6 + 5 + 5 = 16\n",
        "  # degree = O(n)\n",
        "# space complexity\n",
        "  # x => 1"
      ],
      "metadata": {
        "id": "nrY360oIa3-H",
        "outputId": "4f662d48-ef3d-4d51-ef3f-013fc39d797e",
        "colab": {
          "base_uri": "https://localhost:8080/"
        }
      },
      "execution_count": 1,
      "outputs": [
        {
          "output_type": "stream",
          "name": "stdout",
          "text": [
            "The current value of x is 0\n",
            "The current value of x is 1\n",
            "The current value of x is 2\n",
            "The current value of x is 3\n",
            "The current value of x is 4\n"
          ]
        }
      ]
    },
    {
      "cell_type": "code",
      "source": [
        "# let's add an else statement\n",
        "\n",
        "x = 0\n",
        "\n",
        "while x < 5:\n",
        "  print(f\"The current value of x is {x}\")\n",
        "  x = x + 1\n",
        "else:\n",
        "  print(\"X is not less than 5\")"
      ],
      "metadata": {
        "id": "RNIiVCK8LYRL",
        "outputId": "7fbaa2e1-24af-452c-ebd7-02f9b1b0b006",
        "colab": {
          "base_uri": "https://localhost:8080/"
        }
      },
      "execution_count": 2,
      "outputs": [
        {
          "output_type": "stream",
          "name": "stdout",
          "text": [
            "The current value of x is 0\n",
            "The current value of x is 1\n",
            "The current value of x is 2\n",
            "The current value of x is 3\n",
            "The current value of x is 4\n",
            "X is not less than 5\n"
          ]
        }
      ]
    },
    {
      "cell_type": "markdown",
      "source": [
        "**keywords**\n",
        "* break - breaks from the immediate loop\n",
        "* continue - skips the current execution and goes to the top of the current loop\n",
        "* pass - do nothing"
      ],
      "metadata": {
        "id": "8sAw_V2EMuDY"
      }
    },
    {
      "cell_type": "code",
      "source": [
        "# pass\n",
        "x = [1,2,3]\n",
        "for item in x:\n",
        "  # use pass for showing do nothing, or else runtime error will show\n",
        "  pass\n"
      ],
      "metadata": {
        "id": "OUrYAG75MG9Y"
      },
      "execution_count": 3,
      "outputs": []
    },
    {
      "cell_type": "code",
      "source": [
        "# continue\n",
        "\n",
        "my_string = \"Sammy\"\n",
        "\n",
        "for letter in my_string:\n",
        "  # I want to skip letter = a\n",
        "  if letter == \"a\":\n",
        "    continue\n",
        "  print(letter)"
      ],
      "metadata": {
        "id": "d1fTgjS0MtAJ",
        "outputId": "f7c9f132-f437-42c0-82f1-99b876b5d916",
        "colab": {
          "base_uri": "https://localhost:8080/"
        }
      },
      "execution_count": 5,
      "outputs": [
        {
          "output_type": "stream",
          "name": "stdout",
          "text": [
            "S\n",
            "m\n",
            "m\n",
            "y\n"
          ]
        }
      ]
    },
    {
      "cell_type": "code",
      "source": [
        "# break\n",
        "\n",
        "my_string = \"Sammy\"\n",
        "\n",
        "for letter in my_string:\n",
        "  # I want to stop printing when letter = a\n",
        "  if letter == \"a\":\n",
        "    break\n",
        "  print(letter)"
      ],
      "metadata": {
        "id": "XtAGuaHQNeG-",
        "outputId": "bc1e836d-60a9-489a-9d55-cf1b8285a216",
        "colab": {
          "base_uri": "https://localhost:8080/"
        }
      },
      "execution_count": 6,
      "outputs": [
        {
          "output_type": "stream",
          "name": "stdout",
          "text": [
            "S\n"
          ]
        }
      ]
    },
    {
      "cell_type": "code",
      "source": [
        "# break : another example\n",
        "\n",
        "x = 0\n",
        "\n",
        "while x < 5:\n",
        "  # break if x reaches 2\n",
        "  if x == 2:\n",
        "    break\n",
        "  print (x)\n",
        "  x = x + 1"
      ],
      "metadata": {
        "id": "BqR2tiIONtcY",
        "outputId": "6f5c5fc6-9fa6-4156-9bd4-ded0ef4bde19",
        "colab": {
          "base_uri": "https://localhost:8080/"
        }
      },
      "execution_count": 8,
      "outputs": [
        {
          "output_type": "stream",
          "name": "stdout",
          "text": [
            "0\n",
            "1\n"
          ]
        }
      ]
    },
    {
      "cell_type": "code",
      "source": [],
      "metadata": {
        "id": "0qSItcUhN938"
      },
      "execution_count": null,
      "outputs": []
    }
  ]
}