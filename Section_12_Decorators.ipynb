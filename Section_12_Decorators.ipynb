{
  "nbformat": 4,
  "nbformat_minor": 0,
  "metadata": {
    "colab": {
      "provenance": [],
      "authorship_tag": "ABX9TyOjScEdZtn/Tp0bKO2ztEJW",
      "include_colab_link": true
    },
    "kernelspec": {
      "name": "python3",
      "display_name": "Python 3"
    },
    "language_info": {
      "name": "python"
    }
  },
  "cells": [
    {
      "cell_type": "markdown",
      "metadata": {
        "id": "view-in-github",
        "colab_type": "text"
      },
      "source": [
        "<a href=\"https://colab.research.google.com/github/niladribanerjee80/python-udemy-jose/blob/main/Section_12_Decorators.ipynb\" target=\"_parent\"><img src=\"https://colab.research.google.com/assets/colab-badge.svg\" alt=\"Open In Colab\"/></a>"
      ]
    },
    {
      "cell_type": "markdown",
      "source": [
        "# Decorators"
      ],
      "metadata": {
        "id": "8i8CUwRt-QEf"
      }
    },
    {
      "cell_type": "markdown",
      "source": [
        "## assignment of functions"
      ],
      "metadata": {
        "id": "GSOZ-zL7AAgd"
      }
    },
    {
      "cell_type": "code",
      "execution_count": 1,
      "metadata": {
        "id": "ephht5vX6xV8"
      },
      "outputs": [],
      "source": [
        "def hello():\n",
        "    return 'Hello!'"
      ]
    },
    {
      "cell_type": "code",
      "source": [
        "greet = hello"
      ],
      "metadata": {
        "id": "IXVPqgBX65Vy"
      },
      "execution_count": 2,
      "outputs": []
    },
    {
      "cell_type": "code",
      "source": [
        "greet()"
      ],
      "metadata": {
        "colab": {
          "base_uri": "https://localhost:8080/",
          "height": 36
        },
        "id": "VRRLuuvC6_tj",
        "outputId": "74b0b043-f848-4505-e4e1-f144049792cf"
      },
      "execution_count": 3,
      "outputs": [
        {
          "output_type": "execute_result",
          "data": {
            "text/plain": [
              "'Hello!'"
            ],
            "application/vnd.google.colaboratory.intrinsic+json": {
              "type": "string"
            }
          },
          "metadata": {},
          "execution_count": 3
        }
      ]
    },
    {
      "cell_type": "code",
      "source": [
        "hello()"
      ],
      "metadata": {
        "colab": {
          "base_uri": "https://localhost:8080/",
          "height": 36
        },
        "id": "ilmpudxI7BPY",
        "outputId": "bb09849b-ebd0-41a7-b9b0-45b989598b7f"
      },
      "execution_count": 4,
      "outputs": [
        {
          "output_type": "execute_result",
          "data": {
            "text/plain": [
              "'Hello!'"
            ],
            "application/vnd.google.colaboratory.intrinsic+json": {
              "type": "string"
            }
          },
          "metadata": {},
          "execution_count": 4
        }
      ]
    },
    {
      "cell_type": "code",
      "source": [
        "id(greet)"
      ],
      "metadata": {
        "colab": {
          "base_uri": "https://localhost:8080/"
        },
        "id": "UKwuQibU7CT1",
        "outputId": "52fac5bd-e9e8-415a-cc35-fcb7cb5a69d9"
      },
      "execution_count": 5,
      "outputs": [
        {
          "output_type": "execute_result",
          "data": {
            "text/plain": [
              "140029830358224"
            ]
          },
          "metadata": {},
          "execution_count": 5
        }
      ]
    },
    {
      "cell_type": "code",
      "source": [
        "id(hello)\n",
        "# 140029830358224\n",
        "# 140029830358224"
      ],
      "metadata": {
        "colab": {
          "base_uri": "https://localhost:8080/"
        },
        "id": "WdODmOI47EX3",
        "outputId": "7ef73fba-ff74-4a49-8d5f-7a17faa6dad7"
      },
      "execution_count": 6,
      "outputs": [
        {
          "output_type": "execute_result",
          "data": {
            "text/plain": [
              "140029830358224"
            ]
          },
          "metadata": {},
          "execution_count": 6
        }
      ]
    },
    {
      "cell_type": "code",
      "source": [
        "x = \"Hello\"\n",
        "y = \"Hello\"\n",
        "print(id(x))\n",
        "print(id(y))\n",
        "del x\n",
        "print(y)\n",
        "print(id(y))"
      ],
      "metadata": {
        "colab": {
          "base_uri": "https://localhost:8080/"
        },
        "id": "goT4sQkV7FpD",
        "outputId": "28ea6d0c-80d2-4324-8fe8-c583fda45d00"
      },
      "execution_count": 7,
      "outputs": [
        {
          "output_type": "stream",
          "name": "stdout",
          "text": [
            "140029006971504\n",
            "140029006971504\n",
            "Hello\n",
            "140029006971504\n"
          ]
        }
      ]
    },
    {
      "cell_type": "markdown",
      "source": [
        "## defining function within another function"
      ],
      "metadata": {
        "id": "VZB_lwCNAHsj"
      }
    },
    {
      "cell_type": "code",
      "source": [
        "def hello(name = \"Niladri\"):\n",
        "    print(\"This is the hello() function\")\n",
        "\n",
        "    def greet():\n",
        "        return \"\\t This is the greet() inside hello()\"\n",
        "\n",
        "    def welcome():\n",
        "        return \"\\t This is the welcome() inside hello()\"\n",
        "\n",
        "    print(greet())\n",
        "    print(welcome())\n",
        "\n",
        "    print(\"This is the end of hello() function\")"
      ],
      "metadata": {
        "id": "Xl-JoxB67t3T"
      },
      "execution_count": 10,
      "outputs": []
    },
    {
      "cell_type": "code",
      "source": [
        "hello()"
      ],
      "metadata": {
        "colab": {
          "base_uri": "https://localhost:8080/"
        },
        "id": "XnjOapK59y3Y",
        "outputId": "4f78e040-d4b5-478e-be1a-a6d032bb014a"
      },
      "execution_count": 11,
      "outputs": [
        {
          "output_type": "stream",
          "name": "stdout",
          "text": [
            "This is the hello() function\n",
            "\t This is the greet() inside hello()\n",
            "\t This is the welcome() inside hello()\n",
            "This is the end of hello() function\n"
          ]
        }
      ]
    },
    {
      "cell_type": "markdown",
      "source": [
        "Note\n",
        "\n",
        "* the scope of greet() and welcome() is within hello()\n",
        "* these functions cannot be called outside on it's own\n",
        "* what if there was a way for hello() to return a function"
      ],
      "metadata": {
        "id": "61X2CX7D-DLw"
      }
    },
    {
      "cell_type": "markdown",
      "source": [
        "## returning function from a function"
      ],
      "metadata": {
        "id": "d6IOheGVANRU"
      }
    },
    {
      "cell_type": "code",
      "source": [
        "def hello(name = \"Niladri\"):\n",
        "    print(\"This is the hello() function\")\n",
        "\n",
        "    def greet():\n",
        "        return \"\\t This is the greet() inside hello()\"\n",
        "\n",
        "    def welcome():\n",
        "        return \"\\t This is the welcome() inside hello()\"\n",
        "\n",
        "    print(\"I am going to return a function\")\n",
        "\n",
        "    if name == \"Niladri\":\n",
        "        return greet\n",
        "    else:\n",
        "        return welcome"
      ],
      "metadata": {
        "id": "TrO6qdyQ9z_a"
      },
      "execution_count": 12,
      "outputs": []
    },
    {
      "cell_type": "code",
      "source": [
        "my_new_func = hello()"
      ],
      "metadata": {
        "colab": {
          "base_uri": "https://localhost:8080/"
        },
        "id": "6Dw5aR1B-uOL",
        "outputId": "3de9367e-0f15-49f9-f76e-b1795ddf2d3a"
      },
      "execution_count": 13,
      "outputs": [
        {
          "output_type": "stream",
          "name": "stdout",
          "text": [
            "This is the hello() function\n",
            "I am going to return a function\n"
          ]
        }
      ]
    },
    {
      "cell_type": "code",
      "source": [
        "my_new_func()"
      ],
      "metadata": {
        "colab": {
          "base_uri": "https://localhost:8080/",
          "height": 36
        },
        "id": "3NSQQyAn-7cB",
        "outputId": "da207716-678f-486b-e07f-fc818c5f4ee5"
      },
      "execution_count": 14,
      "outputs": [
        {
          "output_type": "execute_result",
          "data": {
            "text/plain": [
              "'\\t This is the greet() inside hello()'"
            ],
            "application/vnd.google.colaboratory.intrinsic+json": {
              "type": "string"
            }
          },
          "metadata": {},
          "execution_count": 14
        }
      ]
    },
    {
      "cell_type": "code",
      "source": [
        "my_new_func"
      ],
      "metadata": {
        "colab": {
          "base_uri": "https://localhost:8080/",
          "height": 103
        },
        "id": "v8_ybITD-863",
        "outputId": "4886730b-396f-4966-aadc-a29003c67511"
      },
      "execution_count": 15,
      "outputs": [
        {
          "output_type": "execute_result",
          "data": {
            "text/plain": [
              "<function __main__.hello.<locals>.greet()>"
            ],
            "text/html": [
              "<div style=\"max-width:800px; border: 1px solid var(--colab-border-color);\"><style>\n",
              "      pre.function-repr-contents {\n",
              "        overflow-x: auto;\n",
              "        padding: 8px 12px;\n",
              "        max-height: 500px;\n",
              "      }\n",
              "\n",
              "      pre.function-repr-contents.function-repr-contents-collapsed {\n",
              "        cursor: pointer;\n",
              "        max-height: 100px;\n",
              "      }\n",
              "    </style>\n",
              "    <pre style=\"white-space: initial; background:\n",
              "         var(--colab-secondary-surface-color); padding: 8px 12px;\n",
              "         border-bottom: 1px solid var(--colab-border-color);\"><b>hello.&lt;locals&gt;.greet</b><br/>def greet()</pre><pre class=\"function-repr-contents function-repr-contents-collapsed\" style=\"\"><a class=\"filepath\" style=\"display:none\" href=\"#\">/content/&lt;ipython-input-12-abf5a71742ba&gt;</a>&lt;no docstring&gt;</pre></div>"
            ]
          },
          "metadata": {},
          "execution_count": 15
        }
      ]
    },
    {
      "cell_type": "code",
      "source": [
        "def cool():\n",
        "\n",
        "    def super_cool():\n",
        "        return \"I am very cool!\"\n",
        "\n",
        "    return super_cool"
      ],
      "metadata": {
        "id": "kukePyK3_ETn"
      },
      "execution_count": 16,
      "outputs": []
    },
    {
      "cell_type": "code",
      "source": [
        "some_func = cool()"
      ],
      "metadata": {
        "id": "RmJQOg_N_Q4_"
      },
      "execution_count": 17,
      "outputs": []
    },
    {
      "cell_type": "code",
      "source": [
        "some_func()"
      ],
      "metadata": {
        "colab": {
          "base_uri": "https://localhost:8080/",
          "height": 36
        },
        "id": "1Te_ejko_Uww",
        "outputId": "0a79316b-fcc2-4d25-8641-d452536b94ee"
      },
      "execution_count": 18,
      "outputs": [
        {
          "output_type": "execute_result",
          "data": {
            "text/plain": [
              "'I am very cool!'"
            ],
            "application/vnd.google.colaboratory.intrinsic+json": {
              "type": "string"
            }
          },
          "metadata": {},
          "execution_count": 18
        }
      ]
    },
    {
      "cell_type": "markdown",
      "source": [
        "## passing function as a parameter"
      ],
      "metadata": {
        "id": "7MJp_1aQAS52"
      }
    },
    {
      "cell_type": "code",
      "source": [
        "def hello():\n",
        "    return \"Hi Jose!\""
      ],
      "metadata": {
        "id": "YxpVS3fX_WBS"
      },
      "execution_count": 19,
      "outputs": []
    },
    {
      "cell_type": "code",
      "source": [
        "def other(some_defined_func):\n",
        "    print(\"Other code runs here!\")\n",
        "    print(some_defined_func())"
      ],
      "metadata": {
        "id": "Nkb9CFuZ_jHT"
      },
      "execution_count": 20,
      "outputs": []
    },
    {
      "cell_type": "code",
      "source": [
        "other(hello)\n",
        "# note - I am passing the function name and not executing while passing the parameter"
      ],
      "metadata": {
        "colab": {
          "base_uri": "https://localhost:8080/"
        },
        "id": "hXjam0hi_x2a",
        "outputId": "b2ff7bcc-ae8a-4a18-abd4-357b3939f7a0"
      },
      "execution_count": 22,
      "outputs": [
        {
          "output_type": "stream",
          "name": "stdout",
          "text": [
            "Other code runs here!\n",
            "Hi Jose!\n"
          ]
        }
      ]
    },
    {
      "cell_type": "markdown",
      "source": [
        "## decorator use"
      ],
      "metadata": {
        "id": "05_Sr8tdDnJT"
      }
    },
    {
      "cell_type": "code",
      "source": [
        "def new_decorator(original_func):\n",
        "\n",
        "    def wrap_func():\n",
        "\n",
        "        # extra functionality\n",
        "\n",
        "        print(\"Some extra code before the original function\")\n",
        "\n",
        "        original_func()\n",
        "\n",
        "        print(\"Some extra code after the original function\")\n",
        "\n",
        "    return wrap_func"
      ],
      "metadata": {
        "id": "tu0SCnU7AySb"
      },
      "execution_count": 23,
      "outputs": []
    },
    {
      "cell_type": "code",
      "source": [
        "def func_needs_decorator():\n",
        "    print(\"I want to be decorated!\")"
      ],
      "metadata": {
        "id": "zrsdi4cvBYdl"
      },
      "execution_count": 24,
      "outputs": []
    },
    {
      "cell_type": "code",
      "source": [
        "decorated_func = new_decorator(func_needs_decorator)"
      ],
      "metadata": {
        "id": "DHYkZnGlBfqk"
      },
      "execution_count": 25,
      "outputs": []
    },
    {
      "cell_type": "code",
      "source": [
        "decorated_func()"
      ],
      "metadata": {
        "colab": {
          "base_uri": "https://localhost:8080/"
        },
        "id": "v1ND-cd9Bq6X",
        "outputId": "d1fae5ef-e66b-4ebb-940e-e0fc3ef1daef"
      },
      "execution_count": 26,
      "outputs": [
        {
          "output_type": "stream",
          "name": "stdout",
          "text": [
            "Some extra code before the original function\n",
            "I want to be decorated!\n",
            "Some extra code after the original function\n"
          ]
        }
      ]
    },
    {
      "cell_type": "markdown",
      "source": [
        "**What decorator does is to get rid of the below steps**\n",
        "\n",
        "decorated_func = new_decorator(func_needs_decorator)\\\n",
        "decorated_func()\n"
      ],
      "metadata": {
        "id": "gISV7shyCeV3"
      }
    },
    {
      "cell_type": "code",
      "source": [
        "@new_decorator # this is my on/off switch. note it is the function name with @ symbol\n",
        "def func_needs_decorator():\n",
        "    print(\"I want to be decorated!\")"
      ],
      "metadata": {
        "id": "19kS95SrBsNl"
      },
      "execution_count": 33,
      "outputs": []
    },
    {
      "cell_type": "code",
      "source": [
        "func_needs_decorator()\n",
        "\n",
        "# This can be achieved using the below as well\n",
        "\n",
        "# decorated_func = new_decorator(func_needs_decorator)\n",
        "# decorated_func()"
      ],
      "metadata": {
        "colab": {
          "base_uri": "https://localhost:8080/"
        },
        "id": "5IH8AzeeCv33",
        "outputId": "14914b66-33b0-4bd0-a6ea-cde13c701983"
      },
      "execution_count": 34,
      "outputs": [
        {
          "output_type": "stream",
          "name": "stdout",
          "text": [
            "Some extra code before the original function\n",
            "I want to be decorated!\n",
            "Some extra code after the original function\n"
          ]
        }
      ]
    },
    {
      "cell_type": "code",
      "source": [
        "#new_decorator\n",
        "def func_needs_decorator():\n",
        "    print(\"I want to be decorated!\")"
      ],
      "metadata": {
        "id": "3H7stdF6CzqM"
      },
      "execution_count": 30,
      "outputs": []
    },
    {
      "cell_type": "code",
      "source": [
        "func_needs_decorator()"
      ],
      "metadata": {
        "colab": {
          "base_uri": "https://localhost:8080/"
        },
        "id": "A6cdVuztDCCh",
        "outputId": "fc28e9d0-427c-4ee8-b144-d42a1de211fe"
      },
      "execution_count": 31,
      "outputs": [
        {
          "output_type": "stream",
          "name": "stdout",
          "text": [
            "I want to be decorated!\n"
          ]
        }
      ]
    },
    {
      "cell_type": "code",
      "source": [],
      "metadata": {
        "id": "qezHXnMDDF1o"
      },
      "execution_count": null,
      "outputs": []
    }
  ]
}