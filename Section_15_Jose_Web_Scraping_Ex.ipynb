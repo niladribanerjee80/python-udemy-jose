{
  "cells": [
    {
      "cell_type": "markdown",
      "metadata": {
        "id": "view-in-github",
        "colab_type": "text"
      },
      "source": [
        "<a href=\"https://colab.research.google.com/github/niladribanerjee80/python-udemy-jose/blob/main/Section_15_Jose_Web_Scraping_Ex.ipynb\" target=\"_parent\"><img src=\"https://colab.research.google.com/assets/colab-badge.svg\" alt=\"Open In Colab\"/></a>"
      ]
    },
    {
      "cell_type": "markdown",
      "metadata": {
        "id": "AxlMCM0Gg0ZU"
      },
      "source": [
        "___\n",
        "\n",
        "<a href='https://www.udemy.com/user/joseportilla/'><img src='../Pierian_Data_Logo.png'/></a>\n",
        "___\n",
        "<center><em>Content Copyright by Pierian Data</em></center>"
      ]
    },
    {
      "cell_type": "markdown",
      "metadata": {
        "id": "MntuLgkhg0ZW"
      },
      "source": [
        "# Web Scraping Exercises\n",
        "\n",
        "## Complete the Tasks Below"
      ]
    },
    {
      "cell_type": "markdown",
      "metadata": {
        "id": "xtp2ybTHg0ZW"
      },
      "source": [
        "**TASK: Import any libraries you think you'll need to scrape a website.**"
      ]
    },
    {
      "cell_type": "code",
      "execution_count": 1,
      "metadata": {
        "collapsed": true,
        "id": "SEHX8snzg0ZW"
      },
      "outputs": [],
      "source": [
        "# CODE HERE\n",
        "\n",
        "from bs4 import BeautifulSoup\n",
        "import requests"
      ]
    },
    {
      "cell_type": "code",
      "execution_count": null,
      "metadata": {
        "collapsed": true,
        "id": "iB8Blk9bg0ZX"
      },
      "outputs": [],
      "source": []
    },
    {
      "cell_type": "markdown",
      "metadata": {
        "id": "ZobTbiKxg0ZX"
      },
      "source": [
        "**TASK: Use requests library and BeautifulSoup to connect to http://quotes.toscrape.com/ and get the HMTL text from the homepage.**"
      ]
    },
    {
      "cell_type": "code",
      "execution_count": 2,
      "metadata": {
        "collapsed": true,
        "id": "l-k48pGSg0ZX"
      },
      "outputs": [],
      "source": [
        "# CODE HERE\n",
        "url = \"https://quotes.toscrape.com/\"\n",
        "response = requests.get(url).text\n",
        "soup = BeautifulSoup(response,\"lxml\")"
      ]
    },
    {
      "cell_type": "markdown",
      "metadata": {
        "id": "JCaUq2jog0ZY"
      },
      "source": [
        "**TASK: Get the names of all the authors on the first page.**"
      ]
    },
    {
      "cell_type": "code",
      "execution_count": 5,
      "metadata": {
        "collapsed": true,
        "id": "fUbo68P0g0ZZ"
      },
      "outputs": [],
      "source": [
        "# CODE HERE\n",
        "authors = set()\n",
        "\n",
        "quote_objects = soup.find_all('div',class_=\"quote\")\n",
        "\n",
        "for quote in quote_objects:\n",
        "\n",
        "    # find the element = small and class = author\n",
        "    author = quote.find('small',class_=\"author\").text.strip()\n",
        "\n",
        "    # add the author into the set\n",
        "    authors.add(author)"
      ]
    },
    {
      "cell_type": "code",
      "source": [
        "# this is my attempt\n",
        "authors"
      ],
      "metadata": {
        "colab": {
          "base_uri": "https://localhost:8080/"
        },
        "id": "pSpv6mjljuyo",
        "outputId": "f3751640-7366-4741-c8d1-059ad0a8be0a"
      },
      "execution_count": 6,
      "outputs": [
        {
          "output_type": "execute_result",
          "data": {
            "text/plain": [
              "{'Albert Einstein',\n",
              " 'André Gide',\n",
              " 'Eleanor Roosevelt',\n",
              " 'J.K. Rowling',\n",
              " 'Jane Austen',\n",
              " 'Marilyn Monroe',\n",
              " 'Steve Martin',\n",
              " 'Thomas A. Edison'}"
            ]
          },
          "metadata": {},
          "execution_count": 6
        }
      ]
    },
    {
      "cell_type": "code",
      "execution_count": null,
      "metadata": {
        "id": "64LpHRzvg0ZZ",
        "outputId": "12d63434-3c9e-49a0-a148-206d3ff260f2"
      },
      "outputs": [
        {
          "data": {
            "text/plain": [
              "{'Albert Einstein',\n",
              " 'André Gide',\n",
              " 'Eleanor Roosevelt',\n",
              " 'J.K. Rowling',\n",
              " 'Jane Austen',\n",
              " 'Marilyn Monroe',\n",
              " 'Steve Martin',\n",
              " 'Thomas A. Edison'}"
            ]
          },
          "execution_count": 37,
          "metadata": {},
          "output_type": "execute_result"
        }
      ],
      "source": [
        "authors"
      ]
    },
    {
      "cell_type": "markdown",
      "metadata": {
        "id": "8GXAa6tHg0ZZ"
      },
      "source": [
        "**TASK: Create a list of all the quotes on the first page.**"
      ]
    },
    {
      "cell_type": "code",
      "execution_count": 7,
      "metadata": {
        "collapsed": true,
        "id": "DpHg6tjbg0ZZ"
      },
      "outputs": [],
      "source": [
        "#CODE HERE\n",
        "quotes = []\n",
        "\n",
        "for quote in quote_objects:\n",
        "\n",
        "    # find the element = small and class = author\n",
        "    quote = quote.find('span',class_=\"text\").text.strip()\n",
        "\n",
        "    # add the author into the set\n",
        "    quotes.append(quote)"
      ]
    },
    {
      "cell_type": "code",
      "source": [
        "# my attempt\n",
        "quotes"
      ],
      "metadata": {
        "colab": {
          "base_uri": "https://localhost:8080/"
        },
        "id": "9AUn7Uozj-5Y",
        "outputId": "69bfe954-770d-4283-c831-8d3b1a7c1f0e"
      },
      "execution_count": 8,
      "outputs": [
        {
          "output_type": "execute_result",
          "data": {
            "text/plain": [
              "['“The world as we have created it is a process of our thinking. It cannot be changed without changing our thinking.”',\n",
              " '“It is our choices, Harry, that show what we truly are, far more than our abilities.”',\n",
              " '“There are only two ways to live your life. One is as though nothing is a miracle. The other is as though everything is a miracle.”',\n",
              " '“The person, be it gentleman or lady, who has not pleasure in a good novel, must be intolerably stupid.”',\n",
              " \"“Imperfection is beauty, madness is genius and it's better to be absolutely ridiculous than absolutely boring.”\",\n",
              " '“Try not to become a man of success. Rather become a man of value.”',\n",
              " '“It is better to be hated for what you are than to be loved for what you are not.”',\n",
              " \"“I have not failed. I've just found 10,000 ways that won't work.”\",\n",
              " \"“A woman is like a tea bag; you never know how strong it is until it's in hot water.”\",\n",
              " '“A day without sunshine is like, you know, night.”']"
            ]
          },
          "metadata": {},
          "execution_count": 8
        }
      ]
    },
    {
      "cell_type": "code",
      "execution_count": null,
      "metadata": {
        "id": "HjzLjlyjg0ZZ",
        "outputId": "d1bdc99d-6e5e-40f6-edf7-b124bf168254"
      },
      "outputs": [
        {
          "data": {
            "text/plain": [
              "['“The world as we have created it is a process of our thinking. It cannot be changed without changing our thinking.”',\n",
              " '“It is our choices, Harry, that show what we truly are, far more than our abilities.”',\n",
              " '“There are only two ways to live your life. One is as though nothing is a miracle. The other is as though everything is a miracle.”',\n",
              " '“The person, be it gentleman or lady, who has not pleasure in a good novel, must be intolerably stupid.”',\n",
              " \"“Imperfection is beauty, madness is genius and it's better to be absolutely ridiculous than absolutely boring.”\",\n",
              " '“Try not to become a man of success. Rather become a man of value.”',\n",
              " '“It is better to be hated for what you are than to be loved for what you are not.”',\n",
              " \"“I have not failed. I've just found 10,000 ways that won't work.”\",\n",
              " \"“A woman is like a tea bag; you never know how strong it is until it's in hot water.”\",\n",
              " '“A day without sunshine is like, you know, night.”']"
            ]
          },
          "execution_count": 15,
          "metadata": {},
          "output_type": "execute_result"
        }
      ],
      "source": [
        "quotes"
      ]
    },
    {
      "cell_type": "markdown",
      "metadata": {
        "id": "zIXQYd87g0ZZ"
      },
      "source": [
        "**TASK: Inspect the site and use Beautiful Soup to extract the top ten tags from the requests text shown on the top right from the home page (e.g Love,Inspirational,Life, etc...). HINT: Keep in mind there are also tags underneath each quote, try to find a class only present in the top right tags, perhaps check the span.**"
      ]
    },
    {
      "cell_type": "code",
      "execution_count": 9,
      "metadata": {
        "collapsed": true,
        "colab": {
          "base_uri": "https://localhost:8080/"
        },
        "id": "UCAhPxpVg0ZZ",
        "outputId": "462c1bc8-b5e8-4508-c9ea-1d0eacaa1d25"
      },
      "outputs": [
        {
          "output_type": "stream",
          "name": "stdout",
          "text": [
            "\n",
            "love\n",
            "\n",
            "\n",
            "inspirational\n",
            "\n",
            "\n",
            "life\n",
            "\n",
            "\n",
            "humor\n",
            "\n",
            "\n",
            "books\n",
            "\n",
            "\n",
            "reading\n",
            "\n",
            "\n",
            "friendship\n",
            "\n",
            "\n",
            "friends\n",
            "\n",
            "\n",
            "truth\n",
            "\n",
            "\n",
            "simile\n",
            "\n"
          ]
        }
      ],
      "source": [
        "# CODE HERE\n",
        "tags = soup.find_all('span',class_=\"tag-item\")\n",
        "\n",
        "for tag in tags:\n",
        "    print(tag.text)"
      ]
    },
    {
      "cell_type": "code",
      "execution_count": null,
      "metadata": {
        "id": "t_Y-EPrvg0Za",
        "outputId": "e06a0a8e-640f-4742-f6ca-5fc1b5f6a544"
      },
      "outputs": [
        {
          "name": "stdout",
          "output_type": "stream",
          "text": [
            "\n",
            "love\n",
            "\n",
            "\n",
            "inspirational\n",
            "\n",
            "\n",
            "life\n",
            "\n",
            "\n",
            "humor\n",
            "\n",
            "\n",
            "books\n",
            "\n",
            "\n",
            "reading\n",
            "\n",
            "\n",
            "friendship\n",
            "\n",
            "\n",
            "friends\n",
            "\n",
            "\n",
            "truth\n",
            "\n",
            "\n",
            "simile\n",
            "\n"
          ]
        }
      ],
      "source": []
    },
    {
      "cell_type": "markdown",
      "metadata": {
        "id": "wlEBcwEwg0Za"
      },
      "source": [
        "**TASK: Notice how there is more than one page, and subsequent pages look like this http://quotes.toscrape.com/page/2/. Use what you know about for loops and string concatenation to loop through all the pages and get all the unique authors on the website. Keep in mind there are many ways to achieve this, also note that you will need to somehow figure out how to check that your loop is on the last page with quotes. For debugging purposes, I will let you know that there are only 10 pages, so the last page is http://quotes.toscrape.com/page/10/, but try to create a loop that is robust enough that it wouldn't matter to know the amount of pages beforehand, perhaps use try/except for this, its up to you!**"
      ]
    },
    {
      "cell_type": "code",
      "source": [
        "url = \"https://quotes.toscrape.com/page/11/\"\n",
        "\n",
        "response = requests.get(url).text\n",
        "\n",
        "soup = BeautifulSoup(response,\"lxml\")\n",
        "\n",
        "page_message = soup.find_all('div',class_=\"col-md-8\")\n",
        "\n",
        "v_header = ''\n",
        "\n",
        "for item in page_message:\n",
        "    v_header = item.text.strip()\n",
        "    v_header = v_header.replace('\\n','')\n",
        "    print(v_header)\n",
        "    if v_header == \"No quotes found!    ← Previous\":\n",
        "        print(\"Cannot continue for page 11\")\n",
        "        break"
      ],
      "metadata": {
        "colab": {
          "base_uri": "https://localhost:8080/"
        },
        "id": "7QXJkra5mH5T",
        "outputId": "89fceb95-97b0-4d9f-bb71-de9d8d15992c"
      },
      "execution_count": 45,
      "outputs": [
        {
          "output_type": "stream",
          "name": "stdout",
          "text": [
            "Quotes to Scrape\n",
            "No quotes found!    ← Previous\n",
            "Cannot continue for page 11\n"
          ]
        }
      ]
    },
    {
      "cell_type": "code",
      "execution_count": 49,
      "metadata": {
        "collapsed": true,
        "colab": {
          "base_uri": "https://localhost:8080/"
        },
        "id": "1oXrIXPzg0Za",
        "outputId": "66c120d3-be69-4cf3-ffdf-918e56f7f710"
      },
      "outputs": [
        {
          "output_type": "stream",
          "name": "stdout",
          "text": [
            "Ayn Rand\n",
            "Charles M. Schulz\n",
            "George Eliot\n",
            "Jane Austen\n",
            "Garrison Keillor\n",
            "Marilyn Monroe\n",
            "George R.R. Martin\n",
            "C.S. Lewis\n",
            "Pablo Neruda\n",
            "John Lennon\n",
            "Khaled Hosseini\n",
            "Charles Bukowski\n",
            "J.D. Salinger\n",
            "Thomas A. Edison\n",
            "Jimi Hendrix\n",
            "Allen Saunders\n",
            "Jim Henson\n",
            "Alexandre Dumas fils\n",
            "William Nicholson\n",
            "Elie Wiesel\n",
            "J.R.R. Tolkien\n",
            "Helen Keller\n",
            "E.E. Cummings\n",
            "J.M. Barrie\n",
            "Terry Pratchett\n",
            "Friedrich Nietzsche\n",
            "Stephenie Meyer\n",
            "Ernest Hemingway\n",
            "Ralph Waldo Emerson\n",
            "J.K. Rowling\n",
            "W.C. Fields\n",
            "George Bernard Shaw\n",
            "Mark Twain\n",
            "Haruki Murakami\n",
            "Eleanor Roosevelt\n",
            "Martin Luther King Jr.\n",
            "George Carlin\n",
            "Madeleine L'Engle\n",
            "André Gide\n",
            "James Baldwin\n",
            "Jorge Luis Borges\n",
            "Harper Lee\n",
            "Steve Martin\n",
            "Albert Einstein\n",
            "Alfred Tennyson\n",
            "Bob Marley\n",
            "Douglas Adams\n",
            "Mother Teresa\n",
            "Suzanne Collins\n",
            "Dr. Seuss\n"
          ]
        }
      ],
      "source": [
        "# CODE HERE\n",
        "base_url = \"https://quotes.toscrape.com/page\"\n",
        "\n",
        "i = 1\n",
        "authors = set()\n",
        "search = True\n",
        "\n",
        "while search:\n",
        "    url = f\"{base_url}/{i}/\"\n",
        "    quote_header = ''\n",
        "\n",
        "    response = requests.get(url).text\n",
        "    soup = BeautifulSoup(response,\"lxml\")\n",
        "\n",
        "    # print(f\"Page URL : {url}\")\n",
        "\n",
        "    # check if the page can be scraped\n",
        "    page_message = soup.find_all('div',class_=\"col-md-8\")\n",
        "\n",
        "    for item in page_message:\n",
        "\n",
        "        quote_header = item.text.strip()\n",
        "        quote_header = quote_header.replace('\\n','')\n",
        "\n",
        "        if quote_header == \"No quotes found!    ← Previous\":\n",
        "            search = False\n",
        "            break\n",
        "\n",
        "    if search:\n",
        "        # Continue with scraping\n",
        "        quote_objects = soup.find_all('div',class_=\"quote\")\n",
        "\n",
        "        for quote in quote_objects:\n",
        "            # find the element = small and class = author\n",
        "            author = quote.find('small',class_=\"author\").text.strip()\n",
        "\n",
        "            # add the author into the set\n",
        "            authors.add(author)\n",
        "\n",
        "        # increment the page\n",
        "        i += 1\n",
        "        # print(f\"Page {url}, scraping complete\")\n",
        "        # print('\\n')\n",
        "    else:\n",
        "        break\n",
        "\n",
        "for x in authors:\n",
        "    print(x)"
      ]
    },
    {
      "cell_type": "markdown",
      "metadata": {
        "id": "vcJsHz6Fg0Za"
      },
      "source": [
        "There are lots of other potential solutions that are even more robust and flexible, the main idea is the same though, use a while loop to cycle through potential pages and have a break condition based on the invalid page."
      ]
    }
  ],
  "metadata": {
    "kernelspec": {
      "display_name": "Python 3",
      "language": "python",
      "name": "python3"
    },
    "language_info": {
      "codemirror_mode": {
        "name": "ipython",
        "version": 3
      },
      "file_extension": ".py",
      "mimetype": "text/x-python",
      "name": "python",
      "nbconvert_exporter": "python",
      "pygments_lexer": "ipython3",
      "version": "3.6.6"
    },
    "colab": {
      "provenance": [],
      "include_colab_link": true
    }
  },
  "nbformat": 4,
  "nbformat_minor": 0
}