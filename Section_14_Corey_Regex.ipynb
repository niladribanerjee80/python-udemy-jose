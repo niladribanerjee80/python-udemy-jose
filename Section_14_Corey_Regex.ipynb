{
  "nbformat": 4,
  "nbformat_minor": 0,
  "metadata": {
    "colab": {
      "provenance": [],
      "authorship_tag": "ABX9TyP70rfhd66S/rpqldxoq091",
      "include_colab_link": true
    },
    "kernelspec": {
      "name": "python3",
      "display_name": "Python 3"
    },
    "language_info": {
      "name": "python"
    }
  },
  "cells": [
    {
      "cell_type": "markdown",
      "metadata": {
        "id": "view-in-github",
        "colab_type": "text"
      },
      "source": [
        "<a href=\"https://colab.research.google.com/github/niladribanerjee80/python-udemy-jose/blob/main/Section_14_Corey_Regex.ipynb\" target=\"_parent\"><img src=\"https://colab.research.google.com/assets/colab-badge.svg\" alt=\"Open In Colab\"/></a>"
      ]
    },
    {
      "cell_type": "code",
      "execution_count": 10,
      "metadata": {
        "id": "UwgFtEVfgfZF"
      },
      "outputs": [],
      "source": [
        "import re"
      ]
    },
    {
      "cell_type": "code",
      "source": [
        "text_to_search = '''\n",
        "abcdefghijklmnopqurtuvwxyz\n",
        "ABCDEFGHIJKLMNOPQRSTUVWXYZ\n",
        "1234567890\n",
        "\n",
        "Ha HaHa\n",
        "\n",
        "coreyms.com\n",
        "\n",
        "321-555-4321\n",
        "123.555.1234\n",
        "800-929-1818\n",
        "900-564-7878\n",
        "\n",
        "Mr. Schafer\n",
        "Mr Smith\n",
        "Ms Davis\n",
        "Mrs. Robinson\n",
        "Mr. T\n",
        "'''\n",
        "\n",
        "sentence = 'Start a sentence and then bring it to an end'"
      ],
      "metadata": {
        "id": "Lu0ooSWvaNUG"
      },
      "execution_count": null,
      "outputs": []
    },
    {
      "cell_type": "code",
      "source": [
        "# get the phone numbers\n",
        "# note {3} is a quantifier, or else we needed to use \\d\\d\\d\n",
        "pattern = re.compile(r'\\d{3}[-.]\\d{3}[-.]\\d{4}')\n",
        "\n",
        "matches = pattern.finditer(text_to_search)\n",
        "\n",
        "for match in matches:\n",
        "\tprint(match)"
      ],
      "metadata": {
        "colab": {
          "base_uri": "https://localhost:8080/"
        },
        "id": "piy62R8yaVBe",
        "outputId": "46fdf9f7-2e82-4205-8a95-f5cea937fa55"
      },
      "execution_count": null,
      "outputs": [
        {
          "output_type": "stream",
          "name": "stdout",
          "text": [
            "<re.Match object; span=(89, 101), match='321-555-4321'>\n",
            "<re.Match object; span=(102, 114), match='123.555.1234'>\n",
            "<re.Match object; span=(115, 127), match='800-929-1818'>\n",
            "<re.Match object; span=(128, 140), match='900-564-7878'>\n"
          ]
        }
      ]
    },
    {
      "cell_type": "code",
      "source": [
        "# What is we want the spans only\n",
        "pattern = re.compile(r'\\d{3}[-.]\\d{3}[-.]\\d{4}')\n",
        "\n",
        "matches = pattern.finditer(text_to_search)\n",
        "\n",
        "for match in matches:\n",
        "\tprint(match.span())"
      ],
      "metadata": {
        "id": "XQdTTg804CwX",
        "outputId": "9ea663a8-2d0b-468e-caee-9509f9cae664",
        "colab": {
          "base_uri": "https://localhost:8080/"
        }
      },
      "execution_count": null,
      "outputs": [
        {
          "output_type": "stream",
          "name": "stdout",
          "text": [
            "(89, 101)\n",
            "(102, 114)\n",
            "(115, 127)\n",
            "(128, 140)\n"
          ]
        }
      ]
    },
    {
      "cell_type": "code",
      "source": [
        "# What is we want the text only\n",
        "pattern = re.compile(r'\\d{3}[-.]\\d{3}[-.]\\d{4}')\n",
        "\n",
        "matches = pattern.finditer(text_to_search)\n",
        "\n",
        "for match in matches:\n",
        "\tprint(match.group())"
      ],
      "metadata": {
        "id": "KIxUxjJ64Jcb",
        "outputId": "a7ea5a7d-7721-423f-dbab-65fdf40a7d8d",
        "colab": {
          "base_uri": "https://localhost:8080/"
        }
      },
      "execution_count": null,
      "outputs": [
        {
          "output_type": "stream",
          "name": "stdout",
          "text": [
            "321-555-4321\n",
            "123.555.1234\n",
            "800-929-1818\n",
            "900-564-7878\n"
          ]
        }
      ]
    },
    {
      "cell_type": "code",
      "source": [
        "# just the start and end index\n",
        "pattern = re.compile(r'\\d{3}[-.]\\d{3}[-.]\\d{4}')\n",
        "\n",
        "matches = pattern.finditer(text_to_search)\n",
        "\n",
        "for match in matches:\n",
        "\tprint(f\"Start Index : {match.start()} End Index : {match.end()}\")"
      ],
      "metadata": {
        "id": "qBOFUT6y4RMP",
        "outputId": "325ebe1c-40c6-41b4-b46d-2cefad934540",
        "colab": {
          "base_uri": "https://localhost:8080/"
        }
      },
      "execution_count": null,
      "outputs": [
        {
          "output_type": "stream",
          "name": "stdout",
          "text": [
            "Start Index : 89 End Index : 101\n",
            "Start Index : 102 End Index : 114\n",
            "Start Index : 115 End Index : 127\n",
            "Start Index : 128 End Index : 140\n"
          ]
        }
      ]
    },
    {
      "cell_type": "code",
      "source": [
        "# get the names\n",
        "pattern = re.compile(r'M(r|s|rs)\\.?\\s+[A-Z]\\w*')\n",
        "\n",
        "matches = pattern.finditer(text_to_search)\n",
        "\n",
        "for match in matches:\n",
        "\tprint(match)"
      ],
      "metadata": {
        "colab": {
          "base_uri": "https://localhost:8080/"
        },
        "id": "irzRq3Xodiqq",
        "outputId": "7cb09870-2a3e-4560-f09f-c4f796a9c815"
      },
      "execution_count": null,
      "outputs": [
        {
          "output_type": "stream",
          "name": "stdout",
          "text": [
            "<re.Match object; span=(142, 153), match='Mr. Schafer'>\n",
            "<re.Match object; span=(154, 162), match='Mr Smith'>\n",
            "<re.Match object; span=(163, 171), match='Ms Davis'>\n",
            "<re.Match object; span=(172, 185), match='Mrs. Robinson'>\n",
            "<re.Match object; span=(186, 191), match='Mr. T'>\n"
          ]
        }
      ]
    },
    {
      "cell_type": "code",
      "source": [
        "# get coreyms.com = literal search\n",
        "pattern = re.compile(r'coreyms\\.com')\n",
        "\n",
        "matches = pattern.finditer(text_to_search)\n",
        "\n",
        "for match in matches:\n",
        "\tprint(match)"
      ],
      "metadata": {
        "colab": {
          "base_uri": "https://localhost:8080/"
        },
        "id": "HYMCGhLPd_NF",
        "outputId": "79686494-cb82-43ec-adad-8d2fb1816a55"
      },
      "execution_count": null,
      "outputs": [
        {
          "output_type": "stream",
          "name": "stdout",
          "text": [
            "<re.Match object; span=(76, 87), match='coreyms.com'>\n"
          ]
        }
      ]
    },
    {
      "cell_type": "code",
      "source": [
        "# word boundary with \"Ha\"\n",
        "pattern = re.compile(r'\\bHa\\b')\n",
        "\n",
        "matches = pattern.finditer(text_to_search)\n",
        "\n",
        "for match in matches:\n",
        "\tprint(match)"
      ],
      "metadata": {
        "colab": {
          "base_uri": "https://localhost:8080/"
        },
        "id": "NQKTi3mtePr8",
        "outputId": "88605da5-08c4-4a2a-80cd-6e19b09634d3"
      },
      "execution_count": null,
      "outputs": [
        {
          "output_type": "stream",
          "name": "stdout",
          "text": [
            "<re.Match object; span=(67, 69), match='Ha'>\n"
          ]
        }
      ]
    },
    {
      "cell_type": "code",
      "source": [
        "# use of anchors\n",
        "# sentence = 'Start a sentence and then bring it to an end'\n",
        "\n",
        "pattern = re.compile(r'^Start')\n",
        "\n",
        "matches = pattern.finditer(sentence)\n",
        "\n",
        "for match in matches:\n",
        "\tprint(match)"
      ],
      "metadata": {
        "colab": {
          "base_uri": "https://localhost:8080/"
        },
        "id": "C110aKk-ee8d",
        "outputId": "4f464f16-d06e-4ca2-c22b-247dfed6e704"
      },
      "execution_count": null,
      "outputs": [
        {
          "output_type": "stream",
          "name": "stdout",
          "text": [
            "<re.Match object; span=(0, 5), match='Start'>\n"
          ]
        }
      ]
    },
    {
      "cell_type": "code",
      "source": [
        "pattern = re.compile(r'^a') # expecting no match\n",
        "\n",
        "matches = pattern.finditer(sentence)\n",
        "\n",
        "for match in matches:\n",
        "\tprint(match)"
      ],
      "metadata": {
        "id": "Hrc-_05-fbJH"
      },
      "execution_count": null,
      "outputs": []
    },
    {
      "cell_type": "code",
      "source": [
        "pattern = re.compile(r'end$')\n",
        "\n",
        "matches = pattern.finditer(sentence)\n",
        "\n",
        "for match in matches:\n",
        "\tprint(match)"
      ],
      "metadata": {
        "colab": {
          "base_uri": "https://localhost:8080/"
        },
        "id": "zIA78KlViNTc",
        "outputId": "2bfa44a4-1d1a-452e-d6ee-af7b5206067e"
      },
      "execution_count": null,
      "outputs": [
        {
          "output_type": "stream",
          "name": "stdout",
          "text": [
            "<re.Match object; span=(41, 44), match='end'>\n"
          ]
        }
      ]
    },
    {
      "cell_type": "code",
      "source": [
        "# get the phone numbers starting with 800 or 900\n",
        "\n",
        "pattern = re.compile(r'[89]00[-.]\\d{3}[-.]\\d{4}')\n",
        "\n",
        "matches = pattern.finditer(text_to_search)\n",
        "\n",
        "for match in matches:\n",
        "\tprint(match)"
      ],
      "metadata": {
        "colab": {
          "base_uri": "https://localhost:8080/"
        },
        "id": "1hLbzQwHigrb",
        "outputId": "d35c4542-bba1-47e2-95a1-aab4a2efbdaf"
      },
      "execution_count": null,
      "outputs": [
        {
          "output_type": "stream",
          "name": "stdout",
          "text": [
            "<re.Match object; span=(115, 127), match='800-929-1818'>\n",
            "<re.Match object; span=(128, 140), match='900-564-7878'>\n"
          ]
        }
      ]
    },
    {
      "cell_type": "code",
      "source": [
        "# now get all phone numbers from data.txt\n",
        "\n",
        "with open('data.txt','r') as f:\n",
        "    contents = f.read()\n",
        "\n",
        "pattern = re.compile(r'\\d{3}[-.]\\d{3}[-.]\\d{4}')\n",
        "\n",
        "matches = pattern.finditer(contents)\n",
        "\n",
        "for match in matches:\n",
        "    print(match)"
      ],
      "metadata": {
        "colab": {
          "base_uri": "https://localhost:8080/"
        },
        "id": "k4rJuEJViv48",
        "outputId": "6392ffc9-b275-41f7-83d9-e6737b148cc9"
      },
      "execution_count": null,
      "outputs": [
        {
          "output_type": "stream",
          "name": "stdout",
          "text": [
            "<re.Match object; span=(12, 24), match='615-555-7164'>\n",
            "<re.Match object; span=(102, 114), match='800-555-5669'>\n",
            "<re.Match object; span=(191, 203), match='560-555-5153'>\n",
            "<re.Match object; span=(281, 293), match='900-555-9340'>\n",
            "<re.Match object; span=(378, 390), match='714-555-7405'>\n",
            "<re.Match object; span=(467, 479), match='800-555-6771'>\n",
            "<re.Match object; span=(557, 569), match='783-555-4799'>\n",
            "<re.Match object; span=(647, 659), match='516-555-4615'>\n",
            "<re.Match object; span=(740, 752), match='127-555-1867'>\n",
            "<re.Match object; span=(829, 841), match='608-555-4938'>\n",
            "<re.Match object; span=(915, 927), match='568-555-6051'>\n",
            "<re.Match object; span=(1003, 1015), match='292-555-1875'>\n",
            "<re.Match object; span=(1091, 1103), match='900-555-3205'>\n",
            "<re.Match object; span=(1180, 1192), match='614-555-1166'>\n",
            "<re.Match object; span=(1269, 1281), match='530-555-2676'>\n",
            "<re.Match object; span=(1355, 1367), match='470-555-2750'>\n",
            "<re.Match object; span=(1439, 1451), match='800-555-6089'>\n",
            "<re.Match object; span=(1526, 1538), match='880-555-8319'>\n",
            "<re.Match object; span=(1614, 1626), match='777-555-8378'>\n",
            "<re.Match object; span=(1697, 1709), match='998-555-7385'>\n",
            "<re.Match object; span=(1790, 1802), match='800-555-7100'>\n",
            "<re.Match object; span=(1874, 1886), match='903-555-8277'>\n",
            "<re.Match object; span=(1962, 1974), match='196-555-5674'>\n",
            "<re.Match object; span=(2051, 2063), match='900-555-5118'>\n",
            "<re.Match object; span=(2135, 2147), match='905-555-1630'>\n",
            "<re.Match object; span=(2216, 2228), match='203-555-3475'>\n",
            "<re.Match object; span=(2300, 2312), match='884-555-8444'>\n",
            "<re.Match object; span=(2387, 2399), match='904-555-8559'>\n",
            "<re.Match object; span=(2475, 2487), match='889-555-7393'>\n",
            "<re.Match object; span=(2562, 2574), match='195-555-2405'>\n",
            "<re.Match object; span=(2647, 2659), match='321-555-9053'>\n",
            "<re.Match object; span=(2734, 2746), match='133-555-1711'>\n",
            "<re.Match object; span=(2826, 2838), match='900-555-5428'>\n",
            "<re.Match object; span=(2915, 2927), match='760-555-7147'>\n",
            "<re.Match object; span=(3012, 3024), match='391-555-6621'>\n",
            "<re.Match object; span=(3103, 3115), match='932-555-7724'>\n",
            "<re.Match object; span=(3192, 3204), match='609-555-7908'>\n",
            "<re.Match object; span=(3284, 3296), match='800-555-8810'>\n",
            "<re.Match object; span=(3372, 3384), match='149-555-7657'>\n",
            "<re.Match object; span=(3452, 3464), match='130-555-9709'>\n",
            "<re.Match object; span=(3535, 3547), match='143-555-9295'>\n",
            "<re.Match object; span=(3624, 3636), match='903-555-9878'>\n",
            "<re.Match object; span=(3714, 3726), match='574-555-3194'>\n",
            "<re.Match object; span=(3802, 3814), match='496-555-7533'>\n",
            "<re.Match object; span=(3887, 3899), match='210-555-3757'>\n",
            "<re.Match object; span=(3971, 3983), match='900-555-9598'>\n",
            "<re.Match object; span=(4056, 4068), match='866-555-9844'>\n",
            "<re.Match object; span=(4140, 4152), match='669-555-7159'>\n",
            "<re.Match object; span=(4225, 4237), match='152-555-7417'>\n",
            "<re.Match object; span=(4317, 4329), match='893-555-9832'>\n",
            "<re.Match object; span=(4407, 4419), match='217-555-7123'>\n",
            "<re.Match object; span=(4498, 4510), match='786-555-6544'>\n",
            "<re.Match object; span=(4588, 4600), match='780-555-2574'>\n",
            "<re.Match object; span=(4676, 4688), match='926-555-8735'>\n",
            "<re.Match object; span=(4762, 4774), match='895-555-3539'>\n",
            "<re.Match object; span=(4859, 4871), match='874-555-3949'>\n",
            "<re.Match object; span=(4945, 4957), match='800-555-2420'>\n",
            "<re.Match object; span=(5034, 5046), match='936-555-6340'>\n",
            "<re.Match object; span=(5123, 5135), match='372-555-9809'>\n",
            "<re.Match object; span=(5210, 5222), match='890-555-5618'>\n",
            "<re.Match object; span=(5292, 5304), match='670-555-3005'>\n",
            "<re.Match object; span=(5382, 5394), match='509-555-5997'>\n",
            "<re.Match object; span=(5475, 5487), match='721-555-5632'>\n",
            "<re.Match object; span=(5566, 5578), match='900-555-3567'>\n",
            "<re.Match object; span=(5656, 5668), match='147-555-6830'>\n",
            "<re.Match object; span=(5745, 5757), match='582-555-3426'>\n",
            "<re.Match object; span=(5830, 5842), match='400-555-1706'>\n",
            "<re.Match object; span=(5921, 5933), match='525-555-1793'>\n",
            "<re.Match object; span=(6011, 6023), match='317-555-6700'>\n",
            "<re.Match object; span=(6099, 6111), match='974-555-8301'>\n",
            "<re.Match object; span=(6189, 6201), match='800-555-3216'>\n",
            "<re.Match object; span=(6273, 6285), match='746-555-4094'>\n",
            "<re.Match object; span=(6360, 6372), match='922-555-1773'>\n",
            "<re.Match object; span=(6445, 6457), match='711-555-4427'>\n",
            "<re.Match object; span=(6530, 6542), match='355-555-1872'>\n",
            "<re.Match object; span=(6619, 6631), match='852-555-6521'>\n",
            "<re.Match object; span=(6711, 6723), match='691-555-5773'>\n",
            "<re.Match object; span=(6803, 6815), match='332-555-5441'>\n",
            "<re.Match object; span=(6889, 6901), match='900-555-7755'>\n",
            "<re.Match object; span=(6971, 6983), match='379-555-3685'>\n",
            "<re.Match object; span=(7061, 7073), match='127-555-9682'>\n",
            "<re.Match object; span=(7152, 7164), match='789-555-7032'>\n",
            "<re.Match object; span=(7243, 7255), match='783-555-5135'>\n",
            "<re.Match object; span=(7336, 7348), match='315-555-6507'>\n",
            "<re.Match object; span=(7427, 7439), match='481-555-5835'>\n",
            "<re.Match object; span=(7515, 7527), match='365-555-8287'>\n",
            "<re.Match object; span=(7607, 7619), match='911-555-7535'>\n",
            "<re.Match object; span=(7693, 7705), match='681-555-2460'>\n",
            "<re.Match object; span=(7779, 7791), match='274-555-9800'>\n",
            "<re.Match object; span=(7864, 7876), match='800-555-1372'>\n",
            "<re.Match object; span=(7953, 7965), match='300-555-7821'>\n",
            "<re.Match object; span=(8043, 8055), match='133-555-3889'>\n",
            "<re.Match object; span=(8129, 8141), match='705-555-6863'>\n",
            "<re.Match object; span=(8218, 8230), match='215-555-9449'>\n",
            "<re.Match object; span=(8309, 8321), match='988-555-6112'>\n",
            "<re.Match object; span=(8395, 8407), match='623-555-3006'>\n",
            "<re.Match object; span=(8479, 8491), match='192-555-4977'>\n",
            "<re.Match object; span=(8564, 8576), match='178-555-4899'>\n",
            "<re.Match object; span=(8648, 8660), match='952-555-3089'>\n",
            "<re.Match object; span=(8741, 8753), match='900-555-6426'>\n"
          ]
        }
      ]
    },
    {
      "cell_type": "code",
      "source": [
        "# use of \"-\" as range : [1-5] or [a-z]\n",
        "# [^a-z] = everything that is not a-z\n",
        "# find all words that ends with at but not bat\n",
        "\n",
        "text_to_search = '''\n",
        "abcdefghijklmnopqurtuvwxyz\n",
        "ABCDEFGHIJKLMNOPQRSTUVWXYZ\n",
        "1234567890\n",
        "\n",
        "Ha HaHa\n",
        "\n",
        "coreyms.com\n",
        "\n",
        "321-555-4321\n",
        "123.555.1234\n",
        "800-929-1818\n",
        "900-564-7878\n",
        "\n",
        "cat\n",
        "mat\n",
        "pat\n",
        "bat\n",
        "\n",
        "Mr. Schafer\n",
        "Mr Smith\n",
        "Ms Davis\n",
        "Mrs. Robinson\n",
        "Mr. T\n",
        "'''"
      ],
      "metadata": {
        "id": "SN4dCNgEjlPe"
      },
      "execution_count": null,
      "outputs": []
    },
    {
      "cell_type": "code",
      "source": [
        "pattern = re.compile(r'[^b]at')\n",
        "\n",
        "matches = pattern.finditer(text_to_search)\n",
        "\n",
        "for match in matches:\n",
        "\tprint(match)"
      ],
      "metadata": {
        "colab": {
          "base_uri": "https://localhost:8080/"
        },
        "id": "-jGrbolMl3CD",
        "outputId": "90533eb1-9058-4a78-e73f-ded3d9bf6f94"
      },
      "execution_count": null,
      "outputs": [
        {
          "output_type": "stream",
          "name": "stdout",
          "text": [
            "<re.Match object; span=(142, 145), match='cat'>\n",
            "<re.Match object; span=(146, 149), match='mat'>\n",
            "<re.Match object; span=(150, 153), match='pat'>\n"
          ]
        }
      ]
    },
    {
      "cell_type": "code",
      "source": [
        "# can you tell me why the below will not work\n",
        "pattern = re.compile(r'[^b]at$')\n",
        "\n",
        "matches = pattern.finditer(text_to_search)\n",
        "\n",
        "for match in matches:\n",
        "\tprint(match)"
      ],
      "metadata": {
        "id": "DL-eI--xl9jk"
      },
      "execution_count": null,
      "outputs": []
    },
    {
      "cell_type": "markdown",
      "source": [
        "**The reason is cat,mat,pat has newline characters after**"
      ],
      "metadata": {
        "id": "wnM1FyT5nJvi"
      }
    },
    {
      "cell_type": "code",
      "source": [
        "# the below should work\n",
        "pattern = re.compile(r'\\b[^b]at\\b')\n",
        "\n",
        "matches = pattern.finditer(text_to_search)\n",
        "\n",
        "for match in matches:\n",
        "\tprint(match)"
      ],
      "metadata": {
        "colab": {
          "base_uri": "https://localhost:8080/"
        },
        "id": "9wdlnSfOnIi9",
        "outputId": "4207a7a5-49fe-4836-ad55-cf5fad979293"
      },
      "execution_count": null,
      "outputs": [
        {
          "output_type": "stream",
          "name": "stdout",
          "text": [
            "<re.Match object; span=(142, 145), match='cat'>\n",
            "<re.Match object; span=(146, 149), match='mat'>\n",
            "<re.Match object; span=(150, 153), match='pat'>\n"
          ]
        }
      ]
    },
    {
      "cell_type": "code",
      "source": [
        "import re\n",
        "\n",
        "with open('emails.txt','r') as f:\n",
        "    contents = f.read()\n",
        "\n",
        "print(contents)\n",
        "\n",
        "print('\\n')\n",
        "\n",
        "print(' -- Match -- ')\n",
        "print('\\n')\n",
        "\n",
        "pattern = re.compile(r'[\\w.-]+@[\\w-]+\\.[\\w]+')\n",
        "\n",
        "matches = pattern.finditer(contents)\n",
        "\n",
        "for match in matches:\n",
        "\tprint(match)\n",
        "\n",
        "# Note few points\n",
        "# [\\w.-]+ is not same as [\\w-.]+\n",
        "# the [\\w-.] means a range like [a-z] don't use \"-\" hiphen in between character set unless you intend to make it a range\n"
      ],
      "metadata": {
        "colab": {
          "base_uri": "https://localhost:8080/"
        },
        "id": "ZsqIa9kMnUdE",
        "outputId": "91653b85-37c2-49e6-aaad-807b4a4cb2fe"
      },
      "execution_count": null,
      "outputs": [
        {
          "output_type": "stream",
          "name": "stdout",
          "text": [
            "\n",
            "CoreyMSchafer@gmail.com\n",
            "corey.schafer@university.edu\n",
            "corey-321-schafer@my-work.net\n",
            "\n",
            "\n",
            "\n",
            " -- Match -- \n",
            "\n",
            "\n",
            "<re.Match object; span=(1, 24), match='CoreyMSchafer@gmail.com'>\n",
            "<re.Match object; span=(25, 53), match='corey.schafer@university.edu'>\n",
            "<re.Match object; span=(54, 83), match='corey-321-schafer@my-work.net'>\n"
          ]
        }
      ]
    },
    {
      "cell_type": "code",
      "source": [
        "import re\n",
        "\n",
        "urls = '''\n",
        "https://www.google.com\n",
        "http://coreyms.com\n",
        "https://youtube.com\n",
        "https://www.nasa.gov\n",
        "'''\n",
        "\n",
        "pattern = re.compile(r'https?://(www.)?(\\w+)(\\.\\w+)')\n",
        "\n",
        "matches = pattern.finditer(urls)\n",
        "\n",
        "for match in matches:\n",
        "    print(match)"
      ],
      "metadata": {
        "colab": {
          "base_uri": "https://localhost:8080/"
        },
        "id": "FLACbtUFnizQ",
        "outputId": "7e9a0c79-5bff-4662-9db6-893a5df489e6"
      },
      "execution_count": null,
      "outputs": [
        {
          "output_type": "stream",
          "name": "stdout",
          "text": [
            "<re.Match object; span=(1, 23), match='https://www.google.com'>\n",
            "<re.Match object; span=(24, 42), match='http://coreyms.com'>\n",
            "<re.Match object; span=(43, 62), match='https://youtube.com'>\n",
            "<re.Match object; span=(63, 83), match='https://www.nasa.gov'>\n"
          ]
        }
      ]
    },
    {
      "cell_type": "code",
      "source": [
        "# use of groups\n",
        "\n",
        "import re\n",
        "\n",
        "urls = '''\n",
        "https://www.google.com\n",
        "http://coreyms.com\n",
        "https://youtube.com\n",
        "https://www.nasa.gov\n",
        "'''\n",
        "\n",
        "# let say we to grab the top level domain names\n",
        "\n",
        "# google.com\n",
        "# coreyms.com\n",
        "# youtube.com\n",
        "# nasa.gov\n",
        "\n",
        "pattern = re.compile(r'https?://(www.)?(\\w+)(\\.\\w+)')\n",
        "\n",
        "matches = pattern.finditer(urls)\n",
        "\n",
        "group_2 = ''\n",
        "group_3 = ''\n",
        "\n",
        "for match in matches:\n",
        "    group_2 = group_2 + '\\n' + match.group(2)\n",
        "    group_3 = group_3 + '\\n' + match.group(3)\n",
        "\n",
        "print(group_2)\n",
        "print(group_3)"
      ],
      "metadata": {
        "colab": {
          "base_uri": "https://localhost:8080/"
        },
        "id": "5u6JXO3Fni3K",
        "outputId": "fd2570a1-fb17-4d6f-c52b-b08f802f3af5"
      },
      "execution_count": null,
      "outputs": [
        {
          "output_type": "stream",
          "name": "stdout",
          "text": [
            "\n",
            "google\n",
            "coreyms\n",
            "youtube\n",
            "nasa\n",
            "\n",
            ".com\n",
            ".com\n",
            ".com\n",
            ".gov\n"
          ]
        }
      ]
    },
    {
      "cell_type": "code",
      "source": [
        "# use of groups - substitute\n",
        "\n",
        "import re\n",
        "\n",
        "urls = '''\n",
        "https://www.google.com\n",
        "http://coreyms.com\n",
        "https://youtube.com\n",
        "https://www.nasa.gov\n",
        "'''\n",
        "\n",
        "# let say we to grab the top level domain names\n",
        "\n",
        "# google.com\n",
        "# coreyms.com\n",
        "# youtube.com\n",
        "# nasa.gov\n",
        "\n",
        "pattern = re.compile(r'https?://(www.)?(\\w+)(\\.\\w+)')\n",
        "\n",
        "matches = pattern.finditer(urls)\n",
        "\n",
        "# substitute\n",
        "# \\2 -> group 2 | \\3 -> group 3\n",
        "# replace urls that match the pattern defined with group no : 2 and group no : 3\n",
        "subbed_urls = pattern.sub(r'\\2\\3',urls)\n",
        "\n",
        "print(subbed_urls)"
      ],
      "metadata": {
        "id": "fNq93WPrni6v",
        "colab": {
          "base_uri": "https://localhost:8080/"
        },
        "outputId": "8e8dc567-9a61-4ff4-c399-7cae74b9c412"
      },
      "execution_count": null,
      "outputs": [
        {
          "output_type": "stream",
          "name": "stdout",
          "text": [
            "\n",
            "google.com\n",
            "coreyms.com\n",
            "youtube.com\n",
            "nasa.gov\n",
            "\n"
          ]
        }
      ]
    },
    {
      "cell_type": "code",
      "source": [
        "test_phrase = \"This is a string! But it has punctuation. How can we remove it?\"\n",
        "\n",
        "pattern = re.compile(r'[^!.? ]+')\n",
        "\n",
        "matches = pattern.finditer(test_phrase)\n",
        "\n",
        "clean_phrase = []\n",
        "\n",
        "for match in matches:\n",
        "    clean_phrase.append(match.group())\n",
        "\n",
        "print(clean_phrase)\n",
        "print(' '.join(clean_phrase))"
      ],
      "metadata": {
        "id": "0_hVZJDSni-Y",
        "outputId": "1caa88d7-333b-4116-d3c6-f7af2216ea0a",
        "colab": {
          "base_uri": "https://localhost:8080/"
        }
      },
      "execution_count": 21,
      "outputs": [
        {
          "output_type": "stream",
          "name": "stdout",
          "text": [
            "['This', 'is', 'a', 'string', 'But', 'it', 'has', 'punctuation', 'How', 'can', 'we', 'remove', 'it']\n",
            "This is a string But it has punctuation How can we remove it\n"
          ]
        }
      ]
    }
  ]
}