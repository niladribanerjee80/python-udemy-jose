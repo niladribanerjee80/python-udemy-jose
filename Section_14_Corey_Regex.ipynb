{
  "nbformat": 4,
  "nbformat_minor": 0,
  "metadata": {
    "colab": {
      "provenance": [],
      "authorship_tag": "ABX9TyMnleZUn2WN4uQ2B+g+3ZeL",
      "include_colab_link": true
    },
    "kernelspec": {
      "name": "python3",
      "display_name": "Python 3"
    },
    "language_info": {
      "name": "python"
    }
  },
  "cells": [
    {
      "cell_type": "markdown",
      "metadata": {
        "id": "view-in-github",
        "colab_type": "text"
      },
      "source": [
        "<a href=\"https://colab.research.google.com/github/niladribanerjee80/python-udemy-jose/blob/main/Section_14_Corey_Regex.ipynb\" target=\"_parent\"><img src=\"https://colab.research.google.com/assets/colab-badge.svg\" alt=\"Open In Colab\"/></a>"
      ]
    },
    {
      "cell_type": "code",
      "execution_count": 14,
      "metadata": {
        "id": "UwgFtEVfgfZF"
      },
      "outputs": [],
      "source": [
        "import re"
      ]
    },
    {
      "cell_type": "code",
      "source": [
        "text_to_search = '''\n",
        "abcdefghijklmnopqurtuvwxyz\n",
        "ABCDEFGHIJKLMNOPQRSTUVWXYZ\n",
        "1234567890\n",
        "\n",
        "Ha HaHa\n",
        "\n",
        "coreyms.com\n",
        "\n",
        "321-555-4321\n",
        "123.555.1234\n",
        "800-929-1818\n",
        "900-564-7878\n",
        "\n",
        "Mr. Schafer\n",
        "Mr Smith\n",
        "Ms Davis\n",
        "Mrs. Robinson\n",
        "Mr. T\n",
        "'''\n",
        "\n",
        "sentence = 'Start a sentence and then bring it to an end'"
      ],
      "metadata": {
        "id": "Lu0ooSWvaNUG"
      },
      "execution_count": 15,
      "outputs": []
    },
    {
      "cell_type": "code",
      "source": [
        "# get the phone numbers\n",
        "pattern = re.compile(r'\\d{3}[-.]\\d{3}[-.]\\d{4}')\n",
        "\n",
        "matches = pattern.finditer(text_to_search)\n",
        "\n",
        "for match in matches:\n",
        "\tprint(match)"
      ],
      "metadata": {
        "colab": {
          "base_uri": "https://localhost:8080/"
        },
        "id": "piy62R8yaVBe",
        "outputId": "faef6a44-063f-4dea-8886-a07e3844f87b"
      },
      "execution_count": 16,
      "outputs": [
        {
          "output_type": "stream",
          "name": "stdout",
          "text": [
            "<re.Match object; span=(89, 101), match='321-555-4321'>\n",
            "<re.Match object; span=(102, 114), match='123.555.1234'>\n",
            "<re.Match object; span=(115, 127), match='800-929-1818'>\n",
            "<re.Match object; span=(128, 140), match='900-564-7878'>\n"
          ]
        }
      ]
    },
    {
      "cell_type": "code",
      "source": [
        "# get the names\n",
        "pattern = re.compile(r'M(r|s|rs)\\.?\\s+[A-Z]\\w*')\n",
        "\n",
        "matches = pattern.finditer(text_to_search)\n",
        "\n",
        "for match in matches:\n",
        "\tprint(match)"
      ],
      "metadata": {
        "colab": {
          "base_uri": "https://localhost:8080/"
        },
        "id": "irzRq3Xodiqq",
        "outputId": "7cb09870-2a3e-4560-f09f-c4f796a9c815"
      },
      "execution_count": 17,
      "outputs": [
        {
          "output_type": "stream",
          "name": "stdout",
          "text": [
            "<re.Match object; span=(142, 153), match='Mr. Schafer'>\n",
            "<re.Match object; span=(154, 162), match='Mr Smith'>\n",
            "<re.Match object; span=(163, 171), match='Ms Davis'>\n",
            "<re.Match object; span=(172, 185), match='Mrs. Robinson'>\n",
            "<re.Match object; span=(186, 191), match='Mr. T'>\n"
          ]
        }
      ]
    },
    {
      "cell_type": "code",
      "source": [
        "# get coreyms.com = literal search\n",
        "pattern = re.compile(r'coreyms\\.com')\n",
        "\n",
        "matches = pattern.finditer(text_to_search)\n",
        "\n",
        "for match in matches:\n",
        "\tprint(match)"
      ],
      "metadata": {
        "colab": {
          "base_uri": "https://localhost:8080/"
        },
        "id": "HYMCGhLPd_NF",
        "outputId": "79686494-cb82-43ec-adad-8d2fb1816a55"
      },
      "execution_count": 18,
      "outputs": [
        {
          "output_type": "stream",
          "name": "stdout",
          "text": [
            "<re.Match object; span=(76, 87), match='coreyms.com'>\n"
          ]
        }
      ]
    },
    {
      "cell_type": "code",
      "source": [
        "# word boundary with \"Ha\"\n",
        "pattern = re.compile(r'\\bHa\\b')\n",
        "\n",
        "matches = pattern.finditer(text_to_search)\n",
        "\n",
        "for match in matches:\n",
        "\tprint(match)"
      ],
      "metadata": {
        "colab": {
          "base_uri": "https://localhost:8080/"
        },
        "id": "NQKTi3mtePr8",
        "outputId": "88605da5-08c4-4a2a-80cd-6e19b09634d3"
      },
      "execution_count": 19,
      "outputs": [
        {
          "output_type": "stream",
          "name": "stdout",
          "text": [
            "<re.Match object; span=(67, 69), match='Ha'>\n"
          ]
        }
      ]
    },
    {
      "cell_type": "code",
      "source": [
        "# use of anchors\n",
        "# sentence = 'Start a sentence and then bring it to an end'\n",
        "\n",
        "pattern = re.compile(r'^Start')\n",
        "\n",
        "matches = pattern.finditer(sentence)\n",
        "\n",
        "for match in matches:\n",
        "\tprint(match)"
      ],
      "metadata": {
        "colab": {
          "base_uri": "https://localhost:8080/"
        },
        "id": "C110aKk-ee8d",
        "outputId": "4f464f16-d06e-4ca2-c22b-247dfed6e704"
      },
      "execution_count": 20,
      "outputs": [
        {
          "output_type": "stream",
          "name": "stdout",
          "text": [
            "<re.Match object; span=(0, 5), match='Start'>\n"
          ]
        }
      ]
    },
    {
      "cell_type": "code",
      "source": [
        "pattern = re.compile(r'^a') # expecting no match\n",
        "\n",
        "matches = pattern.finditer(sentence)\n",
        "\n",
        "for match in matches:\n",
        "\tprint(match)"
      ],
      "metadata": {
        "id": "Hrc-_05-fbJH"
      },
      "execution_count": 21,
      "outputs": []
    },
    {
      "cell_type": "code",
      "source": [
        "pattern = re.compile(r'end$')\n",
        "\n",
        "matches = pattern.finditer(sentence)\n",
        "\n",
        "for match in matches:\n",
        "\tprint(match)"
      ],
      "metadata": {
        "colab": {
          "base_uri": "https://localhost:8080/"
        },
        "id": "zIA78KlViNTc",
        "outputId": "2bfa44a4-1d1a-452e-d6ee-af7b5206067e"
      },
      "execution_count": 22,
      "outputs": [
        {
          "output_type": "stream",
          "name": "stdout",
          "text": [
            "<re.Match object; span=(41, 44), match='end'>\n"
          ]
        }
      ]
    },
    {
      "cell_type": "code",
      "source": [
        "# get the phone numbers starting with 800 or 900\n",
        "\n",
        "pattern = re.compile(r'[89]00[-.]\\d{3}[-.]\\d{4}')\n",
        "\n",
        "matches = pattern.finditer(text_to_search)\n",
        "\n",
        "for match in matches:\n",
        "\tprint(match)"
      ],
      "metadata": {
        "colab": {
          "base_uri": "https://localhost:8080/"
        },
        "id": "1hLbzQwHigrb",
        "outputId": "d35c4542-bba1-47e2-95a1-aab4a2efbdaf"
      },
      "execution_count": 23,
      "outputs": [
        {
          "output_type": "stream",
          "name": "stdout",
          "text": [
            "<re.Match object; span=(115, 127), match='800-929-1818'>\n",
            "<re.Match object; span=(128, 140), match='900-564-7878'>\n"
          ]
        }
      ]
    },
    {
      "cell_type": "code",
      "source": [],
      "metadata": {
        "id": "k4rJuEJViv48"
      },
      "execution_count": null,
      "outputs": []
    }
  ]
}