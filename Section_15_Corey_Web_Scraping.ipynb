{
  "nbformat": 4,
  "nbformat_minor": 0,
  "metadata": {
    "colab": {
      "provenance": [],
      "authorship_tag": "ABX9TyOUgCh+5EYnUe43spmdxHes",
      "include_colab_link": true
    },
    "kernelspec": {
      "name": "python3",
      "display_name": "Python 3"
    },
    "language_info": {
      "name": "python"
    }
  },
  "cells": [
    {
      "cell_type": "markdown",
      "metadata": {
        "id": "view-in-github",
        "colab_type": "text"
      },
      "source": [
        "<a href=\"https://colab.research.google.com/github/niladribanerjee80/python-udemy-jose/blob/main/Section_15_Corey_Web_Scraping.ipynb\" target=\"_parent\"><img src=\"https://colab.research.google.com/assets/colab-badge.svg\" alt=\"Open In Colab\"/></a>"
      ]
    },
    {
      "cell_type": "code",
      "source": [
        "pip install beautifulsoup4"
      ],
      "metadata": {
        "id": "ohjU0-f90tDd"
      },
      "execution_count": null,
      "outputs": []
    },
    {
      "cell_type": "code",
      "source": [
        "pip install lxml"
      ],
      "metadata": {
        "id": "iNR9iAYT6a0E"
      },
      "execution_count": null,
      "outputs": []
    },
    {
      "cell_type": "code",
      "source": [
        "pip install html5lib"
      ],
      "metadata": {
        "id": "RcI5Z8Nl7X8t"
      },
      "execution_count": null,
      "outputs": []
    },
    {
      "cell_type": "code",
      "source": [
        "from bs4 import BeautifulSoup\n",
        "import requests\n",
        "import csv\n",
        "\n",
        "source = requests.get('https://rkmvu.ac.in/holiday-list-belur-campus/').text\n",
        "soup = BeautifulSoup(source, 'lxml')\n",
        "\n",
        "title = soup.head.title.text\n",
        "\n",
        "body = soup.find('div',class_=\"col-md-9\")\n",
        "\n",
        "table = body.find('table')\n",
        "\n",
        "table_rows = table.find_all('tr')\n",
        "# print(table_rows)\n",
        "\n",
        "csv_file = open('RKMVERI_HOLIDAY.csv', 'w')\n",
        "csv_writer = csv.writer(csv_file)\n",
        "\n",
        "\n",
        "headers = []\n",
        "for th in table_rows[0].find_all('th'):\n",
        "    headers.append(th.text)\n",
        "\n",
        "# print(headers)\n",
        "csv_writer.writerow(headers)\n",
        "\n",
        "for tr in table_rows[1:-1]:\n",
        "    td = tr.find_all('td')\n",
        "\n",
        "    if len(td) == 6:\n",
        "        row = [i.text for i in td]\n",
        "    else:\n",
        "        row = [i.text for i in td]\n",
        "        row.insert(0,'')\n",
        "\n",
        "    # print(row)\n",
        "    csv_writer.writerow(row)\n",
        "\n",
        "csv_file.close()"
      ],
      "metadata": {
        "id": "Z4Ozh3XG7gMs"
      },
      "execution_count": 53,
      "outputs": []
    },
    {
      "cell_type": "code",
      "source": [
        "rm RKM*"
      ],
      "metadata": {
        "id": "jkn9cmGdoGBm"
      },
      "execution_count": 54,
      "outputs": []
    },
    {
      "cell_type": "code",
      "source": [],
      "metadata": {
        "id": "vCsMCnFjpxiX"
      },
      "execution_count": null,
      "outputs": []
    }
  ]
}