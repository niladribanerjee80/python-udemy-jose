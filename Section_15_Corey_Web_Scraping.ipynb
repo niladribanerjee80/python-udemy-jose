{
  "nbformat": 4,
  "nbformat_minor": 0,
  "metadata": {
    "colab": {
      "provenance": [],
      "authorship_tag": "ABX9TyNbqS9BDt/qgaqsGlNMsmyU",
      "include_colab_link": true
    },
    "kernelspec": {
      "name": "python3",
      "display_name": "Python 3"
    },
    "language_info": {
      "name": "python"
    }
  },
  "cells": [
    {
      "cell_type": "markdown",
      "metadata": {
        "id": "view-in-github",
        "colab_type": "text"
      },
      "source": [
        "<a href=\"https://colab.research.google.com/github/niladribanerjee80/python-udemy-jose/blob/main/Section_15_Corey_Web_Scraping.ipynb\" target=\"_parent\"><img src=\"https://colab.research.google.com/assets/colab-badge.svg\" alt=\"Open In Colab\"/></a>"
      ]
    },
    {
      "cell_type": "code",
      "source": [
        "pip install beautifulsoup4"
      ],
      "metadata": {
        "id": "ohjU0-f90tDd"
      },
      "execution_count": null,
      "outputs": []
    },
    {
      "cell_type": "code",
      "source": [
        "pip install lxml"
      ],
      "metadata": {
        "id": "iNR9iAYT6a0E"
      },
      "execution_count": null,
      "outputs": []
    },
    {
      "cell_type": "code",
      "source": [
        "pip install html5lib"
      ],
      "metadata": {
        "id": "RcI5Z8Nl7X8t"
      },
      "execution_count": null,
      "outputs": []
    },
    {
      "cell_type": "code",
      "source": [
        "from bs4 import BeautifulSoup\n",
        "import requests\n",
        "import csv\n",
        "\n",
        "source = requests.get('https://rkmvu.ac.in/holiday-list-belur-campus/').text\n",
        "soup = BeautifulSoup(source, 'lxml')\n",
        "\n",
        "title = soup.head.title.text\n",
        "\n",
        "body = soup.find('div',class_=\"col-md-9\")\n",
        "\n",
        "table = body.find('table')\n",
        "\n",
        "table_rows = table.find_all('tr')\n",
        "# print(table_rows)\n",
        "\n",
        "csv_file = open('RKMVERI_HOLIDAY.csv', 'w')\n",
        "csv_writer = csv.writer(csv_file)\n",
        "\n",
        "\n",
        "headers = []\n",
        "for th in table_rows[0].find_all('th'):\n",
        "    headers.append(th.text)\n",
        "\n",
        "# print(headers)\n",
        "csv_writer.writerow(headers)\n",
        "\n",
        "for tr in table_rows[1:-1]:\n",
        "    td = tr.find_all('td')\n",
        "\n",
        "    if len(td) == 6:\n",
        "        row = [i.text for i in td]\n",
        "    else:\n",
        "        row = [i.text for i in td]\n",
        "        row.insert(0,'')\n",
        "\n",
        "    # print(row)\n",
        "    csv_writer.writerow(row)\n",
        "\n",
        "csv_file.close()"
      ],
      "metadata": {
        "id": "Z4Ozh3XG7gMs"
      },
      "execution_count": 53,
      "outputs": []
    },
    {
      "cell_type": "code",
      "source": [
        "rm RKM*"
      ],
      "metadata": {
        "id": "jkn9cmGdoGBm"
      },
      "execution_count": 54,
      "outputs": []
    },
    {
      "cell_type": "code",
      "source": [
        "# Gemini AI generated code\n",
        "\n",
        "import requests\n",
        "from bs4 import BeautifulSoup\n",
        "\n",
        "url = \"https://rkmvu.ac.in/holiday-list-belur-campus/\"\n",
        "\n",
        "# Make a GET request to the website\n",
        "response = requests.get(url)\n",
        "\n",
        "# Parse the HTML content\n",
        "soup = BeautifulSoup(response.content, \"html.parser\")\n",
        "\n",
        "body = soup.find('div',class_=\"col-md-9\")\n",
        "\n",
        "table = body.find('table')\n",
        "\n",
        "# Find the table element containing the holiday list\n",
        "# table = soup.find(\"table\", class_=\"table-bordered\")\n",
        "\n",
        "# Extract the table data\n",
        "table_data = []\n",
        "for row in table.find_all(\"tr\")[1:]:  # Skip the header row\n",
        "    cells = row.find_all(\"td\")\n",
        "    row_data = [cell.text.strip() for cell in cells]\n",
        "    table_data.append(row_data)\n",
        "\n",
        "# Print the table data in CSV format\n",
        "print(\"| Month | Occasion / Festival | Type* | Date | Day | No. of Days |\")\n",
        "print(\"|---|---|---|---|---|---|\")\n",
        "for row in table_data:\n",
        "    print(\"|\", \"|\".join(row), \"|\")"
      ],
      "metadata": {
        "colab": {
          "base_uri": "https://localhost:8080/"
        },
        "id": "vCsMCnFjpxiX",
        "outputId": "afaf3272-a733-4344-8cff-0da15d25a34a"
      },
      "execution_count": 57,
      "outputs": [
        {
          "output_type": "stream",
          "name": "stdout",
          "text": [
            "| Month | Occasion / Festival | Type* | Date | Day | No. of Days |\n",
            "|---|---|---|---|---|---|\n",
            "| August 2024|Independance Day|N|15 Aug 2024|Thursday|1 |\n",
            "| Sri Krishna Janmashthami|S|26 Aug 2024|Monday|1 |\n",
            "| September 2024|Fateha–Dwaz–Daham|S|16 Sep 2024|Monday|1 |\n",
            "| October 2024|Mahalaya / Mahatma Gandhi Jayanti|S/N|2 Oct 2024|Wednesday|1 |\n",
            "| Durpa Puja – Saptami|S|10 Oct 2024|Thursday|1 |\n",
            "| Durpa Puja – Ashtami|S|11 Oct 2024|Friday|1 |\n",
            "| Durpa Puja – Navami|S|12 Oct 2024|Saturday|1 |\n",
            "| Durga Puja – Vijaya Dashami|N|13 Oct 2024|Sunday|0 |\n",
            "| Extra Durga Puja Vacations|S|14 – 15 Oct 2024|Mon-Tues|2 |\n",
            "| Sri Sri Lakshmi Puja|S|16 Oct 2024|Wednesday|1 |\n",
            "| Diwali / Deepavali / Sri Sri Kali Puja|N|31 Oct 2024|Thursday|1 |\n",
            "| November 2024|Bhai-Phonta|S|3 Nov 2024|Sunday|0 |\n",
            "| Guru Nanak’s Birthday|N|15 Nov 2024|Friday|1 |\n",
            "| December 2024|Maa Sri Sri Sarada Devi Janma Tithi|IH|22 Dec 2024|Sunday|0 |\n",
            "| Christmas|N|25 Dec 2024|Wednesday|1 |\n",
            "| January 2025|New Year’s Day|S|1 Jan 2025|Wednesday|1 |\n",
            "| National Youth Day / \n",
            "Birth Day of Swami Vivekananda|N|12 Jan 2025|Sunday|0 |\n",
            "| Swami Vivekananda Janma Tithi|IH|21 Jan 2025|Tuesday|1 |\n",
            "| Netaji Subhash Chandra Bose Birthday|N|23 Jan 2025|Thursday|1 |\n",
            "| Republic Day|N|26 Jan 2025|Sunday|0 |\n",
            "| February 2025|Sri Sri Saraswati puja|N|2 Feb 2025|Sunday|0 |\n",
            "| Shivaratri|S|26 Feb 2025|Wednesday|1 |\n",
            "| March 2025|Sri Sri Ramakrishna Janma Tithi|IH|1 Mar 2025|Saturday|1 |\n",
            "| Dol Yatra/Holi|N|14 Mar 2025|Friday|1 |\n",
            "| Ramzan Id / Eid-ul-Fitar|N|31 Mar 2025|Monday|1 |\n",
            "| April 2025|Good Friday|N|18 Apr 2025|Friday|1 |\n",
            "| May 2025|May Day and Ramakrishna Mission Foundation Day|N|1 May 2025|Thursday|1 |\n",
            "| Buddha Purnima/Vesak|N|12 May 2025|Monday|1 |\n",
            "| June 2025|Bakrid / Eid ul-Zoha|N|7 Jun 2025|Saturday|1 |\n",
            "| July 2025|Muharram|N|6 Jul 2025|Sunday|0 |\n",
            "| Total Holidays:|24 |\n"
          ]
        }
      ]
    },
    {
      "cell_type": "code",
      "source": [],
      "metadata": {
        "id": "pjFKdqLdxB1v"
      },
      "execution_count": null,
      "outputs": []
    }
  ]
}