{
  "nbformat": 4,
  "nbformat_minor": 0,
  "metadata": {
    "colab": {
      "provenance": [],
      "include_colab_link": true
    },
    "kernelspec": {
      "name": "python3",
      "display_name": "Python 3"
    },
    "language_info": {
      "name": "python"
    }
  },
  "cells": [
    {
      "cell_type": "markdown",
      "metadata": {
        "id": "view-in-github",
        "colab_type": "text"
      },
      "source": [
        "<a href=\"https://colab.research.google.com/github/niladribanerjee80/python-udemy-jose/blob/main/Section_3b_Objects_and_Data_Structures.ipynb\" target=\"_parent\"><img src=\"https://colab.research.google.com/assets/colab-badge.svg\" alt=\"Open In Colab\"/></a>"
      ]
    },
    {
      "cell_type": "markdown",
      "source": [
        "# **Lists**\n",
        "\n",
        "\n",
        "---\n",
        "\n",
        "Lists are ordered sequences that can hold variety of object types \\\n",
        "e.g \\\n",
        "\n",
        "\n",
        "*   [1,2,3] is a list\n",
        "*   [\"My STRING\",100.23,67] is also a list\n",
        "\n",
        "Lists can be muted / changed and can be nested\n",
        "\n"
      ],
      "metadata": {
        "id": "iqiIQ79FNwSU"
      }
    },
    {
      "cell_type": "code",
      "source": [
        "# list of integers\n",
        "my_list = [1,2,3]\n",
        "my_list"
      ],
      "metadata": {
        "colab": {
          "base_uri": "https://localhost:8080/"
        },
        "id": "4IWMTeNcG-g7",
        "outputId": "0408a00d-4eed-485c-ccea-4428781ee9ac"
      },
      "execution_count": null,
      "outputs": [
        {
          "output_type": "execute_result",
          "data": {
            "text/plain": [
              "[1, 2, 3]"
            ]
          },
          "metadata": {},
          "execution_count": 5
        }
      ]
    },
    {
      "cell_type": "code",
      "source": [
        "# list of mixed objects\n",
        "my_list = [\"STRING\",2,3.56]\n",
        "my_list"
      ],
      "metadata": {
        "colab": {
          "base_uri": "https://localhost:8080/"
        },
        "id": "GCzwLhoJMvv9",
        "outputId": "e1cff823-8559-44b2-987f-811d37841b6e"
      },
      "execution_count": null,
      "outputs": [
        {
          "output_type": "execute_result",
          "data": {
            "text/plain": [
              "['STRING', 2, 3.56]"
            ]
          },
          "metadata": {},
          "execution_count": 6
        }
      ]
    },
    {
      "cell_type": "code",
      "source": [
        "# length of list\n",
        "len(my_list)"
      ],
      "metadata": {
        "colab": {
          "base_uri": "https://localhost:8080/"
        },
        "id": "sfjbveKwOmLN",
        "outputId": "feae3aa8-7279-45aa-b982-86de701e4677"
      },
      "execution_count": null,
      "outputs": [
        {
          "output_type": "execute_result",
          "data": {
            "text/plain": [
              "3"
            ]
          },
          "metadata": {},
          "execution_count": 7
        }
      ]
    },
    {
      "cell_type": "code",
      "source": [
        "# Lists support indexing\n",
        "my_list = [\"one\",\"two\",\"three\"]\n",
        "my_list[0]"
      ],
      "metadata": {
        "colab": {
          "base_uri": "https://localhost:8080/",
          "height": 35
        },
        "id": "CKR-YGtTOvgk",
        "outputId": "504c3d99-7fd8-47ef-bcd6-0bdd33b105bc"
      },
      "execution_count": null,
      "outputs": [
        {
          "output_type": "execute_result",
          "data": {
            "text/plain": [
              "'one'"
            ],
            "application/vnd.google.colaboratory.intrinsic+json": {
              "type": "string"
            }
          },
          "metadata": {},
          "execution_count": 13
        }
      ]
    },
    {
      "cell_type": "code",
      "source": [
        "# Lists support slicing like in strings\n",
        "my_list[1:]"
      ],
      "metadata": {
        "colab": {
          "base_uri": "https://localhost:8080/"
        },
        "id": "EV4ZInC0O4Se",
        "outputId": "9ba1305d-57e8-4519-b61c-18afd3bde509"
      },
      "execution_count": null,
      "outputs": [
        {
          "output_type": "execute_result",
          "data": {
            "text/plain": [
              "['two', 'three']"
            ]
          },
          "metadata": {},
          "execution_count": 14
        }
      ]
    },
    {
      "cell_type": "code",
      "source": [
        "# List concatenation is also possible\n",
        "another_list = [\"four\",\"five\"]\n",
        "my_list = my_list + another_list\n",
        "my_list"
      ],
      "metadata": {
        "colab": {
          "base_uri": "https://localhost:8080/"
        },
        "id": "0F0BA4hyPBde",
        "outputId": "8009eb99-9ad2-4b5b-b56f-d84f03e26638"
      },
      "execution_count": null,
      "outputs": [
        {
          "output_type": "execute_result",
          "data": {
            "text/plain": [
              "['one', 'two', 'three', 'four', 'five']"
            ]
          },
          "metadata": {},
          "execution_count": 15
        }
      ]
    },
    {
      "cell_type": "code",
      "source": [
        "# List can be muted\n",
        "my_list[0] = \"ONE ALL CAPS\"\n",
        "my_list"
      ],
      "metadata": {
        "colab": {
          "base_uri": "https://localhost:8080/"
        },
        "id": "ltzSXmY_PGpq",
        "outputId": "018de58d-3c29-4850-b6a0-e2238da22955"
      },
      "execution_count": null,
      "outputs": [
        {
          "output_type": "execute_result",
          "data": {
            "text/plain": [
              "['ONE ALL CAPS', 'two', 'three', 'four', 'five']"
            ]
          },
          "metadata": {},
          "execution_count": 16
        }
      ]
    },
    {
      "cell_type": "code",
      "source": [
        "# List methods = list.append() = adds element to the end of the list\n",
        "my_list.append(\"six\")\n",
        "my_list"
      ],
      "metadata": {
        "colab": {
          "base_uri": "https://localhost:8080/"
        },
        "id": "vrLtFojhPNHe",
        "outputId": "72ab87e4-0434-420b-cb02-5537bf8b53af"
      },
      "execution_count": null,
      "outputs": [
        {
          "output_type": "execute_result",
          "data": {
            "text/plain": [
              "['ONE ALL CAPS', 'two', 'three', 'four', 'five', 'six']"
            ]
          },
          "metadata": {},
          "execution_count": 17
        }
      ]
    },
    {
      "cell_type": "code",
      "source": [
        "# List methods = list.insert()\n",
        "my_list.insert(0,\"zero\")\n",
        "my_list"
      ],
      "metadata": {
        "colab": {
          "base_uri": "https://localhost:8080/"
        },
        "id": "kOfx-YDyPi2F",
        "outputId": "e408b41c-c6ba-431d-831e-789ef4a3b67f"
      },
      "execution_count": null,
      "outputs": [
        {
          "output_type": "execute_result",
          "data": {
            "text/plain": [
              "['zero', 'ONE ALL CAPS', 'two', 'three', 'four', 'five', 'six']"
            ]
          },
          "metadata": {},
          "execution_count": 18
        }
      ]
    },
    {
      "cell_type": "code",
      "source": [
        "# List methods = list.pop() = removes item from last if index position is not mentioned\n",
        "my_list.pop()\n",
        "my_list"
      ],
      "metadata": {
        "colab": {
          "base_uri": "https://localhost:8080/"
        },
        "id": "9J2wRAcrPvcJ",
        "outputId": "35a20e3e-6688-4d79-a286-2af2672a620c"
      },
      "execution_count": null,
      "outputs": [
        {
          "output_type": "execute_result",
          "data": {
            "text/plain": [
              "['zero', 'ONE ALL CAPS', 'two', 'three', 'four', 'five']"
            ]
          },
          "metadata": {},
          "execution_count": 19
        }
      ]
    },
    {
      "cell_type": "code",
      "source": [
        "# grab the last element\n",
        "popped_item = my_list.pop()\n",
        "popped_item"
      ],
      "metadata": {
        "colab": {
          "base_uri": "https://localhost:8080/",
          "height": 35
        },
        "id": "aWcSzYRtP7Mk",
        "outputId": "9084a812-bedc-43ce-b149-31c9703c6ad3"
      },
      "execution_count": null,
      "outputs": [
        {
          "output_type": "execute_result",
          "data": {
            "text/plain": [
              "'five'"
            ],
            "application/vnd.google.colaboratory.intrinsic+json": {
              "type": "string"
            }
          },
          "metadata": {},
          "execution_count": 20
        }
      ]
    },
    {
      "cell_type": "code",
      "source": [
        "# remove something from a different position. Let say let's remove 'ONE ALL CAPS'\n",
        "popped_item = my_list.pop(1)\n",
        "print(popped_item)\n",
        "print(my_list)"
      ],
      "metadata": {
        "colab": {
          "base_uri": "https://localhost:8080/"
        },
        "id": "clOrzN6EQAat",
        "outputId": "d1c4ac0d-804d-483f-f2c5-10e0c62f0d19"
      },
      "execution_count": null,
      "outputs": [
        {
          "output_type": "stream",
          "name": "stdout",
          "text": [
            "ONE ALL CAPS\n",
            "['zero', 'two', 'three', 'four']\n"
          ]
        }
      ]
    },
    {
      "cell_type": "code",
      "source": [
        "# List sort method with strings\n",
        "new_list = [\"a\",\"e\",\"x\",\"b\",\"c\"]\n",
        "new_list.sort()\n",
        "new_list"
      ],
      "metadata": {
        "colab": {
          "base_uri": "https://localhost:8080/"
        },
        "id": "JCQdF9nRQPup",
        "outputId": "92bb6117-2e77-47e0-e03c-e2823dc2cd14"
      },
      "execution_count": null,
      "outputs": [
        {
          "output_type": "execute_result",
          "data": {
            "text/plain": [
              "['a', 'b', 'c', 'e', 'x']"
            ]
          },
          "metadata": {},
          "execution_count": 22
        }
      ]
    },
    {
      "cell_type": "code",
      "source": [
        "# List sort method with numbers\n",
        "new_list = [4,1,8,3]\n",
        "new_list.sort()\n",
        "new_list"
      ],
      "metadata": {
        "colab": {
          "base_uri": "https://localhost:8080/"
        },
        "id": "vq239SKJQYq2",
        "outputId": "0b69b55f-6d86-40ab-9384-53d70379fbf5"
      },
      "execution_count": null,
      "outputs": [
        {
          "output_type": "execute_result",
          "data": {
            "text/plain": [
              "[1, 3, 4, 8]"
            ]
          },
          "metadata": {},
          "execution_count": 23
        }
      ]
    },
    {
      "cell_type": "code",
      "source": [
        "# Reverse a list\n",
        "new_list = [4,1,8,3]\n",
        "new_list.reverse()\n",
        "new_list"
      ],
      "metadata": {
        "colab": {
          "base_uri": "https://localhost:8080/"
        },
        "id": "YCxLAG6YQgYT",
        "outputId": "f91f145e-f1a1-4624-f81d-49c8b82e8291"
      },
      "execution_count": null,
      "outputs": [
        {
          "output_type": "execute_result",
          "data": {
            "text/plain": [
              "[3, 8, 1, 4]"
            ]
          },
          "metadata": {},
          "execution_count": 24
        }
      ]
    },
    {
      "cell_type": "code",
      "source": [
        "# How do I index a nested list? For example if I want to grab 2 from [1,1,[1,2]]\n",
        "list_1 = [1,1,[1,2]]\n",
        "list_1[2][1]"
      ],
      "metadata": {
        "colab": {
          "base_uri": "https://localhost:8080/"
        },
        "id": "uJkq5xSVQndO",
        "outputId": "4a40a5dd-1b3d-4b58-9c72-61159f84af03"
      },
      "execution_count": null,
      "outputs": [
        {
          "output_type": "execute_result",
          "data": {
            "text/plain": [
              "2"
            ]
          },
          "metadata": {},
          "execution_count": 25
        }
      ]
    },
    {
      "cell_type": "code",
      "source": [
        "# Create a list using input()\n",
        "items = input(\"Enter multiple integers : \").strip().split()"
      ],
      "metadata": {
        "colab": {
          "base_uri": "https://localhost:8080/"
        },
        "id": "wYBSJhLqQ438",
        "outputId": "aef68d72-7dc4-45db-f492-51268028d28e"
      },
      "execution_count": null,
      "outputs": [
        {
          "name": "stdout",
          "output_type": "stream",
          "text": [
            "Enter multiple integers : 1 2 3 4  \n"
          ]
        }
      ]
    },
    {
      "cell_type": "code",
      "source": [
        "items"
      ],
      "metadata": {
        "colab": {
          "base_uri": "https://localhost:8080/"
        },
        "id": "zJxgt4RTR_KB",
        "outputId": "aaa68826-b088-4e6d-b898-d14834901cbe"
      },
      "execution_count": null,
      "outputs": [
        {
          "output_type": "execute_result",
          "data": {
            "text/plain": [
              "['1', '2', '3', '4']"
            ]
          },
          "metadata": {},
          "execution_count": 30
        }
      ]
    },
    {
      "cell_type": "markdown",
      "source": [
        "# **Dictionary**\n",
        "\n",
        "\n",
        "---\n",
        "\n",
        "\n",
        "*   Unordered mapping of storing objects (key-value pairs)\n",
        "*   No index location required\n",
        "*   Dictionary cannot be sorted, sliced or indexed\n",
        "*   Do not retain order of key-value pairs, but we have ***ordereddict*** as well\n",
        "\n",
        "Whereas in Lists\n",
        "\n",
        "\n",
        "\n",
        "*   Ordered items are stored\n",
        "*   Index is required to access the items\n",
        "*   Can be sorted, sliced and indexed\n",
        "\n",
        "\n",
        "\n",
        "\n",
        "\n",
        "\n",
        "\n",
        "\n"
      ],
      "metadata": {
        "id": "4CzQSUAHHEoH"
      }
    },
    {
      "cell_type": "code",
      "source": [
        "# example of a dictionary\n",
        "my_dict = {\n",
        "    \"key1\":\"value1\",\n",
        "    \"key2\":\"value2\"\n",
        "  }\n",
        "my_dict"
      ],
      "metadata": {
        "id": "GOJgVP3cSQOn",
        "outputId": "c42a5f7b-b7e9-47a2-adb5-277435c58202",
        "colab": {
          "base_uri": "https://localhost:8080/"
        }
      },
      "execution_count": null,
      "outputs": [
        {
          "output_type": "execute_result",
          "data": {
            "text/plain": [
              "{'key1': 'value1', 'key2': 'value2'}"
            ]
          },
          "metadata": {},
          "execution_count": 1
        }
      ]
    },
    {
      "cell_type": "code",
      "source": [
        "my_dict[\"key1\"]"
      ],
      "metadata": {
        "id": "KVy4a38uIBHb",
        "outputId": "84d0423e-85ff-45fb-ce44-d891268fcb21",
        "colab": {
          "base_uri": "https://localhost:8080/",
          "height": 35
        }
      },
      "execution_count": null,
      "outputs": [
        {
          "output_type": "execute_result",
          "data": {
            "text/plain": [
              "'value1'"
            ],
            "application/vnd.google.colaboratory.intrinsic+json": {
              "type": "string"
            }
          },
          "metadata": {},
          "execution_count": 2
        }
      ]
    },
    {
      "cell_type": "code",
      "source": [
        "prices_lookup = {\n",
        "    \"apple\":2.99,\n",
        "    \"oranges\":1.99,\n",
        "    \"milk\":5.80\n",
        "}\n",
        "\n",
        "prices_lookup[\"apple\"]"
      ],
      "metadata": {
        "id": "3KDLFtaGIMgb",
        "outputId": "d8c032b4-3d6e-4e2e-9f4d-a7326127740c",
        "colab": {
          "base_uri": "https://localhost:8080/"
        }
      },
      "execution_count": null,
      "outputs": [
        {
          "output_type": "execute_result",
          "data": {
            "text/plain": [
              "2.99"
            ]
          },
          "metadata": {},
          "execution_count": 3
        }
      ]
    },
    {
      "cell_type": "code",
      "source": [
        "# dictionaries can hold multiple things within\n",
        "\n",
        "d = {\n",
        "    \"k1\":123,               # a number\n",
        "    \"k2\":[0,1,2],           # a list\n",
        "    \"k3\":{\"insideKey\":100}  # a dict\n",
        "}\n",
        "\n",
        "# How to access the list within\n",
        "d[\"k2\"]"
      ],
      "metadata": {
        "id": "6MVd5D2sISCg",
        "outputId": "bf6fe6f7-7630-4a74-e9d1-c0c513eddf21",
        "colab": {
          "base_uri": "https://localhost:8080/"
        }
      },
      "execution_count": null,
      "outputs": [
        {
          "output_type": "execute_result",
          "data": {
            "text/plain": [
              "[0, 1, 2]"
            ]
          },
          "metadata": {},
          "execution_count": 4
        }
      ]
    },
    {
      "cell_type": "code",
      "source": [
        "# I want the value 100 to be accessed within the dictionary d\n",
        "d[\"k3\"][\"insideKey\"]"
      ],
      "metadata": {
        "id": "UmfYwtVmIknh",
        "outputId": "eb7d5ebd-8259-4cec-c6c4-73cf155ce32d",
        "colab": {
          "base_uri": "https://localhost:8080/"
        }
      },
      "execution_count": null,
      "outputs": [
        {
          "output_type": "execute_result",
          "data": {
            "text/plain": [
              "100"
            ]
          },
          "metadata": {},
          "execution_count": 5
        }
      ]
    },
    {
      "cell_type": "code",
      "source": [
        "# another example\n",
        "d = {\n",
        "    \"key1\":[\"a\",\"b\",\"c\"]\n",
        "  }\n",
        "\n",
        "# make the letter c into upper\n",
        "d[\"key1\"][2].upper()"
      ],
      "metadata": {
        "id": "PD4soDsvI00K",
        "outputId": "87b42dcb-ebb6-4246-8ee2-f672a31a271b",
        "colab": {
          "base_uri": "https://localhost:8080/",
          "height": 35
        }
      },
      "execution_count": null,
      "outputs": [
        {
          "output_type": "execute_result",
          "data": {
            "text/plain": [
              "'C'"
            ],
            "application/vnd.google.colaboratory.intrinsic+json": {
              "type": "string"
            }
          },
          "metadata": {},
          "execution_count": 6
        }
      ]
    },
    {
      "cell_type": "code",
      "source": [
        "# how to add a new key-value pair\n",
        "d = {\n",
        "    \"k1\":100,\n",
        "    \"k2\":200\n",
        "  }\n",
        "\n",
        "d[\"k3\"] = 300\n",
        "d"
      ],
      "metadata": {
        "id": "jjWktzKLJCk6",
        "outputId": "9d0cd689-80d9-4b82-930f-27e0229ecbbb",
        "colab": {
          "base_uri": "https://localhost:8080/"
        }
      },
      "execution_count": null,
      "outputs": [
        {
          "output_type": "execute_result",
          "data": {
            "text/plain": [
              "{'k1': 100, 'k2': 200, 'k3': 300}"
            ]
          },
          "metadata": {},
          "execution_count": 8
        }
      ]
    },
    {
      "cell_type": "code",
      "source": [
        "# I want to change the k1 value in the dictionary d\n",
        "d[\"k1\"] = \"NEW VALUE\"\n",
        "d"
      ],
      "metadata": {
        "id": "_foO6OQhJJ7d",
        "outputId": "83ebe8af-cc12-41e2-9b62-cff6300ed67a",
        "colab": {
          "base_uri": "https://localhost:8080/"
        }
      },
      "execution_count": null,
      "outputs": [
        {
          "output_type": "execute_result",
          "data": {
            "text/plain": [
              "{'k1': 'NEW VALUE', 'k2': 200, 'k3': 300}"
            ]
          },
          "metadata": {},
          "execution_count": 9
        }
      ]
    },
    {
      "cell_type": "code",
      "source": [
        "# what are keys of the dictionary d?\n",
        "d.keys()"
      ],
      "metadata": {
        "id": "3LkPVjBlJU7t",
        "outputId": "321fa4cf-77ff-40b9-95e9-b1d2eb18a4e9",
        "colab": {
          "base_uri": "https://localhost:8080/"
        }
      },
      "execution_count": null,
      "outputs": [
        {
          "output_type": "execute_result",
          "data": {
            "text/plain": [
              "dict_keys(['k1', 'k2', 'k3'])"
            ]
          },
          "metadata": {},
          "execution_count": 10
        }
      ]
    },
    {
      "cell_type": "code",
      "source": [
        "# what are the values of the dictionary d?\n",
        "d.values()"
      ],
      "metadata": {
        "id": "D1n5y8m8JeHL",
        "outputId": "92a6fab2-f849-4b0e-f476-eb7131e2ca16",
        "colab": {
          "base_uri": "https://localhost:8080/"
        }
      },
      "execution_count": null,
      "outputs": [
        {
          "output_type": "execute_result",
          "data": {
            "text/plain": [
              "dict_values(['NEW VALUE', 200, 300])"
            ]
          },
          "metadata": {},
          "execution_count": 11
        }
      ]
    },
    {
      "cell_type": "code",
      "source": [
        "# how to iterate over keys and values\n",
        "\n",
        "for key,value in d.items():\n",
        "  print(f\"key : {key} | value : {value}\")"
      ],
      "metadata": {
        "id": "YxmbJ30HJinh",
        "outputId": "5af2400e-7bed-4548-db64-8a927f2e9d17",
        "colab": {
          "base_uri": "https://localhost:8080/"
        }
      },
      "execution_count": null,
      "outputs": [
        {
          "output_type": "stream",
          "name": "stdout",
          "text": [
            "key : k1 | value : NEW VALUE\n",
            "key : k2 | value : 200\n",
            "key : k3 | value : 300\n"
          ]
        }
      ]
    },
    {
      "cell_type": "markdown",
      "source": [
        "# **Tuples**\n",
        "\n",
        "\n",
        "---\n",
        "\n",
        "\n",
        "\n",
        "*   Tuples are similar to lists\n",
        "*   Tuples can be accessed using index like in list\n",
        "*   But they have immutability (cannot be changed, once an element is assigned)\n",
        "\n"
      ],
      "metadata": {
        "id": "d2-hMX9SKHSQ"
      }
    },
    {
      "cell_type": "code",
      "source": [
        "# example of a tuple\n",
        "t = (1,2,3)\n",
        "t"
      ],
      "metadata": {
        "id": "tqZILvHOJzYk",
        "outputId": "46d093c8-bb5a-49d1-f34a-0258027b27fb",
        "colab": {
          "base_uri": "https://localhost:8080/"
        }
      },
      "execution_count": null,
      "outputs": [
        {
          "output_type": "execute_result",
          "data": {
            "text/plain": [
              "(1, 2, 3)"
            ]
          },
          "metadata": {},
          "execution_count": 13
        }
      ]
    },
    {
      "cell_type": "code",
      "source": [
        "# here is a list\n",
        "my_list = [1,2,3]\n",
        "my_list"
      ],
      "metadata": {
        "id": "FQzay5hnKbVr",
        "outputId": "6c49fd5d-7aa5-4ccc-d227-b5860c60250e",
        "colab": {
          "base_uri": "https://localhost:8080/"
        }
      },
      "execution_count": null,
      "outputs": [
        {
          "output_type": "execute_result",
          "data": {
            "text/plain": [
              "[1, 2, 3]"
            ]
          },
          "metadata": {},
          "execution_count": 14
        }
      ]
    },
    {
      "cell_type": "code",
      "source": [
        "# list modification is possible\n",
        "my_list[0] = \"NEW\"\n",
        "my_list"
      ],
      "metadata": {
        "id": "P7J8DKDfKd5S",
        "outputId": "d3b9f79d-4202-427b-a65d-1f324da5c79f",
        "colab": {
          "base_uri": "https://localhost:8080/"
        }
      },
      "execution_count": null,
      "outputs": [
        {
          "output_type": "execute_result",
          "data": {
            "text/plain": [
              "['NEW', 2, 3]"
            ]
          },
          "metadata": {},
          "execution_count": 15
        }
      ]
    },
    {
      "cell_type": "code",
      "source": [
        "# but if you try to do tuple modification, it will throw error\n",
        "t[0] = \"NEW\""
      ],
      "metadata": {
        "id": "HztQRSO3Kfwr",
        "outputId": "6405955a-7241-4048-d53d-13b7194470a1",
        "colab": {
          "base_uri": "https://localhost:8080/",
          "height": 159
        }
      },
      "execution_count": null,
      "outputs": [
        {
          "output_type": "error",
          "ename": "TypeError",
          "evalue": "'tuple' object does not support item assignment",
          "traceback": [
            "\u001b[0;31m---------------------------------------------------------------------------\u001b[0m",
            "\u001b[0;31mTypeError\u001b[0m                                 Traceback (most recent call last)",
            "\u001b[0;32m<ipython-input-16-e673adb1ed17>\u001b[0m in \u001b[0;36m<cell line: 2>\u001b[0;34m()\u001b[0m\n\u001b[1;32m      1\u001b[0m \u001b[0;31m# but if you try to do tuple modification, it will throw error\u001b[0m\u001b[0;34m\u001b[0m\u001b[0;34m\u001b[0m\u001b[0m\n\u001b[0;32m----> 2\u001b[0;31m \u001b[0mt\u001b[0m\u001b[0;34m[\u001b[0m\u001b[0;36m0\u001b[0m\u001b[0;34m]\u001b[0m \u001b[0;34m=\u001b[0m \u001b[0;34m\"NEW\"\u001b[0m\u001b[0;34m\u001b[0m\u001b[0;34m\u001b[0m\u001b[0m\n\u001b[0m",
            "\u001b[0;31mTypeError\u001b[0m: 'tuple' object does not support item assignment"
          ]
        }
      ]
    },
    {
      "cell_type": "code",
      "source": [
        "type(t)"
      ],
      "metadata": {
        "id": "332z8F-BKpak",
        "outputId": "a05da9c0-791e-46f7-e94c-93649179071f",
        "colab": {
          "base_uri": "https://localhost:8080/"
        }
      },
      "execution_count": null,
      "outputs": [
        {
          "output_type": "execute_result",
          "data": {
            "text/plain": [
              "tuple"
            ]
          },
          "metadata": {},
          "execution_count": 17
        }
      ]
    },
    {
      "cell_type": "code",
      "source": [
        "t"
      ],
      "metadata": {
        "id": "GeNO5DZrK4tl",
        "outputId": "3b4badc9-0cee-4f29-bf4c-5e65078f7b38",
        "colab": {
          "base_uri": "https://localhost:8080/"
        }
      },
      "execution_count": null,
      "outputs": [
        {
          "output_type": "execute_result",
          "data": {
            "text/plain": [
              "(1, 2, 3)"
            ]
          },
          "metadata": {},
          "execution_count": 19
        }
      ]
    },
    {
      "cell_type": "code",
      "source": [
        "# tuples can be accessed using index like list\n",
        "t[0]"
      ],
      "metadata": {
        "id": "6MDUuk0TKsk2",
        "outputId": "1e059e08-228b-46e3-808f-93047eb41d3c",
        "colab": {
          "base_uri": "https://localhost:8080/"
        }
      },
      "execution_count": null,
      "outputs": [
        {
          "output_type": "execute_result",
          "data": {
            "text/plain": [
              "1"
            ]
          },
          "metadata": {},
          "execution_count": 18
        }
      ]
    },
    {
      "cell_type": "code",
      "source": [
        "# methods of tuple = count()\n",
        "t = (\"a\",\"a\",\"b\")\n",
        "t.count(\"a\")"
      ],
      "metadata": {
        "id": "94oo1kY9K52f",
        "outputId": "aa022d61-0c68-4e1e-878f-f8376a5a5da3",
        "colab": {
          "base_uri": "https://localhost:8080/"
        }
      },
      "execution_count": null,
      "outputs": [
        {
          "output_type": "execute_result",
          "data": {
            "text/plain": [
              "2"
            ]
          },
          "metadata": {},
          "execution_count": 20
        }
      ]
    },
    {
      "cell_type": "code",
      "source": [
        "# methods of tuple = index(substr, start, end)\n",
        "# index returns the first occurrence of a\n",
        "t.index(\"a\")"
      ],
      "metadata": {
        "id": "JmOV5xWqLB2q",
        "outputId": "bdcb9036-cec6-4813-d8c8-c2c7fb39c11c",
        "colab": {
          "base_uri": "https://localhost:8080/"
        }
      },
      "execution_count": null,
      "outputs": [
        {
          "output_type": "execute_result",
          "data": {
            "text/plain": [
              "0"
            ]
          },
          "metadata": {},
          "execution_count": 21
        }
      ]
    },
    {
      "cell_type": "markdown",
      "source": [
        "# **Set**\n",
        "\n",
        "\n",
        "---\n",
        "\n",
        "Unordered collection of unique elements\n"
      ],
      "metadata": {
        "id": "mXedtp5VFhsP"
      }
    },
    {
      "cell_type": "code",
      "source": [
        "# initialize a set\n",
        "myset = set()"
      ],
      "metadata": {
        "id": "tm-T5UY_LJ-m"
      },
      "execution_count": null,
      "outputs": []
    },
    {
      "cell_type": "code",
      "source": [
        "# add elements to a set\n",
        "myset.add(1)\n",
        "myset"
      ],
      "metadata": {
        "id": "uplX8isOF2CK",
        "outputId": "e8c9fdab-2707-40e3-9ed6-e100b4e828fd",
        "colab": {
          "base_uri": "https://localhost:8080/"
        }
      },
      "execution_count": null,
      "outputs": [
        {
          "output_type": "execute_result",
          "data": {
            "text/plain": [
              "{1}"
            ]
          },
          "metadata": {},
          "execution_count": 8
        }
      ]
    },
    {
      "cell_type": "code",
      "source": [
        "# add another element to a set\n",
        "myset.add(2)\n",
        "myset"
      ],
      "metadata": {
        "id": "_2lXt5V8F8ZR",
        "outputId": "af41687e-842c-4e4c-ac31-f0ffbc5b4f51",
        "colab": {
          "base_uri": "https://localhost:8080/"
        }
      },
      "execution_count": null,
      "outputs": [
        {
          "output_type": "execute_result",
          "data": {
            "text/plain": [
              "{1, 2}"
            ]
          },
          "metadata": {},
          "execution_count": 9
        }
      ]
    },
    {
      "cell_type": "code",
      "source": [
        "# now if I add 2 another time, nothing should happen because 2 already exists in myset\n",
        "myset.add(2)\n",
        "myset"
      ],
      "metadata": {
        "id": "AsXEBGm0GCI7",
        "outputId": "c774302a-e20a-4bfb-8485-fcd5512a741d",
        "colab": {
          "base_uri": "https://localhost:8080/"
        }
      },
      "execution_count": null,
      "outputs": [
        {
          "output_type": "execute_result",
          "data": {
            "text/plain": [
              "{1, 2}"
            ]
          },
          "metadata": {},
          "execution_count": 10
        }
      ]
    },
    {
      "cell_type": "code",
      "source": [
        "# generate unique set of letters from the word = Mississippi\n",
        "set('Mississippi')"
      ],
      "metadata": {
        "id": "k5FEIViSGLi-",
        "outputId": "aa7d4441-3e49-4a36-e18d-064a2816b4ef",
        "colab": {
          "base_uri": "https://localhost:8080/"
        }
      },
      "execution_count": null,
      "outputs": [
        {
          "output_type": "execute_result",
          "data": {
            "text/plain": [
              "{'M', 'i', 'p', 's'}"
            ]
          },
          "metadata": {},
          "execution_count": 11
        }
      ]
    },
    {
      "cell_type": "markdown",
      "source": [
        "# **Booleans**\n",
        "\n",
        "\n",
        "---\n",
        "\n",
        "* Returns True of False\n",
        "* All Condition checks use booleans as result\n"
      ],
      "metadata": {
        "id": "aJS_KFNMQ19B"
      }
    },
    {
      "cell_type": "code",
      "source": [
        "name = \"Sam\"\n",
        "\n",
        "if name == \"Sam\": # this returns boolean\n",
        "    print(\"Hello Sam !\") # condition is checking to be true\n",
        "else:\n",
        "    print(\"Hello dude !\")"
      ],
      "metadata": {
        "id": "9l_UiVprHha9",
        "outputId": "4cf9100f-dbdb-4c47-eda5-2f52ccacfc68",
        "colab": {
          "base_uri": "https://localhost:8080/"
        }
      },
      "execution_count": null,
      "outputs": [
        {
          "output_type": "stream",
          "name": "stdout",
          "text": [
            "Hello Sam !\n"
          ]
        }
      ]
    },
    {
      "cell_type": "code",
      "source": [
        "1 > 2"
      ],
      "metadata": {
        "id": "LhGpJXB6RQCn",
        "outputId": "77817217-6d50-4791-eb8d-80ef051b1a2c",
        "colab": {
          "base_uri": "https://localhost:8080/"
        }
      },
      "execution_count": null,
      "outputs": [
        {
          "output_type": "execute_result",
          "data": {
            "text/plain": [
              "False"
            ]
          },
          "metadata": {},
          "execution_count": 13
        }
      ]
    },
    {
      "cell_type": "code",
      "source": [
        "4 > 3"
      ],
      "metadata": {
        "id": "J4uZXeW9TfIb",
        "outputId": "9cc2318b-bbe1-461f-a933-9487816fd1a0",
        "colab": {
          "base_uri": "https://localhost:8080/"
        }
      },
      "execution_count": null,
      "outputs": [
        {
          "output_type": "execute_result",
          "data": {
            "text/plain": [
              "True"
            ]
          },
          "metadata": {},
          "execution_count": 14
        }
      ]
    },
    {
      "cell_type": "markdown",
      "source": [
        "# **I/O with basic files in Python**\n",
        "\n",
        "\n",
        "---\n",
        "\n",
        "\n"
      ],
      "metadata": {
        "id": "yfckaIXN1PR3"
      }
    },
    {
      "cell_type": "code",
      "source": [
        "# Jupyter magic functionality\n",
        "\n",
        "%%writefile myfile.txt\n",
        "Hello this is a text file\n",
        "this is the second line\n",
        "this is the third line"
      ],
      "metadata": {
        "id": "AS1c3x4xThWn",
        "outputId": "cde5122b-a6ef-4a97-a1d8-2477a083fb87",
        "colab": {
          "base_uri": "https://localhost:8080/"
        }
      },
      "execution_count": null,
      "outputs": [
        {
          "output_type": "stream",
          "name": "stdout",
          "text": [
            "Writing myfile.txt\n"
          ]
        }
      ]
    },
    {
      "cell_type": "code",
      "source": [
        "# open the file\n",
        "myfile = open(\"myfile.txt\")"
      ],
      "metadata": {
        "id": "APmovIxf5PxF"
      },
      "execution_count": null,
      "outputs": []
    },
    {
      "cell_type": "code",
      "source": [
        "pwd"
      ],
      "metadata": {
        "id": "DdUUIiUG5iaq",
        "outputId": "8b652a04-a7dd-4605-cc1d-bd61ff7d5e66",
        "colab": {
          "base_uri": "https://localhost:8080/",
          "height": 35
        }
      },
      "execution_count": null,
      "outputs": [
        {
          "output_type": "execute_result",
          "data": {
            "text/plain": [
              "'/content'"
            ],
            "application/vnd.google.colaboratory.intrinsic+json": {
              "type": "string"
            }
          },
          "metadata": {},
          "execution_count": 4
        }
      ]
    },
    {
      "cell_type": "code",
      "source": [
        "# read the file\n",
        "myfile.read()"
      ],
      "metadata": {
        "id": "RoLU0d8t5j3r",
        "outputId": "e4ff22d3-ad7d-45e9-d18e-01da7073af0a",
        "colab": {
          "base_uri": "https://localhost:8080/",
          "height": 35
        }
      },
      "execution_count": null,
      "outputs": [
        {
          "output_type": "execute_result",
          "data": {
            "text/plain": [
              "'Hello this is a text file\\nthis is the second line\\nthis is the third line\\n'"
            ],
            "application/vnd.google.colaboratory.intrinsic+json": {
              "type": "string"
            }
          },
          "metadata": {},
          "execution_count": 5
        }
      ]
    },
    {
      "cell_type": "code",
      "source": [
        "# feeder empty\n",
        "myfile.read()"
      ],
      "metadata": {
        "id": "_6U9wPFk5qWz",
        "outputId": "d8f76265-d83d-4254-ab66-924375819894",
        "colab": {
          "base_uri": "https://localhost:8080/",
          "height": 35
        }
      },
      "execution_count": null,
      "outputs": [
        {
          "output_type": "execute_result",
          "data": {
            "text/plain": [
              "''"
            ],
            "application/vnd.google.colaboratory.intrinsic+json": {
              "type": "string"
            }
          },
          "metadata": {},
          "execution_count": 6
        }
      ]
    },
    {
      "cell_type": "code",
      "source": [
        "# in order to read the file, we need to seek back to 0\n",
        "myfile.seek(0)"
      ],
      "metadata": {
        "id": "j8596cPI5x1s",
        "outputId": "771bfa45-161e-423e-a0a0-27d97cfb85a0",
        "colab": {
          "base_uri": "https://localhost:8080/"
        }
      },
      "execution_count": null,
      "outputs": [
        {
          "output_type": "execute_result",
          "data": {
            "text/plain": [
              "0"
            ]
          },
          "metadata": {},
          "execution_count": 7
        }
      ]
    },
    {
      "cell_type": "code",
      "source": [
        "# read again\n",
        "myfile.read()"
      ],
      "metadata": {
        "id": "2biQX-wI522s",
        "outputId": "fb2001f2-c8aa-4584-98da-e2f60aa8538c",
        "colab": {
          "base_uri": "https://localhost:8080/",
          "height": 35
        }
      },
      "execution_count": null,
      "outputs": [
        {
          "output_type": "execute_result",
          "data": {
            "text/plain": [
              "'Hello this is a text file\\nthis is the second line\\nthis is the third line\\n'"
            ],
            "application/vnd.google.colaboratory.intrinsic+json": {
              "type": "string"
            }
          },
          "metadata": {},
          "execution_count": 8
        }
      ]
    },
    {
      "cell_type": "code",
      "source": [
        "# read the file with each line in a list\n",
        "myfile.seek(0)\n",
        "myfile.readlines()"
      ],
      "metadata": {
        "id": "q_cLcl8y57cC",
        "outputId": "77671de0-b7ab-47fb-e115-11abccbbdfef",
        "colab": {
          "base_uri": "https://localhost:8080/"
        }
      },
      "execution_count": null,
      "outputs": [
        {
          "output_type": "execute_result",
          "data": {
            "text/plain": [
              "['Hello this is a text file\\n',\n",
              " 'this is the second line\\n',\n",
              " 'this is the third line\\n']"
            ]
          },
          "metadata": {},
          "execution_count": 9
        }
      ]
    },
    {
      "cell_type": "code",
      "source": [
        "# remove the last newline in file\n",
        "myfile.seek(0)\n",
        "line_list = myfile.readlines()\n",
        "line_list[-1] = line_list[-1].rstrip()\n",
        "line_list"
      ],
      "metadata": {
        "id": "1tuhVVke6DiK",
        "outputId": "8b676f5e-72f2-43bc-e9bc-0b386e80f72a",
        "colab": {
          "base_uri": "https://localhost:8080/"
        }
      },
      "execution_count": null,
      "outputs": [
        {
          "output_type": "execute_result",
          "data": {
            "text/plain": [
              "['Hello this is a text file\\n',\n",
              " 'this is the second line\\n',\n",
              " 'this is the third line']"
            ]
          },
          "metadata": {},
          "execution_count": 14
        }
      ]
    },
    {
      "cell_type": "code",
      "source": [
        "# closing the file\n",
        "myfile.close()"
      ],
      "metadata": {
        "id": "E_fZc3RT6OSD"
      },
      "execution_count": null,
      "outputs": []
    },
    {
      "cell_type": "code",
      "source": [
        "# if we don't want the hassle of closing the file\n",
        "with open(\"myfile.txt\") as f:\n",
        "  contents = f.read()"
      ],
      "metadata": {
        "id": "nTTPuTV661b2"
      },
      "execution_count": null,
      "outputs": []
    },
    {
      "cell_type": "code",
      "source": [
        "contents"
      ],
      "metadata": {
        "id": "-TyDa2ef68WH",
        "outputId": "09bcfee1-3402-4727-d803-5194cea8029d",
        "colab": {
          "base_uri": "https://localhost:8080/",
          "height": 35
        }
      },
      "execution_count": null,
      "outputs": [
        {
          "output_type": "execute_result",
          "data": {
            "text/plain": [
              "'Hello this is a text file\\nthis is the second line\\nthis is the third line\\n'"
            ],
            "application/vnd.google.colaboratory.intrinsic+json": {
              "type": "string"
            }
          },
          "metadata": {},
          "execution_count": 18
        }
      ]
    },
    {
      "cell_type": "code",
      "source": [
        "with open(\"myfile.txt\",mode=\"r\") as myfile:\n",
        "  print(myfile.read())"
      ],
      "metadata": {
        "id": "oGtTViDb699u",
        "outputId": "c3b710bd-0115-4d18-d441-c7f925d55c6e",
        "colab": {
          "base_uri": "https://localhost:8080/"
        }
      },
      "execution_count": null,
      "outputs": [
        {
          "output_type": "stream",
          "name": "stdout",
          "text": [
            "Hello this is a text file\n",
            "this is the second line\n",
            "this is the third line\n",
            "\n"
          ]
        }
      ]
    },
    {
      "cell_type": "code",
      "source": [
        "# what are the different modes\n",
        "# r = read only\n",
        "# w = write only\n",
        "# a = append only\n",
        "# r+ = reading and writing\n",
        "# w+ = writing and reading (overwrites existing files or creates a new file)"
      ],
      "metadata": {
        "id": "ltB1lbCMDgiV"
      },
      "execution_count": null,
      "outputs": []
    },
    {
      "cell_type": "code",
      "source": [
        "%%writefile my_new_file.txt\n",
        "ONE ON FIRST\n",
        "TWO ON SECOND\n",
        "THREE ON THIRD"
      ],
      "metadata": {
        "id": "0Wn7it1sDurj",
        "outputId": "318e8057-907a-4d72-ca0f-cf41bcbd67ad",
        "colab": {
          "base_uri": "https://localhost:8080/"
        }
      },
      "execution_count": null,
      "outputs": [
        {
          "output_type": "stream",
          "name": "stdout",
          "text": [
            "Writing my_new_file.txt\n"
          ]
        }
      ]
    },
    {
      "cell_type": "code",
      "source": [
        "# read my_new_file.txt\n",
        "with open(\"my_new_file.txt\",mode=\"r\") as f:\n",
        "  print(f.read())"
      ],
      "metadata": {
        "id": "Swex0QhMDzLf",
        "outputId": "57f59380-5020-4342-edb4-1d419c9a4036",
        "colab": {
          "base_uri": "https://localhost:8080/"
        }
      },
      "execution_count": null,
      "outputs": [
        {
          "output_type": "stream",
          "name": "stdout",
          "text": [
            "ONE ON FIRST\n",
            "TWO ON SECOND\n",
            "THREE ON THIRD\n",
            "\n"
          ]
        }
      ]
    },
    {
      "cell_type": "code",
      "source": [
        "# now append a 4th line to my_new_file.txt\n",
        "with open(\"my_new_file.txt\",mode=\"a\") as f:\n",
        "  f.write(\"FOUR ON FOURTH\")"
      ],
      "metadata": {
        "id": "oKx362PsD8ym"
      },
      "execution_count": null,
      "outputs": []
    },
    {
      "cell_type": "code",
      "source": [
        "# now read the file again\n",
        "with open(\"my_new_file.txt\",mode=\"r\") as f:\n",
        "  print(f.read())"
      ],
      "metadata": {
        "id": "9w0KdAPhEFl7",
        "outputId": "0d036a38-735f-4d06-8529-249a7664f1e3",
        "colab": {
          "base_uri": "https://localhost:8080/"
        }
      },
      "execution_count": null,
      "outputs": [
        {
          "output_type": "stream",
          "name": "stdout",
          "text": [
            "ONE ON FIRST\n",
            "TWO ON SECOND\n",
            "THREE ON THIRD\n",
            "FOUR ON FOURTH\n"
          ]
        }
      ]
    },
    {
      "cell_type": "markdown",
      "source": [
        "| Data Type | Indexed | Sliced | Sorted | Mutable | Ordered | Iterable | Hashable |\n",
        "|---|---|---|---|---|---|---|---|\n",
        "| Numbers | No | No | No | No | No | No | Yes |\n",
        "| String | Yes | Yes | Yes | No | Yes | Yes | Yes |\n",
        "| List | Yes | Yes | Yes | Yes | Yes | Yes | No |\n",
        "| Tuple | Yes | Yes | Yes | No | Yes | Yes | Yes (if all elements are hashable) |\n",
        "| Dictionary | Yes (by keys) | No | No | Yes | No (before Python 3.7) | Yes (keys are iterable) | No |\n",
        "| Set | No | No | No | Yes | No | Yes | No |"
      ],
      "metadata": {
        "id": "Ot-5ImNILbz7"
      }
    },
    {
      "cell_type": "code",
      "source": [],
      "metadata": {
        "id": "12ROgUf8EJeD"
      },
      "execution_count": null,
      "outputs": []
    }
  ]
}