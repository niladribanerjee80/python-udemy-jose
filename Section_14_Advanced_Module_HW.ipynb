{
  "nbformat": 4,
  "nbformat_minor": 0,
  "metadata": {
    "colab": {
      "provenance": [],
      "authorship_tag": "ABX9TyMQD1YxS/+dMrVNaLtekFnG",
      "include_colab_link": true
    },
    "kernelspec": {
      "name": "python3",
      "display_name": "Python 3"
    },
    "language_info": {
      "name": "python"
    }
  },
  "cells": [
    {
      "cell_type": "markdown",
      "metadata": {
        "id": "view-in-github",
        "colab_type": "text"
      },
      "source": [
        "<a href=\"https://colab.research.google.com/github/niladribanerjee80/python-udemy-jose/blob/main/Section_14_Advanced_Module_HW.ipynb\" target=\"_parent\"><img src=\"https://colab.research.google.com/assets/colab-badge.svg\" alt=\"Open In Colab\"/></a>"
      ]
    },
    {
      "cell_type": "code",
      "execution_count": 7,
      "metadata": {
        "id": "OKjNVIfcJiW2"
      },
      "outputs": [],
      "source": [
        "import zipfile\n",
        "import shutil\n",
        "import os"
      ]
    },
    {
      "cell_type": "code",
      "source": [
        "shutil.unpack_archive(\"unzip_me_for_instructions.zip\",\"assignment\",\"zip\")"
      ],
      "metadata": {
        "id": "KlECfjYaKPIR"
      },
      "execution_count": 5,
      "outputs": []
    },
    {
      "cell_type": "code",
      "source": [
        "ls -lrt"
      ],
      "metadata": {
        "colab": {
          "base_uri": "https://localhost:8080/"
        },
        "id": "XLheDsM2KQmC",
        "outputId": "e9652803-f27d-4d5a-e12c-630f3df94784"
      },
      "execution_count": 4,
      "outputs": [
        {
          "output_type": "stream",
          "name": "stdout",
          "text": [
            "total 200\n",
            "drwxr-xr-x 1 root root   4096 Aug 22 13:24 \u001b[0m\u001b[01;34msample_data\u001b[0m/\n",
            "-rw-r--r-- 1 root root 198430 Aug 26 05:29 unzip_me_for_instructions.zip\n"
          ]
        }
      ]
    },
    {
      "cell_type": "code",
      "source": [
        "import zipfile\n",
        "import shutil\n",
        "import os\n",
        "import re\n",
        "\n",
        "for folder,sub_folders,files in os.walk(\"/content/assignment/extracted_content/\"):\n",
        "    for file in files:\n",
        "        # read the file\n",
        "        with open(os.path.join(folder,file),\"r\") as f:\n",
        "            contents = f.read()\n",
        "\n",
        "        # search for phone number\n",
        "        pattern = re.compile(r\"\\d{3}-\\d{3}-\\d{4}\")\n",
        "        matches = re.finditer(pattern,contents)\n",
        "\n",
        "        for match in matches:\n",
        "            print(f\"Folder : {folder}\\nFile : {file}\\nPhone number : {match.group()}\")\n",
        "            print(\"----------\")"
      ],
      "metadata": {
        "colab": {
          "base_uri": "https://localhost:8080/"
        },
        "id": "i5kmIoBTKeEl",
        "outputId": "afb23657-731c-4c5b-b356-4e625d3640d6"
      },
      "execution_count": 19,
      "outputs": [
        {
          "output_type": "stream",
          "name": "stdout",
          "text": [
            "Folder : /content/assignment/extracted_content/Four\n",
            "File : EMTGPSXQEJX.txt\n",
            "Phone number : 719-266-2837\n",
            "----------\n"
          ]
        }
      ]
    },
    {
      "cell_type": "code",
      "source": [],
      "metadata": {
        "id": "Nv6wIjWRMu71"
      },
      "execution_count": null,
      "outputs": []
    }
  ]
}