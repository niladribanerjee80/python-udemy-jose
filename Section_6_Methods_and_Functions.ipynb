{
  "nbformat": 4,
  "nbformat_minor": 0,
  "metadata": {
    "colab": {
      "provenance": [],
      "toc_visible": true,
      "include_colab_link": true
    },
    "kernelspec": {
      "name": "python3",
      "display_name": "Python 3"
    },
    "language_info": {
      "name": "python"
    }
  },
  "cells": [
    {
      "cell_type": "markdown",
      "metadata": {
        "id": "view-in-github",
        "colab_type": "text"
      },
      "source": [
        "<a href=\"https://colab.research.google.com/github/niladribanerjee80/python-udemy-jose/blob/main/Section_6_Methods_and_Functions.ipynb\" target=\"_parent\"><img src=\"https://colab.research.google.com/assets/colab-badge.svg\" alt=\"Open In Colab\"/></a>"
      ]
    },
    {
      "cell_type": "markdown",
      "source": [
        "# **Functions**\n",
        "\n",
        "\n",
        "---\n",
        "\n",
        "Built-in objects\n",
        "* numbers\n",
        "* strings\n",
        "* list\n",
        "* tuple\n",
        "* dict\n",
        "* set \\\n",
        "etc. \\\n",
        "have all built-in functions.\n",
        "\n"
      ],
      "metadata": {
        "id": "62QvOsVeG5Dq"
      }
    },
    {
      "cell_type": "code",
      "execution_count": null,
      "metadata": {
        "id": "GG1MlF4s3B_Y",
        "colab": {
          "base_uri": "https://localhost:8080/"
        },
        "outputId": "cfc681af-22a1-46b3-db1f-4f99e1a35726"
      },
      "outputs": [
        {
          "output_type": "execute_result",
          "data": {
            "text/plain": [
              "[1, 2, 3, 4]"
            ]
          },
          "metadata": {},
          "execution_count": 1
        }
      ],
      "source": [
        "# list\n",
        "\n",
        "mylist = [1,2,3]\n",
        "mylist.append(4)\n",
        "mylist"
      ]
    },
    {
      "cell_type": "code",
      "source": [
        "mylist.pop()"
      ],
      "metadata": {
        "colab": {
          "base_uri": "https://localhost:8080/"
        },
        "id": "8eZu9ZDsHS2S",
        "outputId": "cbe8f1b2-adaf-4921-98e1-989310e7b31b"
      },
      "execution_count": null,
      "outputs": [
        {
          "output_type": "execute_result",
          "data": {
            "text/plain": [
              "4"
            ]
          },
          "metadata": {},
          "execution_count": 2
        }
      ]
    },
    {
      "cell_type": "code",
      "source": [
        "help(mylist.insert)"
      ],
      "metadata": {
        "colab": {
          "base_uri": "https://localhost:8080/"
        },
        "id": "szJIWQhtHZ35",
        "outputId": "a8cc5591-2d8a-46bf-dcaf-73c31c5bb433"
      },
      "execution_count": null,
      "outputs": [
        {
          "output_type": "stream",
          "name": "stdout",
          "text": [
            "Help on built-in function insert:\n",
            "\n",
            "insert(index, object, /) method of builtins.list instance\n",
            "    Insert object before index.\n",
            "\n"
          ]
        }
      ]
    },
    {
      "cell_type": "markdown",
      "source": [
        "**func ()**:\\\n",
        "  \\# ***do something*** (repeatable block of code)\n",
        "\n",
        "$ **call func()**\n",
        "\n",
        "\n",
        "\n",
        "---\n",
        "\n",
        "\n",
        "\n",
        "**def \\<name_of_function>:<br>**\n",
        "  '''<br>\n",
        "    **docstring = what the function does<br>**\n",
        "  '''<br>\n",
        "&emsp; // **code**"
      ],
      "metadata": {
        "id": "nGeshG8gHvFl"
      }
    },
    {
      "cell_type": "code",
      "source": [
        "def add_num(num1,num2):\n",
        "  return num1 + num2"
      ],
      "metadata": {
        "id": "IKz38vTfHfG8"
      },
      "execution_count": null,
      "outputs": []
    },
    {
      "cell_type": "code",
      "source": [
        "add_num(10,20)"
      ],
      "metadata": {
        "colab": {
          "base_uri": "https://localhost:8080/"
        },
        "id": "s_ikImchJI3Y",
        "outputId": "1cbfb186-da12-47cf-808f-ae6b6726918d"
      },
      "execution_count": null,
      "outputs": [
        {
          "output_type": "execute_result",
          "data": {
            "text/plain": [
              "30"
            ]
          },
          "metadata": {},
          "execution_count": 5
        }
      ]
    },
    {
      "cell_type": "code",
      "source": [
        "def say_hello():\n",
        "  print(\"Hello\")"
      ],
      "metadata": {
        "id": "Z_DbMQ26JKnl"
      },
      "execution_count": null,
      "outputs": []
    },
    {
      "cell_type": "code",
      "source": [
        "say_hello()"
      ],
      "metadata": {
        "colab": {
          "base_uri": "https://localhost:8080/"
        },
        "id": "oi8OdudsJOVo",
        "outputId": "0cecdca6-c0bf-416f-b76d-5161265a18ce"
      },
      "execution_count": null,
      "outputs": [
        {
          "output_type": "stream",
          "name": "stdout",
          "text": [
            "Hello\n"
          ]
        }
      ]
    },
    {
      "cell_type": "code",
      "source": [
        "def say_hello(name):\n",
        "  print(\"Hello \"+name)"
      ],
      "metadata": {
        "id": "9TC4Tj23JP4L"
      },
      "execution_count": null,
      "outputs": []
    },
    {
      "cell_type": "code",
      "source": [
        "say_hello(\"Niladri\")"
      ],
      "metadata": {
        "colab": {
          "base_uri": "https://localhost:8080/"
        },
        "id": "OrPXZn-FJUs_",
        "outputId": "3d30135b-1b1d-49ef-c7bb-bf550f8a2539"
      },
      "execution_count": null,
      "outputs": [
        {
          "output_type": "stream",
          "name": "stdout",
          "text": [
            "Hello Niladri\n"
          ]
        }
      ]
    },
    {
      "cell_type": "code",
      "source": [
        "# using default value\n",
        "def say_hello(name = 'Default'):\n",
        "  print(\"Hello \"+name)"
      ],
      "metadata": {
        "id": "1CLtRNw9JXw-"
      },
      "execution_count": null,
      "outputs": []
    },
    {
      "cell_type": "code",
      "source": [
        "say_hello()"
      ],
      "metadata": {
        "colab": {
          "base_uri": "https://localhost:8080/"
        },
        "id": "OrxtCjfzJhuY",
        "outputId": "81444b0e-894a-4d6d-e2db-8b975690b1b7"
      },
      "execution_count": null,
      "outputs": [
        {
          "output_type": "stream",
          "name": "stdout",
          "text": [
            "Hello Default\n"
          ]
        }
      ]
    },
    {
      "cell_type": "code",
      "source": [
        "# you can store the result if return is used\n",
        "result = add_num(10,40)\n",
        "result"
      ],
      "metadata": {
        "colab": {
          "base_uri": "https://localhost:8080/"
        },
        "id": "Cst06dsMJjNi",
        "outputId": "fff04b37-bb88-4ab2-c188-a3e589ad7564"
      },
      "execution_count": null,
      "outputs": [
        {
          "output_type": "execute_result",
          "data": {
            "text/plain": [
              "50"
            ]
          },
          "metadata": {},
          "execution_count": 12
        }
      ]
    },
    {
      "cell_type": "markdown",
      "source": [
        "**Logic with Python functions**"
      ],
      "metadata": {
        "id": "nYpaw2W4J0o9"
      }
    },
    {
      "cell_type": "code",
      "source": [
        "# create a function to check if a number is even\n",
        "\n",
        "def even_check(number):\n",
        "  result = number % 2 == 0\n",
        "  return result"
      ],
      "metadata": {
        "id": "8BoF3WP6Jtq_"
      },
      "execution_count": null,
      "outputs": []
    },
    {
      "cell_type": "code",
      "source": [
        "even_check(20)"
      ],
      "metadata": {
        "colab": {
          "base_uri": "https://localhost:8080/"
        },
        "id": "fORjh-EyKJKC",
        "outputId": "7ebbafc8-431a-4117-b27a-843211190e2f"
      },
      "execution_count": null,
      "outputs": [
        {
          "output_type": "execute_result",
          "data": {
            "text/plain": [
              "True"
            ]
          },
          "metadata": {},
          "execution_count": 14
        }
      ]
    },
    {
      "cell_type": "code",
      "source": [
        "even_check(41)"
      ],
      "metadata": {
        "colab": {
          "base_uri": "https://localhost:8080/"
        },
        "id": "dxXQo4TFKKyQ",
        "outputId": "bdda263c-e78d-4fa5-c9b0-dc87d4d93110"
      },
      "execution_count": null,
      "outputs": [
        {
          "output_type": "execute_result",
          "data": {
            "text/plain": [
              "False"
            ]
          },
          "metadata": {},
          "execution_count": 15
        }
      ]
    },
    {
      "cell_type": "code",
      "source": [
        "# improvement\n",
        "def even_check(number):\n",
        "  return number % 2 == 0"
      ],
      "metadata": {
        "id": "eGNe7lnmKNyl"
      },
      "execution_count": null,
      "outputs": []
    },
    {
      "cell_type": "code",
      "source": [
        "even_check(20)"
      ],
      "metadata": {
        "colab": {
          "base_uri": "https://localhost:8080/"
        },
        "id": "XkbeEm8DKSwr",
        "outputId": "0baba37c-a49b-428a-fe7e-68819cde3b78"
      },
      "execution_count": null,
      "outputs": [
        {
          "output_type": "execute_result",
          "data": {
            "text/plain": [
              "True"
            ]
          },
          "metadata": {},
          "execution_count": 17
        }
      ]
    },
    {
      "cell_type": "code",
      "source": [
        "# Return TRUE if any number is even in a list\n",
        "\n",
        "def check_even_list(num_list):\n",
        "  for number in num_list:\n",
        "    if number % 2 == 0:\n",
        "      # breaks the loop + function also stops here\n",
        "      return True\n",
        "    else:\n",
        "      pass"
      ],
      "metadata": {
        "id": "3qSvDYbDKU8K"
      },
      "execution_count": null,
      "outputs": []
    },
    {
      "cell_type": "code",
      "source": [
        "check_even_list ([1,2,3])"
      ],
      "metadata": {
        "colab": {
          "base_uri": "https://localhost:8080/"
        },
        "id": "AKxuFGi4Kp85",
        "outputId": "d531e728-4f18-4faa-b4d8-7869e62ad073"
      },
      "execution_count": null,
      "outputs": [
        {
          "output_type": "execute_result",
          "data": {
            "text/plain": [
              "True"
            ]
          },
          "metadata": {},
          "execution_count": 19
        }
      ]
    },
    {
      "cell_type": "code",
      "source": [
        "# does not do anything\n",
        "check_even_list ([1,5,3])"
      ],
      "metadata": {
        "id": "oTHpCbDTKspX"
      },
      "execution_count": null,
      "outputs": []
    },
    {
      "cell_type": "code",
      "source": [
        "# new requirement = return False if the entire list is odd\n",
        "\n",
        "def check_even_list(num_list):\n",
        "\n",
        "  for number in num_list:\n",
        "    if number % 2 == 0:\n",
        "      return True\n",
        "\n",
        "  return False"
      ],
      "metadata": {
        "id": "5EI2aIRnKvf4"
      },
      "execution_count": null,
      "outputs": []
    },
    {
      "cell_type": "code",
      "source": [
        "# expecting False as return\n",
        "check_even_list ([1,5,3])"
      ],
      "metadata": {
        "colab": {
          "base_uri": "https://localhost:8080/"
        },
        "id": "Yf-ptm8QLIUt",
        "outputId": "61d33b59-3b19-4995-e372-a2e7215162de"
      },
      "execution_count": null,
      "outputs": [
        {
          "output_type": "execute_result",
          "data": {
            "text/plain": [
              "False"
            ]
          },
          "metadata": {},
          "execution_count": 24
        }
      ]
    },
    {
      "cell_type": "code",
      "source": [
        "# Return all even numbers in a list\n",
        "\n",
        "def check_even_list(num_list):\n",
        "\n",
        "  even_numbers = []\n",
        "\n",
        "  for number in num_list:\n",
        "    if number % 2 == 0:\n",
        "      even_numbers.append(number)\n",
        "\n",
        "  return even_numbers"
      ],
      "metadata": {
        "id": "TDRo0ifXLMEx"
      },
      "execution_count": null,
      "outputs": []
    },
    {
      "cell_type": "code",
      "source": [
        "check_even_list([1,2,3,4,5,6,10,16,24,25])"
      ],
      "metadata": {
        "colab": {
          "base_uri": "https://localhost:8080/"
        },
        "id": "Sf3d_ImZLloI",
        "outputId": "3b81b8f4-cfcd-423d-bbbf-d9fa07ffdb4d"
      },
      "execution_count": null,
      "outputs": [
        {
          "output_type": "execute_result",
          "data": {
            "text/plain": [
              "[2, 4, 6, 10, 16, 24]"
            ]
          },
          "metadata": {},
          "execution_count": 26
        }
      ]
    },
    {
      "cell_type": "markdown",
      "source": [
        "**Tuple unpacking with functions**"
      ],
      "metadata": {
        "id": "GFPcEHqSQAyk"
      }
    },
    {
      "cell_type": "code",
      "source": [
        "# Tuple unpacking with functions\n",
        "\n",
        "stock_prices = [('APPL',200),('GOOG',400),('MSFT',100)]\n",
        "\n",
        "for item in stock_prices:\n",
        "  print(item)"
      ],
      "metadata": {
        "id": "HJ9EIRy1Lx3g",
        "outputId": "8900c1a6-0685-41f6-91bc-c8699c2768a5",
        "colab": {
          "base_uri": "https://localhost:8080/"
        }
      },
      "execution_count": null,
      "outputs": [
        {
          "output_type": "stream",
          "name": "stdout",
          "text": [
            "('APPL', 200)\n",
            "('GOOG', 400)\n",
            "('MSFT', 100)\n"
          ]
        }
      ]
    },
    {
      "cell_type": "code",
      "source": [
        "# you can unpack the values\n",
        "\n",
        "for ticker,price in stock_prices:\n",
        "  print(ticker)"
      ],
      "metadata": {
        "id": "WxKdbbqRR8Mp",
        "outputId": "7671317a-9e39-418a-a479-0b50365b7a70",
        "colab": {
          "base_uri": "https://localhost:8080/"
        }
      },
      "execution_count": null,
      "outputs": [
        {
          "output_type": "stream",
          "name": "stdout",
          "text": [
            "APPL\n",
            "GOOG\n",
            "MSFT\n"
          ]
        }
      ]
    },
    {
      "cell_type": "code",
      "source": [
        "# we could modify the values and print as well\n",
        "\n",
        "for item,price in stock_prices:\n",
        "  print(price + (0.1*price))"
      ],
      "metadata": {
        "id": "QlH7xBlPSIJo",
        "outputId": "fef95fe5-9c12-435f-815d-1e08f038a2ec",
        "colab": {
          "base_uri": "https://localhost:8080/"
        }
      },
      "execution_count": null,
      "outputs": [
        {
          "output_type": "stream",
          "name": "stdout",
          "text": [
            "220.0\n",
            "440.0\n",
            "110.0\n"
          ]
        }
      ]
    },
    {
      "cell_type": "code",
      "source": [
        "# list of tuple = (employee, hours worked)\n",
        "work_hours = [('Abby',100),('Billy',400),('Cassie',800)]"
      ],
      "metadata": {
        "id": "5vE5dNy9SYyF"
      },
      "execution_count": null,
      "outputs": []
    },
    {
      "cell_type": "code",
      "source": [
        "# return a tuple that has the best employee of a month who has worked the max hours\n",
        "def employee_check(work):\n",
        "\n",
        "  current_max = 0\n",
        "  employee_of_the_month = ''\n",
        "\n",
        "  for employee, hours in work:\n",
        "    if hours > current_max:\n",
        "      current_max = hours\n",
        "      employee_of_the_month = employee\n",
        "\n",
        "  # return a tuple\n",
        "  return (employee_of_the_month,current_max)"
      ],
      "metadata": {
        "id": "S7JeBJVRSxsd"
      },
      "execution_count": null,
      "outputs": []
    },
    {
      "cell_type": "code",
      "source": [
        "# verify\n",
        "employee_check(work_hours)"
      ],
      "metadata": {
        "id": "hpT02OpQTRm1",
        "outputId": "bc7d0257-498c-4f2f-f92b-8cdaabd20af6",
        "colab": {
          "base_uri": "https://localhost:8080/"
        }
      },
      "execution_count": null,
      "outputs": [
        {
          "output_type": "execute_result",
          "data": {
            "text/plain": [
              "('Cassie', 800)"
            ]
          },
          "metadata": {},
          "execution_count": 8
        }
      ]
    },
    {
      "cell_type": "code",
      "source": [
        "# we can unpack at the function call as well\n",
        "name, hours = employee_check(work_hours)"
      ],
      "metadata": {
        "id": "ZLRca6YPTVve"
      },
      "execution_count": null,
      "outputs": []
    },
    {
      "cell_type": "code",
      "source": [
        "name"
      ],
      "metadata": {
        "id": "GW1GtPyQTb0k",
        "outputId": "443f73ca-9b1a-4183-e5cd-2c58047d1306",
        "colab": {
          "base_uri": "https://localhost:8080/",
          "height": 36
        }
      },
      "execution_count": null,
      "outputs": [
        {
          "output_type": "execute_result",
          "data": {
            "text/plain": [
              "'Cassie'"
            ],
            "application/vnd.google.colaboratory.intrinsic+json": {
              "type": "string"
            }
          },
          "metadata": {},
          "execution_count": 10
        }
      ]
    },
    {
      "cell_type": "code",
      "source": [
        "hours"
      ],
      "metadata": {
        "id": "Hz6ZfFNjTcuX",
        "outputId": "ab4f3253-e596-4667-b0dc-2a348d69701f",
        "colab": {
          "base_uri": "https://localhost:8080/"
        }
      },
      "execution_count": null,
      "outputs": [
        {
          "output_type": "execute_result",
          "data": {
            "text/plain": [
              "800"
            ]
          },
          "metadata": {},
          "execution_count": 11
        }
      ]
    },
    {
      "cell_type": "code",
      "source": [
        "# if you don't know how many values to unpack, first get the item first\n",
        "\n",
        "item = employee_check(work_hours)\n",
        "item"
      ],
      "metadata": {
        "id": "X4ijvaWpTd91",
        "outputId": "c3a65dce-6715-48bc-dc1c-39f70c776498",
        "colab": {
          "base_uri": "https://localhost:8080/"
        }
      },
      "execution_count": null,
      "outputs": [
        {
          "output_type": "execute_result",
          "data": {
            "text/plain": [
              "('Cassie', 800)"
            ]
          },
          "metadata": {},
          "execution_count": 12
        }
      ]
    },
    {
      "cell_type": "markdown",
      "source": [
        "**Interactions withing Functions**\n",
        "\n",
        "\n",
        "---\n",
        "\n",
        "We will use a carnival guessing game <br>\n",
        "\n",
        "* 3 cups are there\n",
        "* a red ball is under any cup - 1,2,3 and gets shuffled\n",
        "* player has to make a guess which cup contains the ball\n",
        "\n",
        "We will mimic the game using\n",
        "* list\n",
        "* shuffling of list\n",
        "* player has to guess\n",
        "* check if the guess is correct"
      ],
      "metadata": {
        "id": "4soQwIfEZtL0"
      }
    },
    {
      "cell_type": "code",
      "source": [
        "from random import shuffle"
      ],
      "metadata": {
        "id": "hjCwtjyyToEK"
      },
      "execution_count": null,
      "outputs": []
    },
    {
      "cell_type": "code",
      "source": [
        "# Showing the list shuffling capability\n",
        "example = [1,2,3,4,5,6]\n",
        "shuffle(example)\n",
        "example"
      ],
      "metadata": {
        "id": "oyFhlp5daVBf",
        "outputId": "079ae7bf-dcc1-4dde-e565-ad8d84d3af07",
        "colab": {
          "base_uri": "https://localhost:8080/"
        }
      },
      "execution_count": null,
      "outputs": [
        {
          "output_type": "execute_result",
          "data": {
            "text/plain": [
              "[2, 5, 4, 3, 6, 1]"
            ]
          },
          "metadata": {},
          "execution_count": 14
        }
      ]
    },
    {
      "cell_type": "code",
      "source": [
        "# every time it gets shuffled\n",
        "shuffle(example)\n",
        "example"
      ],
      "metadata": {
        "id": "7NPj0Cw4aeBS",
        "outputId": "6dc60076-03f6-4191-dd56-6fcd04de5765",
        "colab": {
          "base_uri": "https://localhost:8080/"
        }
      },
      "execution_count": null,
      "outputs": [
        {
          "output_type": "execute_result",
          "data": {
            "text/plain": [
              "[5, 6, 2, 4, 3, 1]"
            ]
          },
          "metadata": {},
          "execution_count": 16
        }
      ]
    },
    {
      "cell_type": "code",
      "source": [
        "# what is going to happen\n",
        "monte_list = [' ','O',' ']\n",
        "shuffle(monte_list)\n",
        "monte_list"
      ],
      "metadata": {
        "id": "MAeLW1nKbRg2",
        "outputId": "5bb8f052-9788-457e-f112-886faea9808f",
        "colab": {
          "base_uri": "https://localhost:8080/"
        }
      },
      "execution_count": null,
      "outputs": [
        {
          "output_type": "execute_result",
          "data": {
            "text/plain": [
              "['O', ' ', ' ']"
            ]
          },
          "metadata": {},
          "execution_count": 22
        }
      ]
    },
    {
      "cell_type": "code",
      "source": [
        "def shuffled_list(monte_list):\n",
        "  shuffle(monte_list)\n",
        "  return monte_list"
      ],
      "metadata": {
        "id": "bQ0JA-neaf35"
      },
      "execution_count": null,
      "outputs": []
    },
    {
      "cell_type": "code",
      "source": [
        "def player_guess():\n",
        "  guess = '' # initialize the variable\n",
        "\n",
        "  while guess not in ['0','1','2']:\n",
        "    guess = input(\"Pick a number 0,1 or 2 : \").strip()\n",
        "\n",
        "  return (int(guess))\n"
      ],
      "metadata": {
        "id": "JPdNBV_yavWB"
      },
      "execution_count": null,
      "outputs": []
    },
    {
      "cell_type": "code",
      "source": [
        "def check_guess(shuffled_list,guess):\n",
        "  if shuffled_list[guess] == 'O':\n",
        "    print(\"Correct!\")\n",
        "  else:\n",
        "    print(\"Wrong guess!\")\n",
        "    print(shuffled_list)"
      ],
      "metadata": {
        "id": "hILzpxjdbJna"
      },
      "execution_count": null,
      "outputs": []
    },
    {
      "cell_type": "code",
      "source": [
        "# write a script to combine everything together\n",
        "\n",
        "# INITIAL LIST\n",
        "monte_list = [' ','O',' ']\n",
        "\n",
        "# SHUFFLE THE LIST\n",
        "mixedup_list = shuffled_list(monte_list)\n",
        "\n",
        "# ASK PLAYER FOR THE GUESS\n",
        "pguess = player_guess()\n",
        "\n",
        "# CHECK THE GUESS\n",
        "check_guess(mixedup_list,pguess)"
      ],
      "metadata": {
        "id": "c6ghzxMab3Ba",
        "outputId": "b237fd2e-d26a-49c8-8fc1-79477e573b07",
        "colab": {
          "base_uri": "https://localhost:8080/"
        }
      },
      "execution_count": null,
      "outputs": [
        {
          "output_type": "stream",
          "name": "stdout",
          "text": [
            "Pick a number 0,1 or 2 : 1\n",
            "Wrong guess!\n",
            "['O', ' ', ' ']\n"
          ]
        }
      ]
    },
    {
      "cell_type": "markdown",
      "source": [
        "# args and kwargs\n",
        "\n",
        "---\n",
        "\n",
        "* args - arguments (tuple of params)\n",
        "* kwargs - keyword arguments (dictionary of params)\n",
        "\n",
        "These are used when we don't know how many params we have to deal with.\n"
      ],
      "metadata": {
        "id": "yVbtyiD3kNfy"
      }
    },
    {
      "cell_type": "code",
      "source": [
        "def myfunc(a,b):\n",
        "  # returns 5% of the sum of a + b\n",
        "  # tuple (a,b)\n",
        "  return sum((a,b)) * 0.05"
      ],
      "metadata": {
        "id": "e0PrHNkZcZC4"
      },
      "execution_count": 2,
      "outputs": []
    },
    {
      "cell_type": "code",
      "source": [
        "myfunc(10,20)"
      ],
      "metadata": {
        "id": "8JjZwFApkoiC",
        "outputId": "07199843-4889-4bdd-8ab1-ecfa2027b750",
        "colab": {
          "base_uri": "https://localhost:8080/"
        }
      },
      "execution_count": 3,
      "outputs": [
        {
          "output_type": "execute_result",
          "data": {
            "text/plain": [
              "1.5"
            ]
          },
          "metadata": {},
          "execution_count": 3
        }
      ]
    },
    {
      "cell_type": "code",
      "source": [
        "# what if we had to pass more arguments and we do not know what are they beforehand\n",
        "\n",
        "myfunc(10,20,30,40)"
      ],
      "metadata": {
        "id": "FKNJxnm_k3ou",
        "outputId": "d094f7f8-3c19-4e72-8a8c-bcefb8c0d6a4",
        "colab": {
          "base_uri": "https://localhost:8080/",
          "height": 176
        }
      },
      "execution_count": 4,
      "outputs": [
        {
          "output_type": "error",
          "ename": "TypeError",
          "evalue": "myfunc() takes 2 positional arguments but 4 were given",
          "traceback": [
            "\u001b[0;31m---------------------------------------------------------------------------\u001b[0m",
            "\u001b[0;31mTypeError\u001b[0m                                 Traceback (most recent call last)",
            "\u001b[0;32m<ipython-input-4-0365b61ae0ae>\u001b[0m in \u001b[0;36m<cell line: 3>\u001b[0;34m()\u001b[0m\n\u001b[1;32m      1\u001b[0m \u001b[0;31m# what if we had to pass more arguments and we do not know what are they beforehand\u001b[0m\u001b[0;34m\u001b[0m\u001b[0;34m\u001b[0m\u001b[0m\n\u001b[1;32m      2\u001b[0m \u001b[0;34m\u001b[0m\u001b[0m\n\u001b[0;32m----> 3\u001b[0;31m \u001b[0mmyfunc\u001b[0m\u001b[0;34m(\u001b[0m\u001b[0;36m10\u001b[0m\u001b[0;34m,\u001b[0m\u001b[0;36m20\u001b[0m\u001b[0;34m,\u001b[0m\u001b[0;36m30\u001b[0m\u001b[0;34m,\u001b[0m\u001b[0;36m40\u001b[0m\u001b[0;34m)\u001b[0m\u001b[0;34m\u001b[0m\u001b[0;34m\u001b[0m\u001b[0m\n\u001b[0m",
            "\u001b[0;31mTypeError\u001b[0m: myfunc() takes 2 positional arguments but 4 were given"
          ]
        }
      ]
    },
    {
      "cell_type": "code",
      "source": [
        "def myfunc(*args):\n",
        "  # args get converted into tuple\n",
        "  # why tuple? it cannot be altered\n",
        "  print(args)\n",
        "  return sum(args)"
      ],
      "metadata": {
        "id": "MqYbzu9YlAW_"
      },
      "execution_count": 8,
      "outputs": []
    },
    {
      "cell_type": "code",
      "source": [
        "myfunc(10,20,30,40,100)"
      ],
      "metadata": {
        "id": "w6lC88VLlIrq",
        "outputId": "6544574b-b829-4475-8a81-884ed34e46ce",
        "colab": {
          "base_uri": "https://localhost:8080/"
        }
      },
      "execution_count": 7,
      "outputs": [
        {
          "output_type": "stream",
          "name": "stdout",
          "text": [
            "(10, 20, 30, 40, 100)\n"
          ]
        },
        {
          "output_type": "execute_result",
          "data": {
            "text/plain": [
              "200"
            ]
          },
          "metadata": {},
          "execution_count": 7
        }
      ]
    },
    {
      "cell_type": "code",
      "source": [
        "# *args is a convention, but any other variable will work the same way\n",
        "def myfunc(*spam):\n",
        "  return sum(spam)"
      ],
      "metadata": {
        "id": "uqTf8p0mlS3l"
      },
      "execution_count": 9,
      "outputs": []
    },
    {
      "cell_type": "code",
      "source": [
        "myfunc(10,20,30,40,100)"
      ],
      "metadata": {
        "id": "hBQt2j9CllNb",
        "outputId": "f876121c-6bca-4863-f7f0-67e4ad009b46",
        "colab": {
          "base_uri": "https://localhost:8080/"
        }
      },
      "execution_count": 10,
      "outputs": [
        {
          "output_type": "execute_result",
          "data": {
            "text/plain": [
              "200"
            ]
          },
          "metadata": {},
          "execution_count": 10
        }
      ]
    },
    {
      "cell_type": "code",
      "source": [
        "# **kwargs use\n",
        "# converts the keyword arguments into a dictionary\n",
        "\n",
        "def myfunc(**kwargs):\n",
        "  print(kwargs)\n",
        "  if 'fruit' in kwargs:\n",
        "    print(f\"My fruit of choice is {kwargs['fruit']}\")\n",
        "  else:\n",
        "    print('No fruit')\n",
        ""
      ],
      "metadata": {
        "id": "E_iW3KXVlmPV"
      },
      "execution_count": 14,
      "outputs": []
    },
    {
      "cell_type": "code",
      "source": [
        "myfunc(fruit=\"apple\",food=\"eggs\")"
      ],
      "metadata": {
        "id": "Zdw48gWTmIbK",
        "outputId": "f532fe84-dfa7-4198-aa3a-1c750e99a325",
        "colab": {
          "base_uri": "https://localhost:8080/"
        }
      },
      "execution_count": 15,
      "outputs": [
        {
          "output_type": "stream",
          "name": "stdout",
          "text": [
            "{'fruit': 'apple', 'food': 'eggs'}\n",
            "My fruit of choice is apple\n"
          ]
        }
      ]
    },
    {
      "cell_type": "code",
      "source": [
        "# we can use args and kwargs together\n",
        "\n",
        "def myfunc(*args,**kwargs):\n",
        "  print(args)\n",
        "  print(kwargs)\n",
        "  print(f\"I would like {args[0]} {kwargs['food']}\")"
      ],
      "metadata": {
        "id": "DAM7H--XmPyC"
      },
      "execution_count": 17,
      "outputs": []
    },
    {
      "cell_type": "code",
      "source": [
        "myfunc(10,20,30,fruit = \"orange\",food = \"eggs\")"
      ],
      "metadata": {
        "id": "vhySb-clmo6j",
        "outputId": "7a4dc452-278e-4ec6-b530-e6c1f7db261c",
        "colab": {
          "base_uri": "https://localhost:8080/"
        }
      },
      "execution_count": 18,
      "outputs": [
        {
          "output_type": "stream",
          "name": "stdout",
          "text": [
            "(10, 20, 30)\n",
            "{'fruit': 'orange', 'food': 'eggs'}\n",
            "I would like 10 eggs\n"
          ]
        }
      ]
    },
    {
      "cell_type": "markdown",
      "source": [
        "**Note - the order of args and kwargs is important**\n"
      ],
      "metadata": {
        "id": "zH7mos-Wm4UQ"
      }
    },
    {
      "cell_type": "markdown",
      "source": [
        "## Coding exercise 1\n",
        "\n",
        "\n",
        "---\n",
        "\n",
        "Define a function called myfunc that takes in an arbitrary number of arguments, and returns the sum of those arguments.<br>\n",
        "\n",
        "Remember, don't run the function, simply provide the definition.<br>\n",
        "\n",
        "For example, a function that returns a count of the number of arbitrary arguments might look like:<br><br>\n",
        "\n",
        "def myfunc(*args):<br>\n",
        "&emsp;return len(args)<br>\n",
        "This is all you need to enter!<br><br>\n",
        "\n",
        "To give an idea what the above function would look like when tested:<br><br>\n",
        "\n",
        "myfunc(5,6,7,8)<br>\n",
        "Output = 4 <br><br>\n",
        "Added note: this exercise requires that the function return the sum. Print statements will not work here."
      ],
      "metadata": {
        "id": "5VrUfJKGncwZ"
      }
    },
    {
      "cell_type": "code",
      "source": [
        "# coding exercise 1\n",
        "\n",
        "def myfunc(*args):\n",
        "  return sum(args)"
      ],
      "metadata": {
        "id": "CWCysw2jmzzT"
      },
      "execution_count": 19,
      "outputs": []
    },
    {
      "cell_type": "code",
      "source": [
        "myfunc(10,20,30,40)"
      ],
      "metadata": {
        "id": "O69Ue-gjnTKl",
        "outputId": "eeae4b08-2378-486f-ba53-001f53387882",
        "colab": {
          "base_uri": "https://localhost:8080/"
        }
      },
      "execution_count": 20,
      "outputs": [
        {
          "output_type": "execute_result",
          "data": {
            "text/plain": [
              "100"
            ]
          },
          "metadata": {},
          "execution_count": 20
        }
      ]
    },
    {
      "cell_type": "code",
      "source": [],
      "metadata": {
        "id": "-0xxFoyKoWaI"
      },
      "execution_count": null,
      "outputs": []
    },
    {
      "cell_type": "markdown",
      "source": [
        "## Coding exercise 2\n",
        "\n",
        "\n",
        "---\n",
        "\n",
        "Functions #9: pick evens\n",
        "Define a function called myfunc that takes in an arbitrary number of arguments, and returns a list containing only those arguments that are even.\n",
        "\n",
        "Remember, don't run the function, simply provide the definition.\n",
        "\n",
        "To give an idea what the function would look like when tested:\n",
        "\n",
        "myfunc(5,6,7,8)\n",
        "Output: [6, 8]\n",
        "Added note: this exercise requires that the function return a list. Print statements will not work here.\n"
      ],
      "metadata": {
        "id": "HR3jLrpXoZbJ"
      }
    },
    {
      "cell_type": "code",
      "source": [
        "def myfunc(*args):\n",
        "  even_list = []\n",
        "  # print(args)\n",
        "  for item in args:\n",
        "    if isinstance(item, int): # check if item is an int\n",
        "      if item % 2 == 0: # check if it is even or not\n",
        "        even_list.append(item)\n",
        "    elif isinstance(item, str) and item.isdigit(): # item is a string but can be converted into integer\n",
        "      if int(item) % 2 == 0:\n",
        "        even_list.append(int(item))\n",
        "    else:\n",
        "      pass\n",
        "  return even_list"
      ],
      "metadata": {
        "id": "5_uUvbFSoe5A"
      },
      "execution_count": 41,
      "outputs": []
    },
    {
      "cell_type": "code",
      "source": [
        "myfunc(10,20,'item','Niladri','2',3,'4',5,7,9,13)"
      ],
      "metadata": {
        "id": "LnanCWDKphZs",
        "outputId": "9e7effbd-0c0b-48e9-a10b-47b7dc7f5bfb",
        "colab": {
          "base_uri": "https://localhost:8080/"
        }
      },
      "execution_count": 42,
      "outputs": [
        {
          "output_type": "execute_result",
          "data": {
            "text/plain": [
              "[10, 20, 2, 4]"
            ]
          },
          "metadata": {},
          "execution_count": 42
        }
      ]
    },
    {
      "cell_type": "code",
      "source": [],
      "metadata": {
        "id": "MzmUChzotL5-"
      },
      "execution_count": null,
      "outputs": []
    },
    {
      "cell_type": "markdown",
      "source": [
        "## Coding exercise 3\n",
        "\n",
        "---\n",
        "\n",
        "**Requirements**\n",
        "\n",
        "1. **Define a function myfunc()**\n",
        "2. **Input**\n",
        "  * string\n",
        "3. **Output**\n",
        "  * matching string where every even letter is uppercase\n",
        "  * every odd letter is lowercase\n",
        "4. **Assumptions**\n",
        "  * incoming string only contains letters - no numbers, spaces or punctuation\n",
        "\n",
        "5. **Example**\n",
        "  * myfunc('Anthropomorphism') \\\n",
        "Output: 'AnThRoPoMoRpHiSm'\n",
        "\n",
        "\n"
      ],
      "metadata": {
        "id": "H1dd1o11tE-q"
      }
    },
    {
      "cell_type": "code",
      "source": [
        "def myfunc(word):\n",
        "  revised_word = ''\n",
        "  for index,letter in enumerate(word):\n",
        "    if index % 2 == 0: # position is even\n",
        "      revised_word = revised_word + letter.upper()\n",
        "    else: # position is odd\n",
        "      revised_word = revised_word + letter.lower()\n",
        "\n",
        "  return revised_word"
      ],
      "metadata": {
        "id": "itpThKUrpwUl"
      },
      "execution_count": 48,
      "outputs": []
    },
    {
      "cell_type": "code",
      "source": [
        "myfunc('Anthropomorphism')"
      ],
      "metadata": {
        "id": "snX89ARWxo9T",
        "outputId": "d131d365-15d3-40a8-890a-a5e25390b296",
        "colab": {
          "base_uri": "https://localhost:8080/",
          "height": 36
        }
      },
      "execution_count": 49,
      "outputs": [
        {
          "output_type": "execute_result",
          "data": {
            "text/plain": [
              "'AnThRoPoMoRpHiSm'"
            ],
            "application/vnd.google.colaboratory.intrinsic+json": {
              "type": "string"
            }
          },
          "metadata": {},
          "execution_count": 49
        }
      ]
    },
    {
      "cell_type": "code",
      "source": [],
      "metadata": {
        "id": "rEtALXY4yAng"
      },
      "execution_count": null,
      "outputs": []
    },
    {
      "cell_type": "markdown",
      "source": [],
      "metadata": {
        "id": "oxwqKQ6-ypze"
      }
    },
    {
      "cell_type": "code",
      "source": [],
      "metadata": {
        "id": "MG6DvElmysox"
      },
      "execution_count": null,
      "outputs": []
    }
  ]
}