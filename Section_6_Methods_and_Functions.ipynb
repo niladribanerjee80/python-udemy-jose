{
  "nbformat": 4,
  "nbformat_minor": 0,
  "metadata": {
    "colab": {
      "provenance": [],
      "authorship_tag": "ABX9TyMdjvXTrKOKVJJ7PO0Arqmx",
      "include_colab_link": true
    },
    "kernelspec": {
      "name": "python3",
      "display_name": "Python 3"
    },
    "language_info": {
      "name": "python"
    }
  },
  "cells": [
    {
      "cell_type": "markdown",
      "metadata": {
        "id": "view-in-github",
        "colab_type": "text"
      },
      "source": [
        "<a href=\"https://colab.research.google.com/github/niladribanerjee80/python-udemy-jose/blob/main/Section_6_Methods_and_Functions.ipynb\" target=\"_parent\"><img src=\"https://colab.research.google.com/assets/colab-badge.svg\" alt=\"Open In Colab\"/></a>"
      ]
    },
    {
      "cell_type": "markdown",
      "source": [
        "# **Functions**\n",
        "\n",
        "\n",
        "---\n",
        "\n",
        "Built-in objects\n",
        "* numbers\n",
        "* strings\n",
        "* list\n",
        "* tuple\n",
        "* dict\n",
        "* set \\\n",
        "etc. \\\n",
        "have all built-in functions.\n",
        "\n"
      ],
      "metadata": {
        "id": "62QvOsVeG5Dq"
      }
    },
    {
      "cell_type": "code",
      "execution_count": 1,
      "metadata": {
        "id": "GG1MlF4s3B_Y",
        "colab": {
          "base_uri": "https://localhost:8080/"
        },
        "outputId": "cfc681af-22a1-46b3-db1f-4f99e1a35726"
      },
      "outputs": [
        {
          "output_type": "execute_result",
          "data": {
            "text/plain": [
              "[1, 2, 3, 4]"
            ]
          },
          "metadata": {},
          "execution_count": 1
        }
      ],
      "source": [
        "# list\n",
        "\n",
        "mylist = [1,2,3]\n",
        "mylist.append(4)\n",
        "mylist"
      ]
    },
    {
      "cell_type": "code",
      "source": [
        "mylist.pop()"
      ],
      "metadata": {
        "colab": {
          "base_uri": "https://localhost:8080/"
        },
        "id": "8eZu9ZDsHS2S",
        "outputId": "cbe8f1b2-adaf-4921-98e1-989310e7b31b"
      },
      "execution_count": 2,
      "outputs": [
        {
          "output_type": "execute_result",
          "data": {
            "text/plain": [
              "4"
            ]
          },
          "metadata": {},
          "execution_count": 2
        }
      ]
    },
    {
      "cell_type": "code",
      "source": [
        "help(mylist.insert)"
      ],
      "metadata": {
        "colab": {
          "base_uri": "https://localhost:8080/"
        },
        "id": "szJIWQhtHZ35",
        "outputId": "a8cc5591-2d8a-46bf-dcaf-73c31c5bb433"
      },
      "execution_count": 3,
      "outputs": [
        {
          "output_type": "stream",
          "name": "stdout",
          "text": [
            "Help on built-in function insert:\n",
            "\n",
            "insert(index, object, /) method of builtins.list instance\n",
            "    Insert object before index.\n",
            "\n"
          ]
        }
      ]
    },
    {
      "cell_type": "markdown",
      "source": [
        "**func ()**:\\\n",
        "  \\# ***do something*** (repeatable block of code)\n",
        "\n",
        "$ **call func()**\n",
        "\n",
        "\n",
        "\n",
        "---\n",
        "\n",
        "\n",
        "\n",
        "**def \\<name_of_function>:<br>**\n",
        "  '''<br>\n",
        "    **docstring = what the function does<br>**\n",
        "  '''<br>\n",
        "&emsp; // **code**"
      ],
      "metadata": {
        "id": "nGeshG8gHvFl"
      }
    },
    {
      "cell_type": "code",
      "source": [
        "def add_num(num1,num2):\n",
        "  return num1 + num2"
      ],
      "metadata": {
        "id": "IKz38vTfHfG8"
      },
      "execution_count": 4,
      "outputs": []
    },
    {
      "cell_type": "code",
      "source": [
        "add_num(10,20)"
      ],
      "metadata": {
        "colab": {
          "base_uri": "https://localhost:8080/"
        },
        "id": "s_ikImchJI3Y",
        "outputId": "1cbfb186-da12-47cf-808f-ae6b6726918d"
      },
      "execution_count": 5,
      "outputs": [
        {
          "output_type": "execute_result",
          "data": {
            "text/plain": [
              "30"
            ]
          },
          "metadata": {},
          "execution_count": 5
        }
      ]
    },
    {
      "cell_type": "code",
      "source": [
        "def say_hello():\n",
        "  print(\"Hello\")"
      ],
      "metadata": {
        "id": "Z_DbMQ26JKnl"
      },
      "execution_count": 6,
      "outputs": []
    },
    {
      "cell_type": "code",
      "source": [
        "say_hello()"
      ],
      "metadata": {
        "colab": {
          "base_uri": "https://localhost:8080/"
        },
        "id": "oi8OdudsJOVo",
        "outputId": "0cecdca6-c0bf-416f-b76d-5161265a18ce"
      },
      "execution_count": 7,
      "outputs": [
        {
          "output_type": "stream",
          "name": "stdout",
          "text": [
            "Hello\n"
          ]
        }
      ]
    },
    {
      "cell_type": "code",
      "source": [
        "def say_hello(name):\n",
        "  print(\"Hello \"+name)"
      ],
      "metadata": {
        "id": "9TC4Tj23JP4L"
      },
      "execution_count": 8,
      "outputs": []
    },
    {
      "cell_type": "code",
      "source": [
        "say_hello(\"Niladri\")"
      ],
      "metadata": {
        "colab": {
          "base_uri": "https://localhost:8080/"
        },
        "id": "OrPXZn-FJUs_",
        "outputId": "3d30135b-1b1d-49ef-c7bb-bf550f8a2539"
      },
      "execution_count": 9,
      "outputs": [
        {
          "output_type": "stream",
          "name": "stdout",
          "text": [
            "Hello Niladri\n"
          ]
        }
      ]
    },
    {
      "cell_type": "code",
      "source": [
        "# using default value\n",
        "def say_hello(name = 'Default'):\n",
        "  print(\"Hello \"+name)"
      ],
      "metadata": {
        "id": "1CLtRNw9JXw-"
      },
      "execution_count": 10,
      "outputs": []
    },
    {
      "cell_type": "code",
      "source": [
        "say_hello()"
      ],
      "metadata": {
        "colab": {
          "base_uri": "https://localhost:8080/"
        },
        "id": "OrxtCjfzJhuY",
        "outputId": "81444b0e-894a-4d6d-e2db-8b975690b1b7"
      },
      "execution_count": 11,
      "outputs": [
        {
          "output_type": "stream",
          "name": "stdout",
          "text": [
            "Hello Default\n"
          ]
        }
      ]
    },
    {
      "cell_type": "code",
      "source": [
        "# you can store the result if return is used\n",
        "result = add_num(10,40)\n",
        "result"
      ],
      "metadata": {
        "colab": {
          "base_uri": "https://localhost:8080/"
        },
        "id": "Cst06dsMJjNi",
        "outputId": "fff04b37-bb88-4ab2-c188-a3e589ad7564"
      },
      "execution_count": 12,
      "outputs": [
        {
          "output_type": "execute_result",
          "data": {
            "text/plain": [
              "50"
            ]
          },
          "metadata": {},
          "execution_count": 12
        }
      ]
    },
    {
      "cell_type": "markdown",
      "source": [
        "**Logic with Python functions**"
      ],
      "metadata": {
        "id": "nYpaw2W4J0o9"
      }
    },
    {
      "cell_type": "code",
      "source": [
        "# create a function to check if a number is even\n",
        "\n",
        "def even_check(number):\n",
        "  result = number % 2 == 0\n",
        "  return result"
      ],
      "metadata": {
        "id": "8BoF3WP6Jtq_"
      },
      "execution_count": 13,
      "outputs": []
    },
    {
      "cell_type": "code",
      "source": [
        "even_check(20)"
      ],
      "metadata": {
        "colab": {
          "base_uri": "https://localhost:8080/"
        },
        "id": "fORjh-EyKJKC",
        "outputId": "7ebbafc8-431a-4117-b27a-843211190e2f"
      },
      "execution_count": 14,
      "outputs": [
        {
          "output_type": "execute_result",
          "data": {
            "text/plain": [
              "True"
            ]
          },
          "metadata": {},
          "execution_count": 14
        }
      ]
    },
    {
      "cell_type": "code",
      "source": [
        "even_check(41)"
      ],
      "metadata": {
        "colab": {
          "base_uri": "https://localhost:8080/"
        },
        "id": "dxXQo4TFKKyQ",
        "outputId": "bdda263c-e78d-4fa5-c9b0-dc87d4d93110"
      },
      "execution_count": 15,
      "outputs": [
        {
          "output_type": "execute_result",
          "data": {
            "text/plain": [
              "False"
            ]
          },
          "metadata": {},
          "execution_count": 15
        }
      ]
    },
    {
      "cell_type": "code",
      "source": [
        "# improvement\n",
        "def even_check(number):\n",
        "  return number % 2 == 0"
      ],
      "metadata": {
        "id": "eGNe7lnmKNyl"
      },
      "execution_count": 16,
      "outputs": []
    },
    {
      "cell_type": "code",
      "source": [
        "even_check(20)"
      ],
      "metadata": {
        "colab": {
          "base_uri": "https://localhost:8080/"
        },
        "id": "XkbeEm8DKSwr",
        "outputId": "0baba37c-a49b-428a-fe7e-68819cde3b78"
      },
      "execution_count": 17,
      "outputs": [
        {
          "output_type": "execute_result",
          "data": {
            "text/plain": [
              "True"
            ]
          },
          "metadata": {},
          "execution_count": 17
        }
      ]
    },
    {
      "cell_type": "code",
      "source": [
        "# Return TRUE if any number is even in a list\n",
        "\n",
        "def check_even_list(num_list):\n",
        "  for number in num_list:\n",
        "    if number % 2 == 0:\n",
        "      # breaks the loop + function also stops here\n",
        "      return True\n",
        "    else:\n",
        "      pass"
      ],
      "metadata": {
        "id": "3qSvDYbDKU8K"
      },
      "execution_count": 21,
      "outputs": []
    },
    {
      "cell_type": "code",
      "source": [
        "check_even_list ([1,2,3])"
      ],
      "metadata": {
        "colab": {
          "base_uri": "https://localhost:8080/"
        },
        "id": "AKxuFGi4Kp85",
        "outputId": "d531e728-4f18-4faa-b4d8-7869e62ad073"
      },
      "execution_count": 19,
      "outputs": [
        {
          "output_type": "execute_result",
          "data": {
            "text/plain": [
              "True"
            ]
          },
          "metadata": {},
          "execution_count": 19
        }
      ]
    },
    {
      "cell_type": "code",
      "source": [
        "# does not do anything\n",
        "check_even_list ([1,5,3])"
      ],
      "metadata": {
        "id": "oTHpCbDTKspX"
      },
      "execution_count": 22,
      "outputs": []
    },
    {
      "cell_type": "code",
      "source": [
        "# new requirement = return False if the entire list is odd\n",
        "\n",
        "def check_even_list(num_list):\n",
        "\n",
        "  for number in num_list:\n",
        "    if number % 2 == 0:\n",
        "      return True\n",
        "\n",
        "  return False"
      ],
      "metadata": {
        "id": "5EI2aIRnKvf4"
      },
      "execution_count": 23,
      "outputs": []
    },
    {
      "cell_type": "code",
      "source": [
        "# expecting False as return\n",
        "check_even_list ([1,5,3])"
      ],
      "metadata": {
        "colab": {
          "base_uri": "https://localhost:8080/"
        },
        "id": "Yf-ptm8QLIUt",
        "outputId": "61d33b59-3b19-4995-e372-a2e7215162de"
      },
      "execution_count": 24,
      "outputs": [
        {
          "output_type": "execute_result",
          "data": {
            "text/plain": [
              "False"
            ]
          },
          "metadata": {},
          "execution_count": 24
        }
      ]
    },
    {
      "cell_type": "code",
      "source": [
        "# Return all even numbers in a list\n",
        "\n",
        "def check_even_list(num_list):\n",
        "\n",
        "  even_numbers = []\n",
        "\n",
        "  for number in num_list:\n",
        "    if number % 2 == 0:\n",
        "      even_numbers.append(number)\n",
        "\n",
        "  return even_numbers"
      ],
      "metadata": {
        "id": "TDRo0ifXLMEx"
      },
      "execution_count": 25,
      "outputs": []
    },
    {
      "cell_type": "code",
      "source": [
        "check_even_list([1,2,3,4,5,6,10,16,24,25])"
      ],
      "metadata": {
        "colab": {
          "base_uri": "https://localhost:8080/"
        },
        "id": "Sf3d_ImZLloI",
        "outputId": "3b81b8f4-cfcd-423d-bbbf-d9fa07ffdb4d"
      },
      "execution_count": 26,
      "outputs": [
        {
          "output_type": "execute_result",
          "data": {
            "text/plain": [
              "[2, 4, 6, 10, 16, 24]"
            ]
          },
          "metadata": {},
          "execution_count": 26
        }
      ]
    },
    {
      "cell_type": "code",
      "source": [],
      "metadata": {
        "id": "HJ9EIRy1Lx3g"
      },
      "execution_count": null,
      "outputs": []
    }
  ]
}